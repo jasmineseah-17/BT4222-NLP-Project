{
 "cells": [
  {
   "cell_type": "markdown",
   "metadata": {},
   "source": [
    "## Requires the zipping of Data_10K folder first into Data_10K.zip"
   ]
  },
  {
   "cell_type": "code",
   "execution_count": 1,
   "metadata": {},
   "outputs": [],
   "source": [
    "import gzip\n",
    "from io import StringIO\n",
    "import glob\n",
    "import pandas as pd\n",
    "import numpy as np\n",
    "from bs4 import BeautifulSoup, NavigableString\n",
    "from tqdm import tqdm\n",
    "from zipfile import ZipFile\n",
    "import unicodedata\n",
    "import re\n",
    "import os\n",
    "import shutil"
   ]
  },
  {
   "cell_type": "code",
   "execution_count": 2,
   "metadata": {},
   "outputs": [],
   "source": [
    "def get_zipped_filenames(file_name):\n",
    "    files = []\n",
    "    with ZipFile(file_name, \"r\") as zip:\n",
    "        count = 0\n",
    "        for info in zip.infolist():\n",
    "            name = info.filename\n",
    "            parts = name.split(\"/\")\n",
    "            if len(parts) == 3 and parts[-1] != \"\":\n",
    "                year = parts[1]\n",
    "                cik = parts[2].split(\"_\")[0]\n",
    "                unique_key = parts[2].split(\"_\")[1]\n",
    "                files.append([year, cik, unique_key, name])\n",
    "    return files\n",
    "\n",
    "def get_zipped_file(path):\n",
    "    with ZipFile(\"../../Raw Data/Data_10K.zip\", \"r\") as zipped_file:\n",
    "        zipped_file.extract(path)\n",
    "        html = open(path).read()\n",
    "        soup = BeautifulSoup(html)\n",
    "        text = soup.get_text(\" \")\n",
    "        text = unicodedata.normalize(\"NFKD\", text)\n",
    "        text = text.replace(\"\\t\", \" \")\n",
    "        text = text.replace(\"/\", \" \")\n",
    "        text = \"\".join([i if ord(i) < 128 else \"\" for i in text])\n",
    "        text = \" \".join(text.split())\n",
    "        print(text)"
   ]
  },
  {
   "cell_type": "code",
   "execution_count": 3,
   "metadata": {
    "scrolled": true
   },
   "outputs": [
    {
     "name": "stderr",
     "output_type": "stream",
     "text": [
      "\r",
      "  0%|                                                                                          | 0/328 [00:00<?, ?it/s]"
     ]
    },
    {
     "name": "stdout",
     "output_type": "stream",
     "text": [
      "../../Processed Data/10K10Q/Data_10K/item7a_18230_2017-02-15.txt already exists\n",
      "../../Processed Data/10K10Q/Data_10K/item7a_18230_2010-02-19.txt already exists\n",
      "../../Processed Data/10K10Q/Data_10K/item7a_18230_2018-02-15.txt already exists\n",
      "../../Processed Data/10K10Q/Data_10K/item7a_18230_2016-02-16.txt already exists\n",
      "../../Processed Data/10K10Q/Data_10K/item7a_18230_2015-02-17.txt already exists\n",
      "../../Processed Data/10K10Q/Data_10K/item7a_18230_2013-02-19.txt already exists\n",
      "../../Processed Data/10K10Q/Data_10K/item7a_18230_2011-02-22.txt already exists\n",
      "../../Processed Data/10K10Q/Data_10K/item7a_18230_2012-02-21.txt already exists\n",
      "../../Processed Data/10K10Q/Data_10K/item7a_18230_2019-02-14.txt already exists\n",
      "../../Processed Data/10K10Q/Data_10K/item7a_18230_2014-02-18.txt already exists\n",
      "../../Processed Data/10K10Q/Data_10K/item7a_886982_2018-02-26.txt already exists\n",
      "../../Processed Data/10K10Q/Data_10K/item7a_886982_2014-02-28.txt already exists\n",
      "../../Processed Data/10K10Q/Data_10K/item7a_886982_2016-02-22.txt already exists\n",
      "../../Processed Data/10K10Q/Data_10K/item7a_886982_2017-02-27.txt already exists\n"
     ]
    },
    {
     "name": "stderr",
     "output_type": "stream",
     "text": [
      "\r",
      " 15%|███████████▉                                                                    | 49/328 [00:00<00:00, 475.26it/s]"
     ]
    },
    {
     "name": "stdout",
     "output_type": "stream",
     "text": [
      "../../Processed Data/10K10Q/Data_10K/item7a_886982_2010-03-01.txt already exists\n",
      "../../Processed Data/10K10Q/Data_10K/item7a_886982_2013-03-01.txt already exists\n",
      "../../Processed Data/10K10Q/Data_10K/item7a_886982_2019-02-26.txt already exists\n",
      "../../Processed Data/10K10Q/Data_10K/item7a_886982_2012-02-28.txt already exists\n",
      "../../Processed Data/10K10Q/Data_10K/item7a_886982_2015-02-23.txt already exists\n",
      "../../Processed Data/10K10Q/Data_10K/item7a_886982_2011-03-01.txt already exists\n",
      "../../Processed Data/10K10Q/Data_10K/item7a_320193_2016-10-26.txt already exists\n",
      "../../Processed Data/10K10Q/Data_10K/item7a_320193_2013-10-30.txt already exists\n",
      "../../Processed Data/10K10Q/Data_10K/item7a_320193_2015-10-28.txt already exists\n",
      "../../Processed Data/10K10Q/Data_10K/item7a_320193_2018-11-05.txt already exists\n",
      "../../Processed Data/10K10Q/Data_10K/item7a_320193_2017-11-03.txt already exists\n",
      "../../Processed Data/10K10Q/Data_10K/item7a_320193_2014-10-27.txt already exists\n",
      "../../Processed Data/10K10Q/Data_10K/item7a_320193_2011-10-26.txt already exists\n",
      "../../Processed Data/10K10Q/Data_10K/item7a_320193_2019-10-31.txt already exists\n",
      "../../Processed Data/10K10Q/Data_10K/item7a_320193_2012-10-31.txt already exists\n",
      "../../Processed Data/10K10Q/Data_10K/item7a_320193_2010-10-27.txt already exists\n",
      "../../Processed Data/10K10Q/Data_10K/item7a_310158_2016-02-26.txt already exists\n",
      "../../Processed Data/10K10Q/Data_10K/item7a_310158_2012-02-28.txt already exists\n",
      "../../Processed Data/10K10Q/Data_10K/item7a_310158_2017-02-28.txt already exists\n"
     ]
    },
    {
     "name": "stderr",
     "output_type": "stream",
     "text": [
      "\r",
      " 21%|████████████████▌                                                               | 68/328 [00:00<00:00, 326.82it/s]"
     ]
    },
    {
     "name": "stdout",
     "output_type": "stream",
     "text": [
      "../../Processed Data/10K10Q/Data_10K/item7a_310158_2014-02-27.txt already exists\n",
      "../../Processed Data/10K10Q/Data_10K/item7a_310158_2019-02-27.txt already exists\n",
      "../../Processed Data/10K10Q/Data_10K/item7a_310158_2010-03-01.txt already exists\n",
      "../../Processed Data/10K10Q/Data_10K/item7a_310158_2011-02-28.txt already exists\n",
      "../../Processed Data/10K10Q/Data_10K/item7a_310158_2015-02-27.txt already exists\n",
      "../../Processed Data/10K10Q/Data_10K/item7a_310158_2018-02-27.txt already exists\n",
      "../../Processed Data/10K10Q/Data_10K/item7a_310158_2013-02-28.txt already exists\n",
      "../../Processed Data/10K10Q/Data_10K/item7a_731766_2011-02-10.txt already exists\n",
      "../../Processed Data/10K10Q/Data_10K/item7a_731766_2017-02-08.txt already exists\n",
      "../../Processed Data/10K10Q/Data_10K/item7a_731766_2012-02-09.txt already exists\n",
      "../../Processed Data/10K10Q/Data_10K/item7a_731766_2020-02-14.txt already exists\n",
      "../../Processed Data/10K10Q/Data_10K/item7a_731766_2013-02-07.txt already exists\n",
      "../../Processed Data/10K10Q/Data_10K/item7a_731766_2018-02-13.txt already exists\n",
      "../../Processed Data/10K10Q/Data_10K/item7a_731766_2015-02-10.txt already exists\n",
      "../../Processed Data/10K10Q/Data_10K/item7a_731766_2016-02-09.txt already exists\n",
      "../../Processed Data/10K10Q/Data_10K/item7a_731766_2010-02-10.txt already exists\n",
      "../../Processed Data/10K10Q/Data_10K/item7a_731766_2019-02-12.txt already exists\n"
     ]
    },
    {
     "name": "stderr",
     "output_type": "stream",
     "text": [
      "\r",
      " 26%|████████████████████▋                                                           | 85/328 [00:00<00:00, 254.35it/s]"
     ]
    },
    {
     "name": "stdout",
     "output_type": "stream",
     "text": [
      "../../Processed Data/10K10Q/Data_10K/item7a_731766_2014-02-12.txt already exists\n",
      "../../Processed Data/10K10Q/Data_10K/item7a_732712_2013-02-26.txt already exists\n",
      "../../Processed Data/10K10Q/Data_10K/item7a_732712_2014-02-27.txt already exists\n",
      "../../Processed Data/10K10Q/Data_10K/item7a_732712_2015-02-23.txt already exists\n",
      "../../Processed Data/10K10Q/Data_10K/item7a_732712_2012-02-24.txt already exists\n",
      "../../Processed Data/10K10Q/Data_10K/item7a_732712_2018-02-23.txt already exists\n",
      "../../Processed Data/10K10Q/Data_10K/item7a_732712_2016-02-23.txt already exists\n",
      "../../Processed Data/10K10Q/Data_10K/item7a_732712_2011-02-28.txt already exists\n",
      "../../Processed Data/10K10Q/Data_10K/item7a_732712_2019-02-15.txt already exists\n",
      "../../Processed Data/10K10Q/Data_10K/item7a_732712_2017-02-21.txt already exists\n",
      "../../Processed Data/10K10Q/Data_10K/item7a_732712_2010-02-26.txt already exists\n",
      "../../Processed Data/10K10Q/Data_10K/item7a_86312_2015-02-12.txt already exists\n",
      "../../Processed Data/10K10Q/Data_10K/item7a_86312_2016-02-11.txt already exists\n",
      "../../Processed Data/10K10Q/Data_10K/item7a_86312_2011-02-17.txt already exists\n",
      "../../Processed Data/10K10Q/Data_10K/item7a_86312_2010-02-18.txt already exists\n",
      "../../Processed Data/10K10Q/Data_10K/item7a_86312_2020-02-13.txt already exists\n"
     ]
    },
    {
     "name": "stderr",
     "output_type": "stream",
     "text": [
      "\r",
      " 31%|████████████████████████▎                                                      | 101/328 [00:00<00:01, 212.14it/s]"
     ]
    },
    {
     "name": "stdout",
     "output_type": "stream",
     "text": [
      "../../Processed Data/10K10Q/Data_10K/item7a_86312_2018-02-15.txt already exists\n",
      "../../Processed Data/10K10Q/Data_10K/item7a_86312_2014-02-13.txt already exists\n",
      "../../Processed Data/10K10Q/Data_10K/item7a_86312_2013-02-19.txt already exists\n",
      "../../Processed Data/10K10Q/Data_10K/item7a_86312_2017-02-16.txt already exists\n",
      "../../Processed Data/10K10Q/Data_10K/item7a_86312_2019-02-14.txt already exists\n",
      "../../Processed Data/10K10Q/Data_10K/item7a_86312_2012-02-16.txt already exists\n",
      "../../Processed Data/10K10Q/Data_10K/item7a_78003_2017-02-23.txt already exists\n",
      "../../Processed Data/10K10Q/Data_10K/item7a_78003_2018-02-22.txt already exists\n",
      "../../Processed Data/10K10Q/Data_10K/item7a_78003_2012-02-28.txt already exists\n",
      "../../Processed Data/10K10Q/Data_10K/item7a_78003_2011-02-28.txt already exists\n",
      "../../Processed Data/10K10Q/Data_10K/item7a_78003_2019-02-28.txt already exists\n",
      "../../Processed Data/10K10Q/Data_10K/item7a_78003_2014-02-28.txt already exists\n",
      "../../Processed Data/10K10Q/Data_10K/item7a_78003_2016-02-29.txt already exists\n",
      "../../Processed Data/10K10Q/Data_10K/item7a_78003_2013-02-28.txt already exists\n",
      "../../Processed Data/10K10Q/Data_10K/item7a_78003_2015-02-27.txt already exists\n",
      "../../Processed Data/10K10Q/Data_10K/item7a_78003_2010-02-26.txt already exists\n"
     ]
    },
    {
     "name": "stderr",
     "output_type": "stream",
     "text": [
      "\r",
      " 36%|████████████████████████████▏                                                  | 117/328 [00:00<00:01, 174.51it/s]"
     ]
    },
    {
     "name": "stdout",
     "output_type": "stream",
     "text": [
      "../../Processed Data/10K10Q/Data_10K/item7a_51143_2016-02-23.txt already exists\n",
      "../../Processed Data/10K10Q/Data_10K/item7a_51143_2014-02-25.txt already exists\n",
      "../../Processed Data/10K10Q/Data_10K/item7a_51143_2018-02-27.txt already exists\n",
      "../../Processed Data/10K10Q/Data_10K/item7a_51143_2011-02-22.txt already exists\n",
      "../../Processed Data/10K10Q/Data_10K/item7a_51143_2015-02-24.txt already exists\n",
      "../../Processed Data/10K10Q/Data_10K/item7a_51143_2013-02-26.txt already exists\n",
      "../../Processed Data/10K10Q/Data_10K/item7a_51143_2012-02-28.txt already exists\n",
      "../../Processed Data/10K10Q/Data_10K/item7a_51143_2019-02-26.txt already exists\n",
      "../../Processed Data/10K10Q/Data_10K/item7a_51143_2010-02-23.txt already exists\n",
      "../../Processed Data/10K10Q/Data_10K/item7a_51143_2017-02-28.txt already exists\n",
      "../../Processed Data/10K10Q/Data_10K/item7a_789019_2013-07-30.txt already exists\n",
      "../../Processed Data/10K10Q/Data_10K/item7a_789019_2014-07-31.txt already exists\n",
      "../../Processed Data/10K10Q/Data_10K/item7a_789019_2011-07-28.txt already exists\n",
      "../../Processed Data/10K10Q/Data_10K/item7a_789019_2019-08-01.txt already exists\n",
      "../../Processed Data/10K10Q/Data_10K/item7a_789019_2012-07-26.txt already exists\n"
     ]
    },
    {
     "name": "stderr",
     "output_type": "stream",
     "text": [
      "\r",
      " 40%|███████████████████████████████▊                                               | 132/328 [00:00<00:01, 165.87it/s]"
     ]
    },
    {
     "name": "stdout",
     "output_type": "stream",
     "text": [
      "../../Processed Data/10K10Q/Data_10K/item7a_789019_2017-08-02.txt already exists\n",
      "../../Processed Data/10K10Q/Data_10K/item7a_789019_2018-08-03.txt already exists\n",
      "../../Processed Data/10K10Q/Data_10K/item7a_789019_2015-07-31.txt already exists\n",
      "../../Processed Data/10K10Q/Data_10K/item7a_789019_2016-07-28.txt already exists\n",
      "../../Processed Data/10K10Q/Data_10K/item7a_789019_2010-07-30.txt already exists\n",
      "../../Processed Data/10K10Q/Data_10K/item7a_1751788_2020-02-07.txt already exists\n",
      "../../Processed Data/10K10Q/Data_10K/item7a_12927_2012-02-09.txt already exists\n",
      "../../Processed Data/10K10Q/Data_10K/item7a_12927_2017-02-08.txt already exists\n",
      "../../Processed Data/10K10Q/Data_10K/item7a_12927_2015-02-12.txt already exists\n",
      "../../Processed Data/10K10Q/Data_10K/item7a_12927_2018-02-12.txt already exists\n",
      "../../Processed Data/10K10Q/Data_10K/item7a_12927_2010-02-08.txt already exists\n",
      "../../Processed Data/10K10Q/Data_10K/item7a_12927_2016-02-10.txt already exists\n",
      "../../Processed Data/10K10Q/Data_10K/item7a_12927_2013-02-11.txt already exists\n",
      "../../Processed Data/10K10Q/Data_10K/item7a_12927_2020-01-31.txt already exists\n",
      "../../Processed Data/10K10Q/Data_10K/item7a_12927_2014-02-14.txt already exists\n"
     ]
    },
    {
     "name": "stderr",
     "output_type": "stream",
     "text": [
      "\r",
      " 45%|███████████████████████████████████▍                                           | 147/328 [00:00<00:01, 134.85it/s]"
     ]
    },
    {
     "name": "stdout",
     "output_type": "stream",
     "text": [
      "../../Processed Data/10K10Q/Data_10K/item7a_12927_2019-02-08.txt already exists\n",
      "../../Processed Data/10K10Q/Data_10K/item7a_12927_2011-02-09.txt already exists\n",
      "../../Processed Data/10K10Q/Data_10K/item7a_200406_2019-02-20.txt already exists\n",
      "../../Processed Data/10K10Q/Data_10K/item7a_200406_2012-02-23.txt already exists\n",
      "../../Processed Data/10K10Q/Data_10K/item7a_200406_2014-02-21.txt already exists\n",
      "../../Processed Data/10K10Q/Data_10K/item7a_200406_2015-02-24.txt already exists\n",
      "../../Processed Data/10K10Q/Data_10K/item7a_200406_2016-02-24.txt already exists\n",
      "../../Processed Data/10K10Q/Data_10K/item7a_200406_2010-03-01.txt already exists\n",
      "../../Processed Data/10K10Q/Data_10K/item7a_200406_2017-02-27.txt already exists\n",
      "../../Processed Data/10K10Q/Data_10K/item7a_200406_2018-02-21.txt already exists\n",
      "../../Processed Data/10K10Q/Data_10K/item7a_200406_2011-02-25.txt already exists\n",
      "../../Processed Data/10K10Q/Data_10K/item7a_200406_2013-02-22.txt already exists\n",
      "../../Processed Data/10K10Q/Data_10K/item7a_320187_2012-07-24.txt already exists\n",
      "../../Processed Data/10K10Q/Data_10K/item7a_320187_2015-07-23.txt already exists\n"
     ]
    },
    {
     "name": "stderr",
     "output_type": "stream",
     "text": [
      "\r",
      " 49%|██████████████████████████████████████▊                                        | 161/328 [00:00<00:01, 135.37it/s]"
     ]
    },
    {
     "name": "stdout",
     "output_type": "stream",
     "text": [
      "../../Processed Data/10K10Q/Data_10K/item7a_320187_2016-07-21.txt already exists\n",
      "../../Processed Data/10K10Q/Data_10K/item7a_320187_2018-07-25.txt already exists\n",
      "../../Processed Data/10K10Q/Data_10K/item7a_320187_2017-07-20.txt already exists\n",
      "../../Processed Data/10K10Q/Data_10K/item7a_320187_2019-07-23.txt already exists\n",
      "../../Processed Data/10K10Q/Data_10K/item7a_320187_2011-07-22.txt already exists\n",
      "../../Processed Data/10K10Q/Data_10K/item7a_320187_2013-07-23.txt already exists\n",
      "../../Processed Data/10K10Q/Data_10K/item7a_320187_2010-07-20.txt already exists\n",
      "../../Processed Data/10K10Q/Data_10K/item7a_320187_2014-07-25.txt already exists\n",
      "../../Processed Data/10K10Q/Data_10K/item7a_858877_2013-09-10.txt already exists\n",
      "../../Processed Data/10K10Q/Data_10K/item7a_858877_2015-09-08.txt already exists\n",
      "../../Processed Data/10K10Q/Data_10K/item7a_858877_2012-09-12.txt already exists\n",
      "../../Processed Data/10K10Q/Data_10K/item7a_858877_2019-09-05.txt already exists\n",
      "../../Processed Data/10K10Q/Data_10K/item7a_858877_2010-09-21.txt already exists\n",
      "../../Processed Data/10K10Q/Data_10K/item7a_858877_2014-09-09.txt already exists\n",
      "../../Processed Data/10K10Q/Data_10K/item7a_858877_2017-09-07.txt already exists\n"
     ]
    },
    {
     "name": "stderr",
     "output_type": "stream",
     "text": [
      "\r",
      " 54%|██████████████████████████████████████████▍                                    | 176/328 [00:01<00:01, 138.37it/s]"
     ]
    },
    {
     "name": "stdout",
     "output_type": "stream",
     "text": [
      "../../Processed Data/10K10Q/Data_10K/item7a_858877_2011-09-14.txt already exists\n",
      "../../Processed Data/10K10Q/Data_10K/item7a_858877_2018-09-06.txt already exists\n",
      "../../Processed Data/10K10Q/Data_10K/item7a_858877_2016-09-08.txt already exists\n",
      "../../Processed Data/10K10Q/Data_10K/item7a_1403161_2010-11-19.txt already exists\n",
      "../../Processed Data/10K10Q/Data_10K/item7a_1403161_2014-11-21.txt already exists\n",
      "../../Processed Data/10K10Q/Data_10K/item7a_1403161_2011-11-18.txt already exists\n",
      "../../Processed Data/10K10Q/Data_10K/item7a_1403161_2017-11-17.txt already exists\n",
      "../../Processed Data/10K10Q/Data_10K/item7a_1403161_2012-11-16.txt already exists\n",
      "../../Processed Data/10K10Q/Data_10K/item7a_1403161_2019-11-14.txt already exists\n",
      "../../Processed Data/10K10Q/Data_10K/item7a_1403161_2013-11-22.txt already exists\n",
      "../../Processed Data/10K10Q/Data_10K/item7a_1403161_2018-11-16.txt already exists\n",
      "../../Processed Data/10K10Q/Data_10K/item7a_1403161_2015-11-20.txt already exists\n",
      "../../Processed Data/10K10Q/Data_10K/item7a_1403161_2016-11-15.txt already exists\n",
      "../../Processed Data/10K10Q/Data_10K/item7a_1001039_2018-11-21.txt already exists\n"
     ]
    },
    {
     "name": "stderr",
     "output_type": "stream",
     "text": [
      "\r",
      " 58%|█████████████████████████████████████████████▊                                 | 190/328 [00:01<00:01, 133.79it/s]"
     ]
    },
    {
     "name": "stdout",
     "output_type": "stream",
     "text": [
      "../../Processed Data/10K10Q/Data_10K/item7a_1001039_2016-11-23.txt already exists\n",
      "../../Processed Data/10K10Q/Data_10K/item7a_1001039_2011-11-23.txt already exists\n",
      "../../Processed Data/10K10Q/Data_10K/item7a_1001039_2012-11-21.txt already exists\n",
      "../../Processed Data/10K10Q/Data_10K/item7a_1001039_2014-11-19.txt already exists\n",
      "../../Processed Data/10K10Q/Data_10K/item7a_1001039_2015-11-25.txt already exists\n",
      "../../Processed Data/10K10Q/Data_10K/item7a_1001039_2010-11-24.txt already exists\n",
      "../../Processed Data/10K10Q/Data_10K/item7a_1001039_2017-11-22.txt already exists\n",
      "../../Processed Data/10K10Q/Data_10K/item7a_1001039_2013-11-20.txt already exists\n",
      "../../Processed Data/10K10Q/Data_10K/item7a_63908_2015-02-24.txt already exists\n",
      "../../Processed Data/10K10Q/Data_10K/item7a_63908_2012-02-24.txt already exists\n",
      "../../Processed Data/10K10Q/Data_10K/item7a_63908_2018-02-23.txt already exists\n",
      "../../Processed Data/10K10Q/Data_10K/item7a_63908_2014-02-24.txt already exists\n",
      "../../Processed Data/10K10Q/Data_10K/item7a_63908_2011-02-25.txt already exists\n",
      "../../Processed Data/10K10Q/Data_10K/item7a_63908_2017-03-01.txt already exists\n",
      "../../Processed Data/10K10Q/Data_10K/item7a_63908_2016-02-25.txt already exists\n",
      "../../Processed Data/10K10Q/Data_10K/item7a_63908_2013-02-25.txt already exists\n",
      "../../Processed Data/10K10Q/Data_10K/item7a_63908_2019-02-22.txt already exists\n"
     ]
    },
    {
     "name": "stderr",
     "output_type": "stream",
     "text": [
      "\r",
      " 63%|█████████████████████████████████████████████████▊                             | 207/328 [00:01<00:00, 141.56it/s]"
     ]
    },
    {
     "name": "stdout",
     "output_type": "stream",
     "text": [
      "../../Processed Data/10K10Q/Data_10K/item7a_63908_2010-02-26.txt already exists\n",
      "../../Processed Data/10K10Q/Data_10K/item7a_21344_2010-02-26.txt already exists\n",
      "../../Processed Data/10K10Q/Data_10K/item7a_21344_2016-02-25.txt already exists\n",
      "../../Processed Data/10K10Q/Data_10K/item7a_21344_2011-02-28.txt already exists\n",
      "../../Processed Data/10K10Q/Data_10K/item7a_21344_2018-02-23.txt already exists\n",
      "../../Processed Data/10K10Q/Data_10K/item7a_21344_2017-02-24.txt already exists\n",
      "../../Processed Data/10K10Q/Data_10K/item7a_21344_2014-02-27.txt already exists\n",
      "../../Processed Data/10K10Q/Data_10K/item7a_21344_2013-02-27.txt already exists\n",
      "../../Processed Data/10K10Q/Data_10K/item7a_21344_2015-02-25.txt already exists\n",
      "../../Processed Data/10K10Q/Data_10K/item7a_21344_2019-02-21.txt already exists\n",
      "../../Processed Data/10K10Q/Data_10K/item7a_21344_2012-02-23.txt already exists\n",
      "../../Processed Data/10K10Q/Data_10K/item7a_50863_2015-02-13.txt already exists\n",
      "../../Processed Data/10K10Q/Data_10K/item7a_50863_2019-02-01.txt already exists\n",
      "../../Processed Data/10K10Q/Data_10K/item7a_50863_2020-01-24.txt already exists\n",
      "../../Processed Data/10K10Q/Data_10K/item7a_50863_2012-02-23.txt already exists\n",
      "../../Processed Data/10K10Q/Data_10K/item7a_50863_2010-02-22.txt already exists\n",
      "../../Processed Data/10K10Q/Data_10K/item7a_50863_2013-02-19.txt already exists\n"
     ]
    },
    {
     "name": "stderr",
     "output_type": "stream",
     "text": [
      "\r",
      " 69%|██████████████████████████████████████████████████████▏                        | 225/328 [00:01<00:00, 149.44it/s]"
     ]
    },
    {
     "name": "stdout",
     "output_type": "stream",
     "text": [
      "../../Processed Data/10K10Q/Data_10K/item7a_50863_2018-02-16.txt already exists\n",
      "../../Processed Data/10K10Q/Data_10K/item7a_50863_2014-02-14.txt already exists\n",
      "../../Processed Data/10K10Q/Data_10K/item7a_50863_2016-02-12.txt already exists\n",
      "../../Processed Data/10K10Q/Data_10K/item7a_50863_2017-02-17.txt already exists\n",
      "../../Processed Data/10K10Q/Data_10K/item7a_50863_2011-02-18.txt already exists\n",
      "../../Processed Data/10K10Q/Data_10K/item7a_354950_2014-03-27.txt already exists\n",
      "../../Processed Data/10K10Q/Data_10K/item7a_354950_2018-03-22.txt already exists\n",
      "../../Processed Data/10K10Q/Data_10K/item7a_354950_2017-03-23.txt already exists\n",
      "../../Processed Data/10K10Q/Data_10K/item7a_354950_2012-03-22.txt already exists\n",
      "../../Processed Data/10K10Q/Data_10K/item7a_354950_2010-03-25.txt already exists\n",
      "../../Processed Data/10K10Q/Data_10K/item7a_354950_2016-03-24.txt already exists\n",
      "../../Processed Data/10K10Q/Data_10K/item7a_354950_2013-03-28.txt already exists\n",
      "../../Processed Data/10K10Q/Data_10K/item7a_354950_2015-03-26.txt already exists\n",
      "../../Processed Data/10K10Q/Data_10K/item7a_354950_2019-03-28.txt already exists\n",
      "../../Processed Data/10K10Q/Data_10K/item7a_354950_2011-03-24.txt already exists\n",
      "../../Processed Data/10K10Q/Data_10K/item7a_80424_2018-08-07.txt already exists\n"
     ]
    },
    {
     "name": "stderr",
     "output_type": "stream",
     "text": [
      "\r",
      " 73%|██████████████████████████████████████████████████████████                     | 241/328 [00:01<00:00, 137.11it/s]"
     ]
    },
    {
     "name": "stdout",
     "output_type": "stream",
     "text": [
      "../../Processed Data/10K10Q/Data_10K/item7a_80424_2015-08-07.txt already exists\n",
      "../../Processed Data/10K10Q/Data_10K/item7a_80424_2013-08-08.txt already exists\n",
      "../../Processed Data/10K10Q/Data_10K/item7a_80424_2016-08-09.txt already exists\n",
      "../../Processed Data/10K10Q/Data_10K/item7a_80424_2017-08-07.txt already exists\n",
      "../../Processed Data/10K10Q/Data_10K/item7a_80424_2014-08-08.txt already exists\n",
      "../../Processed Data/10K10Q/Data_10K/item7a_80424_2012-08-08.txt already exists\n",
      "../../Processed Data/10K10Q/Data_10K/item7a_80424_2019-08-06.txt already exists\n",
      "../../Processed Data/10K10Q/Data_10K/item7a_80424_2011-08-10.txt already exists\n",
      "../../Processed Data/10K10Q/Data_10K/item7a_80424_2010-08-13.txt already exists\n",
      "../../Processed Data/10K10Q/Data_10K/item7a_104169_2017-03-31.txt already exists\n",
      "../../Processed Data/10K10Q/Data_10K/item7a_104169_2019-03-28.txt already exists\n",
      "../../Processed Data/10K10Q/Data_10K/item7a_104169_2012-03-27.txt already exists\n",
      "../../Processed Data/10K10Q/Data_10K/item7a_104169_2010-03-30.txt already exists\n",
      "../../Processed Data/10K10Q/Data_10K/item7a_104169_2018-03-30.txt already exists\n",
      "../../Processed Data/10K10Q/Data_10K/item7a_104169_2016-03-30.txt already exists\n"
     ]
    },
    {
     "name": "stderr",
     "output_type": "stream",
     "text": [
      "\r",
      " 78%|█████████████████████████████████████████████████████████████▋                 | 256/328 [00:01<00:00, 137.04it/s]"
     ]
    },
    {
     "name": "stdout",
     "output_type": "stream",
     "text": [
      "../../Processed Data/10K10Q/Data_10K/item7a_104169_2015-04-01.txt already exists\n",
      "../../Processed Data/10K10Q/Data_10K/item7a_104169_2013-03-26.txt already exists\n",
      "../../Processed Data/10K10Q/Data_10K/item7a_104169_2014-03-21.txt already exists\n",
      "../../Processed Data/10K10Q/Data_10K/item7a_104169_2011-03-30.txt already exists\n",
      "../../Processed Data/10K10Q/Data_10K/item7a_66740_2012-02-16.txt already exists\n",
      "../../Processed Data/10K10Q/Data_10K/item7a_66740_2010-02-16.txt already exists\n",
      "../../Processed Data/10K10Q/Data_10K/item7a_66740_2013-02-14.txt already exists\n",
      "../../Processed Data/10K10Q/Data_10K/item7a_66740_2020-02-06.txt already exists\n",
      "../../Processed Data/10K10Q/Data_10K/item7a_66740_2014-02-13.txt already exists\n",
      "../../Processed Data/10K10Q/Data_10K/item7a_66740_2017-02-09.txt already exists\n",
      "../../Processed Data/10K10Q/Data_10K/item7a_66740_2019-02-07.txt already exists\n",
      "../../Processed Data/10K10Q/Data_10K/item7a_66740_2011-02-16.txt already exists\n",
      "../../Processed Data/10K10Q/Data_10K/item7a_66740_2018-02-08.txt already exists\n",
      "../../Processed Data/10K10Q/Data_10K/item7a_66740_2015-02-12.txt already exists\n"
     ]
    },
    {
     "name": "stderr",
     "output_type": "stream",
     "text": [
      "\r",
      " 82%|█████████████████████████████████████████████████████████████████              | 270/328 [00:01<00:00, 133.26it/s]"
     ]
    },
    {
     "name": "stdout",
     "output_type": "stream",
     "text": [
      "../../Processed Data/10K10Q/Data_10K/item7a_66740_2016-02-11.txt already exists\n",
      "../../Processed Data/10K10Q/Data_10K/item7a_1618921_2016-10-20.txt already exists\n",
      "../../Processed Data/10K10Q/Data_10K/item7a_1618921_2017-10-25.txt already exists\n",
      "../../Processed Data/10K10Q/Data_10K/item7a_1618921_2015-10-28.txt already exists\n",
      "../../Processed Data/10K10Q/Data_10K/item7a_1618921_2018-10-11.txt already exists\n",
      "../../Processed Data/10K10Q/Data_10K/item7a_1618921_2019-10-28.txt already exists\n",
      "../../Processed Data/10K10Q/Data_10K/item7a_93410_2016-02-25.txt already exists\n",
      "../../Processed Data/10K10Q/Data_10K/item7a_93410_2019-02-22.txt already exists\n",
      "../../Processed Data/10K10Q/Data_10K/item7a_93410_2013-02-22.txt already exists\n",
      "../../Processed Data/10K10Q/Data_10K/item7a_93410_2011-02-24.txt already exists\n",
      "../../Processed Data/10K10Q/Data_10K/item7a_93410_2015-02-20.txt already exists\n",
      "../../Processed Data/10K10Q/Data_10K/item7a_93410_2018-02-22.txt already exists\n",
      "../../Processed Data/10K10Q/Data_10K/item7a_93410_2014-02-21.txt already exists\n",
      "../../Processed Data/10K10Q/Data_10K/item7a_93410_2010-02-25.txt already exists\n"
     ]
    },
    {
     "name": "stderr",
     "output_type": "stream",
     "text": [
      "\r",
      " 87%|████████████████████████████████████████████████████████████████████▍          | 284/328 [00:01<00:00, 125.22it/s]"
     ]
    },
    {
     "name": "stdout",
     "output_type": "stream",
     "text": [
      "../../Processed Data/10K10Q/Data_10K/item7a_93410_2012-02-23.txt already exists\n",
      "../../Processed Data/10K10Q/Data_10K/item7a_93410_2017-02-23.txt already exists\n",
      "../../Processed Data/10K10Q/Data_10K/item7a_19617_2019-02-26.txt already exists\n",
      "../../Processed Data/10K10Q/Data_10K/item7a_19617_2017-02-28.txt already exists\n",
      "../../Processed Data/10K10Q/Data_10K/item7a_19617_2012-02-29.txt already exists\n",
      "../../Processed Data/10K10Q/Data_10K/item7a_19617_2014-02-20.txt already exists\n",
      "../../Processed Data/10K10Q/Data_10K/item7a_19617_2010-02-24.txt already exists\n",
      "../../Processed Data/10K10Q/Data_10K/item7a_19617_2015-02-24.txt already exists\n",
      "../../Processed Data/10K10Q/Data_10K/item7a_19617_2018-02-27.txt already exists\n",
      "../../Processed Data/10K10Q/Data_10K/item7a_19617_2013-02-28.txt already exists\n",
      "../../Processed Data/10K10Q/Data_10K/item7a_19617_2016-02-23.txt already exists\n",
      "../../Processed Data/10K10Q/Data_10K/item7a_19617_2011-02-28.txt already exists\n",
      "../../Processed Data/10K10Q/Data_10K/item7a_101829_2016-02-11.txt already exists\n",
      "../../Processed Data/10K10Q/Data_10K/item7a_101829_2018-02-09.txt already exists\n",
      "../../Processed Data/10K10Q/Data_10K/item7a_101829_2015-02-05.txt already exists\n",
      "../../Processed Data/10K10Q/Data_10K/item7a_101829_2013-02-07.txt already exists\n",
      "../../Processed Data/10K10Q/Data_10K/item7a_101829_2012-02-09.txt already exists\n",
      "../../Processed Data/10K10Q/Data_10K/item7a_101829_2011-02-10.txt already exists\n"
     ]
    },
    {
     "name": "stderr",
     "output_type": "stream",
     "text": [
      "\r",
      " 92%|████████████████████████████████████████████████████████████████████████▋      | 302/328 [00:01<00:00, 137.28it/s]"
     ]
    },
    {
     "name": "stdout",
     "output_type": "stream",
     "text": [
      "../../Processed Data/10K10Q/Data_10K/item7a_101829_2019-02-07.txt already exists\n",
      "../../Processed Data/10K10Q/Data_10K/item7a_101829_2017-02-09.txt already exists\n",
      "../../Processed Data/10K10Q/Data_10K/item7a_101829_2014-02-06.txt already exists\n",
      "../../Processed Data/10K10Q/Data_10K/item7a_101829_2020-02-06.txt already exists\n",
      "../../Processed Data/10K10Q/Data_10K/item7a_101829_2010-02-11.txt already exists\n",
      "../../Processed Data/10K10Q/Data_10K/item7a_4962_2010-02-26.txt already exists\n",
      "../../Processed Data/10K10Q/Data_10K/item7a_4962_2017-02-17.txt already exists\n",
      "../../Processed Data/10K10Q/Data_10K/item7a_4962_2014-02-25.txt already exists\n",
      "../../Processed Data/10K10Q/Data_10K/item7a_4962_2018-02-16.txt already exists\n",
      "../../Processed Data/10K10Q/Data_10K/item7a_4962_2019-02-13.txt already exists\n",
      "../../Processed Data/10K10Q/Data_10K/item7a_4962_2013-02-22.txt already exists\n",
      "../../Processed Data/10K10Q/Data_10K/item7a_4962_2016-02-19.txt already exists\n",
      "../../Processed Data/10K10Q/Data_10K/item7a_4962_2011-02-28.txt already exists\n",
      "../../Processed Data/10K10Q/Data_10K/item7a_4962_2012-02-24.txt already exists\n",
      "../../Processed Data/10K10Q/Data_10K/item7a_4962_2020-02-13.txt already exists\n",
      "../../Processed Data/10K10Q/Data_10K/item7a_4962_2015-02-24.txt already exists\n",
      "../../Processed Data/10K10Q/Data_10K/item7a_34088_2011-02-25.txt already exists\n",
      "../../Processed Data/10K10Q/Data_10K/item7a_34088_2016-02-24.txt already exists\n",
      "../../Processed Data/10K10Q/Data_10K/item7a_34088_2010-02-26.txt already exists\n"
     ]
    },
    {
     "name": "stderr",
     "output_type": "stream",
     "text": [
      "\r",
      " 98%|█████████████████████████████████████████████████████████████████████████████▎ | 321/328 [00:02<00:00, 148.45it/s]"
     ]
    },
    {
     "name": "stdout",
     "output_type": "stream",
     "text": [
      "../../Processed Data/10K10Q/Data_10K/item7a_34088_2018-02-28.txt already exists\n",
      "../../Processed Data/10K10Q/Data_10K/item7a_34088_2017-02-22.txt already exists\n",
      "../../Processed Data/10K10Q/Data_10K/item7a_34088_2013-02-27.txt already exists\n",
      "../../Processed Data/10K10Q/Data_10K/item7a_34088_2015-02-25.txt already exists\n",
      "../../Processed Data/10K10Q/Data_10K/item7a_34088_2019-02-27.txt already exists\n",
      "../../Processed Data/10K10Q/Data_10K/item7a_34088_2014-02-26.txt already exists\n",
      "../../Processed Data/10K10Q/Data_10K/item7a_34088_2012-02-24.txt already exists\n"
     ]
    },
    {
     "name": "stderr",
     "output_type": "stream",
     "text": [
      "100%|███████████████████████████████████████████████████████████████████████████████| 328/328 [00:02<00:00, 159.38it/s]\n"
     ]
    }
   ],
   "source": [
    "with ZipFile(\"../../Raw Data/Data_10K.zip\", \"r\") as zipped_file:\n",
    "    for i in tqdm(range(len(zipped_file.infolist()))):\n",
    "        info = zipped_file.infolist()[i]\n",
    "        if \"html\" in info.filename and \"MACOS\" not in info.filename:\n",
    "                \n",
    "            cik = info.filename.split(\"/\")[1]\n",
    "            date = info.filename.split(\"/\")[2].split(\"_\")[1][:-5]\n",
    "            saving_path = \"../../Processed Data/10K10Q/Data_10K/item7a\" + \"_\" + cik + \"_\" + date + \".txt\"\n",
    "\n",
    "            if os.path.isfile(saving_path):\n",
    "                print(saving_path, \"already exists\")\n",
    "                continue\n",
    "            \n",
    "            zipped_file.extract(info.filename)\n",
    "            html = open(info.filename).read()\n",
    "            soup = BeautifulSoup(html)\n",
    "            text = soup.get_text(\" \")\n",
    "            text = unicodedata.normalize(\"NFKD\", text)\n",
    "            text = text.replace(\"\\t\", \" \")\n",
    "            text = text.replace(\"/\", \" \")\n",
    "            text = \"\".join([i if ord(i) < 128 else \"\" for i in text])\n",
    "            text = \" \".join(text.split())\n",
    "            original_text = text\n",
    "            \n",
    "            results = []\n",
    "            item7a = \"item[\\s]*7[\\s]*a[-.:\\s]*(?:quan|qual).*?item[\\s]*8[-.:\\s]*(?:financial|consolidated)\"\n",
    "            item6a = \"item[\\s]*6[\\s]*a[-.:\\s]*(?:quan|qual).*?item[\\s]*7[-.:\\s]*(?:financial|consolidated)\"\n",
    "            regex_dict = {\"item7a\":item7a, \"item6a\":item6a}\n",
    "            matches = []\n",
    "            matches = re.findall(item7a, text, re.IGNORECASE)\n",
    "            name = \"item7a\"\n",
    "            \n",
    "            if not matches:\n",
    "                matches = re.findall(item6a, text, re.IGNORECASE)\n",
    "                name = \"item6a\"\n",
    "            if matches:\n",
    "                while matches:\n",
    "                    item_regex = regex_dict[name]\n",
    "                    current_match = matches[0]\n",
    "                    results.append(current_match)\n",
    "                    text = text.replace(current_match[:20], \" \", 1)\n",
    "                    matches.remove(current_match)\n",
    "                    matches.extend(re.findall(item_regex, text, re.IGNORECASE))\n",
    "                name = name.replace(\"6\", \"7\")\n",
    "                \n",
    "                print(\"\")\n",
    "                print(\"Saving as...\", saving_path)\n",
    "                file_location = open(saving_path, \"w\")\n",
    "                file_location.write(results[-1])\n",
    "                file_location.close()\n",
    "                print(\"----SUCCESS----\")\n",
    "            else:\n",
    "                print(\"Failed\")\n",
    "            print(\"\")\n",
    "            print(\"\")\n",
    "            print(\"\")\n",
    "        if os.path.isdir(\"Data_10K\"):\n",
    "            shutil.rmtree(\"Data_10K\")"
   ]
  },
  {
   "cell_type": "code",
   "execution_count": 4,
   "metadata": {
    "scrolled": true
   },
   "outputs": [
    {
     "name": "stderr",
     "output_type": "stream",
     "text": [
      "\r",
      "  0%|                                                                                          | 0/328 [00:00<?, ?it/s]"
     ]
    },
    {
     "name": "stdout",
     "output_type": "stream",
     "text": [
      "../../Processed Data/10K10Q/Data_10K/item7_18230_2017-02-15.txt already exists\n",
      "../../Processed Data/10K10Q/Data_10K/item7_18230_2010-02-19.txt already exists\n",
      "../../Processed Data/10K10Q/Data_10K/item7_18230_2018-02-15.txt already exists\n",
      "../../Processed Data/10K10Q/Data_10K/item7_18230_2016-02-16.txt already exists\n",
      "../../Processed Data/10K10Q/Data_10K/item7_18230_2015-02-17.txt already exists\n",
      "../../Processed Data/10K10Q/Data_10K/item7_18230_2013-02-19.txt already exists\n",
      "../../Processed Data/10K10Q/Data_10K/item7_18230_2011-02-22.txt already exists\n",
      "../../Processed Data/10K10Q/Data_10K/item7_18230_2012-02-21.txt already exists\n",
      "../../Processed Data/10K10Q/Data_10K/item7_18230_2019-02-14.txt already exists\n",
      "../../Processed Data/10K10Q/Data_10K/item7_18230_2014-02-18.txt already exists\n",
      "../../Processed Data/10K10Q/Data_10K/item7_886982_2018-02-26.txt already exists\n",
      "../../Processed Data/10K10Q/Data_10K/item7_886982_2014-02-28.txt already exists\n",
      "../../Processed Data/10K10Q/Data_10K/item7_886982_2016-02-22.txt already exists\n",
      "../../Processed Data/10K10Q/Data_10K/item7_886982_2017-02-27.txt already exists\n",
      "../../Processed Data/10K10Q/Data_10K/item7_886982_2010-03-01.txt already exists\n",
      "../../Processed Data/10K10Q/Data_10K/item7_886982_2013-03-01.txt already exists\n"
     ]
    },
    {
     "name": "stderr",
     "output_type": "stream",
     "text": [
      "\r",
      " 16%|████████████▍                                                                   | 51/328 [00:00<00:00, 496.82it/s]"
     ]
    },
    {
     "name": "stdout",
     "output_type": "stream",
     "text": [
      "../../Processed Data/10K10Q/Data_10K/item7_886982_2019-02-26.txt already exists\n",
      "../../Processed Data/10K10Q/Data_10K/item7_886982_2012-02-28.txt already exists\n",
      "../../Processed Data/10K10Q/Data_10K/item7_886982_2015-02-23.txt already exists\n",
      "../../Processed Data/10K10Q/Data_10K/item7_886982_2011-03-01.txt already exists\n",
      "../../Processed Data/10K10Q/Data_10K/item7_320193_2016-10-26.txt already exists\n",
      "../../Processed Data/10K10Q/Data_10K/item7_320193_2013-10-30.txt already exists\n",
      "../../Processed Data/10K10Q/Data_10K/item7_320193_2015-10-28.txt already exists\n",
      "../../Processed Data/10K10Q/Data_10K/item7_320193_2018-11-05.txt already exists\n",
      "../../Processed Data/10K10Q/Data_10K/item7_320193_2017-11-03.txt already exists\n",
      "../../Processed Data/10K10Q/Data_10K/item7_320193_2014-10-27.txt already exists\n",
      "../../Processed Data/10K10Q/Data_10K/item7_320193_2011-10-26.txt already exists\n",
      "../../Processed Data/10K10Q/Data_10K/item7_320193_2019-10-31.txt already exists\n",
      "../../Processed Data/10K10Q/Data_10K/item7_320193_2012-10-31.txt already exists\n",
      "../../Processed Data/10K10Q/Data_10K/item7_320193_2010-10-27.txt already exists\n",
      "../../Processed Data/10K10Q/Data_10K/item7_310158_2016-02-26.txt already exists\n"
     ]
    },
    {
     "name": "stderr",
     "output_type": "stream",
     "text": [
      "\r",
      " 20%|████████████████                                                                | 66/328 [00:00<00:00, 285.52it/s]"
     ]
    },
    {
     "name": "stdout",
     "output_type": "stream",
     "text": [
      "../../Processed Data/10K10Q/Data_10K/item7_310158_2012-02-28.txt already exists\n",
      "../../Processed Data/10K10Q/Data_10K/item7_310158_2017-02-28.txt already exists\n",
      "../../Processed Data/10K10Q/Data_10K/item7_310158_2014-02-27.txt already exists\n",
      "../../Processed Data/10K10Q/Data_10K/item7_310158_2019-02-27.txt already exists\n",
      "../../Processed Data/10K10Q/Data_10K/item7_310158_2010-03-01.txt already exists\n",
      "../../Processed Data/10K10Q/Data_10K/item7_310158_2011-02-28.txt already exists\n",
      "../../Processed Data/10K10Q/Data_10K/item7_310158_2015-02-27.txt already exists\n",
      "../../Processed Data/10K10Q/Data_10K/item7_310158_2018-02-27.txt already exists\n",
      "../../Processed Data/10K10Q/Data_10K/item7_310158_2013-02-28.txt already exists\n",
      "../../Processed Data/10K10Q/Data_10K/item7_731766_2011-02-10.txt already exists\n",
      "../../Processed Data/10K10Q/Data_10K/item7_731766_2017-02-08.txt already exists\n",
      "../../Processed Data/10K10Q/Data_10K/item7_731766_2012-02-09.txt already exists\n",
      "../../Processed Data/10K10Q/Data_10K/item7_731766_2020-02-14.txt already exists\n",
      "../../Processed Data/10K10Q/Data_10K/item7_731766_2013-02-07.txt already exists\n",
      "../../Processed Data/10K10Q/Data_10K/item7_731766_2018-02-13.txt already exists\n"
     ]
    },
    {
     "name": "stderr",
     "output_type": "stream",
     "text": [
      "\r",
      " 25%|███████████████████▊                                                            | 81/328 [00:00<00:01, 201.04it/s]"
     ]
    },
    {
     "name": "stdout",
     "output_type": "stream",
     "text": [
      "../../Processed Data/10K10Q/Data_10K/item7_731766_2015-02-10.txt already exists\n",
      "../../Processed Data/10K10Q/Data_10K/item7_731766_2016-02-09.txt already exists\n",
      "../../Processed Data/10K10Q/Data_10K/item7_731766_2010-02-10.txt already exists\n",
      "../../Processed Data/10K10Q/Data_10K/item7_731766_2019-02-12.txt already exists\n",
      "../../Processed Data/10K10Q/Data_10K/item7_731766_2014-02-12.txt already exists\n",
      "../../Processed Data/10K10Q/Data_10K/item7_732712_2013-02-26.txt already exists\n",
      "../../Processed Data/10K10Q/Data_10K/item7_732712_2014-02-27.txt already exists\n",
      "../../Processed Data/10K10Q/Data_10K/item7_732712_2015-02-23.txt already exists\n",
      "../../Processed Data/10K10Q/Data_10K/item7_732712_2012-02-24.txt already exists\n",
      "../../Processed Data/10K10Q/Data_10K/item7_732712_2018-02-23.txt already exists\n",
      "../../Processed Data/10K10Q/Data_10K/item7_732712_2016-02-23.txt already exists\n",
      "../../Processed Data/10K10Q/Data_10K/item7_732712_2011-02-28.txt already exists\n",
      "../../Processed Data/10K10Q/Data_10K/item7_732712_2019-02-15.txt already exists\n",
      "../../Processed Data/10K10Q/Data_10K/item7_732712_2017-02-21.txt already exists\n",
      "../../Processed Data/10K10Q/Data_10K/item7_732712_2010-02-26.txt already exists\n",
      "../../Processed Data/10K10Q/Data_10K/item7_86312_2015-02-12.txt already exists\n"
     ]
    },
    {
     "name": "stderr",
     "output_type": "stream",
     "text": [
      "\r",
      " 30%|███████████████████████▋                                                        | 97/328 [00:00<00:01, 177.81it/s]"
     ]
    },
    {
     "name": "stdout",
     "output_type": "stream",
     "text": [
      "../../Processed Data/10K10Q/Data_10K/item7_86312_2016-02-11.txt already exists\n",
      "../../Processed Data/10K10Q/Data_10K/item7_86312_2011-02-17.txt already exists\n",
      "../../Processed Data/10K10Q/Data_10K/item7_86312_2010-02-18.txt already exists\n",
      "../../Processed Data/10K10Q/Data_10K/item7_86312_2020-02-13.txt already exists\n",
      "../../Processed Data/10K10Q/Data_10K/item7_86312_2018-02-15.txt already exists\n",
      "../../Processed Data/10K10Q/Data_10K/item7_86312_2014-02-13.txt already exists\n",
      "../../Processed Data/10K10Q/Data_10K/item7_86312_2013-02-19.txt already exists\n",
      "../../Processed Data/10K10Q/Data_10K/item7_86312_2017-02-16.txt already exists\n",
      "../../Processed Data/10K10Q/Data_10K/item7_86312_2019-02-14.txt already exists\n",
      "../../Processed Data/10K10Q/Data_10K/item7_86312_2012-02-16.txt already exists\n",
      "../../Processed Data/10K10Q/Data_10K/item7_78003_2017-02-23.txt already exists\n",
      "../../Processed Data/10K10Q/Data_10K/item7_78003_2018-02-22.txt already exists\n",
      "../../Processed Data/10K10Q/Data_10K/item7_78003_2012-02-28.txt already exists\n",
      "../../Processed Data/10K10Q/Data_10K/item7_78003_2011-02-28.txt already exists\n",
      "../../Processed Data/10K10Q/Data_10K/item7_78003_2019-02-28.txt already exists\n",
      "../../Processed Data/10K10Q/Data_10K/item7_78003_2014-02-28.txt already exists\n",
      "../../Processed Data/10K10Q/Data_10K/item7_78003_2016-02-29.txt already exists\n",
      "../../Processed Data/10K10Q/Data_10K/item7_78003_2013-02-28.txt already exists\n"
     ]
    },
    {
     "name": "stderr",
     "output_type": "stream",
     "text": [
      "\r",
      " 35%|███████████████████████████▋                                                   | 115/328 [00:00<00:01, 176.46it/s]"
     ]
    },
    {
     "name": "stdout",
     "output_type": "stream",
     "text": [
      "../../Processed Data/10K10Q/Data_10K/item7_78003_2015-02-27.txt already exists\n",
      "../../Processed Data/10K10Q/Data_10K/item7_78003_2010-02-26.txt already exists\n",
      "../../Processed Data/10K10Q/Data_10K/item7_51143_2016-02-23.txt already exists\n",
      "../../Processed Data/10K10Q/Data_10K/item7_51143_2014-02-25.txt already exists\n",
      "../../Processed Data/10K10Q/Data_10K/item7_51143_2018-02-27.txt already exists\n",
      "../../Processed Data/10K10Q/Data_10K/item7_51143_2011-02-22.txt already exists\n",
      "../../Processed Data/10K10Q/Data_10K/item7_51143_2015-02-24.txt already exists\n",
      "../../Processed Data/10K10Q/Data_10K/item7_51143_2013-02-26.txt already exists\n",
      "../../Processed Data/10K10Q/Data_10K/item7_51143_2012-02-28.txt already exists\n",
      "../../Processed Data/10K10Q/Data_10K/item7_51143_2019-02-26.txt already exists\n",
      "../../Processed Data/10K10Q/Data_10K/item7_51143_2010-02-23.txt already exists\n",
      "../../Processed Data/10K10Q/Data_10K/item7_51143_2017-02-28.txt already exists\n",
      "../../Processed Data/10K10Q/Data_10K/item7_789019_2013-07-30.txt already exists\n",
      "../../Processed Data/10K10Q/Data_10K/item7_789019_2014-07-31.txt already exists\n",
      "../../Processed Data/10K10Q/Data_10K/item7_789019_2011-07-28.txt already exists\n"
     ]
    },
    {
     "name": "stderr",
     "output_type": "stream",
     "text": [
      "\r",
      " 40%|███████████████████████████████▎                                               | 130/328 [00:00<00:01, 164.49it/s]"
     ]
    },
    {
     "name": "stdout",
     "output_type": "stream",
     "text": [
      "../../Processed Data/10K10Q/Data_10K/item7_789019_2019-08-01.txt already exists\n",
      "../../Processed Data/10K10Q/Data_10K/item7_789019_2012-07-26.txt already exists\n",
      "../../Processed Data/10K10Q/Data_10K/item7_789019_2017-08-02.txt already exists\n",
      "../../Processed Data/10K10Q/Data_10K/item7_789019_2018-08-03.txt already exists\n",
      "../../Processed Data/10K10Q/Data_10K/item7_789019_2015-07-31.txt already exists\n",
      "../../Processed Data/10K10Q/Data_10K/item7_789019_2016-07-28.txt already exists\n",
      "../../Processed Data/10K10Q/Data_10K/item7_789019_2010-07-30.txt already exists\n",
      "../../Processed Data/10K10Q/Data_10K/item7_1751788_2020-02-07.txt already exists\n",
      "../../Processed Data/10K10Q/Data_10K/item7_12927_2012-02-09.txt already exists\n",
      "../../Processed Data/10K10Q/Data_10K/item7_12927_2017-02-08.txt already exists\n",
      "../../Processed Data/10K10Q/Data_10K/item7_12927_2015-02-12.txt already exists\n",
      "../../Processed Data/10K10Q/Data_10K/item7_12927_2018-02-12.txt already exists\n",
      "../../Processed Data/10K10Q/Data_10K/item7_12927_2010-02-08.txt already exists\n",
      "../../Processed Data/10K10Q/Data_10K/item7_12927_2016-02-10.txt already exists\n",
      "../../Processed Data/10K10Q/Data_10K/item7_12927_2013-02-11.txt already exists\n",
      "../../Processed Data/10K10Q/Data_10K/item7_12927_2020-01-31.txt already exists\n",
      "../../Processed Data/10K10Q/Data_10K/item7_12927_2014-02-14.txt already exists\n",
      "../../Processed Data/10K10Q/Data_10K/item7_12927_2019-02-08.txt already exists\n"
     ]
    },
    {
     "name": "stderr",
     "output_type": "stream",
     "text": [
      "\r",
      " 45%|███████████████████████████████████▋                                           | 148/328 [00:00<00:01, 166.86it/s]"
     ]
    },
    {
     "name": "stdout",
     "output_type": "stream",
     "text": [
      "../../Processed Data/10K10Q/Data_10K/item7_12927_2011-02-09.txt already exists\n",
      "../../Processed Data/10K10Q/Data_10K/item7_200406_2019-02-20.txt already exists\n",
      "../../Processed Data/10K10Q/Data_10K/item7_200406_2012-02-23.txt already exists\n",
      "../../Processed Data/10K10Q/Data_10K/item7_200406_2014-02-21.txt already exists\n",
      "../../Processed Data/10K10Q/Data_10K/item7_200406_2015-02-24.txt already exists\n",
      "../../Processed Data/10K10Q/Data_10K/item7_200406_2016-02-24.txt already exists\n",
      "../../Processed Data/10K10Q/Data_10K/item7_200406_2010-03-01.txt already exists\n",
      "../../Processed Data/10K10Q/Data_10K/item7_200406_2017-02-27.txt already exists\n",
      "../../Processed Data/10K10Q/Data_10K/item7_200406_2018-02-21.txt already exists\n",
      "../../Processed Data/10K10Q/Data_10K/item7_200406_2011-02-25.txt already exists\n",
      "../../Processed Data/10K10Q/Data_10K/item7_200406_2013-02-22.txt already exists\n",
      "../../Processed Data/10K10Q/Data_10K/item7_320187_2012-07-24.txt already exists\n",
      "../../Processed Data/10K10Q/Data_10K/item7_320187_2015-07-23.txt already exists\n",
      "../../Processed Data/10K10Q/Data_10K/item7_320187_2016-07-21.txt already exists\n",
      "../../Processed Data/10K10Q/Data_10K/item7_320187_2018-07-25.txt already exists\n",
      "../../Processed Data/10K10Q/Data_10K/item7_320187_2017-07-20.txt already exists\n"
     ]
    },
    {
     "name": "stderr",
     "output_type": "stream",
     "text": [
      "\r",
      " 50%|███████████████████████████████████████▌                                       | 164/328 [00:00<00:00, 164.17it/s]"
     ]
    },
    {
     "name": "stdout",
     "output_type": "stream",
     "text": [
      "../../Processed Data/10K10Q/Data_10K/item7_320187_2019-07-23.txt already exists\n",
      "../../Processed Data/10K10Q/Data_10K/item7_320187_2011-07-22.txt already exists\n",
      "../../Processed Data/10K10Q/Data_10K/item7_320187_2013-07-23.txt already exists\n",
      "../../Processed Data/10K10Q/Data_10K/item7_320187_2010-07-20.txt already exists\n",
      "../../Processed Data/10K10Q/Data_10K/item7_320187_2014-07-25.txt already exists\n",
      "../../Processed Data/10K10Q/Data_10K/item7_858877_2013-09-10.txt already exists\n",
      "../../Processed Data/10K10Q/Data_10K/item7_858877_2015-09-08.txt already exists\n",
      "../../Processed Data/10K10Q/Data_10K/item7_858877_2012-09-12.txt already exists\n",
      "../../Processed Data/10K10Q/Data_10K/item7_858877_2019-09-05.txt already exists\n",
      "../../Processed Data/10K10Q/Data_10K/item7_858877_2010-09-21.txt already exists\n",
      "../../Processed Data/10K10Q/Data_10K/item7_858877_2014-09-09.txt already exists\n",
      "../../Processed Data/10K10Q/Data_10K/item7_858877_2017-09-07.txt already exists\n",
      "../../Processed Data/10K10Q/Data_10K/item7_858877_2011-09-14.txt already exists\n",
      "../../Processed Data/10K10Q/Data_10K/item7_858877_2018-09-06.txt already exists\n",
      "../../Processed Data/10K10Q/Data_10K/item7_858877_2016-09-08.txt already exists\n",
      "../../Processed Data/10K10Q/Data_10K/item7_1403161_2010-11-19.txt already exists\n",
      "../../Processed Data/10K10Q/Data_10K/item7_1403161_2014-11-21.txt already exists\n",
      "../../Processed Data/10K10Q/Data_10K/item7_1403161_2011-11-18.txt already exists\n",
      "../../Processed Data/10K10Q/Data_10K/item7_1403161_2017-11-17.txt already exists\n"
     ]
    },
    {
     "name": "stderr",
     "output_type": "stream",
     "text": [
      "\r",
      " 56%|████████████████████████████████████████████                                   | 183/328 [00:00<00:00, 168.63it/s]"
     ]
    },
    {
     "name": "stdout",
     "output_type": "stream",
     "text": [
      "../../Processed Data/10K10Q/Data_10K/item7_1403161_2012-11-16.txt already exists\n",
      "../../Processed Data/10K10Q/Data_10K/item7_1403161_2019-11-14.txt already exists\n",
      "../../Processed Data/10K10Q/Data_10K/item7_1403161_2013-11-22.txt already exists\n",
      "../../Processed Data/10K10Q/Data_10K/item7_1403161_2018-11-16.txt already exists\n",
      "../../Processed Data/10K10Q/Data_10K/item7_1403161_2015-11-20.txt already exists\n",
      "../../Processed Data/10K10Q/Data_10K/item7_1403161_2016-11-15.txt already exists\n",
      "../../Processed Data/10K10Q/Data_10K/item7_1001039_2018-11-21.txt already exists\n",
      "../../Processed Data/10K10Q/Data_10K/item7_1001039_2016-11-23.txt already exists\n",
      "../../Processed Data/10K10Q/Data_10K/item7_1001039_2011-11-23.txt already exists\n",
      "../../Processed Data/10K10Q/Data_10K/item7_1001039_2012-11-21.txt already exists\n",
      "../../Processed Data/10K10Q/Data_10K/item7_1001039_2014-11-19.txt already exists\n",
      "../../Processed Data/10K10Q/Data_10K/item7_1001039_2015-11-25.txt already exists\n",
      "../../Processed Data/10K10Q/Data_10K/item7_1001039_2010-11-24.txt already exists\n",
      "../../Processed Data/10K10Q/Data_10K/item7_1001039_2017-11-22.txt already exists\n",
      "../../Processed Data/10K10Q/Data_10K/item7_1001039_2013-11-20.txt already exists\n",
      "../../Processed Data/10K10Q/Data_10K/item7_63908_2015-02-24.txt already exists\n",
      "../../Processed Data/10K10Q/Data_10K/item7_63908_2012-02-24.txt already exists\n"
     ]
    },
    {
     "name": "stderr",
     "output_type": "stream",
     "text": [
      "\r",
      " 61%|████████████████████████████████████████████████▏                              | 200/328 [00:01<00:00, 167.98it/s]"
     ]
    },
    {
     "name": "stdout",
     "output_type": "stream",
     "text": [
      "../../Processed Data/10K10Q/Data_10K/item7_63908_2018-02-23.txt already exists\n",
      "../../Processed Data/10K10Q/Data_10K/item7_63908_2014-02-24.txt already exists\n",
      "../../Processed Data/10K10Q/Data_10K/item7_63908_2011-02-25.txt already exists\n",
      "../../Processed Data/10K10Q/Data_10K/item7_63908_2017-03-01.txt already exists\n",
      "../../Processed Data/10K10Q/Data_10K/item7_63908_2016-02-25.txt already exists\n",
      "../../Processed Data/10K10Q/Data_10K/item7_63908_2013-02-25.txt already exists\n",
      "../../Processed Data/10K10Q/Data_10K/item7_63908_2019-02-22.txt already exists\n",
      "../../Processed Data/10K10Q/Data_10K/item7_63908_2010-02-26.txt already exists\n",
      "../../Processed Data/10K10Q/Data_10K/item7_21344_2010-02-26.txt already exists\n",
      "../../Processed Data/10K10Q/Data_10K/item7_21344_2016-02-25.txt already exists\n",
      "../../Processed Data/10K10Q/Data_10K/item7_21344_2011-02-28.txt already exists\n",
      "../../Processed Data/10K10Q/Data_10K/item7_21344_2018-02-23.txt already exists\n",
      "../../Processed Data/10K10Q/Data_10K/item7_21344_2017-02-24.txt already exists\n",
      "../../Processed Data/10K10Q/Data_10K/item7_21344_2014-02-27.txt already exists\n",
      "../../Processed Data/10K10Q/Data_10K/item7_21344_2013-02-27.txt already exists\n",
      "../../Processed Data/10K10Q/Data_10K/item7_21344_2015-02-25.txt already exists\n",
      "../../Processed Data/10K10Q/Data_10K/item7_21344_2019-02-21.txt already exists\n",
      "../../Processed Data/10K10Q/Data_10K/item7_21344_2012-02-23.txt already exists\n"
     ]
    },
    {
     "name": "stderr",
     "output_type": "stream",
     "text": [
      "\r",
      " 66%|████████████████████████████████████████████████████▌                          | 218/328 [00:01<00:00, 169.25it/s]"
     ]
    },
    {
     "name": "stdout",
     "output_type": "stream",
     "text": [
      "../../Processed Data/10K10Q/Data_10K/item7_50863_2015-02-13.txt already exists\n",
      "../../Processed Data/10K10Q/Data_10K/item7_50863_2019-02-01.txt already exists\n",
      "../../Processed Data/10K10Q/Data_10K/item7_50863_2020-01-24.txt already exists\n",
      "../../Processed Data/10K10Q/Data_10K/item7_50863_2012-02-23.txt already exists\n",
      "../../Processed Data/10K10Q/Data_10K/item7_50863_2010-02-22.txt already exists\n",
      "../../Processed Data/10K10Q/Data_10K/item7_50863_2013-02-19.txt already exists\n",
      "../../Processed Data/10K10Q/Data_10K/item7_50863_2018-02-16.txt already exists\n",
      "../../Processed Data/10K10Q/Data_10K/item7_50863_2014-02-14.txt already exists\n",
      "../../Processed Data/10K10Q/Data_10K/item7_50863_2016-02-12.txt already exists\n",
      "../../Processed Data/10K10Q/Data_10K/item7_50863_2017-02-17.txt already exists\n",
      "../../Processed Data/10K10Q/Data_10K/item7_50863_2011-02-18.txt already exists\n",
      "../../Processed Data/10K10Q/Data_10K/item7_354950_2014-03-27.txt already exists\n",
      "../../Processed Data/10K10Q/Data_10K/item7_354950_2018-03-22.txt already exists\n",
      "../../Processed Data/10K10Q/Data_10K/item7_354950_2017-03-23.txt already exists\n",
      "../../Processed Data/10K10Q/Data_10K/item7_354950_2012-03-22.txt already exists\n",
      "../../Processed Data/10K10Q/Data_10K/item7_354950_2010-03-25.txt already exists\n",
      "../../Processed Data/10K10Q/Data_10K/item7_354950_2016-03-24.txt already exists\n"
     ]
    },
    {
     "name": "stderr",
     "output_type": "stream",
     "text": [
      "\r",
      " 72%|████████████████████████████████████████████████████████▊                      | 236/328 [00:01<00:00, 172.03it/s]"
     ]
    },
    {
     "name": "stdout",
     "output_type": "stream",
     "text": [
      "../../Processed Data/10K10Q/Data_10K/item7_354950_2013-03-28.txt already exists\n",
      "../../Processed Data/10K10Q/Data_10K/item7_354950_2015-03-26.txt already exists\n",
      "../../Processed Data/10K10Q/Data_10K/item7_354950_2019-03-28.txt already exists\n",
      "../../Processed Data/10K10Q/Data_10K/item7_354950_2011-03-24.txt already exists\n",
      "../../Processed Data/10K10Q/Data_10K/item7_80424_2018-08-07.txt already exists\n",
      "../../Processed Data/10K10Q/Data_10K/item7_80424_2015-08-07.txt already exists\n",
      "../../Processed Data/10K10Q/Data_10K/item7_80424_2013-08-08.txt already exists\n",
      "../../Processed Data/10K10Q/Data_10K/item7_80424_2016-08-09.txt already exists\n",
      "../../Processed Data/10K10Q/Data_10K/item7_80424_2017-08-07.txt already exists\n",
      "../../Processed Data/10K10Q/Data_10K/item7_80424_2014-08-08.txt already exists\n",
      "../../Processed Data/10K10Q/Data_10K/item7_80424_2012-08-08.txt already exists\n",
      "../../Processed Data/10K10Q/Data_10K/item7_80424_2019-08-06.txt already exists\n",
      "../../Processed Data/10K10Q/Data_10K/item7_80424_2011-08-10.txt already exists\n",
      "../../Processed Data/10K10Q/Data_10K/item7_80424_2010-08-13.txt already exists\n",
      "../../Processed Data/10K10Q/Data_10K/item7_104169_2017-03-31.txt already exists\n",
      "../../Processed Data/10K10Q/Data_10K/item7_104169_2019-03-28.txt already exists\n",
      "../../Processed Data/10K10Q/Data_10K/item7_104169_2012-03-27.txt already exists\n",
      "../../Processed Data/10K10Q/Data_10K/item7_104169_2010-03-30.txt already exists\n"
     ]
    },
    {
     "name": "stderr",
     "output_type": "stream",
     "text": [
      "\r",
      " 77%|█████████████████████████████████████████████████████████████▏                 | 254/328 [00:01<00:00, 173.55it/s]"
     ]
    },
    {
     "name": "stdout",
     "output_type": "stream",
     "text": [
      "../../Processed Data/10K10Q/Data_10K/item7_104169_2018-03-30.txt already exists\n",
      "../../Processed Data/10K10Q/Data_10K/item7_104169_2016-03-30.txt already exists\n",
      "../../Processed Data/10K10Q/Data_10K/item7_104169_2015-04-01.txt already exists\n",
      "../../Processed Data/10K10Q/Data_10K/item7_104169_2013-03-26.txt already exists\n",
      "../../Processed Data/10K10Q/Data_10K/item7_104169_2014-03-21.txt already exists\n",
      "../../Processed Data/10K10Q/Data_10K/item7_104169_2011-03-30.txt already exists\n",
      "../../Processed Data/10K10Q/Data_10K/item7_66740_2012-02-16.txt already exists\n",
      "../../Processed Data/10K10Q/Data_10K/item7_66740_2010-02-16.txt already exists\n",
      "../../Processed Data/10K10Q/Data_10K/item7_66740_2013-02-14.txt already exists\n",
      "../../Processed Data/10K10Q/Data_10K/item7_66740_2020-02-06.txt already exists\n",
      "../../Processed Data/10K10Q/Data_10K/item7_66740_2014-02-13.txt already exists\n",
      "../../Processed Data/10K10Q/Data_10K/item7_66740_2017-02-09.txt already exists\n",
      "../../Processed Data/10K10Q/Data_10K/item7_66740_2019-02-07.txt already exists\n",
      "../../Processed Data/10K10Q/Data_10K/item7_66740_2011-02-16.txt already exists\n",
      "../../Processed Data/10K10Q/Data_10K/item7_66740_2018-02-08.txt already exists\n",
      "../../Processed Data/10K10Q/Data_10K/item7_66740_2015-02-12.txt already exists\n",
      "../../Processed Data/10K10Q/Data_10K/item7_66740_2016-02-11.txt already exists\n",
      "../../Processed Data/10K10Q/Data_10K/item7_1618921_2016-10-20.txt already exists\n"
     ]
    },
    {
     "name": "stderr",
     "output_type": "stream",
     "text": [
      "\r",
      " 83%|█████████████████████████████████████████████████████████████████▌             | 272/328 [00:01<00:00, 162.45it/s]"
     ]
    },
    {
     "name": "stdout",
     "output_type": "stream",
     "text": [
      "../../Processed Data/10K10Q/Data_10K/item7_1618921_2017-10-25.txt already exists\n",
      "../../Processed Data/10K10Q/Data_10K/item7_1618921_2015-10-28.txt already exists\n",
      "../../Processed Data/10K10Q/Data_10K/item7_1618921_2018-10-11.txt already exists\n",
      "../../Processed Data/10K10Q/Data_10K/item7_1618921_2019-10-28.txt already exists\n",
      "../../Processed Data/10K10Q/Data_10K/item7_93410_2016-02-25.txt already exists\n",
      "../../Processed Data/10K10Q/Data_10K/item7_93410_2019-02-22.txt already exists\n",
      "../../Processed Data/10K10Q/Data_10K/item7_93410_2013-02-22.txt already exists\n",
      "../../Processed Data/10K10Q/Data_10K/item7_93410_2011-02-24.txt already exists\n",
      "../../Processed Data/10K10Q/Data_10K/item7_93410_2015-02-20.txt already exists\n",
      "../../Processed Data/10K10Q/Data_10K/item7_93410_2018-02-22.txt already exists\n",
      "../../Processed Data/10K10Q/Data_10K/item7_93410_2014-02-21.txt already exists\n",
      "../../Processed Data/10K10Q/Data_10K/item7_93410_2010-02-25.txt already exists\n",
      "../../Processed Data/10K10Q/Data_10K/item7_93410_2012-02-23.txt already exists\n",
      "../../Processed Data/10K10Q/Data_10K/item7_93410_2017-02-23.txt already exists\n",
      "../../Processed Data/10K10Q/Data_10K/item7_19617_2019-02-26.txt already exists\n",
      "../../Processed Data/10K10Q/Data_10K/item7_19617_2017-02-28.txt already exists\n",
      "../../Processed Data/10K10Q/Data_10K/item7_19617_2012-02-29.txt already exists\n",
      "../../Processed Data/10K10Q/Data_10K/item7_19617_2014-02-20.txt already exists\n"
     ]
    },
    {
     "name": "stderr",
     "output_type": "stream",
     "text": [
      "\r",
      " 88%|█████████████████████████████████████████████████████████████████████▊         | 290/328 [00:01<00:00, 165.99it/s]"
     ]
    },
    {
     "name": "stdout",
     "output_type": "stream",
     "text": [
      "../../Processed Data/10K10Q/Data_10K/item7_19617_2010-02-24.txt already exists\n",
      "../../Processed Data/10K10Q/Data_10K/item7_19617_2015-02-24.txt already exists\n",
      "../../Processed Data/10K10Q/Data_10K/item7_19617_2018-02-27.txt already exists\n",
      "../../Processed Data/10K10Q/Data_10K/item7_19617_2013-02-28.txt already exists\n",
      "../../Processed Data/10K10Q/Data_10K/item7_19617_2016-02-23.txt already exists\n",
      "../../Processed Data/10K10Q/Data_10K/item7_19617_2011-02-28.txt already exists\n",
      "../../Processed Data/10K10Q/Data_10K/item7_101829_2016-02-11.txt already exists\n",
      "../../Processed Data/10K10Q/Data_10K/item7_101829_2018-02-09.txt already exists\n",
      "../../Processed Data/10K10Q/Data_10K/item7_101829_2015-02-05.txt already exists\n",
      "../../Processed Data/10K10Q/Data_10K/item7_101829_2013-02-07.txt already exists\n",
      "../../Processed Data/10K10Q/Data_10K/item7_101829_2012-02-09.txt already exists\n",
      "../../Processed Data/10K10Q/Data_10K/item7_101829_2011-02-10.txt already exists\n",
      "../../Processed Data/10K10Q/Data_10K/item7_101829_2019-02-07.txt already exists\n",
      "../../Processed Data/10K10Q/Data_10K/item7_101829_2017-02-09.txt already exists\n",
      "../../Processed Data/10K10Q/Data_10K/item7_101829_2014-02-06.txt already exists\n",
      "../../Processed Data/10K10Q/Data_10K/item7_101829_2020-02-06.txt already exists\n",
      "../../Processed Data/10K10Q/Data_10K/item7_101829_2010-02-11.txt already exists\n"
     ]
    },
    {
     "name": "stderr",
     "output_type": "stream",
     "text": [
      "\r",
      " 94%|█████████████████████████████████████████████████████████████████████████▉     | 307/328 [00:01<00:00, 163.93it/s]"
     ]
    },
    {
     "name": "stdout",
     "output_type": "stream",
     "text": [
      "../../Processed Data/10K10Q/Data_10K/item7_4962_2010-02-26.txt already exists\n",
      "../../Processed Data/10K10Q/Data_10K/item7_4962_2017-02-17.txt already exists\n",
      "../../Processed Data/10K10Q/Data_10K/item7_4962_2014-02-25.txt already exists\n",
      "../../Processed Data/10K10Q/Data_10K/item7_4962_2018-02-16.txt already exists\n",
      "../../Processed Data/10K10Q/Data_10K/item7_4962_2019-02-13.txt already exists\n",
      "../../Processed Data/10K10Q/Data_10K/item7_4962_2013-02-22.txt already exists\n",
      "../../Processed Data/10K10Q/Data_10K/item7_4962_2016-02-19.txt already exists\n",
      "../../Processed Data/10K10Q/Data_10K/item7_4962_2011-02-28.txt already exists\n",
      "../../Processed Data/10K10Q/Data_10K/item7_4962_2012-02-24.txt already exists\n",
      "../../Processed Data/10K10Q/Data_10K/item7_4962_2020-02-13.txt already exists\n",
      "../../Processed Data/10K10Q/Data_10K/item7_4962_2015-02-24.txt already exists\n",
      "../../Processed Data/10K10Q/Data_10K/item7_34088_2011-02-25.txt already exists\n",
      "../../Processed Data/10K10Q/Data_10K/item7_34088_2016-02-24.txt already exists\n",
      "../../Processed Data/10K10Q/Data_10K/item7_34088_2010-02-26.txt already exists\n",
      "../../Processed Data/10K10Q/Data_10K/item7_34088_2018-02-28.txt already exists\n",
      "../../Processed Data/10K10Q/Data_10K/item7_34088_2017-02-22.txt already exists\n",
      "../../Processed Data/10K10Q/Data_10K/item7_34088_2013-02-27.txt already exists\n",
      "../../Processed Data/10K10Q/Data_10K/item7_34088_2015-02-25.txt already exists\n",
      "../../Processed Data/10K10Q/Data_10K/item7_34088_2019-02-27.txt already exists\n"
     ]
    },
    {
     "name": "stderr",
     "output_type": "stream",
     "text": [
      "\r",
      " 99%|██████████████████████████████████████████████████████████████████████████████▌| 326/328 [00:01<00:00, 170.08it/s]"
     ]
    },
    {
     "name": "stdout",
     "output_type": "stream",
     "text": [
      "../../Processed Data/10K10Q/Data_10K/item7_34088_2014-02-26.txt already exists\n",
      "../../Processed Data/10K10Q/Data_10K/item7_34088_2012-02-24.txt already exists\n"
     ]
    },
    {
     "name": "stderr",
     "output_type": "stream",
     "text": [
      "100%|███████████████████████████████████████████████████████████████████████████████| 328/328 [00:01<00:00, 179.48it/s]\n"
     ]
    }
   ],
   "source": [
    "with ZipFile(\"../../Raw Data/Data_10K.zip\", \"r\") as zipped_file:\n",
    "    for i in tqdm(range(len(zipped_file.infolist()))):\n",
    "        info = zipped_file.infolist()[i]\n",
    "        if \"html\" in info.filename and \"MACOS\" not in info.filename:\n",
    "                \n",
    "            cik = info.filename.split(\"/\")[1]\n",
    "            date = info.filename.split(\"/\")[2].split(\"_\")[1][:-5]\n",
    "            saving_path = \"../../Processed Data/10K10Q/Data_10K/item7\" + \"_\" + cik + \"_\" + date + \".txt\"\n",
    "\n",
    "            if os.path.isfile(saving_path):\n",
    "                print(saving_path, \"already exists\")\n",
    "                continue\n",
    "            \n",
    "            zipped_file.extract(info.filename)\n",
    "            html = open(info.filename).read()\n",
    "            soup = BeautifulSoup(html)\n",
    "            text = soup.get_text(\" \")\n",
    "            text = unicodedata.normalize(\"NFKD\", text)\n",
    "            text = text.replace(\"\\t\", \" \")\n",
    "            text = text.replace(\"/\", \" \")\n",
    "            text = \"\".join([i if ord(i) < 128 else \"\" for i in text])\n",
    "            text = \" \".join(text.split())\n",
    "            original_text = text\n",
    "            \n",
    "            results = []\n",
    "            item7 = \"item[\\s]*7[-.:\\s]*manage.*?item[\\s]*7[\\s]*a[-.:\\s]*(?:quan|qual)\"\n",
    "            item6 = \"item[\\s]*6[-.:\\s]*manage.*?item[\\s]*6[\\s]*a[-.:\\s]*(?:quan|qual)\"\n",
    "            regex_dict = {\"item7\":item7, \"item6\":item6}\n",
    "            matches = []\n",
    "            matches = re.findall(item7, text, re.IGNORECASE)\n",
    "            name = \"item7\"\n",
    "            \n",
    "            if not matches:\n",
    "                matches = re.findall(item6, text, re.IGNORECASE)\n",
    "                name = \"item6\"\n",
    "            if matches:\n",
    "                while matches:\n",
    "                    item_regex = regex_dict[name]\n",
    "                    current_match = matches[0]\n",
    "                    results.append(current_match)\n",
    "                    text = text.replace(current_match[:20], \" \", 1)\n",
    "                    matches.remove(current_match)\n",
    "                    matches.extend(re.findall(item_regex, text, re.IGNORECASE))\n",
    "                name = name.replace(\"6\", \"7\")\n",
    "                print(\"\")\n",
    "                cik = info.filename.split(\"/\")[1]\n",
    "                date = info.filename.split(\"/\")[2].split(\"_\")[1][:-5]\n",
    "                saving_path = \"../../Processed Data/Data_10K/\" + name + \"_\" + cik + \"_\" + date + \".txt\"\n",
    "                print(\"\")\n",
    "                print(\"Saving as...\", saving_path)\n",
    "                \n",
    "                file_location = open(saving_path, \"w\")\n",
    "                file_location.write(results[-1])\n",
    "                file_location.close()\n",
    "                \n",
    "                print(\"----SUCCESS----\")\n",
    "            else:\n",
    "                print(\"Failed\")\n",
    "            print(\"\")\n",
    "            print(\"\")\n",
    "            print(\"\")\n",
    "        if os.path.isdir(\"Data_10K\"):\n",
    "            shutil.rmtree(\"Data_10K\")"
   ]
  },
  {
   "cell_type": "code",
   "execution_count": 5,
   "metadata": {
    "scrolled": true
   },
   "outputs": [
    {
     "name": "stderr",
     "output_type": "stream",
     "text": [
      "\r",
      "  0%|                                                                                          | 0/328 [00:00<?, ?it/s]"
     ]
    },
    {
     "name": "stdout",
     "output_type": "stream",
     "text": [
      "../../Processed Data/10K10Q/Data_10K/item1a_18230_2017-02-15.txt already exists\n",
      "../../Processed Data/10K10Q/Data_10K/item1a_18230_2010-02-19.txt already exists\n",
      "../../Processed Data/10K10Q/Data_10K/item1a_18230_2018-02-15.txt already exists\n",
      "../../Processed Data/10K10Q/Data_10K/item1a_18230_2016-02-16.txt already exists\n",
      "../../Processed Data/10K10Q/Data_10K/item1a_18230_2015-02-17.txt already exists\n",
      "../../Processed Data/10K10Q/Data_10K/item1a_18230_2013-02-19.txt already exists\n",
      "../../Processed Data/10K10Q/Data_10K/item1a_18230_2011-02-22.txt already exists\n",
      "../../Processed Data/10K10Q/Data_10K/item1a_18230_2012-02-21.txt already exists\n",
      "../../Processed Data/10K10Q/Data_10K/item1a_18230_2019-02-14.txt already exists\n",
      "../../Processed Data/10K10Q/Data_10K/item1a_18230_2014-02-18.txt already exists\n",
      "../../Processed Data/10K10Q/Data_10K/item1a_886982_2018-02-26.txt already exists\n",
      "../../Processed Data/10K10Q/Data_10K/item1a_886982_2014-02-28.txt already exists\n",
      "../../Processed Data/10K10Q/Data_10K/item1a_886982_2016-02-22.txt already exists\n",
      "../../Processed Data/10K10Q/Data_10K/item1a_886982_2017-02-27.txt already exists\n",
      "../../Processed Data/10K10Q/Data_10K/item1a_886982_2010-03-01.txt already exists\n",
      "../../Processed Data/10K10Q/Data_10K/item1a_886982_2013-03-01.txt already exists\n",
      "../../Processed Data/10K10Q/Data_10K/item1a_886982_2019-02-26.txt already exists\n",
      "../../Processed Data/10K10Q/Data_10K/item1a_886982_2012-02-28.txt already exists\n",
      "../../Processed Data/10K10Q/Data_10K/item1a_886982_2015-02-23.txt already exists\n"
     ]
    },
    {
     "name": "stderr",
     "output_type": "stream",
     "text": [
      "\r",
      " 16%|█████████████▏                                                                  | 54/328 [00:00<00:00, 530.45it/s]"
     ]
    },
    {
     "name": "stdout",
     "output_type": "stream",
     "text": [
      "../../Processed Data/10K10Q/Data_10K/item1a_886982_2011-03-01.txt already exists\n",
      "../../Processed Data/10K10Q/Data_10K/item1a_320193_2016-10-26.txt already exists\n",
      "../../Processed Data/10K10Q/Data_10K/item1a_320193_2013-10-30.txt already exists\n",
      "../../Processed Data/10K10Q/Data_10K/item1a_320193_2015-10-28.txt already exists\n",
      "../../Processed Data/10K10Q/Data_10K/item1a_320193_2018-11-05.txt already exists\n",
      "../../Processed Data/10K10Q/Data_10K/item1a_320193_2017-11-03.txt already exists\n",
      "../../Processed Data/10K10Q/Data_10K/item1a_320193_2014-10-27.txt already exists\n",
      "../../Processed Data/10K10Q/Data_10K/item1a_320193_2011-10-26.txt already exists\n",
      "../../Processed Data/10K10Q/Data_10K/item1a_320193_2019-10-31.txt already exists\n",
      "../../Processed Data/10K10Q/Data_10K/item1a_320193_2012-10-31.txt already exists\n",
      "../../Processed Data/10K10Q/Data_10K/item1a_320193_2010-10-27.txt already exists\n",
      "../../Processed Data/10K10Q/Data_10K/item1a_310158_2016-02-26.txt already exists\n",
      "../../Processed Data/10K10Q/Data_10K/item1a_310158_2012-02-28.txt already exists\n",
      "../../Processed Data/10K10Q/Data_10K/item1a_310158_2017-02-28.txt already exists\n",
      "../../Processed Data/10K10Q/Data_10K/item1a_310158_2014-02-27.txt already exists\n",
      "../../Processed Data/10K10Q/Data_10K/item1a_310158_2019-02-27.txt already exists\n",
      "../../Processed Data/10K10Q/Data_10K/item1a_310158_2010-03-01.txt already exists\n",
      "../../Processed Data/10K10Q/Data_10K/item1a_310158_2011-02-28.txt already exists\n",
      "../../Processed Data/10K10Q/Data_10K/item1a_310158_2015-02-27.txt already exists\n",
      "../../Processed Data/10K10Q/Data_10K/item1a_310158_2018-02-27.txt already exists\n"
     ]
    },
    {
     "name": "stderr",
     "output_type": "stream",
     "text": [
      "\r",
      " 23%|██████████████████                                                              | 74/328 [00:00<00:00, 352.58it/s]"
     ]
    },
    {
     "name": "stdout",
     "output_type": "stream",
     "text": [
      "../../Processed Data/10K10Q/Data_10K/item1a_310158_2013-02-28.txt already exists\n",
      "../../Processed Data/10K10Q/Data_10K/item1a_731766_2011-02-10.txt already exists\n",
      "../../Processed Data/10K10Q/Data_10K/item1a_731766_2017-02-08.txt already exists\n",
      "../../Processed Data/10K10Q/Data_10K/item1a_731766_2012-02-09.txt already exists\n",
      "../../Processed Data/10K10Q/Data_10K/item1a_731766_2020-02-14.txt already exists\n",
      "../../Processed Data/10K10Q/Data_10K/item1a_731766_2013-02-07.txt already exists\n",
      "../../Processed Data/10K10Q/Data_10K/item1a_731766_2018-02-13.txt already exists\n",
      "../../Processed Data/10K10Q/Data_10K/item1a_731766_2015-02-10.txt already exists\n",
      "../../Processed Data/10K10Q/Data_10K/item1a_731766_2016-02-09.txt already exists\n",
      "../../Processed Data/10K10Q/Data_10K/item1a_731766_2010-02-10.txt already exists\n",
      "../../Processed Data/10K10Q/Data_10K/item1a_731766_2019-02-12.txt already exists\n",
      "../../Processed Data/10K10Q/Data_10K/item1a_731766_2014-02-12.txt already exists\n",
      "../../Processed Data/10K10Q/Data_10K/item1a_732712_2013-02-26.txt already exists\n",
      "../../Processed Data/10K10Q/Data_10K/item1a_732712_2014-02-27.txt already exists\n",
      "../../Processed Data/10K10Q/Data_10K/item1a_732712_2015-02-23.txt already exists\n",
      "../../Processed Data/10K10Q/Data_10K/item1a_732712_2012-02-24.txt already exists\n",
      "../../Processed Data/10K10Q/Data_10K/item1a_732712_2018-02-23.txt already exists\n",
      "../../Processed Data/10K10Q/Data_10K/item1a_732712_2016-02-23.txt already exists\n",
      "../../Processed Data/10K10Q/Data_10K/item1a_732712_2011-02-28.txt already exists\n",
      "../../Processed Data/10K10Q/Data_10K/item1a_732712_2019-02-15.txt already exists\n"
     ]
    },
    {
     "name": "stderr",
     "output_type": "stream",
     "text": [
      "\r",
      " 29%|██████████████████████▉                                                         | 94/328 [00:00<00:00, 281.16it/s]"
     ]
    },
    {
     "name": "stdout",
     "output_type": "stream",
     "text": [
      "../../Processed Data/10K10Q/Data_10K/item1a_732712_2017-02-21.txt already exists\n",
      "../../Processed Data/10K10Q/Data_10K/item1a_732712_2010-02-26.txt already exists\n",
      "../../Processed Data/10K10Q/Data_10K/item1a_86312_2015-02-12.txt already exists\n",
      "../../Processed Data/10K10Q/Data_10K/item1a_86312_2016-02-11.txt already exists\n",
      "../../Processed Data/10K10Q/Data_10K/item1a_86312_2011-02-17.txt already exists\n",
      "../../Processed Data/10K10Q/Data_10K/item1a_86312_2010-02-18.txt already exists\n",
      "../../Processed Data/10K10Q/Data_10K/item1a_86312_2020-02-13.txt already exists\n",
      "../../Processed Data/10K10Q/Data_10K/item1a_86312_2018-02-15.txt already exists\n",
      "../../Processed Data/10K10Q/Data_10K/item1a_86312_2014-02-13.txt already exists\n",
      "../../Processed Data/10K10Q/Data_10K/item1a_86312_2013-02-19.txt already exists\n",
      "../../Processed Data/10K10Q/Data_10K/item1a_86312_2017-02-16.txt already exists\n",
      "../../Processed Data/10K10Q/Data_10K/item1a_86312_2019-02-14.txt already exists\n",
      "../../Processed Data/10K10Q/Data_10K/item1a_86312_2012-02-16.txt already exists\n",
      "../../Processed Data/10K10Q/Data_10K/item1a_78003_2017-02-23.txt already exists\n",
      "../../Processed Data/10K10Q/Data_10K/item1a_78003_2018-02-22.txt already exists\n",
      "../../Processed Data/10K10Q/Data_10K/item1a_78003_2012-02-28.txt already exists\n",
      "../../Processed Data/10K10Q/Data_10K/item1a_78003_2011-02-28.txt already exists\n",
      "../../Processed Data/10K10Q/Data_10K/item1a_78003_2019-02-28.txt already exists\n"
     ]
    },
    {
     "name": "stderr",
     "output_type": "stream",
     "text": [
      "\r",
      " 34%|██████████████████████████▉                                                    | 112/328 [00:00<00:01, 215.29it/s]"
     ]
    },
    {
     "name": "stdout",
     "output_type": "stream",
     "text": [
      "../../Processed Data/10K10Q/Data_10K/item1a_78003_2014-02-28.txt already exists\n",
      "../../Processed Data/10K10Q/Data_10K/item1a_78003_2016-02-29.txt already exists\n",
      "../../Processed Data/10K10Q/Data_10K/item1a_78003_2013-02-28.txt already exists\n",
      "../../Processed Data/10K10Q/Data_10K/item1a_78003_2015-02-27.txt already exists\n",
      "../../Processed Data/10K10Q/Data_10K/item1a_78003_2010-02-26.txt already exists\n",
      "../../Processed Data/10K10Q/Data_10K/item1a_51143_2016-02-23.txt already exists\n",
      "../../Processed Data/10K10Q/Data_10K/item1a_51143_2014-02-25.txt already exists\n",
      "../../Processed Data/10K10Q/Data_10K/item1a_51143_2018-02-27.txt already exists\n",
      "../../Processed Data/10K10Q/Data_10K/item1a_51143_2011-02-22.txt already exists\n",
      "../../Processed Data/10K10Q/Data_10K/item1a_51143_2015-02-24.txt already exists\n",
      "../../Processed Data/10K10Q/Data_10K/item1a_51143_2013-02-26.txt already exists\n",
      "../../Processed Data/10K10Q/Data_10K/item1a_51143_2012-02-28.txt already exists\n",
      "../../Processed Data/10K10Q/Data_10K/item1a_51143_2019-02-26.txt already exists\n",
      "../../Processed Data/10K10Q/Data_10K/item1a_51143_2010-02-23.txt already exists\n",
      "../../Processed Data/10K10Q/Data_10K/item1a_51143_2017-02-28.txt already exists\n",
      "../../Processed Data/10K10Q/Data_10K/item1a_789019_2013-07-30.txt already exists\n",
      "../../Processed Data/10K10Q/Data_10K/item1a_789019_2014-07-31.txt already exists\n"
     ]
    },
    {
     "name": "stderr",
     "output_type": "stream",
     "text": [
      "\r",
      " 39%|███████████████████████████████                                                | 129/328 [00:00<00:01, 188.11it/s]"
     ]
    },
    {
     "name": "stdout",
     "output_type": "stream",
     "text": [
      "../../Processed Data/10K10Q/Data_10K/item1a_789019_2011-07-28.txt already exists\n",
      "../../Processed Data/10K10Q/Data_10K/item1a_789019_2019-08-01.txt already exists\n",
      "../../Processed Data/10K10Q/Data_10K/item1a_789019_2012-07-26.txt already exists\n",
      "../../Processed Data/10K10Q/Data_10K/item1a_789019_2017-08-02.txt already exists\n",
      "../../Processed Data/10K10Q/Data_10K/item1a_789019_2018-08-03.txt already exists\n",
      "../../Processed Data/10K10Q/Data_10K/item1a_789019_2015-07-31.txt already exists\n",
      "../../Processed Data/10K10Q/Data_10K/item1a_789019_2016-07-28.txt already exists\n",
      "../../Processed Data/10K10Q/Data_10K/item1a_789019_2010-07-30.txt already exists\n",
      "../../Processed Data/10K10Q/Data_10K/item1a_1751788_2020-02-07.txt already exists\n",
      "../../Processed Data/10K10Q/Data_10K/item1a_12927_2012-02-09.txt already exists\n",
      "../../Processed Data/10K10Q/Data_10K/item1a_12927_2017-02-08.txt already exists\n",
      "../../Processed Data/10K10Q/Data_10K/item1a_12927_2015-02-12.txt already exists\n",
      "../../Processed Data/10K10Q/Data_10K/item1a_12927_2018-02-12.txt already exists\n",
      "../../Processed Data/10K10Q/Data_10K/item1a_12927_2010-02-08.txt already exists\n",
      "../../Processed Data/10K10Q/Data_10K/item1a_12927_2016-02-10.txt already exists\n",
      "../../Processed Data/10K10Q/Data_10K/item1a_12927_2013-02-11.txt already exists\n",
      "../../Processed Data/10K10Q/Data_10K/item1a_12927_2020-01-31.txt already exists\n"
     ]
    },
    {
     "name": "stderr",
     "output_type": "stream",
     "text": [
      "\r",
      " 45%|███████████████████████████████████▏                                           | 146/328 [00:00<00:01, 178.94it/s]"
     ]
    },
    {
     "name": "stdout",
     "output_type": "stream",
     "text": [
      "../../Processed Data/10K10Q/Data_10K/item1a_12927_2014-02-14.txt already exists\n",
      "../../Processed Data/10K10Q/Data_10K/item1a_12927_2019-02-08.txt already exists\n",
      "../../Processed Data/10K10Q/Data_10K/item1a_12927_2011-02-09.txt already exists\n",
      "../../Processed Data/10K10Q/Data_10K/item1a_200406_2019-02-20.txt already exists\n",
      "../../Processed Data/10K10Q/Data_10K/item1a_200406_2012-02-23.txt already exists\n",
      "../../Processed Data/10K10Q/Data_10K/item1a_200406_2014-02-21.txt already exists\n",
      "../../Processed Data/10K10Q/Data_10K/item1a_200406_2015-02-24.txt already exists\n",
      "../../Processed Data/10K10Q/Data_10K/item1a_200406_2016-02-24.txt already exists\n",
      "../../Processed Data/10K10Q/Data_10K/item1a_200406_2010-03-01.txt already exists\n",
      "../../Processed Data/10K10Q/Data_10K/item1a_200406_2017-02-27.txt already exists\n",
      "../../Processed Data/10K10Q/Data_10K/item1a_200406_2018-02-21.txt already exists\n",
      "../../Processed Data/10K10Q/Data_10K/item1a_200406_2011-02-25.txt already exists\n",
      "../../Processed Data/10K10Q/Data_10K/item1a_200406_2013-02-22.txt already exists\n",
      "../../Processed Data/10K10Q/Data_10K/item1a_320187_2012-07-24.txt already exists\n",
      "../../Processed Data/10K10Q/Data_10K/item1a_320187_2015-07-23.txt already exists\n",
      "../../Processed Data/10K10Q/Data_10K/item1a_320187_2016-07-21.txt already exists\n"
     ]
    },
    {
     "name": "stderr",
     "output_type": "stream",
     "text": [
      "\r",
      " 49%|███████████████████████████████████████                                        | 162/328 [00:00<00:01, 161.57it/s]"
     ]
    },
    {
     "name": "stdout",
     "output_type": "stream",
     "text": [
      "../../Processed Data/10K10Q/Data_10K/item1a_320187_2018-07-25.txt already exists\n",
      "../../Processed Data/10K10Q/Data_10K/item1a_320187_2017-07-20.txt already exists\n",
      "../../Processed Data/10K10Q/Data_10K/item1a_320187_2019-07-23.txt already exists\n",
      "../../Processed Data/10K10Q/Data_10K/item1a_320187_2011-07-22.txt already exists\n",
      "../../Processed Data/10K10Q/Data_10K/item1a_320187_2013-07-23.txt already exists\n",
      "../../Processed Data/10K10Q/Data_10K/item1a_320187_2010-07-20.txt already exists\n",
      "../../Processed Data/10K10Q/Data_10K/item1a_320187_2014-07-25.txt already exists\n",
      "../../Processed Data/10K10Q/Data_10K/item1a_858877_2013-09-10.txt already exists\n",
      "../../Processed Data/10K10Q/Data_10K/item1a_858877_2015-09-08.txt already exists\n",
      "../../Processed Data/10K10Q/Data_10K/item1a_858877_2012-09-12.txt already exists\n",
      "../../Processed Data/10K10Q/Data_10K/item1a_858877_2019-09-05.txt already exists\n",
      "../../Processed Data/10K10Q/Data_10K/item1a_858877_2010-09-21.txt already exists\n",
      "../../Processed Data/10K10Q/Data_10K/item1a_858877_2014-09-09.txt already exists\n",
      "../../Processed Data/10K10Q/Data_10K/item1a_858877_2017-09-07.txt already exists\n",
      "../../Processed Data/10K10Q/Data_10K/item1a_858877_2011-09-14.txt already exists\n",
      "../../Processed Data/10K10Q/Data_10K/item1a_858877_2018-09-06.txt already exists\n",
      "../../Processed Data/10K10Q/Data_10K/item1a_858877_2016-09-08.txt already exists\n",
      "../../Processed Data/10K10Q/Data_10K/item1a_1403161_2010-11-19.txt already exists\n"
     ]
    },
    {
     "name": "stderr",
     "output_type": "stream",
     "text": [
      "\r",
      " 55%|███████████████████████████████████████████▎                                   | 180/328 [00:00<00:00, 165.36it/s]"
     ]
    },
    {
     "name": "stdout",
     "output_type": "stream",
     "text": [
      "../../Processed Data/10K10Q/Data_10K/item1a_1403161_2014-11-21.txt already exists\n",
      "../../Processed Data/10K10Q/Data_10K/item1a_1403161_2011-11-18.txt already exists\n",
      "../../Processed Data/10K10Q/Data_10K/item1a_1403161_2017-11-17.txt already exists\n",
      "../../Processed Data/10K10Q/Data_10K/item1a_1403161_2012-11-16.txt already exists\n",
      "../../Processed Data/10K10Q/Data_10K/item1a_1403161_2019-11-14.txt already exists\n",
      "../../Processed Data/10K10Q/Data_10K/item1a_1403161_2013-11-22.txt already exists\n",
      "../../Processed Data/10K10Q/Data_10K/item1a_1403161_2018-11-16.txt already exists\n",
      "../../Processed Data/10K10Q/Data_10K/item1a_1403161_2015-11-20.txt already exists\n",
      "../../Processed Data/10K10Q/Data_10K/item1a_1403161_2016-11-15.txt already exists\n",
      "../../Processed Data/10K10Q/Data_10K/item1a_1001039_2018-11-21.txt already exists\n",
      "../../Processed Data/10K10Q/Data_10K/item1a_1001039_2016-11-23.txt already exists\n",
      "../../Processed Data/10K10Q/Data_10K/item1a_1001039_2011-11-23.txt already exists\n",
      "../../Processed Data/10K10Q/Data_10K/item1a_1001039_2012-11-21.txt already exists\n",
      "../../Processed Data/10K10Q/Data_10K/item1a_1001039_2014-11-19.txt already exists\n",
      "../../Processed Data/10K10Q/Data_10K/item1a_1001039_2015-11-25.txt already exists\n",
      "../../Processed Data/10K10Q/Data_10K/item1a_1001039_2010-11-24.txt already exists\n",
      "../../Processed Data/10K10Q/Data_10K/item1a_1001039_2017-11-22.txt already exists\n",
      "../../Processed Data/10K10Q/Data_10K/item1a_1001039_2013-11-20.txt already exists\n"
     ]
    },
    {
     "name": "stderr",
     "output_type": "stream",
     "text": [
      "\r",
      " 60%|███████████████████████████████████████████████▋                               | 198/328 [00:00<00:00, 168.04it/s]"
     ]
    },
    {
     "name": "stdout",
     "output_type": "stream",
     "text": [
      "../../Processed Data/10K10Q/Data_10K/item1a_63908_2015-02-24.txt already exists\n",
      "../../Processed Data/10K10Q/Data_10K/item1a_63908_2012-02-24.txt already exists\n",
      "../../Processed Data/10K10Q/Data_10K/item1a_63908_2018-02-23.txt already exists\n",
      "../../Processed Data/10K10Q/Data_10K/item1a_63908_2014-02-24.txt already exists\n",
      "../../Processed Data/10K10Q/Data_10K/item1a_63908_2011-02-25.txt already exists\n",
      "../../Processed Data/10K10Q/Data_10K/item1a_63908_2017-03-01.txt already exists\n",
      "../../Processed Data/10K10Q/Data_10K/item1a_63908_2016-02-25.txt already exists\n",
      "../../Processed Data/10K10Q/Data_10K/item1a_63908_2013-02-25.txt already exists\n",
      "../../Processed Data/10K10Q/Data_10K/item1a_63908_2019-02-22.txt already exists\n",
      "../../Processed Data/10K10Q/Data_10K/item1a_63908_2010-02-26.txt already exists\n",
      "../../Processed Data/10K10Q/Data_10K/item1a_21344_2010-02-26.txt already exists\n",
      "../../Processed Data/10K10Q/Data_10K/item1a_21344_2016-02-25.txt already exists\n",
      "../../Processed Data/10K10Q/Data_10K/item1a_21344_2011-02-28.txt already exists\n",
      "../../Processed Data/10K10Q/Data_10K/item1a_21344_2018-02-23.txt already exists\n",
      "../../Processed Data/10K10Q/Data_10K/item1a_21344_2017-02-24.txt already exists\n",
      "../../Processed Data/10K10Q/Data_10K/item1a_21344_2014-02-27.txt already exists\n",
      "../../Processed Data/10K10Q/Data_10K/item1a_21344_2013-02-27.txt already exists\n",
      "../../Processed Data/10K10Q/Data_10K/item1a_21344_2015-02-25.txt already exists\n",
      "../../Processed Data/10K10Q/Data_10K/item1a_21344_2019-02-21.txt already exists\n",
      "../../Processed Data/10K10Q/Data_10K/item1a_21344_2012-02-23.txt already exists\n",
      "../../Processed Data/10K10Q/Data_10K/item1a_50863_2015-02-13.txt already exists\n"
     ]
    },
    {
     "name": "stderr",
     "output_type": "stream",
     "text": [
      "\r",
      " 67%|████████████████████████████████████████████████████▋                          | 219/328 [00:01<00:00, 177.53it/s]"
     ]
    },
    {
     "name": "stdout",
     "output_type": "stream",
     "text": [
      "../../Processed Data/10K10Q/Data_10K/item1a_50863_2019-02-01.txt already exists\n",
      "../../Processed Data/10K10Q/Data_10K/item1a_50863_2020-01-24.txt already exists\n",
      "../../Processed Data/10K10Q/Data_10K/item1a_50863_2012-02-23.txt already exists\n",
      "../../Processed Data/10K10Q/Data_10K/item1a_50863_2010-02-22.txt already exists\n",
      "../../Processed Data/10K10Q/Data_10K/item1a_50863_2013-02-19.txt already exists\n",
      "../../Processed Data/10K10Q/Data_10K/item1a_50863_2018-02-16.txt already exists\n",
      "../../Processed Data/10K10Q/Data_10K/item1a_50863_2014-02-14.txt already exists\n",
      "../../Processed Data/10K10Q/Data_10K/item1a_50863_2016-02-12.txt already exists\n",
      "../../Processed Data/10K10Q/Data_10K/item1a_50863_2017-02-17.txt already exists\n",
      "../../Processed Data/10K10Q/Data_10K/item1a_50863_2011-02-18.txt already exists\n",
      "../../Processed Data/10K10Q/Data_10K/item1a_354950_2014-03-27.txt already exists\n",
      "../../Processed Data/10K10Q/Data_10K/item1a_354950_2018-03-22.txt already exists\n",
      "../../Processed Data/10K10Q/Data_10K/item1a_354950_2017-03-23.txt already exists\n",
      "../../Processed Data/10K10Q/Data_10K/item1a_354950_2012-03-22.txt already exists\n",
      "../../Processed Data/10K10Q/Data_10K/item1a_354950_2010-03-25.txt already exists\n",
      "../../Processed Data/10K10Q/Data_10K/item1a_354950_2016-03-24.txt already exists\n",
      "../../Processed Data/10K10Q/Data_10K/item1a_354950_2013-03-28.txt already exists\n",
      "../../Processed Data/10K10Q/Data_10K/item1a_354950_2015-03-26.txt already exists\n"
     ]
    },
    {
     "name": "stderr",
     "output_type": "stream",
     "text": [
      "\r",
      " 73%|█████████████████████████████████████████████████████████▎                     | 238/328 [00:01<00:00, 178.78it/s]"
     ]
    },
    {
     "name": "stdout",
     "output_type": "stream",
     "text": [
      "../../Processed Data/10K10Q/Data_10K/item1a_354950_2019-03-28.txt already exists\n",
      "../../Processed Data/10K10Q/Data_10K/item1a_354950_2011-03-24.txt already exists\n",
      "../../Processed Data/10K10Q/Data_10K/item1a_80424_2018-08-07.txt already exists\n",
      "../../Processed Data/10K10Q/Data_10K/item1a_80424_2015-08-07.txt already exists\n",
      "../../Processed Data/10K10Q/Data_10K/item1a_80424_2013-08-08.txt already exists\n",
      "../../Processed Data/10K10Q/Data_10K/item1a_80424_2016-08-09.txt already exists\n",
      "../../Processed Data/10K10Q/Data_10K/item1a_80424_2017-08-07.txt already exists\n",
      "../../Processed Data/10K10Q/Data_10K/item1a_80424_2014-08-08.txt already exists\n",
      "../../Processed Data/10K10Q/Data_10K/item1a_80424_2012-08-08.txt already exists\n",
      "../../Processed Data/10K10Q/Data_10K/item1a_80424_2019-08-06.txt already exists\n",
      "../../Processed Data/10K10Q/Data_10K/item1a_80424_2011-08-10.txt already exists\n",
      "../../Processed Data/10K10Q/Data_10K/item1a_80424_2010-08-13.txt already exists\n",
      "../../Processed Data/10K10Q/Data_10K/item1a_104169_2017-03-31.txt already exists\n",
      "../../Processed Data/10K10Q/Data_10K/item1a_104169_2019-03-28.txt already exists\n",
      "../../Processed Data/10K10Q/Data_10K/item1a_104169_2012-03-27.txt already exists\n",
      "../../Processed Data/10K10Q/Data_10K/item1a_104169_2010-03-30.txt already exists\n",
      "../../Processed Data/10K10Q/Data_10K/item1a_104169_2018-03-30.txt already exists\n",
      "../../Processed Data/10K10Q/Data_10K/item1a_104169_2016-03-30.txt already exists\n",
      "../../Processed Data/10K10Q/Data_10K/item1a_104169_2015-04-01.txt already exists\n",
      "../../Processed Data/10K10Q/Data_10K/item1a_104169_2013-03-26.txt already exists\n"
     ]
    },
    {
     "name": "stderr",
     "output_type": "stream",
     "text": [
      "\r",
      " 79%|██████████████████████████████████████████████████████████████▏                | 258/328 [00:01<00:00, 183.76it/s]"
     ]
    },
    {
     "name": "stdout",
     "output_type": "stream",
     "text": [
      "../../Processed Data/10K10Q/Data_10K/item1a_104169_2014-03-21.txt already exists\n",
      "../../Processed Data/10K10Q/Data_10K/item1a_104169_2011-03-30.txt already exists\n",
      "../../Processed Data/10K10Q/Data_10K/item1a_66740_2012-02-16.txt already exists\n",
      "../../Processed Data/10K10Q/Data_10K/item1a_66740_2010-02-16.txt already exists\n",
      "../../Processed Data/10K10Q/Data_10K/item1a_66740_2013-02-14.txt already exists\n",
      "../../Processed Data/10K10Q/Data_10K/item1a_66740_2020-02-06.txt already exists\n",
      "../../Processed Data/10K10Q/Data_10K/item1a_66740_2014-02-13.txt already exists\n",
      "../../Processed Data/10K10Q/Data_10K/item1a_66740_2017-02-09.txt already exists\n",
      "../../Processed Data/10K10Q/Data_10K/item1a_66740_2019-02-07.txt already exists\n",
      "../../Processed Data/10K10Q/Data_10K/item1a_66740_2011-02-16.txt already exists\n",
      "../../Processed Data/10K10Q/Data_10K/item1a_66740_2018-02-08.txt already exists\n",
      "../../Processed Data/10K10Q/Data_10K/item1a_66740_2015-02-12.txt already exists\n",
      "../../Processed Data/10K10Q/Data_10K/item1a_66740_2016-02-11.txt already exists\n",
      "../../Processed Data/10K10Q/Data_10K/item1a_1618921_2016-10-20.txt already exists\n",
      "../../Processed Data/10K10Q/Data_10K/item1a_1618921_2017-10-25.txt already exists\n",
      "../../Processed Data/10K10Q/Data_10K/item1a_1618921_2015-10-28.txt already exists\n",
      "../../Processed Data/10K10Q/Data_10K/item1a_1618921_2018-10-11.txt already exists\n",
      "../../Processed Data/10K10Q/Data_10K/item1a_1618921_2019-10-28.txt already exists\n",
      "../../Processed Data/10K10Q/Data_10K/item1a_93410_2016-02-25.txt already exists\n"
     ]
    },
    {
     "name": "stderr",
     "output_type": "stream",
     "text": [
      "\r",
      " 84%|██████████████████████████████████████████████████████████████████▋            | 277/328 [00:01<00:00, 185.41it/s]"
     ]
    },
    {
     "name": "stdout",
     "output_type": "stream",
     "text": [
      "../../Processed Data/10K10Q/Data_10K/item1a_93410_2019-02-22.txt already exists\n",
      "../../Processed Data/10K10Q/Data_10K/item1a_93410_2013-02-22.txt already exists\n",
      "../../Processed Data/10K10Q/Data_10K/item1a_93410_2011-02-24.txt already exists\n",
      "../../Processed Data/10K10Q/Data_10K/item1a_93410_2015-02-20.txt already exists\n",
      "../../Processed Data/10K10Q/Data_10K/item1a_93410_2018-02-22.txt already exists\n",
      "../../Processed Data/10K10Q/Data_10K/item1a_93410_2014-02-21.txt already exists\n",
      "../../Processed Data/10K10Q/Data_10K/item1a_93410_2010-02-25.txt already exists\n",
      "../../Processed Data/10K10Q/Data_10K/item1a_93410_2012-02-23.txt already exists\n",
      "../../Processed Data/10K10Q/Data_10K/item1a_93410_2017-02-23.txt already exists\n",
      "../../Processed Data/10K10Q/Data_10K/item1a_19617_2019-02-26.txt already exists\n",
      "../../Processed Data/10K10Q/Data_10K/item1a_19617_2017-02-28.txt already exists\n",
      "../../Processed Data/10K10Q/Data_10K/item1a_19617_2012-02-29.txt already exists\n",
      "../../Processed Data/10K10Q/Data_10K/item1a_19617_2014-02-20.txt already exists\n",
      "../../Processed Data/10K10Q/Data_10K/item1a_19617_2010-02-24.txt already exists\n",
      "../../Processed Data/10K10Q/Data_10K/item1a_19617_2015-02-24.txt already exists\n",
      "../../Processed Data/10K10Q/Data_10K/item1a_19617_2018-02-27.txt already exists\n",
      "../../Processed Data/10K10Q/Data_10K/item1a_19617_2013-02-28.txt already exists\n",
      "../../Processed Data/10K10Q/Data_10K/item1a_19617_2016-02-23.txt already exists\n",
      "../../Processed Data/10K10Q/Data_10K/item1a_19617_2011-02-28.txt already exists\n"
     ]
    },
    {
     "name": "stderr",
     "output_type": "stream",
     "text": [
      "\r",
      " 90%|███████████████████████████████████████████████████████████████████████▎       | 296/328 [00:01<00:00, 176.99it/s]"
     ]
    },
    {
     "name": "stdout",
     "output_type": "stream",
     "text": [
      "../../Processed Data/10K10Q/Data_10K/item1a_101829_2016-02-11.txt already exists\n",
      "../../Processed Data/10K10Q/Data_10K/item1a_101829_2018-02-09.txt already exists\n",
      "../../Processed Data/10K10Q/Data_10K/item1a_101829_2015-02-05.txt already exists\n",
      "../../Processed Data/10K10Q/Data_10K/item1a_101829_2013-02-07.txt already exists\n",
      "../../Processed Data/10K10Q/Data_10K/item1a_101829_2012-02-09.txt already exists\n",
      "../../Processed Data/10K10Q/Data_10K/item1a_101829_2011-02-10.txt already exists\n",
      "../../Processed Data/10K10Q/Data_10K/item1a_101829_2019-02-07.txt already exists\n",
      "../../Processed Data/10K10Q/Data_10K/item1a_101829_2017-02-09.txt already exists\n",
      "../../Processed Data/10K10Q/Data_10K/item1a_101829_2014-02-06.txt already exists\n",
      "../../Processed Data/10K10Q/Data_10K/item1a_101829_2020-02-06.txt already exists\n",
      "../../Processed Data/10K10Q/Data_10K/item1a_101829_2010-02-11.txt already exists\n",
      "../../Processed Data/10K10Q/Data_10K/item1a_4962_2010-02-26.txt already exists\n",
      "../../Processed Data/10K10Q/Data_10K/item1a_4962_2017-02-17.txt already exists\n",
      "../../Processed Data/10K10Q/Data_10K/item1a_4962_2014-02-25.txt already exists\n",
      "../../Processed Data/10K10Q/Data_10K/item1a_4962_2018-02-16.txt already exists\n",
      "../../Processed Data/10K10Q/Data_10K/item1a_4962_2019-02-13.txt already exists\n",
      "../../Processed Data/10K10Q/Data_10K/item1a_4962_2013-02-22.txt already exists\n",
      "../../Processed Data/10K10Q/Data_10K/item1a_4962_2016-02-19.txt already exists\n"
     ]
    },
    {
     "name": "stderr",
     "output_type": "stream",
     "text": [
      "\r",
      " 96%|███████████████████████████████████████████████████████████████████████████▋   | 314/328 [00:01<00:00, 161.17it/s]"
     ]
    },
    {
     "name": "stdout",
     "output_type": "stream",
     "text": [
      "../../Processed Data/10K10Q/Data_10K/item1a_4962_2011-02-28.txt already exists\n",
      "../../Processed Data/10K10Q/Data_10K/item1a_4962_2012-02-24.txt already exists\n",
      "../../Processed Data/10K10Q/Data_10K/item1a_4962_2020-02-13.txt already exists\n",
      "../../Processed Data/10K10Q/Data_10K/item1a_4962_2015-02-24.txt already exists\n",
      "../../Processed Data/10K10Q/Data_10K/item1a_34088_2011-02-25.txt already exists\n",
      "../../Processed Data/10K10Q/Data_10K/item1a_34088_2016-02-24.txt already exists\n",
      "../../Processed Data/10K10Q/Data_10K/item1a_34088_2010-02-26.txt already exists\n",
      "../../Processed Data/10K10Q/Data_10K/item1a_34088_2018-02-28.txt already exists\n",
      "../../Processed Data/10K10Q/Data_10K/item1a_34088_2017-02-22.txt already exists\n",
      "../../Processed Data/10K10Q/Data_10K/item1a_34088_2013-02-27.txt already exists\n",
      "../../Processed Data/10K10Q/Data_10K/item1a_34088_2015-02-25.txt already exists\n",
      "../../Processed Data/10K10Q/Data_10K/item1a_34088_2019-02-27.txt already exists\n",
      "../../Processed Data/10K10Q/Data_10K/item1a_34088_2014-02-26.txt already exists\n",
      "../../Processed Data/10K10Q/Data_10K/item1a_34088_2012-02-24.txt already exists\n"
     ]
    },
    {
     "name": "stderr",
     "output_type": "stream",
     "text": [
      "100%|███████████████████████████████████████████████████████████████████████████████| 328/328 [00:01<00:00, 187.83it/s]\n"
     ]
    }
   ],
   "source": [
    "with ZipFile(\"../../Raw Data/Data_10K.zip\", \"r\") as zipped_file:\n",
    "    for i in tqdm(range(len(zipped_file.infolist()))):\n",
    "        info = zipped_file.infolist()[i]\n",
    "        if \"html\" in info.filename and \"MACOS\" not in info.filename:\n",
    "                \n",
    "            cik = info.filename.split(\"/\")[1]\n",
    "            date = info.filename.split(\"/\")[2].split(\"_\")[1][:-5]\n",
    "            saving_path = \"../../Processed Data/10K10Q/Data_10K/item1a\" + \"_\" + cik + \"_\" + date + \".txt\"\n",
    "\n",
    "            if os.path.isfile(saving_path):\n",
    "                print(saving_path, \"already exists\")\n",
    "                continue\n",
    "            \n",
    "            zipped_file.extract(info.filename)\n",
    "            html = open(info.filename).read()\n",
    "            soup = BeautifulSoup(html)\n",
    "            text = soup.get_text(\" \")\n",
    "            text = unicodedata.normalize(\"NFKD\", text)\n",
    "            text = text.replace(\"\\t\", \" \")\n",
    "            text = text.replace(\"/\", \" \")\n",
    "            text = \"\".join([i if ord(i) < 128 else \"\" for i in text])\n",
    "            text = \" \".join(text.split())\n",
    "            original_text = text\n",
    "            \n",
    "            results = []\n",
    "        \n",
    "            item1a = \"item[\\s]*1[\\s]*a[-.:\\s]*risk.*?(?:item[\\s]*1[\\s]*b[-.:\\s]*unres|item[\\s]*2[\\s]*[-.:\\s]*prop)\"\n",
    "            matches = []\n",
    "            matches = re.findall(item1a, text, re.IGNORECASE)\n",
    "            name = \"item1a\"\n",
    "            \n",
    "            if matches:\n",
    "                while matches:\n",
    "                    item_regex = item1a\n",
    "                    current_match = matches[0]\n",
    "                    results.append(current_match)\n",
    "                    text = text.replace(current_match[:20], \" \", 1)\n",
    "                    matches.remove(current_match)\n",
    "                    matches.extend(re.findall(item_regex, text, re.IGNORECASE))\n",
    "                print(\"\")\n",
    "                cik = info.filename.split(\"/\")[1]\n",
    "                date = info.filename.split(\"/\")[2].split(\"_\")[1][:-5]\n",
    "                saving_path = \"../../Processed Data/Data_10K/\" + name + \"_\" + cik + \"_\" + date + \".txt\"\n",
    "                print(\"\")\n",
    "                print(\"Saving as...\", saving_path)\n",
    "                \n",
    "                file_location = open(saving_path, \"w\")\n",
    "                file_location.write(results[-1])\n",
    "                file_location.close()\n",
    "                \n",
    "                print(\"----SUCCESS----\")\n",
    "            else:\n",
    "                print(\"Failed\")\n",
    "            print(\"\")\n",
    "            print(\"\")\n",
    "            print(\"\")\n",
    "        if os.path.isdir(\"Data_10K\"):\n",
    "            shutil.rmtree(\"Data_10K\")"
   ]
  },
  {
   "cell_type": "code",
   "execution_count": null,
   "metadata": {},
   "outputs": [],
   "source": []
  }
 ],
 "metadata": {
  "kernelspec": {
   "display_name": "Python 3",
   "language": "python",
   "name": "python3"
  },
  "language_info": {
   "codemirror_mode": {
    "name": "ipython",
    "version": 3
   },
   "file_extension": ".py",
   "mimetype": "text/x-python",
   "name": "python",
   "nbconvert_exporter": "python",
   "pygments_lexer": "ipython3",
   "version": "3.7.1"
  }
 },
 "nbformat": 4,
 "nbformat_minor": 2
}
