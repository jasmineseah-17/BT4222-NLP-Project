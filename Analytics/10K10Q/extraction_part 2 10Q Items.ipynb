{
 "cells": [
  {
   "cell_type": "markdown",
   "metadata": {},
   "source": [
    "## Requires the zipping of Data_10Q folder first into Data_10Q.zip"
   ]
  },
  {
   "cell_type": "code",
   "execution_count": 1,
   "metadata": {},
   "outputs": [],
   "source": [
    "import gzip\n",
    "from io import StringIO\n",
    "import glob\n",
    "import pandas as pd\n",
    "import numpy as np\n",
    "from bs4 import BeautifulSoup, NavigableString\n",
    "from tqdm import tqdm\n",
    "from zipfile import ZipFile\n",
    "import unicodedata\n",
    "import re\n",
    "import os\n",
    "import shutil"
   ]
  },
  {
   "cell_type": "code",
   "execution_count": 2,
   "metadata": {},
   "outputs": [],
   "source": [
    "def get_zipped_filenames(file_name):\n",
    "    files = []\n",
    "    with ZipFile(file_name, \"r\") as zip:\n",
    "        count = 0\n",
    "        for info in zip.infolist():\n",
    "            name = info.filename\n",
    "            parts = name.split(\"/\")\n",
    "            if len(parts) == 3 and parts[-1] != \"\":\n",
    "                year = parts[1]\n",
    "                cik = parts[2].split(\"_\")[0]\n",
    "                unique_key = parts[2].split(\"_\")[1]\n",
    "                files.append([year, cik, unique_key, name])\n",
    "    return files\n",
    "\n",
    "def get_zipped_file(path):\n",
    "    with ZipFile(\"../../Raw Data/Data_10Q.zip\", \"r\") as zipped_file:\n",
    "        zipped_file.extract(path)\n",
    "        html = open(path).read()\n",
    "        soup = BeautifulSoup(html)\n",
    "        text = soup.get_text(\" \")\n",
    "        text = unicodedata.normalize(\"NFKD\", text)\n",
    "        text = text.replace(\"\\t\", \" \")\n",
    "        text = text.replace(\"/\", \" \")\n",
    "        text = \"\".join([i if ord(i) < 128 else \"\" for i in text])\n",
    "        text = \" \".join(text.split())\n",
    "        print(text)"
   ]
  },
  {
   "cell_type": "code",
   "execution_count": 3,
   "metadata": {
    "scrolled": true
   },
   "outputs": [],
   "source": [
    "# Item 2.Management’s Discussion and Analysis | Item 3. Quan|Qual\n",
    "# Item 3.Quantitative and Qualitative Disclosures About Market Risk | Item 4. controls\n",
    "# Item 1A. Risk Factors | Item 2.  Unregistered Sale\n",
    "def extract_item(zipped_file, item_name, item_regex, save_path):\n",
    "    with ZipFile(zipped_file, \"r\") as zipped_file:\n",
    "        for i in tqdm(range(len(zipped_file.infolist()))):\n",
    "            info = zipped_file.infolist()[i]\n",
    "            if \"html\" in info.filename and \"MACOS\" not in info.filename:\n",
    "                \n",
    "                cik = info.filename.split(\"/\")[1]\n",
    "                date = info.filename.split(\"/\")[2].split(\"_\")[1][:-5]\n",
    "                saving_path = save_path + item_name + \"_\" + cik + \"_\" + date + \".txt\"\n",
    "                \n",
    "                if os.path.isfile(saving_path):\n",
    "                    print(saving_path, \"already exists\")\n",
    "                    continue\n",
    "                \n",
    "                print(\"Scraping \", info.filename)\n",
    "\n",
    "                zipped_file.extract(info.filename)\n",
    "                html = open(info.filename).read()\n",
    "                soup = BeautifulSoup(html)\n",
    "                text = soup.get_text(\" \")\n",
    "                text = unicodedata.normalize(\"NFKD\", text)\n",
    "                text = text.replace(\"\\t\", \" \")\n",
    "                text = text.replace(\"/\", \" \")\n",
    "                text = \"\".join([i if ord(i) < 128 else \"\" for i in text])\n",
    "                text = \" \".join(text.split())\n",
    "                original_text = text\n",
    "\n",
    "                results = []\n",
    "                matches = []\n",
    "                matches = re.findall(item_regex, text, re.IGNORECASE)\n",
    "                \n",
    "                if matches:\n",
    "                    while matches:\n",
    "                        current_match = matches[0]\n",
    "                        results.append(current_match)\n",
    "                        text = text.replace(current_match[:20], \" \", 1)\n",
    "                        matches.remove(current_match)\n",
    "                        matches.extend(re.findall(item_regex, text, re.IGNORECASE))\\\n",
    "                    \n",
    "                    print(\"\")\n",
    "                    print(\"Saving as...\", saving_path)\n",
    "                    file_location = open(saving_path, \"w\")\n",
    "                    file_location.write(results[-1])\n",
    "                    file_location.close()\n",
    "                    print(\"----SUCCESS----\")\n",
    "                else:\n",
    "                    print(\"Failed\")\n",
    "                print(\"\")\n",
    "                print(\"\")\n",
    "                print(\"\")\n",
    "            if os.path.isdir(\"Data_10Q\"):\n",
    "                shutil.rmtree(\"Data_10Q\")"
   ]
  },
  {
   "cell_type": "code",
   "execution_count": 4,
   "metadata": {
    "scrolled": true
   },
   "outputs": [
    {
     "name": "stderr",
     "output_type": "stream",
     "text": [
      "\r",
      "  0%|                                                                                          | 0/910 [00:00<?, ?it/s]"
     ]
    },
    {
     "name": "stdout",
     "output_type": "stream",
     "text": [
      "../../Processed Data/10K10Q/Data_10Q/item1_18230_2010-07-30.txt already exists\n",
      "../../Processed Data/10K10Q/Data_10Q/item1_18230_2013-05-02.txt already exists\n",
      "../../Processed Data/10K10Q/Data_10Q/item1_18230_2015-07-31.txt already exists\n",
      "../../Processed Data/10K10Q/Data_10Q/item1_18230_2012-05-07.txt already exists\n",
      "../../Processed Data/10K10Q/Data_10Q/item1_18230_2015-05-01.txt already exists\n",
      "../../Processed Data/10K10Q/Data_10Q/item1_18230_2019-10-31.txt already exists\n",
      "../../Processed Data/10K10Q/Data_10Q/item1_18230_2013-11-01.txt already exists\n",
      "../../Processed Data/10K10Q/Data_10Q/item1_18230_2014-10-31.txt already exists\n",
      "../../Processed Data/10K10Q/Data_10Q/item1_18230_2011-05-09.txt already exists\n",
      "../../Processed Data/10K10Q/Data_10Q/item1_18230_2016-05-02.txt already exists\n",
      "../../Processed Data/10K10Q/Data_10Q/item1_18230_2017-08-02.txt already exists\n",
      "../../Processed Data/10K10Q/Data_10Q/item1_18230_2019-08-01.txt already exists\n"
     ]
    },
    {
     "name": "stderr",
     "output_type": "stream",
     "text": [
      "\r",
      "  6%|████▍                                                                           | 51/910 [00:00<00:01, 493.29it/s]"
     ]
    },
    {
     "name": "stdout",
     "output_type": "stream",
     "text": [
      "../../Processed Data/10K10Q/Data_10Q/item1_18230_2014-08-01.txt already exists\n",
      "../../Processed Data/10K10Q/Data_10Q/item1_18230_2012-11-02.txt already exists\n",
      "../../Processed Data/10K10Q/Data_10Q/item1_18230_2014-05-02.txt already exists\n",
      "../../Processed Data/10K10Q/Data_10Q/item1_18230_2010-11-04.txt already exists\n",
      "../../Processed Data/10K10Q/Data_10Q/item1_18230_2018-10-31.txt already exists\n",
      "../../Processed Data/10K10Q/Data_10Q/item1_18230_2017-11-01.txt already exists\n",
      "../../Processed Data/10K10Q/Data_10Q/item1_18230_2017-05-03.txt already exists\n",
      "../../Processed Data/10K10Q/Data_10Q/item1_18230_2015-10-30.txt already exists\n",
      "../../Processed Data/10K10Q/Data_10Q/item1_18230_2018-08-07.txt already exists\n",
      "../../Processed Data/10K10Q/Data_10Q/item1_18230_2018-05-02.txt already exists\n",
      "../../Processed Data/10K10Q/Data_10Q/item1_18230_2011-08-04.txt already exists\n",
      "../../Processed Data/10K10Q/Data_10Q/item1_18230_2013-08-02.txt already exists\n",
      "../../Processed Data/10K10Q/Data_10Q/item1_18230_2010-05-03.txt already exists\n",
      "../../Processed Data/10K10Q/Data_10Q/item1_18230_2011-11-04.txt already exists\n",
      "../../Processed Data/10K10Q/Data_10Q/item1_18230_2016-08-03.txt already exists\n",
      "../../Processed Data/10K10Q/Data_10Q/item1_18230_2012-08-06.txt already exists\n",
      "../../Processed Data/10K10Q/Data_10Q/item1_18230_2016-11-02.txt already exists\n",
      "../../Processed Data/10K10Q/Data_10Q/item1_18230_2019-05-06.txt already exists\n",
      "../../Processed Data/10K10Q/Data_10Q/item1_886982_2014-11-05.txt already exists\n",
      "../../Processed Data/10K10Q/Data_10Q/item1_886982_2019-08-05.txt already exists\n"
     ]
    },
    {
     "name": "stderr",
     "output_type": "stream",
     "text": [
      "\r",
      "  8%|██████▊                                                                         | 77/910 [00:00<00:02, 388.60it/s]"
     ]
    },
    {
     "name": "stdout",
     "output_type": "stream",
     "text": [
      "../../Processed Data/10K10Q/Data_10Q/item1_886982_2011-05-10.txt already exists\n",
      "../../Processed Data/10K10Q/Data_10Q/item1_886982_2016-11-03.txt already exists\n",
      "../../Processed Data/10K10Q/Data_10Q/item1_886982_2017-05-04.txt already exists\n",
      "../../Processed Data/10K10Q/Data_10Q/item1_886982_2011-11-09.txt already exists\n",
      "../../Processed Data/10K10Q/Data_10Q/item1_886982_2019-05-06.txt already exists\n",
      "../../Processed Data/10K10Q/Data_10Q/item1_886982_2011-08-09.txt already exists\n",
      "../../Processed Data/10K10Q/Data_10Q/item1_886982_2013-08-08.txt already exists\n",
      "../../Processed Data/10K10Q/Data_10Q/item1_886982_2018-05-04.txt already exists\n",
      "../../Processed Data/10K10Q/Data_10Q/item1_886982_2016-08-04.txt already exists\n",
      "../../Processed Data/10K10Q/Data_10Q/item1_886982_2015-05-05.txt already exists\n",
      "../../Processed Data/10K10Q/Data_10Q/item1_886982_2016-05-06.txt already exists\n",
      "../../Processed Data/10K10Q/Data_10Q/item1_886982_2010-11-09.txt already exists\n",
      "../../Processed Data/10K10Q/Data_10Q/item1_886982_2019-11-01.txt already exists\n",
      "../../Processed Data/10K10Q/Data_10Q/item1_886982_2010-08-09.txt already exists\n",
      "../../Processed Data/10K10Q/Data_10Q/item1_886982_2013-05-09.txt already exists\n",
      "../../Processed Data/10K10Q/Data_10Q/item1_886982_2010-05-10.txt already exists\n",
      "../../Processed Data/10K10Q/Data_10Q/item1_886982_2013-11-07.txt already exists\n",
      "../../Processed Data/10K10Q/Data_10Q/item1_886982_2017-11-03.txt already exists\n",
      "../../Processed Data/10K10Q/Data_10Q/item1_886982_2017-08-04.txt already exists\n"
     ]
    },
    {
     "name": "stderr",
     "output_type": "stream",
     "text": [
      "\r",
      " 11%|████████▍                                                                       | 96/910 [00:00<00:02, 279.50it/s]"
     ]
    },
    {
     "name": "stdout",
     "output_type": "stream",
     "text": [
      "../../Processed Data/10K10Q/Data_10Q/item1_886982_2018-11-02.txt already exists\n",
      "../../Processed Data/10K10Q/Data_10Q/item1_886982_2012-08-09.txt already exists\n",
      "../../Processed Data/10K10Q/Data_10Q/item1_886982_2014-08-07.txt already exists\n",
      "../../Processed Data/10K10Q/Data_10Q/item1_886982_2014-05-09.txt already exists\n",
      "../../Processed Data/10K10Q/Data_10Q/item1_886982_2012-05-10.txt already exists\n",
      "../../Processed Data/10K10Q/Data_10Q/item1_886982_2015-08-03.txt already exists\n",
      "../../Processed Data/10K10Q/Data_10Q/item1_886982_2015-11-03.txt already exists\n",
      "../../Processed Data/10K10Q/Data_10Q/item1_886982_2012-11-08.txt already exists\n",
      "../../Processed Data/10K10Q/Data_10Q/item1_886982_2018-08-03.txt already exists\n",
      "../../Processed Data/10K10Q/Data_10Q/item1_320193_2018-02-02.txt already exists\n",
      "../../Processed Data/10K10Q/Data_10Q/item1_320193_2010-01-25.txt already exists\n",
      "../../Processed Data/10K10Q/Data_10Q/item1_320193_2017-08-02.txt already exists\n",
      "../../Processed Data/10K10Q/Data_10Q/item1_320193_2015-01-28.txt already exists\n",
      "../../Processed Data/10K10Q/Data_10Q/item1_320193_2016-01-27.txt already exists\n",
      "../../Processed Data/10K10Q/Data_10Q/item1_320193_2013-04-24.txt already exists\n",
      "../../Processed Data/10K10Q/Data_10Q/item1_320193_2010-07-21.txt already exists\n",
      "../../Processed Data/10K10Q/Data_10Q/item1_320193_2012-01-25.txt already exists\n",
      "../../Processed Data/10K10Q/Data_10Q/item1_320193_2014-04-24.txt already exists\n"
     ]
    },
    {
     "name": "stderr",
     "output_type": "stream",
     "text": [
      "\r",
      " 13%|█████████▉                                                                     | 114/910 [00:00<00:03, 237.23it/s]"
     ]
    },
    {
     "name": "stdout",
     "output_type": "stream",
     "text": [
      "../../Processed Data/10K10Q/Data_10Q/item1_320193_2014-07-23.txt already exists\n",
      "../../Processed Data/10K10Q/Data_10Q/item1_320193_2020-01-29.txt already exists\n",
      "../../Processed Data/10K10Q/Data_10Q/item1_320193_2010-04-21.txt already exists\n",
      "../../Processed Data/10K10Q/Data_10Q/item1_320193_2013-07-24.txt already exists\n",
      "../../Processed Data/10K10Q/Data_10Q/item1_320193_2019-01-30.txt already exists\n",
      "../../Processed Data/10K10Q/Data_10Q/item1_320193_2018-05-02.txt already exists\n",
      "../../Processed Data/10K10Q/Data_10Q/item1_320193_2011-07-20.txt already exists\n",
      "../../Processed Data/10K10Q/Data_10Q/item1_320193_2017-02-01.txt already exists\n",
      "../../Processed Data/10K10Q/Data_10Q/item1_320193_2014-01-28.txt already exists\n",
      "../../Processed Data/10K10Q/Data_10Q/item1_320193_2016-07-27.txt already exists\n",
      "../../Processed Data/10K10Q/Data_10Q/item1_320193_2018-08-01.txt already exists\n",
      "../../Processed Data/10K10Q/Data_10Q/item1_320193_2012-04-25.txt already exists\n",
      "../../Processed Data/10K10Q/Data_10Q/item1_320193_2019-05-01.txt already exists\n",
      "../../Processed Data/10K10Q/Data_10Q/item1_320193_2011-04-21.txt already exists\n",
      "../../Processed Data/10K10Q/Data_10Q/item1_320193_2013-01-24.txt already exists\n",
      "../../Processed Data/10K10Q/Data_10Q/item1_320193_2016-04-27.txt already exists\n",
      "../../Processed Data/10K10Q/Data_10Q/item1_320193_2012-07-25.txt already exists\n",
      "../../Processed Data/10K10Q/Data_10Q/item1_320193_2015-04-28.txt already exists\n",
      "../../Processed Data/10K10Q/Data_10Q/item1_320193_2019-07-31.txt already exists\n"
     ]
    },
    {
     "name": "stderr",
     "output_type": "stream",
     "text": [
      "\r",
      " 15%|███████████▌                                                                   | 133/910 [00:00<00:03, 217.62it/s]"
     ]
    },
    {
     "name": "stdout",
     "output_type": "stream",
     "text": [
      "../../Processed Data/10K10Q/Data_10Q/item1_320193_2011-01-19.txt already exists\n",
      "../../Processed Data/10K10Q/Data_10Q/item1_320193_2017-05-03.txt already exists\n",
      "../../Processed Data/10K10Q/Data_10Q/item1_320193_2015-07-22.txt already exists\n",
      "../../Processed Data/10K10Q/Data_10Q/item1_310158_2011-05-09.txt already exists\n",
      "../../Processed Data/10K10Q/Data_10Q/item1_310158_2014-05-08.txt already exists\n",
      "../../Processed Data/10K10Q/Data_10Q/item1_310158_2019-08-06.txt already exists\n",
      "../../Processed Data/10K10Q/Data_10Q/item1_310158_2019-05-08.txt already exists\n",
      "../../Processed Data/10K10Q/Data_10Q/item1_310158_2014-11-10.txt already exists\n",
      "../../Processed Data/10K10Q/Data_10Q/item1_310158_2012-11-09.txt already exists\n",
      "../../Processed Data/10K10Q/Data_10Q/item1_310158_2014-08-07.txt already exists\n",
      "../../Processed Data/10K10Q/Data_10Q/item1_310158_2017-08-08.txt already exists\n",
      "../../Processed Data/10K10Q/Data_10Q/item1_310158_2015-05-07.txt already exists\n",
      "../../Processed Data/10K10Q/Data_10Q/item1_310158_2013-08-07.txt already exists\n",
      "../../Processed Data/10K10Q/Data_10Q/item1_310158_2013-05-09.txt already exists\n",
      "../../Processed Data/10K10Q/Data_10Q/item1_310158_2015-11-05.txt already exists\n",
      "../../Processed Data/10K10Q/Data_10Q/item1_310158_2010-11-08.txt already exists\n",
      "../../Processed Data/10K10Q/Data_10Q/item1_310158_2013-11-07.txt already exists\n",
      "../../Processed Data/10K10Q/Data_10Q/item1_310158_2016-11-07.txt already exists\n",
      "../../Processed Data/10K10Q/Data_10Q/item1_310158_2016-05-09.txt already exists\n",
      "../../Processed Data/10K10Q/Data_10Q/item1_310158_2010-05-07.txt already exists\n"
     ]
    },
    {
     "name": "stderr",
     "output_type": "stream",
     "text": [
      "\r",
      " 17%|█████████████▎                                                                 | 153/910 [00:00<00:03, 210.71it/s]"
     ]
    },
    {
     "name": "stdout",
     "output_type": "stream",
     "text": [
      "../../Processed Data/10K10Q/Data_10Q/item1_310158_2018-08-07.txt already exists\n",
      "../../Processed Data/10K10Q/Data_10Q/item1_310158_2016-08-08.txt already exists\n",
      "../../Processed Data/10K10Q/Data_10Q/item1_310158_2010-08-06.txt already exists\n",
      "../../Processed Data/10K10Q/Data_10Q/item1_310158_2018-11-06.txt already exists\n",
      "../../Processed Data/10K10Q/Data_10Q/item1_310158_2015-08-06.txt already exists\n",
      "../../Processed Data/10K10Q/Data_10Q/item1_310158_2018-05-08.txt already exists\n",
      "../../Processed Data/10K10Q/Data_10Q/item1_310158_2017-11-07.txt already exists\n",
      "../../Processed Data/10K10Q/Data_10Q/item1_310158_2012-05-08.txt already exists\n",
      "../../Processed Data/10K10Q/Data_10Q/item1_310158_2017-05-09.txt already exists\n",
      "../../Processed Data/10K10Q/Data_10Q/item1_310158_2011-08-08.txt already exists\n",
      "../../Processed Data/10K10Q/Data_10Q/item1_310158_2012-08-07.txt already exists\n",
      "../../Processed Data/10K10Q/Data_10Q/item1_310158_2011-11-08.txt already exists\n",
      "../../Processed Data/10K10Q/Data_10Q/item1_310158_2019-11-05.txt already exists\n",
      "../../Processed Data/10K10Q/Data_10Q/item1_731766_2015-05-06.txt already exists\n",
      "../../Processed Data/10K10Q/Data_10Q/item1_731766_2018-11-08.txt already exists\n",
      "../../Processed Data/10K10Q/Data_10Q/item1_731766_2010-08-05.txt already exists\n",
      "../../Processed Data/10K10Q/Data_10Q/item1_731766_2018-05-07.txt already exists\n",
      "../../Processed Data/10K10Q/Data_10Q/item1_731766_2013-11-07.txt already exists\n",
      "../../Processed Data/10K10Q/Data_10Q/item1_731766_2016-05-04.txt already exists\n"
     ]
    },
    {
     "name": "stderr",
     "output_type": "stream",
     "text": [
      "\r",
      " 19%|██████████████▉                                                                | 172/910 [00:00<00:03, 203.57it/s]"
     ]
    },
    {
     "name": "stdout",
     "output_type": "stream",
     "text": [
      "../../Processed Data/10K10Q/Data_10Q/item1_731766_2015-11-05.txt already exists\n",
      "../../Processed Data/10K10Q/Data_10Q/item1_731766_2011-05-03.txt already exists\n",
      "../../Processed Data/10K10Q/Data_10Q/item1_731766_2017-08-04.txt already exists\n",
      "../../Processed Data/10K10Q/Data_10Q/item1_731766_2010-11-03.txt already exists\n",
      "../../Processed Data/10K10Q/Data_10Q/item1_731766_2019-08-07.txt already exists\n",
      "../../Processed Data/10K10Q/Data_10Q/item1_731766_2014-11-10.txt already exists\n",
      "../../Processed Data/10K10Q/Data_10Q/item1_731766_2019-11-06.txt already exists\n",
      "../../Processed Data/10K10Q/Data_10Q/item1_731766_2019-05-07.txt already exists\n",
      "../../Processed Data/10K10Q/Data_10Q/item1_731766_2015-07-29.txt already exists\n",
      "../../Processed Data/10K10Q/Data_10Q/item1_731766_2012-08-07.txt already exists\n",
      "../../Processed Data/10K10Q/Data_10Q/item1_731766_2012-10-30.txt already exists\n",
      "../../Processed Data/10K10Q/Data_10Q/item1_731766_2011-11-04.txt already exists\n",
      "../../Processed Data/10K10Q/Data_10Q/item1_731766_2017-05-08.txt already exists\n",
      "../../Processed Data/10K10Q/Data_10Q/item1_731766_2016-08-02.txt already exists\n",
      "../../Processed Data/10K10Q/Data_10Q/item1_731766_2014-05-06.txt already exists\n",
      "../../Processed Data/10K10Q/Data_10Q/item1_731766_2017-11-07.txt already exists\n",
      "../../Processed Data/10K10Q/Data_10Q/item1_731766_2014-08-04.txt already exists\n",
      "../../Processed Data/10K10Q/Data_10Q/item1_731766_2010-05-05.txt already exists\n",
      "../../Processed Data/10K10Q/Data_10Q/item1_731766_2013-05-06.txt already exists\n"
     ]
    },
    {
     "name": "stderr",
     "output_type": "stream",
     "text": [
      "\r",
      " 21%|████████████████▌                                                              | 191/910 [00:00<00:04, 172.02it/s]"
     ]
    },
    {
     "name": "stdout",
     "output_type": "stream",
     "text": [
      "../../Processed Data/10K10Q/Data_10Q/item1_731766_2012-05-03.txt already exists\n",
      "../../Processed Data/10K10Q/Data_10Q/item1_731766_2011-08-02.txt already exists\n",
      "../../Processed Data/10K10Q/Data_10Q/item1_731766_2016-11-08.txt already exists\n",
      "../../Processed Data/10K10Q/Data_10Q/item1_731766_2013-08-05.txt already exists\n",
      "../../Processed Data/10K10Q/Data_10Q/item1_731766_2018-08-07.txt already exists\n",
      "../../Processed Data/10K10Q/Data_10Q/item1_732712_2017-04-27.txt already exists\n",
      "../../Processed Data/10K10Q/Data_10Q/item1_732712_2013-07-25.txt already exists\n",
      "../../Processed Data/10K10Q/Data_10Q/item1_732712_2019-10-30.txt already exists\n",
      "../../Processed Data/10K10Q/Data_10Q/item1_732712_2012-04-26.txt already exists\n",
      "../../Processed Data/10K10Q/Data_10Q/item1_732712_2018-07-31.txt already exists\n",
      "../../Processed Data/10K10Q/Data_10Q/item1_732712_2012-10-25.txt already exists\n",
      "../../Processed Data/10K10Q/Data_10Q/item1_732712_2014-04-29.txt already exists\n",
      "../../Processed Data/10K10Q/Data_10Q/item1_732712_2011-04-28.txt already exists\n",
      "../../Processed Data/10K10Q/Data_10Q/item1_732712_2018-05-01.txt already exists\n",
      "../../Processed Data/10K10Q/Data_10Q/item1_732712_2016-07-29.txt already exists\n",
      "../../Processed Data/10K10Q/Data_10Q/item1_732712_2016-10-26.txt already exists\n",
      "../../Processed Data/10K10Q/Data_10Q/item1_732712_2010-10-28.txt already exists\n"
     ]
    },
    {
     "name": "stderr",
     "output_type": "stream",
     "text": [
      "\r",
      " 23%|██████████████████                                                             | 208/910 [00:00<00:04, 165.86it/s]"
     ]
    },
    {
     "name": "stdout",
     "output_type": "stream",
     "text": [
      "../../Processed Data/10K10Q/Data_10Q/item1_732712_2012-07-30.txt already exists\n",
      "../../Processed Data/10K10Q/Data_10Q/item1_732712_2013-04-25.txt already exists\n",
      "../../Processed Data/10K10Q/Data_10Q/item1_732712_2016-04-28.txt already exists\n",
      "../../Processed Data/10K10Q/Data_10Q/item1_732712_2014-07-29.txt already exists\n",
      "../../Processed Data/10K10Q/Data_10Q/item1_732712_2017-08-03.txt already exists\n",
      "../../Processed Data/10K10Q/Data_10Q/item1_732712_2011-07-28.txt already exists\n",
      "../../Processed Data/10K10Q/Data_10Q/item1_732712_2010-04-28.txt already exists\n",
      "../../Processed Data/10K10Q/Data_10Q/item1_732712_2015-10-27.txt already exists\n",
      "../../Processed Data/10K10Q/Data_10Q/item1_732712_2015-04-28.txt already exists\n",
      "../../Processed Data/10K10Q/Data_10Q/item1_732712_2013-10-24.txt already exists\n",
      "../../Processed Data/10K10Q/Data_10Q/item1_732712_2018-10-30.txt already exists\n",
      "../../Processed Data/10K10Q/Data_10Q/item1_732712_2011-10-25.txt already exists\n",
      "../../Processed Data/10K10Q/Data_10Q/item1_732712_2019-04-26.txt already exists\n",
      "../../Processed Data/10K10Q/Data_10Q/item1_732712_2014-10-28.txt already exists\n",
      "../../Processed Data/10K10Q/Data_10Q/item1_732712_2010-07-29.txt already exists\n",
      "../../Processed Data/10K10Q/Data_10Q/item1_732712_2017-10-26.txt already exists\n",
      "../../Processed Data/10K10Q/Data_10Q/item1_732712_2015-07-28.txt already exists\n"
     ]
    },
    {
     "name": "stderr",
     "output_type": "stream",
     "text": [
      "\r",
      " 25%|███████████████████▌                                                           | 225/910 [00:01<00:04, 145.19it/s]"
     ]
    },
    {
     "name": "stdout",
     "output_type": "stream",
     "text": [
      "../../Processed Data/10K10Q/Data_10Q/item1_732712_2019-08-08.txt already exists\n",
      "../../Processed Data/10K10Q/Data_10Q/item1_86312_2013-04-23.txt already exists\n",
      "../../Processed Data/10K10Q/Data_10Q/item1_86312_2016-10-20.txt already exists\n",
      "../../Processed Data/10K10Q/Data_10Q/item1_86312_2015-04-21.txt already exists\n",
      "../../Processed Data/10K10Q/Data_10Q/item1_86312_2014-07-22.txt already exists\n",
      "../../Processed Data/10K10Q/Data_10Q/item1_86312_2017-07-20.txt already exists\n",
      "../../Processed Data/10K10Q/Data_10Q/item1_86312_2018-10-18.txt already exists\n",
      "../../Processed Data/10K10Q/Data_10Q/item1_86312_2019-07-23.txt already exists\n",
      "../../Processed Data/10K10Q/Data_10Q/item1_86312_2014-04-22.txt already exists\n",
      "../../Processed Data/10K10Q/Data_10Q/item1_86312_2015-07-21.txt already exists\n",
      "../../Processed Data/10K10Q/Data_10Q/item1_86312_2013-07-23.txt already exists\n",
      "../../Processed Data/10K10Q/Data_10Q/item1_86312_2017-10-19.txt already exists\n",
      "../../Processed Data/10K10Q/Data_10Q/item1_86312_2019-04-18.txt already exists\n",
      "../../Processed Data/10K10Q/Data_10Q/item1_86312_2012-10-18.txt already exists\n",
      "../../Processed Data/10K10Q/Data_10Q/item1_86312_2017-04-20.txt already exists\n"
     ]
    },
    {
     "name": "stderr",
     "output_type": "stream",
     "text": [
      "\r",
      " 26%|████████████████████▊                                                          | 240/910 [00:01<00:04, 145.72it/s]"
     ]
    },
    {
     "name": "stdout",
     "output_type": "stream",
     "text": [
      "../../Processed Data/10K10Q/Data_10Q/item1_86312_2014-10-21.txt already exists\n",
      "../../Processed Data/10K10Q/Data_10Q/item1_86312_2011-04-21.txt already exists\n",
      "../../Processed Data/10K10Q/Data_10Q/item1_86312_2010-07-22.txt already exists\n",
      "../../Processed Data/10K10Q/Data_10Q/item1_86312_2011-10-19.txt already exists\n",
      "../../Processed Data/10K10Q/Data_10Q/item1_86312_2018-07-19.txt already exists\n",
      "../../Processed Data/10K10Q/Data_10Q/item1_86312_2019-10-22.txt already exists\n",
      "../../Processed Data/10K10Q/Data_10Q/item1_86312_2018-04-24.txt already exists\n",
      "../../Processed Data/10K10Q/Data_10Q/item1_86312_2012-04-19.txt already exists\n",
      "../../Processed Data/10K10Q/Data_10Q/item1_86312_2016-07-21.txt already exists\n",
      "../../Processed Data/10K10Q/Data_10Q/item1_86312_2011-07-21.txt already exists\n",
      "../../Processed Data/10K10Q/Data_10Q/item1_86312_2015-10-20.txt already exists\n",
      "../../Processed Data/10K10Q/Data_10Q/item1_86312_2010-04-23.txt already exists\n",
      "../../Processed Data/10K10Q/Data_10Q/item1_86312_2010-10-21.txt already exists\n",
      "../../Processed Data/10K10Q/Data_10Q/item1_86312_2013-10-22.txt already exists\n",
      "../../Processed Data/10K10Q/Data_10Q/item1_86312_2016-04-21.txt already exists\n"
     ]
    },
    {
     "name": "stderr",
     "output_type": "stream",
     "text": [
      "\r",
      " 28%|██████████████████████▏                                                        | 255/910 [00:01<00:04, 143.69it/s]"
     ]
    },
    {
     "name": "stdout",
     "output_type": "stream",
     "text": [
      "../../Processed Data/10K10Q/Data_10Q/item1_86312_2012-07-19.txt already exists\n",
      "../../Processed Data/10K10Q/Data_10Q/item1_78003_2012-08-09.txt already exists\n",
      "../../Processed Data/10K10Q/Data_10Q/item1_78003_2014-08-07.txt already exists\n",
      "../../Processed Data/10K10Q/Data_10Q/item1_78003_2019-11-07.txt already exists\n",
      "../../Processed Data/10K10Q/Data_10Q/item1_78003_2011-05-12.txt already exists\n",
      "../../Processed Data/10K10Q/Data_10Q/item1_78003_2011-11-10.txt already exists\n",
      "../../Processed Data/10K10Q/Data_10Q/item1_78003_2019-05-09.txt already exists\n",
      "../../Processed Data/10K10Q/Data_10Q/item1_78003_2012-11-09.txt already exists\n",
      "../../Processed Data/10K10Q/Data_10Q/item1_78003_2014-11-06.txt already exists\n",
      "../../Processed Data/10K10Q/Data_10Q/item1_78003_2017-11-09.txt already exists\n",
      "../../Processed Data/10K10Q/Data_10Q/item1_78003_2014-05-08.txt already exists\n",
      "../../Processed Data/10K10Q/Data_10Q/item1_78003_2012-05-10.txt already exists\n",
      "../../Processed Data/10K10Q/Data_10Q/item1_78003_2017-05-11.txt already exists\n",
      "../../Processed Data/10K10Q/Data_10Q/item1_78003_2011-08-11.txt already exists\n",
      "../../Processed Data/10K10Q/Data_10Q/item1_78003_2016-08-11.txt already exists\n",
      "../../Processed Data/10K10Q/Data_10Q/item1_78003_2018-11-08.txt already exists\n",
      "../../Processed Data/10K10Q/Data_10Q/item1_78003_2018-05-10.txt already exists\n"
     ]
    },
    {
     "name": "stderr",
     "output_type": "stream",
     "text": [
      "\r",
      " 30%|███████████████████████▌                                                       | 272/910 [00:01<00:04, 150.48it/s]"
     ]
    },
    {
     "name": "stdout",
     "output_type": "stream",
     "text": [
      "../../Processed Data/10K10Q/Data_10Q/item1_78003_2018-08-09.txt already exists\n",
      "../../Processed Data/10K10Q/Data_10Q/item1_78003_2016-11-10.txt already exists\n",
      "../../Processed Data/10K10Q/Data_10Q/item1_78003_2010-08-12.txt already exists\n",
      "../../Processed Data/10K10Q/Data_10Q/item1_78003_2016-05-12.txt already exists\n",
      "../../Processed Data/10K10Q/Data_10Q/item1_78003_2015-11-05.txt already exists\n",
      "../../Processed Data/10K10Q/Data_10Q/item1_78003_2015-05-07.txt already exists\n",
      "../../Processed Data/10K10Q/Data_10Q/item1_78003_2010-11-12.txt already exists\n",
      "../../Processed Data/10K10Q/Data_10Q/item1_78003_2013-11-08.txt already exists\n",
      "../../Processed Data/10K10Q/Data_10Q/item1_78003_2010-05-13.txt already exists\n",
      "../../Processed Data/10K10Q/Data_10Q/item1_78003_2013-05-10.txt already exists\n",
      "../../Processed Data/10K10Q/Data_10Q/item1_78003_2015-08-06.txt already exists\n",
      "../../Processed Data/10K10Q/Data_10Q/item1_78003_2013-08-09.txt already exists\n",
      "../../Processed Data/10K10Q/Data_10Q/item1_78003_2017-08-10.txt already exists\n",
      "../../Processed Data/10K10Q/Data_10Q/item1_78003_2019-08-08.txt already exists\n",
      "../../Processed Data/10K10Q/Data_10Q/item1_51143_2011-07-26.txt already exists\n",
      "../../Processed Data/10K10Q/Data_10Q/item1_51143_2015-04-28.txt already exists\n"
     ]
    },
    {
     "name": "stderr",
     "output_type": "stream",
     "text": [
      "\r",
      " 32%|█████████████████████████                                                      | 288/910 [00:01<00:04, 136.73it/s]"
     ]
    },
    {
     "name": "stdout",
     "output_type": "stream",
     "text": [
      "../../Processed Data/10K10Q/Data_10Q/item1_51143_2013-04-30.txt already exists\n",
      "../../Processed Data/10K10Q/Data_10Q/item1_51143_2018-10-30.txt already exists\n",
      "../../Processed Data/10K10Q/Data_10Q/item1_51143_2018-04-24.txt already exists\n",
      "../../Processed Data/10K10Q/Data_10Q/item1_51143_2016-10-25.txt already exists\n",
      "../../Processed Data/10K10Q/Data_10Q/item1_51143_2017-07-25.txt already exists\n",
      "../../Processed Data/10K10Q/Data_10Q/item1_51143_2016-04-26.txt already exists\n",
      "../../Processed Data/10K10Q/Data_10Q/item1_51143_2019-07-30.txt already exists\n",
      "../../Processed Data/10K10Q/Data_10Q/item1_51143_2010-10-26.txt already exists\n",
      "../../Processed Data/10K10Q/Data_10Q/item1_51143_2015-10-27.txt already exists\n",
      "../../Processed Data/10K10Q/Data_10Q/item1_51143_2013-10-29.txt already exists\n",
      "../../Processed Data/10K10Q/Data_10Q/item1_51143_2015-07-28.txt already exists\n",
      "../../Processed Data/10K10Q/Data_10Q/item1_51143_2019-10-29.txt already exists\n",
      "../../Processed Data/10K10Q/Data_10Q/item1_51143_2011-04-26.txt already exists\n",
      "../../Processed Data/10K10Q/Data_10Q/item1_51143_2011-10-25.txt already exists\n",
      "../../Processed Data/10K10Q/Data_10Q/item1_51143_2017-10-31.txt already exists\n"
     ]
    },
    {
     "name": "stderr",
     "output_type": "stream",
     "text": [
      "\r",
      " 33%|██████████████████████████▎                                                    | 303/910 [00:01<00:04, 134.24it/s]"
     ]
    },
    {
     "name": "stdout",
     "output_type": "stream",
     "text": [
      "../../Processed Data/10K10Q/Data_10Q/item1_51143_2016-07-26.txt already exists\n",
      "../../Processed Data/10K10Q/Data_10Q/item1_51143_2017-04-25.txt already exists\n",
      "../../Processed Data/10K10Q/Data_10Q/item1_51143_2013-07-31.txt already exists\n",
      "../../Processed Data/10K10Q/Data_10Q/item1_51143_2019-04-30.txt already exists\n",
      "../../Processed Data/10K10Q/Data_10Q/item1_51143_2012-04-24.txt already exists\n",
      "../../Processed Data/10K10Q/Data_10Q/item1_51143_2012-10-30.txt already exists\n",
      "../../Processed Data/10K10Q/Data_10Q/item1_51143_2014-10-28.txt already exists\n",
      "../../Processed Data/10K10Q/Data_10Q/item1_51143_2014-04-29.txt already exists\n",
      "../../Processed Data/10K10Q/Data_10Q/item1_51143_2010-07-27.txt already exists\n",
      "../../Processed Data/10K10Q/Data_10Q/item1_51143_2018-07-31.txt already exists\n",
      "../../Processed Data/10K10Q/Data_10Q/item1_51143_2010-04-27.txt already exists\n",
      "../../Processed Data/10K10Q/Data_10Q/item1_51143_2014-07-29.txt already exists\n",
      "../../Processed Data/10K10Q/Data_10Q/item1_51143_2012-07-31.txt already exists\n",
      "../../Processed Data/10K10Q/Data_10Q/item1_789019_2017-10-26.txt already exists\n"
     ]
    },
    {
     "name": "stderr",
     "output_type": "stream",
     "text": [
      "\r",
      " 35%|███████████████████████████▌                                                   | 317/910 [00:01<00:04, 133.50it/s]"
     ]
    },
    {
     "name": "stdout",
     "output_type": "stream",
     "text": [
      "../../Processed Data/10K10Q/Data_10Q/item1_789019_2016-04-21.txt already exists\n",
      "../../Processed Data/10K10Q/Data_10Q/item1_789019_2010-04-22.txt already exists\n",
      "../../Processed Data/10K10Q/Data_10Q/item1_789019_2015-04-23.txt already exists\n",
      "../../Processed Data/10K10Q/Data_10Q/item1_789019_2017-01-26.txt already exists\n",
      "../../Processed Data/10K10Q/Data_10Q/item1_789019_2014-10-23.txt already exists\n",
      "../../Processed Data/10K10Q/Data_10Q/item1_789019_2016-01-28.txt already exists\n",
      "../../Processed Data/10K10Q/Data_10Q/item1_789019_2013-10-24.txt already exists\n",
      "../../Processed Data/10K10Q/Data_10Q/item1_789019_2019-10-23.txt already exists\n",
      "../../Processed Data/10K10Q/Data_10Q/item1_789019_2012-04-19.txt already exists\n",
      "../../Processed Data/10K10Q/Data_10Q/item1_789019_2018-01-31.txt already exists\n",
      "../../Processed Data/10K10Q/Data_10Q/item1_789019_2013-01-24.txt already exists\n",
      "../../Processed Data/10K10Q/Data_10Q/item1_789019_2014-01-23.txt already exists\n",
      "../../Processed Data/10K10Q/Data_10Q/item1_789019_2015-01-26.txt already exists\n",
      "../../Processed Data/10K10Q/Data_10Q/item1_789019_2011-10-20.txt already exists\n",
      "../../Processed Data/10K10Q/Data_10Q/item1_789019_2018-04-26.txt already exists\n"
     ]
    },
    {
     "name": "stderr",
     "output_type": "stream",
     "text": [
      "\r",
      " 36%|████████████████████████████▊                                                  | 332/910 [00:01<00:04, 133.77it/s]"
     ]
    },
    {
     "name": "stdout",
     "output_type": "stream",
     "text": [
      "../../Processed Data/10K10Q/Data_10Q/item1_789019_2010-01-28.txt already exists\n",
      "../../Processed Data/10K10Q/Data_10Q/item1_789019_2018-10-24.txt already exists\n",
      "../../Processed Data/10K10Q/Data_10Q/item1_789019_2012-01-19.txt already exists\n",
      "../../Processed Data/10K10Q/Data_10Q/item1_789019_2010-10-28.txt already exists\n",
      "../../Processed Data/10K10Q/Data_10Q/item1_789019_2012-10-18.txt already exists\n",
      "../../Processed Data/10K10Q/Data_10Q/item1_789019_2019-01-30.txt already exists\n",
      "../../Processed Data/10K10Q/Data_10Q/item1_789019_2013-04-18.txt already exists\n",
      "../../Processed Data/10K10Q/Data_10Q/item1_789019_2011-04-28.txt already exists\n",
      "../../Processed Data/10K10Q/Data_10Q/item1_789019_2015-10-22.txt already exists\n",
      "../../Processed Data/10K10Q/Data_10Q/item1_789019_2011-01-27.txt already exists\n",
      "../../Processed Data/10K10Q/Data_10Q/item1_789019_2020-01-29.txt already exists\n",
      "../../Processed Data/10K10Q/Data_10Q/item1_789019_2014-04-24.txt already exists\n",
      "../../Processed Data/10K10Q/Data_10Q/item1_789019_2019-04-24.txt already exists\n",
      "../../Processed Data/10K10Q/Data_10Q/item1_789019_2016-10-20.txt already exists\n",
      "../../Processed Data/10K10Q/Data_10Q/item1_789019_2017-04-27.txt already exists\n",
      "../../Processed Data/10K10Q/Data_10Q/item1_1751788_2019-05-03.txt already exists\n",
      "../../Processed Data/10K10Q/Data_10Q/item1_1751788_2019-07-25.txt already exists\n"
     ]
    },
    {
     "name": "stderr",
     "output_type": "stream",
     "text": [
      "\r",
      " 38%|██████████████████████████████▎                                                | 349/910 [00:02<00:03, 141.73it/s]"
     ]
    },
    {
     "name": "stdout",
     "output_type": "stream",
     "text": [
      "../../Processed Data/10K10Q/Data_10Q/item1_1751788_2019-10-25.txt already exists\n",
      "../../Processed Data/10K10Q/Data_10Q/item1_12927_2019-07-24.txt already exists\n",
      "../../Processed Data/10K10Q/Data_10Q/item1_12927_2016-10-26.txt already exists\n",
      "../../Processed Data/10K10Q/Data_10Q/item1_12927_2017-07-26.txt already exists\n",
      "../../Processed Data/10K10Q/Data_10Q/item1_12927_2018-10-24.txt already exists\n",
      "../../Processed Data/10K10Q/Data_10Q/item1_12927_2013-04-24.txt already exists\n",
      "../../Processed Data/10K10Q/Data_10Q/item1_12927_2014-04-23.txt already exists\n",
      "../../Processed Data/10K10Q/Data_10Q/item1_12927_2012-10-24.txt already exists\n",
      "../../Processed Data/10K10Q/Data_10Q/item1_12927_2019-04-24.txt already exists\n",
      "../../Processed Data/10K10Q/Data_10Q/item1_12927_2017-10-25.txt already exists\n",
      "../../Processed Data/10K10Q/Data_10Q/item1_12927_2011-10-26.txt already exists\n",
      "../../Processed Data/10K10Q/Data_10Q/item1_12927_2010-04-21.txt already exists\n",
      "../../Processed Data/10K10Q/Data_10Q/item1_12927_2014-07-23.txt already exists\n",
      "../../Processed Data/10K10Q/Data_10Q/item1_12927_2017-04-26.txt already exists\n",
      "../../Processed Data/10K10Q/Data_10Q/item1_12927_2013-07-24.txt already exists\n",
      "../../Processed Data/10K10Q/Data_10Q/item1_12927_2010-07-28.txt already exists\n",
      "../../Processed Data/10K10Q/Data_10Q/item1_12927_2018-07-25.txt already exists\n",
      "../../Processed Data/10K10Q/Data_10Q/item1_12927_2013-10-23.txt already exists\n",
      "../../Processed Data/10K10Q/Data_10Q/item1_12927_2010-10-20.txt already exists\n",
      "../../Processed Data/10K10Q/Data_10Q/item1_12927_2011-04-27.txt already exists\n",
      "../../Processed Data/10K10Q/Data_10Q/item1_12927_2015-10-21.txt already exists\n",
      "../../Processed Data/10K10Q/Data_10Q/item1_12927_2015-04-22.txt already exists\n"
     ]
    },
    {
     "name": "stderr",
     "output_type": "stream",
     "text": [
      "\r",
      " 41%|████████████████████████████████▏                                              | 371/910 [00:02<00:03, 157.12it/s]"
     ]
    },
    {
     "name": "stdout",
     "output_type": "stream",
     "text": [
      "../../Processed Data/10K10Q/Data_10Q/item1_12927_2012-04-25.txt already exists\n",
      "../../Processed Data/10K10Q/Data_10Q/item1_12927_2016-07-27.txt already exists\n",
      "../../Processed Data/10K10Q/Data_10Q/item1_12927_2011-07-27.txt already exists\n",
      "../../Processed Data/10K10Q/Data_10Q/item1_12927_2014-10-22.txt already exists\n",
      "../../Processed Data/10K10Q/Data_10Q/item1_12927_2018-04-25.txt already exists\n",
      "../../Processed Data/10K10Q/Data_10Q/item1_12927_2019-10-23.txt already exists\n",
      "../../Processed Data/10K10Q/Data_10Q/item1_12927_2012-07-25.txt already exists\n",
      "../../Processed Data/10K10Q/Data_10Q/item1_12927_2016-04-27.txt already exists\n",
      "../../Processed Data/10K10Q/Data_10Q/item1_12927_2015-07-22.txt already exists\n",
      "../../Processed Data/10K10Q/Data_10Q/item1_200406_2010-05-10.txt already exists\n",
      "../../Processed Data/10K10Q/Data_10Q/item1_200406_2017-08-03.txt already exists\n",
      "../../Processed Data/10K10Q/Data_10Q/item1_200406_2014-05-02.txt already exists\n",
      "../../Processed Data/10K10Q/Data_10Q/item1_200406_2012-08-02.txt already exists\n",
      "../../Processed Data/10K10Q/Data_10Q/item1_200406_2019-07-29.txt already exists\n",
      "../../Processed Data/10K10Q/Data_10Q/item1_200406_2014-08-01.txt already exists\n",
      "../../Processed Data/10K10Q/Data_10Q/item1_200406_2017-11-02.txt already exists\n",
      "../../Processed Data/10K10Q/Data_10Q/item1_200406_2018-05-01.txt already exists\n",
      "../../Processed Data/10K10Q/Data_10Q/item1_200406_2013-05-03.txt already exists\n"
     ]
    },
    {
     "name": "stderr",
     "output_type": "stream",
     "text": [
      "\r",
      " 43%|█████████████████████████████████▊                                             | 389/910 [00:02<00:03, 160.66it/s]"
     ]
    },
    {
     "name": "stdout",
     "output_type": "stream",
     "text": [
      "../../Processed Data/10K10Q/Data_10Q/item1_200406_2013-08-01.txt already exists\n",
      "../../Processed Data/10K10Q/Data_10Q/item1_200406_2015-05-01.txt already exists\n",
      "../../Processed Data/10K10Q/Data_10Q/item1_200406_2012-11-09.txt already exists\n",
      "../../Processed Data/10K10Q/Data_10Q/item1_200406_2018-08-02.txt already exists\n",
      "../../Processed Data/10K10Q/Data_10Q/item1_200406_2015-07-31.txt already exists\n",
      "../../Processed Data/10K10Q/Data_10Q/item1_200406_2012-05-07.txt already exists\n",
      "../../Processed Data/10K10Q/Data_10Q/item1_200406_2014-10-30.txt already exists\n",
      "../../Processed Data/10K10Q/Data_10Q/item1_200406_2011-08-09.txt already exists\n",
      "../../Processed Data/10K10Q/Data_10Q/item1_200406_2011-05-10.txt already exists\n",
      "../../Processed Data/10K10Q/Data_10Q/item1_200406_2017-05-08.txt already exists\n",
      "../../Processed Data/10K10Q/Data_10Q/item1_200406_2011-11-08.txt already exists\n",
      "../../Processed Data/10K10Q/Data_10Q/item1_200406_2019-10-28.txt already exists\n",
      "../../Processed Data/10K10Q/Data_10Q/item1_200406_2010-11-10.txt already exists\n",
      "../../Processed Data/10K10Q/Data_10Q/item1_200406_2016-08-04.txt already exists\n",
      "../../Processed Data/10K10Q/Data_10Q/item1_200406_2015-10-30.txt already exists\n",
      "../../Processed Data/10K10Q/Data_10Q/item1_200406_2016-11-04.txt already exists\n",
      "../../Processed Data/10K10Q/Data_10Q/item1_200406_2016-05-10.txt already exists\n"
     ]
    },
    {
     "name": "stderr",
     "output_type": "stream",
     "text": [
      "\r",
      " 45%|███████████████████████████████████▏                                           | 406/910 [00:02<00:03, 155.21it/s]"
     ]
    },
    {
     "name": "stdout",
     "output_type": "stream",
     "text": [
      "../../Processed Data/10K10Q/Data_10Q/item1_200406_2010-08-11.txt already exists\n",
      "../../Processed Data/10K10Q/Data_10Q/item1_200406_2013-11-04.txt already exists\n",
      "../../Processed Data/10K10Q/Data_10Q/item1_200406_2019-05-01.txt already exists\n",
      "../../Processed Data/10K10Q/Data_10Q/item1_200406_2018-10-31.txt already exists\n",
      "../../Processed Data/10K10Q/Data_10Q/item1_320187_2010-10-06.txt already exists\n",
      "../../Processed Data/10K10Q/Data_10Q/item1_320187_2018-04-05.txt already exists\n",
      "../../Processed Data/10K10Q/Data_10Q/item1_320187_2013-01-09.txt already exists\n",
      "../../Processed Data/10K10Q/Data_10Q/item1_320187_2015-01-07.txt already exists\n",
      "../../Processed Data/10K10Q/Data_10Q/item1_320187_2015-10-06.txt already exists\n",
      "../../Processed Data/10K10Q/Data_10Q/item1_320187_2010-01-06.txt already exists\n",
      "../../Processed Data/10K10Q/Data_10Q/item1_320187_2019-10-04.txt already exists\n",
      "../../Processed Data/10K10Q/Data_10Q/item1_320187_2011-04-06.txt already exists\n",
      "../../Processed Data/10K10Q/Data_10Q/item1_320187_2019-01-08.txt already exists\n",
      "../../Processed Data/10K10Q/Data_10Q/item1_320187_2014-04-07.txt already exists\n",
      "../../Processed Data/10K10Q/Data_10Q/item1_320187_2017-10-06.txt already exists\n",
      "../../Processed Data/10K10Q/Data_10Q/item1_320187_2017-04-04.txt already exists\n"
     ]
    },
    {
     "name": "stderr",
     "output_type": "stream",
     "text": [
      "\r",
      " 46%|████████████████████████████████████▋                                          | 422/910 [00:02<00:03, 146.14it/s]"
     ]
    },
    {
     "name": "stdout",
     "output_type": "stream",
     "text": [
      "../../Processed Data/10K10Q/Data_10Q/item1_320187_2020-01-07.txt already exists\n",
      "../../Processed Data/10K10Q/Data_10Q/item1_320187_2012-01-05.txt already exists\n",
      "../../Processed Data/10K10Q/Data_10Q/item1_320187_2019-04-04.txt already exists\n",
      "../../Processed Data/10K10Q/Data_10Q/item1_320187_2012-04-06.txt already exists\n",
      "../../Processed Data/10K10Q/Data_10Q/item1_320187_2014-01-07.txt already exists\n",
      "../../Processed Data/10K10Q/Data_10Q/item1_320187_2011-01-06.txt already exists\n",
      "../../Processed Data/10K10Q/Data_10Q/item1_320187_2014-10-07.txt already exists\n",
      "../../Processed Data/10K10Q/Data_10Q/item1_320187_2012-10-09.txt already exists\n",
      "../../Processed Data/10K10Q/Data_10Q/item1_320187_2011-10-06.txt already exists\n",
      "../../Processed Data/10K10Q/Data_10Q/item1_320187_2017-01-05.txt already exists\n",
      "../../Processed Data/10K10Q/Data_10Q/item1_320187_2015-04-07.txt already exists\n",
      "../../Processed Data/10K10Q/Data_10Q/item1_320187_2013-10-07.txt already exists\n",
      "../../Processed Data/10K10Q/Data_10Q/item1_320187_2018-10-05.txt already exists\n",
      "../../Processed Data/10K10Q/Data_10Q/item1_320187_2013-04-04.txt already exists\n",
      "../../Processed Data/10K10Q/Data_10Q/item1_320187_2016-01-06.txt already exists\n",
      "../../Processed Data/10K10Q/Data_10Q/item1_320187_2018-01-05.txt already exists\n",
      "../../Processed Data/10K10Q/Data_10Q/item1_320187_2016-10-11.txt already exists\n",
      "../../Processed Data/10K10Q/Data_10Q/item1_320187_2016-04-05.txt already exists\n"
     ]
    },
    {
     "name": "stderr",
     "output_type": "stream",
     "text": [
      "\r",
      " 48%|██████████████████████████████████████▏                                        | 440/910 [00:02<00:03, 153.93it/s]"
     ]
    },
    {
     "name": "stdout",
     "output_type": "stream",
     "text": [
      "../../Processed Data/10K10Q/Data_10Q/item1_320187_2010-04-07.txt already exists\n",
      "../../Processed Data/10K10Q/Data_10Q/item1_858877_2014-05-22.txt already exists\n",
      "../../Processed Data/10K10Q/Data_10Q/item1_858877_2014-11-20.txt already exists\n",
      "../../Processed Data/10K10Q/Data_10Q/item1_858877_2010-05-26.txt already exists\n",
      "../../Processed Data/10K10Q/Data_10Q/item1_858877_2016-05-24.txt already exists\n",
      "../../Processed Data/10K10Q/Data_10Q/item1_858877_2015-02-18.txt already exists\n",
      "../../Processed Data/10K10Q/Data_10Q/item1_858877_2014-02-20.txt already exists\n",
      "../../Processed Data/10K10Q/Data_10Q/item1_858877_2011-05-25.txt already exists\n",
      "../../Processed Data/10K10Q/Data_10Q/item1_858877_2015-11-19.txt already exists\n",
      "../../Processed Data/10K10Q/Data_10Q/item1_858877_2010-11-23.txt already exists\n",
      "../../Processed Data/10K10Q/Data_10Q/item1_858877_2015-05-20.txt already exists\n",
      "../../Processed Data/10K10Q/Data_10Q/item1_858877_2017-02-21.txt already exists\n",
      "../../Processed Data/10K10Q/Data_10Q/item1_858877_2016-11-22.txt already exists\n",
      "../../Processed Data/10K10Q/Data_10Q/item1_858877_2013-05-21.txt already exists\n",
      "../../Processed Data/10K10Q/Data_10Q/item1_858877_2011-02-23.txt already exists\n",
      "../../Processed Data/10K10Q/Data_10Q/item1_858877_2018-05-22.txt already exists\n"
     ]
    },
    {
     "name": "stderr",
     "output_type": "stream",
     "text": [
      "\r",
      " 50%|███████████████████████████████████████▌                                       | 456/910 [00:02<00:02, 155.64it/s]"
     ]
    },
    {
     "name": "stdout",
     "output_type": "stream",
     "text": [
      "../../Processed Data/10K10Q/Data_10Q/item1_858877_2012-02-21.txt already exists\n",
      "../../Processed Data/10K10Q/Data_10Q/item1_858877_2013-11-22.txt already exists\n",
      "../../Processed Data/10K10Q/Data_10Q/item1_858877_2018-11-20.txt already exists\n",
      "../../Processed Data/10K10Q/Data_10Q/item1_858877_2019-02-19.txt already exists\n",
      "../../Processed Data/10K10Q/Data_10Q/item1_858877_2017-05-23.txt already exists\n",
      "../../Processed Data/10K10Q/Data_10Q/item1_858877_2013-02-19.txt already exists\n",
      "../../Processed Data/10K10Q/Data_10Q/item1_858877_2017-11-21.txt already exists\n",
      "../../Processed Data/10K10Q/Data_10Q/item1_858877_2012-11-20.txt already exists\n",
      "../../Processed Data/10K10Q/Data_10Q/item1_858877_2016-02-18.txt already exists\n",
      "../../Processed Data/10K10Q/Data_10Q/item1_858877_2018-02-20.txt already exists\n",
      "../../Processed Data/10K10Q/Data_10Q/item1_858877_2019-05-21.txt already exists\n",
      "../../Processed Data/10K10Q/Data_10Q/item1_858877_2010-02-17.txt already exists\n",
      "../../Processed Data/10K10Q/Data_10Q/item1_858877_2012-05-23.txt already exists\n",
      "../../Processed Data/10K10Q/Data_10Q/item1_858877_2019-11-19.txt already exists\n",
      "../../Processed Data/10K10Q/Data_10Q/item1_858877_2011-11-22.txt already exists\n",
      "../../Processed Data/10K10Q/Data_10Q/item1_1403161_2019-01-31.txt already exists\n",
      "../../Processed Data/10K10Q/Data_10Q/item1_1403161_2018-07-27.txt already exists\n"
     ]
    },
    {
     "name": "stderr",
     "output_type": "stream",
     "text": [
      "\r",
      " 52%|█████████████████████████████████████████                                      | 473/910 [00:02<00:02, 154.41it/s]"
     ]
    },
    {
     "name": "stdout",
     "output_type": "stream",
     "text": [
      "../../Processed Data/10K10Q/Data_10Q/item1_1403161_2017-02-02.txt already exists\n",
      "../../Processed Data/10K10Q/Data_10Q/item1_1403161_2013-02-06.txt already exists\n",
      "../../Processed Data/10K10Q/Data_10Q/item1_1403161_2014-04-24.txt already exists\n",
      "../../Processed Data/10K10Q/Data_10Q/item1_1403161_2010-08-02.txt already exists\n",
      "../../Processed Data/10K10Q/Data_10Q/item1_1403161_2014-01-30.txt already exists\n",
      "../../Processed Data/10K10Q/Data_10Q/item1_1403161_2013-07-24.txt already exists\n",
      "../../Processed Data/10K10Q/Data_10Q/item1_1403161_2016-07-25.txt already exists\n",
      "../../Processed Data/10K10Q/Data_10Q/item1_1403161_2011-05-05.txt already exists\n",
      "../../Processed Data/10K10Q/Data_10Q/item1_1403161_2017-07-20.txt already exists\n",
      "../../Processed Data/10K10Q/Data_10Q/item1_1403161_2014-07-24.txt already exists\n",
      "../../Processed Data/10K10Q/Data_10Q/item1_1403161_2010-02-03.txt already exists\n",
      "../../Processed Data/10K10Q/Data_10Q/item1_1403161_2017-04-21.txt already exists\n",
      "../../Processed Data/10K10Q/Data_10Q/item1_1403161_2011-07-29.txt already exists\n",
      "../../Processed Data/10K10Q/Data_10Q/item1_1403161_2018-04-27.txt already exists\n",
      "../../Processed Data/10K10Q/Data_10Q/item1_1403161_2012-02-08.txt already exists\n",
      "../../Processed Data/10K10Q/Data_10Q/item1_1403161_2012-07-27.txt already exists\n"
     ]
    },
    {
     "name": "stderr",
     "output_type": "stream",
     "text": [
      "\r",
      " 54%|██████████████████████████████████████████▍                                    | 489/910 [00:02<00:02, 150.83it/s]"
     ]
    },
    {
     "name": "stdout",
     "output_type": "stream",
     "text": [
      "../../Processed Data/10K10Q/Data_10Q/item1_1403161_2015-01-29.txt already exists\n",
      "../../Processed Data/10K10Q/Data_10Q/item1_1403161_2016-04-25.txt already exists\n",
      "../../Processed Data/10K10Q/Data_10Q/item1_1403161_2015-04-30.txt already exists\n",
      "../../Processed Data/10K10Q/Data_10Q/item1_1403161_2015-07-23.txt already exists\n",
      "../../Processed Data/10K10Q/Data_10Q/item1_1403161_2019-07-26.txt already exists\n",
      "../../Processed Data/10K10Q/Data_10Q/item1_1403161_2018-02-01.txt already exists\n",
      "../../Processed Data/10K10Q/Data_10Q/item1_1403161_2016-01-28.txt already exists\n",
      "../../Processed Data/10K10Q/Data_10Q/item1_1403161_2012-05-02.txt already exists\n",
      "../../Processed Data/10K10Q/Data_10Q/item1_1403161_2019-04-26.txt already exists\n",
      "../../Processed Data/10K10Q/Data_10Q/item1_1403161_2010-05-03.txt already exists\n",
      "../../Processed Data/10K10Q/Data_10Q/item1_1403161_2011-02-02.txt already exists\n",
      "../../Processed Data/10K10Q/Data_10Q/item1_1403161_2013-05-01.txt already exists\n",
      "../../Processed Data/10K10Q/Data_10Q/item1_1403161_2020-01-31.txt already exists\n",
      "../../Processed Data/10K10Q/Data_10Q/item1_1001039_2012-05-08.txt already exists\n",
      "../../Processed Data/10K10Q/Data_10Q/item1_1001039_2014-05-06.txt already exists\n",
      "../../Processed Data/10K10Q/Data_10Q/item1_1001039_2017-05-09.txt already exists\n"
     ]
    },
    {
     "name": "stderr",
     "output_type": "stream",
     "text": [
      "\r",
      " 55%|███████████████████████████████████████████▊                                   | 505/910 [00:03<00:02, 149.67it/s]"
     ]
    },
    {
     "name": "stdout",
     "output_type": "stream",
     "text": [
      "../../Processed Data/10K10Q/Data_10Q/item1_1001039_2011-08-09.txt already exists\n",
      "../../Processed Data/10K10Q/Data_10Q/item1_1001039_2013-02-05.txt already exists\n",
      "../../Processed Data/10K10Q/Data_10Q/item1_1001039_2014-08-05.txt already exists\n",
      "../../Processed Data/10K10Q/Data_10Q/item1_1001039_2018-02-06.txt already exists\n",
      "../../Processed Data/10K10Q/Data_10Q/item1_1001039_2016-02-09.txt already exists\n",
      "../../Processed Data/10K10Q/Data_10Q/item1_1001039_2011-05-10.txt already exists\n",
      "../../Processed Data/10K10Q/Data_10Q/item1_1001039_2012-08-07.txt already exists\n",
      "../../Processed Data/10K10Q/Data_10Q/item1_1001039_2013-05-07.txt already exists\n",
      "../../Processed Data/10K10Q/Data_10Q/item1_1001039_2017-02-07.txt already exists\n",
      "../../Processed Data/10K10Q/Data_10Q/item1_1001039_2016-05-10.txt already exists\n",
      "../../Processed Data/10K10Q/Data_10Q/item1_1001039_2010-08-10.txt already exists\n",
      "../../Processed Data/10K10Q/Data_10Q/item1_1001039_2015-05-05.txt already exists\n",
      "../../Processed Data/10K10Q/Data_10Q/item1_1001039_2018-08-07.txt already exists\n",
      "../../Processed Data/10K10Q/Data_10Q/item1_1001039_2018-05-08.txt already exists\n",
      "../../Processed Data/10K10Q/Data_10Q/item1_1001039_2014-02-05.txt already exists\n",
      "../../Processed Data/10K10Q/Data_10Q/item1_1001039_2011-02-08.txt already exists\n"
     ]
    },
    {
     "name": "stderr",
     "output_type": "stream",
     "text": [
      "\r",
      " 57%|█████████████████████████████████████████████▏                                 | 521/910 [00:03<00:02, 150.42it/s]"
     ]
    },
    {
     "name": "stdout",
     "output_type": "stream",
     "text": [
      "../../Processed Data/10K10Q/Data_10Q/item1_1001039_2016-08-09.txt already exists\n",
      "../../Processed Data/10K10Q/Data_10Q/item1_1001039_2012-02-07.txt already exists\n",
      "../../Processed Data/10K10Q/Data_10Q/item1_1001039_2019-02-05.txt already exists\n",
      "../../Processed Data/10K10Q/Data_10Q/item1_1001039_2015-02-03.txt already exists\n",
      "../../Processed Data/10K10Q/Data_10Q/item1_1001039_2013-08-06.txt already exists\n",
      "../../Processed Data/10K10Q/Data_10Q/item1_1001039_2010-05-11.txt already exists\n",
      "../../Processed Data/10K10Q/Data_10Q/item1_1001039_2015-08-04.txt already exists\n",
      "../../Processed Data/10K10Q/Data_10Q/item1_1001039_2017-08-08.txt already exists\n",
      "../../Processed Data/10K10Q/Data_10Q/item1_1001039_2010-02-09.txt already exists\n",
      "../../Processed Data/10K10Q/Data_10Q/item1_63908_2017-08-08.txt already exists\n",
      "../../Processed Data/10K10Q/Data_10Q/item1_63908_2018-08-02.txt already exists\n",
      "../../Processed Data/10K10Q/Data_10Q/item1_63908_2019-05-08.txt already exists\n",
      "../../Processed Data/10K10Q/Data_10Q/item1_63908_2019-08-06.txt already exists\n",
      "../../Processed Data/10K10Q/Data_10Q/item1_63908_2010-11-05.txt already exists\n",
      "../../Processed Data/10K10Q/Data_10Q/item1_63908_2015-11-04.txt already exists\n",
      "../../Processed Data/10K10Q/Data_10Q/item1_63908_2010-08-05.txt already exists\n"
     ]
    },
    {
     "name": "stderr",
     "output_type": "stream",
     "text": [
      "\r",
      " 59%|██████████████████████████████████████████████▌                                | 537/910 [00:03<00:02, 142.56it/s]"
     ]
    },
    {
     "name": "stdout",
     "output_type": "stream",
     "text": [
      "../../Processed Data/10K10Q/Data_10Q/item1_63908_2017-11-02.txt already exists\n",
      "../../Processed Data/10K10Q/Data_10Q/item1_63908_2015-08-05.txt already exists\n",
      "../../Processed Data/10K10Q/Data_10Q/item1_63908_2013-10-30.txt already exists\n",
      "../../Processed Data/10K10Q/Data_10Q/item1_63908_2015-05-07.txt already exists\n",
      "../../Processed Data/10K10Q/Data_10Q/item1_63908_2010-05-06.txt already exists\n",
      "../../Processed Data/10K10Q/Data_10Q/item1_63908_2018-05-08.txt already exists\n",
      "../../Processed Data/10K10Q/Data_10Q/item1_63908_2014-11-03.txt already exists\n",
      "../../Processed Data/10K10Q/Data_10Q/item1_63908_2012-11-01.txt already exists\n",
      "../../Processed Data/10K10Q/Data_10Q/item1_63908_2016-11-04.txt already exists\n",
      "../../Processed Data/10K10Q/Data_10Q/item1_63908_2016-05-06.txt already exists\n",
      "../../Processed Data/10K10Q/Data_10Q/item1_63908_2016-08-04.txt already exists\n",
      "../../Processed Data/10K10Q/Data_10Q/item1_63908_2013-07-31.txt already exists\n",
      "../../Processed Data/10K10Q/Data_10Q/item1_63908_2011-05-06.txt already exists\n",
      "../../Processed Data/10K10Q/Data_10Q/item1_63908_2011-11-04.txt already exists\n",
      "../../Processed Data/10K10Q/Data_10Q/item1_63908_2017-05-08.txt already exists\n",
      "../../Processed Data/10K10Q/Data_10Q/item1_63908_2012-08-06.txt already exists\n",
      "../../Processed Data/10K10Q/Data_10Q/item1_63908_2012-05-08.txt already exists\n",
      "../../Processed Data/10K10Q/Data_10Q/item1_63908_2014-05-06.txt already exists\n",
      "../../Processed Data/10K10Q/Data_10Q/item1_63908_2011-08-05.txt already exists\n"
     ]
    },
    {
     "name": "stderr",
     "output_type": "stream",
     "text": [
      "\r",
      " 61%|████████████████████████████████████████████████▎                              | 556/910 [00:03<00:02, 152.98it/s]"
     ]
    },
    {
     "name": "stdout",
     "output_type": "stream",
     "text": [
      "../../Processed Data/10K10Q/Data_10Q/item1_63908_2018-11-01.txt already exists\n",
      "../../Processed Data/10K10Q/Data_10Q/item1_63908_2014-08-04.txt already exists\n",
      "../../Processed Data/10K10Q/Data_10Q/item1_63908_2013-05-01.txt already exists\n",
      "../../Processed Data/10K10Q/Data_10Q/item1_63908_2019-11-04.txt already exists\n",
      "../../Processed Data/10K10Q/Data_10Q/item1_21344_2017-10-26.txt already exists\n",
      "../../Processed Data/10K10Q/Data_10Q/item1_21344_2014-10-29.txt already exists\n",
      "../../Processed Data/10K10Q/Data_10Q/item1_21344_2019-10-24.txt already exists\n",
      "../../Processed Data/10K10Q/Data_10Q/item1_21344_2015-07-29.txt already exists\n",
      "../../Processed Data/10K10Q/Data_10Q/item1_21344_2010-04-29.txt already exists\n",
      "../../Processed Data/10K10Q/Data_10Q/item1_21344_2018-10-30.txt already exists\n",
      "../../Processed Data/10K10Q/Data_10Q/item1_21344_2013-10-24.txt already exists\n",
      "../../Processed Data/10K10Q/Data_10Q/item1_21344_2014-07-30.txt already exists\n",
      "../../Processed Data/10K10Q/Data_10Q/item1_21344_2015-04-30.txt already exists\n",
      "../../Processed Data/10K10Q/Data_10Q/item1_21344_2011-08-01.txt already exists\n",
      "../../Processed Data/10K10Q/Data_10Q/item1_21344_2015-10-28.txt already exists\n",
      "../../Processed Data/10K10Q/Data_10Q/item1_21344_2019-07-25.txt already exists\n",
      "../../Processed Data/10K10Q/Data_10Q/item1_21344_2016-10-27.txt already exists\n",
      "../../Processed Data/10K10Q/Data_10Q/item1_21344_2010-10-29.txt already exists\n",
      "../../Processed Data/10K10Q/Data_10Q/item1_21344_2017-07-27.txt already exists\n",
      "../../Processed Data/10K10Q/Data_10Q/item1_21344_2011-05-02.txt already exists\n"
     ]
    },
    {
     "name": "stderr",
     "output_type": "stream",
     "text": [
      "\r",
      " 63%|██████████████████████████████████████████████████                             | 576/910 [00:03<00:02, 164.08it/s]"
     ]
    },
    {
     "name": "stdout",
     "output_type": "stream",
     "text": [
      "../../Processed Data/10K10Q/Data_10Q/item1_21344_2013-04-25.txt already exists\n",
      "../../Processed Data/10K10Q/Data_10Q/item1_21344_2012-07-26.txt already exists\n",
      "../../Processed Data/10K10Q/Data_10Q/item1_21344_2016-04-28.txt already exists\n",
      "../../Processed Data/10K10Q/Data_10Q/item1_21344_2018-07-26.txt already exists\n",
      "../../Processed Data/10K10Q/Data_10Q/item1_21344_2019-04-25.txt already exists\n",
      "../../Processed Data/10K10Q/Data_10Q/item1_21344_2012-10-25.txt already exists\n",
      "../../Processed Data/10K10Q/Data_10Q/item1_21344_2018-05-01.txt already exists\n",
      "../../Processed Data/10K10Q/Data_10Q/item1_21344_2010-08-02.txt already exists\n",
      "../../Processed Data/10K10Q/Data_10Q/item1_21344_2011-10-27.txt already exists\n",
      "../../Processed Data/10K10Q/Data_10Q/item1_21344_2016-07-28.txt already exists\n",
      "../../Processed Data/10K10Q/Data_10Q/item1_21344_2014-04-24.txt already exists\n",
      "../../Processed Data/10K10Q/Data_10Q/item1_21344_2017-04-27.txt already exists\n",
      "../../Processed Data/10K10Q/Data_10Q/item1_21344_2012-04-26.txt already exists\n",
      "../../Processed Data/10K10Q/Data_10Q/item1_21344_2013-07-25.txt already exists\n",
      "../../Processed Data/10K10Q/Data_10Q/item1_50863_2010-11-02.txt already exists\n",
      "../../Processed Data/10K10Q/Data_10Q/item1_50863_2011-05-09.txt already exists\n",
      "../../Processed Data/10K10Q/Data_10Q/item1_50863_2016-05-02.txt already exists\n"
     ]
    },
    {
     "name": "stderr",
     "output_type": "stream",
     "text": [
      "\r",
      " 65%|███████████████████████████████████████████████████▍                           | 593/910 [00:03<00:01, 164.85it/s]"
     ]
    },
    {
     "name": "stdout",
     "output_type": "stream",
     "text": [
      "../../Processed Data/10K10Q/Data_10Q/item1_50863_2014-04-25.txt already exists\n",
      "../../Processed Data/10K10Q/Data_10Q/item1_50863_2013-07-29.txt already exists\n",
      "../../Processed Data/10K10Q/Data_10Q/item1_50863_2015-07-27.txt already exists\n",
      "../../Processed Data/10K10Q/Data_10Q/item1_50863_2010-07-30.txt already exists\n",
      "../../Processed Data/10K10Q/Data_10Q/item1_50863_2018-07-27.txt already exists\n",
      "../../Processed Data/10K10Q/Data_10Q/item1_50863_2017-04-27.txt already exists\n",
      "../../Processed Data/10K10Q/Data_10Q/item1_50863_2016-08-01.txt already exists\n",
      "../../Processed Data/10K10Q/Data_10Q/item1_50863_2014-07-25.txt already exists\n",
      "../../Processed Data/10K10Q/Data_10Q/item1_50863_2016-10-31.txt already exists\n",
      "../../Processed Data/10K10Q/Data_10Q/item1_50863_2015-10-28.txt already exists\n",
      "../../Processed Data/10K10Q/Data_10Q/item1_50863_2018-04-27.txt already exists\n",
      "../../Processed Data/10K10Q/Data_10Q/item1_50863_2017-07-27.txt already exists\n",
      "../../Processed Data/10K10Q/Data_10Q/item1_50863_2015-04-27.txt already exists\n",
      "../../Processed Data/10K10Q/Data_10Q/item1_50863_2013-04-29.txt already exists\n",
      "../../Processed Data/10K10Q/Data_10Q/item1_50863_2013-10-28.txt already exists\n",
      "../../Processed Data/10K10Q/Data_10Q/item1_50863_2018-10-26.txt already exists\n",
      "../../Processed Data/10K10Q/Data_10Q/item1_50863_2019-07-26.txt already exists\n"
     ]
    },
    {
     "name": "stderr",
     "output_type": "stream",
     "text": [
      "\r",
      " 67%|████████████████████████████████████████████████████▉                          | 610/910 [00:03<00:01, 165.33it/s]"
     ]
    },
    {
     "name": "stdout",
     "output_type": "stream",
     "text": [
      "../../Processed Data/10K10Q/Data_10Q/item1_50863_2012-08-01.txt already exists\n",
      "../../Processed Data/10K10Q/Data_10Q/item1_50863_2012-10-31.txt already exists\n",
      "../../Processed Data/10K10Q/Data_10Q/item1_50863_2014-10-29.txt already exists\n",
      "../../Processed Data/10K10Q/Data_10Q/item1_50863_2019-10-25.txt already exists\n",
      "../../Processed Data/10K10Q/Data_10Q/item1_50863_2017-10-26.txt already exists\n",
      "../../Processed Data/10K10Q/Data_10Q/item1_50863_2012-05-04.txt already exists\n",
      "../../Processed Data/10K10Q/Data_10Q/item1_50863_2011-08-08.txt already exists\n",
      "../../Processed Data/10K10Q/Data_10Q/item1_50863_2010-05-03.txt already exists\n",
      "../../Processed Data/10K10Q/Data_10Q/item1_50863_2011-11-04.txt already exists\n",
      "../../Processed Data/10K10Q/Data_10Q/item1_50863_2019-04-26.txt already exists\n",
      "../../Processed Data/10K10Q/Data_10Q/item1_354950_2015-11-24.txt already exists\n",
      "../../Processed Data/10K10Q/Data_10Q/item1_354950_2017-08-22.txt already exists\n",
      "../../Processed Data/10K10Q/Data_10Q/item1_354950_2011-09-01.txt already exists\n",
      "../../Processed Data/10K10Q/Data_10Q/item1_354950_2013-05-29.txt already exists\n",
      "../../Processed Data/10K10Q/Data_10Q/item1_354950_2015-05-27.txt already exists\n",
      "../../Processed Data/10K10Q/Data_10Q/item1_354950_2012-08-22.txt already exists\n",
      "../../Processed Data/10K10Q/Data_10Q/item1_354950_2016-05-24.txt already exists\n"
     ]
    },
    {
     "name": "stderr",
     "output_type": "stream",
     "text": [
      "\r",
      " 69%|██████████████████████████████████████████████████████▍                        | 627/910 [00:03<00:01, 166.29it/s]"
     ]
    },
    {
     "name": "stdout",
     "output_type": "stream",
     "text": [
      "../../Processed Data/10K10Q/Data_10Q/item1_354950_2010-12-02.txt already exists\n",
      "../../Processed Data/10K10Q/Data_10Q/item1_354950_2015-08-25.txt already exists\n",
      "../../Processed Data/10K10Q/Data_10Q/item1_354950_2013-11-27.txt already exists\n",
      "../../Processed Data/10K10Q/Data_10Q/item1_354950_2019-08-27.txt already exists\n",
      "../../Processed Data/10K10Q/Data_10Q/item1_354950_2019-05-29.txt already exists\n",
      "../../Processed Data/10K10Q/Data_10Q/item1_354950_2010-09-02.txt already exists\n",
      "../../Processed Data/10K10Q/Data_10Q/item1_354950_2014-08-27.txt already exists\n",
      "../../Processed Data/10K10Q/Data_10Q/item1_354950_2011-06-02.txt already exists\n",
      "../../Processed Data/10K10Q/Data_10Q/item1_354950_2014-05-28.txt already exists\n",
      "../../Processed Data/10K10Q/Data_10Q/item1_354950_2019-11-26.txt already exists\n",
      "../../Processed Data/10K10Q/Data_10Q/item1_354950_2016-08-23.txt already exists\n",
      "../../Processed Data/10K10Q/Data_10Q/item1_354950_2014-11-25.txt already exists\n",
      "../../Processed Data/10K10Q/Data_10Q/item1_354950_2018-05-22.txt already exists\n",
      "../../Processed Data/10K10Q/Data_10Q/item1_354950_2018-11-20.txt already exists\n",
      "../../Processed Data/10K10Q/Data_10Q/item1_354950_2012-05-24.txt already exists\n",
      "../../Processed Data/10K10Q/Data_10Q/item1_354950_2011-11-29.txt already exists\n",
      "../../Processed Data/10K10Q/Data_10Q/item1_354950_2016-11-22.txt already exists\n"
     ]
    },
    {
     "name": "stderr",
     "output_type": "stream",
     "text": [
      "\r",
      " 71%|███████████████████████████████████████████████████████▉                       | 644/910 [00:03<00:01, 165.10it/s]"
     ]
    },
    {
     "name": "stdout",
     "output_type": "stream",
     "text": [
      "../../Processed Data/10K10Q/Data_10Q/item1_354950_2018-08-21.txt already exists\n",
      "../../Processed Data/10K10Q/Data_10Q/item1_354950_2013-08-28.txt already exists\n",
      "../../Processed Data/10K10Q/Data_10Q/item1_354950_2012-11-21.txt already exists\n",
      "../../Processed Data/10K10Q/Data_10Q/item1_354950_2010-06-03.txt already exists\n",
      "../../Processed Data/10K10Q/Data_10Q/item1_354950_2017-05-23.txt already exists\n",
      "../../Processed Data/10K10Q/Data_10Q/item1_354950_2017-11-21.txt already exists\n",
      "../../Processed Data/10K10Q/Data_10Q/item1_80424_2013-01-25.txt already exists\n",
      "../../Processed Data/10K10Q/Data_10Q/item1_80424_2017-10-20.txt already exists\n",
      "../../Processed Data/10K10Q/Data_10Q/item1_80424_2016-10-25.txt already exists\n",
      "../../Processed Data/10K10Q/Data_10Q/item1_80424_2015-01-27.txt already exists\n",
      "../../Processed Data/10K10Q/Data_10Q/item1_80424_2017-01-20.txt already exists\n",
      "../../Processed Data/10K10Q/Data_10Q/item1_80424_2013-10-25.txt already exists\n",
      "../../Processed Data/10K10Q/Data_10Q/item1_80424_2019-10-22.txt already exists\n",
      "../../Processed Data/10K10Q/Data_10Q/item1_80424_2019-01-23.txt already exists\n",
      "../../Processed Data/10K10Q/Data_10Q/item1_80424_2016-04-26.txt already exists\n",
      "../../Processed Data/10K10Q/Data_10Q/item1_80424_2014-01-24.txt already exists\n",
      "../../Processed Data/10K10Q/Data_10Q/item1_80424_2011-01-28.txt already exists\n"
     ]
    },
    {
     "name": "stderr",
     "output_type": "stream",
     "text": [
      "\r",
      " 73%|█████████████████████████████████████████████████████████▍                     | 661/910 [00:03<00:01, 159.12it/s]"
     ]
    },
    {
     "name": "stdout",
     "output_type": "stream",
     "text": [
      "../../Processed Data/10K10Q/Data_10Q/item1_80424_2012-01-27.txt already exists\n",
      "../../Processed Data/10K10Q/Data_10Q/item1_80424_2018-04-19.txt already exists\n",
      "../../Processed Data/10K10Q/Data_10Q/item1_80424_2015-04-23.txt already exists\n",
      "../../Processed Data/10K10Q/Data_10Q/item1_80424_2014-10-24.txt already exists\n",
      "../../Processed Data/10K10Q/Data_10Q/item1_80424_2012-04-27.txt already exists\n",
      "../../Processed Data/10K10Q/Data_10Q/item1_80424_2012-10-25.txt already exists\n",
      "../../Processed Data/10K10Q/Data_10Q/item1_80424_2017-04-26.txt already exists\n",
      "../../Processed Data/10K10Q/Data_10Q/item1_80424_2018-01-23.txt already exists\n",
      "../../Processed Data/10K10Q/Data_10Q/item1_80424_2011-04-29.txt already exists\n",
      "../../Processed Data/10K10Q/Data_10Q/item1_80424_2018-10-19.txt already exists\n",
      "../../Processed Data/10K10Q/Data_10Q/item1_80424_2011-10-27.txt already exists\n",
      "../../Processed Data/10K10Q/Data_10Q/item1_80424_2015-10-23.txt already exists\n",
      "../../Processed Data/10K10Q/Data_10Q/item1_80424_2020-01-23.txt already exists\n",
      "../../Processed Data/10K10Q/Data_10Q/item1_80424_2019-04-23.txt already exists\n",
      "../../Processed Data/10K10Q/Data_10Q/item1_80424_2010-01-28.txt already exists\n",
      "../../Processed Data/10K10Q/Data_10Q/item1_80424_2016-01-26.txt already exists\n",
      "../../Processed Data/10K10Q/Data_10Q/item1_80424_2013-04-24.txt already exists\n",
      "../../Processed Data/10K10Q/Data_10Q/item1_80424_2014-04-23.txt already exists\n"
     ]
    },
    {
     "name": "stderr",
     "output_type": "stream",
     "text": [
      "\r",
      " 75%|██████████████████████████████████████████████████████████▉                    | 679/910 [00:04<00:01, 162.82it/s]"
     ]
    },
    {
     "name": "stdout",
     "output_type": "stream",
     "text": [
      "../../Processed Data/10K10Q/Data_10Q/item1_80424_2010-04-30.txt already exists\n",
      "../../Processed Data/10K10Q/Data_10Q/item1_80424_2010-10-28.txt already exists\n",
      "../../Processed Data/10K10Q/Data_10Q/item1_104169_2013-09-05.txt already exists\n",
      "../../Processed Data/10K10Q/Data_10Q/item1_104169_2018-11-30.txt already exists\n",
      "../../Processed Data/10K10Q/Data_10Q/item1_104169_2011-12-08.txt already exists\n",
      "../../Processed Data/10K10Q/Data_10Q/item1_104169_2019-06-07.txt already exists\n",
      "../../Processed Data/10K10Q/Data_10Q/item1_104169_2019-12-04.txt already exists\n",
      "../../Processed Data/10K10Q/Data_10Q/item1_104169_2014-06-06.txt already exists\n",
      "../../Processed Data/10K10Q/Data_10Q/item1_104169_2018-09-06.txt already exists\n",
      "../../Processed Data/10K10Q/Data_10Q/item1_104169_2017-06-02.txt already exists\n",
      "../../Processed Data/10K10Q/Data_10Q/item1_104169_2018-06-04.txt already exists\n",
      "../../Processed Data/10K10Q/Data_10Q/item1_104169_2012-09-06.txt already exists\n",
      "../../Processed Data/10K10Q/Data_10Q/item1_104169_2015-06-05.txt already exists\n",
      "../../Processed Data/10K10Q/Data_10Q/item1_104169_2010-12-06.txt already exists\n",
      "../../Processed Data/10K10Q/Data_10Q/item1_104169_2010-06-04.txt already exists\n",
      "../../Processed Data/10K10Q/Data_10Q/item1_104169_2013-06-07.txt already exists\n",
      "../../Processed Data/10K10Q/Data_10Q/item1_104169_2017-08-31.txt already exists\n",
      "../../Processed Data/10K10Q/Data_10Q/item1_104169_2010-09-01.txt already exists\n",
      "../../Processed Data/10K10Q/Data_10Q/item1_104169_2014-09-05.txt already exists\n"
     ]
    },
    {
     "name": "stderr",
     "output_type": "stream",
     "text": [
      "\r",
      " 77%|████████████████████████████████████████████████████████████▌                  | 698/910 [00:04<00:01, 169.50it/s]"
     ]
    },
    {
     "name": "stdout",
     "output_type": "stream",
     "text": [
      "../../Processed Data/10K10Q/Data_10Q/item1_104169_2017-12-01.txt already exists\n",
      "../../Processed Data/10K10Q/Data_10Q/item1_104169_2013-12-06.txt already exists\n",
      "../../Processed Data/10K10Q/Data_10Q/item1_104169_2012-06-01.txt already exists\n",
      "../../Processed Data/10K10Q/Data_10Q/item1_104169_2014-12-01.txt already exists\n",
      "../../Processed Data/10K10Q/Data_10Q/item1_104169_2019-09-06.txt already exists\n",
      "../../Processed Data/10K10Q/Data_10Q/item1_104169_2011-06-03.txt already exists\n",
      "../../Processed Data/10K10Q/Data_10Q/item1_104169_2015-12-02.txt already exists\n",
      "../../Processed Data/10K10Q/Data_10Q/item1_104169_2015-09-09.txt already exists\n",
      "../../Processed Data/10K10Q/Data_10Q/item1_104169_2011-09-01.txt already exists\n",
      "../../Processed Data/10K10Q/Data_10Q/item1_104169_2016-08-31.txt already exists\n",
      "../../Processed Data/10K10Q/Data_10Q/item1_104169_2016-06-03.txt already exists\n",
      "../../Processed Data/10K10Q/Data_10Q/item1_104169_2016-12-01.txt already exists\n",
      "../../Processed Data/10K10Q/Data_10Q/item1_104169_2012-12-04.txt already exists\n",
      "../../Processed Data/10K10Q/Data_10Q/item1_66740_2016-08-02.txt already exists\n",
      "../../Processed Data/10K10Q/Data_10Q/item1_66740_2019-10-25.txt already exists\n",
      "../../Processed Data/10K10Q/Data_10Q/item1_66740_2019-04-26.txt already exists\n",
      "../../Processed Data/10K10Q/Data_10Q/item1_66740_2017-10-31.txt already exists\n",
      "../../Processed Data/10K10Q/Data_10Q/item1_66740_2011-08-04.txt already exists\n"
     ]
    },
    {
     "name": "stderr",
     "output_type": "stream",
     "text": [
      "\r",
      " 79%|██████████████████████████████████████████████████████████████▏                | 716/910 [00:04<00:01, 170.32it/s]"
     ]
    },
    {
     "name": "stdout",
     "output_type": "stream",
     "text": [
      "../../Processed Data/10K10Q/Data_10Q/item1_66740_2011-11-03.txt already exists\n",
      "../../Processed Data/10K10Q/Data_10Q/item1_66740_2017-08-01.txt already exists\n",
      "../../Processed Data/10K10Q/Data_10Q/item1_66740_2017-05-03.txt already exists\n",
      "../../Processed Data/10K10Q/Data_10Q/item1_66740_2014-07-31.txt already exists\n",
      "../../Processed Data/10K10Q/Data_10Q/item1_66740_2012-05-03.txt already exists\n",
      "../../Processed Data/10K10Q/Data_10Q/item1_66740_2012-11-01.txt already exists\n",
      "../../Processed Data/10K10Q/Data_10Q/item1_66740_2019-07-26.txt already exists\n",
      "../../Processed Data/10K10Q/Data_10Q/item1_66740_2014-05-01.txt already exists\n",
      "../../Processed Data/10K10Q/Data_10Q/item1_66740_2018-05-08.txt already exists\n",
      "../../Processed Data/10K10Q/Data_10Q/item1_66740_2010-05-05.txt already exists\n",
      "../../Processed Data/10K10Q/Data_10Q/item1_66740_2012-08-02.txt already exists\n",
      "../../Processed Data/10K10Q/Data_10Q/item1_66740_2015-04-30.txt already exists\n",
      "../../Processed Data/10K10Q/Data_10Q/item1_66740_2010-08-04.txt already exists\n",
      "../../Processed Data/10K10Q/Data_10Q/item1_66740_2010-11-05.txt already exists\n",
      "../../Processed Data/10K10Q/Data_10Q/item1_66740_2013-10-31.txt already exists\n",
      "../../Processed Data/10K10Q/Data_10Q/item1_66740_2015-10-29.txt already exists\n",
      "../../Processed Data/10K10Q/Data_10Q/item1_66740_2018-10-25.txt already exists\n",
      "../../Processed Data/10K10Q/Data_10Q/item1_66740_2015-07-30.txt already exists\n",
      "../../Processed Data/10K10Q/Data_10Q/item1_66740_2018-07-26.txt already exists\n"
     ]
    },
    {
     "name": "stderr",
     "output_type": "stream",
     "text": [
      "\r",
      " 81%|███████████████████████████████████████████████████████████████▊               | 735/910 [00:04<00:01, 173.11it/s]"
     ]
    },
    {
     "name": "stdout",
     "output_type": "stream",
     "text": [
      "../../Processed Data/10K10Q/Data_10Q/item1_66740_2013-08-01.txt already exists\n",
      "../../Processed Data/10K10Q/Data_10Q/item1_66740_2011-05-05.txt already exists\n",
      "../../Processed Data/10K10Q/Data_10Q/item1_66740_2016-05-03.txt already exists\n",
      "../../Processed Data/10K10Q/Data_10Q/item1_66740_2016-11-01.txt already exists\n",
      "../../Processed Data/10K10Q/Data_10Q/item1_66740_2013-05-02.txt already exists\n",
      "../../Processed Data/10K10Q/Data_10Q/item1_66740_2014-10-30.txt already exists\n",
      "../../Processed Data/10K10Q/Data_10Q/item1_1618921_2017-01-05.txt already exists\n",
      "../../Processed Data/10K10Q/Data_10Q/item1_1618921_2018-03-28.txt already exists\n",
      "../../Processed Data/10K10Q/Data_10Q/item1_1618921_2020-01-08.txt already exists\n",
      "../../Processed Data/10K10Q/Data_10Q/item1_1618921_2014-12-30.txt already exists\n",
      "../../Processed Data/10K10Q/Data_10Q/item1_1618921_2016-04-05.txt already exists\n",
      "../../Processed Data/10K10Q/Data_10Q/item1_1618921_2018-01-04.txt already exists\n",
      "../../Processed Data/10K10Q/Data_10Q/item1_1618921_2016-01-07.txt already exists\n",
      "../../Processed Data/10K10Q/Data_10Q/item1_1618921_2019-04-02.txt already exists\n",
      "../../Processed Data/10K10Q/Data_10Q/item1_1618921_2017-06-29.txt already exists\n",
      "../../Processed Data/10K10Q/Data_10Q/item1_1618921_2018-12-20.txt already exists\n",
      "../../Processed Data/10K10Q/Data_10Q/item1_1618921_2019-06-27.txt already exists\n",
      "../../Processed Data/10K10Q/Data_10Q/item1_1618921_2015-04-09.txt already exists\n",
      "../../Processed Data/10K10Q/Data_10Q/item1_1618921_2018-06-28.txt already exists\n",
      "../../Processed Data/10K10Q/Data_10Q/item1_1618921_2015-07-09.txt already exists\n"
     ]
    },
    {
     "name": "stderr",
     "output_type": "stream",
     "text": [
      "\r",
      " 83%|█████████████████████████████████████████████████████████████████▌             | 755/910 [00:04<00:00, 178.28it/s]"
     ]
    },
    {
     "name": "stdout",
     "output_type": "stream",
     "text": [
      "../../Processed Data/10K10Q/Data_10Q/item1_1618921_2016-07-06.txt already exists\n",
      "../../Processed Data/10K10Q/Data_10Q/item1_1618921_2017-04-05.txt already exists\n",
      "../../Processed Data/10K10Q/Data_10Q/item1_93410_2017-05-04.txt already exists\n",
      "../../Processed Data/10K10Q/Data_10Q/item1_93410_2016-11-03.txt already exists\n",
      "../../Processed Data/10K10Q/Data_10Q/item1_93410_2011-08-04.txt already exists\n",
      "../../Processed Data/10K10Q/Data_10Q/item1_93410_2018-05-03.txt already exists\n",
      "../../Processed Data/10K10Q/Data_10Q/item1_93410_2012-11-06.txt already exists\n",
      "../../Processed Data/10K10Q/Data_10Q/item1_93410_2013-11-08.txt already exists\n",
      "../../Processed Data/10K10Q/Data_10Q/item1_93410_2015-11-06.txt already exists\n",
      "../../Processed Data/10K10Q/Data_10Q/item1_93410_2010-05-05.txt already exists\n",
      "../../Processed Data/10K10Q/Data_10Q/item1_93410_2012-05-03.txt already exists\n",
      "../../Processed Data/10K10Q/Data_10Q/item1_93410_2016-08-04.txt already exists\n",
      "../../Processed Data/10K10Q/Data_10Q/item1_93410_2011-11-03.txt already exists\n",
      "../../Processed Data/10K10Q/Data_10Q/item1_93410_2010-11-05.txt already exists\n",
      "../../Processed Data/10K10Q/Data_10Q/item1_93410_2018-11-08.txt already exists\n",
      "../../Processed Data/10K10Q/Data_10Q/item1_93410_2016-05-05.txt already exists\n",
      "../../Processed Data/10K10Q/Data_10Q/item1_93410_2017-11-02.txt already exists\n",
      "../../Processed Data/10K10Q/Data_10Q/item1_93410_2010-08-05.txt already exists\n",
      "../../Processed Data/10K10Q/Data_10Q/item1_93410_2015-08-05.txt already exists\n"
     ]
    },
    {
     "name": "stderr",
     "output_type": "stream",
     "text": [
      "\r",
      " 85%|███████████████████████████████████████████████████████████████████▎           | 775/910 [00:04<00:00, 181.95it/s]"
     ]
    },
    {
     "name": "stdout",
     "output_type": "stream",
     "text": [
      "../../Processed Data/10K10Q/Data_10Q/item1_93410_2019-05-02.txt already exists\n",
      "../../Processed Data/10K10Q/Data_10Q/item1_93410_2015-05-07.txt already exists\n",
      "../../Processed Data/10K10Q/Data_10Q/item1_93410_2012-08-02.txt already exists\n",
      "../../Processed Data/10K10Q/Data_10Q/item1_93410_2014-05-02.txt already exists\n",
      "../../Processed Data/10K10Q/Data_10Q/item1_93410_2013-08-07.txt already exists\n",
      "../../Processed Data/10K10Q/Data_10Q/item1_93410_2017-08-03.txt already exists\n",
      "../../Processed Data/10K10Q/Data_10Q/item1_93410_2019-11-07.txt already exists\n",
      "../../Processed Data/10K10Q/Data_10Q/item1_93410_2013-05-02.txt already exists\n",
      "../../Processed Data/10K10Q/Data_10Q/item1_93410_2018-08-02.txt already exists\n",
      "../../Processed Data/10K10Q/Data_10Q/item1_93410_2019-08-07.txt already exists\n",
      "../../Processed Data/10K10Q/Data_10Q/item1_93410_2014-11-07.txt already exists\n",
      "../../Processed Data/10K10Q/Data_10Q/item1_93410_2011-05-05.txt already exists\n",
      "../../Processed Data/10K10Q/Data_10Q/item1_93410_2014-08-06.txt already exists\n",
      "../../Processed Data/10K10Q/Data_10Q/item1_19617_2010-05-10.txt already exists\n",
      "../../Processed Data/10K10Q/Data_10Q/item1_19617_2013-08-07.txt already exists\n",
      "../../Processed Data/10K10Q/Data_10Q/item1_19617_2014-05-02.txt already exists\n",
      "../../Processed Data/10K10Q/Data_10Q/item1_19617_2016-04-29.txt already exists\n"
     ]
    },
    {
     "name": "stderr",
     "output_type": "stream",
     "text": [
      "\r",
      " 87%|████████████████████████████████████████████████████████████████████▉          | 794/910 [00:04<00:00, 174.43it/s]"
     ]
    },
    {
     "name": "stdout",
     "output_type": "stream",
     "text": [
      "../../Processed Data/10K10Q/Data_10Q/item1_19617_2019-05-02.txt already exists\n",
      "../../Processed Data/10K10Q/Data_10Q/item1_19617_2010-11-09.txt already exists\n",
      "../../Processed Data/10K10Q/Data_10Q/item1_19617_2013-05-08.txt already exists\n",
      "../../Processed Data/10K10Q/Data_10Q/item1_19617_2017-08-02.txt already exists\n",
      "../../Processed Data/10K10Q/Data_10Q/item1_19617_2013-11-01.txt already exists\n",
      "../../Processed Data/10K10Q/Data_10Q/item1_19617_2015-08-03.txt already exists\n",
      "../../Processed Data/10K10Q/Data_10Q/item1_19617_2012-05-10.txt already exists\n",
      "../../Processed Data/10K10Q/Data_10Q/item1_19617_2019-08-06.txt already exists\n",
      "../../Processed Data/10K10Q/Data_10Q/item1_19617_2012-11-08.txt already exists\n",
      "../../Processed Data/10K10Q/Data_10Q/item1_19617_2015-11-02.txt already exists\n",
      "../../Processed Data/10K10Q/Data_10Q/item1_19617_2012-08-09.txt already exists\n",
      "../../Processed Data/10K10Q/Data_10Q/item1_19617_2016-11-01.txt already exists\n",
      "../../Processed Data/10K10Q/Data_10Q/item1_19617_2014-08-04.txt already exists\n",
      "../../Processed Data/10K10Q/Data_10Q/item1_19617_2019-11-04.txt already exists\n",
      "../../Processed Data/10K10Q/Data_10Q/item1_19617_2011-08-05.txt already exists\n",
      "../../Processed Data/10K10Q/Data_10Q/item1_19617_2018-08-01.txt already exists\n",
      "../../Processed Data/10K10Q/Data_10Q/item1_19617_2011-11-04.txt already exists\n",
      "../../Processed Data/10K10Q/Data_10Q/item1_19617_2011-05-06.txt already exists\n"
     ]
    },
    {
     "name": "stderr",
     "output_type": "stream",
     "text": [
      "\r",
      " 89%|██████████████████████████████████████████████████████████████████████▍        | 812/910 [00:04<00:00, 175.51it/s]"
     ]
    },
    {
     "name": "stdout",
     "output_type": "stream",
     "text": [
      "../../Processed Data/10K10Q/Data_10Q/item1_19617_2016-08-03.txt already exists\n",
      "../../Processed Data/10K10Q/Data_10Q/item1_19617_2018-05-02.txt already exists\n",
      "../../Processed Data/10K10Q/Data_10Q/item1_19617_2015-05-05.txt already exists\n",
      "../../Processed Data/10K10Q/Data_10Q/item1_19617_2017-11-01.txt already exists\n",
      "../../Processed Data/10K10Q/Data_10Q/item1_19617_2010-08-06.txt already exists\n",
      "../../Processed Data/10K10Q/Data_10Q/item1_19617_2017-05-02.txt already exists\n",
      "../../Processed Data/10K10Q/Data_10Q/item1_19617_2014-11-03.txt already exists\n",
      "../../Processed Data/10K10Q/Data_10Q/item1_19617_2018-10-31.txt already exists\n",
      "../../Processed Data/10K10Q/Data_10Q/item1_101829_2015-10-23.txt already exists\n",
      "../../Processed Data/10K10Q/Data_10Q/item1_101829_2010-07-26.txt already exists\n",
      "../../Processed Data/10K10Q/Data_10Q/item1_101829_2011-04-25.txt already exists\n",
      "../../Processed Data/10K10Q/Data_10Q/item1_101829_2018-07-27.txt already exists\n",
      "../../Processed Data/10K10Q/Data_10Q/item1_101829_2012-04-30.txt already exists\n",
      "../../Processed Data/10K10Q/Data_10Q/item1_101829_2016-07-29.txt already exists\n",
      "../../Processed Data/10K10Q/Data_10Q/item1_101829_2014-04-25.txt already exists\n",
      "../../Processed Data/10K10Q/Data_10Q/item1_101829_2012-07-30.txt already exists\n",
      "../../Processed Data/10K10Q/Data_10Q/item1_101829_2018-04-27.txt already exists\n",
      "../../Processed Data/10K10Q/Data_10Q/item1_101829_2011-07-25.txt already exists\n"
     ]
    },
    {
     "name": "stderr",
     "output_type": "stream",
     "text": [
      "\r",
      " 91%|████████████████████████████████████████████████████████████████████████       | 830/910 [00:04<00:00, 164.42it/s]"
     ]
    },
    {
     "name": "stdout",
     "output_type": "stream",
     "text": [
      "../../Processed Data/10K10Q/Data_10Q/item1_101829_2010-04-26.txt already exists\n",
      "../../Processed Data/10K10Q/Data_10Q/item1_101829_2010-10-25.txt already exists\n",
      "../../Processed Data/10K10Q/Data_10Q/item1_101829_2016-04-29.txt already exists\n",
      "../../Processed Data/10K10Q/Data_10Q/item1_101829_2014-07-25.txt already exists\n",
      "../../Processed Data/10K10Q/Data_10Q/item1_101829_2016-10-27.txt already exists\n",
      "../../Processed Data/10K10Q/Data_10Q/item1_101829_2019-07-26.txt already exists\n",
      "../../Processed Data/10K10Q/Data_10Q/item1_101829_2013-10-25.txt already exists\n",
      "../../Processed Data/10K10Q/Data_10Q/item1_101829_2015-04-24.txt already exists\n",
      "../../Processed Data/10K10Q/Data_10Q/item1_101829_2017-07-28.txt already exists\n",
      "../../Processed Data/10K10Q/Data_10Q/item1_101829_2018-10-26.txt already exists\n",
      "../../Processed Data/10K10Q/Data_10Q/item1_101829_2013-04-26.txt already exists\n",
      "../../Processed Data/10K10Q/Data_10Q/item1_101829_2014-10-24.txt already exists\n",
      "../../Processed Data/10K10Q/Data_10Q/item1_101829_2017-10-27.txt already exists\n",
      "../../Processed Data/10K10Q/Data_10Q/item1_101829_2012-10-26.txt already exists\n",
      "../../Processed Data/10K10Q/Data_10Q/item1_101829_2019-04-26.txt already exists\n",
      "../../Processed Data/10K10Q/Data_10Q/item1_101829_2013-07-26.txt already exists\n",
      "../../Processed Data/10K10Q/Data_10Q/item1_101829_2019-10-25.txt already exists\n"
     ]
    },
    {
     "name": "stderr",
     "output_type": "stream",
     "text": [
      "\r",
      " 93%|█████████████████████████████████████████████████████████████████████████▌     | 847/910 [00:05<00:00, 156.69it/s]"
     ]
    },
    {
     "name": "stdout",
     "output_type": "stream",
     "text": [
      "../../Processed Data/10K10Q/Data_10Q/item1_101829_2015-07-24.txt already exists\n",
      "../../Processed Data/10K10Q/Data_10Q/item1_101829_2017-04-28.txt already exists\n",
      "../../Processed Data/10K10Q/Data_10Q/item1_101829_2011-10-24.txt already exists\n",
      "../../Processed Data/10K10Q/Data_10Q/item1_4962_2016-07-26.txt already exists\n",
      "../../Processed Data/10K10Q/Data_10Q/item1_4962_2014-10-28.txt already exists\n",
      "../../Processed Data/10K10Q/Data_10Q/item1_4962_2015-07-29.txt already exists\n",
      "../../Processed Data/10K10Q/Data_10Q/item1_4962_2018-07-24.txt already exists\n",
      "../../Processed Data/10K10Q/Data_10Q/item1_4962_2012-10-31.txt already exists\n",
      "../../Processed Data/10K10Q/Data_10Q/item1_4962_2013-10-29.txt already exists\n",
      "../../Processed Data/10K10Q/Data_10Q/item1_4962_2014-07-30.txt already exists\n",
      "../../Processed Data/10K10Q/Data_10Q/item1_4962_2011-11-02.txt already exists\n",
      "../../Processed Data/10K10Q/Data_10Q/item1_4962_2010-05-05.txt already exists\n",
      "../../Processed Data/10K10Q/Data_10Q/item1_4962_2017-07-25.txt already exists\n",
      "../../Processed Data/10K10Q/Data_10Q/item1_4962_2015-04-29.txt already exists\n",
      "../../Processed Data/10K10Q/Data_10Q/item1_4962_2018-04-25.txt already exists\n",
      "../../Processed Data/10K10Q/Data_10Q/item1_4962_2016-04-27.txt already exists\n",
      "../../Processed Data/10K10Q/Data_10Q/item1_4962_2016-10-25.txt already exists\n",
      "../../Processed Data/10K10Q/Data_10Q/item1_4962_2011-08-03.txt already exists\n"
     ]
    },
    {
     "name": "stderr",
     "output_type": "stream",
     "text": [
      "\r",
      " 95%|███████████████████████████████████████████████████████████████████████████    | 865/910 [00:05<00:00, 162.21it/s]"
     ]
    },
    {
     "name": "stdout",
     "output_type": "stream",
     "text": [
      "../../Processed Data/10K10Q/Data_10Q/item1_4962_2013-04-29.txt already exists\n",
      "../../Processed Data/10K10Q/Data_10Q/item1_4962_2012-05-01.txt already exists\n",
      "../../Processed Data/10K10Q/Data_10Q/item1_4962_2010-08-05.txt already exists\n",
      "../../Processed Data/10K10Q/Data_10Q/item1_4962_2019-04-23.txt already exists\n",
      "../../Processed Data/10K10Q/Data_10Q/item1_4962_2012-08-02.txt already exists\n",
      "../../Processed Data/10K10Q/Data_10Q/item1_4962_2019-10-21.txt already exists\n",
      "../../Processed Data/10K10Q/Data_10Q/item1_4962_2015-10-28.txt already exists\n",
      "../../Processed Data/10K10Q/Data_10Q/item1_4962_2018-10-23.txt already exists\n",
      "../../Processed Data/10K10Q/Data_10Q/item1_4962_2010-11-03.txt already exists\n",
      "../../Processed Data/10K10Q/Data_10Q/item1_4962_2011-05-04.txt already exists\n",
      "../../Processed Data/10K10Q/Data_10Q/item1_4962_2017-04-27.txt already exists\n",
      "../../Processed Data/10K10Q/Data_10Q/item1_4962_2013-07-29.txt already exists\n",
      "../../Processed Data/10K10Q/Data_10Q/item1_4962_2017-10-24.txt already exists\n",
      "../../Processed Data/10K10Q/Data_10Q/item1_4962_2014-04-29.txt already exists\n",
      "../../Processed Data/10K10Q/Data_10Q/item1_4962_2019-07-23.txt already exists\n",
      "../../Processed Data/10K10Q/Data_10Q/item1_34088_2012-05-03.txt already exists\n",
      "../../Processed Data/10K10Q/Data_10Q/item1_34088_2013-11-05.txt already exists\n",
      "../../Processed Data/10K10Q/Data_10Q/item1_34088_2018-11-07.txt already exists\n",
      "../../Processed Data/10K10Q/Data_10Q/item1_34088_2017-05-03.txt already exists\n"
     ]
    },
    {
     "name": "stderr",
     "output_type": "stream",
     "text": [
      "\r",
      " 97%|████████████████████████████████████████████████████████████████████████████▋  | 884/910 [00:05<00:00, 167.06it/s]"
     ]
    },
    {
     "name": "stdout",
     "output_type": "stream",
     "text": [
      "../../Processed Data/10K10Q/Data_10Q/item1_34088_2017-11-01.txt already exists\n",
      "../../Processed Data/10K10Q/Data_10Q/item1_34088_2011-11-03.txt already exists\n",
      "../../Processed Data/10K10Q/Data_10Q/item1_34088_2011-08-04.txt already exists\n",
      "../../Processed Data/10K10Q/Data_10Q/item1_34088_2016-11-03.txt already exists\n",
      "../../Processed Data/10K10Q/Data_10Q/item1_34088_2016-08-03.txt already exists\n",
      "../../Processed Data/10K10Q/Data_10Q/item1_34088_2014-05-07.txt already exists\n",
      "../../Processed Data/10K10Q/Data_10Q/item1_34088_2014-11-05.txt already exists\n",
      "../../Processed Data/10K10Q/Data_10Q/item1_34088_2018-05-03.txt already exists\n",
      "../../Processed Data/10K10Q/Data_10Q/item1_34088_2012-11-06.txt already exists\n",
      "../../Processed Data/10K10Q/Data_10Q/item1_34088_2013-05-02.txt already exists\n",
      "../../Processed Data/10K10Q/Data_10Q/item1_34088_2019-08-07.txt already exists\n",
      "../../Processed Data/10K10Q/Data_10Q/item1_34088_2018-08-02.txt already exists\n",
      "../../Processed Data/10K10Q/Data_10Q/item1_34088_2010-11-03.txt already exists\n",
      "../../Processed Data/10K10Q/Data_10Q/item1_34088_2011-05-05.txt already exists\n",
      "../../Processed Data/10K10Q/Data_10Q/item1_34088_2019-11-06.txt already exists\n",
      "../../Processed Data/10K10Q/Data_10Q/item1_34088_2014-08-06.txt already exists\n",
      "../../Processed Data/10K10Q/Data_10Q/item1_34088_2015-05-06.txt already exists\n"
     ]
    },
    {
     "name": "stderr",
     "output_type": "stream",
     "text": [
      "\r",
      " 99%|██████████████████████████████████████████████████████████████████████████████▏| 901/910 [00:05<00:00, 163.62it/s]"
     ]
    },
    {
     "name": "stdout",
     "output_type": "stream",
     "text": [
      "../../Processed Data/10K10Q/Data_10Q/item1_34088_2015-11-04.txt already exists\n",
      "../../Processed Data/10K10Q/Data_10Q/item1_34088_2013-08-06.txt already exists\n",
      "../../Processed Data/10K10Q/Data_10Q/item1_34088_2017-08-02.txt already exists\n",
      "../../Processed Data/10K10Q/Data_10Q/item1_34088_2016-05-04.txt already exists\n",
      "../../Processed Data/10K10Q/Data_10Q/item1_34088_2010-08-04.txt already exists\n",
      "../../Processed Data/10K10Q/Data_10Q/item1_34088_2019-05-02.txt already exists\n",
      "../../Processed Data/10K10Q/Data_10Q/item1_34088_2015-08-05.txt already exists\n",
      "../../Processed Data/10K10Q/Data_10Q/item1_34088_2010-05-06.txt already exists\n",
      "../../Processed Data/10K10Q/Data_10Q/item1_34088_2012-08-02.txt already exists\n"
     ]
    },
    {
     "name": "stderr",
     "output_type": "stream",
     "text": [
      "100%|███████████████████████████████████████████████████████████████████████████████| 910/910 [00:05<00:00, 166.87it/s]\n"
     ]
    }
   ],
   "source": [
    "zipped_file = \"../../Raw Data/Data_10Q.zip\"\n",
    "item_name = \"item1\"\n",
    "item_regex = \"item[\\s]*2[\\s]*[-.:\\s]*manage.*?item[\\s]*3[\\s]*[-.:\\s]*(?:quan|qual)\"\n",
    "save_path = \"../../Processed Data/10K10Q/Data_10Q/\"\n",
    "extract_item(zipped_file, item_name, item_regex, save_path)"
   ]
  },
  {
   "cell_type": "code",
   "execution_count": 5,
   "metadata": {
    "scrolled": true
   },
   "outputs": [
    {
     "name": "stderr",
     "output_type": "stream",
     "text": [
      "\r",
      "  0%|                                                                                          | 0/910 [00:00<?, ?it/s]"
     ]
    },
    {
     "name": "stdout",
     "output_type": "stream",
     "text": [
      "../../Processed Data/10K10Q/Data_10Q/item3_18230_2010-07-30.txt already exists\n",
      "../../Processed Data/10K10Q/Data_10Q/item3_18230_2013-05-02.txt already exists\n",
      "../../Processed Data/10K10Q/Data_10Q/item3_18230_2015-07-31.txt already exists\n",
      "../../Processed Data/10K10Q/Data_10Q/item3_18230_2012-05-07.txt already exists\n",
      "../../Processed Data/10K10Q/Data_10Q/item3_18230_2015-05-01.txt already exists\n",
      "../../Processed Data/10K10Q/Data_10Q/item3_18230_2019-10-31.txt already exists\n",
      "../../Processed Data/10K10Q/Data_10Q/item3_18230_2013-11-01.txt already exists\n",
      "../../Processed Data/10K10Q/Data_10Q/item3_18230_2014-10-31.txt already exists\n",
      "../../Processed Data/10K10Q/Data_10Q/item3_18230_2011-05-09.txt already exists\n",
      "../../Processed Data/10K10Q/Data_10Q/item3_18230_2016-05-02.txt already exists\n",
      "../../Processed Data/10K10Q/Data_10Q/item3_18230_2017-08-02.txt already exists\n",
      "../../Processed Data/10K10Q/Data_10Q/item3_18230_2019-08-01.txt already exists\n",
      "../../Processed Data/10K10Q/Data_10Q/item3_18230_2014-08-01.txt already exists\n",
      "../../Processed Data/10K10Q/Data_10Q/item3_18230_2012-11-02.txt already exists\n",
      "../../Processed Data/10K10Q/Data_10Q/item3_18230_2014-05-02.txt already exists\n",
      "../../Processed Data/10K10Q/Data_10Q/item3_18230_2010-11-04.txt already exists\n",
      "../../Processed Data/10K10Q/Data_10Q/item3_18230_2018-10-31.txt already exists\n",
      "../../Processed Data/10K10Q/Data_10Q/item3_18230_2017-11-01.txt already exists\n"
     ]
    },
    {
     "name": "stderr",
     "output_type": "stream",
     "text": [
      "\r",
      "  7%|█████▎                                                                          | 60/910 [00:00<00:01, 586.28it/s]"
     ]
    },
    {
     "name": "stdout",
     "output_type": "stream",
     "text": [
      "../../Processed Data/10K10Q/Data_10Q/item3_18230_2017-05-03.txt already exists\n",
      "../../Processed Data/10K10Q/Data_10Q/item3_18230_2015-10-30.txt already exists\n",
      "../../Processed Data/10K10Q/Data_10Q/item3_18230_2018-08-07.txt already exists\n",
      "../../Processed Data/10K10Q/Data_10Q/item3_18230_2018-05-02.txt already exists\n",
      "../../Processed Data/10K10Q/Data_10Q/item3_18230_2011-08-04.txt already exists\n",
      "../../Processed Data/10K10Q/Data_10Q/item3_18230_2013-08-02.txt already exists\n",
      "../../Processed Data/10K10Q/Data_10Q/item3_18230_2010-05-03.txt already exists\n",
      "../../Processed Data/10K10Q/Data_10Q/item3_18230_2011-11-04.txt already exists\n",
      "../../Processed Data/10K10Q/Data_10Q/item3_18230_2016-08-03.txt already exists\n",
      "../../Processed Data/10K10Q/Data_10Q/item3_18230_2012-08-06.txt already exists\n",
      "../../Processed Data/10K10Q/Data_10Q/item3_18230_2016-11-02.txt already exists\n",
      "../../Processed Data/10K10Q/Data_10Q/item3_18230_2019-05-06.txt already exists\n",
      "../../Processed Data/10K10Q/Data_10Q/item3_886982_2014-11-05.txt already exists\n",
      "../../Processed Data/10K10Q/Data_10Q/item3_886982_2019-08-05.txt already exists\n",
      "../../Processed Data/10K10Q/Data_10Q/item3_886982_2011-05-10.txt already exists\n",
      "../../Processed Data/10K10Q/Data_10Q/item3_886982_2016-11-03.txt already exists\n",
      "../../Processed Data/10K10Q/Data_10Q/item3_886982_2017-05-04.txt already exists\n",
      "../../Processed Data/10K10Q/Data_10Q/item3_886982_2011-11-09.txt already exists\n",
      "../../Processed Data/10K10Q/Data_10Q/item3_886982_2019-05-06.txt already exists\n",
      "../../Processed Data/10K10Q/Data_10Q/item3_886982_2011-08-09.txt already exists\n",
      "../../Processed Data/10K10Q/Data_10Q/item3_886982_2013-08-08.txt already exists\n",
      "../../Processed Data/10K10Q/Data_10Q/item3_886982_2018-05-04.txt already exists\n",
      "../../Processed Data/10K10Q/Data_10Q/item3_886982_2016-08-04.txt already exists\n"
     ]
    },
    {
     "name": "stderr",
     "output_type": "stream",
     "text": [
      "\r",
      "  9%|███████▌                                                                        | 86/910 [00:00<00:01, 418.05it/s]"
     ]
    },
    {
     "name": "stdout",
     "output_type": "stream",
     "text": [
      "../../Processed Data/10K10Q/Data_10Q/item3_886982_2015-05-05.txt already exists\n",
      "../../Processed Data/10K10Q/Data_10Q/item3_886982_2016-05-06.txt already exists\n",
      "../../Processed Data/10K10Q/Data_10Q/item3_886982_2010-11-09.txt already exists\n",
      "../../Processed Data/10K10Q/Data_10Q/item3_886982_2019-11-01.txt already exists\n",
      "../../Processed Data/10K10Q/Data_10Q/item3_886982_2010-08-09.txt already exists\n",
      "../../Processed Data/10K10Q/Data_10Q/item3_886982_2013-05-09.txt already exists\n",
      "../../Processed Data/10K10Q/Data_10Q/item3_886982_2010-05-10.txt already exists\n",
      "../../Processed Data/10K10Q/Data_10Q/item3_886982_2013-11-07.txt already exists\n",
      "../../Processed Data/10K10Q/Data_10Q/item3_886982_2017-11-03.txt already exists\n",
      "../../Processed Data/10K10Q/Data_10Q/item3_886982_2017-08-04.txt already exists\n",
      "../../Processed Data/10K10Q/Data_10Q/item3_886982_2018-11-02.txt already exists\n",
      "../../Processed Data/10K10Q/Data_10Q/item3_886982_2012-08-09.txt already exists\n",
      "../../Processed Data/10K10Q/Data_10Q/item3_886982_2014-08-07.txt already exists\n",
      "../../Processed Data/10K10Q/Data_10Q/item3_886982_2014-05-09.txt already exists\n",
      "../../Processed Data/10K10Q/Data_10Q/item3_886982_2012-05-10.txt already exists\n",
      "../../Processed Data/10K10Q/Data_10Q/item3_886982_2015-08-03.txt already exists\n",
      "../../Processed Data/10K10Q/Data_10Q/item3_886982_2015-11-03.txt already exists\n",
      "../../Processed Data/10K10Q/Data_10Q/item3_886982_2012-11-08.txt already exists\n",
      "../../Processed Data/10K10Q/Data_10Q/item3_886982_2018-08-03.txt already exists\n",
      "../../Processed Data/10K10Q/Data_10Q/item3_320193_2018-02-02.txt already exists\n"
     ]
    },
    {
     "name": "stderr",
     "output_type": "stream",
     "text": [
      "\r",
      " 12%|█████████▏                                                                     | 106/910 [00:00<00:02, 306.35it/s]"
     ]
    },
    {
     "name": "stdout",
     "output_type": "stream",
     "text": [
      "../../Processed Data/10K10Q/Data_10Q/item3_320193_2010-01-25.txt already exists\n",
      "../../Processed Data/10K10Q/Data_10Q/item3_320193_2017-08-02.txt already exists\n",
      "../../Processed Data/10K10Q/Data_10Q/item3_320193_2015-01-28.txt already exists\n",
      "../../Processed Data/10K10Q/Data_10Q/item3_320193_2016-01-27.txt already exists\n",
      "../../Processed Data/10K10Q/Data_10Q/item3_320193_2013-04-24.txt already exists\n",
      "../../Processed Data/10K10Q/Data_10Q/item3_320193_2010-07-21.txt already exists\n",
      "../../Processed Data/10K10Q/Data_10Q/item3_320193_2012-01-25.txt already exists\n",
      "../../Processed Data/10K10Q/Data_10Q/item3_320193_2014-04-24.txt already exists\n",
      "../../Processed Data/10K10Q/Data_10Q/item3_320193_2014-07-23.txt already exists\n",
      "../../Processed Data/10K10Q/Data_10Q/item3_320193_2020-01-29.txt already exists\n",
      "../../Processed Data/10K10Q/Data_10Q/item3_320193_2010-04-21.txt already exists\n",
      "../../Processed Data/10K10Q/Data_10Q/item3_320193_2013-07-24.txt already exists\n",
      "../../Processed Data/10K10Q/Data_10Q/item3_320193_2019-01-30.txt already exists\n",
      "../../Processed Data/10K10Q/Data_10Q/item3_320193_2018-05-02.txt already exists\n",
      "../../Processed Data/10K10Q/Data_10Q/item3_320193_2011-07-20.txt already exists\n",
      "../../Processed Data/10K10Q/Data_10Q/item3_320193_2017-02-01.txt already exists\n",
      "../../Processed Data/10K10Q/Data_10Q/item3_320193_2014-01-28.txt already exists\n",
      "../../Processed Data/10K10Q/Data_10Q/item3_320193_2016-07-27.txt already exists\n",
      "../../Processed Data/10K10Q/Data_10Q/item3_320193_2018-08-01.txt already exists\n",
      "../../Processed Data/10K10Q/Data_10Q/item3_320193_2012-04-25.txt already exists\n"
     ]
    },
    {
     "name": "stderr",
     "output_type": "stream",
     "text": [
      "\r",
      " 14%|██████████▉                                                                    | 126/910 [00:00<00:03, 255.21it/s]"
     ]
    },
    {
     "name": "stdout",
     "output_type": "stream",
     "text": [
      "../../Processed Data/10K10Q/Data_10Q/item3_320193_2019-05-01.txt already exists\n",
      "../../Processed Data/10K10Q/Data_10Q/item3_320193_2011-04-21.txt already exists\n",
      "../../Processed Data/10K10Q/Data_10Q/item3_320193_2013-01-24.txt already exists\n",
      "../../Processed Data/10K10Q/Data_10Q/item3_320193_2016-04-27.txt already exists\n",
      "../../Processed Data/10K10Q/Data_10Q/item3_320193_2012-07-25.txt already exists\n",
      "../../Processed Data/10K10Q/Data_10Q/item3_320193_2015-04-28.txt already exists\n",
      "../../Processed Data/10K10Q/Data_10Q/item3_320193_2019-07-31.txt already exists\n",
      "../../Processed Data/10K10Q/Data_10Q/item3_320193_2011-01-19.txt already exists\n",
      "../../Processed Data/10K10Q/Data_10Q/item3_320193_2017-05-03.txt already exists\n",
      "../../Processed Data/10K10Q/Data_10Q/item3_320193_2015-07-22.txt already exists\n",
      "Scraping  Data_10Q/310158/310158_2011-05-09.html\n",
      "Failed\n",
      "\n",
      "\n",
      "\n",
      "Scraping  Data_10Q/310158/310158_2014-05-08.html\n",
      "Failed\n",
      "\n",
      "\n",
      "\n",
      "Scraping  Data_10Q/310158/310158_2019-08-06.html\n",
      "Failed\n",
      "\n",
      "\n",
      "\n",
      "Scraping  Data_10Q/310158/310158_2019-05-08.html\n",
      "Failed\n",
      "\n",
      "\n",
      "\n",
      "Scraping  Data_10Q/310158/310158_2014-11-10.html\n",
      "Failed\n",
      "\n",
      "\n",
      "\n",
      "Scraping  Data_10Q/310158/310158_2012-11-09.html\n",
      "Failed\n",
      "\n",
      "\n",
      "\n",
      "Scraping  Data_10Q/310158/310158_2014-08-07.html\n",
      "Failed\n",
      "\n",
      "\n",
      "\n",
      "Scraping  Data_10Q/310158/310158_2017-08-08.html\n",
      "Failed\n",
      "\n",
      "\n",
      "\n",
      "Scraping  Data_10Q/310158/310158_2015-05-07.html\n",
      "Failed\n",
      "\n",
      "\n",
      "\n",
      "Scraping  Data_10Q/310158/310158_2013-08-07.html\n"
     ]
    },
    {
     "name": "stderr",
     "output_type": "stream",
     "text": [
      "\r",
      " 14%|██████████▉                                                                    | 126/910 [00:20<00:03, 255.21it/s]"
     ]
    },
    {
     "name": "stdout",
     "output_type": "stream",
     "text": [
      "Failed\n",
      "\n",
      "\n",
      "\n"
     ]
    },
    {
     "name": "stderr",
     "output_type": "stream",
     "text": [
      "\r",
      " 16%|████████████▊                                                                   | 146/910 [00:20<03:52,  3.29it/s]"
     ]
    },
    {
     "name": "stdout",
     "output_type": "stream",
     "text": [
      "Scraping  Data_10Q/310158/310158_2013-05-09.html\n",
      "Failed\n",
      "\n",
      "\n",
      "\n"
     ]
    },
    {
     "name": "stderr",
     "output_type": "stream",
     "text": [
      "\r",
      " 16%|████████████▉                                                                   | 147/910 [00:22<08:40,  1.47it/s]"
     ]
    },
    {
     "name": "stdout",
     "output_type": "stream",
     "text": [
      "Scraping  Data_10Q/310158/310158_2015-11-05.html\n",
      "Failed\n",
      "\n",
      "\n",
      "\n"
     ]
    },
    {
     "name": "stderr",
     "output_type": "stream",
     "text": [
      "\r",
      " 16%|█████████████                                                                   | 148/910 [00:24<14:02,  1.11s/it]"
     ]
    },
    {
     "name": "stdout",
     "output_type": "stream",
     "text": [
      "Scraping  Data_10Q/310158/310158_2010-11-08.html\n",
      "Failed\n",
      "\n",
      "\n",
      "\n"
     ]
    },
    {
     "name": "stderr",
     "output_type": "stream",
     "text": [
      "\r",
      " 16%|█████████████                                                                   | 149/910 [00:26<17:22,  1.37s/it]"
     ]
    },
    {
     "name": "stdout",
     "output_type": "stream",
     "text": [
      "Scraping  Data_10Q/310158/310158_2013-11-07.html\n",
      "Failed\n",
      "\n",
      "\n",
      "\n"
     ]
    },
    {
     "name": "stderr",
     "output_type": "stream",
     "text": [
      "\r",
      " 16%|█████████████▏                                                                  | 150/910 [00:28<20:02,  1.58s/it]"
     ]
    },
    {
     "name": "stdout",
     "output_type": "stream",
     "text": [
      "Scraping  Data_10Q/310158/310158_2016-11-07.html\n",
      "Failed\n",
      "\n",
      "\n",
      "\n"
     ]
    },
    {
     "name": "stderr",
     "output_type": "stream",
     "text": [
      "\r",
      " 17%|█████████████▎                                                                  | 151/910 [00:30<23:48,  1.88s/it]"
     ]
    },
    {
     "name": "stdout",
     "output_type": "stream",
     "text": [
      "Scraping  Data_10Q/310158/310158_2016-05-09.html\n",
      "Failed\n",
      "\n",
      "\n",
      "\n"
     ]
    },
    {
     "name": "stderr",
     "output_type": "stream",
     "text": [
      "\r",
      " 17%|█████████████▎                                                                  | 152/910 [00:33<25:22,  2.01s/it]"
     ]
    },
    {
     "name": "stdout",
     "output_type": "stream",
     "text": [
      "Scraping  Data_10Q/310158/310158_2010-05-07.html\n",
      "Failed\n",
      "\n",
      "\n",
      "\n"
     ]
    },
    {
     "name": "stderr",
     "output_type": "stream",
     "text": [
      "\r",
      " 17%|█████████████▍                                                                  | 153/910 [00:34<24:50,  1.97s/it]"
     ]
    },
    {
     "name": "stdout",
     "output_type": "stream",
     "text": [
      "Scraping  Data_10Q/310158/310158_2018-08-07.html\n",
      "Failed\n",
      "\n",
      "\n",
      "\n"
     ]
    },
    {
     "name": "stderr",
     "output_type": "stream",
     "text": [
      "\r",
      " 17%|█████████████▌                                                                  | 154/910 [00:37<28:26,  2.26s/it]"
     ]
    },
    {
     "name": "stdout",
     "output_type": "stream",
     "text": [
      "Scraping  Data_10Q/310158/310158_2016-08-08.html\n",
      "Failed\n",
      "\n",
      "\n",
      "\n"
     ]
    },
    {
     "name": "stderr",
     "output_type": "stream",
     "text": [
      "\r",
      " 17%|█████████████▋                                                                  | 155/910 [00:39<27:02,  2.15s/it]"
     ]
    },
    {
     "name": "stdout",
     "output_type": "stream",
     "text": [
      "Scraping  Data_10Q/310158/310158_2010-08-06.html\n",
      "Failed\n",
      "\n",
      "\n",
      "\n"
     ]
    },
    {
     "name": "stderr",
     "output_type": "stream",
     "text": [
      "\r",
      " 17%|█████████████▋                                                                  | 156/910 [00:42<28:21,  2.26s/it]"
     ]
    },
    {
     "name": "stdout",
     "output_type": "stream",
     "text": [
      "Scraping  Data_10Q/310158/310158_2018-11-06.html\n",
      "Failed\n",
      "\n",
      "\n",
      "\n"
     ]
    },
    {
     "name": "stderr",
     "output_type": "stream",
     "text": [
      "\r",
      " 17%|█████████████▊                                                                  | 157/910 [00:45<30:50,  2.46s/it]"
     ]
    },
    {
     "name": "stdout",
     "output_type": "stream",
     "text": [
      "Scraping  Data_10Q/310158/310158_2015-08-06.html\n",
      "Failed\n",
      "\n",
      "\n",
      "\n"
     ]
    },
    {
     "name": "stderr",
     "output_type": "stream",
     "text": [
      "\r",
      " 17%|█████████████▉                                                                  | 158/910 [00:47<30:09,  2.41s/it]"
     ]
    },
    {
     "name": "stdout",
     "output_type": "stream",
     "text": [
      "Scraping  Data_10Q/310158/310158_2018-05-08.html\n",
      "Failed\n",
      "\n",
      "\n",
      "\n"
     ]
    },
    {
     "name": "stderr",
     "output_type": "stream",
     "text": [
      "\r",
      " 17%|█████████████▉                                                                  | 159/910 [00:49<28:44,  2.30s/it]"
     ]
    },
    {
     "name": "stdout",
     "output_type": "stream",
     "text": [
      "Scraping  Data_10Q/310158/310158_2017-11-07.html\n",
      "Failed\n",
      "\n",
      "\n",
      "\n"
     ]
    },
    {
     "name": "stderr",
     "output_type": "stream",
     "text": [
      "\r",
      " 18%|██████████████                                                                  | 160/910 [00:51<29:05,  2.33s/it]"
     ]
    },
    {
     "name": "stdout",
     "output_type": "stream",
     "text": [
      "Scraping  Data_10Q/310158/310158_2012-05-08.html\n",
      "Failed\n",
      "\n",
      "\n",
      "\n"
     ]
    },
    {
     "name": "stderr",
     "output_type": "stream",
     "text": [
      "\r",
      " 18%|██████████████▏                                                                 | 161/910 [00:53<27:22,  2.19s/it]"
     ]
    },
    {
     "name": "stdout",
     "output_type": "stream",
     "text": [
      "Scraping  Data_10Q/310158/310158_2017-05-09.html\n",
      "Failed\n",
      "\n",
      "\n",
      "\n"
     ]
    },
    {
     "name": "stderr",
     "output_type": "stream",
     "text": [
      "\r",
      " 18%|██████████████▏                                                                 | 162/910 [00:55<23:56,  1.92s/it]"
     ]
    },
    {
     "name": "stdout",
     "output_type": "stream",
     "text": [
      "Scraping  Data_10Q/310158/310158_2011-08-08.html\n",
      "Failed\n",
      "\n",
      "\n",
      "\n"
     ]
    },
    {
     "name": "stderr",
     "output_type": "stream",
     "text": [
      "\r",
      " 18%|██████████████▎                                                                 | 163/910 [00:57<26:19,  2.11s/it]"
     ]
    },
    {
     "name": "stdout",
     "output_type": "stream",
     "text": [
      "Scraping  Data_10Q/310158/310158_2012-08-07.html\n",
      "Failed\n",
      "\n",
      "\n",
      "\n"
     ]
    },
    {
     "name": "stderr",
     "output_type": "stream",
     "text": [
      "\r",
      " 18%|██████████████▍                                                                 | 164/910 [01:00<27:57,  2.25s/it]"
     ]
    },
    {
     "name": "stdout",
     "output_type": "stream",
     "text": [
      "Scraping  Data_10Q/310158/310158_2011-11-08.html\n",
      "Failed\n",
      "\n",
      "\n",
      "\n"
     ]
    },
    {
     "name": "stderr",
     "output_type": "stream",
     "text": [
      "\r",
      " 18%|██████████████▌                                                                 | 165/910 [01:02<26:43,  2.15s/it]"
     ]
    },
    {
     "name": "stdout",
     "output_type": "stream",
     "text": [
      "Scraping  Data_10Q/310158/310158_2019-11-05.html\n",
      "Failed\n",
      "\n",
      "\n",
      "\n"
     ]
    },
    {
     "name": "stderr",
     "output_type": "stream",
     "text": [
      "\r",
      " 18%|██████████████▌                                                                 | 166/910 [01:05<31:19,  2.53s/it]"
     ]
    },
    {
     "name": "stdout",
     "output_type": "stream",
     "text": [
      "../../Processed Data/10K10Q/Data_10Q/item3_731766_2015-05-06.txt already exists\n",
      "../../Processed Data/10K10Q/Data_10Q/item3_731766_2018-11-08.txt already exists\n",
      "../../Processed Data/10K10Q/Data_10Q/item3_731766_2010-08-05.txt already exists\n",
      "../../Processed Data/10K10Q/Data_10Q/item3_731766_2018-05-07.txt already exists\n",
      "../../Processed Data/10K10Q/Data_10Q/item3_731766_2013-11-07.txt already exists\n",
      "../../Processed Data/10K10Q/Data_10Q/item3_731766_2016-05-04.txt already exists\n",
      "../../Processed Data/10K10Q/Data_10Q/item3_731766_2015-11-05.txt already exists\n",
      "../../Processed Data/10K10Q/Data_10Q/item3_731766_2011-05-03.txt already exists\n",
      "../../Processed Data/10K10Q/Data_10Q/item3_731766_2017-08-04.txt already exists\n",
      "../../Processed Data/10K10Q/Data_10Q/item3_731766_2010-11-03.txt already exists\n"
     ]
    },
    {
     "name": "stderr",
     "output_type": "stream",
     "text": [
      "\r",
      " 19%|███████████████▍                                                                | 176/910 [01:05<21:40,  1.77s/it]"
     ]
    },
    {
     "name": "stdout",
     "output_type": "stream",
     "text": [
      "../../Processed Data/10K10Q/Data_10Q/item3_731766_2019-08-07.txt already exists\n",
      "../../Processed Data/10K10Q/Data_10Q/item3_731766_2014-11-10.txt already exists\n",
      "../../Processed Data/10K10Q/Data_10Q/item3_731766_2019-11-06.txt already exists\n",
      "../../Processed Data/10K10Q/Data_10Q/item3_731766_2019-05-07.txt already exists\n",
      "../../Processed Data/10K10Q/Data_10Q/item3_731766_2015-07-29.txt already exists\n",
      "../../Processed Data/10K10Q/Data_10Q/item3_731766_2012-08-07.txt already exists\n",
      "../../Processed Data/10K10Q/Data_10Q/item3_731766_2012-10-30.txt already exists\n",
      "../../Processed Data/10K10Q/Data_10Q/item3_731766_2011-11-04.txt already exists\n",
      "../../Processed Data/10K10Q/Data_10Q/item3_731766_2017-05-08.txt already exists\n",
      "../../Processed Data/10K10Q/Data_10Q/item3_731766_2016-08-02.txt already exists\n",
      "../../Processed Data/10K10Q/Data_10Q/item3_731766_2014-05-06.txt already exists\n",
      "../../Processed Data/10K10Q/Data_10Q/item3_731766_2017-11-07.txt already exists\n",
      "../../Processed Data/10K10Q/Data_10Q/item3_731766_2014-08-04.txt already exists\n",
      "../../Processed Data/10K10Q/Data_10Q/item3_731766_2010-05-05.txt already exists\n",
      "../../Processed Data/10K10Q/Data_10Q/item3_731766_2013-05-06.txt already exists\n"
     ]
    },
    {
     "name": "stderr",
     "output_type": "stream",
     "text": [
      "\r",
      " 21%|████████████████▊                                                               | 191/910 [01:05<14:53,  1.24s/it]"
     ]
    },
    {
     "name": "stdout",
     "output_type": "stream",
     "text": [
      "../../Processed Data/10K10Q/Data_10Q/item3_731766_2012-05-03.txt already exists\n",
      "../../Processed Data/10K10Q/Data_10Q/item3_731766_2011-08-02.txt already exists\n",
      "../../Processed Data/10K10Q/Data_10Q/item3_731766_2016-11-08.txt already exists\n",
      "../../Processed Data/10K10Q/Data_10Q/item3_731766_2013-08-05.txt already exists\n",
      "../../Processed Data/10K10Q/Data_10Q/item3_731766_2018-08-07.txt already exists\n",
      "../../Processed Data/10K10Q/Data_10Q/item3_732712_2017-04-27.txt already exists\n",
      "../../Processed Data/10K10Q/Data_10Q/item3_732712_2013-07-25.txt already exists\n",
      "../../Processed Data/10K10Q/Data_10Q/item3_732712_2019-10-30.txt already exists\n",
      "../../Processed Data/10K10Q/Data_10Q/item3_732712_2012-04-26.txt already exists\n",
      "../../Processed Data/10K10Q/Data_10Q/item3_732712_2018-07-31.txt already exists\n",
      "../../Processed Data/10K10Q/Data_10Q/item3_732712_2012-10-25.txt already exists\n",
      "../../Processed Data/10K10Q/Data_10Q/item3_732712_2014-04-29.txt already exists\n",
      "../../Processed Data/10K10Q/Data_10Q/item3_732712_2011-04-28.txt already exists\n",
      "../../Processed Data/10K10Q/Data_10Q/item3_732712_2018-05-01.txt already exists\n",
      "../../Processed Data/10K10Q/Data_10Q/item3_732712_2016-07-29.txt already exists\n",
      "../../Processed Data/10K10Q/Data_10Q/item3_732712_2016-10-26.txt already exists\n",
      "../../Processed Data/10K10Q/Data_10Q/item3_732712_2010-10-28.txt already exists\n",
      "../../Processed Data/10K10Q/Data_10Q/item3_732712_2012-07-30.txt already exists\n",
      "../../Processed Data/10K10Q/Data_10Q/item3_732712_2013-04-25.txt already exists\n",
      "../../Processed Data/10K10Q/Data_10Q/item3_732712_2016-04-28.txt already exists\n"
     ]
    },
    {
     "name": "stderr",
     "output_type": "stream",
     "text": [
      "\r",
      " 23%|██████████████████▌                                                             | 211/910 [01:05<10:08,  1.15it/s]"
     ]
    },
    {
     "name": "stdout",
     "output_type": "stream",
     "text": [
      "../../Processed Data/10K10Q/Data_10Q/item3_732712_2014-07-29.txt already exists\n",
      "../../Processed Data/10K10Q/Data_10Q/item3_732712_2017-08-03.txt already exists\n",
      "../../Processed Data/10K10Q/Data_10Q/item3_732712_2011-07-28.txt already exists\n",
      "../../Processed Data/10K10Q/Data_10Q/item3_732712_2010-04-28.txt already exists\n",
      "../../Processed Data/10K10Q/Data_10Q/item3_732712_2015-10-27.txt already exists\n",
      "../../Processed Data/10K10Q/Data_10Q/item3_732712_2015-04-28.txt already exists\n",
      "../../Processed Data/10K10Q/Data_10Q/item3_732712_2013-10-24.txt already exists\n",
      "../../Processed Data/10K10Q/Data_10Q/item3_732712_2018-10-30.txt already exists\n",
      "../../Processed Data/10K10Q/Data_10Q/item3_732712_2011-10-25.txt already exists\n",
      "../../Processed Data/10K10Q/Data_10Q/item3_732712_2019-04-26.txt already exists\n",
      "../../Processed Data/10K10Q/Data_10Q/item3_732712_2014-10-28.txt already exists\n",
      "../../Processed Data/10K10Q/Data_10Q/item3_732712_2010-07-29.txt already exists\n",
      "../../Processed Data/10K10Q/Data_10Q/item3_732712_2017-10-26.txt already exists\n",
      "../../Processed Data/10K10Q/Data_10Q/item3_732712_2015-07-28.txt already exists\n",
      "../../Processed Data/10K10Q/Data_10Q/item3_732712_2019-08-08.txt already exists\n",
      "../../Processed Data/10K10Q/Data_10Q/item3_86312_2013-04-23.txt already exists\n"
     ]
    },
    {
     "name": "stderr",
     "output_type": "stream",
     "text": [
      "\r",
      " 25%|███████████████████▉                                                            | 227/910 [01:06<06:57,  1.63it/s]"
     ]
    },
    {
     "name": "stdout",
     "output_type": "stream",
     "text": [
      "../../Processed Data/10K10Q/Data_10Q/item3_86312_2016-10-20.txt already exists\n",
      "../../Processed Data/10K10Q/Data_10Q/item3_86312_2015-04-21.txt already exists\n",
      "../../Processed Data/10K10Q/Data_10Q/item3_86312_2014-07-22.txt already exists\n",
      "../../Processed Data/10K10Q/Data_10Q/item3_86312_2017-07-20.txt already exists\n",
      "../../Processed Data/10K10Q/Data_10Q/item3_86312_2018-10-18.txt already exists\n",
      "../../Processed Data/10K10Q/Data_10Q/item3_86312_2019-07-23.txt already exists\n",
      "../../Processed Data/10K10Q/Data_10Q/item3_86312_2014-04-22.txt already exists\n",
      "../../Processed Data/10K10Q/Data_10Q/item3_86312_2015-07-21.txt already exists\n",
      "../../Processed Data/10K10Q/Data_10Q/item3_86312_2013-07-23.txt already exists\n",
      "../../Processed Data/10K10Q/Data_10Q/item3_86312_2017-10-19.txt already exists\n",
      "../../Processed Data/10K10Q/Data_10Q/item3_86312_2019-04-18.txt already exists\n",
      "../../Processed Data/10K10Q/Data_10Q/item3_86312_2012-10-18.txt already exists\n",
      "../../Processed Data/10K10Q/Data_10Q/item3_86312_2017-04-20.txt already exists\n",
      "../../Processed Data/10K10Q/Data_10Q/item3_86312_2014-10-21.txt already exists\n",
      "../../Processed Data/10K10Q/Data_10Q/item3_86312_2011-04-21.txt already exists\n",
      "../../Processed Data/10K10Q/Data_10Q/item3_86312_2010-07-22.txt already exists\n",
      "../../Processed Data/10K10Q/Data_10Q/item3_86312_2011-10-19.txt already exists\n",
      "../../Processed Data/10K10Q/Data_10Q/item3_86312_2018-07-19.txt already exists\n",
      "../../Processed Data/10K10Q/Data_10Q/item3_86312_2019-10-22.txt already exists\n"
     ]
    },
    {
     "name": "stderr",
     "output_type": "stream",
     "text": [
      "\r",
      " 27%|█████████████████████▋                                                          | 246/910 [01:06<04:45,  2.33it/s]"
     ]
    },
    {
     "name": "stdout",
     "output_type": "stream",
     "text": [
      "../../Processed Data/10K10Q/Data_10Q/item3_86312_2018-04-24.txt already exists\n",
      "../../Processed Data/10K10Q/Data_10Q/item3_86312_2012-04-19.txt already exists\n",
      "../../Processed Data/10K10Q/Data_10Q/item3_86312_2016-07-21.txt already exists\n",
      "../../Processed Data/10K10Q/Data_10Q/item3_86312_2011-07-21.txt already exists\n",
      "../../Processed Data/10K10Q/Data_10Q/item3_86312_2015-10-20.txt already exists\n",
      "../../Processed Data/10K10Q/Data_10Q/item3_86312_2010-04-23.txt already exists\n",
      "../../Processed Data/10K10Q/Data_10Q/item3_86312_2010-10-21.txt already exists\n",
      "../../Processed Data/10K10Q/Data_10Q/item3_86312_2013-10-22.txt already exists\n",
      "../../Processed Data/10K10Q/Data_10Q/item3_86312_2016-04-21.txt already exists\n",
      "../../Processed Data/10K10Q/Data_10Q/item3_86312_2012-07-19.txt already exists\n",
      "../../Processed Data/10K10Q/Data_10Q/item3_78003_2012-08-09.txt already exists\n",
      "../../Processed Data/10K10Q/Data_10Q/item3_78003_2014-08-07.txt already exists\n",
      "../../Processed Data/10K10Q/Data_10Q/item3_78003_2019-11-07.txt already exists\n",
      "../../Processed Data/10K10Q/Data_10Q/item3_78003_2011-05-12.txt already exists\n",
      "../../Processed Data/10K10Q/Data_10Q/item3_78003_2011-11-10.txt already exists\n"
     ]
    },
    {
     "name": "stderr",
     "output_type": "stream",
     "text": [
      "\r",
      " 29%|██████████████████████▉                                                         | 261/910 [01:06<03:16,  3.30it/s]"
     ]
    },
    {
     "name": "stdout",
     "output_type": "stream",
     "text": [
      "../../Processed Data/10K10Q/Data_10Q/item3_78003_2019-05-09.txt already exists\n",
      "../../Processed Data/10K10Q/Data_10Q/item3_78003_2012-11-09.txt already exists\n",
      "../../Processed Data/10K10Q/Data_10Q/item3_78003_2014-11-06.txt already exists\n",
      "../../Processed Data/10K10Q/Data_10Q/item3_78003_2017-11-09.txt already exists\n",
      "../../Processed Data/10K10Q/Data_10Q/item3_78003_2014-05-08.txt already exists\n",
      "../../Processed Data/10K10Q/Data_10Q/item3_78003_2012-05-10.txt already exists\n",
      "../../Processed Data/10K10Q/Data_10Q/item3_78003_2017-05-11.txt already exists\n",
      "../../Processed Data/10K10Q/Data_10Q/item3_78003_2011-08-11.txt already exists\n",
      "../../Processed Data/10K10Q/Data_10Q/item3_78003_2016-08-11.txt already exists\n",
      "../../Processed Data/10K10Q/Data_10Q/item3_78003_2018-11-08.txt already exists\n",
      "../../Processed Data/10K10Q/Data_10Q/item3_78003_2018-05-10.txt already exists\n",
      "../../Processed Data/10K10Q/Data_10Q/item3_78003_2018-08-09.txt already exists\n",
      "../../Processed Data/10K10Q/Data_10Q/item3_78003_2016-11-10.txt already exists\n",
      "../../Processed Data/10K10Q/Data_10Q/item3_78003_2010-08-12.txt already exists\n",
      "../../Processed Data/10K10Q/Data_10Q/item3_78003_2016-05-12.txt already exists\n",
      "../../Processed Data/10K10Q/Data_10Q/item3_78003_2015-11-05.txt already exists\n"
     ]
    },
    {
     "name": "stderr",
     "output_type": "stream",
     "text": [
      "\r",
      " 30%|████████████████████████▎                                                       | 277/910 [01:06<02:15,  4.67it/s]"
     ]
    },
    {
     "name": "stdout",
     "output_type": "stream",
     "text": [
      "../../Processed Data/10K10Q/Data_10Q/item3_78003_2015-05-07.txt already exists\n",
      "../../Processed Data/10K10Q/Data_10Q/item3_78003_2010-11-12.txt already exists\n",
      "../../Processed Data/10K10Q/Data_10Q/item3_78003_2013-11-08.txt already exists\n",
      "../../Processed Data/10K10Q/Data_10Q/item3_78003_2010-05-13.txt already exists\n",
      "../../Processed Data/10K10Q/Data_10Q/item3_78003_2013-05-10.txt already exists\n",
      "../../Processed Data/10K10Q/Data_10Q/item3_78003_2015-08-06.txt already exists\n",
      "../../Processed Data/10K10Q/Data_10Q/item3_78003_2013-08-09.txt already exists\n",
      "../../Processed Data/10K10Q/Data_10Q/item3_78003_2017-08-10.txt already exists\n",
      "../../Processed Data/10K10Q/Data_10Q/item3_78003_2019-08-08.txt already exists\n",
      "Scraping  Data_10Q/51143/51143_2011-07-26.html\n",
      "Failed\n",
      "\n",
      "\n",
      "\n",
      "Scraping  Data_10Q/51143/51143_2015-04-28.html\n",
      "Failed\n",
      "\n",
      "\n",
      "\n",
      "Scraping  Data_10Q/51143/51143_2013-04-30.html\n"
     ]
    },
    {
     "name": "stderr",
     "output_type": "stream",
     "text": [
      "\r",
      " 30%|████████████████████████▎                                                       | 277/910 [01:20<02:15,  4.67it/s]"
     ]
    },
    {
     "name": "stdout",
     "output_type": "stream",
     "text": [
      "Failed\n",
      "\n",
      "\n",
      "\n"
     ]
    },
    {
     "name": "stderr",
     "output_type": "stream",
     "text": [
      "\r",
      " 32%|█████████████████████████▍                                                      | 289/910 [01:22<05:39,  1.83it/s]"
     ]
    },
    {
     "name": "stdout",
     "output_type": "stream",
     "text": [
      "Scraping  Data_10Q/51143/51143_2018-10-30.html\n",
      "Failed\n",
      "\n",
      "\n",
      "\n"
     ]
    },
    {
     "name": "stderr",
     "output_type": "stream",
     "text": [
      "\r",
      " 32%|█████████████████████████▍                                                      | 290/910 [01:28<22:23,  2.17s/it]"
     ]
    },
    {
     "name": "stdout",
     "output_type": "stream",
     "text": [
      "Scraping  Data_10Q/51143/51143_2018-04-24.html\n",
      "Failed\n",
      "\n",
      "\n",
      "\n"
     ]
    },
    {
     "name": "stderr",
     "output_type": "stream",
     "text": [
      "\r",
      " 32%|█████████████████████████▌                                                      | 291/910 [01:31<26:45,  2.59s/it]"
     ]
    },
    {
     "name": "stdout",
     "output_type": "stream",
     "text": [
      "Scraping  Data_10Q/51143/51143_2016-10-25.html\n",
      "Failed\n",
      "\n",
      "\n",
      "\n"
     ]
    },
    {
     "name": "stderr",
     "output_type": "stream",
     "text": [
      "\r",
      " 32%|█████████████████████████▋                                                      | 292/910 [01:37<35:24,  3.44s/it]"
     ]
    },
    {
     "name": "stdout",
     "output_type": "stream",
     "text": [
      "Scraping  Data_10Q/51143/51143_2017-07-25.html\n",
      "Failed\n",
      "\n",
      "\n",
      "\n"
     ]
    },
    {
     "name": "stderr",
     "output_type": "stream",
     "text": [
      "\r",
      " 32%|█████████████████████████▊                                                      | 293/910 [01:43<43:52,  4.27s/it]"
     ]
    },
    {
     "name": "stdout",
     "output_type": "stream",
     "text": [
      "Scraping  Data_10Q/51143/51143_2016-04-26.html\n",
      "Failed\n",
      "\n",
      "\n",
      "\n"
     ]
    },
    {
     "name": "stderr",
     "output_type": "stream",
     "text": [
      "\r",
      " 32%|█████████████████████████▊                                                      | 294/910 [01:50<51:58,  5.06s/it]"
     ]
    },
    {
     "name": "stdout",
     "output_type": "stream",
     "text": [
      "Scraping  Data_10Q/51143/51143_2019-07-30.html\n",
      "Failed\n",
      "\n",
      "\n",
      "\n"
     ]
    },
    {
     "name": "stderr",
     "output_type": "stream",
     "text": [
      "\r",
      " 32%|█████████████████████████▉                                                      | 295/910 [01:56<56:14,  5.49s/it]"
     ]
    },
    {
     "name": "stdout",
     "output_type": "stream",
     "text": [
      "Scraping  Data_10Q/51143/51143_2010-10-26.html\n",
      "Failed\n",
      "\n",
      "\n",
      "\n"
     ]
    },
    {
     "name": "stderr",
     "output_type": "stream",
     "text": [
      "\r",
      " 33%|██████████████████████████                                                      | 296/910 [02:01<54:22,  5.31s/it]"
     ]
    },
    {
     "name": "stdout",
     "output_type": "stream",
     "text": [
      "Scraping  Data_10Q/51143/51143_2015-10-27.html\n",
      "Failed\n",
      "\n",
      "\n",
      "\n"
     ]
    },
    {
     "name": "stderr",
     "output_type": "stream",
     "text": [
      "\r",
      " 33%|█████████████████████████▍                                                    | 297/910 [02:10<1:06:30,  6.51s/it]"
     ]
    },
    {
     "name": "stdout",
     "output_type": "stream",
     "text": [
      "Scraping  Data_10Q/51143/51143_2013-10-29.html\n",
      "Failed\n",
      "\n",
      "\n",
      "\n"
     ]
    },
    {
     "name": "stderr",
     "output_type": "stream",
     "text": [
      "\r",
      " 33%|█████████████████████████▌                                                    | 298/910 [02:19<1:13:21,  7.19s/it]"
     ]
    },
    {
     "name": "stdout",
     "output_type": "stream",
     "text": [
      "Scraping  Data_10Q/51143/51143_2015-07-28.html\n",
      "Failed\n",
      "\n",
      "\n",
      "\n"
     ]
    },
    {
     "name": "stderr",
     "output_type": "stream",
     "text": [
      "\r",
      " 33%|█████████████████████████▋                                                    | 299/910 [02:28<1:18:52,  7.75s/it]"
     ]
    },
    {
     "name": "stdout",
     "output_type": "stream",
     "text": [
      "Scraping  Data_10Q/51143/51143_2019-10-29.html\n",
      "Failed\n",
      "\n",
      "\n",
      "\n"
     ]
    },
    {
     "name": "stderr",
     "output_type": "stream",
     "text": [
      "\r",
      " 33%|█████████████████████████▋                                                    | 300/910 [02:35<1:17:07,  7.59s/it]"
     ]
    },
    {
     "name": "stdout",
     "output_type": "stream",
     "text": [
      "Scraping  Data_10Q/51143/51143_2011-04-26.html\n",
      "Failed\n",
      "\n",
      "\n",
      "\n"
     ]
    },
    {
     "name": "stderr",
     "output_type": "stream",
     "text": [
      "\r",
      " 33%|█████████████████████████▊                                                    | 301/910 [02:40<1:06:42,  6.57s/it]"
     ]
    },
    {
     "name": "stdout",
     "output_type": "stream",
     "text": [
      "Scraping  Data_10Q/51143/51143_2011-10-25.html\n",
      "Failed\n",
      "\n",
      "\n",
      "\n"
     ]
    },
    {
     "name": "stderr",
     "output_type": "stream",
     "text": [
      "\r",
      " 33%|█████████████████████████▉                                                    | 302/910 [02:46<1:05:20,  6.45s/it]"
     ]
    },
    {
     "name": "stdout",
     "output_type": "stream",
     "text": [
      "Scraping  Data_10Q/51143/51143_2017-10-31.html\n",
      "Failed\n",
      "\n",
      "\n",
      "\n"
     ]
    },
    {
     "name": "stderr",
     "output_type": "stream",
     "text": [
      "\r",
      " 33%|█████████████████████████▉                                                    | 303/910 [02:53<1:07:21,  6.66s/it]"
     ]
    },
    {
     "name": "stdout",
     "output_type": "stream",
     "text": [
      "Scraping  Data_10Q/51143/51143_2016-07-26.html\n",
      "Failed\n",
      "\n",
      "\n",
      "\n"
     ]
    },
    {
     "name": "stderr",
     "output_type": "stream",
     "text": [
      "\r",
      " 33%|██████████████████████████                                                    | 304/910 [03:02<1:15:24,  7.47s/it]"
     ]
    },
    {
     "name": "stdout",
     "output_type": "stream",
     "text": [
      "Scraping  Data_10Q/51143/51143_2017-04-25.html\n",
      "Failed\n",
      "\n",
      "\n",
      "\n"
     ]
    },
    {
     "name": "stderr",
     "output_type": "stream",
     "text": [
      "\r",
      " 34%|██████████████████████████▏                                                   | 305/910 [03:08<1:09:31,  6.90s/it]"
     ]
    },
    {
     "name": "stdout",
     "output_type": "stream",
     "text": [
      "Scraping  Data_10Q/51143/51143_2013-07-31.html\n",
      "Failed\n",
      "\n",
      "\n",
      "\n"
     ]
    },
    {
     "name": "stderr",
     "output_type": "stream",
     "text": [
      "\r",
      " 34%|██████████████████████████▏                                                   | 306/910 [03:14<1:07:28,  6.70s/it]"
     ]
    },
    {
     "name": "stdout",
     "output_type": "stream",
     "text": [
      "Scraping  Data_10Q/51143/51143_2019-04-30.html\n",
      "Failed\n",
      "\n",
      "\n",
      "\n"
     ]
    },
    {
     "name": "stderr",
     "output_type": "stream",
     "text": [
      "\r",
      " 34%|██████████████████████████▎                                                   | 307/910 [03:19<1:01:56,  6.16s/it]"
     ]
    },
    {
     "name": "stdout",
     "output_type": "stream",
     "text": [
      "Scraping  Data_10Q/51143/51143_2012-04-24.html\n",
      "Failed\n",
      "\n",
      "\n",
      "\n"
     ]
    },
    {
     "name": "stderr",
     "output_type": "stream",
     "text": [
      "\r",
      " 34%|███████████████████████████                                                     | 308/910 [03:23<56:09,  5.60s/it]"
     ]
    },
    {
     "name": "stdout",
     "output_type": "stream",
     "text": [
      "Scraping  Data_10Q/51143/51143_2012-10-30.html\n",
      "Failed\n",
      "\n",
      "\n",
      "\n"
     ]
    },
    {
     "name": "stderr",
     "output_type": "stream",
     "text": [
      "\r",
      " 34%|███████████████████████████▏                                                    | 309/910 [03:30<59:01,  5.89s/it]"
     ]
    },
    {
     "name": "stdout",
     "output_type": "stream",
     "text": [
      "Scraping  Data_10Q/51143/51143_2014-10-28.html\n",
      "Failed\n",
      "\n",
      "\n",
      "\n"
     ]
    },
    {
     "name": "stderr",
     "output_type": "stream",
     "text": [
      "\r",
      " 34%|██████████████████████████▌                                                   | 310/910 [03:38<1:06:52,  6.69s/it]"
     ]
    },
    {
     "name": "stdout",
     "output_type": "stream",
     "text": [
      "Scraping  Data_10Q/51143/51143_2014-04-29.html\n",
      "Failed\n",
      "\n",
      "\n",
      "\n"
     ]
    },
    {
     "name": "stderr",
     "output_type": "stream",
     "text": [
      "\r",
      " 34%|██████████████████████████▋                                                   | 311/910 [03:44<1:04:25,  6.45s/it]"
     ]
    },
    {
     "name": "stdout",
     "output_type": "stream",
     "text": [
      "Scraping  Data_10Q/51143/51143_2010-07-27.html\n",
      "Failed\n",
      "\n",
      "\n",
      "\n"
     ]
    },
    {
     "name": "stderr",
     "output_type": "stream",
     "text": [
      "\r",
      " 34%|██████████████████████████▋                                                   | 312/910 [03:51<1:05:23,  6.56s/it]"
     ]
    },
    {
     "name": "stdout",
     "output_type": "stream",
     "text": [
      "Scraping  Data_10Q/51143/51143_2018-07-31.html\n",
      "Failed\n",
      "\n",
      "\n",
      "\n"
     ]
    },
    {
     "name": "stderr",
     "output_type": "stream",
     "text": [
      "\r",
      " 34%|██████████████████████████▊                                                   | 313/910 [03:57<1:02:22,  6.27s/it]"
     ]
    },
    {
     "name": "stdout",
     "output_type": "stream",
     "text": [
      "Scraping  Data_10Q/51143/51143_2010-04-27.html\n",
      "Failed\n",
      "\n",
      "\n",
      "\n"
     ]
    },
    {
     "name": "stderr",
     "output_type": "stream",
     "text": [
      "\r",
      " 35%|███████████████████████████▌                                                    | 314/910 [04:00<52:53,  5.32s/it]"
     ]
    },
    {
     "name": "stdout",
     "output_type": "stream",
     "text": [
      "Scraping  Data_10Q/51143/51143_2014-07-29.html\n",
      "Failed\n",
      "\n",
      "\n",
      "\n"
     ]
    },
    {
     "name": "stderr",
     "output_type": "stream",
     "text": [
      "\r",
      " 35%|███████████████████████████                                                   | 315/910 [04:09<1:03:27,  6.40s/it]"
     ]
    },
    {
     "name": "stdout",
     "output_type": "stream",
     "text": [
      "Scraping  Data_10Q/51143/51143_2012-07-31.html\n",
      "Failed\n",
      "\n",
      "\n",
      "\n"
     ]
    },
    {
     "name": "stderr",
     "output_type": "stream",
     "text": [
      "\r",
      " 35%|███████████████████████████                                                   | 316/910 [04:15<1:02:53,  6.35s/it]"
     ]
    },
    {
     "name": "stdout",
     "output_type": "stream",
     "text": [
      "../../Processed Data/10K10Q/Data_10Q/item3_789019_2017-10-26.txt already exists\n",
      "../../Processed Data/10K10Q/Data_10Q/item3_789019_2016-04-21.txt already exists\n",
      "../../Processed Data/10K10Q/Data_10Q/item3_789019_2010-04-22.txt already exists\n",
      "../../Processed Data/10K10Q/Data_10Q/item3_789019_2015-04-23.txt already exists\n",
      "../../Processed Data/10K10Q/Data_10Q/item3_789019_2017-01-26.txt already exists\n",
      "../../Processed Data/10K10Q/Data_10Q/item3_789019_2014-10-23.txt already exists\n",
      "../../Processed Data/10K10Q/Data_10Q/item3_789019_2016-01-28.txt already exists\n",
      "../../Processed Data/10K10Q/Data_10Q/item3_789019_2013-10-24.txt already exists\n",
      "../../Processed Data/10K10Q/Data_10Q/item3_789019_2019-10-23.txt already exists\n",
      "../../Processed Data/10K10Q/Data_10Q/item3_789019_2012-04-19.txt already exists\n"
     ]
    },
    {
     "name": "stderr",
     "output_type": "stream",
     "text": [
      "\r",
      " 36%|████████████████████████████▋                                                   | 326/910 [04:15<43:19,  4.45s/it]"
     ]
    },
    {
     "name": "stdout",
     "output_type": "stream",
     "text": [
      "../../Processed Data/10K10Q/Data_10Q/item3_789019_2018-01-31.txt already exists\n",
      "../../Processed Data/10K10Q/Data_10Q/item3_789019_2013-01-24.txt already exists\n",
      "../../Processed Data/10K10Q/Data_10Q/item3_789019_2014-01-23.txt already exists\n",
      "../../Processed Data/10K10Q/Data_10Q/item3_789019_2015-01-26.txt already exists\n",
      "../../Processed Data/10K10Q/Data_10Q/item3_789019_2011-10-20.txt already exists\n",
      "../../Processed Data/10K10Q/Data_10Q/item3_789019_2018-04-26.txt already exists\n",
      "../../Processed Data/10K10Q/Data_10Q/item3_789019_2010-01-28.txt already exists\n",
      "../../Processed Data/10K10Q/Data_10Q/item3_789019_2018-10-24.txt already exists\n",
      "../../Processed Data/10K10Q/Data_10Q/item3_789019_2012-01-19.txt already exists\n",
      "../../Processed Data/10K10Q/Data_10Q/item3_789019_2010-10-28.txt already exists\n",
      "../../Processed Data/10K10Q/Data_10Q/item3_789019_2012-10-18.txt already exists\n",
      "../../Processed Data/10K10Q/Data_10Q/item3_789019_2019-01-30.txt already exists\n",
      "../../Processed Data/10K10Q/Data_10Q/item3_789019_2013-04-18.txt already exists\n",
      "../../Processed Data/10K10Q/Data_10Q/item3_789019_2011-04-28.txt already exists\n",
      "../../Processed Data/10K10Q/Data_10Q/item3_789019_2015-10-22.txt already exists\n",
      "../../Processed Data/10K10Q/Data_10Q/item3_789019_2011-01-27.txt already exists\n",
      "../../Processed Data/10K10Q/Data_10Q/item3_789019_2020-01-29.txt already exists\n",
      "../../Processed Data/10K10Q/Data_10Q/item3_789019_2014-04-24.txt already exists\n",
      "../../Processed Data/10K10Q/Data_10Q/item3_789019_2019-04-24.txt already exists\n"
     ]
    },
    {
     "name": "stderr",
     "output_type": "stream",
     "text": [
      "\r",
      " 38%|██████████████████████████████▎                                                 | 345/910 [04:15<29:21,  3.12s/it]"
     ]
    },
    {
     "name": "stdout",
     "output_type": "stream",
     "text": [
      "../../Processed Data/10K10Q/Data_10Q/item3_789019_2016-10-20.txt already exists\n",
      "../../Processed Data/10K10Q/Data_10Q/item3_789019_2017-04-27.txt already exists\n",
      "../../Processed Data/10K10Q/Data_10Q/item3_1751788_2019-05-03.txt already exists\n",
      "../../Processed Data/10K10Q/Data_10Q/item3_1751788_2019-07-25.txt already exists\n",
      "../../Processed Data/10K10Q/Data_10Q/item3_1751788_2019-10-25.txt already exists\n",
      "../../Processed Data/10K10Q/Data_10Q/item3_12927_2019-07-24.txt already exists\n",
      "../../Processed Data/10K10Q/Data_10Q/item3_12927_2016-10-26.txt already exists\n",
      "../../Processed Data/10K10Q/Data_10Q/item3_12927_2017-07-26.txt already exists\n",
      "../../Processed Data/10K10Q/Data_10Q/item3_12927_2018-10-24.txt already exists\n",
      "../../Processed Data/10K10Q/Data_10Q/item3_12927_2013-04-24.txt already exists\n",
      "../../Processed Data/10K10Q/Data_10Q/item3_12927_2014-04-23.txt already exists\n",
      "../../Processed Data/10K10Q/Data_10Q/item3_12927_2012-10-24.txt already exists\n",
      "../../Processed Data/10K10Q/Data_10Q/item3_12927_2019-04-24.txt already exists\n",
      "../../Processed Data/10K10Q/Data_10Q/item3_12927_2017-10-25.txt already exists\n"
     ]
    },
    {
     "name": "stderr",
     "output_type": "stream",
     "text": [
      "\r",
      " 39%|███████████████████████████████▌                                                | 359/910 [04:15<20:03,  2.18s/it]"
     ]
    },
    {
     "name": "stdout",
     "output_type": "stream",
     "text": [
      "../../Processed Data/10K10Q/Data_10Q/item3_12927_2011-10-26.txt already exists\n",
      "../../Processed Data/10K10Q/Data_10Q/item3_12927_2010-04-21.txt already exists\n",
      "../../Processed Data/10K10Q/Data_10Q/item3_12927_2014-07-23.txt already exists\n",
      "../../Processed Data/10K10Q/Data_10Q/item3_12927_2017-04-26.txt already exists\n",
      "../../Processed Data/10K10Q/Data_10Q/item3_12927_2013-07-24.txt already exists\n",
      "../../Processed Data/10K10Q/Data_10Q/item3_12927_2010-07-28.txt already exists\n",
      "../../Processed Data/10K10Q/Data_10Q/item3_12927_2018-07-25.txt already exists\n",
      "../../Processed Data/10K10Q/Data_10Q/item3_12927_2013-10-23.txt already exists\n",
      "../../Processed Data/10K10Q/Data_10Q/item3_12927_2010-10-20.txt already exists\n",
      "../../Processed Data/10K10Q/Data_10Q/item3_12927_2011-04-27.txt already exists\n",
      "../../Processed Data/10K10Q/Data_10Q/item3_12927_2015-10-21.txt already exists\n",
      "../../Processed Data/10K10Q/Data_10Q/item3_12927_2015-04-22.txt already exists\n",
      "../../Processed Data/10K10Q/Data_10Q/item3_12927_2012-04-25.txt already exists\n",
      "../../Processed Data/10K10Q/Data_10Q/item3_12927_2016-07-27.txt already exists\n",
      "../../Processed Data/10K10Q/Data_10Q/item3_12927_2011-07-27.txt already exists\n"
     ]
    },
    {
     "name": "stderr",
     "output_type": "stream",
     "text": [
      "\r",
      " 41%|████████████████████████████████▉                                               | 374/910 [04:15<13:40,  1.53s/it]"
     ]
    },
    {
     "name": "stdout",
     "output_type": "stream",
     "text": [
      "../../Processed Data/10K10Q/Data_10Q/item3_12927_2014-10-22.txt already exists\n",
      "../../Processed Data/10K10Q/Data_10Q/item3_12927_2018-04-25.txt already exists\n",
      "../../Processed Data/10K10Q/Data_10Q/item3_12927_2019-10-23.txt already exists\n",
      "../../Processed Data/10K10Q/Data_10Q/item3_12927_2012-07-25.txt already exists\n",
      "../../Processed Data/10K10Q/Data_10Q/item3_12927_2016-04-27.txt already exists\n",
      "../../Processed Data/10K10Q/Data_10Q/item3_12927_2015-07-22.txt already exists\n",
      "../../Processed Data/10K10Q/Data_10Q/item3_200406_2010-05-10.txt already exists\n",
      "../../Processed Data/10K10Q/Data_10Q/item3_200406_2017-08-03.txt already exists\n",
      "../../Processed Data/10K10Q/Data_10Q/item3_200406_2014-05-02.txt already exists\n",
      "../../Processed Data/10K10Q/Data_10Q/item3_200406_2012-08-02.txt already exists\n",
      "../../Processed Data/10K10Q/Data_10Q/item3_200406_2019-07-29.txt already exists\n",
      "../../Processed Data/10K10Q/Data_10Q/item3_200406_2014-08-01.txt already exists\n",
      "../../Processed Data/10K10Q/Data_10Q/item3_200406_2017-11-02.txt already exists\n",
      "../../Processed Data/10K10Q/Data_10Q/item3_200406_2018-05-01.txt already exists\n"
     ]
    },
    {
     "name": "stderr",
     "output_type": "stream",
     "text": [
      "\r",
      " 43%|██████████████████████████████████                                              | 388/910 [04:16<09:20,  1.07s/it]"
     ]
    },
    {
     "name": "stdout",
     "output_type": "stream",
     "text": [
      "../../Processed Data/10K10Q/Data_10Q/item3_200406_2013-05-03.txt already exists\n",
      "../../Processed Data/10K10Q/Data_10Q/item3_200406_2013-08-01.txt already exists\n",
      "../../Processed Data/10K10Q/Data_10Q/item3_200406_2015-05-01.txt already exists\n",
      "../../Processed Data/10K10Q/Data_10Q/item3_200406_2012-11-09.txt already exists\n",
      "../../Processed Data/10K10Q/Data_10Q/item3_200406_2018-08-02.txt already exists\n",
      "../../Processed Data/10K10Q/Data_10Q/item3_200406_2015-07-31.txt already exists\n",
      "../../Processed Data/10K10Q/Data_10Q/item3_200406_2012-05-07.txt already exists\n",
      "../../Processed Data/10K10Q/Data_10Q/item3_200406_2014-10-30.txt already exists\n",
      "../../Processed Data/10K10Q/Data_10Q/item3_200406_2011-08-09.txt already exists\n",
      "../../Processed Data/10K10Q/Data_10Q/item3_200406_2011-05-10.txt already exists\n",
      "../../Processed Data/10K10Q/Data_10Q/item3_200406_2017-05-08.txt already exists\n",
      "../../Processed Data/10K10Q/Data_10Q/item3_200406_2011-11-08.txt already exists\n",
      "../../Processed Data/10K10Q/Data_10Q/item3_200406_2019-10-28.txt already exists\n"
     ]
    },
    {
     "name": "stderr",
     "output_type": "stream",
     "text": [
      "\r",
      " 44%|███████████████████████████████████▎                                            | 401/910 [04:16<06:23,  1.33it/s]"
     ]
    },
    {
     "name": "stdout",
     "output_type": "stream",
     "text": [
      "../../Processed Data/10K10Q/Data_10Q/item3_200406_2010-11-10.txt already exists\n",
      "../../Processed Data/10K10Q/Data_10Q/item3_200406_2016-08-04.txt already exists\n",
      "../../Processed Data/10K10Q/Data_10Q/item3_200406_2015-10-30.txt already exists\n",
      "../../Processed Data/10K10Q/Data_10Q/item3_200406_2016-11-04.txt already exists\n",
      "../../Processed Data/10K10Q/Data_10Q/item3_200406_2016-05-10.txt already exists\n",
      "../../Processed Data/10K10Q/Data_10Q/item3_200406_2010-08-11.txt already exists\n",
      "../../Processed Data/10K10Q/Data_10Q/item3_200406_2013-11-04.txt already exists\n",
      "../../Processed Data/10K10Q/Data_10Q/item3_200406_2019-05-01.txt already exists\n",
      "../../Processed Data/10K10Q/Data_10Q/item3_200406_2018-10-31.txt already exists\n",
      "../../Processed Data/10K10Q/Data_10Q/item3_320187_2010-10-06.txt already exists\n",
      "../../Processed Data/10K10Q/Data_10Q/item3_320187_2018-04-05.txt already exists\n",
      "../../Processed Data/10K10Q/Data_10Q/item3_320187_2013-01-09.txt already exists\n",
      "../../Processed Data/10K10Q/Data_10Q/item3_320187_2015-01-07.txt already exists\n",
      "../../Processed Data/10K10Q/Data_10Q/item3_320187_2015-10-06.txt already exists\n",
      "../../Processed Data/10K10Q/Data_10Q/item3_320187_2010-01-06.txt already exists\n",
      "../../Processed Data/10K10Q/Data_10Q/item3_320187_2019-10-04.txt already exists\n",
      "../../Processed Data/10K10Q/Data_10Q/item3_320187_2011-04-06.txt already exists\n"
     ]
    },
    {
     "name": "stderr",
     "output_type": "stream",
     "text": [
      "\r",
      " 46%|████████████████████████████████████▋                                           | 418/910 [04:16<04:20,  1.89it/s]"
     ]
    },
    {
     "name": "stdout",
     "output_type": "stream",
     "text": [
      "../../Processed Data/10K10Q/Data_10Q/item3_320187_2019-01-08.txt already exists\n",
      "../../Processed Data/10K10Q/Data_10Q/item3_320187_2014-04-07.txt already exists\n",
      "../../Processed Data/10K10Q/Data_10Q/item3_320187_2017-10-06.txt already exists\n",
      "../../Processed Data/10K10Q/Data_10Q/item3_320187_2017-04-04.txt already exists\n",
      "../../Processed Data/10K10Q/Data_10Q/item3_320187_2020-01-07.txt already exists\n",
      "../../Processed Data/10K10Q/Data_10Q/item3_320187_2012-01-05.txt already exists\n",
      "../../Processed Data/10K10Q/Data_10Q/item3_320187_2019-04-04.txt already exists\n",
      "../../Processed Data/10K10Q/Data_10Q/item3_320187_2012-04-06.txt already exists\n",
      "../../Processed Data/10K10Q/Data_10Q/item3_320187_2014-01-07.txt already exists\n",
      "../../Processed Data/10K10Q/Data_10Q/item3_320187_2011-01-06.txt already exists\n",
      "../../Processed Data/10K10Q/Data_10Q/item3_320187_2014-10-07.txt already exists\n",
      "../../Processed Data/10K10Q/Data_10Q/item3_320187_2012-10-09.txt already exists\n",
      "../../Processed Data/10K10Q/Data_10Q/item3_320187_2011-10-06.txt already exists\n",
      "../../Processed Data/10K10Q/Data_10Q/item3_320187_2017-01-05.txt already exists\n",
      "../../Processed Data/10K10Q/Data_10Q/item3_320187_2015-04-07.txt already exists\n"
     ]
    },
    {
     "name": "stderr",
     "output_type": "stream",
     "text": [
      "\r",
      " 48%|██████████████████████████████████████                                          | 433/910 [04:16<02:57,  2.68it/s]"
     ]
    },
    {
     "name": "stdout",
     "output_type": "stream",
     "text": [
      "../../Processed Data/10K10Q/Data_10Q/item3_320187_2013-10-07.txt already exists\n",
      "../../Processed Data/10K10Q/Data_10Q/item3_320187_2018-10-05.txt already exists\n",
      "../../Processed Data/10K10Q/Data_10Q/item3_320187_2013-04-04.txt already exists\n",
      "../../Processed Data/10K10Q/Data_10Q/item3_320187_2016-01-06.txt already exists\n",
      "../../Processed Data/10K10Q/Data_10Q/item3_320187_2018-01-05.txt already exists\n",
      "../../Processed Data/10K10Q/Data_10Q/item3_320187_2016-10-11.txt already exists\n",
      "../../Processed Data/10K10Q/Data_10Q/item3_320187_2016-04-05.txt already exists\n",
      "../../Processed Data/10K10Q/Data_10Q/item3_320187_2010-04-07.txt already exists\n",
      "../../Processed Data/10K10Q/Data_10Q/item3_858877_2014-05-22.txt already exists\n",
      "../../Processed Data/10K10Q/Data_10Q/item3_858877_2014-11-20.txt already exists\n",
      "../../Processed Data/10K10Q/Data_10Q/item3_858877_2010-05-26.txt already exists\n",
      "../../Processed Data/10K10Q/Data_10Q/item3_858877_2016-05-24.txt already exists\n",
      "../../Processed Data/10K10Q/Data_10Q/item3_858877_2015-02-18.txt already exists\n",
      "../../Processed Data/10K10Q/Data_10Q/item3_858877_2014-02-20.txt already exists\n",
      "../../Processed Data/10K10Q/Data_10Q/item3_858877_2011-05-25.txt already exists\n",
      "../../Processed Data/10K10Q/Data_10Q/item3_858877_2015-11-19.txt already exists\n"
     ]
    },
    {
     "name": "stderr",
     "output_type": "stream",
     "text": [
      "\r",
      " 49%|███████████████████████████████████████▍                                        | 449/910 [04:16<02:01,  3.80it/s]"
     ]
    },
    {
     "name": "stdout",
     "output_type": "stream",
     "text": [
      "../../Processed Data/10K10Q/Data_10Q/item3_858877_2010-11-23.txt already exists\n",
      "../../Processed Data/10K10Q/Data_10Q/item3_858877_2015-05-20.txt already exists\n",
      "../../Processed Data/10K10Q/Data_10Q/item3_858877_2017-02-21.txt already exists\n",
      "../../Processed Data/10K10Q/Data_10Q/item3_858877_2016-11-22.txt already exists\n",
      "../../Processed Data/10K10Q/Data_10Q/item3_858877_2013-05-21.txt already exists\n",
      "../../Processed Data/10K10Q/Data_10Q/item3_858877_2011-02-23.txt already exists\n",
      "../../Processed Data/10K10Q/Data_10Q/item3_858877_2018-05-22.txt already exists\n",
      "../../Processed Data/10K10Q/Data_10Q/item3_858877_2012-02-21.txt already exists\n",
      "../../Processed Data/10K10Q/Data_10Q/item3_858877_2013-11-22.txt already exists\n",
      "../../Processed Data/10K10Q/Data_10Q/item3_858877_2018-11-20.txt already exists\n",
      "../../Processed Data/10K10Q/Data_10Q/item3_858877_2019-02-19.txt already exists\n",
      "../../Processed Data/10K10Q/Data_10Q/item3_858877_2017-05-23.txt already exists\n",
      "../../Processed Data/10K10Q/Data_10Q/item3_858877_2013-02-19.txt already exists\n",
      "../../Processed Data/10K10Q/Data_10Q/item3_858877_2017-11-21.txt already exists\n",
      "../../Processed Data/10K10Q/Data_10Q/item3_858877_2012-11-20.txt already exists\n"
     ]
    },
    {
     "name": "stderr",
     "output_type": "stream",
     "text": [
      "\r",
      " 51%|████████████████████████████████████████▊                                       | 464/910 [04:16<01:23,  5.36it/s]"
     ]
    },
    {
     "name": "stdout",
     "output_type": "stream",
     "text": [
      "../../Processed Data/10K10Q/Data_10Q/item3_858877_2016-02-18.txt already exists\n",
      "../../Processed Data/10K10Q/Data_10Q/item3_858877_2018-02-20.txt already exists\n",
      "../../Processed Data/10K10Q/Data_10Q/item3_858877_2019-05-21.txt already exists\n",
      "../../Processed Data/10K10Q/Data_10Q/item3_858877_2010-02-17.txt already exists\n",
      "../../Processed Data/10K10Q/Data_10Q/item3_858877_2012-05-23.txt already exists\n",
      "../../Processed Data/10K10Q/Data_10Q/item3_858877_2019-11-19.txt already exists\n",
      "../../Processed Data/10K10Q/Data_10Q/item3_858877_2011-11-22.txt already exists\n",
      "../../Processed Data/10K10Q/Data_10Q/item3_1403161_2019-01-31.txt already exists\n",
      "../../Processed Data/10K10Q/Data_10Q/item3_1403161_2018-07-27.txt already exists\n",
      "../../Processed Data/10K10Q/Data_10Q/item3_1403161_2017-02-02.txt already exists\n",
      "../../Processed Data/10K10Q/Data_10Q/item3_1403161_2013-02-06.txt already exists\n",
      "../../Processed Data/10K10Q/Data_10Q/item3_1403161_2014-04-24.txt already exists\n",
      "../../Processed Data/10K10Q/Data_10Q/item3_1403161_2010-08-02.txt already exists\n",
      "../../Processed Data/10K10Q/Data_10Q/item3_1403161_2014-01-30.txt already exists\n"
     ]
    },
    {
     "name": "stderr",
     "output_type": "stream",
     "text": [
      "\r",
      " 53%|██████████████████████████████████████████                                      | 478/910 [04:16<00:57,  7.52it/s]"
     ]
    },
    {
     "name": "stdout",
     "output_type": "stream",
     "text": [
      "../../Processed Data/10K10Q/Data_10Q/item3_1403161_2013-07-24.txt already exists\n",
      "../../Processed Data/10K10Q/Data_10Q/item3_1403161_2016-07-25.txt already exists\n",
      "../../Processed Data/10K10Q/Data_10Q/item3_1403161_2011-05-05.txt already exists\n",
      "../../Processed Data/10K10Q/Data_10Q/item3_1403161_2017-07-20.txt already exists\n",
      "../../Processed Data/10K10Q/Data_10Q/item3_1403161_2014-07-24.txt already exists\n",
      "../../Processed Data/10K10Q/Data_10Q/item3_1403161_2010-02-03.txt already exists\n",
      "../../Processed Data/10K10Q/Data_10Q/item3_1403161_2017-04-21.txt already exists\n",
      "../../Processed Data/10K10Q/Data_10Q/item3_1403161_2011-07-29.txt already exists\n",
      "../../Processed Data/10K10Q/Data_10Q/item3_1403161_2018-04-27.txt already exists\n",
      "../../Processed Data/10K10Q/Data_10Q/item3_1403161_2012-02-08.txt already exists\n",
      "../../Processed Data/10K10Q/Data_10Q/item3_1403161_2012-07-27.txt already exists\n",
      "../../Processed Data/10K10Q/Data_10Q/item3_1403161_2015-01-29.txt already exists\n",
      "../../Processed Data/10K10Q/Data_10Q/item3_1403161_2016-04-25.txt already exists\n",
      "../../Processed Data/10K10Q/Data_10Q/item3_1403161_2015-04-30.txt already exists\n",
      "../../Processed Data/10K10Q/Data_10Q/item3_1403161_2015-07-23.txt already exists\n",
      "../../Processed Data/10K10Q/Data_10Q/item3_1403161_2019-07-26.txt already exists\n"
     ]
    },
    {
     "name": "stderr",
     "output_type": "stream",
     "text": [
      "\r",
      " 54%|███████████████████████████████████████████▍                                    | 494/910 [04:16<00:39, 10.53it/s]"
     ]
    },
    {
     "name": "stdout",
     "output_type": "stream",
     "text": [
      "../../Processed Data/10K10Q/Data_10Q/item3_1403161_2018-02-01.txt already exists\n",
      "../../Processed Data/10K10Q/Data_10Q/item3_1403161_2016-01-28.txt already exists\n",
      "../../Processed Data/10K10Q/Data_10Q/item3_1403161_2012-05-02.txt already exists\n",
      "../../Processed Data/10K10Q/Data_10Q/item3_1403161_2019-04-26.txt already exists\n",
      "../../Processed Data/10K10Q/Data_10Q/item3_1403161_2010-05-03.txt already exists\n",
      "../../Processed Data/10K10Q/Data_10Q/item3_1403161_2011-02-02.txt already exists\n",
      "../../Processed Data/10K10Q/Data_10Q/item3_1403161_2013-05-01.txt already exists\n",
      "../../Processed Data/10K10Q/Data_10Q/item3_1403161_2020-01-31.txt already exists\n",
      "../../Processed Data/10K10Q/Data_10Q/item3_1001039_2012-05-08.txt already exists\n",
      "../../Processed Data/10K10Q/Data_10Q/item3_1001039_2014-05-06.txt already exists\n",
      "../../Processed Data/10K10Q/Data_10Q/item3_1001039_2017-05-09.txt already exists\n",
      "../../Processed Data/10K10Q/Data_10Q/item3_1001039_2011-08-09.txt already exists\n",
      "../../Processed Data/10K10Q/Data_10Q/item3_1001039_2013-02-05.txt already exists\n",
      "../../Processed Data/10K10Q/Data_10Q/item3_1001039_2014-08-05.txt already exists\n",
      "../../Processed Data/10K10Q/Data_10Q/item3_1001039_2018-02-06.txt already exists\n",
      "../../Processed Data/10K10Q/Data_10Q/item3_1001039_2016-02-09.txt already exists\n"
     ]
    },
    {
     "name": "stderr",
     "output_type": "stream",
     "text": [
      "\r",
      " 56%|████████████████████████████████████████████▊                                   | 510/910 [04:16<00:27, 14.62it/s]"
     ]
    },
    {
     "name": "stdout",
     "output_type": "stream",
     "text": [
      "../../Processed Data/10K10Q/Data_10Q/item3_1001039_2011-05-10.txt already exists\n",
      "../../Processed Data/10K10Q/Data_10Q/item3_1001039_2012-08-07.txt already exists\n",
      "../../Processed Data/10K10Q/Data_10Q/item3_1001039_2013-05-07.txt already exists\n",
      "../../Processed Data/10K10Q/Data_10Q/item3_1001039_2017-02-07.txt already exists\n",
      "../../Processed Data/10K10Q/Data_10Q/item3_1001039_2016-05-10.txt already exists\n",
      "../../Processed Data/10K10Q/Data_10Q/item3_1001039_2010-08-10.txt already exists\n",
      "../../Processed Data/10K10Q/Data_10Q/item3_1001039_2015-05-05.txt already exists\n",
      "../../Processed Data/10K10Q/Data_10Q/item3_1001039_2018-08-07.txt already exists\n",
      "../../Processed Data/10K10Q/Data_10Q/item3_1001039_2018-05-08.txt already exists\n",
      "../../Processed Data/10K10Q/Data_10Q/item3_1001039_2014-02-05.txt already exists\n",
      "../../Processed Data/10K10Q/Data_10Q/item3_1001039_2011-02-08.txt already exists\n",
      "../../Processed Data/10K10Q/Data_10Q/item3_1001039_2016-08-09.txt already exists\n",
      "../../Processed Data/10K10Q/Data_10Q/item3_1001039_2012-02-07.txt already exists\n",
      "../../Processed Data/10K10Q/Data_10Q/item3_1001039_2019-02-05.txt already exists\n",
      "../../Processed Data/10K10Q/Data_10Q/item3_1001039_2015-02-03.txt already exists\n",
      "../../Processed Data/10K10Q/Data_10Q/item3_1001039_2013-08-06.txt already exists\n",
      "../../Processed Data/10K10Q/Data_10Q/item3_1001039_2010-05-11.txt already exists\n"
     ]
    },
    {
     "name": "stderr",
     "output_type": "stream",
     "text": [
      "\r",
      " 58%|██████████████████████████████████████████████▎                                 | 527/910 [04:17<00:19, 20.15it/s]"
     ]
    },
    {
     "name": "stdout",
     "output_type": "stream",
     "text": [
      "../../Processed Data/10K10Q/Data_10Q/item3_1001039_2015-08-04.txt already exists\n",
      "../../Processed Data/10K10Q/Data_10Q/item3_1001039_2017-08-08.txt already exists\n",
      "../../Processed Data/10K10Q/Data_10Q/item3_1001039_2010-02-09.txt already exists\n",
      "../../Processed Data/10K10Q/Data_10Q/item3_63908_2017-08-08.txt already exists\n",
      "../../Processed Data/10K10Q/Data_10Q/item3_63908_2018-08-02.txt already exists\n",
      "../../Processed Data/10K10Q/Data_10Q/item3_63908_2019-05-08.txt already exists\n",
      "../../Processed Data/10K10Q/Data_10Q/item3_63908_2019-08-06.txt already exists\n",
      "../../Processed Data/10K10Q/Data_10Q/item3_63908_2010-11-05.txt already exists\n",
      "../../Processed Data/10K10Q/Data_10Q/item3_63908_2015-11-04.txt already exists\n",
      "../../Processed Data/10K10Q/Data_10Q/item3_63908_2010-08-05.txt already exists\n",
      "../../Processed Data/10K10Q/Data_10Q/item3_63908_2017-11-02.txt already exists\n",
      "../../Processed Data/10K10Q/Data_10Q/item3_63908_2015-08-05.txt already exists\n",
      "../../Processed Data/10K10Q/Data_10Q/item3_63908_2013-10-30.txt already exists\n",
      "../../Processed Data/10K10Q/Data_10Q/item3_63908_2015-05-07.txt already exists\n",
      "../../Processed Data/10K10Q/Data_10Q/item3_63908_2010-05-06.txt already exists\n",
      "../../Processed Data/10K10Q/Data_10Q/item3_63908_2018-05-08.txt already exists\n",
      "../../Processed Data/10K10Q/Data_10Q/item3_63908_2014-11-03.txt already exists\n"
     ]
    },
    {
     "name": "stderr",
     "output_type": "stream",
     "text": [
      "\r",
      " 60%|███████████████████████████████████████████████▊                                | 544/910 [04:17<00:13, 27.27it/s]"
     ]
    },
    {
     "name": "stdout",
     "output_type": "stream",
     "text": [
      "../../Processed Data/10K10Q/Data_10Q/item3_63908_2012-11-01.txt already exists\n",
      "../../Processed Data/10K10Q/Data_10Q/item3_63908_2016-11-04.txt already exists\n",
      "../../Processed Data/10K10Q/Data_10Q/item3_63908_2016-05-06.txt already exists\n",
      "../../Processed Data/10K10Q/Data_10Q/item3_63908_2016-08-04.txt already exists\n",
      "../../Processed Data/10K10Q/Data_10Q/item3_63908_2013-07-31.txt already exists\n",
      "../../Processed Data/10K10Q/Data_10Q/item3_63908_2011-05-06.txt already exists\n",
      "../../Processed Data/10K10Q/Data_10Q/item3_63908_2011-11-04.txt already exists\n",
      "../../Processed Data/10K10Q/Data_10Q/item3_63908_2017-05-08.txt already exists\n",
      "../../Processed Data/10K10Q/Data_10Q/item3_63908_2012-08-06.txt already exists\n",
      "../../Processed Data/10K10Q/Data_10Q/item3_63908_2012-05-08.txt already exists\n",
      "../../Processed Data/10K10Q/Data_10Q/item3_63908_2014-05-06.txt already exists\n",
      "../../Processed Data/10K10Q/Data_10Q/item3_63908_2011-08-05.txt already exists\n",
      "../../Processed Data/10K10Q/Data_10Q/item3_63908_2018-11-01.txt already exists\n",
      "../../Processed Data/10K10Q/Data_10Q/item3_63908_2014-08-04.txt already exists\n",
      "../../Processed Data/10K10Q/Data_10Q/item3_63908_2013-05-01.txt already exists\n",
      "../../Processed Data/10K10Q/Data_10Q/item3_63908_2019-11-04.txt already exists\n"
     ]
    },
    {
     "name": "stderr",
     "output_type": "stream",
     "text": [
      "\r",
      " 62%|█████████████████████████████████████████████████▏                              | 560/910 [04:17<00:09, 35.33it/s]"
     ]
    },
    {
     "name": "stdout",
     "output_type": "stream",
     "text": [
      "../../Processed Data/10K10Q/Data_10Q/item3_21344_2017-10-26.txt already exists\n",
      "../../Processed Data/10K10Q/Data_10Q/item3_21344_2014-10-29.txt already exists\n",
      "../../Processed Data/10K10Q/Data_10Q/item3_21344_2019-10-24.txt already exists\n",
      "../../Processed Data/10K10Q/Data_10Q/item3_21344_2015-07-29.txt already exists\n",
      "../../Processed Data/10K10Q/Data_10Q/item3_21344_2010-04-29.txt already exists\n",
      "../../Processed Data/10K10Q/Data_10Q/item3_21344_2018-10-30.txt already exists\n",
      "../../Processed Data/10K10Q/Data_10Q/item3_21344_2013-10-24.txt already exists\n",
      "../../Processed Data/10K10Q/Data_10Q/item3_21344_2014-07-30.txt already exists\n",
      "../../Processed Data/10K10Q/Data_10Q/item3_21344_2015-04-30.txt already exists\n",
      "../../Processed Data/10K10Q/Data_10Q/item3_21344_2011-08-01.txt already exists\n",
      "../../Processed Data/10K10Q/Data_10Q/item3_21344_2015-10-28.txt already exists\n",
      "../../Processed Data/10K10Q/Data_10Q/item3_21344_2019-07-25.txt already exists\n",
      "../../Processed Data/10K10Q/Data_10Q/item3_21344_2016-10-27.txt already exists\n",
      "../../Processed Data/10K10Q/Data_10Q/item3_21344_2010-10-29.txt already exists\n",
      "../../Processed Data/10K10Q/Data_10Q/item3_21344_2017-07-27.txt already exists\n"
     ]
    },
    {
     "name": "stderr",
     "output_type": "stream",
     "text": [
      "\r",
      " 63%|██████████████████████████████████████████████████▌                             | 575/910 [04:17<00:07, 45.58it/s]"
     ]
    },
    {
     "name": "stdout",
     "output_type": "stream",
     "text": [
      "../../Processed Data/10K10Q/Data_10Q/item3_21344_2011-05-02.txt already exists\n",
      "../../Processed Data/10K10Q/Data_10Q/item3_21344_2013-04-25.txt already exists\n",
      "../../Processed Data/10K10Q/Data_10Q/item3_21344_2012-07-26.txt already exists\n",
      "../../Processed Data/10K10Q/Data_10Q/item3_21344_2016-04-28.txt already exists\n",
      "../../Processed Data/10K10Q/Data_10Q/item3_21344_2018-07-26.txt already exists\n",
      "../../Processed Data/10K10Q/Data_10Q/item3_21344_2019-04-25.txt already exists\n",
      "../../Processed Data/10K10Q/Data_10Q/item3_21344_2012-10-25.txt already exists\n",
      "../../Processed Data/10K10Q/Data_10Q/item3_21344_2018-05-01.txt already exists\n",
      "../../Processed Data/10K10Q/Data_10Q/item3_21344_2010-08-02.txt already exists\n",
      "../../Processed Data/10K10Q/Data_10Q/item3_21344_2011-10-27.txt already exists\n",
      "../../Processed Data/10K10Q/Data_10Q/item3_21344_2016-07-28.txt already exists\n",
      "../../Processed Data/10K10Q/Data_10Q/item3_21344_2014-04-24.txt already exists\n",
      "../../Processed Data/10K10Q/Data_10Q/item3_21344_2017-04-27.txt already exists\n",
      "../../Processed Data/10K10Q/Data_10Q/item3_21344_2012-04-26.txt already exists\n",
      "../../Processed Data/10K10Q/Data_10Q/item3_21344_2013-07-25.txt already exists\n"
     ]
    },
    {
     "name": "stderr",
     "output_type": "stream",
     "text": [
      "\r",
      " 65%|███████████████████████████████████████████████████▊                            | 590/910 [04:17<00:05, 57.14it/s]"
     ]
    },
    {
     "name": "stdout",
     "output_type": "stream",
     "text": [
      "../../Processed Data/10K10Q/Data_10Q/item3_50863_2010-11-02.txt already exists\n",
      "../../Processed Data/10K10Q/Data_10Q/item3_50863_2011-05-09.txt already exists\n",
      "../../Processed Data/10K10Q/Data_10Q/item3_50863_2016-05-02.txt already exists\n",
      "../../Processed Data/10K10Q/Data_10Q/item3_50863_2014-04-25.txt already exists\n",
      "../../Processed Data/10K10Q/Data_10Q/item3_50863_2013-07-29.txt already exists\n",
      "../../Processed Data/10K10Q/Data_10Q/item3_50863_2015-07-27.txt already exists\n",
      "../../Processed Data/10K10Q/Data_10Q/item3_50863_2010-07-30.txt already exists\n",
      "../../Processed Data/10K10Q/Data_10Q/item3_50863_2018-07-27.txt already exists\n",
      "../../Processed Data/10K10Q/Data_10Q/item3_50863_2017-04-27.txt already exists\n",
      "../../Processed Data/10K10Q/Data_10Q/item3_50863_2016-08-01.txt already exists\n",
      "../../Processed Data/10K10Q/Data_10Q/item3_50863_2014-07-25.txt already exists\n",
      "../../Processed Data/10K10Q/Data_10Q/item3_50863_2016-10-31.txt already exists\n",
      "../../Processed Data/10K10Q/Data_10Q/item3_50863_2015-10-28.txt already exists\n",
      "../../Processed Data/10K10Q/Data_10Q/item3_50863_2018-04-27.txt already exists\n",
      "../../Processed Data/10K10Q/Data_10Q/item3_50863_2017-07-27.txt already exists\n"
     ]
    },
    {
     "name": "stderr",
     "output_type": "stream",
     "text": [
      "\r",
      " 66%|█████████████████████████████████████████████████████▏                          | 605/910 [04:17<00:04, 69.76it/s]"
     ]
    },
    {
     "name": "stdout",
     "output_type": "stream",
     "text": [
      "../../Processed Data/10K10Q/Data_10Q/item3_50863_2015-04-27.txt already exists\n",
      "../../Processed Data/10K10Q/Data_10Q/item3_50863_2013-04-29.txt already exists\n",
      "../../Processed Data/10K10Q/Data_10Q/item3_50863_2013-10-28.txt already exists\n",
      "../../Processed Data/10K10Q/Data_10Q/item3_50863_2018-10-26.txt already exists\n",
      "../../Processed Data/10K10Q/Data_10Q/item3_50863_2019-07-26.txt already exists\n",
      "../../Processed Data/10K10Q/Data_10Q/item3_50863_2012-08-01.txt already exists\n",
      "../../Processed Data/10K10Q/Data_10Q/item3_50863_2012-10-31.txt already exists\n",
      "../../Processed Data/10K10Q/Data_10Q/item3_50863_2014-10-29.txt already exists\n",
      "../../Processed Data/10K10Q/Data_10Q/item3_50863_2019-10-25.txt already exists\n",
      "../../Processed Data/10K10Q/Data_10Q/item3_50863_2017-10-26.txt already exists\n",
      "../../Processed Data/10K10Q/Data_10Q/item3_50863_2012-05-04.txt already exists\n",
      "../../Processed Data/10K10Q/Data_10Q/item3_50863_2011-08-08.txt already exists\n",
      "../../Processed Data/10K10Q/Data_10Q/item3_50863_2010-05-03.txt already exists\n",
      "../../Processed Data/10K10Q/Data_10Q/item3_50863_2011-11-04.txt already exists\n",
      "../../Processed Data/10K10Q/Data_10Q/item3_50863_2019-04-26.txt already exists\n",
      "../../Processed Data/10K10Q/Data_10Q/item3_354950_2015-11-24.txt already exists\n"
     ]
    },
    {
     "name": "stderr",
     "output_type": "stream",
     "text": [
      "\r",
      " 68%|██████████████████████████████████████████████████████▌                         | 621/910 [04:17<00:03, 83.20it/s]"
     ]
    },
    {
     "name": "stdout",
     "output_type": "stream",
     "text": [
      "../../Processed Data/10K10Q/Data_10Q/item3_354950_2017-08-22.txt already exists\n",
      "../../Processed Data/10K10Q/Data_10Q/item3_354950_2011-09-01.txt already exists\n",
      "../../Processed Data/10K10Q/Data_10Q/item3_354950_2013-05-29.txt already exists\n",
      "../../Processed Data/10K10Q/Data_10Q/item3_354950_2015-05-27.txt already exists\n",
      "../../Processed Data/10K10Q/Data_10Q/item3_354950_2012-08-22.txt already exists\n",
      "../../Processed Data/10K10Q/Data_10Q/item3_354950_2016-05-24.txt already exists\n",
      "../../Processed Data/10K10Q/Data_10Q/item3_354950_2010-12-02.txt already exists\n",
      "../../Processed Data/10K10Q/Data_10Q/item3_354950_2015-08-25.txt already exists\n",
      "../../Processed Data/10K10Q/Data_10Q/item3_354950_2013-11-27.txt already exists\n",
      "../../Processed Data/10K10Q/Data_10Q/item3_354950_2019-08-27.txt already exists\n",
      "../../Processed Data/10K10Q/Data_10Q/item3_354950_2019-05-29.txt already exists\n",
      "../../Processed Data/10K10Q/Data_10Q/item3_354950_2010-09-02.txt already exists\n",
      "../../Processed Data/10K10Q/Data_10Q/item3_354950_2014-08-27.txt already exists\n",
      "../../Processed Data/10K10Q/Data_10Q/item3_354950_2011-06-02.txt already exists\n",
      "../../Processed Data/10K10Q/Data_10Q/item3_354950_2014-05-28.txt already exists\n",
      "../../Processed Data/10K10Q/Data_10Q/item3_354950_2019-11-26.txt already exists\n",
      "../../Processed Data/10K10Q/Data_10Q/item3_354950_2016-08-23.txt already exists\n",
      "../../Processed Data/10K10Q/Data_10Q/item3_354950_2014-11-25.txt already exists\n",
      "../../Processed Data/10K10Q/Data_10Q/item3_354950_2018-05-22.txt already exists\n",
      "../../Processed Data/10K10Q/Data_10Q/item3_354950_2018-11-20.txt already exists\n",
      "../../Processed Data/10K10Q/Data_10Q/item3_354950_2012-05-24.txt already exists\n",
      "../../Processed Data/10K10Q/Data_10Q/item3_354950_2011-11-29.txt already exists\n"
     ]
    },
    {
     "name": "stderr",
     "output_type": "stream",
     "text": [
      "\r",
      " 71%|███████████████████████████████████████████████████████▊                       | 643/910 [04:17<00:02, 101.64it/s]"
     ]
    },
    {
     "name": "stdout",
     "output_type": "stream",
     "text": [
      "../../Processed Data/10K10Q/Data_10Q/item3_354950_2016-11-22.txt already exists\n",
      "../../Processed Data/10K10Q/Data_10Q/item3_354950_2018-08-21.txt already exists\n",
      "../../Processed Data/10K10Q/Data_10Q/item3_354950_2013-08-28.txt already exists\n",
      "../../Processed Data/10K10Q/Data_10Q/item3_354950_2012-11-21.txt already exists\n",
      "../../Processed Data/10K10Q/Data_10Q/item3_354950_2010-06-03.txt already exists\n",
      "../../Processed Data/10K10Q/Data_10Q/item3_354950_2017-05-23.txt already exists\n",
      "../../Processed Data/10K10Q/Data_10Q/item3_354950_2017-11-21.txt already exists\n",
      "../../Processed Data/10K10Q/Data_10Q/item3_80424_2013-01-25.txt already exists\n",
      "../../Processed Data/10K10Q/Data_10Q/item3_80424_2017-10-20.txt already exists\n",
      "../../Processed Data/10K10Q/Data_10Q/item3_80424_2016-10-25.txt already exists\n",
      "../../Processed Data/10K10Q/Data_10Q/item3_80424_2015-01-27.txt already exists\n",
      "../../Processed Data/10K10Q/Data_10Q/item3_80424_2017-01-20.txt already exists\n",
      "../../Processed Data/10K10Q/Data_10Q/item3_80424_2013-10-25.txt already exists\n",
      "../../Processed Data/10K10Q/Data_10Q/item3_80424_2019-10-22.txt already exists\n",
      "../../Processed Data/10K10Q/Data_10Q/item3_80424_2019-01-23.txt already exists\n",
      "../../Processed Data/10K10Q/Data_10Q/item3_80424_2016-04-26.txt already exists\n",
      "../../Processed Data/10K10Q/Data_10Q/item3_80424_2014-01-24.txt already exists\n",
      "../../Processed Data/10K10Q/Data_10Q/item3_80424_2011-01-28.txt already exists\n",
      "../../Processed Data/10K10Q/Data_10Q/item3_80424_2012-01-27.txt already exists\n",
      "../../Processed Data/10K10Q/Data_10Q/item3_80424_2018-04-19.txt already exists\n"
     ]
    },
    {
     "name": "stderr",
     "output_type": "stream",
     "text": [
      "\r",
      " 73%|█████████████████████████████████████████████████████████▌                     | 663/910 [04:17<00:02, 118.42it/s]"
     ]
    },
    {
     "name": "stdout",
     "output_type": "stream",
     "text": [
      "../../Processed Data/10K10Q/Data_10Q/item3_80424_2015-04-23.txt already exists\n",
      "../../Processed Data/10K10Q/Data_10Q/item3_80424_2014-10-24.txt already exists\n",
      "../../Processed Data/10K10Q/Data_10Q/item3_80424_2012-04-27.txt already exists\n",
      "../../Processed Data/10K10Q/Data_10Q/item3_80424_2012-10-25.txt already exists\n",
      "../../Processed Data/10K10Q/Data_10Q/item3_80424_2017-04-26.txt already exists\n",
      "../../Processed Data/10K10Q/Data_10Q/item3_80424_2018-01-23.txt already exists\n",
      "../../Processed Data/10K10Q/Data_10Q/item3_80424_2011-04-29.txt already exists\n",
      "../../Processed Data/10K10Q/Data_10Q/item3_80424_2018-10-19.txt already exists\n",
      "../../Processed Data/10K10Q/Data_10Q/item3_80424_2011-10-27.txt already exists\n",
      "../../Processed Data/10K10Q/Data_10Q/item3_80424_2015-10-23.txt already exists\n",
      "../../Processed Data/10K10Q/Data_10Q/item3_80424_2020-01-23.txt already exists\n",
      "../../Processed Data/10K10Q/Data_10Q/item3_80424_2019-04-23.txt already exists\n",
      "../../Processed Data/10K10Q/Data_10Q/item3_80424_2010-01-28.txt already exists\n",
      "../../Processed Data/10K10Q/Data_10Q/item3_80424_2016-01-26.txt already exists\n",
      "../../Processed Data/10K10Q/Data_10Q/item3_80424_2013-04-24.txt already exists\n",
      "../../Processed Data/10K10Q/Data_10Q/item3_80424_2014-04-23.txt already exists\n",
      "../../Processed Data/10K10Q/Data_10Q/item3_80424_2010-04-30.txt already exists\n",
      "../../Processed Data/10K10Q/Data_10Q/item3_80424_2010-10-28.txt already exists\n"
     ]
    },
    {
     "name": "stderr",
     "output_type": "stream",
     "text": [
      "\r",
      " 75%|███████████████████████████████████████████████████████████                    | 681/910 [04:17<00:01, 130.55it/s]"
     ]
    },
    {
     "name": "stdout",
     "output_type": "stream",
     "text": [
      "../../Processed Data/10K10Q/Data_10Q/item3_104169_2013-09-05.txt already exists\n",
      "../../Processed Data/10K10Q/Data_10Q/item3_104169_2018-11-30.txt already exists\n",
      "../../Processed Data/10K10Q/Data_10Q/item3_104169_2011-12-08.txt already exists\n",
      "../../Processed Data/10K10Q/Data_10Q/item3_104169_2019-06-07.txt already exists\n",
      "../../Processed Data/10K10Q/Data_10Q/item3_104169_2019-12-04.txt already exists\n",
      "../../Processed Data/10K10Q/Data_10Q/item3_104169_2014-06-06.txt already exists\n",
      "../../Processed Data/10K10Q/Data_10Q/item3_104169_2018-09-06.txt already exists\n",
      "../../Processed Data/10K10Q/Data_10Q/item3_104169_2017-06-02.txt already exists\n",
      "../../Processed Data/10K10Q/Data_10Q/item3_104169_2018-06-04.txt already exists\n",
      "../../Processed Data/10K10Q/Data_10Q/item3_104169_2012-09-06.txt already exists\n",
      "../../Processed Data/10K10Q/Data_10Q/item3_104169_2015-06-05.txt already exists\n",
      "../../Processed Data/10K10Q/Data_10Q/item3_104169_2010-12-06.txt already exists\n",
      "../../Processed Data/10K10Q/Data_10Q/item3_104169_2010-06-04.txt already exists\n",
      "../../Processed Data/10K10Q/Data_10Q/item3_104169_2013-06-07.txt already exists\n",
      "../../Processed Data/10K10Q/Data_10Q/item3_104169_2017-08-31.txt already exists\n",
      "../../Processed Data/10K10Q/Data_10Q/item3_104169_2010-09-01.txt already exists\n",
      "../../Processed Data/10K10Q/Data_10Q/item3_104169_2014-09-05.txt already exists\n",
      "../../Processed Data/10K10Q/Data_10Q/item3_104169_2017-12-01.txt already exists\n"
     ]
    },
    {
     "name": "stderr",
     "output_type": "stream",
     "text": [
      "\r",
      " 77%|████████████████████████████████████████████████████████████▋                  | 699/910 [04:18<00:01, 139.36it/s]"
     ]
    },
    {
     "name": "stdout",
     "output_type": "stream",
     "text": [
      "../../Processed Data/10K10Q/Data_10Q/item3_104169_2013-12-06.txt already exists\n",
      "../../Processed Data/10K10Q/Data_10Q/item3_104169_2012-06-01.txt already exists\n",
      "../../Processed Data/10K10Q/Data_10Q/item3_104169_2014-12-01.txt already exists\n",
      "../../Processed Data/10K10Q/Data_10Q/item3_104169_2019-09-06.txt already exists\n",
      "../../Processed Data/10K10Q/Data_10Q/item3_104169_2011-06-03.txt already exists\n",
      "../../Processed Data/10K10Q/Data_10Q/item3_104169_2015-12-02.txt already exists\n",
      "../../Processed Data/10K10Q/Data_10Q/item3_104169_2015-09-09.txt already exists\n",
      "../../Processed Data/10K10Q/Data_10Q/item3_104169_2011-09-01.txt already exists\n",
      "../../Processed Data/10K10Q/Data_10Q/item3_104169_2016-08-31.txt already exists\n",
      "../../Processed Data/10K10Q/Data_10Q/item3_104169_2016-06-03.txt already exists\n",
      "../../Processed Data/10K10Q/Data_10Q/item3_104169_2016-12-01.txt already exists\n",
      "../../Processed Data/10K10Q/Data_10Q/item3_104169_2012-12-04.txt already exists\n",
      "../../Processed Data/10K10Q/Data_10Q/item3_66740_2016-08-02.txt already exists\n",
      "../../Processed Data/10K10Q/Data_10Q/item3_66740_2019-10-25.txt already exists\n",
      "../../Processed Data/10K10Q/Data_10Q/item3_66740_2019-04-26.txt already exists\n",
      "../../Processed Data/10K10Q/Data_10Q/item3_66740_2017-10-31.txt already exists\n",
      "../../Processed Data/10K10Q/Data_10Q/item3_66740_2011-08-04.txt already exists\n",
      "../../Processed Data/10K10Q/Data_10Q/item3_66740_2011-11-03.txt already exists\n"
     ]
    },
    {
     "name": "stderr",
     "output_type": "stream",
     "text": [
      "\r",
      " 79%|██████████████████████████████████████████████████████████████▏                | 717/910 [04:18<00:01, 137.51it/s]"
     ]
    },
    {
     "name": "stdout",
     "output_type": "stream",
     "text": [
      "../../Processed Data/10K10Q/Data_10Q/item3_66740_2017-08-01.txt already exists\n",
      "../../Processed Data/10K10Q/Data_10Q/item3_66740_2017-05-03.txt already exists\n",
      "../../Processed Data/10K10Q/Data_10Q/item3_66740_2014-07-31.txt already exists\n",
      "../../Processed Data/10K10Q/Data_10Q/item3_66740_2012-05-03.txt already exists\n",
      "../../Processed Data/10K10Q/Data_10Q/item3_66740_2012-11-01.txt already exists\n",
      "../../Processed Data/10K10Q/Data_10Q/item3_66740_2019-07-26.txt already exists\n",
      "../../Processed Data/10K10Q/Data_10Q/item3_66740_2014-05-01.txt already exists\n",
      "../../Processed Data/10K10Q/Data_10Q/item3_66740_2018-05-08.txt already exists\n",
      "../../Processed Data/10K10Q/Data_10Q/item3_66740_2010-05-05.txt already exists\n",
      "../../Processed Data/10K10Q/Data_10Q/item3_66740_2012-08-02.txt already exists\n",
      "../../Processed Data/10K10Q/Data_10Q/item3_66740_2015-04-30.txt already exists\n",
      "../../Processed Data/10K10Q/Data_10Q/item3_66740_2010-08-04.txt already exists\n",
      "../../Processed Data/10K10Q/Data_10Q/item3_66740_2010-11-05.txt already exists\n",
      "../../Processed Data/10K10Q/Data_10Q/item3_66740_2013-10-31.txt already exists\n",
      "../../Processed Data/10K10Q/Data_10Q/item3_66740_2015-10-29.txt already exists\n",
      "../../Processed Data/10K10Q/Data_10Q/item3_66740_2018-10-25.txt already exists\n",
      "../../Processed Data/10K10Q/Data_10Q/item3_66740_2015-07-30.txt already exists\n",
      "../../Processed Data/10K10Q/Data_10Q/item3_66740_2018-07-26.txt already exists\n",
      "../../Processed Data/10K10Q/Data_10Q/item3_66740_2013-08-01.txt already exists\n"
     ]
    },
    {
     "name": "stderr",
     "output_type": "stream",
     "text": [
      "\r",
      " 81%|███████████████████████████████████████████████████████████████▉               | 736/910 [04:18<00:01, 148.82it/s]"
     ]
    },
    {
     "name": "stdout",
     "output_type": "stream",
     "text": [
      "../../Processed Data/10K10Q/Data_10Q/item3_66740_2011-05-05.txt already exists\n",
      "../../Processed Data/10K10Q/Data_10Q/item3_66740_2016-05-03.txt already exists\n",
      "../../Processed Data/10K10Q/Data_10Q/item3_66740_2016-11-01.txt already exists\n",
      "../../Processed Data/10K10Q/Data_10Q/item3_66740_2013-05-02.txt already exists\n",
      "../../Processed Data/10K10Q/Data_10Q/item3_66740_2014-10-30.txt already exists\n",
      "../../Processed Data/10K10Q/Data_10Q/item3_1618921_2017-01-05.txt already exists\n",
      "../../Processed Data/10K10Q/Data_10Q/item3_1618921_2018-03-28.txt already exists\n",
      "../../Processed Data/10K10Q/Data_10Q/item3_1618921_2020-01-08.txt already exists\n",
      "../../Processed Data/10K10Q/Data_10Q/item3_1618921_2014-12-30.txt already exists\n",
      "../../Processed Data/10K10Q/Data_10Q/item3_1618921_2016-04-05.txt already exists\n",
      "../../Processed Data/10K10Q/Data_10Q/item3_1618921_2018-01-04.txt already exists\n",
      "../../Processed Data/10K10Q/Data_10Q/item3_1618921_2016-01-07.txt already exists\n",
      "../../Processed Data/10K10Q/Data_10Q/item3_1618921_2019-04-02.txt already exists\n",
      "../../Processed Data/10K10Q/Data_10Q/item3_1618921_2017-06-29.txt already exists\n",
      "../../Processed Data/10K10Q/Data_10Q/item3_1618921_2018-12-20.txt already exists\n",
      "../../Processed Data/10K10Q/Data_10Q/item3_1618921_2019-06-27.txt already exists\n",
      "../../Processed Data/10K10Q/Data_10Q/item3_1618921_2015-04-09.txt already exists\n"
     ]
    },
    {
     "name": "stderr",
     "output_type": "stream",
     "text": [
      "\r",
      " 83%|█████████████████████████████████████████████████████████████████▎             | 753/910 [04:18<00:01, 139.96it/s]"
     ]
    },
    {
     "name": "stdout",
     "output_type": "stream",
     "text": [
      "../../Processed Data/10K10Q/Data_10Q/item3_1618921_2018-06-28.txt already exists\n",
      "../../Processed Data/10K10Q/Data_10Q/item3_1618921_2015-07-09.txt already exists\n",
      "../../Processed Data/10K10Q/Data_10Q/item3_1618921_2016-07-06.txt already exists\n",
      "../../Processed Data/10K10Q/Data_10Q/item3_1618921_2017-04-05.txt already exists\n",
      "../../Processed Data/10K10Q/Data_10Q/item3_93410_2017-05-04.txt already exists\n",
      "../../Processed Data/10K10Q/Data_10Q/item3_93410_2016-11-03.txt already exists\n",
      "../../Processed Data/10K10Q/Data_10Q/item3_93410_2011-08-04.txt already exists\n",
      "../../Processed Data/10K10Q/Data_10Q/item3_93410_2018-05-03.txt already exists\n",
      "../../Processed Data/10K10Q/Data_10Q/item3_93410_2012-11-06.txt already exists\n",
      "../../Processed Data/10K10Q/Data_10Q/item3_93410_2013-11-08.txt already exists\n",
      "../../Processed Data/10K10Q/Data_10Q/item3_93410_2015-11-06.txt already exists\n",
      "../../Processed Data/10K10Q/Data_10Q/item3_93410_2010-05-05.txt already exists\n",
      "../../Processed Data/10K10Q/Data_10Q/item3_93410_2012-05-03.txt already exists\n",
      "../../Processed Data/10K10Q/Data_10Q/item3_93410_2016-08-04.txt already exists\n",
      "../../Processed Data/10K10Q/Data_10Q/item3_93410_2011-11-03.txt already exists\n"
     ]
    },
    {
     "name": "stderr",
     "output_type": "stream",
     "text": [
      "\r",
      " 85%|██████████████████████████████████████████████████████████████████▊            | 769/910 [04:18<00:00, 141.88it/s]"
     ]
    },
    {
     "name": "stdout",
     "output_type": "stream",
     "text": [
      "../../Processed Data/10K10Q/Data_10Q/item3_93410_2010-11-05.txt already exists\n",
      "../../Processed Data/10K10Q/Data_10Q/item3_93410_2018-11-08.txt already exists\n",
      "../../Processed Data/10K10Q/Data_10Q/item3_93410_2016-05-05.txt already exists\n",
      "../../Processed Data/10K10Q/Data_10Q/item3_93410_2017-11-02.txt already exists\n",
      "../../Processed Data/10K10Q/Data_10Q/item3_93410_2010-08-05.txt already exists\n",
      "../../Processed Data/10K10Q/Data_10Q/item3_93410_2015-08-05.txt already exists\n",
      "../../Processed Data/10K10Q/Data_10Q/item3_93410_2019-05-02.txt already exists\n",
      "../../Processed Data/10K10Q/Data_10Q/item3_93410_2015-05-07.txt already exists\n",
      "../../Processed Data/10K10Q/Data_10Q/item3_93410_2012-08-02.txt already exists\n",
      "../../Processed Data/10K10Q/Data_10Q/item3_93410_2014-05-02.txt already exists\n",
      "../../Processed Data/10K10Q/Data_10Q/item3_93410_2013-08-07.txt already exists\n",
      "../../Processed Data/10K10Q/Data_10Q/item3_93410_2017-08-03.txt already exists\n",
      "../../Processed Data/10K10Q/Data_10Q/item3_93410_2019-11-07.txt already exists\n",
      "../../Processed Data/10K10Q/Data_10Q/item3_93410_2013-05-02.txt already exists\n",
      "../../Processed Data/10K10Q/Data_10Q/item3_93410_2018-08-02.txt already exists\n"
     ]
    },
    {
     "name": "stderr",
     "output_type": "stream",
     "text": [
      "\r",
      " 86%|████████████████████████████████████████████████████████████████████▏          | 786/910 [04:18<00:00, 147.49it/s]"
     ]
    },
    {
     "name": "stdout",
     "output_type": "stream",
     "text": [
      "../../Processed Data/10K10Q/Data_10Q/item3_93410_2019-08-07.txt already exists\n",
      "../../Processed Data/10K10Q/Data_10Q/item3_93410_2014-11-07.txt already exists\n",
      "../../Processed Data/10K10Q/Data_10Q/item3_93410_2011-05-05.txt already exists\n",
      "../../Processed Data/10K10Q/Data_10Q/item3_93410_2014-08-06.txt already exists\n",
      "../../Processed Data/10K10Q/Data_10Q/item3_19617_2010-05-10.txt already exists\n",
      "../../Processed Data/10K10Q/Data_10Q/item3_19617_2013-08-07.txt already exists\n",
      "../../Processed Data/10K10Q/Data_10Q/item3_19617_2014-05-02.txt already exists\n",
      "../../Processed Data/10K10Q/Data_10Q/item3_19617_2016-04-29.txt already exists\n",
      "../../Processed Data/10K10Q/Data_10Q/item3_19617_2019-05-02.txt already exists\n",
      "../../Processed Data/10K10Q/Data_10Q/item3_19617_2010-11-09.txt already exists\n",
      "../../Processed Data/10K10Q/Data_10Q/item3_19617_2013-05-08.txt already exists\n",
      "../../Processed Data/10K10Q/Data_10Q/item3_19617_2017-08-02.txt already exists\n",
      "../../Processed Data/10K10Q/Data_10Q/item3_19617_2013-11-01.txt already exists\n",
      "../../Processed Data/10K10Q/Data_10Q/item3_19617_2015-08-03.txt already exists\n",
      "../../Processed Data/10K10Q/Data_10Q/item3_19617_2012-05-10.txt already exists\n",
      "../../Processed Data/10K10Q/Data_10Q/item3_19617_2019-08-06.txt already exists\n"
     ]
    },
    {
     "name": "stderr",
     "output_type": "stream",
     "text": [
      "\r",
      " 88%|█████████████████████████████████████████████████████████████████████▌         | 802/910 [04:18<00:00, 150.23it/s]"
     ]
    },
    {
     "name": "stdout",
     "output_type": "stream",
     "text": [
      "../../Processed Data/10K10Q/Data_10Q/item3_19617_2012-11-08.txt already exists\n",
      "../../Processed Data/10K10Q/Data_10Q/item3_19617_2015-11-02.txt already exists\n",
      "../../Processed Data/10K10Q/Data_10Q/item3_19617_2012-08-09.txt already exists\n",
      "../../Processed Data/10K10Q/Data_10Q/item3_19617_2016-11-01.txt already exists\n",
      "../../Processed Data/10K10Q/Data_10Q/item3_19617_2014-08-04.txt already exists\n",
      "../../Processed Data/10K10Q/Data_10Q/item3_19617_2019-11-04.txt already exists\n",
      "../../Processed Data/10K10Q/Data_10Q/item3_19617_2011-08-05.txt already exists\n",
      "../../Processed Data/10K10Q/Data_10Q/item3_19617_2018-08-01.txt already exists\n",
      "../../Processed Data/10K10Q/Data_10Q/item3_19617_2011-11-04.txt already exists\n",
      "../../Processed Data/10K10Q/Data_10Q/item3_19617_2011-05-06.txt already exists\n",
      "../../Processed Data/10K10Q/Data_10Q/item3_19617_2016-08-03.txt already exists\n",
      "../../Processed Data/10K10Q/Data_10Q/item3_19617_2018-05-02.txt already exists\n",
      "../../Processed Data/10K10Q/Data_10Q/item3_19617_2015-05-05.txt already exists\n",
      "../../Processed Data/10K10Q/Data_10Q/item3_19617_2017-11-01.txt already exists\n",
      "../../Processed Data/10K10Q/Data_10Q/item3_19617_2010-08-06.txt already exists\n",
      "../../Processed Data/10K10Q/Data_10Q/item3_19617_2017-05-02.txt already exists\n"
     ]
    },
    {
     "name": "stderr",
     "output_type": "stream",
     "text": [
      "\r",
      " 90%|███████████████████████████████████████████████████████████████████████        | 818/910 [04:18<00:00, 143.36it/s]"
     ]
    },
    {
     "name": "stdout",
     "output_type": "stream",
     "text": [
      "../../Processed Data/10K10Q/Data_10Q/item3_19617_2014-11-03.txt already exists\n",
      "../../Processed Data/10K10Q/Data_10Q/item3_19617_2018-10-31.txt already exists\n",
      "../../Processed Data/10K10Q/Data_10Q/item3_101829_2015-10-23.txt already exists\n",
      "../../Processed Data/10K10Q/Data_10Q/item3_101829_2010-07-26.txt already exists\n",
      "../../Processed Data/10K10Q/Data_10Q/item3_101829_2011-04-25.txt already exists\n",
      "../../Processed Data/10K10Q/Data_10Q/item3_101829_2018-07-27.txt already exists\n",
      "../../Processed Data/10K10Q/Data_10Q/item3_101829_2012-04-30.txt already exists\n",
      "../../Processed Data/10K10Q/Data_10Q/item3_101829_2016-07-29.txt already exists\n",
      "../../Processed Data/10K10Q/Data_10Q/item3_101829_2014-04-25.txt already exists\n",
      "../../Processed Data/10K10Q/Data_10Q/item3_101829_2012-07-30.txt already exists\n",
      "../../Processed Data/10K10Q/Data_10Q/item3_101829_2018-04-27.txt already exists\n",
      "../../Processed Data/10K10Q/Data_10Q/item3_101829_2011-07-25.txt already exists\n",
      "../../Processed Data/10K10Q/Data_10Q/item3_101829_2010-04-26.txt already exists\n",
      "../../Processed Data/10K10Q/Data_10Q/item3_101829_2010-10-25.txt already exists\n",
      "../../Processed Data/10K10Q/Data_10Q/item3_101829_2016-04-29.txt already exists\n",
      "../../Processed Data/10K10Q/Data_10Q/item3_101829_2014-07-25.txt already exists\n",
      "../../Processed Data/10K10Q/Data_10Q/item3_101829_2016-10-27.txt already exists\n"
     ]
    },
    {
     "name": "stderr",
     "output_type": "stream",
     "text": [
      "\r",
      " 92%|████████████████████████████████████████████████████████████████████████▍      | 835/910 [04:19<00:00, 150.40it/s]"
     ]
    },
    {
     "name": "stdout",
     "output_type": "stream",
     "text": [
      "../../Processed Data/10K10Q/Data_10Q/item3_101829_2019-07-26.txt already exists\n",
      "../../Processed Data/10K10Q/Data_10Q/item3_101829_2013-10-25.txt already exists\n",
      "../../Processed Data/10K10Q/Data_10Q/item3_101829_2015-04-24.txt already exists\n",
      "../../Processed Data/10K10Q/Data_10Q/item3_101829_2017-07-28.txt already exists\n",
      "../../Processed Data/10K10Q/Data_10Q/item3_101829_2018-10-26.txt already exists\n",
      "../../Processed Data/10K10Q/Data_10Q/item3_101829_2013-04-26.txt already exists\n",
      "../../Processed Data/10K10Q/Data_10Q/item3_101829_2014-10-24.txt already exists\n",
      "../../Processed Data/10K10Q/Data_10Q/item3_101829_2017-10-27.txt already exists\n",
      "../../Processed Data/10K10Q/Data_10Q/item3_101829_2012-10-26.txt already exists\n",
      "../../Processed Data/10K10Q/Data_10Q/item3_101829_2019-04-26.txt already exists\n",
      "../../Processed Data/10K10Q/Data_10Q/item3_101829_2013-07-26.txt already exists\n",
      "../../Processed Data/10K10Q/Data_10Q/item3_101829_2019-10-25.txt already exists\n",
      "../../Processed Data/10K10Q/Data_10Q/item3_101829_2015-07-24.txt already exists\n",
      "../../Processed Data/10K10Q/Data_10Q/item3_101829_2017-04-28.txt already exists\n",
      "../../Processed Data/10K10Q/Data_10Q/item3_101829_2011-10-24.txt already exists\n",
      "../../Processed Data/10K10Q/Data_10Q/item3_4962_2016-07-26.txt already exists\n",
      "../../Processed Data/10K10Q/Data_10Q/item3_4962_2014-10-28.txt already exists\n",
      "../../Processed Data/10K10Q/Data_10Q/item3_4962_2015-07-29.txt already exists\n"
     ]
    },
    {
     "name": "stderr",
     "output_type": "stream",
     "text": [
      "\r",
      " 94%|██████████████████████████████████████████████████████████████████████████     | 853/910 [04:19<00:00, 154.69it/s]"
     ]
    },
    {
     "name": "stdout",
     "output_type": "stream",
     "text": [
      "../../Processed Data/10K10Q/Data_10Q/item3_4962_2018-07-24.txt already exists\n",
      "../../Processed Data/10K10Q/Data_10Q/item3_4962_2012-10-31.txt already exists\n",
      "../../Processed Data/10K10Q/Data_10Q/item3_4962_2013-10-29.txt already exists\n",
      "../../Processed Data/10K10Q/Data_10Q/item3_4962_2014-07-30.txt already exists\n",
      "../../Processed Data/10K10Q/Data_10Q/item3_4962_2011-11-02.txt already exists\n",
      "../../Processed Data/10K10Q/Data_10Q/item3_4962_2010-05-05.txt already exists\n",
      "../../Processed Data/10K10Q/Data_10Q/item3_4962_2017-07-25.txt already exists\n",
      "../../Processed Data/10K10Q/Data_10Q/item3_4962_2015-04-29.txt already exists\n",
      "../../Processed Data/10K10Q/Data_10Q/item3_4962_2018-04-25.txt already exists\n",
      "../../Processed Data/10K10Q/Data_10Q/item3_4962_2016-04-27.txt already exists\n",
      "../../Processed Data/10K10Q/Data_10Q/item3_4962_2016-10-25.txt already exists\n",
      "../../Processed Data/10K10Q/Data_10Q/item3_4962_2011-08-03.txt already exists\n",
      "../../Processed Data/10K10Q/Data_10Q/item3_4962_2013-04-29.txt already exists\n",
      "../../Processed Data/10K10Q/Data_10Q/item3_4962_2012-05-01.txt already exists\n",
      "../../Processed Data/10K10Q/Data_10Q/item3_4962_2010-08-05.txt already exists\n",
      "../../Processed Data/10K10Q/Data_10Q/item3_4962_2019-04-23.txt already exists\n"
     ]
    },
    {
     "name": "stderr",
     "output_type": "stream",
     "text": [
      "\r",
      " 95%|███████████████████████████████████████████████████████████████████████████▍   | 869/910 [04:19<00:00, 153.03it/s]"
     ]
    },
    {
     "name": "stdout",
     "output_type": "stream",
     "text": [
      "../../Processed Data/10K10Q/Data_10Q/item3_4962_2012-08-02.txt already exists\n",
      "../../Processed Data/10K10Q/Data_10Q/item3_4962_2019-10-21.txt already exists\n",
      "../../Processed Data/10K10Q/Data_10Q/item3_4962_2015-10-28.txt already exists\n",
      "../../Processed Data/10K10Q/Data_10Q/item3_4962_2018-10-23.txt already exists\n",
      "../../Processed Data/10K10Q/Data_10Q/item3_4962_2010-11-03.txt already exists\n",
      "../../Processed Data/10K10Q/Data_10Q/item3_4962_2011-05-04.txt already exists\n",
      "../../Processed Data/10K10Q/Data_10Q/item3_4962_2017-04-27.txt already exists\n",
      "../../Processed Data/10K10Q/Data_10Q/item3_4962_2013-07-29.txt already exists\n",
      "../../Processed Data/10K10Q/Data_10Q/item3_4962_2017-10-24.txt already exists\n",
      "../../Processed Data/10K10Q/Data_10Q/item3_4962_2014-04-29.txt already exists\n",
      "../../Processed Data/10K10Q/Data_10Q/item3_4962_2019-07-23.txt already exists\n",
      "../../Processed Data/10K10Q/Data_10Q/item3_34088_2012-05-03.txt already exists\n",
      "../../Processed Data/10K10Q/Data_10Q/item3_34088_2013-11-05.txt already exists\n",
      "../../Processed Data/10K10Q/Data_10Q/item3_34088_2018-11-07.txt already exists\n",
      "../../Processed Data/10K10Q/Data_10Q/item3_34088_2017-05-03.txt already exists\n",
      "../../Processed Data/10K10Q/Data_10Q/item3_34088_2017-11-01.txt already exists\n"
     ]
    },
    {
     "name": "stderr",
     "output_type": "stream",
     "text": [
      "\r",
      " 97%|████████████████████████████████████████████████████████████████████████████▊  | 885/910 [04:19<00:00, 154.74it/s]"
     ]
    },
    {
     "name": "stdout",
     "output_type": "stream",
     "text": [
      "../../Processed Data/10K10Q/Data_10Q/item3_34088_2011-11-03.txt already exists\n",
      "../../Processed Data/10K10Q/Data_10Q/item3_34088_2011-08-04.txt already exists\n",
      "../../Processed Data/10K10Q/Data_10Q/item3_34088_2016-11-03.txt already exists\n",
      "../../Processed Data/10K10Q/Data_10Q/item3_34088_2016-08-03.txt already exists\n",
      "../../Processed Data/10K10Q/Data_10Q/item3_34088_2014-05-07.txt already exists\n",
      "../../Processed Data/10K10Q/Data_10Q/item3_34088_2014-11-05.txt already exists\n",
      "../../Processed Data/10K10Q/Data_10Q/item3_34088_2018-05-03.txt already exists\n",
      "../../Processed Data/10K10Q/Data_10Q/item3_34088_2012-11-06.txt already exists\n",
      "../../Processed Data/10K10Q/Data_10Q/item3_34088_2013-05-02.txt already exists\n",
      "../../Processed Data/10K10Q/Data_10Q/item3_34088_2019-08-07.txt already exists\n",
      "../../Processed Data/10K10Q/Data_10Q/item3_34088_2018-08-02.txt already exists\n",
      "../../Processed Data/10K10Q/Data_10Q/item3_34088_2010-11-03.txt already exists\n",
      "../../Processed Data/10K10Q/Data_10Q/item3_34088_2011-05-05.txt already exists\n",
      "../../Processed Data/10K10Q/Data_10Q/item3_34088_2019-11-06.txt already exists\n",
      "../../Processed Data/10K10Q/Data_10Q/item3_34088_2014-08-06.txt already exists\n",
      "../../Processed Data/10K10Q/Data_10Q/item3_34088_2015-05-06.txt already exists\n",
      "../../Processed Data/10K10Q/Data_10Q/item3_34088_2015-11-04.txt already exists\n"
     ]
    },
    {
     "name": "stderr",
     "output_type": "stream",
     "text": [
      "\r",
      " 99%|██████████████████████████████████████████████████████████████████████████████▎| 902/910 [04:19<00:00, 157.50it/s]"
     ]
    },
    {
     "name": "stdout",
     "output_type": "stream",
     "text": [
      "../../Processed Data/10K10Q/Data_10Q/item3_34088_2013-08-06.txt already exists\n",
      "../../Processed Data/10K10Q/Data_10Q/item3_34088_2017-08-02.txt already exists\n",
      "../../Processed Data/10K10Q/Data_10Q/item3_34088_2016-05-04.txt already exists\n",
      "../../Processed Data/10K10Q/Data_10Q/item3_34088_2010-08-04.txt already exists\n",
      "../../Processed Data/10K10Q/Data_10Q/item3_34088_2019-05-02.txt already exists\n",
      "../../Processed Data/10K10Q/Data_10Q/item3_34088_2015-08-05.txt already exists\n",
      "../../Processed Data/10K10Q/Data_10Q/item3_34088_2010-05-06.txt already exists\n",
      "../../Processed Data/10K10Q/Data_10Q/item3_34088_2012-08-02.txt already exists\n"
     ]
    },
    {
     "name": "stderr",
     "output_type": "stream",
     "text": [
      "100%|████████████████████████████████████████████████████████████████████████████████| 910/910 [04:19<00:00,  3.51it/s]\n"
     ]
    }
   ],
   "source": [
    "zipped_file = \"../../Raw Data/Data_10Q.zip\"\n",
    "item_name = \"item3\"\n",
    "item_regex = \"item[\\s]*3[\\s]*[-.:\\s]*(?:quan|qual).*?item[\\s]*4[\\s]*[-.:\\s]*control\"\n",
    "save_path = \"../../Processed Data/10K10Q/Data_10Q/\"\n",
    "extract_item(zipped_file, item_name, item_regex, save_path)"
   ]
  },
  {
   "cell_type": "code",
   "execution_count": 6,
   "metadata": {
    "scrolled": true
   },
   "outputs": [
    {
     "name": "stderr",
     "output_type": "stream",
     "text": [
      "\r",
      "  0%|                                                                                          | 0/910 [00:00<?, ?it/s]"
     ]
    },
    {
     "name": "stdout",
     "output_type": "stream",
     "text": [
      "../../Processed Data/10K10Q/Data_10Q/item1a_18230_2010-07-30.txt already exists\n",
      "../../Processed Data/10K10Q/Data_10Q/item1a_18230_2013-05-02.txt already exists\n",
      "../../Processed Data/10K10Q/Data_10Q/item1a_18230_2015-07-31.txt already exists\n",
      "../../Processed Data/10K10Q/Data_10Q/item1a_18230_2012-05-07.txt already exists\n",
      "../../Processed Data/10K10Q/Data_10Q/item1a_18230_2015-05-01.txt already exists\n",
      "../../Processed Data/10K10Q/Data_10Q/item1a_18230_2019-10-31.txt already exists\n",
      "../../Processed Data/10K10Q/Data_10Q/item1a_18230_2013-11-01.txt already exists\n",
      "../../Processed Data/10K10Q/Data_10Q/item1a_18230_2014-10-31.txt already exists\n",
      "../../Processed Data/10K10Q/Data_10Q/item1a_18230_2011-05-09.txt already exists\n",
      "../../Processed Data/10K10Q/Data_10Q/item1a_18230_2016-05-02.txt already exists\n",
      "../../Processed Data/10K10Q/Data_10Q/item1a_18230_2017-08-02.txt already exists\n",
      "../../Processed Data/10K10Q/Data_10Q/item1a_18230_2019-08-01.txt already exists\n",
      "../../Processed Data/10K10Q/Data_10Q/item1a_18230_2014-08-01.txt already exists\n",
      "../../Processed Data/10K10Q/Data_10Q/item1a_18230_2012-11-02.txt already exists\n",
      "../../Processed Data/10K10Q/Data_10Q/item1a_18230_2014-05-02.txt already exists\n",
      "../../Processed Data/10K10Q/Data_10Q/item1a_18230_2010-11-04.txt already exists\n",
      "../../Processed Data/10K10Q/Data_10Q/item1a_18230_2018-10-31.txt already exists\n",
      "../../Processed Data/10K10Q/Data_10Q/item1a_18230_2017-11-01.txt already exists\n"
     ]
    },
    {
     "name": "stderr",
     "output_type": "stream",
     "text": [
      "\r",
      "  7%|█████▎                                                                          | 60/910 [00:00<00:01, 575.37it/s]"
     ]
    },
    {
     "name": "stdout",
     "output_type": "stream",
     "text": [
      "../../Processed Data/10K10Q/Data_10Q/item1a_18230_2017-05-03.txt already exists\n",
      "../../Processed Data/10K10Q/Data_10Q/item1a_18230_2015-10-30.txt already exists\n",
      "../../Processed Data/10K10Q/Data_10Q/item1a_18230_2018-08-07.txt already exists\n",
      "../../Processed Data/10K10Q/Data_10Q/item1a_18230_2018-05-02.txt already exists\n",
      "../../Processed Data/10K10Q/Data_10Q/item1a_18230_2011-08-04.txt already exists\n",
      "../../Processed Data/10K10Q/Data_10Q/item1a_18230_2013-08-02.txt already exists\n",
      "../../Processed Data/10K10Q/Data_10Q/item1a_18230_2010-05-03.txt already exists\n",
      "../../Processed Data/10K10Q/Data_10Q/item1a_18230_2011-11-04.txt already exists\n",
      "../../Processed Data/10K10Q/Data_10Q/item1a_18230_2016-08-03.txt already exists\n",
      "../../Processed Data/10K10Q/Data_10Q/item1a_18230_2012-08-06.txt already exists\n",
      "../../Processed Data/10K10Q/Data_10Q/item1a_18230_2016-11-02.txt already exists\n",
      "../../Processed Data/10K10Q/Data_10Q/item1a_18230_2019-05-06.txt already exists\n",
      "Scraping  Data_10Q/886982/886982_2014-11-05.html\n",
      "Failed\n",
      "\n",
      "\n",
      "\n",
      "Scraping  Data_10Q/886982/886982_2019-08-05.html\n"
     ]
    },
    {
     "name": "stderr",
     "output_type": "stream",
     "text": [
      "\r",
      "  7%|█████▎                                                                          | 60/910 [00:20<00:01, 575.37it/s]"
     ]
    },
    {
     "name": "stdout",
     "output_type": "stream",
     "text": [
      "Failed\n",
      "\n",
      "\n",
      "\n"
     ]
    },
    {
     "name": "stderr",
     "output_type": "stream",
     "text": [
      "\r",
      "  8%|██████▊                                                                          | 77/910 [00:26<06:30,  2.13it/s]"
     ]
    },
    {
     "name": "stdout",
     "output_type": "stream",
     "text": [
      "Scraping  Data_10Q/886982/886982_2011-05-10.html\n",
      "Failed\n",
      "\n",
      "\n",
      "\n"
     ]
    },
    {
     "name": "stderr",
     "output_type": "stream",
     "text": [
      "\r",
      "  9%|██████▉                                                                          | 78/910 [00:33<34:55,  2.52s/it]"
     ]
    },
    {
     "name": "stdout",
     "output_type": "stream",
     "text": [
      "Scraping  Data_10Q/886982/886982_2016-11-03.html\n",
      "Failed\n",
      "\n",
      "\n",
      "\n"
     ]
    },
    {
     "name": "stderr",
     "output_type": "stream",
     "text": [
      "\r",
      "  9%|███████                                                                          | 79/910 [00:40<53:26,  3.86s/it]"
     ]
    },
    {
     "name": "stdout",
     "output_type": "stream",
     "text": [
      "Scraping  Data_10Q/886982/886982_2017-05-04.html\n",
      "Failed\n",
      "\n",
      "\n",
      "\n"
     ]
    },
    {
     "name": "stderr",
     "output_type": "stream",
     "text": [
      "\r",
      "  9%|██████▉                                                                        | 80/910 [00:46<1:02:30,  4.52s/it]"
     ]
    },
    {
     "name": "stdout",
     "output_type": "stream",
     "text": [
      "Scraping  Data_10Q/886982/886982_2011-11-09.html\n",
      "Failed\n",
      "\n",
      "\n",
      "\n"
     ]
    },
    {
     "name": "stderr",
     "output_type": "stream",
     "text": [
      "\r",
      "  9%|███████                                                                        | 81/910 [00:54<1:16:00,  5.50s/it]"
     ]
    },
    {
     "name": "stdout",
     "output_type": "stream",
     "text": [
      "Scraping  Data_10Q/886982/886982_2019-05-06.html\n",
      "Failed\n",
      "\n",
      "\n",
      "\n"
     ]
    },
    {
     "name": "stderr",
     "output_type": "stream",
     "text": [
      "\r",
      "  9%|███████                                                                        | 82/910 [01:00<1:17:58,  5.65s/it]"
     ]
    },
    {
     "name": "stdout",
     "output_type": "stream",
     "text": [
      "Scraping  Data_10Q/886982/886982_2011-08-09.html\n",
      "Failed\n",
      "\n",
      "\n",
      "\n"
     ]
    },
    {
     "name": "stderr",
     "output_type": "stream",
     "text": [
      "\r",
      "  9%|███████▏                                                                       | 83/910 [01:09<1:30:19,  6.55s/it]"
     ]
    },
    {
     "name": "stdout",
     "output_type": "stream",
     "text": [
      "Scraping  Data_10Q/886982/886982_2013-08-08.html\n",
      "Failed\n",
      "\n",
      "\n",
      "\n"
     ]
    },
    {
     "name": "stderr",
     "output_type": "stream",
     "text": [
      "\r",
      "  9%|███████▎                                                                       | 84/910 [01:20<1:47:11,  7.79s/it]"
     ]
    },
    {
     "name": "stdout",
     "output_type": "stream",
     "text": [
      "Scraping  Data_10Q/886982/886982_2018-05-04.html\n",
      "Failed\n",
      "\n",
      "\n",
      "\n"
     ]
    },
    {
     "name": "stderr",
     "output_type": "stream",
     "text": [
      "\r",
      "  9%|███████▍                                                                       | 85/910 [01:26<1:41:17,  7.37s/it]"
     ]
    },
    {
     "name": "stdout",
     "output_type": "stream",
     "text": [
      "Scraping  Data_10Q/886982/886982_2016-08-04.html\n",
      "Failed\n",
      "\n",
      "\n",
      "\n"
     ]
    },
    {
     "name": "stderr",
     "output_type": "stream",
     "text": [
      "\r",
      "  9%|███████▍                                                                       | 86/910 [01:34<1:42:58,  7.50s/it]"
     ]
    },
    {
     "name": "stdout",
     "output_type": "stream",
     "text": [
      "Scraping  Data_10Q/886982/886982_2015-05-05.html\n",
      "Failed\n",
      "\n",
      "\n",
      "\n"
     ]
    },
    {
     "name": "stderr",
     "output_type": "stream",
     "text": [
      "\r",
      " 10%|███████▌                                                                       | 87/910 [01:41<1:42:54,  7.50s/it]"
     ]
    },
    {
     "name": "stdout",
     "output_type": "stream",
     "text": [
      "Scraping  Data_10Q/886982/886982_2016-05-06.html\n",
      "Failed\n",
      "\n",
      "\n",
      "\n"
     ]
    },
    {
     "name": "stderr",
     "output_type": "stream",
     "text": [
      "\r",
      " 10%|███████▋                                                                       | 88/910 [01:48<1:38:09,  7.16s/it]"
     ]
    },
    {
     "name": "stdout",
     "output_type": "stream",
     "text": [
      "Scraping  Data_10Q/886982/886982_2010-11-09.html\n",
      "Failed\n",
      "\n",
      "\n",
      "\n"
     ]
    },
    {
     "name": "stderr",
     "output_type": "stream",
     "text": [
      "\r",
      " 10%|███████▋                                                                       | 89/910 [01:54<1:33:02,  6.80s/it]"
     ]
    },
    {
     "name": "stdout",
     "output_type": "stream",
     "text": [
      "Scraping  Data_10Q/886982/886982_2019-11-01.html\n",
      "Failed\n",
      "\n",
      "\n",
      "\n"
     ]
    },
    {
     "name": "stderr",
     "output_type": "stream",
     "text": [
      "\r",
      " 10%|███████▊                                                                       | 90/910 [02:07<1:59:35,  8.75s/it]"
     ]
    },
    {
     "name": "stdout",
     "output_type": "stream",
     "text": [
      "Scraping  Data_10Q/886982/886982_2010-08-09.html\n",
      "Failed\n",
      "\n",
      "\n",
      "\n"
     ]
    },
    {
     "name": "stderr",
     "output_type": "stream",
     "text": [
      "\r",
      " 10%|███████▉                                                                       | 91/910 [02:13<1:48:31,  7.95s/it]"
     ]
    },
    {
     "name": "stdout",
     "output_type": "stream",
     "text": [
      "Scraping  Data_10Q/886982/886982_2013-05-09.html\n",
      "Failed\n",
      "\n",
      "\n",
      "\n"
     ]
    },
    {
     "name": "stderr",
     "output_type": "stream",
     "text": [
      "\r",
      " 10%|███████▉                                                                       | 92/910 [02:23<1:55:30,  8.47s/it]"
     ]
    },
    {
     "name": "stdout",
     "output_type": "stream",
     "text": [
      "Scraping  Data_10Q/886982/886982_2010-05-10.html\n",
      "Failed\n",
      "\n",
      "\n",
      "\n"
     ]
    },
    {
     "name": "stderr",
     "output_type": "stream",
     "text": [
      "\r",
      " 10%|████████                                                                       | 93/910 [02:28<1:40:43,  7.40s/it]"
     ]
    },
    {
     "name": "stdout",
     "output_type": "stream",
     "text": [
      "Scraping  Data_10Q/886982/886982_2013-11-07.html\n",
      "Failed\n",
      "\n",
      "\n",
      "\n"
     ]
    },
    {
     "name": "stderr",
     "output_type": "stream",
     "text": [
      "\r",
      " 10%|████████▏                                                                      | 94/910 [02:38<1:51:19,  8.19s/it]"
     ]
    },
    {
     "name": "stdout",
     "output_type": "stream",
     "text": [
      "Scraping  Data_10Q/886982/886982_2017-11-03.html\n",
      "Failed\n",
      "\n",
      "\n",
      "\n"
     ]
    },
    {
     "name": "stderr",
     "output_type": "stream",
     "text": [
      "\r",
      " 10%|████████▏                                                                      | 95/910 [02:45<1:48:35,  7.99s/it]"
     ]
    },
    {
     "name": "stdout",
     "output_type": "stream",
     "text": [
      "Scraping  Data_10Q/886982/886982_2017-08-04.html\n",
      "Failed\n",
      "\n",
      "\n",
      "\n"
     ]
    },
    {
     "name": "stderr",
     "output_type": "stream",
     "text": [
      "\r",
      " 11%|████████▎                                                                      | 96/910 [02:53<1:48:05,  7.97s/it]"
     ]
    },
    {
     "name": "stdout",
     "output_type": "stream",
     "text": [
      "Scraping  Data_10Q/886982/886982_2018-11-02.html\n",
      "Failed\n",
      "\n",
      "\n",
      "\n"
     ]
    },
    {
     "name": "stderr",
     "output_type": "stream",
     "text": [
      "\r",
      " 11%|████████▍                                                                      | 97/910 [03:01<1:46:07,  7.83s/it]"
     ]
    },
    {
     "name": "stdout",
     "output_type": "stream",
     "text": [
      "Scraping  Data_10Q/886982/886982_2012-08-09.html\n",
      "Failed\n",
      "\n",
      "\n",
      "\n"
     ]
    },
    {
     "name": "stderr",
     "output_type": "stream",
     "text": [
      "\r",
      " 11%|████████▌                                                                      | 98/910 [03:09<1:46:50,  7.89s/it]"
     ]
    },
    {
     "name": "stdout",
     "output_type": "stream",
     "text": [
      "Scraping  Data_10Q/886982/886982_2014-08-07.html\n",
      "Failed\n",
      "\n",
      "\n",
      "\n"
     ]
    },
    {
     "name": "stderr",
     "output_type": "stream",
     "text": [
      "\r",
      " 11%|████████▌                                                                      | 99/910 [03:18<1:52:09,  8.30s/it]"
     ]
    },
    {
     "name": "stdout",
     "output_type": "stream",
     "text": [
      "Scraping  Data_10Q/886982/886982_2014-05-09.html\n",
      "Failed\n",
      "\n",
      "\n",
      "\n"
     ]
    },
    {
     "name": "stderr",
     "output_type": "stream",
     "text": [
      "\r",
      " 11%|████████▌                                                                     | 100/910 [03:27<1:55:06,  8.53s/it]"
     ]
    },
    {
     "name": "stdout",
     "output_type": "stream",
     "text": [
      "Scraping  Data_10Q/886982/886982_2012-05-10.html\n",
      "Failed\n",
      "\n",
      "\n",
      "\n"
     ]
    },
    {
     "name": "stderr",
     "output_type": "stream",
     "text": [
      "\r",
      " 11%|████████▋                                                                     | 101/910 [03:34<1:48:32,  8.05s/it]"
     ]
    },
    {
     "name": "stdout",
     "output_type": "stream",
     "text": [
      "Scraping  Data_10Q/886982/886982_2015-08-03.html\n",
      "Failed\n",
      "\n",
      "\n",
      "\n"
     ]
    },
    {
     "name": "stderr",
     "output_type": "stream",
     "text": [
      "\r",
      " 11%|████████▋                                                                     | 102/910 [03:42<1:48:24,  8.05s/it]"
     ]
    },
    {
     "name": "stdout",
     "output_type": "stream",
     "text": [
      "Scraping  Data_10Q/886982/886982_2015-11-03.html\n",
      "Failed\n",
      "\n",
      "\n",
      "\n"
     ]
    },
    {
     "name": "stderr",
     "output_type": "stream",
     "text": [
      "\r",
      " 11%|████████▊                                                                     | 103/910 [03:49<1:44:01,  7.73s/it]"
     ]
    },
    {
     "name": "stdout",
     "output_type": "stream",
     "text": [
      "Scraping  Data_10Q/886982/886982_2012-11-08.html\n",
      "Failed\n",
      "\n",
      "\n",
      "\n"
     ]
    },
    {
     "name": "stderr",
     "output_type": "stream",
     "text": [
      "\r",
      " 11%|████████▉                                                                     | 104/910 [03:58<1:50:15,  8.21s/it]"
     ]
    },
    {
     "name": "stdout",
     "output_type": "stream",
     "text": [
      "Scraping  Data_10Q/886982/886982_2018-08-03.html\n",
      "Failed\n",
      "\n",
      "\n",
      "\n"
     ]
    },
    {
     "name": "stderr",
     "output_type": "stream",
     "text": [
      "\r",
      " 12%|█████████                                                                     | 105/910 [04:06<1:49:29,  8.16s/it]"
     ]
    },
    {
     "name": "stdout",
     "output_type": "stream",
     "text": [
      "../../Processed Data/10K10Q/Data_10Q/item1a_320193_2018-02-02.txt already exists\n",
      "../../Processed Data/10K10Q/Data_10Q/item1a_320193_2010-01-25.txt already exists\n",
      "../../Processed Data/10K10Q/Data_10Q/item1a_320193_2017-08-02.txt already exists\n",
      "../../Processed Data/10K10Q/Data_10Q/item1a_320193_2015-01-28.txt already exists\n",
      "../../Processed Data/10K10Q/Data_10Q/item1a_320193_2016-01-27.txt already exists\n",
      "../../Processed Data/10K10Q/Data_10Q/item1a_320193_2013-04-24.txt already exists\n",
      "../../Processed Data/10K10Q/Data_10Q/item1a_320193_2010-07-21.txt already exists\n",
      "../../Processed Data/10K10Q/Data_10Q/item1a_320193_2012-01-25.txt already exists\n"
     ]
    },
    {
     "name": "stderr",
     "output_type": "stream",
     "text": [
      "\r",
      " 12%|█████████▋                                                                    | 113/910 [04:06<1:15:56,  5.72s/it]"
     ]
    },
    {
     "name": "stdout",
     "output_type": "stream",
     "text": [
      "../../Processed Data/10K10Q/Data_10Q/item1a_320193_2014-04-24.txt already exists\n",
      "../../Processed Data/10K10Q/Data_10Q/item1a_320193_2014-07-23.txt already exists\n",
      "../../Processed Data/10K10Q/Data_10Q/item1a_320193_2020-01-29.txt already exists\n",
      "../../Processed Data/10K10Q/Data_10Q/item1a_320193_2010-04-21.txt already exists\n",
      "../../Processed Data/10K10Q/Data_10Q/item1a_320193_2013-07-24.txt already exists\n",
      "../../Processed Data/10K10Q/Data_10Q/item1a_320193_2019-01-30.txt already exists\n",
      "../../Processed Data/10K10Q/Data_10Q/item1a_320193_2018-05-02.txt already exists\n",
      "../../Processed Data/10K10Q/Data_10Q/item1a_320193_2011-07-20.txt already exists\n",
      "../../Processed Data/10K10Q/Data_10Q/item1a_320193_2017-02-01.txt already exists\n",
      "../../Processed Data/10K10Q/Data_10Q/item1a_320193_2014-01-28.txt already exists\n",
      "../../Processed Data/10K10Q/Data_10Q/item1a_320193_2016-07-27.txt already exists\n",
      "../../Processed Data/10K10Q/Data_10Q/item1a_320193_2018-08-01.txt already exists\n",
      "Scraping  Data_10Q/320193/320193_2012-04-25.html\n",
      "Failed\n",
      "\n",
      "\n",
      "\n"
     ]
    },
    {
     "name": "stderr",
     "output_type": "stream",
     "text": [
      "\r",
      " 14%|███████████                                                                     | 126/910 [04:08<52:46,  4.04s/it]"
     ]
    },
    {
     "name": "stdout",
     "output_type": "stream",
     "text": [
      "../../Processed Data/10K10Q/Data_10Q/item1a_320193_2019-05-01.txt already exists\n",
      "../../Processed Data/10K10Q/Data_10Q/item1a_320193_2011-04-21.txt already exists\n",
      "../../Processed Data/10K10Q/Data_10Q/item1a_320193_2013-01-24.txt already exists\n",
      "../../Processed Data/10K10Q/Data_10Q/item1a_320193_2016-04-27.txt already exists\n",
      "Scraping  Data_10Q/320193/320193_2012-07-25.html\n",
      "Failed\n",
      "\n",
      "\n",
      "\n"
     ]
    },
    {
     "name": "stderr",
     "output_type": "stream",
     "text": [
      "\r",
      " 14%|███████████▌                                                                    | 131/910 [04:09<37:37,  2.90s/it]"
     ]
    },
    {
     "name": "stdout",
     "output_type": "stream",
     "text": [
      "../../Processed Data/10K10Q/Data_10Q/item1a_320193_2015-04-28.txt already exists\n",
      "../../Processed Data/10K10Q/Data_10Q/item1a_320193_2019-07-31.txt already exists\n",
      "../../Processed Data/10K10Q/Data_10Q/item1a_320193_2011-01-19.txt already exists\n",
      "../../Processed Data/10K10Q/Data_10Q/item1a_320193_2017-05-03.txt already exists\n",
      "../../Processed Data/10K10Q/Data_10Q/item1a_320193_2015-07-22.txt already exists\n",
      "../../Processed Data/10K10Q/Data_10Q/item1a_310158_2011-05-09.txt already exists\n",
      "../../Processed Data/10K10Q/Data_10Q/item1a_310158_2014-05-08.txt already exists\n",
      "../../Processed Data/10K10Q/Data_10Q/item1a_310158_2019-08-06.txt already exists\n",
      "../../Processed Data/10K10Q/Data_10Q/item1a_310158_2019-05-08.txt already exists\n",
      "../../Processed Data/10K10Q/Data_10Q/item1a_310158_2014-11-10.txt already exists\n",
      "../../Processed Data/10K10Q/Data_10Q/item1a_310158_2012-11-09.txt already exists\n",
      "../../Processed Data/10K10Q/Data_10Q/item1a_310158_2014-08-07.txt already exists\n"
     ]
    },
    {
     "name": "stderr",
     "output_type": "stream",
     "text": [
      "\r",
      " 16%|████████████▌                                                                   | 143/910 [04:09<25:57,  2.03s/it]"
     ]
    },
    {
     "name": "stdout",
     "output_type": "stream",
     "text": [
      "../../Processed Data/10K10Q/Data_10Q/item1a_310158_2017-08-08.txt already exists\n",
      "../../Processed Data/10K10Q/Data_10Q/item1a_310158_2015-05-07.txt already exists\n",
      "../../Processed Data/10K10Q/Data_10Q/item1a_310158_2013-08-07.txt already exists\n",
      "../../Processed Data/10K10Q/Data_10Q/item1a_310158_2013-05-09.txt already exists\n",
      "../../Processed Data/10K10Q/Data_10Q/item1a_310158_2015-11-05.txt already exists\n",
      "../../Processed Data/10K10Q/Data_10Q/item1a_310158_2010-11-08.txt already exists\n",
      "../../Processed Data/10K10Q/Data_10Q/item1a_310158_2013-11-07.txt already exists\n",
      "../../Processed Data/10K10Q/Data_10Q/item1a_310158_2016-11-07.txt already exists\n",
      "../../Processed Data/10K10Q/Data_10Q/item1a_310158_2016-05-09.txt already exists\n",
      "../../Processed Data/10K10Q/Data_10Q/item1a_310158_2010-05-07.txt already exists\n",
      "../../Processed Data/10K10Q/Data_10Q/item1a_310158_2018-08-07.txt already exists\n",
      "../../Processed Data/10K10Q/Data_10Q/item1a_310158_2016-08-08.txt already exists\n",
      "../../Processed Data/10K10Q/Data_10Q/item1a_310158_2010-08-06.txt already exists\n",
      "../../Processed Data/10K10Q/Data_10Q/item1a_310158_2018-11-06.txt already exists\n",
      "../../Processed Data/10K10Q/Data_10Q/item1a_310158_2015-08-06.txt already exists\n",
      "../../Processed Data/10K10Q/Data_10Q/item1a_310158_2018-05-08.txt already exists\n",
      "../../Processed Data/10K10Q/Data_10Q/item1a_310158_2017-11-07.txt already exists\n"
     ]
    },
    {
     "name": "stderr",
     "output_type": "stream",
     "text": [
      "\r",
      " 18%|██████████████                                                                  | 160/910 [04:09<17:47,  1.42s/it]"
     ]
    },
    {
     "name": "stdout",
     "output_type": "stream",
     "text": [
      "../../Processed Data/10K10Q/Data_10Q/item1a_310158_2012-05-08.txt already exists\n",
      "../../Processed Data/10K10Q/Data_10Q/item1a_310158_2017-05-09.txt already exists\n",
      "../../Processed Data/10K10Q/Data_10Q/item1a_310158_2011-08-08.txt already exists\n",
      "../../Processed Data/10K10Q/Data_10Q/item1a_310158_2012-08-07.txt already exists\n",
      "../../Processed Data/10K10Q/Data_10Q/item1a_310158_2011-11-08.txt already exists\n",
      "../../Processed Data/10K10Q/Data_10Q/item1a_310158_2019-11-05.txt already exists\n",
      "../../Processed Data/10K10Q/Data_10Q/item1a_731766_2015-05-06.txt already exists\n",
      "../../Processed Data/10K10Q/Data_10Q/item1a_731766_2018-11-08.txt already exists\n",
      "../../Processed Data/10K10Q/Data_10Q/item1a_731766_2010-08-05.txt already exists\n",
      "../../Processed Data/10K10Q/Data_10Q/item1a_731766_2018-05-07.txt already exists\n",
      "../../Processed Data/10K10Q/Data_10Q/item1a_731766_2013-11-07.txt already exists\n",
      "../../Processed Data/10K10Q/Data_10Q/item1a_731766_2016-05-04.txt already exists\n",
      "../../Processed Data/10K10Q/Data_10Q/item1a_731766_2015-11-05.txt already exists\n",
      "../../Processed Data/10K10Q/Data_10Q/item1a_731766_2011-05-03.txt already exists\n",
      "../../Processed Data/10K10Q/Data_10Q/item1a_731766_2017-08-04.txt already exists\n",
      "../../Processed Data/10K10Q/Data_10Q/item1a_731766_2010-11-03.txt already exists\n",
      "../../Processed Data/10K10Q/Data_10Q/item1a_731766_2019-08-07.txt already exists\n"
     ]
    },
    {
     "name": "stderr",
     "output_type": "stream",
     "text": [
      "\r",
      " 19%|███████████████▌                                                                | 177/910 [04:09<12:11,  1.00it/s]"
     ]
    },
    {
     "name": "stdout",
     "output_type": "stream",
     "text": [
      "../../Processed Data/10K10Q/Data_10Q/item1a_731766_2014-11-10.txt already exists\n",
      "../../Processed Data/10K10Q/Data_10Q/item1a_731766_2019-11-06.txt already exists\n",
      "../../Processed Data/10K10Q/Data_10Q/item1a_731766_2019-05-07.txt already exists\n",
      "../../Processed Data/10K10Q/Data_10Q/item1a_731766_2015-07-29.txt already exists\n",
      "../../Processed Data/10K10Q/Data_10Q/item1a_731766_2012-08-07.txt already exists\n",
      "../../Processed Data/10K10Q/Data_10Q/item1a_731766_2012-10-30.txt already exists\n",
      "../../Processed Data/10K10Q/Data_10Q/item1a_731766_2011-11-04.txt already exists\n",
      "../../Processed Data/10K10Q/Data_10Q/item1a_731766_2017-05-08.txt already exists\n",
      "../../Processed Data/10K10Q/Data_10Q/item1a_731766_2016-08-02.txt already exists\n",
      "../../Processed Data/10K10Q/Data_10Q/item1a_731766_2014-05-06.txt already exists\n",
      "../../Processed Data/10K10Q/Data_10Q/item1a_731766_2017-11-07.txt already exists\n",
      "../../Processed Data/10K10Q/Data_10Q/item1a_731766_2014-08-04.txt already exists\n",
      "../../Processed Data/10K10Q/Data_10Q/item1a_731766_2010-05-05.txt already exists\n",
      "../../Processed Data/10K10Q/Data_10Q/item1a_731766_2013-05-06.txt already exists\n"
     ]
    },
    {
     "name": "stderr",
     "output_type": "stream",
     "text": [
      "\r",
      " 21%|████████████████▊                                                               | 191/910 [04:10<08:24,  1.43it/s]"
     ]
    },
    {
     "name": "stdout",
     "output_type": "stream",
     "text": [
      "../../Processed Data/10K10Q/Data_10Q/item1a_731766_2012-05-03.txt already exists\n",
      "../../Processed Data/10K10Q/Data_10Q/item1a_731766_2011-08-02.txt already exists\n",
      "../../Processed Data/10K10Q/Data_10Q/item1a_731766_2016-11-08.txt already exists\n",
      "../../Processed Data/10K10Q/Data_10Q/item1a_731766_2013-08-05.txt already exists\n",
      "../../Processed Data/10K10Q/Data_10Q/item1a_731766_2018-08-07.txt already exists\n",
      "../../Processed Data/10K10Q/Data_10Q/item1a_732712_2017-04-27.txt already exists\n",
      "../../Processed Data/10K10Q/Data_10Q/item1a_732712_2013-07-25.txt already exists\n",
      "../../Processed Data/10K10Q/Data_10Q/item1a_732712_2019-10-30.txt already exists\n",
      "../../Processed Data/10K10Q/Data_10Q/item1a_732712_2012-04-26.txt already exists\n",
      "../../Processed Data/10K10Q/Data_10Q/item1a_732712_2018-07-31.txt already exists\n",
      "../../Processed Data/10K10Q/Data_10Q/item1a_732712_2012-10-25.txt already exists\n",
      "../../Processed Data/10K10Q/Data_10Q/item1a_732712_2014-04-29.txt already exists\n",
      "../../Processed Data/10K10Q/Data_10Q/item1a_732712_2011-04-28.txt already exists\n",
      "../../Processed Data/10K10Q/Data_10Q/item1a_732712_2018-05-01.txt already exists\n"
     ]
    },
    {
     "name": "stderr",
     "output_type": "stream",
     "text": [
      "\r",
      " 23%|██████████████████                                                              | 205/910 [04:10<05:47,  2.03it/s]"
     ]
    },
    {
     "name": "stdout",
     "output_type": "stream",
     "text": [
      "../../Processed Data/10K10Q/Data_10Q/item1a_732712_2016-07-29.txt already exists\n",
      "../../Processed Data/10K10Q/Data_10Q/item1a_732712_2016-10-26.txt already exists\n",
      "../../Processed Data/10K10Q/Data_10Q/item1a_732712_2010-10-28.txt already exists\n",
      "../../Processed Data/10K10Q/Data_10Q/item1a_732712_2012-07-30.txt already exists\n",
      "../../Processed Data/10K10Q/Data_10Q/item1a_732712_2013-04-25.txt already exists\n",
      "../../Processed Data/10K10Q/Data_10Q/item1a_732712_2016-04-28.txt already exists\n",
      "../../Processed Data/10K10Q/Data_10Q/item1a_732712_2014-07-29.txt already exists\n",
      "../../Processed Data/10K10Q/Data_10Q/item1a_732712_2017-08-03.txt already exists\n",
      "../../Processed Data/10K10Q/Data_10Q/item1a_732712_2011-07-28.txt already exists\n",
      "../../Processed Data/10K10Q/Data_10Q/item1a_732712_2010-04-28.txt already exists\n",
      "../../Processed Data/10K10Q/Data_10Q/item1a_732712_2015-10-27.txt already exists\n",
      "../../Processed Data/10K10Q/Data_10Q/item1a_732712_2015-04-28.txt already exists\n",
      "../../Processed Data/10K10Q/Data_10Q/item1a_732712_2013-10-24.txt already exists\n",
      "../../Processed Data/10K10Q/Data_10Q/item1a_732712_2018-10-30.txt already exists\n",
      "../../Processed Data/10K10Q/Data_10Q/item1a_732712_2011-10-25.txt already exists\n"
     ]
    },
    {
     "name": "stderr",
     "output_type": "stream",
     "text": [
      "\r",
      " 24%|███████████████████▎                                                            | 220/910 [04:10<03:59,  2.88it/s]"
     ]
    },
    {
     "name": "stdout",
     "output_type": "stream",
     "text": [
      "../../Processed Data/10K10Q/Data_10Q/item1a_732712_2019-04-26.txt already exists\n",
      "../../Processed Data/10K10Q/Data_10Q/item1a_732712_2014-10-28.txt already exists\n",
      "../../Processed Data/10K10Q/Data_10Q/item1a_732712_2010-07-29.txt already exists\n",
      "../../Processed Data/10K10Q/Data_10Q/item1a_732712_2017-10-26.txt already exists\n",
      "../../Processed Data/10K10Q/Data_10Q/item1a_732712_2015-07-28.txt already exists\n",
      "../../Processed Data/10K10Q/Data_10Q/item1a_732712_2019-08-08.txt already exists\n",
      "../../Processed Data/10K10Q/Data_10Q/item1a_86312_2013-04-23.txt already exists\n",
      "../../Processed Data/10K10Q/Data_10Q/item1a_86312_2016-10-20.txt already exists\n",
      "../../Processed Data/10K10Q/Data_10Q/item1a_86312_2015-04-21.txt already exists\n",
      "../../Processed Data/10K10Q/Data_10Q/item1a_86312_2014-07-22.txt already exists\n",
      "../../Processed Data/10K10Q/Data_10Q/item1a_86312_2017-07-20.txt already exists\n",
      "../../Processed Data/10K10Q/Data_10Q/item1a_86312_2018-10-18.txt already exists\n",
      "../../Processed Data/10K10Q/Data_10Q/item1a_86312_2019-07-23.txt already exists\n",
      "../../Processed Data/10K10Q/Data_10Q/item1a_86312_2014-04-22.txt already exists\n",
      "../../Processed Data/10K10Q/Data_10Q/item1a_86312_2015-07-21.txt already exists\n",
      "../../Processed Data/10K10Q/Data_10Q/item1a_86312_2013-07-23.txt already exists\n",
      "../../Processed Data/10K10Q/Data_10Q/item1a_86312_2017-10-19.txt already exists\n"
     ]
    },
    {
     "name": "stderr",
     "output_type": "stream",
     "text": [
      "\r",
      " 26%|████████████████████▊                                                           | 237/910 [04:10<02:44,  4.08it/s]"
     ]
    },
    {
     "name": "stdout",
     "output_type": "stream",
     "text": [
      "../../Processed Data/10K10Q/Data_10Q/item1a_86312_2019-04-18.txt already exists\n",
      "../../Processed Data/10K10Q/Data_10Q/item1a_86312_2012-10-18.txt already exists\n",
      "../../Processed Data/10K10Q/Data_10Q/item1a_86312_2017-04-20.txt already exists\n",
      "../../Processed Data/10K10Q/Data_10Q/item1a_86312_2014-10-21.txt already exists\n",
      "../../Processed Data/10K10Q/Data_10Q/item1a_86312_2011-04-21.txt already exists\n",
      "../../Processed Data/10K10Q/Data_10Q/item1a_86312_2010-07-22.txt already exists\n",
      "../../Processed Data/10K10Q/Data_10Q/item1a_86312_2011-10-19.txt already exists\n",
      "../../Processed Data/10K10Q/Data_10Q/item1a_86312_2018-07-19.txt already exists\n",
      "../../Processed Data/10K10Q/Data_10Q/item1a_86312_2019-10-22.txt already exists\n",
      "../../Processed Data/10K10Q/Data_10Q/item1a_86312_2018-04-24.txt already exists\n",
      "../../Processed Data/10K10Q/Data_10Q/item1a_86312_2012-04-19.txt already exists\n",
      "../../Processed Data/10K10Q/Data_10Q/item1a_86312_2016-07-21.txt already exists\n",
      "../../Processed Data/10K10Q/Data_10Q/item1a_86312_2011-07-21.txt already exists\n",
      "../../Processed Data/10K10Q/Data_10Q/item1a_86312_2015-10-20.txt already exists\n"
     ]
    },
    {
     "name": "stderr",
     "output_type": "stream",
     "text": [
      "\r",
      " 28%|██████████████████████                                                          | 251/910 [04:10<01:54,  5.76it/s]"
     ]
    },
    {
     "name": "stdout",
     "output_type": "stream",
     "text": [
      "../../Processed Data/10K10Q/Data_10Q/item1a_86312_2010-04-23.txt already exists\n",
      "../../Processed Data/10K10Q/Data_10Q/item1a_86312_2010-10-21.txt already exists\n",
      "../../Processed Data/10K10Q/Data_10Q/item1a_86312_2013-10-22.txt already exists\n",
      "../../Processed Data/10K10Q/Data_10Q/item1a_86312_2016-04-21.txt already exists\n",
      "../../Processed Data/10K10Q/Data_10Q/item1a_86312_2012-07-19.txt already exists\n",
      "../../Processed Data/10K10Q/Data_10Q/item1a_78003_2012-08-09.txt already exists\n",
      "../../Processed Data/10K10Q/Data_10Q/item1a_78003_2014-08-07.txt already exists\n",
      "../../Processed Data/10K10Q/Data_10Q/item1a_78003_2019-11-07.txt already exists\n",
      "../../Processed Data/10K10Q/Data_10Q/item1a_78003_2011-05-12.txt already exists\n",
      "../../Processed Data/10K10Q/Data_10Q/item1a_78003_2011-11-10.txt already exists\n",
      "../../Processed Data/10K10Q/Data_10Q/item1a_78003_2019-05-09.txt already exists\n",
      "../../Processed Data/10K10Q/Data_10Q/item1a_78003_2012-11-09.txt already exists\n",
      "../../Processed Data/10K10Q/Data_10Q/item1a_78003_2014-11-06.txt already exists\n",
      "../../Processed Data/10K10Q/Data_10Q/item1a_78003_2017-11-09.txt already exists\n"
     ]
    },
    {
     "name": "stderr",
     "output_type": "stream",
     "text": [
      "\r",
      " 29%|███████████████████████▎                                                        | 265/910 [04:10<01:19,  8.08it/s]"
     ]
    },
    {
     "name": "stdout",
     "output_type": "stream",
     "text": [
      "../../Processed Data/10K10Q/Data_10Q/item1a_78003_2014-05-08.txt already exists\n",
      "../../Processed Data/10K10Q/Data_10Q/item1a_78003_2012-05-10.txt already exists\n",
      "../../Processed Data/10K10Q/Data_10Q/item1a_78003_2017-05-11.txt already exists\n",
      "../../Processed Data/10K10Q/Data_10Q/item1a_78003_2011-08-11.txt already exists\n",
      "../../Processed Data/10K10Q/Data_10Q/item1a_78003_2016-08-11.txt already exists\n",
      "../../Processed Data/10K10Q/Data_10Q/item1a_78003_2018-11-08.txt already exists\n",
      "../../Processed Data/10K10Q/Data_10Q/item1a_78003_2018-05-10.txt already exists\n",
      "../../Processed Data/10K10Q/Data_10Q/item1a_78003_2018-08-09.txt already exists\n",
      "../../Processed Data/10K10Q/Data_10Q/item1a_78003_2016-11-10.txt already exists\n",
      "../../Processed Data/10K10Q/Data_10Q/item1a_78003_2010-08-12.txt already exists\n",
      "../../Processed Data/10K10Q/Data_10Q/item1a_78003_2016-05-12.txt already exists\n",
      "../../Processed Data/10K10Q/Data_10Q/item1a_78003_2015-11-05.txt already exists\n",
      "../../Processed Data/10K10Q/Data_10Q/item1a_78003_2015-05-07.txt already exists\n",
      "../../Processed Data/10K10Q/Data_10Q/item1a_78003_2010-11-12.txt already exists\n",
      "../../Processed Data/10K10Q/Data_10Q/item1a_78003_2013-11-08.txt already exists\n",
      "../../Processed Data/10K10Q/Data_10Q/item1a_78003_2010-05-13.txt already exists\n"
     ]
    },
    {
     "name": "stderr",
     "output_type": "stream",
     "text": [
      "\r",
      " 31%|████████████████████████▋                                                       | 281/910 [04:10<00:55, 11.28it/s]"
     ]
    },
    {
     "name": "stdout",
     "output_type": "stream",
     "text": [
      "../../Processed Data/10K10Q/Data_10Q/item1a_78003_2013-05-10.txt already exists\n",
      "../../Processed Data/10K10Q/Data_10Q/item1a_78003_2015-08-06.txt already exists\n",
      "../../Processed Data/10K10Q/Data_10Q/item1a_78003_2013-08-09.txt already exists\n",
      "../../Processed Data/10K10Q/Data_10Q/item1a_78003_2017-08-10.txt already exists\n",
      "../../Processed Data/10K10Q/Data_10Q/item1a_78003_2019-08-08.txt already exists\n",
      "Scraping  Data_10Q/51143/51143_2011-07-26.html\n",
      "Failed\n",
      "\n",
      "\n",
      "\n",
      "Scraping  Data_10Q/51143/51143_2015-04-28.html\n",
      "Failed\n",
      "\n",
      "\n",
      "\n",
      "Scraping  Data_10Q/51143/51143_2013-04-30.html\n",
      "Failed\n",
      "\n",
      "\n",
      "\n",
      "Scraping  Data_10Q/51143/51143_2018-10-30.html\n"
     ]
    },
    {
     "name": "stderr",
     "output_type": "stream",
     "text": [
      "\r",
      " 31%|████████████████████████▋                                                       | 281/910 [04:30<00:55, 11.28it/s]"
     ]
    },
    {
     "name": "stdout",
     "output_type": "stream",
     "text": [
      "Failed\n",
      "\n",
      "\n",
      "\n"
     ]
    },
    {
     "name": "stderr",
     "output_type": "stream",
     "text": [
      "\r",
      " 32%|█████████████████████████▍                                                      | 290/910 [04:32<08:10,  1.27it/s]"
     ]
    },
    {
     "name": "stdout",
     "output_type": "stream",
     "text": [
      "Scraping  Data_10Q/51143/51143_2018-04-24.html\n",
      "Failed\n",
      "\n",
      "\n",
      "\n"
     ]
    },
    {
     "name": "stderr",
     "output_type": "stream",
     "text": [
      "\r",
      " 32%|█████████████████████████▌                                                      | 291/910 [04:37<22:18,  2.16s/it]"
     ]
    },
    {
     "name": "stdout",
     "output_type": "stream",
     "text": [
      "Scraping  Data_10Q/51143/51143_2016-10-25.html\n",
      "Failed\n",
      "\n",
      "\n",
      "\n"
     ]
    },
    {
     "name": "stderr",
     "output_type": "stream",
     "text": [
      "\r",
      " 32%|█████████████████████████▋                                                      | 292/910 [04:43<33:58,  3.30s/it]"
     ]
    },
    {
     "name": "stdout",
     "output_type": "stream",
     "text": [
      "Scraping  Data_10Q/51143/51143_2017-07-25.html\n",
      "Failed\n",
      "\n",
      "\n",
      "\n"
     ]
    },
    {
     "name": "stderr",
     "output_type": "stream",
     "text": [
      "\r",
      " 32%|█████████████████████████▊                                                      | 293/910 [04:49<41:17,  4.01s/it]"
     ]
    },
    {
     "name": "stdout",
     "output_type": "stream",
     "text": [
      "Scraping  Data_10Q/51143/51143_2016-04-26.html\n",
      "Failed\n",
      "\n",
      "\n",
      "\n"
     ]
    },
    {
     "name": "stderr",
     "output_type": "stream",
     "text": [
      "\r",
      " 32%|█████████████████████████▊                                                      | 294/910 [04:55<47:30,  4.63s/it]"
     ]
    },
    {
     "name": "stdout",
     "output_type": "stream",
     "text": [
      "Scraping  Data_10Q/51143/51143_2019-07-30.html\n",
      "Failed\n",
      "\n",
      "\n",
      "\n"
     ]
    },
    {
     "name": "stderr",
     "output_type": "stream",
     "text": [
      "\r",
      " 32%|█████████████████████████▉                                                      | 295/910 [05:02<53:26,  5.21s/it]"
     ]
    },
    {
     "name": "stdout",
     "output_type": "stream",
     "text": [
      "Scraping  Data_10Q/51143/51143_2010-10-26.html\n",
      "Failed\n",
      "\n",
      "\n",
      "\n"
     ]
    },
    {
     "name": "stderr",
     "output_type": "stream",
     "text": [
      "\r",
      " 33%|██████████████████████████                                                      | 296/910 [05:06<51:55,  5.07s/it]"
     ]
    },
    {
     "name": "stdout",
     "output_type": "stream",
     "text": [
      "Scraping  Data_10Q/51143/51143_2015-10-27.html\n",
      "Failed\n",
      "\n",
      "\n",
      "\n"
     ]
    },
    {
     "name": "stderr",
     "output_type": "stream",
     "text": [
      "\r",
      " 33%|█████████████████████████▍                                                    | 297/910 [05:15<1:02:18,  6.10s/it]"
     ]
    },
    {
     "name": "stdout",
     "output_type": "stream",
     "text": [
      "Scraping  Data_10Q/51143/51143_2013-10-29.html\n",
      "Failed\n",
      "\n",
      "\n",
      "\n"
     ]
    },
    {
     "name": "stderr",
     "output_type": "stream",
     "text": [
      "\r",
      " 33%|█████████████████████████▌                                                    | 298/910 [05:23<1:08:41,  6.74s/it]"
     ]
    },
    {
     "name": "stdout",
     "output_type": "stream",
     "text": [
      "Scraping  Data_10Q/51143/51143_2015-07-28.html\n",
      "Failed\n",
      "\n",
      "\n",
      "\n"
     ]
    },
    {
     "name": "stderr",
     "output_type": "stream",
     "text": [
      "\r",
      " 33%|█████████████████████████▋                                                    | 299/910 [05:31<1:13:00,  7.17s/it]"
     ]
    },
    {
     "name": "stdout",
     "output_type": "stream",
     "text": [
      "Scraping  Data_10Q/51143/51143_2019-10-29.html\n",
      "Failed\n",
      "\n",
      "\n",
      "\n"
     ]
    },
    {
     "name": "stderr",
     "output_type": "stream",
     "text": [
      "\r",
      " 33%|█████████████████████████▋                                                    | 300/910 [05:38<1:11:32,  7.04s/it]"
     ]
    },
    {
     "name": "stdout",
     "output_type": "stream",
     "text": [
      "Scraping  Data_10Q/51143/51143_2011-04-26.html\n",
      "Failed\n",
      "\n",
      "\n",
      "\n"
     ]
    },
    {
     "name": "stderr",
     "output_type": "stream",
     "text": [
      "\r",
      " 33%|█████████████████████████▊                                                    | 301/910 [05:43<1:03:50,  6.29s/it]"
     ]
    },
    {
     "name": "stdout",
     "output_type": "stream",
     "text": [
      "Scraping  Data_10Q/51143/51143_2011-10-25.html\n",
      "Failed\n",
      "\n",
      "\n",
      "\n"
     ]
    },
    {
     "name": "stderr",
     "output_type": "stream",
     "text": [
      "\r",
      " 33%|██████████████████████████▌                                                     | 302/910 [05:47<58:54,  5.81s/it]"
     ]
    },
    {
     "name": "stdout",
     "output_type": "stream",
     "text": [
      "Scraping  Data_10Q/51143/51143_2017-10-31.html\n",
      "Failed\n",
      "\n",
      "\n",
      "\n"
     ]
    },
    {
     "name": "stderr",
     "output_type": "stream",
     "text": [
      "\r",
      " 33%|██████████████████████████▋                                                     | 303/910 [05:53<58:43,  5.81s/it]"
     ]
    },
    {
     "name": "stdout",
     "output_type": "stream",
     "text": [
      "Scraping  Data_10Q/51143/51143_2016-07-26.html\n",
      "Failed\n",
      "\n",
      "\n",
      "\n"
     ]
    },
    {
     "name": "stderr",
     "output_type": "stream",
     "text": [
      "\r",
      " 33%|██████████████████████████▋                                                     | 304/910 [05:58<55:09,  5.46s/it]"
     ]
    },
    {
     "name": "stdout",
     "output_type": "stream",
     "text": [
      "Scraping  Data_10Q/51143/51143_2017-04-25.html\n",
      "Failed\n",
      "\n",
      "\n",
      "\n"
     ]
    },
    {
     "name": "stderr",
     "output_type": "stream",
     "text": [
      "\r",
      " 34%|██████████████████████████▊                                                     | 305/910 [06:00<44:58,  4.46s/it]"
     ]
    },
    {
     "name": "stdout",
     "output_type": "stream",
     "text": [
      "Scraping  Data_10Q/51143/51143_2013-07-31.html\n",
      "Failed\n",
      "\n",
      "\n",
      "\n"
     ]
    },
    {
     "name": "stderr",
     "output_type": "stream",
     "text": [
      "\r",
      " 34%|██████████████████████████▉                                                     | 306/910 [06:03<40:09,  3.99s/it]"
     ]
    },
    {
     "name": "stdout",
     "output_type": "stream",
     "text": [
      "Scraping  Data_10Q/51143/51143_2019-04-30.html\n",
      "Failed\n",
      "\n",
      "\n",
      "\n"
     ]
    },
    {
     "name": "stderr",
     "output_type": "stream",
     "text": [
      "\r",
      " 34%|██████████████████████████▉                                                     | 307/910 [06:05<36:02,  3.59s/it]"
     ]
    },
    {
     "name": "stdout",
     "output_type": "stream",
     "text": [
      "Scraping  Data_10Q/51143/51143_2012-04-24.html\n",
      "Failed\n",
      "\n",
      "\n",
      "\n"
     ]
    },
    {
     "name": "stderr",
     "output_type": "stream",
     "text": [
      "\r",
      " 34%|███████████████████████████                                                     | 308/910 [06:07<31:14,  3.11s/it]"
     ]
    },
    {
     "name": "stdout",
     "output_type": "stream",
     "text": [
      "Scraping  Data_10Q/51143/51143_2012-10-30.html\n",
      "Failed\n",
      "\n",
      "\n",
      "\n"
     ]
    },
    {
     "name": "stderr",
     "output_type": "stream",
     "text": [
      "\r",
      " 34%|███████████████████████████▏                                                    | 309/910 [06:13<39:38,  3.96s/it]"
     ]
    },
    {
     "name": "stdout",
     "output_type": "stream",
     "text": [
      "Scraping  Data_10Q/51143/51143_2014-10-28.html\n",
      "Failed\n",
      "\n",
      "\n",
      "\n"
     ]
    },
    {
     "name": "stderr",
     "output_type": "stream",
     "text": [
      "\r",
      " 34%|███████████████████████████▎                                                    | 310/910 [06:22<54:02,  5.40s/it]"
     ]
    },
    {
     "name": "stdout",
     "output_type": "stream",
     "text": [
      "Scraping  Data_10Q/51143/51143_2014-04-29.html\n",
      "Failed\n",
      "\n",
      "\n",
      "\n"
     ]
    },
    {
     "name": "stderr",
     "output_type": "stream",
     "text": [
      "\r",
      " 34%|███████████████████████████▎                                                    | 311/910 [06:28<54:51,  5.50s/it]"
     ]
    },
    {
     "name": "stdout",
     "output_type": "stream",
     "text": [
      "Scraping  Data_10Q/51143/51143_2010-07-27.html\n",
      "Failed\n",
      "\n",
      "\n",
      "\n"
     ]
    },
    {
     "name": "stderr",
     "output_type": "stream",
     "text": [
      "\r",
      " 34%|███████████████████████████▍                                                    | 312/910 [06:32<49:54,  5.01s/it]"
     ]
    },
    {
     "name": "stdout",
     "output_type": "stream",
     "text": [
      "Scraping  Data_10Q/51143/51143_2018-07-31.html\n",
      "Failed\n",
      "\n",
      "\n",
      "\n"
     ]
    },
    {
     "name": "stderr",
     "output_type": "stream",
     "text": [
      "\r",
      " 34%|███████████████████████████▌                                                    | 313/910 [06:36<47:22,  4.76s/it]"
     ]
    },
    {
     "name": "stdout",
     "output_type": "stream",
     "text": [
      "Scraping  Data_10Q/51143/51143_2010-04-27.html\n",
      "Failed\n",
      "\n",
      "\n",
      "\n"
     ]
    },
    {
     "name": "stderr",
     "output_type": "stream",
     "text": [
      "\r",
      " 35%|███████████████████████████▌                                                    | 314/910 [06:39<42:58,  4.33s/it]"
     ]
    },
    {
     "name": "stdout",
     "output_type": "stream",
     "text": [
      "Scraping  Data_10Q/51143/51143_2014-07-29.html\n",
      "Failed\n",
      "\n",
      "\n",
      "\n"
     ]
    },
    {
     "name": "stderr",
     "output_type": "stream",
     "text": [
      "\r",
      " 35%|███████████████████████████▋                                                    | 315/910 [06:47<52:54,  5.34s/it]"
     ]
    },
    {
     "name": "stdout",
     "output_type": "stream",
     "text": [
      "Scraping  Data_10Q/51143/51143_2012-07-31.html\n",
      "Failed\n",
      "\n",
      "\n",
      "\n"
     ]
    },
    {
     "name": "stderr",
     "output_type": "stream",
     "text": [
      "\r",
      " 35%|███████████████████████████▊                                                    | 316/910 [06:52<51:37,  5.22s/it]"
     ]
    },
    {
     "name": "stdout",
     "output_type": "stream",
     "text": [
      "../../Processed Data/10K10Q/Data_10Q/item1a_789019_2017-10-26.txt already exists\n",
      "../../Processed Data/10K10Q/Data_10Q/item1a_789019_2016-04-21.txt already exists\n",
      "../../Processed Data/10K10Q/Data_10Q/item1a_789019_2010-04-22.txt already exists\n",
      "../../Processed Data/10K10Q/Data_10Q/item1a_789019_2015-04-23.txt already exists\n",
      "../../Processed Data/10K10Q/Data_10Q/item1a_789019_2017-01-26.txt already exists\n",
      "../../Processed Data/10K10Q/Data_10Q/item1a_789019_2014-10-23.txt already exists\n",
      "../../Processed Data/10K10Q/Data_10Q/item1a_789019_2016-01-28.txt already exists\n",
      "../../Processed Data/10K10Q/Data_10Q/item1a_789019_2013-10-24.txt already exists\n",
      "../../Processed Data/10K10Q/Data_10Q/item1a_789019_2019-10-23.txt already exists\n",
      "../../Processed Data/10K10Q/Data_10Q/item1a_789019_2012-04-19.txt already exists\n",
      "../../Processed Data/10K10Q/Data_10Q/item1a_789019_2018-01-31.txt already exists\n",
      "../../Processed Data/10K10Q/Data_10Q/item1a_789019_2013-01-24.txt already exists\n",
      "../../Processed Data/10K10Q/Data_10Q/item1a_789019_2014-01-23.txt already exists\n"
     ]
    },
    {
     "name": "stderr",
     "output_type": "stream",
     "text": [
      "\r",
      " 36%|████████████████████████████▉                                                   | 329/910 [06:52<35:22,  3.65s/it]"
     ]
    },
    {
     "name": "stdout",
     "output_type": "stream",
     "text": [
      "../../Processed Data/10K10Q/Data_10Q/item1a_789019_2015-01-26.txt already exists\n",
      "../../Processed Data/10K10Q/Data_10Q/item1a_789019_2011-10-20.txt already exists\n",
      "../../Processed Data/10K10Q/Data_10Q/item1a_789019_2018-04-26.txt already exists\n",
      "../../Processed Data/10K10Q/Data_10Q/item1a_789019_2010-01-28.txt already exists\n",
      "../../Processed Data/10K10Q/Data_10Q/item1a_789019_2018-10-24.txt already exists\n",
      "../../Processed Data/10K10Q/Data_10Q/item1a_789019_2012-01-19.txt already exists\n",
      "../../Processed Data/10K10Q/Data_10Q/item1a_789019_2010-10-28.txt already exists\n",
      "../../Processed Data/10K10Q/Data_10Q/item1a_789019_2012-10-18.txt already exists\n",
      "../../Processed Data/10K10Q/Data_10Q/item1a_789019_2019-01-30.txt already exists\n",
      "../../Processed Data/10K10Q/Data_10Q/item1a_789019_2013-04-18.txt already exists\n",
      "../../Processed Data/10K10Q/Data_10Q/item1a_789019_2011-04-28.txt already exists\n",
      "../../Processed Data/10K10Q/Data_10Q/item1a_789019_2015-10-22.txt already exists\n",
      "../../Processed Data/10K10Q/Data_10Q/item1a_789019_2011-01-27.txt already exists\n",
      "../../Processed Data/10K10Q/Data_10Q/item1a_789019_2020-01-29.txt already exists\n",
      "../../Processed Data/10K10Q/Data_10Q/item1a_789019_2014-04-24.txt already exists\n"
     ]
    },
    {
     "name": "stderr",
     "output_type": "stream",
     "text": [
      "\r",
      " 38%|██████████████████████████████▏                                                 | 344/910 [06:52<24:08,  2.56s/it]"
     ]
    },
    {
     "name": "stdout",
     "output_type": "stream",
     "text": [
      "../../Processed Data/10K10Q/Data_10Q/item1a_789019_2019-04-24.txt already exists\n",
      "../../Processed Data/10K10Q/Data_10Q/item1a_789019_2016-10-20.txt already exists\n",
      "../../Processed Data/10K10Q/Data_10Q/item1a_789019_2017-04-27.txt already exists\n",
      "Scraping  Data_10Q/1751788/1751788_2019-05-03.html\n",
      "Failed\n",
      "\n",
      "\n",
      "\n",
      "../../Processed Data/10K10Q/Data_10Q/item1a_1751788_2019-07-25.txt already exists\n",
      "../../Processed Data/10K10Q/Data_10Q/item1a_1751788_2019-10-25.txt already exists\n",
      "../../Processed Data/10K10Q/Data_10Q/item1a_12927_2019-07-24.txt already exists\n",
      "../../Processed Data/10K10Q/Data_10Q/item1a_12927_2016-10-26.txt already exists\n"
     ]
    },
    {
     "name": "stderr",
     "output_type": "stream",
     "text": [
      "\r",
      " 39%|██████████████████████████████▉                                                 | 352/910 [06:53<17:07,  1.84s/it]"
     ]
    },
    {
     "name": "stdout",
     "output_type": "stream",
     "text": [
      "../../Processed Data/10K10Q/Data_10Q/item1a_12927_2017-07-26.txt already exists\n",
      "../../Processed Data/10K10Q/Data_10Q/item1a_12927_2018-10-24.txt already exists\n",
      "../../Processed Data/10K10Q/Data_10Q/item1a_12927_2013-04-24.txt already exists\n",
      "../../Processed Data/10K10Q/Data_10Q/item1a_12927_2014-04-23.txt already exists\n",
      "../../Processed Data/10K10Q/Data_10Q/item1a_12927_2012-10-24.txt already exists\n",
      "../../Processed Data/10K10Q/Data_10Q/item1a_12927_2019-04-24.txt already exists\n",
      "../../Processed Data/10K10Q/Data_10Q/item1a_12927_2017-10-25.txt already exists\n",
      "../../Processed Data/10K10Q/Data_10Q/item1a_12927_2011-10-26.txt already exists\n",
      "../../Processed Data/10K10Q/Data_10Q/item1a_12927_2010-04-21.txt already exists\n",
      "../../Processed Data/10K10Q/Data_10Q/item1a_12927_2014-07-23.txt already exists\n",
      "../../Processed Data/10K10Q/Data_10Q/item1a_12927_2017-04-26.txt already exists\n",
      "../../Processed Data/10K10Q/Data_10Q/item1a_12927_2013-07-24.txt already exists\n",
      "../../Processed Data/10K10Q/Data_10Q/item1a_12927_2010-07-28.txt already exists\n",
      "../../Processed Data/10K10Q/Data_10Q/item1a_12927_2018-07-25.txt already exists\n",
      "../../Processed Data/10K10Q/Data_10Q/item1a_12927_2013-10-23.txt already exists\n",
      "../../Processed Data/10K10Q/Data_10Q/item1a_12927_2010-10-20.txt already exists\n",
      "../../Processed Data/10K10Q/Data_10Q/item1a_12927_2011-04-27.txt already exists\n",
      "../../Processed Data/10K10Q/Data_10Q/item1a_12927_2015-10-21.txt already exists\n"
     ]
    },
    {
     "name": "stderr",
     "output_type": "stream",
     "text": [
      "\r",
      " 41%|████████████████████████████████▌                                               | 370/910 [06:53<11:37,  1.29s/it]"
     ]
    },
    {
     "name": "stdout",
     "output_type": "stream",
     "text": [
      "../../Processed Data/10K10Q/Data_10Q/item1a_12927_2015-04-22.txt already exists\n",
      "../../Processed Data/10K10Q/Data_10Q/item1a_12927_2012-04-25.txt already exists\n",
      "../../Processed Data/10K10Q/Data_10Q/item1a_12927_2016-07-27.txt already exists\n",
      "../../Processed Data/10K10Q/Data_10Q/item1a_12927_2011-07-27.txt already exists\n",
      "../../Processed Data/10K10Q/Data_10Q/item1a_12927_2014-10-22.txt already exists\n",
      "../../Processed Data/10K10Q/Data_10Q/item1a_12927_2018-04-25.txt already exists\n",
      "../../Processed Data/10K10Q/Data_10Q/item1a_12927_2019-10-23.txt already exists\n",
      "../../Processed Data/10K10Q/Data_10Q/item1a_12927_2012-07-25.txt already exists\n",
      "../../Processed Data/10K10Q/Data_10Q/item1a_12927_2016-04-27.txt already exists\n",
      "../../Processed Data/10K10Q/Data_10Q/item1a_12927_2015-07-22.txt already exists\n",
      "Scraping  Data_10Q/200406/200406_2010-05-10.html\n",
      "Failed\n",
      "\n",
      "\n",
      "\n"
     ]
    },
    {
     "name": "stderr",
     "output_type": "stream",
     "text": [
      "\r",
      " 42%|█████████████████████████████████▍                                              | 381/910 [06:54<08:09,  1.08it/s]"
     ]
    },
    {
     "name": "stdout",
     "output_type": "stream",
     "text": [
      "Scraping  Data_10Q/200406/200406_2017-08-03.html\n",
      "Failed\n",
      "\n",
      "\n",
      "\n",
      "Scraping  Data_10Q/200406/200406_2014-05-02.html\n",
      "Failed\n",
      "\n",
      "\n",
      "\n",
      "Scraping  Data_10Q/200406/200406_2012-08-02.html\n",
      "Failed\n",
      "\n",
      "\n",
      "\n",
      "Scraping  Data_10Q/200406/200406_2019-07-29.html\n",
      "Failed\n",
      "\n",
      "\n",
      "\n",
      "Scraping  Data_10Q/200406/200406_2014-08-01.html\n",
      "Failed\n",
      "\n",
      "\n",
      "\n",
      "Scraping  Data_10Q/200406/200406_2017-11-02.html\n",
      "Failed\n",
      "\n",
      "\n",
      "\n",
      "Scraping  Data_10Q/200406/200406_2018-05-01.html\n",
      "Failed\n",
      "\n",
      "\n",
      "\n"
     ]
    },
    {
     "name": "stderr",
     "output_type": "stream",
     "text": [
      "\r",
      " 43%|██████████████████████████████████                                              | 388/910 [07:09<10:59,  1.26s/it]"
     ]
    },
    {
     "name": "stdout",
     "output_type": "stream",
     "text": [
      "Scraping  Data_10Q/200406/200406_2013-05-03.html\n",
      "Failed\n",
      "\n",
      "\n",
      "\n"
     ]
    },
    {
     "name": "stderr",
     "output_type": "stream",
     "text": [
      "\r",
      " 43%|██████████████████████████████████▏                                             | 389/910 [07:10<10:42,  1.23s/it]"
     ]
    },
    {
     "name": "stdout",
     "output_type": "stream",
     "text": [
      "Scraping  Data_10Q/200406/200406_2013-08-01.html\n",
      "Failed\n",
      "\n",
      "\n",
      "\n"
     ]
    },
    {
     "name": "stderr",
     "output_type": "stream",
     "text": [
      "\r",
      " 43%|██████████████████████████████████▎                                             | 390/910 [07:11<11:12,  1.29s/it]"
     ]
    },
    {
     "name": "stdout",
     "output_type": "stream",
     "text": [
      "Scraping  Data_10Q/200406/200406_2015-05-01.html\n",
      "Failed\n",
      "\n",
      "\n",
      "\n"
     ]
    },
    {
     "name": "stderr",
     "output_type": "stream",
     "text": [
      "\r",
      " 43%|██████████████████████████████████▎                                             | 391/910 [07:12<10:29,  1.21s/it]"
     ]
    },
    {
     "name": "stdout",
     "output_type": "stream",
     "text": [
      "Scraping  Data_10Q/200406/200406_2012-11-09.html\n",
      "Failed\n",
      "\n",
      "\n",
      "\n"
     ]
    },
    {
     "name": "stderr",
     "output_type": "stream",
     "text": [
      "\r",
      " 43%|██████████████████████████████████▍                                             | 392/910 [07:14<11:07,  1.29s/it]"
     ]
    },
    {
     "name": "stdout",
     "output_type": "stream",
     "text": [
      "Scraping  Data_10Q/200406/200406_2018-08-02.html\n",
      "Failed\n",
      "\n",
      "\n",
      "\n"
     ]
    },
    {
     "name": "stderr",
     "output_type": "stream",
     "text": [
      "\r",
      " 43%|██████████████████████████████████▌                                             | 393/910 [07:16<13:53,  1.61s/it]"
     ]
    },
    {
     "name": "stdout",
     "output_type": "stream",
     "text": [
      "Scraping  Data_10Q/200406/200406_2015-07-31.html\n",
      "Failed\n",
      "\n",
      "\n",
      "\n"
     ]
    },
    {
     "name": "stderr",
     "output_type": "stream",
     "text": [
      "\r",
      " 43%|██████████████████████████████████▋                                             | 394/910 [07:17<13:18,  1.55s/it]"
     ]
    },
    {
     "name": "stdout",
     "output_type": "stream",
     "text": [
      "Scraping  Data_10Q/200406/200406_2012-05-07.html\n",
      "Failed\n",
      "\n",
      "\n",
      "\n"
     ]
    },
    {
     "name": "stderr",
     "output_type": "stream",
     "text": [
      "\r",
      " 43%|██████████████████████████████████▋                                             | 395/910 [07:19<13:23,  1.56s/it]"
     ]
    },
    {
     "name": "stdout",
     "output_type": "stream",
     "text": [
      "Scraping  Data_10Q/200406/200406_2014-10-30.html\n",
      "Failed\n",
      "\n",
      "\n",
      "\n"
     ]
    },
    {
     "name": "stderr",
     "output_type": "stream",
     "text": [
      "\r",
      " 44%|██████████████████████████████████▊                                             | 396/910 [07:21<13:42,  1.60s/it]"
     ]
    },
    {
     "name": "stdout",
     "output_type": "stream",
     "text": [
      "Scraping  Data_10Q/200406/200406_2011-08-09.html\n",
      "Failed\n",
      "\n",
      "\n",
      "\n"
     ]
    },
    {
     "name": "stderr",
     "output_type": "stream",
     "text": [
      "\r",
      " 44%|██████████████████████████████████▉                                             | 397/910 [07:22<13:56,  1.63s/it]"
     ]
    },
    {
     "name": "stdout",
     "output_type": "stream",
     "text": [
      "Scraping  Data_10Q/200406/200406_2011-05-10.html\n",
      "Failed\n",
      "\n",
      "\n",
      "\n"
     ]
    },
    {
     "name": "stderr",
     "output_type": "stream",
     "text": [
      "\r",
      " 44%|██████████████████████████████████▉                                             | 398/910 [07:23<11:34,  1.36s/it]"
     ]
    },
    {
     "name": "stdout",
     "output_type": "stream",
     "text": [
      "Scraping  Data_10Q/200406/200406_2017-05-08.html\n",
      "Failed\n",
      "\n",
      "\n",
      "\n"
     ]
    },
    {
     "name": "stderr",
     "output_type": "stream",
     "text": [
      "\r",
      " 44%|███████████████████████████████████                                             | 399/910 [07:25<11:48,  1.39s/it]"
     ]
    },
    {
     "name": "stdout",
     "output_type": "stream",
     "text": [
      "Scraping  Data_10Q/200406/200406_2011-11-08.html\n",
      "Failed\n",
      "\n",
      "\n",
      "\n"
     ]
    },
    {
     "name": "stderr",
     "output_type": "stream",
     "text": [
      "\r",
      " 44%|███████████████████████████████████▏                                            | 400/910 [07:25<10:28,  1.23s/it]"
     ]
    },
    {
     "name": "stdout",
     "output_type": "stream",
     "text": [
      "Scraping  Data_10Q/200406/200406_2019-10-28.html\n",
      "Failed\n",
      "\n",
      "\n",
      "\n"
     ]
    },
    {
     "name": "stderr",
     "output_type": "stream",
     "text": [
      "\r",
      " 44%|███████████████████████████████████▎                                            | 401/910 [07:30<18:31,  2.18s/it]"
     ]
    },
    {
     "name": "stdout",
     "output_type": "stream",
     "text": [
      "Scraping  Data_10Q/200406/200406_2010-11-10.html\n",
      "Failed\n",
      "\n",
      "\n",
      "\n"
     ]
    },
    {
     "name": "stderr",
     "output_type": "stream",
     "text": [
      "\r",
      " 44%|███████████████████████████████████▎                                            | 402/910 [07:31<15:57,  1.89s/it]"
     ]
    },
    {
     "name": "stdout",
     "output_type": "stream",
     "text": [
      "Scraping  Data_10Q/200406/200406_2016-08-04.html\n",
      "Failed\n",
      "\n",
      "\n",
      "\n"
     ]
    },
    {
     "name": "stderr",
     "output_type": "stream",
     "text": [
      "\r",
      " 44%|███████████████████████████████████▍                                            | 403/910 [07:33<15:20,  1.81s/it]"
     ]
    },
    {
     "name": "stdout",
     "output_type": "stream",
     "text": [
      "Scraping  Data_10Q/200406/200406_2015-10-30.html\n",
      "Failed\n",
      "\n",
      "\n",
      "\n"
     ]
    },
    {
     "name": "stderr",
     "output_type": "stream",
     "text": [
      "\r",
      " 44%|███████████████████████████████████▌                                            | 404/910 [07:34<14:27,  1.71s/it]"
     ]
    },
    {
     "name": "stdout",
     "output_type": "stream",
     "text": [
      "Scraping  Data_10Q/200406/200406_2016-11-04.html\n",
      "Failed\n",
      "\n",
      "\n",
      "\n"
     ]
    },
    {
     "name": "stderr",
     "output_type": "stream",
     "text": [
      "\r",
      " 45%|███████████████████████████████████▌                                            | 405/910 [07:36<14:06,  1.68s/it]"
     ]
    },
    {
     "name": "stdout",
     "output_type": "stream",
     "text": [
      "Scraping  Data_10Q/200406/200406_2016-05-10.html\n",
      "Failed\n",
      "\n",
      "\n",
      "\n"
     ]
    },
    {
     "name": "stderr",
     "output_type": "stream",
     "text": [
      "\r",
      " 45%|███████████████████████████████████▋                                            | 406/910 [07:37<12:49,  1.53s/it]"
     ]
    },
    {
     "name": "stdout",
     "output_type": "stream",
     "text": [
      "Scraping  Data_10Q/200406/200406_2010-08-11.html\n",
      "Failed\n",
      "\n",
      "\n",
      "\n"
     ]
    },
    {
     "name": "stderr",
     "output_type": "stream",
     "text": [
      "\r",
      " 45%|███████████████████████████████████▊                                            | 407/910 [07:38<11:16,  1.35s/it]"
     ]
    },
    {
     "name": "stdout",
     "output_type": "stream",
     "text": [
      "Scraping  Data_10Q/200406/200406_2013-11-04.html\n",
      "Failed\n",
      "\n",
      "\n",
      "\n"
     ]
    },
    {
     "name": "stderr",
     "output_type": "stream",
     "text": [
      "\r",
      " 45%|███████████████████████████████████▊                                            | 408/910 [07:39<11:22,  1.36s/it]"
     ]
    },
    {
     "name": "stdout",
     "output_type": "stream",
     "text": [
      "Scraping  Data_10Q/200406/200406_2019-05-01.html\n",
      "Failed\n",
      "\n",
      "\n",
      "\n"
     ]
    },
    {
     "name": "stderr",
     "output_type": "stream",
     "text": [
      "\r",
      " 45%|███████████████████████████████████▉                                            | 409/910 [07:41<12:27,  1.49s/it]"
     ]
    },
    {
     "name": "stdout",
     "output_type": "stream",
     "text": [
      "Scraping  Data_10Q/200406/200406_2018-10-31.html\n",
      "Failed\n",
      "\n",
      "\n",
      "\n"
     ]
    },
    {
     "name": "stderr",
     "output_type": "stream",
     "text": [
      "\r",
      " 45%|████████████████████████████████████                                            | 410/910 [07:44<16:46,  2.01s/it]"
     ]
    },
    {
     "name": "stdout",
     "output_type": "stream",
     "text": [
      "../../Processed Data/10K10Q/Data_10Q/item1a_320187_2010-10-06.txt already exists\n",
      "../../Processed Data/10K10Q/Data_10Q/item1a_320187_2018-04-05.txt already exists\n",
      "../../Processed Data/10K10Q/Data_10Q/item1a_320187_2013-01-09.txt already exists\n",
      "../../Processed Data/10K10Q/Data_10Q/item1a_320187_2015-01-07.txt already exists\n",
      "../../Processed Data/10K10Q/Data_10Q/item1a_320187_2015-10-06.txt already exists\n",
      "../../Processed Data/10K10Q/Data_10Q/item1a_320187_2010-01-06.txt already exists\n",
      "../../Processed Data/10K10Q/Data_10Q/item1a_320187_2019-10-04.txt already exists\n",
      "../../Processed Data/10K10Q/Data_10Q/item1a_320187_2011-04-06.txt already exists\n",
      "../../Processed Data/10K10Q/Data_10Q/item1a_320187_2019-01-08.txt already exists\n",
      "../../Processed Data/10K10Q/Data_10Q/item1a_320187_2014-04-07.txt already exists\n",
      "../../Processed Data/10K10Q/Data_10Q/item1a_320187_2017-10-06.txt already exists\n",
      "../../Processed Data/10K10Q/Data_10Q/item1a_320187_2017-04-04.txt already exists\n",
      "../../Processed Data/10K10Q/Data_10Q/item1a_320187_2020-01-07.txt already exists\n"
     ]
    },
    {
     "name": "stderr",
     "output_type": "stream",
     "text": [
      "\r",
      " 46%|█████████████████████████████████████▏                                          | 423/910 [07:44<11:27,  1.41s/it]"
     ]
    },
    {
     "name": "stdout",
     "output_type": "stream",
     "text": [
      "../../Processed Data/10K10Q/Data_10Q/item1a_320187_2012-01-05.txt already exists\n",
      "../../Processed Data/10K10Q/Data_10Q/item1a_320187_2019-04-04.txt already exists\n",
      "../../Processed Data/10K10Q/Data_10Q/item1a_320187_2012-04-06.txt already exists\n",
      "../../Processed Data/10K10Q/Data_10Q/item1a_320187_2014-01-07.txt already exists\n",
      "../../Processed Data/10K10Q/Data_10Q/item1a_320187_2011-01-06.txt already exists\n",
      "../../Processed Data/10K10Q/Data_10Q/item1a_320187_2014-10-07.txt already exists\n",
      "../../Processed Data/10K10Q/Data_10Q/item1a_320187_2012-10-09.txt already exists\n",
      "../../Processed Data/10K10Q/Data_10Q/item1a_320187_2011-10-06.txt already exists\n",
      "../../Processed Data/10K10Q/Data_10Q/item1a_320187_2017-01-05.txt already exists\n",
      "../../Processed Data/10K10Q/Data_10Q/item1a_320187_2015-04-07.txt already exists\n",
      "../../Processed Data/10K10Q/Data_10Q/item1a_320187_2013-10-07.txt already exists\n",
      "../../Processed Data/10K10Q/Data_10Q/item1a_320187_2018-10-05.txt already exists\n",
      "../../Processed Data/10K10Q/Data_10Q/item1a_320187_2013-04-04.txt already exists\n",
      "../../Processed Data/10K10Q/Data_10Q/item1a_320187_2016-01-06.txt already exists\n"
     ]
    },
    {
     "name": "stderr",
     "output_type": "stream",
     "text": [
      "\r",
      " 48%|██████████████████████████████████████▍                                         | 437/910 [07:45<07:48,  1.01it/s]"
     ]
    },
    {
     "name": "stdout",
     "output_type": "stream",
     "text": [
      "../../Processed Data/10K10Q/Data_10Q/item1a_320187_2018-01-05.txt already exists\n",
      "../../Processed Data/10K10Q/Data_10Q/item1a_320187_2016-10-11.txt already exists\n",
      "../../Processed Data/10K10Q/Data_10Q/item1a_320187_2016-04-05.txt already exists\n",
      "../../Processed Data/10K10Q/Data_10Q/item1a_320187_2010-04-07.txt already exists\n",
      "../../Processed Data/10K10Q/Data_10Q/item1a_858877_2014-05-22.txt already exists\n",
      "../../Processed Data/10K10Q/Data_10Q/item1a_858877_2014-11-20.txt already exists\n",
      "../../Processed Data/10K10Q/Data_10Q/item1a_858877_2010-05-26.txt already exists\n",
      "../../Processed Data/10K10Q/Data_10Q/item1a_858877_2016-05-24.txt already exists\n",
      "../../Processed Data/10K10Q/Data_10Q/item1a_858877_2015-02-18.txt already exists\n",
      "../../Processed Data/10K10Q/Data_10Q/item1a_858877_2014-02-20.txt already exists\n",
      "../../Processed Data/10K10Q/Data_10Q/item1a_858877_2011-05-25.txt already exists\n",
      "../../Processed Data/10K10Q/Data_10Q/item1a_858877_2015-11-19.txt already exists\n",
      "../../Processed Data/10K10Q/Data_10Q/item1a_858877_2010-11-23.txt already exists\n",
      "../../Processed Data/10K10Q/Data_10Q/item1a_858877_2015-05-20.txt already exists\n",
      "../../Processed Data/10K10Q/Data_10Q/item1a_858877_2017-02-21.txt already exists\n",
      "../../Processed Data/10K10Q/Data_10Q/item1a_858877_2016-11-22.txt already exists\n",
      "../../Processed Data/10K10Q/Data_10Q/item1a_858877_2013-05-21.txt already exists\n",
      "../../Processed Data/10K10Q/Data_10Q/item1a_858877_2011-02-23.txt already exists\n"
     ]
    },
    {
     "name": "stderr",
     "output_type": "stream",
     "text": [
      "\r",
      " 50%|████████████████████████████████████████                                        | 455/910 [07:45<05:16,  1.44it/s]"
     ]
    },
    {
     "name": "stdout",
     "output_type": "stream",
     "text": [
      "../../Processed Data/10K10Q/Data_10Q/item1a_858877_2018-05-22.txt already exists\n",
      "../../Processed Data/10K10Q/Data_10Q/item1a_858877_2012-02-21.txt already exists\n",
      "../../Processed Data/10K10Q/Data_10Q/item1a_858877_2013-11-22.txt already exists\n",
      "../../Processed Data/10K10Q/Data_10Q/item1a_858877_2018-11-20.txt already exists\n",
      "../../Processed Data/10K10Q/Data_10Q/item1a_858877_2019-02-19.txt already exists\n",
      "../../Processed Data/10K10Q/Data_10Q/item1a_858877_2017-05-23.txt already exists\n",
      "../../Processed Data/10K10Q/Data_10Q/item1a_858877_2013-02-19.txt already exists\n",
      "../../Processed Data/10K10Q/Data_10Q/item1a_858877_2017-11-21.txt already exists\n",
      "../../Processed Data/10K10Q/Data_10Q/item1a_858877_2012-11-20.txt already exists\n",
      "../../Processed Data/10K10Q/Data_10Q/item1a_858877_2016-02-18.txt already exists\n",
      "../../Processed Data/10K10Q/Data_10Q/item1a_858877_2018-02-20.txt already exists\n",
      "../../Processed Data/10K10Q/Data_10Q/item1a_858877_2019-05-21.txt already exists\n",
      "../../Processed Data/10K10Q/Data_10Q/item1a_858877_2010-02-17.txt already exists\n",
      "../../Processed Data/10K10Q/Data_10Q/item1a_858877_2012-05-23.txt already exists\n",
      "../../Processed Data/10K10Q/Data_10Q/item1a_858877_2019-11-19.txt already exists\n"
     ]
    },
    {
     "name": "stderr",
     "output_type": "stream",
     "text": [
      "\r",
      " 52%|█████████████████████████████████████████▎                                      | 470/910 [07:45<03:34,  2.05it/s]"
     ]
    },
    {
     "name": "stdout",
     "output_type": "stream",
     "text": [
      "../../Processed Data/10K10Q/Data_10Q/item1a_858877_2011-11-22.txt already exists\n",
      "../../Processed Data/10K10Q/Data_10Q/item1a_1403161_2019-01-31.txt already exists\n",
      "../../Processed Data/10K10Q/Data_10Q/item1a_1403161_2018-07-27.txt already exists\n",
      "../../Processed Data/10K10Q/Data_10Q/item1a_1403161_2017-02-02.txt already exists\n",
      "../../Processed Data/10K10Q/Data_10Q/item1a_1403161_2013-02-06.txt already exists\n",
      "../../Processed Data/10K10Q/Data_10Q/item1a_1403161_2014-04-24.txt already exists\n",
      "../../Processed Data/10K10Q/Data_10Q/item1a_1403161_2010-08-02.txt already exists\n",
      "../../Processed Data/10K10Q/Data_10Q/item1a_1403161_2014-01-30.txt already exists\n",
      "../../Processed Data/10K10Q/Data_10Q/item1a_1403161_2013-07-24.txt already exists\n",
      "../../Processed Data/10K10Q/Data_10Q/item1a_1403161_2016-07-25.txt already exists\n",
      "../../Processed Data/10K10Q/Data_10Q/item1a_1403161_2011-05-05.txt already exists\n",
      "../../Processed Data/10K10Q/Data_10Q/item1a_1403161_2017-07-20.txt already exists\n",
      "../../Processed Data/10K10Q/Data_10Q/item1a_1403161_2014-07-24.txt already exists\n",
      "../../Processed Data/10K10Q/Data_10Q/item1a_1403161_2010-02-03.txt already exists\n",
      "../../Processed Data/10K10Q/Data_10Q/item1a_1403161_2017-04-21.txt already exists\n",
      "../../Processed Data/10K10Q/Data_10Q/item1a_1403161_2011-07-29.txt already exists\n",
      "../../Processed Data/10K10Q/Data_10Q/item1a_1403161_2018-04-27.txt already exists\n"
     ]
    },
    {
     "name": "stderr",
     "output_type": "stream",
     "text": [
      "\r",
      " 54%|██████████████████████████████████████████▊                                     | 487/910 [07:45<02:25,  2.91it/s]"
     ]
    },
    {
     "name": "stdout",
     "output_type": "stream",
     "text": [
      "../../Processed Data/10K10Q/Data_10Q/item1a_1403161_2012-02-08.txt already exists\n",
      "../../Processed Data/10K10Q/Data_10Q/item1a_1403161_2012-07-27.txt already exists\n",
      "../../Processed Data/10K10Q/Data_10Q/item1a_1403161_2015-01-29.txt already exists\n",
      "../../Processed Data/10K10Q/Data_10Q/item1a_1403161_2016-04-25.txt already exists\n",
      "../../Processed Data/10K10Q/Data_10Q/item1a_1403161_2015-04-30.txt already exists\n",
      "../../Processed Data/10K10Q/Data_10Q/item1a_1403161_2015-07-23.txt already exists\n",
      "../../Processed Data/10K10Q/Data_10Q/item1a_1403161_2019-07-26.txt already exists\n",
      "../../Processed Data/10K10Q/Data_10Q/item1a_1403161_2018-02-01.txt already exists\n",
      "../../Processed Data/10K10Q/Data_10Q/item1a_1403161_2016-01-28.txt already exists\n",
      "../../Processed Data/10K10Q/Data_10Q/item1a_1403161_2012-05-02.txt already exists\n",
      "../../Processed Data/10K10Q/Data_10Q/item1a_1403161_2019-04-26.txt already exists\n",
      "../../Processed Data/10K10Q/Data_10Q/item1a_1403161_2010-05-03.txt already exists\n",
      "../../Processed Data/10K10Q/Data_10Q/item1a_1403161_2011-02-02.txt already exists\n"
     ]
    },
    {
     "name": "stderr",
     "output_type": "stream",
     "text": [
      "\r",
      " 55%|███████████████████████████████████████████▉                                    | 500/910 [07:45<01:39,  4.10it/s]"
     ]
    },
    {
     "name": "stdout",
     "output_type": "stream",
     "text": [
      "../../Processed Data/10K10Q/Data_10Q/item1a_1403161_2013-05-01.txt already exists\n",
      "../../Processed Data/10K10Q/Data_10Q/item1a_1403161_2020-01-31.txt already exists\n",
      "../../Processed Data/10K10Q/Data_10Q/item1a_1001039_2012-05-08.txt already exists\n",
      "../../Processed Data/10K10Q/Data_10Q/item1a_1001039_2014-05-06.txt already exists\n",
      "../../Processed Data/10K10Q/Data_10Q/item1a_1001039_2017-05-09.txt already exists\n",
      "../../Processed Data/10K10Q/Data_10Q/item1a_1001039_2011-08-09.txt already exists\n",
      "../../Processed Data/10K10Q/Data_10Q/item1a_1001039_2013-02-05.txt already exists\n",
      "../../Processed Data/10K10Q/Data_10Q/item1a_1001039_2014-08-05.txt already exists\n",
      "../../Processed Data/10K10Q/Data_10Q/item1a_1001039_2018-02-06.txt already exists\n",
      "../../Processed Data/10K10Q/Data_10Q/item1a_1001039_2016-02-09.txt already exists\n",
      "../../Processed Data/10K10Q/Data_10Q/item1a_1001039_2011-05-10.txt already exists\n",
      "../../Processed Data/10K10Q/Data_10Q/item1a_1001039_2012-08-07.txt already exists\n"
     ]
    },
    {
     "name": "stderr",
     "output_type": "stream",
     "text": [
      "\r",
      " 56%|█████████████████████████████████████████████                                   | 512/910 [07:45<01:08,  5.77it/s]"
     ]
    },
    {
     "name": "stdout",
     "output_type": "stream",
     "text": [
      "../../Processed Data/10K10Q/Data_10Q/item1a_1001039_2013-05-07.txt already exists\n",
      "../../Processed Data/10K10Q/Data_10Q/item1a_1001039_2017-02-07.txt already exists\n",
      "../../Processed Data/10K10Q/Data_10Q/item1a_1001039_2016-05-10.txt already exists\n",
      "../../Processed Data/10K10Q/Data_10Q/item1a_1001039_2010-08-10.txt already exists\n",
      "../../Processed Data/10K10Q/Data_10Q/item1a_1001039_2015-05-05.txt already exists\n",
      "../../Processed Data/10K10Q/Data_10Q/item1a_1001039_2018-08-07.txt already exists\n",
      "../../Processed Data/10K10Q/Data_10Q/item1a_1001039_2018-05-08.txt already exists\n",
      "../../Processed Data/10K10Q/Data_10Q/item1a_1001039_2014-02-05.txt already exists\n",
      "../../Processed Data/10K10Q/Data_10Q/item1a_1001039_2011-02-08.txt already exists\n",
      "../../Processed Data/10K10Q/Data_10Q/item1a_1001039_2016-08-09.txt already exists\n",
      "../../Processed Data/10K10Q/Data_10Q/item1a_1001039_2012-02-07.txt already exists\n",
      "../../Processed Data/10K10Q/Data_10Q/item1a_1001039_2019-02-05.txt already exists\n",
      "../../Processed Data/10K10Q/Data_10Q/item1a_1001039_2015-02-03.txt already exists\n",
      "../../Processed Data/10K10Q/Data_10Q/item1a_1001039_2013-08-06.txt already exists\n",
      "../../Processed Data/10K10Q/Data_10Q/item1a_1001039_2010-05-11.txt already exists\n"
     ]
    },
    {
     "name": "stderr",
     "output_type": "stream",
     "text": [
      "\r",
      " 58%|██████████████████████████████████████████████▎                                 | 527/910 [07:45<00:47,  8.11it/s]"
     ]
    },
    {
     "name": "stdout",
     "output_type": "stream",
     "text": [
      "../../Processed Data/10K10Q/Data_10Q/item1a_1001039_2015-08-04.txt already exists\n",
      "../../Processed Data/10K10Q/Data_10Q/item1a_1001039_2017-08-08.txt already exists\n",
      "../../Processed Data/10K10Q/Data_10Q/item1a_1001039_2010-02-09.txt already exists\n",
      "../../Processed Data/10K10Q/Data_10Q/item1a_63908_2017-08-08.txt already exists\n",
      "../../Processed Data/10K10Q/Data_10Q/item1a_63908_2018-08-02.txt already exists\n",
      "../../Processed Data/10K10Q/Data_10Q/item1a_63908_2019-05-08.txt already exists\n",
      "../../Processed Data/10K10Q/Data_10Q/item1a_63908_2019-08-06.txt already exists\n",
      "../../Processed Data/10K10Q/Data_10Q/item1a_63908_2010-11-05.txt already exists\n",
      "../../Processed Data/10K10Q/Data_10Q/item1a_63908_2015-11-04.txt already exists\n",
      "../../Processed Data/10K10Q/Data_10Q/item1a_63908_2010-08-05.txt already exists\n",
      "../../Processed Data/10K10Q/Data_10Q/item1a_63908_2017-11-02.txt already exists\n",
      "../../Processed Data/10K10Q/Data_10Q/item1a_63908_2015-08-05.txt already exists\n",
      "../../Processed Data/10K10Q/Data_10Q/item1a_63908_2013-10-30.txt already exists\n",
      "../../Processed Data/10K10Q/Data_10Q/item1a_63908_2015-05-07.txt already exists\n",
      "../../Processed Data/10K10Q/Data_10Q/item1a_63908_2010-05-06.txt already exists\n",
      "../../Processed Data/10K10Q/Data_10Q/item1a_63908_2018-05-08.txt already exists\n",
      "../../Processed Data/10K10Q/Data_10Q/item1a_63908_2014-11-03.txt already exists\n"
     ]
    },
    {
     "name": "stderr",
     "output_type": "stream",
     "text": [
      "\r",
      " 60%|███████████████████████████████████████████████▊                                | 544/910 [07:45<00:32, 11.34it/s]"
     ]
    },
    {
     "name": "stdout",
     "output_type": "stream",
     "text": [
      "../../Processed Data/10K10Q/Data_10Q/item1a_63908_2012-11-01.txt already exists\n",
      "../../Processed Data/10K10Q/Data_10Q/item1a_63908_2016-11-04.txt already exists\n",
      "../../Processed Data/10K10Q/Data_10Q/item1a_63908_2016-05-06.txt already exists\n",
      "../../Processed Data/10K10Q/Data_10Q/item1a_63908_2016-08-04.txt already exists\n",
      "../../Processed Data/10K10Q/Data_10Q/item1a_63908_2013-07-31.txt already exists\n",
      "../../Processed Data/10K10Q/Data_10Q/item1a_63908_2011-05-06.txt already exists\n",
      "../../Processed Data/10K10Q/Data_10Q/item1a_63908_2011-11-04.txt already exists\n",
      "../../Processed Data/10K10Q/Data_10Q/item1a_63908_2017-05-08.txt already exists\n",
      "../../Processed Data/10K10Q/Data_10Q/item1a_63908_2012-08-06.txt already exists\n",
      "../../Processed Data/10K10Q/Data_10Q/item1a_63908_2012-05-08.txt already exists\n",
      "../../Processed Data/10K10Q/Data_10Q/item1a_63908_2014-05-06.txt already exists\n",
      "../../Processed Data/10K10Q/Data_10Q/item1a_63908_2011-08-05.txt already exists\n",
      "../../Processed Data/10K10Q/Data_10Q/item1a_63908_2018-11-01.txt already exists\n",
      "../../Processed Data/10K10Q/Data_10Q/item1a_63908_2014-08-04.txt already exists\n",
      "../../Processed Data/10K10Q/Data_10Q/item1a_63908_2013-05-01.txt already exists\n",
      "../../Processed Data/10K10Q/Data_10Q/item1a_63908_2019-11-04.txt already exists\n",
      "../../Processed Data/10K10Q/Data_10Q/item1a_21344_2017-10-26.txt already exists\n",
      "../../Processed Data/10K10Q/Data_10Q/item1a_21344_2014-10-29.txt already exists\n"
     ]
    },
    {
     "name": "stderr",
     "output_type": "stream",
     "text": [
      "\r",
      " 62%|█████████████████████████████████████████████████▍                              | 562/910 [07:45<00:22, 15.76it/s]"
     ]
    },
    {
     "name": "stdout",
     "output_type": "stream",
     "text": [
      "../../Processed Data/10K10Q/Data_10Q/item1a_21344_2019-10-24.txt already exists\n",
      "../../Processed Data/10K10Q/Data_10Q/item1a_21344_2015-07-29.txt already exists\n",
      "../../Processed Data/10K10Q/Data_10Q/item1a_21344_2010-04-29.txt already exists\n",
      "../../Processed Data/10K10Q/Data_10Q/item1a_21344_2018-10-30.txt already exists\n",
      "../../Processed Data/10K10Q/Data_10Q/item1a_21344_2013-10-24.txt already exists\n",
      "../../Processed Data/10K10Q/Data_10Q/item1a_21344_2014-07-30.txt already exists\n",
      "../../Processed Data/10K10Q/Data_10Q/item1a_21344_2015-04-30.txt already exists\n",
      "../../Processed Data/10K10Q/Data_10Q/item1a_21344_2011-08-01.txt already exists\n",
      "../../Processed Data/10K10Q/Data_10Q/item1a_21344_2015-10-28.txt already exists\n",
      "../../Processed Data/10K10Q/Data_10Q/item1a_21344_2019-07-25.txt already exists\n",
      "../../Processed Data/10K10Q/Data_10Q/item1a_21344_2016-10-27.txt already exists\n",
      "../../Processed Data/10K10Q/Data_10Q/item1a_21344_2010-10-29.txt already exists\n",
      "../../Processed Data/10K10Q/Data_10Q/item1a_21344_2017-07-27.txt already exists\n",
      "../../Processed Data/10K10Q/Data_10Q/item1a_21344_2011-05-02.txt already exists\n",
      "../../Processed Data/10K10Q/Data_10Q/item1a_21344_2013-04-25.txt already exists\n",
      "../../Processed Data/10K10Q/Data_10Q/item1a_21344_2012-07-26.txt already exists\n",
      "../../Processed Data/10K10Q/Data_10Q/item1a_21344_2016-04-28.txt already exists\n"
     ]
    },
    {
     "name": "stderr",
     "output_type": "stream",
     "text": [
      "\r",
      " 64%|██████████████████████████████████████████████████▉                             | 579/910 [07:46<00:15, 21.56it/s]"
     ]
    },
    {
     "name": "stdout",
     "output_type": "stream",
     "text": [
      "../../Processed Data/10K10Q/Data_10Q/item1a_21344_2018-07-26.txt already exists\n",
      "../../Processed Data/10K10Q/Data_10Q/item1a_21344_2019-04-25.txt already exists\n",
      "../../Processed Data/10K10Q/Data_10Q/item1a_21344_2012-10-25.txt already exists\n",
      "../../Processed Data/10K10Q/Data_10Q/item1a_21344_2018-05-01.txt already exists\n",
      "../../Processed Data/10K10Q/Data_10Q/item1a_21344_2010-08-02.txt already exists\n",
      "../../Processed Data/10K10Q/Data_10Q/item1a_21344_2011-10-27.txt already exists\n",
      "../../Processed Data/10K10Q/Data_10Q/item1a_21344_2016-07-28.txt already exists\n",
      "../../Processed Data/10K10Q/Data_10Q/item1a_21344_2014-04-24.txt already exists\n",
      "../../Processed Data/10K10Q/Data_10Q/item1a_21344_2017-04-27.txt already exists\n",
      "../../Processed Data/10K10Q/Data_10Q/item1a_21344_2012-04-26.txt already exists\n",
      "../../Processed Data/10K10Q/Data_10Q/item1a_21344_2013-07-25.txt already exists\n",
      "../../Processed Data/10K10Q/Data_10Q/item1a_50863_2010-11-02.txt already exists\n",
      "../../Processed Data/10K10Q/Data_10Q/item1a_50863_2011-05-09.txt already exists\n",
      "../../Processed Data/10K10Q/Data_10Q/item1a_50863_2016-05-02.txt already exists\n",
      "../../Processed Data/10K10Q/Data_10Q/item1a_50863_2014-04-25.txt already exists\n",
      "../../Processed Data/10K10Q/Data_10Q/item1a_50863_2013-07-29.txt already exists\n"
     ]
    },
    {
     "name": "stderr",
     "output_type": "stream",
     "text": [
      "\r",
      " 65%|████████████████████████████████████████████████████▎                           | 595/910 [07:46<00:10, 29.11it/s]"
     ]
    },
    {
     "name": "stdout",
     "output_type": "stream",
     "text": [
      "../../Processed Data/10K10Q/Data_10Q/item1a_50863_2015-07-27.txt already exists\n",
      "../../Processed Data/10K10Q/Data_10Q/item1a_50863_2010-07-30.txt already exists\n",
      "../../Processed Data/10K10Q/Data_10Q/item1a_50863_2018-07-27.txt already exists\n",
      "../../Processed Data/10K10Q/Data_10Q/item1a_50863_2017-04-27.txt already exists\n",
      "../../Processed Data/10K10Q/Data_10Q/item1a_50863_2016-08-01.txt already exists\n",
      "../../Processed Data/10K10Q/Data_10Q/item1a_50863_2014-07-25.txt already exists\n",
      "../../Processed Data/10K10Q/Data_10Q/item1a_50863_2016-10-31.txt already exists\n",
      "../../Processed Data/10K10Q/Data_10Q/item1a_50863_2015-10-28.txt already exists\n",
      "../../Processed Data/10K10Q/Data_10Q/item1a_50863_2018-04-27.txt already exists\n",
      "../../Processed Data/10K10Q/Data_10Q/item1a_50863_2017-07-27.txt already exists\n",
      "../../Processed Data/10K10Q/Data_10Q/item1a_50863_2015-04-27.txt already exists\n",
      "../../Processed Data/10K10Q/Data_10Q/item1a_50863_2013-04-29.txt already exists\n",
      "../../Processed Data/10K10Q/Data_10Q/item1a_50863_2013-10-28.txt already exists\n",
      "../../Processed Data/10K10Q/Data_10Q/item1a_50863_2018-10-26.txt already exists\n",
      "../../Processed Data/10K10Q/Data_10Q/item1a_50863_2019-07-26.txt already exists\n",
      "../../Processed Data/10K10Q/Data_10Q/item1a_50863_2012-08-01.txt already exists\n",
      "../../Processed Data/10K10Q/Data_10Q/item1a_50863_2012-10-31.txt already exists\n",
      "../../Processed Data/10K10Q/Data_10Q/item1a_50863_2014-10-29.txt already exists\n"
     ]
    },
    {
     "name": "stderr",
     "output_type": "stream",
     "text": [
      "\r",
      " 67%|█████████████████████████████████████████████████████▉                          | 613/910 [07:46<00:07, 38.87it/s]"
     ]
    },
    {
     "name": "stdout",
     "output_type": "stream",
     "text": [
      "../../Processed Data/10K10Q/Data_10Q/item1a_50863_2019-10-25.txt already exists\n",
      "../../Processed Data/10K10Q/Data_10Q/item1a_50863_2017-10-26.txt already exists\n",
      "../../Processed Data/10K10Q/Data_10Q/item1a_50863_2012-05-04.txt already exists\n",
      "../../Processed Data/10K10Q/Data_10Q/item1a_50863_2011-08-08.txt already exists\n",
      "../../Processed Data/10K10Q/Data_10Q/item1a_50863_2010-05-03.txt already exists\n",
      "../../Processed Data/10K10Q/Data_10Q/item1a_50863_2011-11-04.txt already exists\n",
      "../../Processed Data/10K10Q/Data_10Q/item1a_50863_2019-04-26.txt already exists\n",
      "../../Processed Data/10K10Q/Data_10Q/item1a_354950_2015-11-24.txt already exists\n",
      "../../Processed Data/10K10Q/Data_10Q/item1a_354950_2017-08-22.txt already exists\n",
      "../../Processed Data/10K10Q/Data_10Q/item1a_354950_2011-09-01.txt already exists\n",
      "../../Processed Data/10K10Q/Data_10Q/item1a_354950_2013-05-29.txt already exists\n",
      "../../Processed Data/10K10Q/Data_10Q/item1a_354950_2015-05-27.txt already exists\n",
      "../../Processed Data/10K10Q/Data_10Q/item1a_354950_2012-08-22.txt already exists\n",
      "../../Processed Data/10K10Q/Data_10Q/item1a_354950_2016-05-24.txt already exists\n",
      "../../Processed Data/10K10Q/Data_10Q/item1a_354950_2010-12-02.txt already exists\n",
      "../../Processed Data/10K10Q/Data_10Q/item1a_354950_2015-08-25.txt already exists\n",
      "../../Processed Data/10K10Q/Data_10Q/item1a_354950_2013-11-27.txt already exists\n"
     ]
    },
    {
     "name": "stderr",
     "output_type": "stream",
     "text": [
      "\r",
      " 69%|███████████████████████████████████████████████████████▍                        | 630/910 [07:46<00:05, 49.95it/s]"
     ]
    },
    {
     "name": "stdout",
     "output_type": "stream",
     "text": [
      "../../Processed Data/10K10Q/Data_10Q/item1a_354950_2019-08-27.txt already exists\n",
      "../../Processed Data/10K10Q/Data_10Q/item1a_354950_2019-05-29.txt already exists\n",
      "../../Processed Data/10K10Q/Data_10Q/item1a_354950_2010-09-02.txt already exists\n",
      "../../Processed Data/10K10Q/Data_10Q/item1a_354950_2014-08-27.txt already exists\n",
      "../../Processed Data/10K10Q/Data_10Q/item1a_354950_2011-06-02.txt already exists\n",
      "../../Processed Data/10K10Q/Data_10Q/item1a_354950_2014-05-28.txt already exists\n",
      "../../Processed Data/10K10Q/Data_10Q/item1a_354950_2019-11-26.txt already exists\n",
      "../../Processed Data/10K10Q/Data_10Q/item1a_354950_2016-08-23.txt already exists\n",
      "../../Processed Data/10K10Q/Data_10Q/item1a_354950_2014-11-25.txt already exists\n",
      "../../Processed Data/10K10Q/Data_10Q/item1a_354950_2018-05-22.txt already exists\n",
      "../../Processed Data/10K10Q/Data_10Q/item1a_354950_2018-11-20.txt already exists\n",
      "../../Processed Data/10K10Q/Data_10Q/item1a_354950_2012-05-24.txt already exists\n",
      "../../Processed Data/10K10Q/Data_10Q/item1a_354950_2011-11-29.txt already exists\n",
      "../../Processed Data/10K10Q/Data_10Q/item1a_354950_2016-11-22.txt already exists\n",
      "../../Processed Data/10K10Q/Data_10Q/item1a_354950_2018-08-21.txt already exists\n",
      "../../Processed Data/10K10Q/Data_10Q/item1a_354950_2013-08-28.txt already exists\n",
      "../../Processed Data/10K10Q/Data_10Q/item1a_354950_2012-11-21.txt already exists\n"
     ]
    },
    {
     "name": "stderr",
     "output_type": "stream",
     "text": [
      "\r",
      " 71%|████████████████████████████████████████████████████████▉                       | 647/910 [07:46<00:04, 62.90it/s]"
     ]
    },
    {
     "name": "stdout",
     "output_type": "stream",
     "text": [
      "../../Processed Data/10K10Q/Data_10Q/item1a_354950_2010-06-03.txt already exists\n",
      "../../Processed Data/10K10Q/Data_10Q/item1a_354950_2017-05-23.txt already exists\n",
      "../../Processed Data/10K10Q/Data_10Q/item1a_354950_2017-11-21.txt already exists\n",
      "../../Processed Data/10K10Q/Data_10Q/item1a_80424_2013-01-25.txt already exists\n",
      "../../Processed Data/10K10Q/Data_10Q/item1a_80424_2017-10-20.txt already exists\n",
      "../../Processed Data/10K10Q/Data_10Q/item1a_80424_2016-10-25.txt already exists\n",
      "../../Processed Data/10K10Q/Data_10Q/item1a_80424_2015-01-27.txt already exists\n",
      "../../Processed Data/10K10Q/Data_10Q/item1a_80424_2017-01-20.txt already exists\n",
      "../../Processed Data/10K10Q/Data_10Q/item1a_80424_2013-10-25.txt already exists\n",
      "../../Processed Data/10K10Q/Data_10Q/item1a_80424_2019-10-22.txt already exists\n",
      "../../Processed Data/10K10Q/Data_10Q/item1a_80424_2019-01-23.txt already exists\n",
      "../../Processed Data/10K10Q/Data_10Q/item1a_80424_2016-04-26.txt already exists\n",
      "../../Processed Data/10K10Q/Data_10Q/item1a_80424_2014-01-24.txt already exists\n",
      "../../Processed Data/10K10Q/Data_10Q/item1a_80424_2011-01-28.txt already exists\n",
      "../../Processed Data/10K10Q/Data_10Q/item1a_80424_2012-01-27.txt already exists\n",
      "../../Processed Data/10K10Q/Data_10Q/item1a_80424_2018-04-19.txt already exists\n"
     ]
    },
    {
     "name": "stderr",
     "output_type": "stream",
     "text": [
      "\r",
      " 73%|██████████████████████████████████████████████████████████▎                     | 663/910 [07:46<00:03, 76.15it/s]"
     ]
    },
    {
     "name": "stdout",
     "output_type": "stream",
     "text": [
      "../../Processed Data/10K10Q/Data_10Q/item1a_80424_2015-04-23.txt already exists\n",
      "../../Processed Data/10K10Q/Data_10Q/item1a_80424_2014-10-24.txt already exists\n",
      "../../Processed Data/10K10Q/Data_10Q/item1a_80424_2012-04-27.txt already exists\n",
      "../../Processed Data/10K10Q/Data_10Q/item1a_80424_2012-10-25.txt already exists\n",
      "../../Processed Data/10K10Q/Data_10Q/item1a_80424_2017-04-26.txt already exists\n",
      "../../Processed Data/10K10Q/Data_10Q/item1a_80424_2018-01-23.txt already exists\n",
      "../../Processed Data/10K10Q/Data_10Q/item1a_80424_2011-04-29.txt already exists\n",
      "../../Processed Data/10K10Q/Data_10Q/item1a_80424_2018-10-19.txt already exists\n",
      "../../Processed Data/10K10Q/Data_10Q/item1a_80424_2011-10-27.txt already exists\n",
      "../../Processed Data/10K10Q/Data_10Q/item1a_80424_2015-10-23.txt already exists\n",
      "../../Processed Data/10K10Q/Data_10Q/item1a_80424_2020-01-23.txt already exists\n",
      "../../Processed Data/10K10Q/Data_10Q/item1a_80424_2019-04-23.txt already exists\n",
      "../../Processed Data/10K10Q/Data_10Q/item1a_80424_2010-01-28.txt already exists\n",
      "../../Processed Data/10K10Q/Data_10Q/item1a_80424_2016-01-26.txt already exists\n",
      "../../Processed Data/10K10Q/Data_10Q/item1a_80424_2013-04-24.txt already exists\n",
      "../../Processed Data/10K10Q/Data_10Q/item1a_80424_2014-04-23.txt already exists\n"
     ]
    },
    {
     "name": "stderr",
     "output_type": "stream",
     "text": [
      "\r",
      " 75%|███████████████████████████████████████████████████████████▋                    | 679/910 [07:46<00:02, 90.26it/s]"
     ]
    },
    {
     "name": "stdout",
     "output_type": "stream",
     "text": [
      "../../Processed Data/10K10Q/Data_10Q/item1a_80424_2010-04-30.txt already exists\n",
      "../../Processed Data/10K10Q/Data_10Q/item1a_80424_2010-10-28.txt already exists\n",
      "../../Processed Data/10K10Q/Data_10Q/item1a_104169_2013-09-05.txt already exists\n",
      "../../Processed Data/10K10Q/Data_10Q/item1a_104169_2018-11-30.txt already exists\n",
      "../../Processed Data/10K10Q/Data_10Q/item1a_104169_2011-12-08.txt already exists\n",
      "../../Processed Data/10K10Q/Data_10Q/item1a_104169_2019-06-07.txt already exists\n",
      "../../Processed Data/10K10Q/Data_10Q/item1a_104169_2019-12-04.txt already exists\n",
      "../../Processed Data/10K10Q/Data_10Q/item1a_104169_2014-06-06.txt already exists\n",
      "../../Processed Data/10K10Q/Data_10Q/item1a_104169_2018-09-06.txt already exists\n",
      "../../Processed Data/10K10Q/Data_10Q/item1a_104169_2017-06-02.txt already exists\n",
      "../../Processed Data/10K10Q/Data_10Q/item1a_104169_2018-06-04.txt already exists\n",
      "../../Processed Data/10K10Q/Data_10Q/item1a_104169_2012-09-06.txt already exists\n",
      "../../Processed Data/10K10Q/Data_10Q/item1a_104169_2015-06-05.txt already exists\n",
      "../../Processed Data/10K10Q/Data_10Q/item1a_104169_2010-12-06.txt already exists\n",
      "../../Processed Data/10K10Q/Data_10Q/item1a_104169_2010-06-04.txt already exists\n",
      "../../Processed Data/10K10Q/Data_10Q/item1a_104169_2013-06-07.txt already exists\n",
      "../../Processed Data/10K10Q/Data_10Q/item1a_104169_2017-08-31.txt already exists\n"
     ]
    },
    {
     "name": "stderr",
     "output_type": "stream",
     "text": [
      "\r",
      " 76%|████████████████████████████████████████████████████████████▍                  | 696/910 [07:46<00:02, 103.19it/s]"
     ]
    },
    {
     "name": "stdout",
     "output_type": "stream",
     "text": [
      "../../Processed Data/10K10Q/Data_10Q/item1a_104169_2010-09-01.txt already exists\n",
      "../../Processed Data/10K10Q/Data_10Q/item1a_104169_2014-09-05.txt already exists\n",
      "../../Processed Data/10K10Q/Data_10Q/item1a_104169_2017-12-01.txt already exists\n",
      "../../Processed Data/10K10Q/Data_10Q/item1a_104169_2013-12-06.txt already exists\n",
      "../../Processed Data/10K10Q/Data_10Q/item1a_104169_2012-06-01.txt already exists\n",
      "../../Processed Data/10K10Q/Data_10Q/item1a_104169_2014-12-01.txt already exists\n",
      "../../Processed Data/10K10Q/Data_10Q/item1a_104169_2019-09-06.txt already exists\n",
      "../../Processed Data/10K10Q/Data_10Q/item1a_104169_2011-06-03.txt already exists\n",
      "../../Processed Data/10K10Q/Data_10Q/item1a_104169_2015-12-02.txt already exists\n",
      "../../Processed Data/10K10Q/Data_10Q/item1a_104169_2015-09-09.txt already exists\n",
      "../../Processed Data/10K10Q/Data_10Q/item1a_104169_2011-09-01.txt already exists\n",
      "../../Processed Data/10K10Q/Data_10Q/item1a_104169_2016-08-31.txt already exists\n",
      "../../Processed Data/10K10Q/Data_10Q/item1a_104169_2016-06-03.txt already exists\n",
      "../../Processed Data/10K10Q/Data_10Q/item1a_104169_2016-12-01.txt already exists\n",
      "../../Processed Data/10K10Q/Data_10Q/item1a_104169_2012-12-04.txt already exists\n",
      "../../Processed Data/10K10Q/Data_10Q/item1a_66740_2016-08-02.txt already exists\n",
      "../../Processed Data/10K10Q/Data_10Q/item1a_66740_2019-10-25.txt already exists\n"
     ]
    },
    {
     "name": "stderr",
     "output_type": "stream",
     "text": [
      "\r",
      " 78%|█████████████████████████████████████████████████████████████▉                 | 713/910 [07:46<00:01, 116.57it/s]"
     ]
    },
    {
     "name": "stdout",
     "output_type": "stream",
     "text": [
      "../../Processed Data/10K10Q/Data_10Q/item1a_66740_2019-04-26.txt already exists\n",
      "../../Processed Data/10K10Q/Data_10Q/item1a_66740_2017-10-31.txt already exists\n",
      "../../Processed Data/10K10Q/Data_10Q/item1a_66740_2011-08-04.txt already exists\n",
      "../../Processed Data/10K10Q/Data_10Q/item1a_66740_2011-11-03.txt already exists\n",
      "../../Processed Data/10K10Q/Data_10Q/item1a_66740_2017-08-01.txt already exists\n",
      "../../Processed Data/10K10Q/Data_10Q/item1a_66740_2017-05-03.txt already exists\n",
      "../../Processed Data/10K10Q/Data_10Q/item1a_66740_2014-07-31.txt already exists\n",
      "../../Processed Data/10K10Q/Data_10Q/item1a_66740_2012-05-03.txt already exists\n",
      "../../Processed Data/10K10Q/Data_10Q/item1a_66740_2012-11-01.txt already exists\n",
      "../../Processed Data/10K10Q/Data_10Q/item1a_66740_2019-07-26.txt already exists\n",
      "../../Processed Data/10K10Q/Data_10Q/item1a_66740_2014-05-01.txt already exists\n",
      "../../Processed Data/10K10Q/Data_10Q/item1a_66740_2018-05-08.txt already exists\n",
      "../../Processed Data/10K10Q/Data_10Q/item1a_66740_2010-05-05.txt already exists\n",
      "../../Processed Data/10K10Q/Data_10Q/item1a_66740_2012-08-02.txt already exists\n",
      "../../Processed Data/10K10Q/Data_10Q/item1a_66740_2015-04-30.txt already exists\n",
      "../../Processed Data/10K10Q/Data_10Q/item1a_66740_2010-08-04.txt already exists\n"
     ]
    },
    {
     "name": "stderr",
     "output_type": "stream",
     "text": [
      "\r",
      " 80%|███████████████████████████████████████████████████████████████▎               | 729/910 [07:46<00:01, 124.61it/s]"
     ]
    },
    {
     "name": "stdout",
     "output_type": "stream",
     "text": [
      "../../Processed Data/10K10Q/Data_10Q/item1a_66740_2010-11-05.txt already exists\n",
      "../../Processed Data/10K10Q/Data_10Q/item1a_66740_2013-10-31.txt already exists\n",
      "../../Processed Data/10K10Q/Data_10Q/item1a_66740_2015-10-29.txt already exists\n",
      "../../Processed Data/10K10Q/Data_10Q/item1a_66740_2018-10-25.txt already exists\n",
      "../../Processed Data/10K10Q/Data_10Q/item1a_66740_2015-07-30.txt already exists\n",
      "../../Processed Data/10K10Q/Data_10Q/item1a_66740_2018-07-26.txt already exists\n",
      "../../Processed Data/10K10Q/Data_10Q/item1a_66740_2013-08-01.txt already exists\n",
      "../../Processed Data/10K10Q/Data_10Q/item1a_66740_2011-05-05.txt already exists\n",
      "../../Processed Data/10K10Q/Data_10Q/item1a_66740_2016-05-03.txt already exists\n",
      "../../Processed Data/10K10Q/Data_10Q/item1a_66740_2016-11-01.txt already exists\n",
      "../../Processed Data/10K10Q/Data_10Q/item1a_66740_2013-05-02.txt already exists\n",
      "../../Processed Data/10K10Q/Data_10Q/item1a_66740_2014-10-30.txt already exists\n",
      "../../Processed Data/10K10Q/Data_10Q/item1a_1618921_2017-01-05.txt already exists\n",
      "../../Processed Data/10K10Q/Data_10Q/item1a_1618921_2018-03-28.txt already exists\n",
      "../../Processed Data/10K10Q/Data_10Q/item1a_1618921_2020-01-08.txt already exists\n",
      "Scraping  Data_10Q/1618921/1618921_2014-12-30.html\n",
      "Failed\n",
      "\n",
      "\n",
      "\n"
     ]
    },
    {
     "name": "stderr",
     "output_type": "stream",
     "text": [
      "\r",
      " 82%|█████████████████████████████████████████████████████████████████▍              | 745/910 [07:47<00:02, 72.92it/s]"
     ]
    },
    {
     "name": "stdout",
     "output_type": "stream",
     "text": [
      "../../Processed Data/10K10Q/Data_10Q/item1a_1618921_2016-04-05.txt already exists\n",
      "../../Processed Data/10K10Q/Data_10Q/item1a_1618921_2018-01-04.txt already exists\n",
      "../../Processed Data/10K10Q/Data_10Q/item1a_1618921_2016-01-07.txt already exists\n",
      "../../Processed Data/10K10Q/Data_10Q/item1a_1618921_2019-04-02.txt already exists\n",
      "../../Processed Data/10K10Q/Data_10Q/item1a_1618921_2017-06-29.txt already exists\n",
      "../../Processed Data/10K10Q/Data_10Q/item1a_1618921_2018-12-20.txt already exists\n",
      "../../Processed Data/10K10Q/Data_10Q/item1a_1618921_2019-06-27.txt already exists\n",
      "../../Processed Data/10K10Q/Data_10Q/item1a_1618921_2015-04-09.txt already exists\n",
      "../../Processed Data/10K10Q/Data_10Q/item1a_1618921_2018-06-28.txt already exists\n",
      "../../Processed Data/10K10Q/Data_10Q/item1a_1618921_2015-07-09.txt already exists\n",
      "../../Processed Data/10K10Q/Data_10Q/item1a_1618921_2016-07-06.txt already exists\n",
      "../../Processed Data/10K10Q/Data_10Q/item1a_1618921_2017-04-05.txt already exists\n",
      "../../Processed Data/10K10Q/Data_10Q/item1a_93410_2017-05-04.txt already exists\n",
      "../../Processed Data/10K10Q/Data_10Q/item1a_93410_2016-11-03.txt already exists\n",
      "../../Processed Data/10K10Q/Data_10Q/item1a_93410_2011-08-04.txt already exists\n",
      "../../Processed Data/10K10Q/Data_10Q/item1a_93410_2018-05-03.txt already exists\n",
      "../../Processed Data/10K10Q/Data_10Q/item1a_93410_2012-11-06.txt already exists\n"
     ]
    },
    {
     "name": "stderr",
     "output_type": "stream",
     "text": [
      "\r",
      " 84%|██████████████████████████████████████████████████████████████████▉             | 762/910 [07:47<00:01, 87.50it/s]"
     ]
    },
    {
     "name": "stdout",
     "output_type": "stream",
     "text": [
      "../../Processed Data/10K10Q/Data_10Q/item1a_93410_2013-11-08.txt already exists\n",
      "../../Processed Data/10K10Q/Data_10Q/item1a_93410_2015-11-06.txt already exists\n",
      "../../Processed Data/10K10Q/Data_10Q/item1a_93410_2010-05-05.txt already exists\n",
      "../../Processed Data/10K10Q/Data_10Q/item1a_93410_2012-05-03.txt already exists\n",
      "../../Processed Data/10K10Q/Data_10Q/item1a_93410_2016-08-04.txt already exists\n",
      "../../Processed Data/10K10Q/Data_10Q/item1a_93410_2011-11-03.txt already exists\n",
      "../../Processed Data/10K10Q/Data_10Q/item1a_93410_2010-11-05.txt already exists\n",
      "../../Processed Data/10K10Q/Data_10Q/item1a_93410_2018-11-08.txt already exists\n",
      "../../Processed Data/10K10Q/Data_10Q/item1a_93410_2016-05-05.txt already exists\n",
      "../../Processed Data/10K10Q/Data_10Q/item1a_93410_2017-11-02.txt already exists\n",
      "../../Processed Data/10K10Q/Data_10Q/item1a_93410_2010-08-05.txt already exists\n",
      "../../Processed Data/10K10Q/Data_10Q/item1a_93410_2015-08-05.txt already exists\n",
      "../../Processed Data/10K10Q/Data_10Q/item1a_93410_2019-05-02.txt already exists\n",
      "../../Processed Data/10K10Q/Data_10Q/item1a_93410_2015-05-07.txt already exists\n",
      "../../Processed Data/10K10Q/Data_10Q/item1a_93410_2012-08-02.txt already exists\n",
      "../../Processed Data/10K10Q/Data_10Q/item1a_93410_2014-05-02.txt already exists\n",
      "../../Processed Data/10K10Q/Data_10Q/item1a_93410_2013-08-07.txt already exists\n",
      "../../Processed Data/10K10Q/Data_10Q/item1a_93410_2017-08-03.txt already exists\n"
     ]
    },
    {
     "name": "stderr",
     "output_type": "stream",
     "text": [
      "\r",
      " 86%|███████████████████████████████████████████████████████████████████▉           | 782/910 [07:47<00:01, 104.82it/s]"
     ]
    },
    {
     "name": "stdout",
     "output_type": "stream",
     "text": [
      "../../Processed Data/10K10Q/Data_10Q/item1a_93410_2019-11-07.txt already exists\n",
      "../../Processed Data/10K10Q/Data_10Q/item1a_93410_2013-05-02.txt already exists\n",
      "../../Processed Data/10K10Q/Data_10Q/item1a_93410_2018-08-02.txt already exists\n",
      "../../Processed Data/10K10Q/Data_10Q/item1a_93410_2019-08-07.txt already exists\n",
      "../../Processed Data/10K10Q/Data_10Q/item1a_93410_2014-11-07.txt already exists\n",
      "../../Processed Data/10K10Q/Data_10Q/item1a_93410_2011-05-05.txt already exists\n",
      "../../Processed Data/10K10Q/Data_10Q/item1a_93410_2014-08-06.txt already exists\n",
      "../../Processed Data/10K10Q/Data_10Q/item1a_19617_2010-05-10.txt already exists\n",
      "../../Processed Data/10K10Q/Data_10Q/item1a_19617_2013-08-07.txt already exists\n",
      "../../Processed Data/10K10Q/Data_10Q/item1a_19617_2014-05-02.txt already exists\n",
      "../../Processed Data/10K10Q/Data_10Q/item1a_19617_2016-04-29.txt already exists\n",
      "../../Processed Data/10K10Q/Data_10Q/item1a_19617_2019-05-02.txt already exists\n",
      "../../Processed Data/10K10Q/Data_10Q/item1a_19617_2010-11-09.txt already exists\n",
      "../../Processed Data/10K10Q/Data_10Q/item1a_19617_2013-05-08.txt already exists\n",
      "../../Processed Data/10K10Q/Data_10Q/item1a_19617_2017-08-02.txt already exists\n",
      "../../Processed Data/10K10Q/Data_10Q/item1a_19617_2013-11-01.txt already exists\n",
      "../../Processed Data/10K10Q/Data_10Q/item1a_19617_2015-08-03.txt already exists\n",
      "../../Processed Data/10K10Q/Data_10Q/item1a_19617_2012-05-10.txt already exists\n",
      "../../Processed Data/10K10Q/Data_10Q/item1a_19617_2019-08-06.txt already exists\n"
     ]
    },
    {
     "name": "stderr",
     "output_type": "stream",
     "text": [
      "\r",
      " 88%|█████████████████████████████████████████████████████████████████████▌         | 802/910 [07:47<00:00, 121.79it/s]"
     ]
    },
    {
     "name": "stdout",
     "output_type": "stream",
     "text": [
      "../../Processed Data/10K10Q/Data_10Q/item1a_19617_2012-11-08.txt already exists\n",
      "../../Processed Data/10K10Q/Data_10Q/item1a_19617_2015-11-02.txt already exists\n",
      "../../Processed Data/10K10Q/Data_10Q/item1a_19617_2012-08-09.txt already exists\n",
      "../../Processed Data/10K10Q/Data_10Q/item1a_19617_2016-11-01.txt already exists\n",
      "../../Processed Data/10K10Q/Data_10Q/item1a_19617_2014-08-04.txt already exists\n",
      "../../Processed Data/10K10Q/Data_10Q/item1a_19617_2019-11-04.txt already exists\n",
      "../../Processed Data/10K10Q/Data_10Q/item1a_19617_2011-08-05.txt already exists\n",
      "../../Processed Data/10K10Q/Data_10Q/item1a_19617_2018-08-01.txt already exists\n",
      "../../Processed Data/10K10Q/Data_10Q/item1a_19617_2011-11-04.txt already exists\n",
      "../../Processed Data/10K10Q/Data_10Q/item1a_19617_2011-05-06.txt already exists\n",
      "../../Processed Data/10K10Q/Data_10Q/item1a_19617_2016-08-03.txt already exists\n",
      "../../Processed Data/10K10Q/Data_10Q/item1a_19617_2018-05-02.txt already exists\n",
      "../../Processed Data/10K10Q/Data_10Q/item1a_19617_2015-05-05.txt already exists\n",
      "../../Processed Data/10K10Q/Data_10Q/item1a_19617_2017-11-01.txt already exists\n",
      "../../Processed Data/10K10Q/Data_10Q/item1a_19617_2010-08-06.txt already exists\n",
      "../../Processed Data/10K10Q/Data_10Q/item1a_19617_2017-05-02.txt already exists\n",
      "../../Processed Data/10K10Q/Data_10Q/item1a_19617_2014-11-03.txt already exists\n"
     ]
    },
    {
     "name": "stderr",
     "output_type": "stream",
     "text": [
      "\r",
      " 90%|███████████████████████████████████████████████████████████████████████        | 819/910 [07:47<00:00, 131.92it/s]"
     ]
    },
    {
     "name": "stdout",
     "output_type": "stream",
     "text": [
      "../../Processed Data/10K10Q/Data_10Q/item1a_19617_2018-10-31.txt already exists\n",
      "../../Processed Data/10K10Q/Data_10Q/item1a_101829_2015-10-23.txt already exists\n",
      "../../Processed Data/10K10Q/Data_10Q/item1a_101829_2010-07-26.txt already exists\n",
      "../../Processed Data/10K10Q/Data_10Q/item1a_101829_2011-04-25.txt already exists\n",
      "../../Processed Data/10K10Q/Data_10Q/item1a_101829_2018-07-27.txt already exists\n",
      "../../Processed Data/10K10Q/Data_10Q/item1a_101829_2012-04-30.txt already exists\n",
      "../../Processed Data/10K10Q/Data_10Q/item1a_101829_2016-07-29.txt already exists\n",
      "../../Processed Data/10K10Q/Data_10Q/item1a_101829_2014-04-25.txt already exists\n",
      "../../Processed Data/10K10Q/Data_10Q/item1a_101829_2012-07-30.txt already exists\n",
      "../../Processed Data/10K10Q/Data_10Q/item1a_101829_2018-04-27.txt already exists\n",
      "../../Processed Data/10K10Q/Data_10Q/item1a_101829_2011-07-25.txt already exists\n",
      "../../Processed Data/10K10Q/Data_10Q/item1a_101829_2010-04-26.txt already exists\n",
      "../../Processed Data/10K10Q/Data_10Q/item1a_101829_2010-10-25.txt already exists\n",
      "../../Processed Data/10K10Q/Data_10Q/item1a_101829_2016-04-29.txt already exists\n",
      "../../Processed Data/10K10Q/Data_10Q/item1a_101829_2014-07-25.txt already exists\n",
      "../../Processed Data/10K10Q/Data_10Q/item1a_101829_2016-10-27.txt already exists\n",
      "../../Processed Data/10K10Q/Data_10Q/item1a_101829_2019-07-26.txt already exists\n",
      "../../Processed Data/10K10Q/Data_10Q/item1a_101829_2013-10-25.txt already exists\n",
      "../../Processed Data/10K10Q/Data_10Q/item1a_101829_2015-04-24.txt already exists\n"
     ]
    },
    {
     "name": "stderr",
     "output_type": "stream",
     "text": [
      "\r",
      " 92%|████████████████████████████████████████████████████████████████████████▋      | 838/910 [07:47<00:00, 144.36it/s]"
     ]
    },
    {
     "name": "stdout",
     "output_type": "stream",
     "text": [
      "../../Processed Data/10K10Q/Data_10Q/item1a_101829_2017-07-28.txt already exists\n",
      "../../Processed Data/10K10Q/Data_10Q/item1a_101829_2018-10-26.txt already exists\n",
      "../../Processed Data/10K10Q/Data_10Q/item1a_101829_2013-04-26.txt already exists\n",
      "../../Processed Data/10K10Q/Data_10Q/item1a_101829_2014-10-24.txt already exists\n",
      "../../Processed Data/10K10Q/Data_10Q/item1a_101829_2017-10-27.txt already exists\n",
      "../../Processed Data/10K10Q/Data_10Q/item1a_101829_2012-10-26.txt already exists\n",
      "../../Processed Data/10K10Q/Data_10Q/item1a_101829_2019-04-26.txt already exists\n",
      "../../Processed Data/10K10Q/Data_10Q/item1a_101829_2013-07-26.txt already exists\n",
      "../../Processed Data/10K10Q/Data_10Q/item1a_101829_2019-10-25.txt already exists\n",
      "../../Processed Data/10K10Q/Data_10Q/item1a_101829_2015-07-24.txt already exists\n",
      "../../Processed Data/10K10Q/Data_10Q/item1a_101829_2017-04-28.txt already exists\n",
      "../../Processed Data/10K10Q/Data_10Q/item1a_101829_2011-10-24.txt already exists\n",
      "../../Processed Data/10K10Q/Data_10Q/item1a_4962_2016-07-26.txt already exists\n",
      "../../Processed Data/10K10Q/Data_10Q/item1a_4962_2014-10-28.txt already exists\n",
      "../../Processed Data/10K10Q/Data_10Q/item1a_4962_2015-07-29.txt already exists\n",
      "../../Processed Data/10K10Q/Data_10Q/item1a_4962_2018-07-24.txt already exists\n",
      "../../Processed Data/10K10Q/Data_10Q/item1a_4962_2012-10-31.txt already exists\n",
      "../../Processed Data/10K10Q/Data_10Q/item1a_4962_2013-10-29.txt already exists\n",
      "../../Processed Data/10K10Q/Data_10Q/item1a_4962_2014-07-30.txt already exists\n",
      "../../Processed Data/10K10Q/Data_10Q/item1a_4962_2011-11-02.txt already exists\n",
      "../../Processed Data/10K10Q/Data_10Q/item1a_4962_2010-05-05.txt already exists\n"
     ]
    },
    {
     "name": "stderr",
     "output_type": "stream",
     "text": [
      "\r",
      " 94%|██████████████████████████████████████████████████████████████████████████▌    | 859/910 [07:48<00:00, 158.67it/s]"
     ]
    },
    {
     "name": "stdout",
     "output_type": "stream",
     "text": [
      "../../Processed Data/10K10Q/Data_10Q/item1a_4962_2017-07-25.txt already exists\n",
      "../../Processed Data/10K10Q/Data_10Q/item1a_4962_2015-04-29.txt already exists\n",
      "../../Processed Data/10K10Q/Data_10Q/item1a_4962_2018-04-25.txt already exists\n",
      "../../Processed Data/10K10Q/Data_10Q/item1a_4962_2016-04-27.txt already exists\n",
      "../../Processed Data/10K10Q/Data_10Q/item1a_4962_2016-10-25.txt already exists\n",
      "../../Processed Data/10K10Q/Data_10Q/item1a_4962_2011-08-03.txt already exists\n",
      "../../Processed Data/10K10Q/Data_10Q/item1a_4962_2013-04-29.txt already exists\n",
      "../../Processed Data/10K10Q/Data_10Q/item1a_4962_2012-05-01.txt already exists\n",
      "../../Processed Data/10K10Q/Data_10Q/item1a_4962_2010-08-05.txt already exists\n",
      "../../Processed Data/10K10Q/Data_10Q/item1a_4962_2019-04-23.txt already exists\n",
      "../../Processed Data/10K10Q/Data_10Q/item1a_4962_2012-08-02.txt already exists\n",
      "../../Processed Data/10K10Q/Data_10Q/item1a_4962_2019-10-21.txt already exists\n",
      "../../Processed Data/10K10Q/Data_10Q/item1a_4962_2015-10-28.txt already exists\n",
      "../../Processed Data/10K10Q/Data_10Q/item1a_4962_2018-10-23.txt already exists\n",
      "../../Processed Data/10K10Q/Data_10Q/item1a_4962_2010-11-03.txt already exists\n",
      "../../Processed Data/10K10Q/Data_10Q/item1a_4962_2011-05-04.txt already exists\n",
      "../../Processed Data/10K10Q/Data_10Q/item1a_4962_2017-04-27.txt already exists\n",
      "../../Processed Data/10K10Q/Data_10Q/item1a_4962_2013-07-29.txt already exists\n",
      "../../Processed Data/10K10Q/Data_10Q/item1a_4962_2017-10-24.txt already exists\n"
     ]
    },
    {
     "name": "stderr",
     "output_type": "stream",
     "text": [
      "\r",
      " 96%|████████████████████████████████████████████████████████████████████████████▏  | 878/910 [07:48<00:00, 132.74it/s]"
     ]
    },
    {
     "name": "stdout",
     "output_type": "stream",
     "text": [
      "../../Processed Data/10K10Q/Data_10Q/item1a_4962_2014-04-29.txt already exists\n",
      "../../Processed Data/10K10Q/Data_10Q/item1a_4962_2019-07-23.txt already exists\n",
      "Scraping  Data_10Q/34088/34088_2012-05-03.html\n",
      "Failed\n",
      "\n",
      "\n",
      "\n",
      "Scraping  Data_10Q/34088/34088_2013-11-05.html\n",
      "Failed\n",
      "\n",
      "\n",
      "\n",
      "Scraping  Data_10Q/34088/34088_2018-11-07.html\n",
      "Failed\n",
      "\n",
      "\n",
      "\n",
      "Scraping  Data_10Q/34088/34088_2017-05-03.html\n",
      "Failed\n",
      "\n",
      "\n",
      "\n",
      "Scraping  Data_10Q/34088/34088_2017-11-01.html\n",
      "Failed\n",
      "\n",
      "\n",
      "\n",
      "Scraping  Data_10Q/34088/34088_2011-11-03.html\n",
      "Failed\n",
      "\n",
      "\n",
      "\n",
      "Scraping  Data_10Q/34088/34088_2011-08-04.html\n"
     ]
    },
    {
     "name": "stderr",
     "output_type": "stream",
     "text": [
      "\r",
      " 96%|████████████████████████████████████████████████████████████████████████████▏  | 878/910 [08:01<00:00, 132.74it/s]"
     ]
    },
    {
     "name": "stdout",
     "output_type": "stream",
     "text": [
      "Failed\n",
      "\n",
      "\n",
      "\n"
     ]
    },
    {
     "name": "stderr",
     "output_type": "stream",
     "text": [
      "\r",
      " 97%|█████████████████████████████████████████████████████████████████████████████▉  | 887/910 [08:03<00:11,  2.00it/s]"
     ]
    },
    {
     "name": "stdout",
     "output_type": "stream",
     "text": [
      "Scraping  Data_10Q/34088/34088_2016-11-03.html\n",
      "Failed\n",
      "\n",
      "\n",
      "\n"
     ]
    },
    {
     "name": "stderr",
     "output_type": "stream",
     "text": [
      "\r",
      " 98%|██████████████████████████████████████████████████████████████████████████████  | 888/910 [08:05<00:21,  1.05it/s]"
     ]
    },
    {
     "name": "stdout",
     "output_type": "stream",
     "text": [
      "Scraping  Data_10Q/34088/34088_2016-08-03.html\n",
      "Failed\n",
      "\n",
      "\n",
      "\n"
     ]
    },
    {
     "name": "stderr",
     "output_type": "stream",
     "text": [
      "\r",
      " 98%|██████████████████████████████████████████████████████████████████████████████▏ | 889/910 [08:07<00:27,  1.32s/it]"
     ]
    },
    {
     "name": "stdout",
     "output_type": "stream",
     "text": [
      "Scraping  Data_10Q/34088/34088_2014-05-07.html\n",
      "Failed\n",
      "\n",
      "\n",
      "\n"
     ]
    },
    {
     "name": "stderr",
     "output_type": "stream",
     "text": [
      "\r",
      " 98%|██████████████████████████████████████████████████████████████████████████████▏ | 890/910 [08:09<00:29,  1.46s/it]"
     ]
    },
    {
     "name": "stdout",
     "output_type": "stream",
     "text": [
      "Scraping  Data_10Q/34088/34088_2014-11-05.html\n",
      "Failed\n",
      "\n",
      "\n",
      "\n"
     ]
    },
    {
     "name": "stderr",
     "output_type": "stream",
     "text": [
      "\r",
      " 98%|██████████████████████████████████████████████████████████████████████████████▎ | 891/910 [08:10<00:30,  1.60s/it]"
     ]
    },
    {
     "name": "stdout",
     "output_type": "stream",
     "text": [
      "Scraping  Data_10Q/34088/34088_2018-05-03.html\n",
      "Failed\n",
      "\n",
      "\n",
      "\n"
     ]
    },
    {
     "name": "stderr",
     "output_type": "stream",
     "text": [
      "\r",
      " 98%|██████████████████████████████████████████████████████████████████████████████▍ | 892/910 [08:12<00:29,  1.62s/it]"
     ]
    },
    {
     "name": "stdout",
     "output_type": "stream",
     "text": [
      "Scraping  Data_10Q/34088/34088_2012-11-06.html\n",
      "Failed\n",
      "\n",
      "\n",
      "\n"
     ]
    },
    {
     "name": "stderr",
     "output_type": "stream",
     "text": [
      "\r",
      " 98%|██████████████████████████████████████████████████████████████████████████████▌ | 893/910 [08:14<00:30,  1.82s/it]"
     ]
    },
    {
     "name": "stdout",
     "output_type": "stream",
     "text": [
      "Scraping  Data_10Q/34088/34088_2013-05-02.html\n",
      "Failed\n",
      "\n",
      "\n",
      "\n"
     ]
    },
    {
     "name": "stderr",
     "output_type": "stream",
     "text": [
      "\r",
      " 98%|██████████████████████████████████████████████████████████████████████████████▌ | 894/910 [08:16<00:28,  1.76s/it]"
     ]
    },
    {
     "name": "stdout",
     "output_type": "stream",
     "text": [
      "Scraping  Data_10Q/34088/34088_2019-08-07.html\n",
      "Failed\n",
      "\n",
      "\n",
      "\n"
     ]
    },
    {
     "name": "stderr",
     "output_type": "stream",
     "text": [
      "\r",
      " 98%|██████████████████████████████████████████████████████████████████████████████▋ | 895/910 [08:18<00:28,  1.90s/it]"
     ]
    },
    {
     "name": "stdout",
     "output_type": "stream",
     "text": [
      "Scraping  Data_10Q/34088/34088_2018-08-02.html\n",
      "Failed\n",
      "\n",
      "\n",
      "\n"
     ]
    },
    {
     "name": "stderr",
     "output_type": "stream",
     "text": [
      "\r",
      " 98%|██████████████████████████████████████████████████████████████████████████████▊ | 896/910 [08:20<00:27,  1.96s/it]"
     ]
    },
    {
     "name": "stdout",
     "output_type": "stream",
     "text": [
      "../../Processed Data/10K10Q/Data_10Q/item1a_34088_2010-11-03.txt already exists\n",
      "Scraping  Data_10Q/34088/34088_2011-05-05.html\n",
      "Failed\n",
      "\n",
      "\n",
      "\n"
     ]
    },
    {
     "name": "stderr",
     "output_type": "stream",
     "text": [
      "\r",
      " 99%|██████████████████████████████████████████████████████████████████████████████▉ | 898/910 [08:22<00:19,  1.59s/it]"
     ]
    },
    {
     "name": "stdout",
     "output_type": "stream",
     "text": [
      "Scraping  Data_10Q/34088/34088_2019-11-06.html\n",
      "Failed\n",
      "\n",
      "\n",
      "\n"
     ]
    },
    {
     "name": "stderr",
     "output_type": "stream",
     "text": [
      "\r",
      " 99%|███████████████████████████████████████████████████████████████████████████████ | 899/910 [08:25<00:21,  1.94s/it]"
     ]
    },
    {
     "name": "stdout",
     "output_type": "stream",
     "text": [
      "Scraping  Data_10Q/34088/34088_2014-08-06.html\n",
      "Failed\n",
      "\n",
      "\n",
      "\n"
     ]
    },
    {
     "name": "stderr",
     "output_type": "stream",
     "text": [
      "\r",
      " 99%|███████████████████████████████████████████████████████████████████████████████ | 900/910 [08:27<00:21,  2.17s/it]"
     ]
    },
    {
     "name": "stdout",
     "output_type": "stream",
     "text": [
      "Scraping  Data_10Q/34088/34088_2015-05-06.html\n",
      "Failed\n",
      "\n",
      "\n",
      "\n"
     ]
    },
    {
     "name": "stderr",
     "output_type": "stream",
     "text": [
      "\r",
      " 99%|███████████████████████████████████████████████████████████████████████████████▏| 901/910 [08:29<00:18,  2.03s/it]"
     ]
    },
    {
     "name": "stdout",
     "output_type": "stream",
     "text": [
      "Scraping  Data_10Q/34088/34088_2015-11-04.html\n",
      "Failed\n",
      "\n",
      "\n",
      "\n"
     ]
    },
    {
     "name": "stderr",
     "output_type": "stream",
     "text": [
      "\r",
      " 99%|███████████████████████████████████████████████████████████████████████████████▎| 902/910 [08:31<00:16,  2.04s/it]"
     ]
    },
    {
     "name": "stdout",
     "output_type": "stream",
     "text": [
      "Scraping  Data_10Q/34088/34088_2013-08-06.html\n",
      "Failed\n",
      "\n",
      "\n",
      "\n"
     ]
    },
    {
     "name": "stderr",
     "output_type": "stream",
     "text": [
      "\r",
      " 99%|███████████████████████████████████████████████████████████████████████████████▍| 903/910 [08:33<00:14,  2.05s/it]"
     ]
    },
    {
     "name": "stdout",
     "output_type": "stream",
     "text": [
      "Scraping  Data_10Q/34088/34088_2017-08-02.html\n",
      "Failed\n",
      "\n",
      "\n",
      "\n"
     ]
    },
    {
     "name": "stderr",
     "output_type": "stream",
     "text": [
      "\r",
      " 99%|███████████████████████████████████████████████████████████████████████████████▍| 904/910 [08:35<00:12,  2.02s/it]"
     ]
    },
    {
     "name": "stdout",
     "output_type": "stream",
     "text": [
      "Scraping  Data_10Q/34088/34088_2016-05-04.html\n",
      "Failed\n",
      "\n",
      "\n",
      "\n"
     ]
    },
    {
     "name": "stderr",
     "output_type": "stream",
     "text": [
      "\r",
      " 99%|███████████████████████████████████████████████████████████████████████████████▌| 905/910 [08:37<00:09,  1.90s/it]"
     ]
    },
    {
     "name": "stdout",
     "output_type": "stream",
     "text": [
      "../../Processed Data/10K10Q/Data_10Q/item1a_34088_2010-08-04.txt already exists\n",
      "Scraping  Data_10Q/34088/34088_2019-05-02.html\n",
      "Failed\n",
      "\n",
      "\n",
      "\n"
     ]
    },
    {
     "name": "stderr",
     "output_type": "stream",
     "text": [
      "\r",
      "100%|███████████████████████████████████████████████████████████████████████████████▋| 907/910 [08:39<00:05,  1.71s/it]"
     ]
    },
    {
     "name": "stdout",
     "output_type": "stream",
     "text": [
      "Scraping  Data_10Q/34088/34088_2015-08-05.html\n",
      "Failed\n",
      "\n",
      "\n",
      "\n"
     ]
    },
    {
     "name": "stderr",
     "output_type": "stream",
     "text": [
      "\r",
      "100%|███████████████████████████████████████████████████████████████████████████████▊| 908/910 [08:41<00:03,  1.81s/it]"
     ]
    },
    {
     "name": "stdout",
     "output_type": "stream",
     "text": [
      "Scraping  Data_10Q/34088/34088_2010-05-06.html\n",
      "Failed\n",
      "\n",
      "\n",
      "\n"
     ]
    },
    {
     "name": "stderr",
     "output_type": "stream",
     "text": [
      "\r",
      "100%|███████████████████████████████████████████████████████████████████████████████▉| 909/910 [08:43<00:01,  1.78s/it]"
     ]
    },
    {
     "name": "stdout",
     "output_type": "stream",
     "text": [
      "Scraping  Data_10Q/34088/34088_2012-08-02.html\n",
      "Failed\n",
      "\n",
      "\n",
      "\n"
     ]
    },
    {
     "name": "stderr",
     "output_type": "stream",
     "text": [
      "100%|████████████████████████████████████████████████████████████████████████████████| 910/910 [08:47<00:00,  2.41s/it]\n"
     ]
    }
   ],
   "source": [
    "zipped_file = \"../../Raw Data/Data_10Q.zip\"\n",
    "item_name = \"item1a\"\n",
    "# Item 1A. Risk Factors | Item 2.  Unregistered Sale\n",
    "item_regex = \"item[\\s]*1[\\s]*a*[-.:\\s]*risk.*?item[\\s]*2[-.:\\s]*unregis\"\n",
    "save_path = \"../../Processed Data/10K10Q/Data_10Q/\"\n",
    "extract_item(zipped_file, item_name, item_regex, save_path)\n",
    "# 886982, 51143, 200406, 34088 all don't have, already checked manually"
   ]
  },
  {
   "cell_type": "code",
   "execution_count": 7,
   "metadata": {},
   "outputs": [
    {
     "name": "stderr",
     "output_type": "stream",
     "text": [
      "\r",
      "  0%|                                                                                          | 0/910 [00:00<?, ?it/s]"
     ]
    },
    {
     "name": "stdout",
     "output_type": "stream",
     "text": [
      "../../Processed Data/10K10Q/Data_10Q/item1_18230_2010-07-30.txt already exists\n",
      "../../Processed Data/10K10Q/Data_10Q/item1_18230_2013-05-02.txt already exists\n",
      "../../Processed Data/10K10Q/Data_10Q/item1_18230_2015-07-31.txt already exists\n",
      "../../Processed Data/10K10Q/Data_10Q/item1_18230_2012-05-07.txt already exists\n",
      "../../Processed Data/10K10Q/Data_10Q/item1_18230_2015-05-01.txt already exists\n",
      "../../Processed Data/10K10Q/Data_10Q/item1_18230_2019-10-31.txt already exists\n",
      "../../Processed Data/10K10Q/Data_10Q/item1_18230_2013-11-01.txt already exists\n",
      "../../Processed Data/10K10Q/Data_10Q/item1_18230_2014-10-31.txt already exists\n",
      "../../Processed Data/10K10Q/Data_10Q/item1_18230_2011-05-09.txt already exists\n",
      "../../Processed Data/10K10Q/Data_10Q/item1_18230_2016-05-02.txt already exists\n",
      "../../Processed Data/10K10Q/Data_10Q/item1_18230_2017-08-02.txt already exists\n",
      "../../Processed Data/10K10Q/Data_10Q/item1_18230_2019-08-01.txt already exists\n",
      "../../Processed Data/10K10Q/Data_10Q/item1_18230_2014-08-01.txt already exists\n",
      "../../Processed Data/10K10Q/Data_10Q/item1_18230_2012-11-02.txt already exists\n",
      "../../Processed Data/10K10Q/Data_10Q/item1_18230_2014-05-02.txt already exists\n"
     ]
    },
    {
     "name": "stderr",
     "output_type": "stream",
     "text": [
      "\r",
      "  6%|████▉                                                                           | 56/910 [00:00<00:01, 550.49it/s]"
     ]
    },
    {
     "name": "stdout",
     "output_type": "stream",
     "text": [
      "../../Processed Data/10K10Q/Data_10Q/item1_18230_2010-11-04.txt already exists\n",
      "../../Processed Data/10K10Q/Data_10Q/item1_18230_2018-10-31.txt already exists\n",
      "../../Processed Data/10K10Q/Data_10Q/item1_18230_2017-11-01.txt already exists\n",
      "../../Processed Data/10K10Q/Data_10Q/item1_18230_2017-05-03.txt already exists\n",
      "../../Processed Data/10K10Q/Data_10Q/item1_18230_2015-10-30.txt already exists\n",
      "../../Processed Data/10K10Q/Data_10Q/item1_18230_2018-08-07.txt already exists\n",
      "../../Processed Data/10K10Q/Data_10Q/item1_18230_2018-05-02.txt already exists\n",
      "../../Processed Data/10K10Q/Data_10Q/item1_18230_2011-08-04.txt already exists\n",
      "../../Processed Data/10K10Q/Data_10Q/item1_18230_2013-08-02.txt already exists\n",
      "../../Processed Data/10K10Q/Data_10Q/item1_18230_2010-05-03.txt already exists\n",
      "../../Processed Data/10K10Q/Data_10Q/item1_18230_2011-11-04.txt already exists\n",
      "../../Processed Data/10K10Q/Data_10Q/item1_18230_2016-08-03.txt already exists\n",
      "../../Processed Data/10K10Q/Data_10Q/item1_18230_2012-08-06.txt already exists\n",
      "../../Processed Data/10K10Q/Data_10Q/item1_18230_2016-11-02.txt already exists\n",
      "../../Processed Data/10K10Q/Data_10Q/item1_18230_2019-05-06.txt already exists\n",
      "../../Processed Data/10K10Q/Data_10Q/item1_886982_2014-11-05.txt already exists\n",
      "../../Processed Data/10K10Q/Data_10Q/item1_886982_2019-08-05.txt already exists\n"
     ]
    },
    {
     "name": "stderr",
     "output_type": "stream",
     "text": [
      "\r",
      "  8%|██████▊                                                                         | 77/910 [00:00<00:02, 367.00it/s]"
     ]
    },
    {
     "name": "stdout",
     "output_type": "stream",
     "text": [
      "../../Processed Data/10K10Q/Data_10Q/item1_886982_2011-05-10.txt already exists\n",
      "../../Processed Data/10K10Q/Data_10Q/item1_886982_2016-11-03.txt already exists\n",
      "../../Processed Data/10K10Q/Data_10Q/item1_886982_2017-05-04.txt already exists\n",
      "../../Processed Data/10K10Q/Data_10Q/item1_886982_2011-11-09.txt already exists\n",
      "../../Processed Data/10K10Q/Data_10Q/item1_886982_2019-05-06.txt already exists\n",
      "../../Processed Data/10K10Q/Data_10Q/item1_886982_2011-08-09.txt already exists\n",
      "../../Processed Data/10K10Q/Data_10Q/item1_886982_2013-08-08.txt already exists\n",
      "../../Processed Data/10K10Q/Data_10Q/item1_886982_2018-05-04.txt already exists\n",
      "../../Processed Data/10K10Q/Data_10Q/item1_886982_2016-08-04.txt already exists\n",
      "../../Processed Data/10K10Q/Data_10Q/item1_886982_2015-05-05.txt already exists\n",
      "../../Processed Data/10K10Q/Data_10Q/item1_886982_2016-05-06.txt already exists\n",
      "../../Processed Data/10K10Q/Data_10Q/item1_886982_2010-11-09.txt already exists\n",
      "../../Processed Data/10K10Q/Data_10Q/item1_886982_2019-11-01.txt already exists\n",
      "../../Processed Data/10K10Q/Data_10Q/item1_886982_2010-08-09.txt already exists\n",
      "../../Processed Data/10K10Q/Data_10Q/item1_886982_2013-05-09.txt already exists\n",
      "../../Processed Data/10K10Q/Data_10Q/item1_886982_2010-05-10.txt already exists\n",
      "../../Processed Data/10K10Q/Data_10Q/item1_886982_2013-11-07.txt already exists\n",
      "../../Processed Data/10K10Q/Data_10Q/item1_886982_2017-11-03.txt already exists\n"
     ]
    },
    {
     "name": "stderr",
     "output_type": "stream",
     "text": [
      "\r",
      " 10%|████████▎                                                                       | 95/910 [00:00<00:03, 256.18it/s]"
     ]
    },
    {
     "name": "stdout",
     "output_type": "stream",
     "text": [
      "../../Processed Data/10K10Q/Data_10Q/item1_886982_2017-08-04.txt already exists\n",
      "../../Processed Data/10K10Q/Data_10Q/item1_886982_2018-11-02.txt already exists\n",
      "../../Processed Data/10K10Q/Data_10Q/item1_886982_2012-08-09.txt already exists\n",
      "../../Processed Data/10K10Q/Data_10Q/item1_886982_2014-08-07.txt already exists\n",
      "../../Processed Data/10K10Q/Data_10Q/item1_886982_2014-05-09.txt already exists\n",
      "../../Processed Data/10K10Q/Data_10Q/item1_886982_2012-05-10.txt already exists\n",
      "../../Processed Data/10K10Q/Data_10Q/item1_886982_2015-08-03.txt already exists\n",
      "../../Processed Data/10K10Q/Data_10Q/item1_886982_2015-11-03.txt already exists\n",
      "../../Processed Data/10K10Q/Data_10Q/item1_886982_2012-11-08.txt already exists\n",
      "../../Processed Data/10K10Q/Data_10Q/item1_886982_2018-08-03.txt already exists\n",
      "../../Processed Data/10K10Q/Data_10Q/item1_320193_2018-02-02.txt already exists\n",
      "../../Processed Data/10K10Q/Data_10Q/item1_320193_2010-01-25.txt already exists\n",
      "../../Processed Data/10K10Q/Data_10Q/item1_320193_2017-08-02.txt already exists\n",
      "../../Processed Data/10K10Q/Data_10Q/item1_320193_2015-01-28.txt already exists\n",
      "../../Processed Data/10K10Q/Data_10Q/item1_320193_2016-01-27.txt already exists\n",
      "../../Processed Data/10K10Q/Data_10Q/item1_320193_2013-04-24.txt already exists\n",
      "../../Processed Data/10K10Q/Data_10Q/item1_320193_2010-07-21.txt already exists\n"
     ]
    },
    {
     "name": "stderr",
     "output_type": "stream",
     "text": [
      "\r",
      " 12%|█████████▋                                                                     | 112/910 [00:00<00:04, 184.32it/s]"
     ]
    },
    {
     "name": "stdout",
     "output_type": "stream",
     "text": [
      "../../Processed Data/10K10Q/Data_10Q/item1_320193_2012-01-25.txt already exists\n",
      "../../Processed Data/10K10Q/Data_10Q/item1_320193_2014-04-24.txt already exists\n",
      "../../Processed Data/10K10Q/Data_10Q/item1_320193_2014-07-23.txt already exists\n",
      "../../Processed Data/10K10Q/Data_10Q/item1_320193_2020-01-29.txt already exists\n",
      "../../Processed Data/10K10Q/Data_10Q/item1_320193_2010-04-21.txt already exists\n",
      "../../Processed Data/10K10Q/Data_10Q/item1_320193_2013-07-24.txt already exists\n",
      "../../Processed Data/10K10Q/Data_10Q/item1_320193_2019-01-30.txt already exists\n",
      "../../Processed Data/10K10Q/Data_10Q/item1_320193_2018-05-02.txt already exists\n",
      "../../Processed Data/10K10Q/Data_10Q/item1_320193_2011-07-20.txt already exists\n",
      "../../Processed Data/10K10Q/Data_10Q/item1_320193_2017-02-01.txt already exists\n",
      "../../Processed Data/10K10Q/Data_10Q/item1_320193_2014-01-28.txt already exists\n",
      "../../Processed Data/10K10Q/Data_10Q/item1_320193_2016-07-27.txt already exists\n",
      "../../Processed Data/10K10Q/Data_10Q/item1_320193_2018-08-01.txt already exists\n",
      "../../Processed Data/10K10Q/Data_10Q/item1_320193_2012-04-25.txt already exists\n",
      "../../Processed Data/10K10Q/Data_10Q/item1_320193_2019-05-01.txt already exists\n",
      "../../Processed Data/10K10Q/Data_10Q/item1_320193_2011-04-21.txt already exists\n"
     ]
    },
    {
     "name": "stderr",
     "output_type": "stream",
     "text": [
      "\r",
      " 14%|███████████                                                                    | 128/910 [00:00<00:04, 158.17it/s]"
     ]
    },
    {
     "name": "stdout",
     "output_type": "stream",
     "text": [
      "../../Processed Data/10K10Q/Data_10Q/item1_320193_2013-01-24.txt already exists\n",
      "../../Processed Data/10K10Q/Data_10Q/item1_320193_2016-04-27.txt already exists\n",
      "../../Processed Data/10K10Q/Data_10Q/item1_320193_2012-07-25.txt already exists\n",
      "../../Processed Data/10K10Q/Data_10Q/item1_320193_2015-04-28.txt already exists\n",
      "../../Processed Data/10K10Q/Data_10Q/item1_320193_2019-07-31.txt already exists\n",
      "../../Processed Data/10K10Q/Data_10Q/item1_320193_2011-01-19.txt already exists\n",
      "../../Processed Data/10K10Q/Data_10Q/item1_320193_2017-05-03.txt already exists\n",
      "../../Processed Data/10K10Q/Data_10Q/item1_320193_2015-07-22.txt already exists\n",
      "../../Processed Data/10K10Q/Data_10Q/item1_310158_2011-05-09.txt already exists\n",
      "../../Processed Data/10K10Q/Data_10Q/item1_310158_2014-05-08.txt already exists\n",
      "../../Processed Data/10K10Q/Data_10Q/item1_310158_2019-08-06.txt already exists\n",
      "../../Processed Data/10K10Q/Data_10Q/item1_310158_2019-05-08.txt already exists\n",
      "../../Processed Data/10K10Q/Data_10Q/item1_310158_2014-11-10.txt already exists\n",
      "../../Processed Data/10K10Q/Data_10Q/item1_310158_2012-11-09.txt already exists\n",
      "../../Processed Data/10K10Q/Data_10Q/item1_310158_2014-08-07.txt already exists\n"
     ]
    },
    {
     "name": "stderr",
     "output_type": "stream",
     "text": [
      "\r",
      " 16%|████████████▍                                                                  | 143/910 [00:00<00:05, 148.82it/s]"
     ]
    },
    {
     "name": "stdout",
     "output_type": "stream",
     "text": [
      "../../Processed Data/10K10Q/Data_10Q/item1_310158_2017-08-08.txt already exists\n",
      "../../Processed Data/10K10Q/Data_10Q/item1_310158_2015-05-07.txt already exists\n",
      "../../Processed Data/10K10Q/Data_10Q/item1_310158_2013-08-07.txt already exists\n",
      "../../Processed Data/10K10Q/Data_10Q/item1_310158_2013-05-09.txt already exists\n",
      "../../Processed Data/10K10Q/Data_10Q/item1_310158_2015-11-05.txt already exists\n",
      "../../Processed Data/10K10Q/Data_10Q/item1_310158_2010-11-08.txt already exists\n",
      "../../Processed Data/10K10Q/Data_10Q/item1_310158_2013-11-07.txt already exists\n",
      "../../Processed Data/10K10Q/Data_10Q/item1_310158_2016-11-07.txt already exists\n",
      "../../Processed Data/10K10Q/Data_10Q/item1_310158_2016-05-09.txt already exists\n",
      "../../Processed Data/10K10Q/Data_10Q/item1_310158_2010-05-07.txt already exists\n",
      "../../Processed Data/10K10Q/Data_10Q/item1_310158_2018-08-07.txt already exists\n",
      "../../Processed Data/10K10Q/Data_10Q/item1_310158_2016-08-08.txt already exists\n",
      "../../Processed Data/10K10Q/Data_10Q/item1_310158_2010-08-06.txt already exists\n",
      "../../Processed Data/10K10Q/Data_10Q/item1_310158_2018-11-06.txt already exists\n",
      "../../Processed Data/10K10Q/Data_10Q/item1_310158_2015-08-06.txt already exists\n",
      "../../Processed Data/10K10Q/Data_10Q/item1_310158_2018-05-08.txt already exists\n",
      "../../Processed Data/10K10Q/Data_10Q/item1_310158_2017-11-07.txt already exists\n",
      "../../Processed Data/10K10Q/Data_10Q/item1_310158_2012-05-08.txt already exists\n",
      "../../Processed Data/10K10Q/Data_10Q/item1_310158_2017-05-09.txt already exists\n",
      "../../Processed Data/10K10Q/Data_10Q/item1_310158_2011-08-08.txt already exists\n",
      "../../Processed Data/10K10Q/Data_10Q/item1_310158_2012-08-07.txt already exists\n"
     ]
    },
    {
     "name": "stderr",
     "output_type": "stream",
     "text": [
      "\r",
      " 18%|██████████████▏                                                                | 164/910 [00:00<00:04, 161.48it/s]"
     ]
    },
    {
     "name": "stdout",
     "output_type": "stream",
     "text": [
      "../../Processed Data/10K10Q/Data_10Q/item1_310158_2011-11-08.txt already exists\n",
      "../../Processed Data/10K10Q/Data_10Q/item1_310158_2019-11-05.txt already exists\n",
      "../../Processed Data/10K10Q/Data_10Q/item1_731766_2015-05-06.txt already exists\n",
      "../../Processed Data/10K10Q/Data_10Q/item1_731766_2018-11-08.txt already exists\n",
      "../../Processed Data/10K10Q/Data_10Q/item1_731766_2010-08-05.txt already exists\n",
      "../../Processed Data/10K10Q/Data_10Q/item1_731766_2018-05-07.txt already exists\n",
      "../../Processed Data/10K10Q/Data_10Q/item1_731766_2013-11-07.txt already exists\n",
      "../../Processed Data/10K10Q/Data_10Q/item1_731766_2016-05-04.txt already exists\n",
      "../../Processed Data/10K10Q/Data_10Q/item1_731766_2015-11-05.txt already exists\n",
      "../../Processed Data/10K10Q/Data_10Q/item1_731766_2011-05-03.txt already exists\n",
      "../../Processed Data/10K10Q/Data_10Q/item1_731766_2017-08-04.txt already exists\n",
      "../../Processed Data/10K10Q/Data_10Q/item1_731766_2010-11-03.txt already exists\n",
      "../../Processed Data/10K10Q/Data_10Q/item1_731766_2019-08-07.txt already exists\n",
      "../../Processed Data/10K10Q/Data_10Q/item1_731766_2014-11-10.txt already exists\n",
      "../../Processed Data/10K10Q/Data_10Q/item1_731766_2019-11-06.txt already exists\n",
      "../../Processed Data/10K10Q/Data_10Q/item1_731766_2019-05-07.txt already exists\n"
     ]
    },
    {
     "name": "stderr",
     "output_type": "stream",
     "text": [
      "\r",
      " 20%|███████████████▋                                                               | 180/910 [00:00<00:05, 145.76it/s]"
     ]
    },
    {
     "name": "stdout",
     "output_type": "stream",
     "text": [
      "../../Processed Data/10K10Q/Data_10Q/item1_731766_2015-07-29.txt already exists\n",
      "../../Processed Data/10K10Q/Data_10Q/item1_731766_2012-08-07.txt already exists\n",
      "../../Processed Data/10K10Q/Data_10Q/item1_731766_2012-10-30.txt already exists\n",
      "../../Processed Data/10K10Q/Data_10Q/item1_731766_2011-11-04.txt already exists\n",
      "../../Processed Data/10K10Q/Data_10Q/item1_731766_2017-05-08.txt already exists\n",
      "../../Processed Data/10K10Q/Data_10Q/item1_731766_2016-08-02.txt already exists\n",
      "../../Processed Data/10K10Q/Data_10Q/item1_731766_2014-05-06.txt already exists\n",
      "../../Processed Data/10K10Q/Data_10Q/item1_731766_2017-11-07.txt already exists\n",
      "../../Processed Data/10K10Q/Data_10Q/item1_731766_2014-08-04.txt already exists\n",
      "../../Processed Data/10K10Q/Data_10Q/item1_731766_2010-05-05.txt already exists\n",
      "../../Processed Data/10K10Q/Data_10Q/item1_731766_2013-05-06.txt already exists\n",
      "../../Processed Data/10K10Q/Data_10Q/item1_731766_2012-05-03.txt already exists\n",
      "../../Processed Data/10K10Q/Data_10Q/item1_731766_2011-08-02.txt already exists\n",
      "../../Processed Data/10K10Q/Data_10Q/item1_731766_2016-11-08.txt already exists\n",
      "../../Processed Data/10K10Q/Data_10Q/item1_731766_2013-08-05.txt already exists\n"
     ]
    },
    {
     "name": "stderr",
     "output_type": "stream",
     "text": [
      "\r",
      " 21%|████████████████▉                                                              | 195/910 [00:01<00:05, 142.93it/s]"
     ]
    },
    {
     "name": "stdout",
     "output_type": "stream",
     "text": [
      "../../Processed Data/10K10Q/Data_10Q/item1_731766_2018-08-07.txt already exists\n",
      "../../Processed Data/10K10Q/Data_10Q/item1_732712_2017-04-27.txt already exists\n",
      "../../Processed Data/10K10Q/Data_10Q/item1_732712_2013-07-25.txt already exists\n",
      "../../Processed Data/10K10Q/Data_10Q/item1_732712_2019-10-30.txt already exists\n",
      "../../Processed Data/10K10Q/Data_10Q/item1_732712_2012-04-26.txt already exists\n",
      "../../Processed Data/10K10Q/Data_10Q/item1_732712_2018-07-31.txt already exists\n",
      "../../Processed Data/10K10Q/Data_10Q/item1_732712_2012-10-25.txt already exists\n",
      "../../Processed Data/10K10Q/Data_10Q/item1_732712_2014-04-29.txt already exists\n",
      "../../Processed Data/10K10Q/Data_10Q/item1_732712_2011-04-28.txt already exists\n",
      "../../Processed Data/10K10Q/Data_10Q/item1_732712_2018-05-01.txt already exists\n",
      "../../Processed Data/10K10Q/Data_10Q/item1_732712_2016-07-29.txt already exists\n",
      "../../Processed Data/10K10Q/Data_10Q/item1_732712_2016-10-26.txt already exists\n",
      "../../Processed Data/10K10Q/Data_10Q/item1_732712_2010-10-28.txt already exists\n",
      "../../Processed Data/10K10Q/Data_10Q/item1_732712_2012-07-30.txt already exists\n",
      "../../Processed Data/10K10Q/Data_10Q/item1_732712_2013-04-25.txt already exists\n",
      "../../Processed Data/10K10Q/Data_10Q/item1_732712_2016-04-28.txt already exists\n",
      "../../Processed Data/10K10Q/Data_10Q/item1_732712_2014-07-29.txt already exists\n"
     ]
    },
    {
     "name": "stderr",
     "output_type": "stream",
     "text": [
      "\r",
      " 23%|██████████████████▍                                                            | 212/910 [00:01<00:04, 145.96it/s]"
     ]
    },
    {
     "name": "stdout",
     "output_type": "stream",
     "text": [
      "../../Processed Data/10K10Q/Data_10Q/item1_732712_2017-08-03.txt already exists\n",
      "../../Processed Data/10K10Q/Data_10Q/item1_732712_2011-07-28.txt already exists\n",
      "../../Processed Data/10K10Q/Data_10Q/item1_732712_2010-04-28.txt already exists\n",
      "../../Processed Data/10K10Q/Data_10Q/item1_732712_2015-10-27.txt already exists\n",
      "../../Processed Data/10K10Q/Data_10Q/item1_732712_2015-04-28.txt already exists\n",
      "../../Processed Data/10K10Q/Data_10Q/item1_732712_2013-10-24.txt already exists\n",
      "../../Processed Data/10K10Q/Data_10Q/item1_732712_2018-10-30.txt already exists\n",
      "../../Processed Data/10K10Q/Data_10Q/item1_732712_2011-10-25.txt already exists\n",
      "../../Processed Data/10K10Q/Data_10Q/item1_732712_2019-04-26.txt already exists\n",
      "../../Processed Data/10K10Q/Data_10Q/item1_732712_2014-10-28.txt already exists\n",
      "../../Processed Data/10K10Q/Data_10Q/item1_732712_2010-07-29.txt already exists\n",
      "../../Processed Data/10K10Q/Data_10Q/item1_732712_2017-10-26.txt already exists\n",
      "../../Processed Data/10K10Q/Data_10Q/item1_732712_2015-07-28.txt already exists\n",
      "../../Processed Data/10K10Q/Data_10Q/item1_732712_2019-08-08.txt already exists\n",
      "../../Processed Data/10K10Q/Data_10Q/item1_86312_2013-04-23.txt already exists\n",
      "../../Processed Data/10K10Q/Data_10Q/item1_86312_2016-10-20.txt already exists\n"
     ]
    },
    {
     "name": "stderr",
     "output_type": "stream",
     "text": [
      "\r",
      " 25%|███████████████████▊                                                           | 228/910 [00:01<00:04, 149.60it/s]"
     ]
    },
    {
     "name": "stdout",
     "output_type": "stream",
     "text": [
      "../../Processed Data/10K10Q/Data_10Q/item1_86312_2015-04-21.txt already exists\n",
      "../../Processed Data/10K10Q/Data_10Q/item1_86312_2014-07-22.txt already exists\n",
      "../../Processed Data/10K10Q/Data_10Q/item1_86312_2017-07-20.txt already exists\n",
      "../../Processed Data/10K10Q/Data_10Q/item1_86312_2018-10-18.txt already exists\n",
      "../../Processed Data/10K10Q/Data_10Q/item1_86312_2019-07-23.txt already exists\n",
      "../../Processed Data/10K10Q/Data_10Q/item1_86312_2014-04-22.txt already exists\n",
      "../../Processed Data/10K10Q/Data_10Q/item1_86312_2015-07-21.txt already exists\n",
      "../../Processed Data/10K10Q/Data_10Q/item1_86312_2013-07-23.txt already exists\n",
      "../../Processed Data/10K10Q/Data_10Q/item1_86312_2017-10-19.txt already exists\n",
      "../../Processed Data/10K10Q/Data_10Q/item1_86312_2019-04-18.txt already exists\n",
      "../../Processed Data/10K10Q/Data_10Q/item1_86312_2012-10-18.txt already exists\n",
      "../../Processed Data/10K10Q/Data_10Q/item1_86312_2017-04-20.txt already exists\n",
      "../../Processed Data/10K10Q/Data_10Q/item1_86312_2014-10-21.txt already exists\n",
      "../../Processed Data/10K10Q/Data_10Q/item1_86312_2011-04-21.txt already exists\n",
      "../../Processed Data/10K10Q/Data_10Q/item1_86312_2010-07-22.txt already exists\n",
      "../../Processed Data/10K10Q/Data_10Q/item1_86312_2011-10-19.txt already exists\n",
      "../../Processed Data/10K10Q/Data_10Q/item1_86312_2018-07-19.txt already exists\n"
     ]
    },
    {
     "name": "stderr",
     "output_type": "stream",
     "text": [
      "\r",
      " 27%|█████████████████████▎                                                         | 245/910 [00:01<00:04, 154.46it/s]"
     ]
    },
    {
     "name": "stdout",
     "output_type": "stream",
     "text": [
      "../../Processed Data/10K10Q/Data_10Q/item1_86312_2019-10-22.txt already exists\n",
      "../../Processed Data/10K10Q/Data_10Q/item1_86312_2018-04-24.txt already exists\n",
      "../../Processed Data/10K10Q/Data_10Q/item1_86312_2012-04-19.txt already exists\n",
      "../../Processed Data/10K10Q/Data_10Q/item1_86312_2016-07-21.txt already exists\n",
      "../../Processed Data/10K10Q/Data_10Q/item1_86312_2011-07-21.txt already exists\n",
      "../../Processed Data/10K10Q/Data_10Q/item1_86312_2015-10-20.txt already exists\n",
      "../../Processed Data/10K10Q/Data_10Q/item1_86312_2010-04-23.txt already exists\n",
      "../../Processed Data/10K10Q/Data_10Q/item1_86312_2010-10-21.txt already exists\n",
      "../../Processed Data/10K10Q/Data_10Q/item1_86312_2013-10-22.txt already exists\n",
      "../../Processed Data/10K10Q/Data_10Q/item1_86312_2016-04-21.txt already exists\n",
      "../../Processed Data/10K10Q/Data_10Q/item1_86312_2012-07-19.txt already exists\n",
      "../../Processed Data/10K10Q/Data_10Q/item1_78003_2012-08-09.txt already exists\n",
      "../../Processed Data/10K10Q/Data_10Q/item1_78003_2014-08-07.txt already exists\n",
      "../../Processed Data/10K10Q/Data_10Q/item1_78003_2019-11-07.txt already exists\n",
      "../../Processed Data/10K10Q/Data_10Q/item1_78003_2011-05-12.txt already exists\n",
      "../../Processed Data/10K10Q/Data_10Q/item1_78003_2011-11-10.txt already exists\n"
     ]
    },
    {
     "name": "stderr",
     "output_type": "stream",
     "text": [
      "\r",
      " 29%|██████████████████████▋                                                        | 261/910 [00:01<00:04, 147.75it/s]"
     ]
    },
    {
     "name": "stdout",
     "output_type": "stream",
     "text": [
      "../../Processed Data/10K10Q/Data_10Q/item1_78003_2019-05-09.txt already exists\n",
      "../../Processed Data/10K10Q/Data_10Q/item1_78003_2012-11-09.txt already exists\n",
      "../../Processed Data/10K10Q/Data_10Q/item1_78003_2014-11-06.txt already exists\n",
      "../../Processed Data/10K10Q/Data_10Q/item1_78003_2017-11-09.txt already exists\n",
      "../../Processed Data/10K10Q/Data_10Q/item1_78003_2014-05-08.txt already exists\n",
      "../../Processed Data/10K10Q/Data_10Q/item1_78003_2012-05-10.txt already exists\n",
      "../../Processed Data/10K10Q/Data_10Q/item1_78003_2017-05-11.txt already exists\n",
      "../../Processed Data/10K10Q/Data_10Q/item1_78003_2011-08-11.txt already exists\n",
      "../../Processed Data/10K10Q/Data_10Q/item1_78003_2016-08-11.txt already exists\n",
      "../../Processed Data/10K10Q/Data_10Q/item1_78003_2018-11-08.txt already exists\n",
      "../../Processed Data/10K10Q/Data_10Q/item1_78003_2018-05-10.txt already exists\n",
      "../../Processed Data/10K10Q/Data_10Q/item1_78003_2018-08-09.txt already exists\n",
      "../../Processed Data/10K10Q/Data_10Q/item1_78003_2016-11-10.txt already exists\n",
      "../../Processed Data/10K10Q/Data_10Q/item1_78003_2010-08-12.txt already exists\n",
      "../../Processed Data/10K10Q/Data_10Q/item1_78003_2016-05-12.txt already exists\n"
     ]
    },
    {
     "name": "stderr",
     "output_type": "stream",
     "text": [
      "\r",
      " 30%|███████████████████████▉                                                       | 276/910 [00:01<00:04, 143.99it/s]"
     ]
    },
    {
     "name": "stdout",
     "output_type": "stream",
     "text": [
      "../../Processed Data/10K10Q/Data_10Q/item1_78003_2015-11-05.txt already exists\n",
      "../../Processed Data/10K10Q/Data_10Q/item1_78003_2015-05-07.txt already exists\n",
      "../../Processed Data/10K10Q/Data_10Q/item1_78003_2010-11-12.txt already exists\n",
      "../../Processed Data/10K10Q/Data_10Q/item1_78003_2013-11-08.txt already exists\n",
      "../../Processed Data/10K10Q/Data_10Q/item1_78003_2010-05-13.txt already exists\n",
      "../../Processed Data/10K10Q/Data_10Q/item1_78003_2013-05-10.txt already exists\n",
      "../../Processed Data/10K10Q/Data_10Q/item1_78003_2015-08-06.txt already exists\n",
      "../../Processed Data/10K10Q/Data_10Q/item1_78003_2013-08-09.txt already exists\n",
      "../../Processed Data/10K10Q/Data_10Q/item1_78003_2017-08-10.txt already exists\n",
      "../../Processed Data/10K10Q/Data_10Q/item1_78003_2019-08-08.txt already exists\n",
      "../../Processed Data/10K10Q/Data_10Q/item1_51143_2011-07-26.txt already exists\n",
      "../../Processed Data/10K10Q/Data_10Q/item1_51143_2015-04-28.txt already exists\n",
      "../../Processed Data/10K10Q/Data_10Q/item1_51143_2013-04-30.txt already exists\n",
      "../../Processed Data/10K10Q/Data_10Q/item1_51143_2018-10-30.txt already exists\n",
      "../../Processed Data/10K10Q/Data_10Q/item1_51143_2018-04-24.txt already exists\n",
      "../../Processed Data/10K10Q/Data_10Q/item1_51143_2016-10-25.txt already exists\n",
      "../../Processed Data/10K10Q/Data_10Q/item1_51143_2017-07-25.txt already exists\n"
     ]
    },
    {
     "name": "stderr",
     "output_type": "stream",
     "text": [
      "\r",
      " 32%|█████████████████████████▍                                                     | 293/910 [00:01<00:04, 149.44it/s]"
     ]
    },
    {
     "name": "stdout",
     "output_type": "stream",
     "text": [
      "../../Processed Data/10K10Q/Data_10Q/item1_51143_2016-04-26.txt already exists\n",
      "../../Processed Data/10K10Q/Data_10Q/item1_51143_2019-07-30.txt already exists\n",
      "../../Processed Data/10K10Q/Data_10Q/item1_51143_2010-10-26.txt already exists\n",
      "../../Processed Data/10K10Q/Data_10Q/item1_51143_2015-10-27.txt already exists\n",
      "../../Processed Data/10K10Q/Data_10Q/item1_51143_2013-10-29.txt already exists\n",
      "../../Processed Data/10K10Q/Data_10Q/item1_51143_2015-07-28.txt already exists\n",
      "../../Processed Data/10K10Q/Data_10Q/item1_51143_2019-10-29.txt already exists\n",
      "../../Processed Data/10K10Q/Data_10Q/item1_51143_2011-04-26.txt already exists\n",
      "../../Processed Data/10K10Q/Data_10Q/item1_51143_2011-10-25.txt already exists\n",
      "../../Processed Data/10K10Q/Data_10Q/item1_51143_2017-10-31.txt already exists\n",
      "../../Processed Data/10K10Q/Data_10Q/item1_51143_2016-07-26.txt already exists\n",
      "../../Processed Data/10K10Q/Data_10Q/item1_51143_2017-04-25.txt already exists\n",
      "../../Processed Data/10K10Q/Data_10Q/item1_51143_2013-07-31.txt already exists\n",
      "../../Processed Data/10K10Q/Data_10Q/item1_51143_2019-04-30.txt already exists\n",
      "../../Processed Data/10K10Q/Data_10Q/item1_51143_2012-04-24.txt already exists\n",
      "../../Processed Data/10K10Q/Data_10Q/item1_51143_2012-10-30.txt already exists\n"
     ]
    },
    {
     "name": "stderr",
     "output_type": "stream",
     "text": [
      "\r",
      " 34%|██████████████████████████▊                                                    | 309/910 [00:01<00:04, 143.51it/s]"
     ]
    },
    {
     "name": "stdout",
     "output_type": "stream",
     "text": [
      "../../Processed Data/10K10Q/Data_10Q/item1_51143_2014-10-28.txt already exists\n",
      "../../Processed Data/10K10Q/Data_10Q/item1_51143_2014-04-29.txt already exists\n",
      "../../Processed Data/10K10Q/Data_10Q/item1_51143_2010-07-27.txt already exists\n",
      "../../Processed Data/10K10Q/Data_10Q/item1_51143_2018-07-31.txt already exists\n",
      "../../Processed Data/10K10Q/Data_10Q/item1_51143_2010-04-27.txt already exists\n",
      "../../Processed Data/10K10Q/Data_10Q/item1_51143_2014-07-29.txt already exists\n",
      "../../Processed Data/10K10Q/Data_10Q/item1_51143_2012-07-31.txt already exists\n",
      "../../Processed Data/10K10Q/Data_10Q/item1_789019_2017-10-26.txt already exists\n",
      "../../Processed Data/10K10Q/Data_10Q/item1_789019_2016-04-21.txt already exists\n",
      "../../Processed Data/10K10Q/Data_10Q/item1_789019_2010-04-22.txt already exists\n",
      "../../Processed Data/10K10Q/Data_10Q/item1_789019_2015-04-23.txt already exists\n",
      "../../Processed Data/10K10Q/Data_10Q/item1_789019_2017-01-26.txt already exists\n",
      "../../Processed Data/10K10Q/Data_10Q/item1_789019_2014-10-23.txt already exists\n",
      "../../Processed Data/10K10Q/Data_10Q/item1_789019_2016-01-28.txt already exists\n",
      "../../Processed Data/10K10Q/Data_10Q/item1_789019_2013-10-24.txt already exists\n",
      "../../Processed Data/10K10Q/Data_10Q/item1_789019_2019-10-23.txt already exists\n"
     ]
    },
    {
     "name": "stderr",
     "output_type": "stream",
     "text": [
      "\r",
      " 36%|████████████████████████████▏                                                  | 325/910 [00:01<00:04, 146.14it/s]"
     ]
    },
    {
     "name": "stdout",
     "output_type": "stream",
     "text": [
      "../../Processed Data/10K10Q/Data_10Q/item1_789019_2012-04-19.txt already exists\n",
      "../../Processed Data/10K10Q/Data_10Q/item1_789019_2018-01-31.txt already exists\n",
      "../../Processed Data/10K10Q/Data_10Q/item1_789019_2013-01-24.txt already exists\n",
      "../../Processed Data/10K10Q/Data_10Q/item1_789019_2014-01-23.txt already exists\n",
      "../../Processed Data/10K10Q/Data_10Q/item1_789019_2015-01-26.txt already exists\n",
      "../../Processed Data/10K10Q/Data_10Q/item1_789019_2011-10-20.txt already exists\n",
      "../../Processed Data/10K10Q/Data_10Q/item1_789019_2018-04-26.txt already exists\n",
      "../../Processed Data/10K10Q/Data_10Q/item1_789019_2010-01-28.txt already exists\n",
      "../../Processed Data/10K10Q/Data_10Q/item1_789019_2018-10-24.txt already exists\n",
      "../../Processed Data/10K10Q/Data_10Q/item1_789019_2012-01-19.txt already exists\n",
      "../../Processed Data/10K10Q/Data_10Q/item1_789019_2010-10-28.txt already exists\n",
      "../../Processed Data/10K10Q/Data_10Q/item1_789019_2012-10-18.txt already exists\n",
      "../../Processed Data/10K10Q/Data_10Q/item1_789019_2019-01-30.txt already exists\n",
      "../../Processed Data/10K10Q/Data_10Q/item1_789019_2013-04-18.txt already exists\n",
      "../../Processed Data/10K10Q/Data_10Q/item1_789019_2011-04-28.txt already exists\n"
     ]
    },
    {
     "name": "stderr",
     "output_type": "stream",
     "text": [
      "\r",
      " 37%|█████████████████████████████▌                                                 | 340/910 [00:02<00:03, 144.41it/s]"
     ]
    },
    {
     "name": "stdout",
     "output_type": "stream",
     "text": [
      "../../Processed Data/10K10Q/Data_10Q/item1_789019_2015-10-22.txt already exists\n",
      "../../Processed Data/10K10Q/Data_10Q/item1_789019_2011-01-27.txt already exists\n",
      "../../Processed Data/10K10Q/Data_10Q/item1_789019_2020-01-29.txt already exists\n",
      "../../Processed Data/10K10Q/Data_10Q/item1_789019_2014-04-24.txt already exists\n",
      "../../Processed Data/10K10Q/Data_10Q/item1_789019_2019-04-24.txt already exists\n",
      "../../Processed Data/10K10Q/Data_10Q/item1_789019_2016-10-20.txt already exists\n",
      "../../Processed Data/10K10Q/Data_10Q/item1_789019_2017-04-27.txt already exists\n",
      "../../Processed Data/10K10Q/Data_10Q/item1_1751788_2019-05-03.txt already exists\n",
      "../../Processed Data/10K10Q/Data_10Q/item1_1751788_2019-07-25.txt already exists\n",
      "../../Processed Data/10K10Q/Data_10Q/item1_1751788_2019-10-25.txt already exists\n",
      "../../Processed Data/10K10Q/Data_10Q/item1_12927_2019-07-24.txt already exists\n",
      "../../Processed Data/10K10Q/Data_10Q/item1_12927_2016-10-26.txt already exists\n",
      "../../Processed Data/10K10Q/Data_10Q/item1_12927_2017-07-26.txt already exists\n",
      "../../Processed Data/10K10Q/Data_10Q/item1_12927_2018-10-24.txt already exists\n",
      "../../Processed Data/10K10Q/Data_10Q/item1_12927_2013-04-24.txt already exists\n"
     ]
    },
    {
     "name": "stderr",
     "output_type": "stream",
     "text": [
      "\r",
      " 39%|██████████████████████████████▊                                                | 355/910 [00:02<00:03, 145.88it/s]"
     ]
    },
    {
     "name": "stdout",
     "output_type": "stream",
     "text": [
      "../../Processed Data/10K10Q/Data_10Q/item1_12927_2014-04-23.txt already exists\n",
      "../../Processed Data/10K10Q/Data_10Q/item1_12927_2012-10-24.txt already exists\n",
      "../../Processed Data/10K10Q/Data_10Q/item1_12927_2019-04-24.txt already exists\n",
      "../../Processed Data/10K10Q/Data_10Q/item1_12927_2017-10-25.txt already exists\n",
      "../../Processed Data/10K10Q/Data_10Q/item1_12927_2011-10-26.txt already exists\n",
      "../../Processed Data/10K10Q/Data_10Q/item1_12927_2010-04-21.txt already exists\n",
      "../../Processed Data/10K10Q/Data_10Q/item1_12927_2014-07-23.txt already exists\n",
      "../../Processed Data/10K10Q/Data_10Q/item1_12927_2017-04-26.txt already exists\n",
      "../../Processed Data/10K10Q/Data_10Q/item1_12927_2013-07-24.txt already exists\n",
      "../../Processed Data/10K10Q/Data_10Q/item1_12927_2010-07-28.txt already exists\n",
      "../../Processed Data/10K10Q/Data_10Q/item1_12927_2018-07-25.txt already exists\n",
      "../../Processed Data/10K10Q/Data_10Q/item1_12927_2013-10-23.txt already exists\n",
      "../../Processed Data/10K10Q/Data_10Q/item1_12927_2010-10-20.txt already exists\n",
      "../../Processed Data/10K10Q/Data_10Q/item1_12927_2011-04-27.txt already exists\n",
      "../../Processed Data/10K10Q/Data_10Q/item1_12927_2015-10-21.txt already exists\n",
      "../../Processed Data/10K10Q/Data_10Q/item1_12927_2015-04-22.txt already exists\n",
      "../../Processed Data/10K10Q/Data_10Q/item1_12927_2012-04-25.txt already exists\n"
     ]
    },
    {
     "name": "stderr",
     "output_type": "stream",
     "text": [
      "\r",
      " 41%|████████████████████████████████▎                                              | 372/910 [00:02<00:03, 151.66it/s]"
     ]
    },
    {
     "name": "stdout",
     "output_type": "stream",
     "text": [
      "../../Processed Data/10K10Q/Data_10Q/item1_12927_2016-07-27.txt already exists\n",
      "../../Processed Data/10K10Q/Data_10Q/item1_12927_2011-07-27.txt already exists\n",
      "../../Processed Data/10K10Q/Data_10Q/item1_12927_2014-10-22.txt already exists\n",
      "../../Processed Data/10K10Q/Data_10Q/item1_12927_2018-04-25.txt already exists\n",
      "../../Processed Data/10K10Q/Data_10Q/item1_12927_2019-10-23.txt already exists\n",
      "../../Processed Data/10K10Q/Data_10Q/item1_12927_2012-07-25.txt already exists\n",
      "../../Processed Data/10K10Q/Data_10Q/item1_12927_2016-04-27.txt already exists\n",
      "../../Processed Data/10K10Q/Data_10Q/item1_12927_2015-07-22.txt already exists\n",
      "../../Processed Data/10K10Q/Data_10Q/item1_200406_2010-05-10.txt already exists\n",
      "../../Processed Data/10K10Q/Data_10Q/item1_200406_2017-08-03.txt already exists\n",
      "../../Processed Data/10K10Q/Data_10Q/item1_200406_2014-05-02.txt already exists\n",
      "../../Processed Data/10K10Q/Data_10Q/item1_200406_2012-08-02.txt already exists\n",
      "../../Processed Data/10K10Q/Data_10Q/item1_200406_2019-07-29.txt already exists\n",
      "../../Processed Data/10K10Q/Data_10Q/item1_200406_2014-08-01.txt already exists\n",
      "../../Processed Data/10K10Q/Data_10Q/item1_200406_2017-11-02.txt already exists\n",
      "../../Processed Data/10K10Q/Data_10Q/item1_200406_2018-05-01.txt already exists\n",
      "../../Processed Data/10K10Q/Data_10Q/item1_200406_2013-05-03.txt already exists\n",
      "../../Processed Data/10K10Q/Data_10Q/item1_200406_2013-08-01.txt already exists\n",
      "../../Processed Data/10K10Q/Data_10Q/item1_200406_2015-05-01.txt already exists\n"
     ]
    },
    {
     "name": "stderr",
     "output_type": "stream",
     "text": [
      "\r",
      " 43%|█████████████████████████████████▉                                             | 391/910 [00:02<00:03, 161.13it/s]"
     ]
    },
    {
     "name": "stdout",
     "output_type": "stream",
     "text": [
      "../../Processed Data/10K10Q/Data_10Q/item1_200406_2012-11-09.txt already exists\n",
      "../../Processed Data/10K10Q/Data_10Q/item1_200406_2018-08-02.txt already exists\n",
      "../../Processed Data/10K10Q/Data_10Q/item1_200406_2015-07-31.txt already exists\n",
      "../../Processed Data/10K10Q/Data_10Q/item1_200406_2012-05-07.txt already exists\n",
      "../../Processed Data/10K10Q/Data_10Q/item1_200406_2014-10-30.txt already exists\n",
      "../../Processed Data/10K10Q/Data_10Q/item1_200406_2011-08-09.txt already exists\n",
      "../../Processed Data/10K10Q/Data_10Q/item1_200406_2011-05-10.txt already exists\n",
      "../../Processed Data/10K10Q/Data_10Q/item1_200406_2017-05-08.txt already exists\n",
      "../../Processed Data/10K10Q/Data_10Q/item1_200406_2011-11-08.txt already exists\n",
      "../../Processed Data/10K10Q/Data_10Q/item1_200406_2019-10-28.txt already exists\n",
      "../../Processed Data/10K10Q/Data_10Q/item1_200406_2010-11-10.txt already exists\n",
      "../../Processed Data/10K10Q/Data_10Q/item1_200406_2016-08-04.txt already exists\n",
      "../../Processed Data/10K10Q/Data_10Q/item1_200406_2015-10-30.txt already exists\n",
      "../../Processed Data/10K10Q/Data_10Q/item1_200406_2016-11-04.txt already exists\n",
      "../../Processed Data/10K10Q/Data_10Q/item1_200406_2016-05-10.txt already exists\n",
      "../../Processed Data/10K10Q/Data_10Q/item1_200406_2010-08-11.txt already exists\n",
      "../../Processed Data/10K10Q/Data_10Q/item1_200406_2013-11-04.txt already exists\n"
     ]
    },
    {
     "name": "stderr",
     "output_type": "stream",
     "text": [
      "\r",
      " 45%|███████████████████████████████████▍                                           | 408/910 [00:02<00:03, 162.88it/s]"
     ]
    },
    {
     "name": "stdout",
     "output_type": "stream",
     "text": [
      "../../Processed Data/10K10Q/Data_10Q/item1_200406_2019-05-01.txt already exists\n",
      "../../Processed Data/10K10Q/Data_10Q/item1_200406_2018-10-31.txt already exists\n",
      "../../Processed Data/10K10Q/Data_10Q/item1_320187_2010-10-06.txt already exists\n",
      "../../Processed Data/10K10Q/Data_10Q/item1_320187_2018-04-05.txt already exists\n",
      "../../Processed Data/10K10Q/Data_10Q/item1_320187_2013-01-09.txt already exists\n",
      "../../Processed Data/10K10Q/Data_10Q/item1_320187_2015-01-07.txt already exists\n",
      "../../Processed Data/10K10Q/Data_10Q/item1_320187_2015-10-06.txt already exists\n",
      "../../Processed Data/10K10Q/Data_10Q/item1_320187_2010-01-06.txt already exists\n",
      "../../Processed Data/10K10Q/Data_10Q/item1_320187_2019-10-04.txt already exists\n",
      "../../Processed Data/10K10Q/Data_10Q/item1_320187_2011-04-06.txt already exists\n",
      "../../Processed Data/10K10Q/Data_10Q/item1_320187_2019-01-08.txt already exists\n",
      "../../Processed Data/10K10Q/Data_10Q/item1_320187_2014-04-07.txt already exists\n",
      "../../Processed Data/10K10Q/Data_10Q/item1_320187_2017-10-06.txt already exists\n",
      "../../Processed Data/10K10Q/Data_10Q/item1_320187_2017-04-04.txt already exists\n",
      "../../Processed Data/10K10Q/Data_10Q/item1_320187_2020-01-07.txt already exists\n",
      "../../Processed Data/10K10Q/Data_10Q/item1_320187_2012-01-05.txt already exists\n",
      "../../Processed Data/10K10Q/Data_10Q/item1_320187_2019-04-04.txt already exists\n"
     ]
    },
    {
     "name": "stderr",
     "output_type": "stream",
     "text": [
      "\r",
      " 47%|████████████████████████████████████▉                                          | 425/910 [00:02<00:03, 150.49it/s]"
     ]
    },
    {
     "name": "stdout",
     "output_type": "stream",
     "text": [
      "../../Processed Data/10K10Q/Data_10Q/item1_320187_2012-04-06.txt already exists\n",
      "../../Processed Data/10K10Q/Data_10Q/item1_320187_2014-01-07.txt already exists\n",
      "../../Processed Data/10K10Q/Data_10Q/item1_320187_2011-01-06.txt already exists\n",
      "../../Processed Data/10K10Q/Data_10Q/item1_320187_2014-10-07.txt already exists\n",
      "../../Processed Data/10K10Q/Data_10Q/item1_320187_2012-10-09.txt already exists\n",
      "../../Processed Data/10K10Q/Data_10Q/item1_320187_2011-10-06.txt already exists\n",
      "../../Processed Data/10K10Q/Data_10Q/item1_320187_2017-01-05.txt already exists\n",
      "../../Processed Data/10K10Q/Data_10Q/item1_320187_2015-04-07.txt already exists\n",
      "../../Processed Data/10K10Q/Data_10Q/item1_320187_2013-10-07.txt already exists\n",
      "../../Processed Data/10K10Q/Data_10Q/item1_320187_2018-10-05.txt already exists\n",
      "../../Processed Data/10K10Q/Data_10Q/item1_320187_2013-04-04.txt already exists\n",
      "../../Processed Data/10K10Q/Data_10Q/item1_320187_2016-01-06.txt already exists\n",
      "../../Processed Data/10K10Q/Data_10Q/item1_320187_2018-01-05.txt already exists\n",
      "../../Processed Data/10K10Q/Data_10Q/item1_320187_2016-10-11.txt already exists\n",
      "../../Processed Data/10K10Q/Data_10Q/item1_320187_2016-04-05.txt already exists\n",
      "../../Processed Data/10K10Q/Data_10Q/item1_320187_2010-04-07.txt already exists\n",
      "../../Processed Data/10K10Q/Data_10Q/item1_858877_2014-05-22.txt already exists\n"
     ]
    },
    {
     "name": "stderr",
     "output_type": "stream",
     "text": [
      "\r",
      " 49%|██████████████████████████████████████▎                                        | 442/910 [00:02<00:03, 153.99it/s]"
     ]
    },
    {
     "name": "stdout",
     "output_type": "stream",
     "text": [
      "../../Processed Data/10K10Q/Data_10Q/item1_858877_2014-11-20.txt already exists\n",
      "../../Processed Data/10K10Q/Data_10Q/item1_858877_2010-05-26.txt already exists\n",
      "../../Processed Data/10K10Q/Data_10Q/item1_858877_2016-05-24.txt already exists\n",
      "../../Processed Data/10K10Q/Data_10Q/item1_858877_2015-02-18.txt already exists\n",
      "../../Processed Data/10K10Q/Data_10Q/item1_858877_2014-02-20.txt already exists\n",
      "../../Processed Data/10K10Q/Data_10Q/item1_858877_2011-05-25.txt already exists\n",
      "../../Processed Data/10K10Q/Data_10Q/item1_858877_2015-11-19.txt already exists\n",
      "../../Processed Data/10K10Q/Data_10Q/item1_858877_2010-11-23.txt already exists\n",
      "../../Processed Data/10K10Q/Data_10Q/item1_858877_2015-05-20.txt already exists\n",
      "../../Processed Data/10K10Q/Data_10Q/item1_858877_2017-02-21.txt already exists\n",
      "../../Processed Data/10K10Q/Data_10Q/item1_858877_2016-11-22.txt already exists\n",
      "../../Processed Data/10K10Q/Data_10Q/item1_858877_2013-05-21.txt already exists\n",
      "../../Processed Data/10K10Q/Data_10Q/item1_858877_2011-02-23.txt already exists\n",
      "../../Processed Data/10K10Q/Data_10Q/item1_858877_2018-05-22.txt already exists\n",
      "../../Processed Data/10K10Q/Data_10Q/item1_858877_2012-02-21.txt already exists\n",
      "../../Processed Data/10K10Q/Data_10Q/item1_858877_2013-11-22.txt already exists\n"
     ]
    },
    {
     "name": "stderr",
     "output_type": "stream",
     "text": [
      "\r",
      " 50%|███████████████████████████████████████▊                                       | 458/910 [00:02<00:02, 154.52it/s]"
     ]
    },
    {
     "name": "stdout",
     "output_type": "stream",
     "text": [
      "../../Processed Data/10K10Q/Data_10Q/item1_858877_2018-11-20.txt already exists\n",
      "../../Processed Data/10K10Q/Data_10Q/item1_858877_2019-02-19.txt already exists\n",
      "../../Processed Data/10K10Q/Data_10Q/item1_858877_2017-05-23.txt already exists\n",
      "../../Processed Data/10K10Q/Data_10Q/item1_858877_2013-02-19.txt already exists\n",
      "../../Processed Data/10K10Q/Data_10Q/item1_858877_2017-11-21.txt already exists\n",
      "../../Processed Data/10K10Q/Data_10Q/item1_858877_2012-11-20.txt already exists\n",
      "../../Processed Data/10K10Q/Data_10Q/item1_858877_2016-02-18.txt already exists\n",
      "../../Processed Data/10K10Q/Data_10Q/item1_858877_2018-02-20.txt already exists\n",
      "../../Processed Data/10K10Q/Data_10Q/item1_858877_2019-05-21.txt already exists\n",
      "../../Processed Data/10K10Q/Data_10Q/item1_858877_2010-02-17.txt already exists\n",
      "../../Processed Data/10K10Q/Data_10Q/item1_858877_2012-05-23.txt already exists\n",
      "../../Processed Data/10K10Q/Data_10Q/item1_858877_2019-11-19.txt already exists\n",
      "../../Processed Data/10K10Q/Data_10Q/item1_858877_2011-11-22.txt already exists\n",
      "../../Processed Data/10K10Q/Data_10Q/item1_1403161_2019-01-31.txt already exists\n",
      "../../Processed Data/10K10Q/Data_10Q/item1_1403161_2018-07-27.txt already exists\n",
      "../../Processed Data/10K10Q/Data_10Q/item1_1403161_2017-02-02.txt already exists\n"
     ]
    },
    {
     "name": "stderr",
     "output_type": "stream",
     "text": [
      "\r",
      " 52%|█████████████████████████████████████████▏                                     | 474/910 [00:02<00:02, 154.84it/s]"
     ]
    },
    {
     "name": "stdout",
     "output_type": "stream",
     "text": [
      "../../Processed Data/10K10Q/Data_10Q/item1_1403161_2013-02-06.txt already exists\n",
      "../../Processed Data/10K10Q/Data_10Q/item1_1403161_2014-04-24.txt already exists\n",
      "../../Processed Data/10K10Q/Data_10Q/item1_1403161_2010-08-02.txt already exists\n",
      "../../Processed Data/10K10Q/Data_10Q/item1_1403161_2014-01-30.txt already exists\n",
      "../../Processed Data/10K10Q/Data_10Q/item1_1403161_2013-07-24.txt already exists\n",
      "../../Processed Data/10K10Q/Data_10Q/item1_1403161_2016-07-25.txt already exists\n",
      "../../Processed Data/10K10Q/Data_10Q/item1_1403161_2011-05-05.txt already exists\n",
      "../../Processed Data/10K10Q/Data_10Q/item1_1403161_2017-07-20.txt already exists\n",
      "../../Processed Data/10K10Q/Data_10Q/item1_1403161_2014-07-24.txt already exists\n",
      "../../Processed Data/10K10Q/Data_10Q/item1_1403161_2010-02-03.txt already exists\n",
      "../../Processed Data/10K10Q/Data_10Q/item1_1403161_2017-04-21.txt already exists\n",
      "../../Processed Data/10K10Q/Data_10Q/item1_1403161_2011-07-29.txt already exists\n",
      "../../Processed Data/10K10Q/Data_10Q/item1_1403161_2018-04-27.txt already exists\n",
      "../../Processed Data/10K10Q/Data_10Q/item1_1403161_2012-02-08.txt already exists\n",
      "../../Processed Data/10K10Q/Data_10Q/item1_1403161_2012-07-27.txt already exists\n",
      "../../Processed Data/10K10Q/Data_10Q/item1_1403161_2015-01-29.txt already exists\n"
     ]
    },
    {
     "name": "stderr",
     "output_type": "stream",
     "text": [
      "\r",
      " 54%|██████████████████████████████████████████▌                                    | 490/910 [00:03<00:02, 154.22it/s]"
     ]
    },
    {
     "name": "stdout",
     "output_type": "stream",
     "text": [
      "../../Processed Data/10K10Q/Data_10Q/item1_1403161_2016-04-25.txt already exists\n",
      "../../Processed Data/10K10Q/Data_10Q/item1_1403161_2015-04-30.txt already exists\n",
      "../../Processed Data/10K10Q/Data_10Q/item1_1403161_2015-07-23.txt already exists\n",
      "../../Processed Data/10K10Q/Data_10Q/item1_1403161_2019-07-26.txt already exists\n",
      "../../Processed Data/10K10Q/Data_10Q/item1_1403161_2018-02-01.txt already exists\n",
      "../../Processed Data/10K10Q/Data_10Q/item1_1403161_2016-01-28.txt already exists\n",
      "../../Processed Data/10K10Q/Data_10Q/item1_1403161_2012-05-02.txt already exists\n",
      "../../Processed Data/10K10Q/Data_10Q/item1_1403161_2019-04-26.txt already exists\n",
      "../../Processed Data/10K10Q/Data_10Q/item1_1403161_2010-05-03.txt already exists\n",
      "../../Processed Data/10K10Q/Data_10Q/item1_1403161_2011-02-02.txt already exists\n",
      "../../Processed Data/10K10Q/Data_10Q/item1_1403161_2013-05-01.txt already exists\n",
      "../../Processed Data/10K10Q/Data_10Q/item1_1403161_2020-01-31.txt already exists\n",
      "../../Processed Data/10K10Q/Data_10Q/item1_1001039_2012-05-08.txt already exists\n",
      "../../Processed Data/10K10Q/Data_10Q/item1_1001039_2014-05-06.txt already exists\n",
      "../../Processed Data/10K10Q/Data_10Q/item1_1001039_2017-05-09.txt already exists\n",
      "../../Processed Data/10K10Q/Data_10Q/item1_1001039_2011-08-09.txt already exists\n"
     ]
    },
    {
     "name": "stderr",
     "output_type": "stream",
     "text": [
      "\r",
      " 56%|███████████████████████████████████████████▉                                   | 506/910 [00:03<00:02, 155.13it/s]"
     ]
    },
    {
     "name": "stdout",
     "output_type": "stream",
     "text": [
      "../../Processed Data/10K10Q/Data_10Q/item1_1001039_2013-02-05.txt already exists\n",
      "../../Processed Data/10K10Q/Data_10Q/item1_1001039_2014-08-05.txt already exists\n",
      "../../Processed Data/10K10Q/Data_10Q/item1_1001039_2018-02-06.txt already exists\n",
      "../../Processed Data/10K10Q/Data_10Q/item1_1001039_2016-02-09.txt already exists\n",
      "../../Processed Data/10K10Q/Data_10Q/item1_1001039_2011-05-10.txt already exists\n",
      "../../Processed Data/10K10Q/Data_10Q/item1_1001039_2012-08-07.txt already exists\n",
      "../../Processed Data/10K10Q/Data_10Q/item1_1001039_2013-05-07.txt already exists\n",
      "../../Processed Data/10K10Q/Data_10Q/item1_1001039_2017-02-07.txt already exists\n",
      "../../Processed Data/10K10Q/Data_10Q/item1_1001039_2016-05-10.txt already exists\n",
      "../../Processed Data/10K10Q/Data_10Q/item1_1001039_2010-08-10.txt already exists\n",
      "../../Processed Data/10K10Q/Data_10Q/item1_1001039_2015-05-05.txt already exists\n",
      "../../Processed Data/10K10Q/Data_10Q/item1_1001039_2018-08-07.txt already exists\n",
      "../../Processed Data/10K10Q/Data_10Q/item1_1001039_2018-05-08.txt already exists\n",
      "../../Processed Data/10K10Q/Data_10Q/item1_1001039_2014-02-05.txt already exists\n",
      "../../Processed Data/10K10Q/Data_10Q/item1_1001039_2011-02-08.txt already exists\n",
      "../../Processed Data/10K10Q/Data_10Q/item1_1001039_2016-08-09.txt already exists\n",
      "../../Processed Data/10K10Q/Data_10Q/item1_1001039_2012-02-07.txt already exists\n"
     ]
    },
    {
     "name": "stderr",
     "output_type": "stream",
     "text": [
      "\r",
      " 57%|█████████████████████████████████████████████▍                                 | 523/910 [00:03<00:02, 157.64it/s]"
     ]
    },
    {
     "name": "stdout",
     "output_type": "stream",
     "text": [
      "../../Processed Data/10K10Q/Data_10Q/item1_1001039_2019-02-05.txt already exists\n",
      "../../Processed Data/10K10Q/Data_10Q/item1_1001039_2015-02-03.txt already exists\n",
      "../../Processed Data/10K10Q/Data_10Q/item1_1001039_2013-08-06.txt already exists\n",
      "../../Processed Data/10K10Q/Data_10Q/item1_1001039_2010-05-11.txt already exists\n",
      "../../Processed Data/10K10Q/Data_10Q/item1_1001039_2015-08-04.txt already exists\n",
      "../../Processed Data/10K10Q/Data_10Q/item1_1001039_2017-08-08.txt already exists\n",
      "../../Processed Data/10K10Q/Data_10Q/item1_1001039_2010-02-09.txt already exists\n",
      "../../Processed Data/10K10Q/Data_10Q/item1_63908_2017-08-08.txt already exists\n",
      "../../Processed Data/10K10Q/Data_10Q/item1_63908_2018-08-02.txt already exists\n",
      "../../Processed Data/10K10Q/Data_10Q/item1_63908_2019-05-08.txt already exists\n",
      "../../Processed Data/10K10Q/Data_10Q/item1_63908_2019-08-06.txt already exists\n",
      "../../Processed Data/10K10Q/Data_10Q/item1_63908_2010-11-05.txt already exists\n",
      "../../Processed Data/10K10Q/Data_10Q/item1_63908_2015-11-04.txt already exists\n",
      "../../Processed Data/10K10Q/Data_10Q/item1_63908_2010-08-05.txt already exists\n",
      "../../Processed Data/10K10Q/Data_10Q/item1_63908_2017-11-02.txt already exists\n",
      "../../Processed Data/10K10Q/Data_10Q/item1_63908_2015-08-05.txt already exists\n"
     ]
    },
    {
     "name": "stderr",
     "output_type": "stream",
     "text": [
      "\r",
      " 59%|██████████████████████████████████████████████▊                                | 539/910 [00:03<00:02, 138.84it/s]"
     ]
    },
    {
     "name": "stdout",
     "output_type": "stream",
     "text": [
      "../../Processed Data/10K10Q/Data_10Q/item1_63908_2013-10-30.txt already exists\n",
      "../../Processed Data/10K10Q/Data_10Q/item1_63908_2015-05-07.txt already exists\n",
      "../../Processed Data/10K10Q/Data_10Q/item1_63908_2010-05-06.txt already exists\n",
      "../../Processed Data/10K10Q/Data_10Q/item1_63908_2018-05-08.txt already exists\n",
      "../../Processed Data/10K10Q/Data_10Q/item1_63908_2014-11-03.txt already exists\n",
      "../../Processed Data/10K10Q/Data_10Q/item1_63908_2012-11-01.txt already exists\n",
      "../../Processed Data/10K10Q/Data_10Q/item1_63908_2016-11-04.txt already exists\n",
      "../../Processed Data/10K10Q/Data_10Q/item1_63908_2016-05-06.txt already exists\n",
      "../../Processed Data/10K10Q/Data_10Q/item1_63908_2016-08-04.txt already exists\n",
      "../../Processed Data/10K10Q/Data_10Q/item1_63908_2013-07-31.txt already exists\n",
      "../../Processed Data/10K10Q/Data_10Q/item1_63908_2011-05-06.txt already exists\n",
      "../../Processed Data/10K10Q/Data_10Q/item1_63908_2011-11-04.txt already exists\n",
      "../../Processed Data/10K10Q/Data_10Q/item1_63908_2017-05-08.txt already exists\n",
      "../../Processed Data/10K10Q/Data_10Q/item1_63908_2012-08-06.txt already exists\n",
      "../../Processed Data/10K10Q/Data_10Q/item1_63908_2012-05-08.txt already exists\n"
     ]
    },
    {
     "name": "stderr",
     "output_type": "stream",
     "text": [
      "\r",
      " 61%|████████████████████████████████████████████████                               | 554/910 [00:03<00:02, 138.58it/s]"
     ]
    },
    {
     "name": "stdout",
     "output_type": "stream",
     "text": [
      "../../Processed Data/10K10Q/Data_10Q/item1_63908_2014-05-06.txt already exists\n",
      "../../Processed Data/10K10Q/Data_10Q/item1_63908_2011-08-05.txt already exists\n",
      "../../Processed Data/10K10Q/Data_10Q/item1_63908_2018-11-01.txt already exists\n",
      "../../Processed Data/10K10Q/Data_10Q/item1_63908_2014-08-04.txt already exists\n",
      "../../Processed Data/10K10Q/Data_10Q/item1_63908_2013-05-01.txt already exists\n",
      "../../Processed Data/10K10Q/Data_10Q/item1_63908_2019-11-04.txt already exists\n",
      "../../Processed Data/10K10Q/Data_10Q/item1_21344_2017-10-26.txt already exists\n",
      "../../Processed Data/10K10Q/Data_10Q/item1_21344_2014-10-29.txt already exists\n",
      "../../Processed Data/10K10Q/Data_10Q/item1_21344_2019-10-24.txt already exists\n",
      "../../Processed Data/10K10Q/Data_10Q/item1_21344_2015-07-29.txt already exists\n",
      "../../Processed Data/10K10Q/Data_10Q/item1_21344_2010-04-29.txt already exists\n",
      "../../Processed Data/10K10Q/Data_10Q/item1_21344_2018-10-30.txt already exists\n",
      "../../Processed Data/10K10Q/Data_10Q/item1_21344_2013-10-24.txt already exists\n",
      "../../Processed Data/10K10Q/Data_10Q/item1_21344_2014-07-30.txt already exists\n",
      "../../Processed Data/10K10Q/Data_10Q/item1_21344_2015-04-30.txt already exists\n",
      "../../Processed Data/10K10Q/Data_10Q/item1_21344_2011-08-01.txt already exists\n",
      "../../Processed Data/10K10Q/Data_10Q/item1_21344_2015-10-28.txt already exists\n",
      "../../Processed Data/10K10Q/Data_10Q/item1_21344_2019-07-25.txt already exists\n",
      "../../Processed Data/10K10Q/Data_10Q/item1_21344_2016-10-27.txt already exists\n",
      "../../Processed Data/10K10Q/Data_10Q/item1_21344_2010-10-29.txt already exists\n"
     ]
    },
    {
     "name": "stderr",
     "output_type": "stream",
     "text": [
      "\r",
      " 63%|█████████████████████████████████████████████████▊                             | 574/910 [00:03<00:02, 152.04it/s]"
     ]
    },
    {
     "name": "stdout",
     "output_type": "stream",
     "text": [
      "../../Processed Data/10K10Q/Data_10Q/item1_21344_2017-07-27.txt already exists\n",
      "../../Processed Data/10K10Q/Data_10Q/item1_21344_2011-05-02.txt already exists\n",
      "../../Processed Data/10K10Q/Data_10Q/item1_21344_2013-04-25.txt already exists\n",
      "../../Processed Data/10K10Q/Data_10Q/item1_21344_2012-07-26.txt already exists\n",
      "../../Processed Data/10K10Q/Data_10Q/item1_21344_2016-04-28.txt already exists\n",
      "../../Processed Data/10K10Q/Data_10Q/item1_21344_2018-07-26.txt already exists\n",
      "../../Processed Data/10K10Q/Data_10Q/item1_21344_2019-04-25.txt already exists\n",
      "../../Processed Data/10K10Q/Data_10Q/item1_21344_2012-10-25.txt already exists\n",
      "../../Processed Data/10K10Q/Data_10Q/item1_21344_2018-05-01.txt already exists\n",
      "../../Processed Data/10K10Q/Data_10Q/item1_21344_2010-08-02.txt already exists\n",
      "../../Processed Data/10K10Q/Data_10Q/item1_21344_2011-10-27.txt already exists\n",
      "../../Processed Data/10K10Q/Data_10Q/item1_21344_2016-07-28.txt already exists\n",
      "../../Processed Data/10K10Q/Data_10Q/item1_21344_2014-04-24.txt already exists\n",
      "../../Processed Data/10K10Q/Data_10Q/item1_21344_2017-04-27.txt already exists\n",
      "../../Processed Data/10K10Q/Data_10Q/item1_21344_2012-04-26.txt already exists\n",
      "../../Processed Data/10K10Q/Data_10Q/item1_21344_2013-07-25.txt already exists\n"
     ]
    },
    {
     "name": "stderr",
     "output_type": "stream",
     "text": [
      "\r",
      " 65%|███████████████████████████████████████████████████▏                           | 590/910 [00:03<00:02, 141.42it/s]"
     ]
    },
    {
     "name": "stdout",
     "output_type": "stream",
     "text": [
      "../../Processed Data/10K10Q/Data_10Q/item1_50863_2010-11-02.txt already exists\n",
      "../../Processed Data/10K10Q/Data_10Q/item1_50863_2011-05-09.txt already exists\n",
      "../../Processed Data/10K10Q/Data_10Q/item1_50863_2016-05-02.txt already exists\n",
      "../../Processed Data/10K10Q/Data_10Q/item1_50863_2014-04-25.txt already exists\n",
      "../../Processed Data/10K10Q/Data_10Q/item1_50863_2013-07-29.txt already exists\n",
      "../../Processed Data/10K10Q/Data_10Q/item1_50863_2015-07-27.txt already exists\n",
      "../../Processed Data/10K10Q/Data_10Q/item1_50863_2010-07-30.txt already exists\n",
      "../../Processed Data/10K10Q/Data_10Q/item1_50863_2018-07-27.txt already exists\n",
      "../../Processed Data/10K10Q/Data_10Q/item1_50863_2017-04-27.txt already exists\n",
      "../../Processed Data/10K10Q/Data_10Q/item1_50863_2016-08-01.txt already exists\n",
      "../../Processed Data/10K10Q/Data_10Q/item1_50863_2014-07-25.txt already exists\n",
      "../../Processed Data/10K10Q/Data_10Q/item1_50863_2016-10-31.txt already exists\n",
      "../../Processed Data/10K10Q/Data_10Q/item1_50863_2015-10-28.txt already exists\n",
      "../../Processed Data/10K10Q/Data_10Q/item1_50863_2018-04-27.txt already exists\n",
      "../../Processed Data/10K10Q/Data_10Q/item1_50863_2017-07-27.txt already exists\n"
     ]
    },
    {
     "name": "stderr",
     "output_type": "stream",
     "text": [
      "\r",
      " 66%|████████████████████████████████████████████████████▌                          | 605/910 [00:03<00:02, 142.72it/s]"
     ]
    },
    {
     "name": "stdout",
     "output_type": "stream",
     "text": [
      "../../Processed Data/10K10Q/Data_10Q/item1_50863_2015-04-27.txt already exists\n",
      "../../Processed Data/10K10Q/Data_10Q/item1_50863_2013-04-29.txt already exists\n",
      "../../Processed Data/10K10Q/Data_10Q/item1_50863_2013-10-28.txt already exists\n",
      "../../Processed Data/10K10Q/Data_10Q/item1_50863_2018-10-26.txt already exists\n",
      "../../Processed Data/10K10Q/Data_10Q/item1_50863_2019-07-26.txt already exists\n",
      "../../Processed Data/10K10Q/Data_10Q/item1_50863_2012-08-01.txt already exists\n",
      "../../Processed Data/10K10Q/Data_10Q/item1_50863_2012-10-31.txt already exists\n",
      "../../Processed Data/10K10Q/Data_10Q/item1_50863_2014-10-29.txt already exists\n",
      "../../Processed Data/10K10Q/Data_10Q/item1_50863_2019-10-25.txt already exists\n",
      "../../Processed Data/10K10Q/Data_10Q/item1_50863_2017-10-26.txt already exists\n",
      "../../Processed Data/10K10Q/Data_10Q/item1_50863_2012-05-04.txt already exists\n",
      "../../Processed Data/10K10Q/Data_10Q/item1_50863_2011-08-08.txt already exists\n",
      "../../Processed Data/10K10Q/Data_10Q/item1_50863_2010-05-03.txt already exists\n",
      "../../Processed Data/10K10Q/Data_10Q/item1_50863_2011-11-04.txt already exists\n",
      "../../Processed Data/10K10Q/Data_10Q/item1_50863_2019-04-26.txt already exists\n"
     ]
    },
    {
     "name": "stderr",
     "output_type": "stream",
     "text": [
      "\r",
      " 68%|█████████████████████████████████████████████████████▊                         | 620/910 [00:03<00:02, 142.92it/s]"
     ]
    },
    {
     "name": "stdout",
     "output_type": "stream",
     "text": [
      "../../Processed Data/10K10Q/Data_10Q/item1_354950_2015-11-24.txt already exists\n",
      "../../Processed Data/10K10Q/Data_10Q/item1_354950_2017-08-22.txt already exists\n",
      "../../Processed Data/10K10Q/Data_10Q/item1_354950_2011-09-01.txt already exists\n",
      "../../Processed Data/10K10Q/Data_10Q/item1_354950_2013-05-29.txt already exists\n",
      "../../Processed Data/10K10Q/Data_10Q/item1_354950_2015-05-27.txt already exists\n",
      "../../Processed Data/10K10Q/Data_10Q/item1_354950_2012-08-22.txt already exists\n",
      "../../Processed Data/10K10Q/Data_10Q/item1_354950_2016-05-24.txt already exists\n",
      "../../Processed Data/10K10Q/Data_10Q/item1_354950_2010-12-02.txt already exists\n",
      "../../Processed Data/10K10Q/Data_10Q/item1_354950_2015-08-25.txt already exists\n",
      "../../Processed Data/10K10Q/Data_10Q/item1_354950_2013-11-27.txt already exists\n",
      "../../Processed Data/10K10Q/Data_10Q/item1_354950_2019-08-27.txt already exists\n",
      "../../Processed Data/10K10Q/Data_10Q/item1_354950_2019-05-29.txt already exists\n",
      "../../Processed Data/10K10Q/Data_10Q/item1_354950_2010-09-02.txt already exists\n",
      "../../Processed Data/10K10Q/Data_10Q/item1_354950_2014-08-27.txt already exists\n",
      "../../Processed Data/10K10Q/Data_10Q/item1_354950_2011-06-02.txt already exists\n",
      "../../Processed Data/10K10Q/Data_10Q/item1_354950_2014-05-28.txt already exists\n"
     ]
    },
    {
     "name": "stderr",
     "output_type": "stream",
     "text": [
      "\r",
      " 70%|███████████████████████████████████████████████████████▏                       | 636/910 [00:04<00:01, 145.51it/s]"
     ]
    },
    {
     "name": "stdout",
     "output_type": "stream",
     "text": [
      "../../Processed Data/10K10Q/Data_10Q/item1_354950_2019-11-26.txt already exists\n",
      "../../Processed Data/10K10Q/Data_10Q/item1_354950_2016-08-23.txt already exists\n",
      "../../Processed Data/10K10Q/Data_10Q/item1_354950_2014-11-25.txt already exists\n",
      "../../Processed Data/10K10Q/Data_10Q/item1_354950_2018-05-22.txt already exists\n",
      "../../Processed Data/10K10Q/Data_10Q/item1_354950_2018-11-20.txt already exists\n",
      "../../Processed Data/10K10Q/Data_10Q/item1_354950_2012-05-24.txt already exists\n",
      "../../Processed Data/10K10Q/Data_10Q/item1_354950_2011-11-29.txt already exists\n",
      "../../Processed Data/10K10Q/Data_10Q/item1_354950_2016-11-22.txt already exists\n",
      "../../Processed Data/10K10Q/Data_10Q/item1_354950_2018-08-21.txt already exists\n",
      "../../Processed Data/10K10Q/Data_10Q/item1_354950_2013-08-28.txt already exists\n",
      "../../Processed Data/10K10Q/Data_10Q/item1_354950_2012-11-21.txt already exists\n",
      "../../Processed Data/10K10Q/Data_10Q/item1_354950_2010-06-03.txt already exists\n",
      "../../Processed Data/10K10Q/Data_10Q/item1_354950_2017-05-23.txt already exists\n",
      "../../Processed Data/10K10Q/Data_10Q/item1_354950_2017-11-21.txt already exists\n",
      "../../Processed Data/10K10Q/Data_10Q/item1_80424_2013-01-25.txt already exists\n",
      "../../Processed Data/10K10Q/Data_10Q/item1_80424_2017-10-20.txt already exists\n"
     ]
    },
    {
     "name": "stderr",
     "output_type": "stream",
     "text": [
      "\r",
      " 72%|████████████████████████████████████████████████████████▌                      | 652/910 [00:04<00:01, 148.44it/s]"
     ]
    },
    {
     "name": "stdout",
     "output_type": "stream",
     "text": [
      "../../Processed Data/10K10Q/Data_10Q/item1_80424_2016-10-25.txt already exists\n",
      "../../Processed Data/10K10Q/Data_10Q/item1_80424_2015-01-27.txt already exists\n",
      "../../Processed Data/10K10Q/Data_10Q/item1_80424_2017-01-20.txt already exists\n",
      "../../Processed Data/10K10Q/Data_10Q/item1_80424_2013-10-25.txt already exists\n",
      "../../Processed Data/10K10Q/Data_10Q/item1_80424_2019-10-22.txt already exists\n",
      "../../Processed Data/10K10Q/Data_10Q/item1_80424_2019-01-23.txt already exists\n",
      "../../Processed Data/10K10Q/Data_10Q/item1_80424_2016-04-26.txt already exists\n",
      "../../Processed Data/10K10Q/Data_10Q/item1_80424_2014-01-24.txt already exists\n",
      "../../Processed Data/10K10Q/Data_10Q/item1_80424_2011-01-28.txt already exists\n",
      "../../Processed Data/10K10Q/Data_10Q/item1_80424_2012-01-27.txt already exists\n",
      "../../Processed Data/10K10Q/Data_10Q/item1_80424_2018-04-19.txt already exists\n",
      "../../Processed Data/10K10Q/Data_10Q/item1_80424_2015-04-23.txt already exists\n",
      "../../Processed Data/10K10Q/Data_10Q/item1_80424_2014-10-24.txt already exists\n",
      "../../Processed Data/10K10Q/Data_10Q/item1_80424_2012-04-27.txt already exists\n",
      "../../Processed Data/10K10Q/Data_10Q/item1_80424_2012-10-25.txt already exists\n",
      "../../Processed Data/10K10Q/Data_10Q/item1_80424_2017-04-26.txt already exists\n"
     ]
    },
    {
     "name": "stderr",
     "output_type": "stream",
     "text": [
      "\r",
      " 73%|█████████████████████████████████████████████████████████▉                     | 668/910 [00:04<00:01, 150.99it/s]"
     ]
    },
    {
     "name": "stdout",
     "output_type": "stream",
     "text": [
      "../../Processed Data/10K10Q/Data_10Q/item1_80424_2018-01-23.txt already exists\n",
      "../../Processed Data/10K10Q/Data_10Q/item1_80424_2011-04-29.txt already exists\n",
      "../../Processed Data/10K10Q/Data_10Q/item1_80424_2018-10-19.txt already exists\n",
      "../../Processed Data/10K10Q/Data_10Q/item1_80424_2011-10-27.txt already exists\n",
      "../../Processed Data/10K10Q/Data_10Q/item1_80424_2015-10-23.txt already exists\n",
      "../../Processed Data/10K10Q/Data_10Q/item1_80424_2020-01-23.txt already exists\n",
      "../../Processed Data/10K10Q/Data_10Q/item1_80424_2019-04-23.txt already exists\n",
      "../../Processed Data/10K10Q/Data_10Q/item1_80424_2010-01-28.txt already exists\n",
      "../../Processed Data/10K10Q/Data_10Q/item1_80424_2016-01-26.txt already exists\n",
      "../../Processed Data/10K10Q/Data_10Q/item1_80424_2013-04-24.txt already exists\n",
      "../../Processed Data/10K10Q/Data_10Q/item1_80424_2014-04-23.txt already exists\n",
      "../../Processed Data/10K10Q/Data_10Q/item1_80424_2010-04-30.txt already exists\n",
      "../../Processed Data/10K10Q/Data_10Q/item1_80424_2010-10-28.txt already exists\n",
      "../../Processed Data/10K10Q/Data_10Q/item1_104169_2013-09-05.txt already exists\n",
      "../../Processed Data/10K10Q/Data_10Q/item1_104169_2018-11-30.txt already exists\n",
      "../../Processed Data/10K10Q/Data_10Q/item1_104169_2011-12-08.txt already exists\n"
     ]
    },
    {
     "name": "stderr",
     "output_type": "stream",
     "text": [
      "\r",
      " 75%|███████████████████████████████████████████████████████████▍                   | 684/910 [00:04<00:01, 151.93it/s]"
     ]
    },
    {
     "name": "stdout",
     "output_type": "stream",
     "text": [
      "../../Processed Data/10K10Q/Data_10Q/item1_104169_2019-06-07.txt already exists\n",
      "../../Processed Data/10K10Q/Data_10Q/item1_104169_2019-12-04.txt already exists\n",
      "../../Processed Data/10K10Q/Data_10Q/item1_104169_2014-06-06.txt already exists\n",
      "../../Processed Data/10K10Q/Data_10Q/item1_104169_2018-09-06.txt already exists\n",
      "../../Processed Data/10K10Q/Data_10Q/item1_104169_2017-06-02.txt already exists\n",
      "../../Processed Data/10K10Q/Data_10Q/item1_104169_2018-06-04.txt already exists\n",
      "../../Processed Data/10K10Q/Data_10Q/item1_104169_2012-09-06.txt already exists\n",
      "../../Processed Data/10K10Q/Data_10Q/item1_104169_2015-06-05.txt already exists\n",
      "../../Processed Data/10K10Q/Data_10Q/item1_104169_2010-12-06.txt already exists\n",
      "../../Processed Data/10K10Q/Data_10Q/item1_104169_2010-06-04.txt already exists\n",
      "../../Processed Data/10K10Q/Data_10Q/item1_104169_2013-06-07.txt already exists\n",
      "../../Processed Data/10K10Q/Data_10Q/item1_104169_2017-08-31.txt already exists\n",
      "../../Processed Data/10K10Q/Data_10Q/item1_104169_2010-09-01.txt already exists\n",
      "../../Processed Data/10K10Q/Data_10Q/item1_104169_2014-09-05.txt already exists\n",
      "../../Processed Data/10K10Q/Data_10Q/item1_104169_2017-12-01.txt already exists\n",
      "../../Processed Data/10K10Q/Data_10Q/item1_104169_2013-12-06.txt already exists\n",
      "../../Processed Data/10K10Q/Data_10Q/item1_104169_2012-06-01.txt already exists\n",
      "../../Processed Data/10K10Q/Data_10Q/item1_104169_2014-12-01.txt already exists\n",
      "../../Processed Data/10K10Q/Data_10Q/item1_104169_2019-09-06.txt already exists\n"
     ]
    },
    {
     "name": "stderr",
     "output_type": "stream",
     "text": [
      "\r",
      " 77%|█████████████████████████████████████████████████████████████                  | 703/910 [00:04<00:01, 160.45it/s]"
     ]
    },
    {
     "name": "stdout",
     "output_type": "stream",
     "text": [
      "../../Processed Data/10K10Q/Data_10Q/item1_104169_2011-06-03.txt already exists\n",
      "../../Processed Data/10K10Q/Data_10Q/item1_104169_2015-12-02.txt already exists\n",
      "../../Processed Data/10K10Q/Data_10Q/item1_104169_2015-09-09.txt already exists\n",
      "../../Processed Data/10K10Q/Data_10Q/item1_104169_2011-09-01.txt already exists\n",
      "../../Processed Data/10K10Q/Data_10Q/item1_104169_2016-08-31.txt already exists\n",
      "../../Processed Data/10K10Q/Data_10Q/item1_104169_2016-06-03.txt already exists\n",
      "../../Processed Data/10K10Q/Data_10Q/item1_104169_2016-12-01.txt already exists\n",
      "../../Processed Data/10K10Q/Data_10Q/item1_104169_2012-12-04.txt already exists\n",
      "../../Processed Data/10K10Q/Data_10Q/item1_66740_2016-08-02.txt already exists\n",
      "../../Processed Data/10K10Q/Data_10Q/item1_66740_2019-10-25.txt already exists\n",
      "../../Processed Data/10K10Q/Data_10Q/item1_66740_2019-04-26.txt already exists\n",
      "../../Processed Data/10K10Q/Data_10Q/item1_66740_2017-10-31.txt already exists\n",
      "../../Processed Data/10K10Q/Data_10Q/item1_66740_2011-08-04.txt already exists\n",
      "../../Processed Data/10K10Q/Data_10Q/item1_66740_2011-11-03.txt already exists\n",
      "../../Processed Data/10K10Q/Data_10Q/item1_66740_2017-08-01.txt already exists\n",
      "../../Processed Data/10K10Q/Data_10Q/item1_66740_2017-05-03.txt already exists\n",
      "../../Processed Data/10K10Q/Data_10Q/item1_66740_2014-07-31.txt already exists\n"
     ]
    },
    {
     "name": "stderr",
     "output_type": "stream",
     "text": [
      "\r",
      " 79%|██████████████████████████████████████████████████████████████▌                | 720/910 [00:04<00:01, 157.36it/s]"
     ]
    },
    {
     "name": "stdout",
     "output_type": "stream",
     "text": [
      "../../Processed Data/10K10Q/Data_10Q/item1_66740_2012-05-03.txt already exists\n",
      "../../Processed Data/10K10Q/Data_10Q/item1_66740_2012-11-01.txt already exists\n",
      "../../Processed Data/10K10Q/Data_10Q/item1_66740_2019-07-26.txt already exists\n",
      "../../Processed Data/10K10Q/Data_10Q/item1_66740_2014-05-01.txt already exists\n",
      "../../Processed Data/10K10Q/Data_10Q/item1_66740_2018-05-08.txt already exists\n",
      "../../Processed Data/10K10Q/Data_10Q/item1_66740_2010-05-05.txt already exists\n",
      "../../Processed Data/10K10Q/Data_10Q/item1_66740_2012-08-02.txt already exists\n",
      "../../Processed Data/10K10Q/Data_10Q/item1_66740_2015-04-30.txt already exists\n",
      "../../Processed Data/10K10Q/Data_10Q/item1_66740_2010-08-04.txt already exists\n",
      "../../Processed Data/10K10Q/Data_10Q/item1_66740_2010-11-05.txt already exists\n",
      "../../Processed Data/10K10Q/Data_10Q/item1_66740_2013-10-31.txt already exists\n",
      "../../Processed Data/10K10Q/Data_10Q/item1_66740_2015-10-29.txt already exists\n",
      "../../Processed Data/10K10Q/Data_10Q/item1_66740_2018-10-25.txt already exists\n",
      "../../Processed Data/10K10Q/Data_10Q/item1_66740_2015-07-30.txt already exists\n",
      "../../Processed Data/10K10Q/Data_10Q/item1_66740_2018-07-26.txt already exists\n",
      "../../Processed Data/10K10Q/Data_10Q/item1_66740_2013-08-01.txt already exists\n",
      "../../Processed Data/10K10Q/Data_10Q/item1_66740_2011-05-05.txt already exists\n"
     ]
    },
    {
     "name": "stderr",
     "output_type": "stream",
     "text": [
      "\r",
      " 81%|███████████████████████████████████████████████████████████████▉               | 737/910 [00:04<00:01, 159.92it/s]"
     ]
    },
    {
     "name": "stdout",
     "output_type": "stream",
     "text": [
      "../../Processed Data/10K10Q/Data_10Q/item1_66740_2016-05-03.txt already exists\n",
      "../../Processed Data/10K10Q/Data_10Q/item1_66740_2016-11-01.txt already exists\n",
      "../../Processed Data/10K10Q/Data_10Q/item1_66740_2013-05-02.txt already exists\n",
      "../../Processed Data/10K10Q/Data_10Q/item1_66740_2014-10-30.txt already exists\n",
      "../../Processed Data/10K10Q/Data_10Q/item1_1618921_2017-01-05.txt already exists\n",
      "../../Processed Data/10K10Q/Data_10Q/item1_1618921_2018-03-28.txt already exists\n",
      "../../Processed Data/10K10Q/Data_10Q/item1_1618921_2020-01-08.txt already exists\n",
      "../../Processed Data/10K10Q/Data_10Q/item1_1618921_2014-12-30.txt already exists\n",
      "../../Processed Data/10K10Q/Data_10Q/item1_1618921_2016-04-05.txt already exists\n",
      "../../Processed Data/10K10Q/Data_10Q/item1_1618921_2018-01-04.txt already exists\n",
      "../../Processed Data/10K10Q/Data_10Q/item1_1618921_2016-01-07.txt already exists\n",
      "../../Processed Data/10K10Q/Data_10Q/item1_1618921_2019-04-02.txt already exists\n",
      "../../Processed Data/10K10Q/Data_10Q/item1_1618921_2017-06-29.txt already exists\n",
      "../../Processed Data/10K10Q/Data_10Q/item1_1618921_2018-12-20.txt already exists\n",
      "../../Processed Data/10K10Q/Data_10Q/item1_1618921_2019-06-27.txt already exists\n",
      "../../Processed Data/10K10Q/Data_10Q/item1_1618921_2015-04-09.txt already exists\n",
      "../../Processed Data/10K10Q/Data_10Q/item1_1618921_2018-06-28.txt already exists\n",
      "../../Processed Data/10K10Q/Data_10Q/item1_1618921_2015-07-09.txt already exists\n"
     ]
    },
    {
     "name": "stderr",
     "output_type": "stream",
     "text": [
      "\r",
      " 83%|█████████████████████████████████████████████████████████████████▌             | 755/910 [00:04<00:00, 164.20it/s]"
     ]
    },
    {
     "name": "stdout",
     "output_type": "stream",
     "text": [
      "../../Processed Data/10K10Q/Data_10Q/item1_1618921_2016-07-06.txt already exists\n",
      "../../Processed Data/10K10Q/Data_10Q/item1_1618921_2017-04-05.txt already exists\n",
      "../../Processed Data/10K10Q/Data_10Q/item1_93410_2017-05-04.txt already exists\n",
      "../../Processed Data/10K10Q/Data_10Q/item1_93410_2016-11-03.txt already exists\n",
      "../../Processed Data/10K10Q/Data_10Q/item1_93410_2011-08-04.txt already exists\n",
      "../../Processed Data/10K10Q/Data_10Q/item1_93410_2018-05-03.txt already exists\n",
      "../../Processed Data/10K10Q/Data_10Q/item1_93410_2012-11-06.txt already exists\n",
      "../../Processed Data/10K10Q/Data_10Q/item1_93410_2013-11-08.txt already exists\n",
      "../../Processed Data/10K10Q/Data_10Q/item1_93410_2015-11-06.txt already exists\n",
      "../../Processed Data/10K10Q/Data_10Q/item1_93410_2010-05-05.txt already exists\n",
      "../../Processed Data/10K10Q/Data_10Q/item1_93410_2012-05-03.txt already exists\n",
      "../../Processed Data/10K10Q/Data_10Q/item1_93410_2016-08-04.txt already exists\n",
      "../../Processed Data/10K10Q/Data_10Q/item1_93410_2011-11-03.txt already exists\n",
      "../../Processed Data/10K10Q/Data_10Q/item1_93410_2010-11-05.txt already exists\n",
      "../../Processed Data/10K10Q/Data_10Q/item1_93410_2018-11-08.txt already exists\n",
      "../../Processed Data/10K10Q/Data_10Q/item1_93410_2016-05-05.txt already exists\n"
     ]
    },
    {
     "name": "stderr",
     "output_type": "stream",
     "text": [
      "\r",
      " 85%|███████████████████████████████████████████████████████████████████            | 772/910 [00:04<00:00, 165.57it/s]"
     ]
    },
    {
     "name": "stdout",
     "output_type": "stream",
     "text": [
      "../../Processed Data/10K10Q/Data_10Q/item1_93410_2017-11-02.txt already exists\n",
      "../../Processed Data/10K10Q/Data_10Q/item1_93410_2010-08-05.txt already exists\n",
      "../../Processed Data/10K10Q/Data_10Q/item1_93410_2015-08-05.txt already exists\n",
      "../../Processed Data/10K10Q/Data_10Q/item1_93410_2019-05-02.txt already exists\n",
      "../../Processed Data/10K10Q/Data_10Q/item1_93410_2015-05-07.txt already exists\n",
      "../../Processed Data/10K10Q/Data_10Q/item1_93410_2012-08-02.txt already exists\n",
      "../../Processed Data/10K10Q/Data_10Q/item1_93410_2014-05-02.txt already exists\n",
      "../../Processed Data/10K10Q/Data_10Q/item1_93410_2013-08-07.txt already exists\n",
      "../../Processed Data/10K10Q/Data_10Q/item1_93410_2017-08-03.txt already exists\n",
      "../../Processed Data/10K10Q/Data_10Q/item1_93410_2019-11-07.txt already exists\n",
      "../../Processed Data/10K10Q/Data_10Q/item1_93410_2013-05-02.txt already exists\n",
      "../../Processed Data/10K10Q/Data_10Q/item1_93410_2018-08-02.txt already exists\n",
      "../../Processed Data/10K10Q/Data_10Q/item1_93410_2019-08-07.txt already exists\n",
      "../../Processed Data/10K10Q/Data_10Q/item1_93410_2014-11-07.txt already exists\n",
      "../../Processed Data/10K10Q/Data_10Q/item1_93410_2011-05-05.txt already exists\n",
      "../../Processed Data/10K10Q/Data_10Q/item1_93410_2014-08-06.txt already exists\n",
      "../../Processed Data/10K10Q/Data_10Q/item1_19617_2010-05-10.txt already exists\n",
      "../../Processed Data/10K10Q/Data_10Q/item1_19617_2013-08-07.txt already exists\n",
      "../../Processed Data/10K10Q/Data_10Q/item1_19617_2014-05-02.txt already exists\n",
      "../../Processed Data/10K10Q/Data_10Q/item1_19617_2016-04-29.txt already exists\n"
     ]
    },
    {
     "name": "stderr",
     "output_type": "stream",
     "text": [
      "\r",
      " 87%|████████████████████████████████████████████████████████████████████▉          | 794/910 [00:04<00:00, 178.09it/s]"
     ]
    },
    {
     "name": "stdout",
     "output_type": "stream",
     "text": [
      "../../Processed Data/10K10Q/Data_10Q/item1_19617_2019-05-02.txt already exists\n",
      "../../Processed Data/10K10Q/Data_10Q/item1_19617_2010-11-09.txt already exists\n",
      "../../Processed Data/10K10Q/Data_10Q/item1_19617_2013-05-08.txt already exists\n",
      "../../Processed Data/10K10Q/Data_10Q/item1_19617_2017-08-02.txt already exists\n",
      "../../Processed Data/10K10Q/Data_10Q/item1_19617_2013-11-01.txt already exists\n",
      "../../Processed Data/10K10Q/Data_10Q/item1_19617_2015-08-03.txt already exists\n",
      "../../Processed Data/10K10Q/Data_10Q/item1_19617_2012-05-10.txt already exists\n",
      "../../Processed Data/10K10Q/Data_10Q/item1_19617_2019-08-06.txt already exists\n",
      "../../Processed Data/10K10Q/Data_10Q/item1_19617_2012-11-08.txt already exists\n",
      "../../Processed Data/10K10Q/Data_10Q/item1_19617_2015-11-02.txt already exists\n",
      "../../Processed Data/10K10Q/Data_10Q/item1_19617_2012-08-09.txt already exists\n",
      "../../Processed Data/10K10Q/Data_10Q/item1_19617_2016-11-01.txt already exists\n",
      "../../Processed Data/10K10Q/Data_10Q/item1_19617_2014-08-04.txt already exists\n",
      "../../Processed Data/10K10Q/Data_10Q/item1_19617_2019-11-04.txt already exists\n",
      "../../Processed Data/10K10Q/Data_10Q/item1_19617_2011-08-05.txt already exists\n",
      "../../Processed Data/10K10Q/Data_10Q/item1_19617_2018-08-01.txt already exists\n",
      "../../Processed Data/10K10Q/Data_10Q/item1_19617_2011-11-04.txt already exists\n",
      "../../Processed Data/10K10Q/Data_10Q/item1_19617_2011-05-06.txt already exists\n",
      "../../Processed Data/10K10Q/Data_10Q/item1_19617_2016-08-03.txt already exists\n"
     ]
    },
    {
     "name": "stderr",
     "output_type": "stream",
     "text": [
      "\r",
      " 89%|██████████████████████████████████████████████████████████████████████▌        | 813/910 [00:05<00:00, 166.52it/s]"
     ]
    },
    {
     "name": "stdout",
     "output_type": "stream",
     "text": [
      "../../Processed Data/10K10Q/Data_10Q/item1_19617_2018-05-02.txt already exists\n",
      "../../Processed Data/10K10Q/Data_10Q/item1_19617_2015-05-05.txt already exists\n",
      "../../Processed Data/10K10Q/Data_10Q/item1_19617_2017-11-01.txt already exists\n",
      "../../Processed Data/10K10Q/Data_10Q/item1_19617_2010-08-06.txt already exists\n",
      "../../Processed Data/10K10Q/Data_10Q/item1_19617_2017-05-02.txt already exists\n",
      "../../Processed Data/10K10Q/Data_10Q/item1_19617_2014-11-03.txt already exists\n",
      "../../Processed Data/10K10Q/Data_10Q/item1_19617_2018-10-31.txt already exists\n",
      "../../Processed Data/10K10Q/Data_10Q/item1_101829_2015-10-23.txt already exists\n",
      "../../Processed Data/10K10Q/Data_10Q/item1_101829_2010-07-26.txt already exists\n",
      "../../Processed Data/10K10Q/Data_10Q/item1_101829_2011-04-25.txt already exists\n",
      "../../Processed Data/10K10Q/Data_10Q/item1_101829_2018-07-27.txt already exists\n",
      "../../Processed Data/10K10Q/Data_10Q/item1_101829_2012-04-30.txt already exists\n",
      "../../Processed Data/10K10Q/Data_10Q/item1_101829_2016-07-29.txt already exists\n",
      "../../Processed Data/10K10Q/Data_10Q/item1_101829_2014-04-25.txt already exists\n",
      "../../Processed Data/10K10Q/Data_10Q/item1_101829_2012-07-30.txt already exists\n",
      "../../Processed Data/10K10Q/Data_10Q/item1_101829_2018-04-27.txt already exists\n",
      "../../Processed Data/10K10Q/Data_10Q/item1_101829_2011-07-25.txt already exists\n",
      "../../Processed Data/10K10Q/Data_10Q/item1_101829_2010-04-26.txt already exists\n"
     ]
    },
    {
     "name": "stderr",
     "output_type": "stream",
     "text": [
      "\r",
      " 91%|████████████████████████████████████████████████████████████████████████▏      | 831/910 [00:05<00:00, 159.71it/s]"
     ]
    },
    {
     "name": "stdout",
     "output_type": "stream",
     "text": [
      "../../Processed Data/10K10Q/Data_10Q/item1_101829_2010-10-25.txt already exists\n",
      "../../Processed Data/10K10Q/Data_10Q/item1_101829_2016-04-29.txt already exists\n",
      "../../Processed Data/10K10Q/Data_10Q/item1_101829_2014-07-25.txt already exists\n",
      "../../Processed Data/10K10Q/Data_10Q/item1_101829_2016-10-27.txt already exists\n",
      "../../Processed Data/10K10Q/Data_10Q/item1_101829_2019-07-26.txt already exists\n",
      "../../Processed Data/10K10Q/Data_10Q/item1_101829_2013-10-25.txt already exists\n",
      "../../Processed Data/10K10Q/Data_10Q/item1_101829_2015-04-24.txt already exists\n",
      "../../Processed Data/10K10Q/Data_10Q/item1_101829_2017-07-28.txt already exists\n",
      "../../Processed Data/10K10Q/Data_10Q/item1_101829_2018-10-26.txt already exists\n",
      "../../Processed Data/10K10Q/Data_10Q/item1_101829_2013-04-26.txt already exists\n",
      "../../Processed Data/10K10Q/Data_10Q/item1_101829_2014-10-24.txt already exists\n",
      "../../Processed Data/10K10Q/Data_10Q/item1_101829_2017-10-27.txt already exists\n",
      "../../Processed Data/10K10Q/Data_10Q/item1_101829_2012-10-26.txt already exists\n",
      "../../Processed Data/10K10Q/Data_10Q/item1_101829_2019-04-26.txt already exists\n",
      "../../Processed Data/10K10Q/Data_10Q/item1_101829_2013-07-26.txt already exists\n",
      "../../Processed Data/10K10Q/Data_10Q/item1_101829_2019-10-25.txt already exists\n",
      "../../Processed Data/10K10Q/Data_10Q/item1_101829_2015-07-24.txt already exists\n"
     ]
    },
    {
     "name": "stderr",
     "output_type": "stream",
     "text": [
      "\r",
      " 93%|█████████████████████████████████████████████████████████████████████████▌     | 848/910 [00:05<00:00, 146.05it/s]"
     ]
    },
    {
     "name": "stdout",
     "output_type": "stream",
     "text": [
      "../../Processed Data/10K10Q/Data_10Q/item1_101829_2017-04-28.txt already exists\n",
      "../../Processed Data/10K10Q/Data_10Q/item1_101829_2011-10-24.txt already exists\n",
      "../../Processed Data/10K10Q/Data_10Q/item1_4962_2016-07-26.txt already exists\n",
      "../../Processed Data/10K10Q/Data_10Q/item1_4962_2014-10-28.txt already exists\n",
      "../../Processed Data/10K10Q/Data_10Q/item1_4962_2015-07-29.txt already exists\n",
      "../../Processed Data/10K10Q/Data_10Q/item1_4962_2018-07-24.txt already exists\n",
      "../../Processed Data/10K10Q/Data_10Q/item1_4962_2012-10-31.txt already exists\n",
      "../../Processed Data/10K10Q/Data_10Q/item1_4962_2013-10-29.txt already exists\n",
      "../../Processed Data/10K10Q/Data_10Q/item1_4962_2014-07-30.txt already exists\n",
      "../../Processed Data/10K10Q/Data_10Q/item1_4962_2011-11-02.txt already exists\n",
      "../../Processed Data/10K10Q/Data_10Q/item1_4962_2010-05-05.txt already exists\n",
      "../../Processed Data/10K10Q/Data_10Q/item1_4962_2017-07-25.txt already exists\n",
      "../../Processed Data/10K10Q/Data_10Q/item1_4962_2015-04-29.txt already exists\n",
      "../../Processed Data/10K10Q/Data_10Q/item1_4962_2018-04-25.txt already exists\n",
      "../../Processed Data/10K10Q/Data_10Q/item1_4962_2016-04-27.txt already exists\n",
      "../../Processed Data/10K10Q/Data_10Q/item1_4962_2016-10-25.txt already exists\n",
      "../../Processed Data/10K10Q/Data_10Q/item1_4962_2011-08-03.txt already exists\n",
      "../../Processed Data/10K10Q/Data_10Q/item1_4962_2013-04-29.txt already exists\n",
      "../../Processed Data/10K10Q/Data_10Q/item1_4962_2012-05-01.txt already exists\n"
     ]
    },
    {
     "name": "stderr",
     "output_type": "stream",
     "text": [
      "\r",
      " 95%|███████████████████████████████████████████████████████████████████████████▎   | 867/910 [00:05<00:00, 155.89it/s]"
     ]
    },
    {
     "name": "stdout",
     "output_type": "stream",
     "text": [
      "../../Processed Data/10K10Q/Data_10Q/item1_4962_2010-08-05.txt already exists\n",
      "../../Processed Data/10K10Q/Data_10Q/item1_4962_2019-04-23.txt already exists\n",
      "../../Processed Data/10K10Q/Data_10Q/item1_4962_2012-08-02.txt already exists\n",
      "../../Processed Data/10K10Q/Data_10Q/item1_4962_2019-10-21.txt already exists\n",
      "../../Processed Data/10K10Q/Data_10Q/item1_4962_2015-10-28.txt already exists\n",
      "../../Processed Data/10K10Q/Data_10Q/item1_4962_2018-10-23.txt already exists\n",
      "../../Processed Data/10K10Q/Data_10Q/item1_4962_2010-11-03.txt already exists\n",
      "../../Processed Data/10K10Q/Data_10Q/item1_4962_2011-05-04.txt already exists\n",
      "../../Processed Data/10K10Q/Data_10Q/item1_4962_2017-04-27.txt already exists\n",
      "../../Processed Data/10K10Q/Data_10Q/item1_4962_2013-07-29.txt already exists\n",
      "../../Processed Data/10K10Q/Data_10Q/item1_4962_2017-10-24.txt already exists\n",
      "../../Processed Data/10K10Q/Data_10Q/item1_4962_2014-04-29.txt already exists\n",
      "../../Processed Data/10K10Q/Data_10Q/item1_4962_2019-07-23.txt already exists\n",
      "../../Processed Data/10K10Q/Data_10Q/item1_34088_2012-05-03.txt already exists\n",
      "../../Processed Data/10K10Q/Data_10Q/item1_34088_2013-11-05.txt already exists\n",
      "../../Processed Data/10K10Q/Data_10Q/item1_34088_2018-11-07.txt already exists\n",
      "../../Processed Data/10K10Q/Data_10Q/item1_34088_2017-05-03.txt already exists\n"
     ]
    },
    {
     "name": "stderr",
     "output_type": "stream",
     "text": [
      "\r",
      " 97%|████████████████████████████████████████████████████████████████████████████▋  | 884/910 [00:05<00:00, 157.33it/s]"
     ]
    },
    {
     "name": "stdout",
     "output_type": "stream",
     "text": [
      "../../Processed Data/10K10Q/Data_10Q/item1_34088_2017-11-01.txt already exists\n",
      "../../Processed Data/10K10Q/Data_10Q/item1_34088_2011-11-03.txt already exists\n",
      "../../Processed Data/10K10Q/Data_10Q/item1_34088_2011-08-04.txt already exists\n",
      "../../Processed Data/10K10Q/Data_10Q/item1_34088_2016-11-03.txt already exists\n",
      "../../Processed Data/10K10Q/Data_10Q/item1_34088_2016-08-03.txt already exists\n",
      "../../Processed Data/10K10Q/Data_10Q/item1_34088_2014-05-07.txt already exists\n",
      "../../Processed Data/10K10Q/Data_10Q/item1_34088_2014-11-05.txt already exists\n",
      "../../Processed Data/10K10Q/Data_10Q/item1_34088_2018-05-03.txt already exists\n",
      "../../Processed Data/10K10Q/Data_10Q/item1_34088_2012-11-06.txt already exists\n",
      "../../Processed Data/10K10Q/Data_10Q/item1_34088_2013-05-02.txt already exists\n",
      "../../Processed Data/10K10Q/Data_10Q/item1_34088_2019-08-07.txt already exists\n",
      "../../Processed Data/10K10Q/Data_10Q/item1_34088_2018-08-02.txt already exists\n",
      "../../Processed Data/10K10Q/Data_10Q/item1_34088_2010-11-03.txt already exists\n",
      "../../Processed Data/10K10Q/Data_10Q/item1_34088_2011-05-05.txt already exists\n",
      "../../Processed Data/10K10Q/Data_10Q/item1_34088_2019-11-06.txt already exists\n",
      "../../Processed Data/10K10Q/Data_10Q/item1_34088_2014-08-06.txt already exists\n",
      "../../Processed Data/10K10Q/Data_10Q/item1_34088_2015-05-06.txt already exists\n"
     ]
    },
    {
     "name": "stderr",
     "output_type": "stream",
     "text": [
      "\r",
      " 99%|██████████████████████████████████████████████████████████████████████████████▏| 901/910 [00:05<00:00, 154.48it/s]"
     ]
    },
    {
     "name": "stdout",
     "output_type": "stream",
     "text": [
      "../../Processed Data/10K10Q/Data_10Q/item1_34088_2015-11-04.txt already exists\n",
      "../../Processed Data/10K10Q/Data_10Q/item1_34088_2013-08-06.txt already exists\n",
      "../../Processed Data/10K10Q/Data_10Q/item1_34088_2017-08-02.txt already exists\n",
      "../../Processed Data/10K10Q/Data_10Q/item1_34088_2016-05-04.txt already exists\n",
      "../../Processed Data/10K10Q/Data_10Q/item1_34088_2010-08-04.txt already exists\n",
      "../../Processed Data/10K10Q/Data_10Q/item1_34088_2019-05-02.txt already exists\n",
      "../../Processed Data/10K10Q/Data_10Q/item1_34088_2015-08-05.txt already exists\n",
      "../../Processed Data/10K10Q/Data_10Q/item1_34088_2010-05-06.txt already exists\n",
      "../../Processed Data/10K10Q/Data_10Q/item1_34088_2012-08-02.txt already exists\n"
     ]
    },
    {
     "name": "stderr",
     "output_type": "stream",
     "text": [
      "100%|███████████████████████████████████████████████████████████████████████████████| 910/910 [00:05<00:00, 159.36it/s]\n"
     ]
    }
   ],
   "source": [
    "zipped_file = \"../../Raw Data/Data_10Q.zip\"\n",
    "item_name = \"item1\"\n",
    "item_regex = \"item[\\s]*2[\\s]*[-.:\\s]*manage.*?item[\\s]*4[\\s]*[-.:\\s]*contr\"\n",
    "save_path = \"../../Processed Data/10K10Q/Data_10Q/\"\n",
    "extract_item(zipped_file, item_name, item_regex, save_path)"
   ]
  },
  {
   "cell_type": "code",
   "execution_count": null,
   "metadata": {},
   "outputs": [],
   "source": []
  }
 ],
 "metadata": {
  "kernelspec": {
   "display_name": "Python 3",
   "language": "python",
   "name": "python3"
  },
  "language_info": {
   "codemirror_mode": {
    "name": "ipython",
    "version": 3
   },
   "file_extension": ".py",
   "mimetype": "text/x-python",
   "name": "python",
   "nbconvert_exporter": "python",
   "pygments_lexer": "ipython3",
   "version": "3.7.1"
  }
 },
 "nbformat": 4,
 "nbformat_minor": 2
}
