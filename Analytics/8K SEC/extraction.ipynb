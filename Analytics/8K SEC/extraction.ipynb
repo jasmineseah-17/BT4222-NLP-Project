{
 "cells": [
  {
   "cell_type": "code",
   "execution_count": 1,
   "metadata": {},
   "outputs": [],
   "source": [
    "import re\n",
    "import os\n",
    "import unicodedata\n",
    "import pandas as pd\n",
    "import numpy as np\n",
    "import requests\n",
    "import bs4 as bs\n",
    "\n",
    "from lxml import html\n",
    "from tqdm import tqdm\n",
    "from bs4 import BeautifulSoup\n",
    "from time import gmtime, strftime\n",
    "from datetime import datetime, timedelta"
   ]
  },
  {
   "cell_type": "markdown",
   "metadata": {},
   "source": [
    "### 1. Get CIK and DJIA Data"
   ]
  },
  {
   "cell_type": "code",
   "execution_count": 2,
   "metadata": {},
   "outputs": [],
   "source": [
    "cik_df = pd.read_csv(\"cik_mapper.csv\")"
   ]
  },
  {
   "cell_type": "code",
   "execution_count": 3,
   "metadata": {},
   "outputs": [],
   "source": [
    "cik_df.drop(\"Unnamed: 0\", axis=1, inplace=True)"
   ]
  },
  {
   "cell_type": "code",
   "execution_count": 4,
   "metadata": {
    "scrolled": true
   },
   "outputs": [
    {
     "data": {
      "text/html": [
       "<div>\n",
       "<style scoped>\n",
       "    .dataframe tbody tr th:only-of-type {\n",
       "        vertical-align: middle;\n",
       "    }\n",
       "\n",
       "    .dataframe tbody tr th {\n",
       "        vertical-align: top;\n",
       "    }\n",
       "\n",
       "    .dataframe thead th {\n",
       "        text-align: right;\n",
       "    }\n",
       "</style>\n",
       "<table border=\"1\" class=\"dataframe\">\n",
       "  <thead>\n",
       "    <tr style=\"text-align: right;\">\n",
       "      <th></th>\n",
       "      <th>Symbol</th>\n",
       "      <th>Security</th>\n",
       "      <th>SEC filings</th>\n",
       "      <th>GICS Sector</th>\n",
       "      <th>GICS Sub Industry</th>\n",
       "      <th>Headquarters Location</th>\n",
       "      <th>Date first added</th>\n",
       "      <th>CIK</th>\n",
       "      <th>Founded</th>\n",
       "    </tr>\n",
       "  </thead>\n",
       "  <tbody>\n",
       "    <tr>\n",
       "      <th>0</th>\n",
       "      <td>MMM</td>\n",
       "      <td>3M Company</td>\n",
       "      <td>reports</td>\n",
       "      <td>Industrials</td>\n",
       "      <td>Industrials</td>\n",
       "      <td>St. Paul, Minnesota</td>\n",
       "      <td>NaN</td>\n",
       "      <td>66740</td>\n",
       "      <td>1902.0</td>\n",
       "    </tr>\n",
       "    <tr>\n",
       "      <th>1</th>\n",
       "      <td>AXP</td>\n",
       "      <td>American Express Co</td>\n",
       "      <td>reports</td>\n",
       "      <td>Financials</td>\n",
       "      <td>Financials</td>\n",
       "      <td>New York, New York</td>\n",
       "      <td>1976-06-30</td>\n",
       "      <td>4962</td>\n",
       "      <td>1850.0</td>\n",
       "    </tr>\n",
       "    <tr>\n",
       "      <th>2</th>\n",
       "      <td>AAPL</td>\n",
       "      <td>Apple Inc.</td>\n",
       "      <td>reports</td>\n",
       "      <td>Information Technology</td>\n",
       "      <td>Information Technology</td>\n",
       "      <td>Cupertino, California</td>\n",
       "      <td>1982-11-30</td>\n",
       "      <td>320193</td>\n",
       "      <td>1977.0</td>\n",
       "    </tr>\n",
       "    <tr>\n",
       "      <th>3</th>\n",
       "      <td>BA</td>\n",
       "      <td>Boeing Company</td>\n",
       "      <td>reports</td>\n",
       "      <td>Industrials</td>\n",
       "      <td>Industrials</td>\n",
       "      <td>Chicago, Illinois</td>\n",
       "      <td>NaN</td>\n",
       "      <td>12927</td>\n",
       "      <td>1916.0</td>\n",
       "    </tr>\n",
       "    <tr>\n",
       "      <th>4</th>\n",
       "      <td>CAT</td>\n",
       "      <td>Caterpillar Inc.</td>\n",
       "      <td>reports</td>\n",
       "      <td>Industrials</td>\n",
       "      <td>Industrials</td>\n",
       "      <td>Deerfield, Illinois</td>\n",
       "      <td>NaN</td>\n",
       "      <td>18230</td>\n",
       "      <td>1925.0</td>\n",
       "    </tr>\n",
       "  </tbody>\n",
       "</table>\n",
       "</div>"
      ],
      "text/plain": [
       "  Symbol             Security SEC filings             GICS Sector  \\\n",
       "0    MMM           3M Company     reports             Industrials   \n",
       "1    AXP  American Express Co     reports              Financials   \n",
       "2   AAPL           Apple Inc.     reports  Information Technology   \n",
       "3     BA       Boeing Company     reports             Industrials   \n",
       "4    CAT     Caterpillar Inc.     reports             Industrials   \n",
       "\n",
       "        GICS Sub Industry  Headquarters Location Date first added     CIK  \\\n",
       "0             Industrials    St. Paul, Minnesota              NaN   66740   \n",
       "1              Financials     New York, New York       1976-06-30    4962   \n",
       "2  Information Technology  Cupertino, California       1982-11-30  320193   \n",
       "3             Industrials      Chicago, Illinois              NaN   12927   \n",
       "4             Industrials    Deerfield, Illinois              NaN   18230   \n",
       "\n",
       "   Founded  \n",
       "0   1902.0  \n",
       "1   1850.0  \n",
       "2   1977.0  \n",
       "3   1916.0  \n",
       "4   1925.0  "
      ]
     },
     "execution_count": 4,
     "metadata": {},
     "output_type": "execute_result"
    }
   ],
   "source": [
    "cik_df.head()"
   ]
  },
  {
   "cell_type": "markdown",
   "metadata": {},
   "source": [
    "### 2. Data Scraping"
   ]
  },
  {
   "cell_type": "markdown",
   "metadata": {},
   "source": [
    "The SEC limits users to 10 requests per second, so we need to make sure we are not making requests too quickly."
   ]
  },
  {
   "cell_type": "code",
   "execution_count": 5,
   "metadata": {},
   "outputs": [],
   "source": [
    "def WriteLogFile(log_file_name, text):\n",
    "    \n",
    "    '''\n",
    "    Helper function.\n",
    "    Writes a log file with all notes and\n",
    "    error messages from a scraping \"session\".\n",
    "    \n",
    "    Args\n",
    "        log_file_name : str\n",
    "            Name of the log file (should be a .txt file).\n",
    "        text : str\n",
    "            Text to write to the log file.\n",
    "        \n",
    "    Returns\n",
    "    None.\n",
    "    \n",
    "    '''\n",
    "    \n",
    "    with open(log_file_name, \"a\") as log_file:\n",
    "        log_file.write(text)\n",
    "\n",
    "    return"
   ]
  },
  {
   "cell_type": "code",
   "execution_count": 6,
   "metadata": {},
   "outputs": [],
   "source": [
    "pathname_8k = '../../Raw Data/8K SEC'\n",
    "pathname_8k_doc_table = '../../Raw Data/8K SEC Types'"
   ]
  },
  {
   "cell_type": "code",
   "execution_count": 7,
   "metadata": {},
   "outputs": [],
   "source": [
    "def Scrape8K(browse_url_base, filing_url_base, doc_url_base, cik, log_file_name, start_year=2010):\n",
    "    \n",
    "    '''\n",
    "    Scrapes all 8-Ks for a particular CIK from EDGAR.\n",
    "    \n",
    "    Args\n",
    "        browse_url_base : str\n",
    "            Base URL for browsing EDGAR.\n",
    "        filing_url_base : str\n",
    "            Base URL for filings listings on EDGAR.\n",
    "        doc_url_base : str\n",
    "            Base URL for one filing's document tables\n",
    "            page on EDGAR.\n",
    "        cik : str\n",
    "            Central Index Key.\n",
    "        log_file_name : str\n",
    "            Name of the log file (should be a .txt file).\n",
    "        start_year : int\n",
    "            The beginning year in which scraping will start from\n",
    "        \n",
    "    Returns\n",
    "    None.\n",
    "    \n",
    "    '''\n",
    "    \n",
    "    # Check if we've already scraped this CIK\n",
    "    try:\n",
    "        os.mkdir(cik)\n",
    "    except OSError:\n",
    "        print(\"Already scraped CIK\", cik)\n",
    "        return\n",
    "    \n",
    "    # If we haven't, go into the directory for that CIK\n",
    "    os.chdir(cik)\n",
    "    \n",
    "    print('Scraping CIK', cik)\n",
    "    \n",
    "    page = 0\n",
    "    final_df = pd.DataFrame()\n",
    "    url = browse_url_base % cik\n",
    "    while True:\n",
    "        print('---', page, '---')\n",
    "        \n",
    "        # Request list of 8-K filings\n",
    "        res = requests.get(url)\n",
    "        \n",
    "        # If the request failed, log the failure and exit\n",
    "        if res.status_code != 200:\n",
    "            os.chdir('..')\n",
    "            os.rmdir(cik) # remove empty dir\n",
    "            text = \"Request failed with error code \" + str(res.status_code) + \\\n",
    "                   \"\\nFailed URL: \" + (browse_url_base % cik) + '\\n'\n",
    "            WriteLogFile(log_file_name, text)\n",
    "            return\n",
    "        # If the request doesn't fail, continue...\n",
    "        \n",
    "        # Parse the response HTML using BeautifulSoup\n",
    "        soup = bs.BeautifulSoup(res.text, 'lxml')\n",
    "        \n",
    "        # Extract all tables from the response\n",
    "        html_tables = soup.find_all('table')\n",
    "        \n",
    "        # Check that the table we're looking for exists\n",
    "        # If it doesn't, exit\n",
    "        if len(html_tables)<3:\n",
    "            print(\"table too short\")\n",
    "            os.chdir('..')\n",
    "            return\n",
    "\n",
    "        # Parse the Filings table\n",
    "        filings_table = pd.read_html(str(html_tables[2]), header=0)[0]\n",
    "        filings_table['Filings'] = [str(x) for x in filings_table['Filings']]\n",
    "        final_df = final_df.append(filings_table)\n",
    "        final_df = final_df.reset_index().drop([\"index\"], axis=1)\n",
    "        final_df[\"Filing Date\"] = pd.to_datetime(final_df[\"Filing Date\"])\n",
    "        final_df[\"year\"] = final_df[\"Filing Date\"].dt.year\n",
    "        \n",
    "        if final_df.iloc[-1][\"year\"] < start_year:\n",
    "            final_df = final_df[final_df[\"year\"] >= start_year]\n",
    "            final_df = final_df.drop([\"year\"], axis=1)\n",
    "            break\n",
    "            \n",
    "        if len(soup.find_all(\"td\")[-1].find_all(\"input\")) == 0:\n",
    "            break\n",
    "        \n",
    "        next_page = soup.find_all(\"td\")[-1].find_all(\"input\")[-1].get(\"onclick\")\n",
    "        flag = soup.find_all(\"td\")[-1].find_all(\"input\")[-1].get(\"value\").split()[0]\n",
    "\n",
    "        if next_page:\n",
    "            if flag == 'Next':\n",
    "                next_page = next_page.split(\"parent.location=\")[1].replace('\"','').replace(\"'\", '')\n",
    "                url = \"https://www.sec.gov\" + next_page\n",
    "                page += 1\n",
    "                print(url)\n",
    "            else:\n",
    "                break\n",
    "        else:\n",
    "            break\n",
    "    \n",
    "    filings_table = final_df\n",
    "    filings_table[\"Filing Date\"] = filings_table[\"Filing Date\"].dt.date.map(lambda x:str(x))        \n",
    "    \n",
    "    # Get only 8-K document filings\n",
    "    filings_table = filings_table[filings_table['Filings'] == '8-K']\n",
    "\n",
    "    # If filings table doesn't have any\n",
    "    # 8-Ks, exit\n",
    "    if len(filings_table)==0:\n",
    "        os.chdir('..')\n",
    "        return\n",
    "    \n",
    "    # Get accession number for each 10-K and 10-K405 filing\n",
    "    filings_table['Acc_No'] = [x.replace('\\xa0',' ')\n",
    "                               .split('Acc-no: ')[1]\n",
    "                               .split(' ')[0] for x in filings_table['Description']]\n",
    "    \n",
    "    # Check if there are more than one doc submissions on a single date\n",
    "    filings_table[\"dup_number\"] = filings_table.groupby([\"Filing Date\"]).cumcount()+1\n",
    "    \n",
    "    # Iterate through each filing and \n",
    "    # scrape the corresponding document...\n",
    "    for index, row in filings_table.iterrows():\n",
    "        \n",
    "        # Get the accession number for the filing\n",
    "        acc_no = str(row['Acc_No'])\n",
    "        \n",
    "        # Navigate to the page for the filing\n",
    "        docs_page = requests.get(filing_url_base % (cik, acc_no))\n",
    "        \n",
    "        # If request fails, log the failure\n",
    "        # and skip to the next filing    \n",
    "        if docs_page.status_code != 200:\n",
    "            os.chdir('..')\n",
    "            text = \"Request failed with error code \" + str(docs_page.status_code) + \\\n",
    "                   \"\\nFailed URL: \" + (filing_url_base % (cik, acc_no)) + '\\n'\n",
    "            WriteLogFile(log_file_name, text)\n",
    "            os.chdir(cik)\n",
    "            continue\n",
    "            \n",
    "        # If request succeeds, keep going...\n",
    "        \n",
    "        # Parse the table of documents for the filing\n",
    "        docs_page_soup = bs.BeautifulSoup(docs_page.text, 'lxml')\n",
    "        docs_html_tables = docs_page_soup.find_all('table')\n",
    "        if len(docs_html_tables)==0:\n",
    "            continue\n",
    "        docs_table = pd.read_html(str(docs_html_tables[0]), header=0)[0]\n",
    "        docs_table['Type'] = [str(x) for x in docs_table['Type']]\n",
    "        \n",
    "        # Get the Complete Submssion entries for the filing\n",
    "        docs_table = docs_table[docs_table[\"Description\"] == \"Complete submission text file\"]\n",
    "        \n",
    "        # If there aren't any 8-K entries,\n",
    "        # skip to the next filing\n",
    "        if len(docs_table)==0:\n",
    "            continue\n",
    "        # If there are 8-K entries,\n",
    "        # grab the first document\n",
    "        elif len(docs_table)>0:\n",
    "            docs_table = docs_table.iloc[0]\n",
    "        \n",
    "        docname = docs_table['Document']\n",
    "        docname = docname.split()[0]\n",
    "        \n",
    "        # If that first entry is unavailable,\n",
    "        # log the failure and exit\n",
    "        if str(docname) == 'nan':\n",
    "            os.chdir('..')\n",
    "            text = 'File with CIK: %s and Acc_No: %s is unavailable' % (cik, acc_no) + '\\n'\n",
    "            WriteLogFile(log_file_name, text)\n",
    "            os.chdir(cik)\n",
    "            continue       \n",
    "        \n",
    "        # If it is available, continue...\n",
    "        \n",
    "        # Request the file\n",
    "        file = requests.get(doc_url_base % (cik, acc_no.replace('-', ''), docname))\n",
    "        \n",
    "        # If the request fails, log the failure and exit\n",
    "        if file.status_code != 200:\n",
    "            os.chdir('..')\n",
    "            text = \"Request failed with error code \" + str(file.status_code) + \\\n",
    "                   \"\\nFailed URL: \" + (doc_url_base % (cik, acc_no.replace('-', ''), docname)) + '\\n'\n",
    "            WriteLogFile(log_file_name, text)\n",
    "            os.chdir(cik)\n",
    "            continue\n",
    "            \n",
    "        # If it succeeds, keep going...\n",
    "        \n",
    "        # Save the file in appropriate format\n",
    "        if '.txt' in docname:\n",
    "            # Save text as TXT\n",
    "            date = str(row['Filing Date'])\n",
    "            version_num = row[\"dup_number\"]\n",
    "            if version_num > 1:\n",
    "                date = date + \"_part_\" + str(version_num)\n",
    "            \n",
    "            filename = cik + '_' + date + '.txt'\n",
    "            html_file = open(filename, 'a')\n",
    "            html_file.write(file.text)\n",
    "            html_file.close()\n",
    "        else:\n",
    "            # Save text as HTML\n",
    "            date = str(row['Filing Date'])\n",
    "            version_num = row[\"dup_number\"]\n",
    "            if version_num > 1:\n",
    "                date = date + \"_part_\" + str(version_num)\n",
    "                \n",
    "            filename = cik + '_' + date + '.html'\n",
    "            html_file = open(filename, 'a')\n",
    "            html_file.write(file.text)\n",
    "            html_file.close()\n",
    "        \n",
    "    # Move back to the main 8-K directory\n",
    "    os.chdir('..')\n",
    "        \n",
    "    return"
   ]
  },
  {
   "cell_type": "code",
   "execution_count": 8,
   "metadata": {},
   "outputs": [],
   "source": [
    "def Scrape8K_doc_table(browse_url_base, filing_url_base, doc_url_base, cik, log_file_name, start_year=2010):\n",
    "    \n",
    "    '''\n",
    "    Scrapes all 8-K Document Tables for a particular CIK from EDGAR.\n",
    "    \n",
    "    Args\n",
    "        browse_url_base : str\n",
    "            Base URL for browsing EDGAR.\n",
    "        filing_url_base : str\n",
    "            Base URL for filings listings on EDGAR.\n",
    "        doc_url_base : str\n",
    "            Base URL for one filing's document tables\n",
    "            page on EDGAR.\n",
    "        cik : str\n",
    "            Central Index Key.\n",
    "        log_file_name : str\n",
    "            Name of the log file (should be a .txt file).\n",
    "        start_year : int\n",
    "            The beginning year in which scraping will start from\n",
    "        \n",
    "    Returns\n",
    "    None.\n",
    "    \n",
    "    '''\n",
    "    \n",
    "    # Check if we've already scraped this CIK\n",
    "    try:\n",
    "        os.mkdir(cik)\n",
    "    except OSError:\n",
    "        print(\"Already scraped CIK\", cik)\n",
    "        return\n",
    "    \n",
    "    # If we haven't, go into the directory for that CIK\n",
    "    os.chdir(cik)\n",
    "    \n",
    "    print('Scraping CIK', cik)\n",
    "    \n",
    "    page = 0\n",
    "    final_df = pd.DataFrame()\n",
    "    url = browse_url_base % cik\n",
    "    while True:\n",
    "        print('---', page, '---')\n",
    "        \n",
    "        # Request list of 8-K filings\n",
    "        res = requests.get(url)\n",
    "        \n",
    "        # If the request failed, log the failure and exit\n",
    "        if res.status_code != 200:\n",
    "            os.chdir('..')\n",
    "            os.rmdir(cik) # remove empty dir\n",
    "            text = \"Request failed with error code \" + str(res.status_code) + \\\n",
    "                   \"\\nFailed URL: \" + (browse_url_base % cik) + '\\n'\n",
    "            WriteLogFile(log_file_name, text)\n",
    "            return\n",
    "        # If the request doesn't fail, continue...\n",
    "        \n",
    "        # Parse the response HTML using BeautifulSoup\n",
    "        soup = bs.BeautifulSoup(res.text, 'lxml')\n",
    "        \n",
    "        # Extract all tables from the response\n",
    "        html_tables = soup.find_all('table')\n",
    "        \n",
    "        # Check that the table we're looking for exists\n",
    "        # If it doesn't, exit\n",
    "        if len(html_tables)<3:\n",
    "            print(\"table too short\")\n",
    "            os.chdir('..')\n",
    "            return\n",
    "\n",
    "        # Parse the Filings table\n",
    "        filings_table = pd.read_html(str(html_tables[2]), header=0)[0]\n",
    "        filings_table['Filings'] = [str(x) for x in filings_table['Filings']]\n",
    "        final_df = final_df.append(filings_table)\n",
    "        final_df = final_df.reset_index().drop([\"index\"], axis=1)\n",
    "        final_df[\"Filing Date\"] = pd.to_datetime(final_df[\"Filing Date\"])\n",
    "        final_df[\"year\"] = final_df[\"Filing Date\"].dt.year\n",
    "        \n",
    "        if final_df.iloc[-1][\"year\"] < start_year:\n",
    "            final_df = final_df[final_df[\"year\"] >= start_year]\n",
    "            final_df = final_df.drop([\"year\"], axis=1)\n",
    "            break\n",
    "            \n",
    "        if len(soup.find_all(\"td\")[-1].find_all(\"input\")) == 0:\n",
    "            break\n",
    "        \n",
    "        next_page = soup.find_all(\"td\")[-1].find_all(\"input\")[-1].get(\"onclick\")\n",
    "        flag = soup.find_all(\"td\")[-1].find_all(\"input\")[-1].get(\"value\").split()[0]\n",
    "\n",
    "        if next_page:\n",
    "            if flag == 'Next':\n",
    "                next_page = next_page.split(\"parent.location=\")[1].replace('\"','').replace(\"'\", '')\n",
    "                url = \"https://www.sec.gov\" + next_page\n",
    "                page += 1\n",
    "                print(url)\n",
    "            else:\n",
    "                break\n",
    "        else:\n",
    "            break\n",
    "    \n",
    "    filings_table = final_df\n",
    "    filings_table[\"Filing Date\"] = filings_table[\"Filing Date\"].dt.date.map(lambda x:str(x))        \n",
    "    \n",
    "    # Get only 8-K document filings\n",
    "    filings_table = filings_table[filings_table['Filings'] == '8-K']\n",
    "\n",
    "    # If filings table doesn't have any\n",
    "    # 8-Ks, exit\n",
    "    if len(filings_table)==0:\n",
    "        os.chdir('..')\n",
    "        return\n",
    "    \n",
    "    # Get accession number for each 10-K and 10-K405 filing\n",
    "    filings_table['Acc_No'] = [x.replace('\\xa0',' ')\n",
    "                               .split('Acc-no: ')[1]\n",
    "                               .split(' ')[0] for x in filings_table['Description']]\n",
    "    \n",
    "    # Check if there are more than one doc submissions on a single date\n",
    "    filings_table[\"dup_number\"] = filings_table.groupby([\"Filing Date\"]).cumcount()+1\n",
    "    \n",
    "    # Iterate through each filing and \n",
    "    # scrape the corresponding document...\n",
    "    for index, row in filings_table.iterrows():\n",
    "        \n",
    "        # Get the accession number for the filing\n",
    "        acc_no = str(row['Acc_No'])\n",
    "        \n",
    "        # Navigate to the page for the filing\n",
    "        docs_page = requests.get(filing_url_base % (cik, acc_no))\n",
    "        \n",
    "        # If request fails, log the failure\n",
    "        # and skip to the next filing    \n",
    "        if docs_page.status_code != 200:\n",
    "            os.chdir('..')\n",
    "            text = \"Request failed with error code \" + str(docs_page.status_code) + \\\n",
    "                   \"\\nFailed URL: \" + (filing_url_base % (cik, acc_no)) + '\\n'\n",
    "            WriteLogFile(log_file_name, text)\n",
    "            os.chdir(cik)\n",
    "            continue\n",
    "            \n",
    "        # If request succeeds, keep going...\n",
    "        \n",
    "        # Parse the table of documents for the filing\n",
    "        docs_page_soup = bs.BeautifulSoup(docs_page.text, 'lxml')\n",
    "        docs_html_tables = docs_page_soup.find_all('table')\n",
    "        if len(docs_html_tables)==0:\n",
    "            continue\n",
    "        docs_table = pd.read_html(str(docs_html_tables[0]), header=0)[0]\n",
    "        docs_table['Type'] = [str(x) for x in docs_table['Type']]\n",
    "        \n",
    "        date = str(row[\"Filing Date\"])\n",
    "        version_num = row[\"dup_number\"]\n",
    "        if version_num > 1:\n",
    "            date = date + \"_part_\" + str(version_num)\n",
    "        filename = cik + \"_\" + date + '.csv'\n",
    "        docs_table.to_csv(filename)\n",
    "        \n",
    "    # Move back to the main 8-K directory\n",
    "    os.chdir('..')\n",
    "        \n",
    "    return"
   ]
  },
  {
   "cell_type": "code",
   "execution_count": 9,
   "metadata": {},
   "outputs": [],
   "source": [
    "cik_df.CIK = cik_df.CIK.map(lambda x:str(x))"
   ]
  },
  {
   "cell_type": "code",
   "execution_count": 10,
   "metadata": {
    "scrolled": true
   },
   "outputs": [
    {
     "name": "stderr",
     "output_type": "stream",
     "text": [
      "\r",
      "  0%|          | 0/30 [00:00<?, ?it/s]"
     ]
    },
    {
     "name": "stdout",
     "output_type": "stream",
     "text": [
      "Scraping CIK 66740\n",
      "--- 0 ---\n",
      "https://www.sec.gov/cgi-bin/browse-edgar?action=getcompany&CIK=0000066740&type=8-K%25&dateb=&owner=include&start=40&count=40\n",
      "--- 1 ---\n"
     ]
    },
    {
     "name": "stderr",
     "output_type": "stream",
     "text": [
      "/Users/zhengjiesung/anaconda3/lib/python3.6/site-packages/pandas/core/frame.py:7138: FutureWarning: Sorting because non-concatenation axis is not aligned. A future version\n",
      "of pandas will change to not sort by default.\n",
      "\n",
      "To accept the future behavior, pass 'sort=False'.\n",
      "\n",
      "To retain the current behavior and silence the warning, pass 'sort=True'.\n",
      "\n",
      "  sort=sort,\n"
     ]
    },
    {
     "name": "stdout",
     "output_type": "stream",
     "text": [
      "https://www.sec.gov/cgi-bin/browse-edgar?action=getcompany&CIK=0000066740&type=8-K%25&dateb=&owner=include&start=80&count=40\n",
      "--- 2 ---\n",
      "https://www.sec.gov/cgi-bin/browse-edgar?action=getcompany&CIK=0000066740&type=8-K%25&dateb=&owner=include&start=120&count=40\n",
      "--- 3 ---\n",
      "https://www.sec.gov/cgi-bin/browse-edgar?action=getcompany&CIK=0000066740&type=8-K%25&dateb=&owner=include&start=160&count=40\n",
      "--- 4 ---\n"
     ]
    },
    {
     "name": "stderr",
     "output_type": "stream",
     "text": [
      "/Users/zhengjiesung/anaconda3/lib/python3.6/site-packages/ipykernel_launcher.py:115: SettingWithCopyWarning: \n",
      "A value is trying to be set on a copy of a slice from a DataFrame.\n",
      "Try using .loc[row_indexer,col_indexer] = value instead\n",
      "\n",
      "See the caveats in the documentation: http://pandas.pydata.org/pandas-docs/stable/user_guide/indexing.html#returning-a-view-versus-a-copy\n",
      "/Users/zhengjiesung/anaconda3/lib/python3.6/site-packages/ipykernel_launcher.py:118: SettingWithCopyWarning: \n",
      "A value is trying to be set on a copy of a slice from a DataFrame.\n",
      "Try using .loc[row_indexer,col_indexer] = value instead\n",
      "\n",
      "See the caveats in the documentation: http://pandas.pydata.org/pandas-docs/stable/user_guide/indexing.html#returning-a-view-versus-a-copy\n",
      "  3%|▎         | 1/30 [03:36<1:44:48, 216.85s/it]"
     ]
    },
    {
     "name": "stdout",
     "output_type": "stream",
     "text": [
      "Scraping CIK 4962\n",
      "--- 0 ---\n",
      "https://www.sec.gov/cgi-bin/browse-edgar?action=getcompany&CIK=0000004962&type=8-K%25&dateb=&owner=include&start=40&count=40\n",
      "--- 1 ---\n",
      "https://www.sec.gov/cgi-bin/browse-edgar?action=getcompany&CIK=0000004962&type=8-K%25&dateb=&owner=include&start=80&count=40\n",
      "--- 2 ---\n",
      "https://www.sec.gov/cgi-bin/browse-edgar?action=getcompany&CIK=0000004962&type=8-K%25&dateb=&owner=include&start=120&count=40\n",
      "--- 3 ---\n",
      "https://www.sec.gov/cgi-bin/browse-edgar?action=getcompany&CIK=0000004962&type=8-K%25&dateb=&owner=include&start=160&count=40\n",
      "--- 4 ---\n",
      "https://www.sec.gov/cgi-bin/browse-edgar?action=getcompany&CIK=0000004962&type=8-K%25&dateb=&owner=include&start=200&count=40\n",
      "--- 5 ---\n",
      "https://www.sec.gov/cgi-bin/browse-edgar?action=getcompany&CIK=0000004962&type=8-K%25&dateb=&owner=include&start=240&count=40\n",
      "--- 6 ---\n"
     ]
    },
    {
     "name": "stderr",
     "output_type": "stream",
     "text": [
      "\r",
      "  7%|▋         | 2/30 [09:30<2:00:19, 257.82s/it]"
     ]
    },
    {
     "name": "stdout",
     "output_type": "stream",
     "text": [
      "Scraping CIK 320193\n",
      "--- 0 ---\n",
      "https://www.sec.gov/cgi-bin/browse-edgar?action=getcompany&CIK=0000320193&type=8-K%25&dateb=&owner=include&start=40&count=40\n",
      "--- 1 ---\n",
      "https://www.sec.gov/cgi-bin/browse-edgar?action=getcompany&CIK=0000320193&type=8-K%25&dateb=&owner=include&start=80&count=40\n",
      "--- 2 ---\n"
     ]
    },
    {
     "name": "stderr",
     "output_type": "stream",
     "text": [
      "\r",
      " 10%|█         | 3/30 [11:39<1:38:38, 219.19s/it]"
     ]
    },
    {
     "name": "stdout",
     "output_type": "stream",
     "text": [
      "Scraping CIK 12927\n",
      "--- 0 ---\n",
      "https://www.sec.gov/cgi-bin/browse-edgar?action=getcompany&CIK=0000012927&type=8-K%25&dateb=&owner=include&start=40&count=40\n",
      "--- 1 ---\n",
      "https://www.sec.gov/cgi-bin/browse-edgar?action=getcompany&CIK=0000012927&type=8-K%25&dateb=&owner=include&start=80&count=40\n",
      "--- 2 ---\n",
      "https://www.sec.gov/cgi-bin/browse-edgar?action=getcompany&CIK=0000012927&type=8-K%25&dateb=&owner=include&start=120&count=40\n",
      "--- 3 ---\n"
     ]
    },
    {
     "name": "stderr",
     "output_type": "stream",
     "text": [
      "\r",
      " 13%|█▎        | 4/30 [14:40<1:29:58, 207.65s/it]"
     ]
    },
    {
     "name": "stdout",
     "output_type": "stream",
     "text": [
      "Scraping CIK 18230\n",
      "--- 0 ---\n",
      "https://www.sec.gov/cgi-bin/browse-edgar?action=getcompany&CIK=0000018230&type=8-K%25&dateb=&owner=include&start=40&count=40\n",
      "--- 1 ---\n",
      "https://www.sec.gov/cgi-bin/browse-edgar?action=getcompany&CIK=0000018230&type=8-K%25&dateb=&owner=include&start=80&count=40\n",
      "--- 2 ---\n",
      "https://www.sec.gov/cgi-bin/browse-edgar?action=getcompany&CIK=0000018230&type=8-K%25&dateb=&owner=include&start=120&count=40\n",
      "--- 3 ---\n",
      "https://www.sec.gov/cgi-bin/browse-edgar?action=getcompany&CIK=0000018230&type=8-K%25&dateb=&owner=include&start=160&count=40\n",
      "--- 4 ---\n",
      "https://www.sec.gov/cgi-bin/browse-edgar?action=getcompany&CIK=0000018230&type=8-K%25&dateb=&owner=include&start=200&count=40\n",
      "--- 5 ---\n",
      "https://www.sec.gov/cgi-bin/browse-edgar?action=getcompany&CIK=0000018230&type=8-K%25&dateb=&owner=include&start=240&count=40\n",
      "--- 6 ---\n",
      "https://www.sec.gov/cgi-bin/browse-edgar?action=getcompany&CIK=0000018230&type=8-K%25&dateb=&owner=include&start=280&count=40\n",
      "--- 7 ---\n"
     ]
    },
    {
     "name": "stderr",
     "output_type": "stream",
     "text": [
      "\r",
      " 17%|█▋        | 5/30 [21:12<1:49:34, 262.97s/it]"
     ]
    },
    {
     "name": "stdout",
     "output_type": "stream",
     "text": [
      "Scraping CIK 93410\n",
      "--- 0 ---\n",
      "https://www.sec.gov/cgi-bin/browse-edgar?action=getcompany&CIK=0000093410&type=8-K%25&dateb=&owner=include&start=40&count=40\n",
      "--- 1 ---\n",
      "https://www.sec.gov/cgi-bin/browse-edgar?action=getcompany&CIK=0000093410&type=8-K%25&dateb=&owner=include&start=80&count=40\n",
      "--- 2 ---\n",
      "https://www.sec.gov/cgi-bin/browse-edgar?action=getcompany&CIK=0000093410&type=8-K%25&dateb=&owner=include&start=120&count=40\n",
      "--- 3 ---\n"
     ]
    },
    {
     "name": "stderr",
     "output_type": "stream",
     "text": [
      "\r",
      " 20%|██        | 6/30 [23:53<1:32:56, 232.36s/it]"
     ]
    },
    {
     "name": "stdout",
     "output_type": "stream",
     "text": [
      "Scraping CIK 858877\n",
      "--- 0 ---\n",
      "https://www.sec.gov/cgi-bin/browse-edgar?action=getcompany&CIK=0000858877&type=8-K%25&dateb=&owner=include&start=40&count=40\n",
      "--- 1 ---\n",
      "https://www.sec.gov/cgi-bin/browse-edgar?action=getcompany&CIK=0000858877&type=8-K%25&dateb=&owner=include&start=80&count=40\n",
      "--- 2 ---\n",
      "https://www.sec.gov/cgi-bin/browse-edgar?action=getcompany&CIK=0000858877&type=8-K%25&dateb=&owner=include&start=120&count=40\n",
      "--- 3 ---\n",
      "https://www.sec.gov/cgi-bin/browse-edgar?action=getcompany&CIK=0000858877&type=8-K%25&dateb=&owner=include&start=160&count=40\n",
      "--- 4 ---\n"
     ]
    },
    {
     "name": "stderr",
     "output_type": "stream",
     "text": [
      "\r",
      " 23%|██▎       | 7/30 [27:11<1:25:07, 222.09s/it]"
     ]
    },
    {
     "name": "stdout",
     "output_type": "stream",
     "text": [
      "Scraping CIK 21344\n",
      "--- 0 ---\n",
      "https://www.sec.gov/cgi-bin/browse-edgar?action=getcompany&CIK=0000021344&type=8-K%25&dateb=&owner=include&start=40&count=40\n",
      "--- 1 ---\n",
      "https://www.sec.gov/cgi-bin/browse-edgar?action=getcompany&CIK=0000021344&type=8-K%25&dateb=&owner=include&start=80&count=40\n",
      "--- 2 ---\n",
      "https://www.sec.gov/cgi-bin/browse-edgar?action=getcompany&CIK=0000021344&type=8-K%25&dateb=&owner=include&start=120&count=40\n",
      "--- 3 ---\n"
     ]
    },
    {
     "name": "stderr",
     "output_type": "stream",
     "text": [
      "\r",
      " 27%|██▋       | 8/30 [30:29<1:18:47, 214.88s/it]"
     ]
    },
    {
     "name": "stdout",
     "output_type": "stream",
     "text": [
      "Scraping CIK 1751788\n",
      "--- 0 ---\n"
     ]
    },
    {
     "name": "stderr",
     "output_type": "stream",
     "text": [
      "\r",
      " 30%|███       | 9/30 [31:06<56:31, 161.51s/it]  "
     ]
    },
    {
     "name": "stdout",
     "output_type": "stream",
     "text": [
      "Scraping CIK 34088\n",
      "--- 0 ---\n",
      "https://www.sec.gov/cgi-bin/browse-edgar?action=getcompany&CIK=0000034088&type=8-K%25&dateb=&owner=include&start=40&count=40\n",
      "--- 1 ---\n",
      "https://www.sec.gov/cgi-bin/browse-edgar?action=getcompany&CIK=0000034088&type=8-K%25&dateb=&owner=include&start=80&count=40\n",
      "--- 2 ---\n"
     ]
    },
    {
     "name": "stderr",
     "output_type": "stream",
     "text": [
      "\r",
      " 33%|███▎      | 10/30 [35:22<1:03:17, 189.89s/it]"
     ]
    },
    {
     "name": "stdout",
     "output_type": "stream",
     "text": [
      "Scraping CIK 886982\n",
      "--- 0 ---\n",
      "https://www.sec.gov/cgi-bin/browse-edgar?action=getcompany&CIK=0000886982&type=8-K%25&dateb=&owner=include&start=40&count=40\n",
      "--- 1 ---\n",
      "https://www.sec.gov/cgi-bin/browse-edgar?action=getcompany&CIK=0000886982&type=8-K%25&dateb=&owner=include&start=80&count=40\n",
      "--- 2 ---\n",
      "https://www.sec.gov/cgi-bin/browse-edgar?action=getcompany&CIK=0000886982&type=8-K%25&dateb=&owner=include&start=120&count=40\n",
      "--- 3 ---\n",
      "https://www.sec.gov/cgi-bin/browse-edgar?action=getcompany&CIK=0000886982&type=8-K%25&dateb=&owner=include&start=160&count=40\n",
      "--- 4 ---\n",
      "https://www.sec.gov/cgi-bin/browse-edgar?action=getcompany&CIK=0000886982&type=8-K%25&dateb=&owner=include&start=200&count=40\n",
      "--- 5 ---\n",
      "https://www.sec.gov/cgi-bin/browse-edgar?action=getcompany&CIK=0000886982&type=8-K%25&dateb=&owner=include&start=240&count=40\n",
      "--- 6 ---\n",
      "https://www.sec.gov/cgi-bin/browse-edgar?action=getcompany&CIK=0000886982&type=8-K%25&dateb=&owner=include&start=280&count=40\n",
      "--- 7 ---\n",
      "https://www.sec.gov/cgi-bin/browse-edgar?action=getcompany&CIK=0000886982&type=8-K%25&dateb=&owner=include&start=320&count=40\n",
      "--- 8 ---\n"
     ]
    },
    {
     "name": "stderr",
     "output_type": "stream",
     "text": [
      "\r",
      " 37%|███▋      | 11/30 [42:22<1:21:59, 258.91s/it]"
     ]
    },
    {
     "name": "stdout",
     "output_type": "stream",
     "text": [
      "Scraping CIK 354950\n",
      "--- 0 ---\n",
      "https://www.sec.gov/cgi-bin/browse-edgar?action=getcompany&CIK=0000354950&type=8-K%25&dateb=&owner=include&start=40&count=40\n",
      "--- 1 ---\n",
      "https://www.sec.gov/cgi-bin/browse-edgar?action=getcompany&CIK=0000354950&type=8-K%25&dateb=&owner=include&start=80&count=40\n",
      "--- 2 ---\n"
     ]
    },
    {
     "name": "stderr",
     "output_type": "stream",
     "text": [
      "\r",
      " 40%|████      | 12/30 [44:20<1:05:01, 216.76s/it]"
     ]
    },
    {
     "name": "stdout",
     "output_type": "stream",
     "text": [
      "Scraping CIK 50863\n",
      "--- 0 ---\n",
      "https://www.sec.gov/cgi-bin/browse-edgar?action=getcompany&CIK=0000050863&type=8-K%25&dateb=&owner=include&start=40&count=40\n",
      "--- 1 ---\n",
      "https://www.sec.gov/cgi-bin/browse-edgar?action=getcompany&CIK=0000050863&type=8-K%25&dateb=&owner=include&start=80&count=40\n",
      "--- 2 ---\n",
      "https://www.sec.gov/cgi-bin/browse-edgar?action=getcompany&CIK=0000050863&type=8-K%25&dateb=&owner=include&start=120&count=40\n",
      "--- 3 ---\n",
      "https://www.sec.gov/cgi-bin/browse-edgar?action=getcompany&CIK=0000050863&type=8-K%25&dateb=&owner=include&start=160&count=40\n",
      "--- 4 ---\n"
     ]
    },
    {
     "name": "stderr",
     "output_type": "stream",
     "text": [
      "\r",
      " 43%|████▎     | 13/30 [50:25<1:13:59, 261.16s/it]"
     ]
    },
    {
     "name": "stdout",
     "output_type": "stream",
     "text": [
      "Scraping CIK 51143\n",
      "--- 0 ---\n",
      "https://www.sec.gov/cgi-bin/browse-edgar?action=getcompany&CIK=0000051143&type=8-K%25&dateb=&owner=include&start=40&count=40\n",
      "--- 1 ---\n",
      "https://www.sec.gov/cgi-bin/browse-edgar?action=getcompany&CIK=0000051143&type=8-K%25&dateb=&owner=include&start=80&count=40\n",
      "--- 2 ---\n",
      "https://www.sec.gov/cgi-bin/browse-edgar?action=getcompany&CIK=0000051143&type=8-K%25&dateb=&owner=include&start=120&count=40\n",
      "--- 3 ---\n",
      "https://www.sec.gov/cgi-bin/browse-edgar?action=getcompany&CIK=0000051143&type=8-K%25&dateb=&owner=include&start=160&count=40\n",
      "--- 4 ---\n",
      "https://www.sec.gov/cgi-bin/browse-edgar?action=getcompany&CIK=0000051143&type=8-K%25&dateb=&owner=include&start=200&count=40\n",
      "--- 5 ---\n"
     ]
    },
    {
     "name": "stderr",
     "output_type": "stream",
     "text": [
      "\r",
      " 47%|████▋     | 14/30 [55:57<1:15:20, 282.52s/it]"
     ]
    },
    {
     "name": "stdout",
     "output_type": "stream",
     "text": [
      "Scraping CIK 200406\n",
      "--- 0 ---\n",
      "https://www.sec.gov/cgi-bin/browse-edgar?action=getcompany&CIK=0000200406&type=8-K%25&dateb=&owner=include&start=40&count=40\n",
      "--- 1 ---\n",
      "https://www.sec.gov/cgi-bin/browse-edgar?action=getcompany&CIK=0000200406&type=8-K%25&dateb=&owner=include&start=80&count=40\n",
      "--- 2 ---\n",
      "https://www.sec.gov/cgi-bin/browse-edgar?action=getcompany&CIK=0000200406&type=8-K%25&dateb=&owner=include&start=120&count=40\n",
      "--- 3 ---\n"
     ]
    },
    {
     "name": "stderr",
     "output_type": "stream",
     "text": [
      "\r",
      " 50%|█████     | 15/30 [58:42<1:01:47, 247.19s/it]"
     ]
    },
    {
     "name": "stdout",
     "output_type": "stream",
     "text": [
      "Scraping CIK 19617\n",
      "--- 0 ---\n",
      "https://www.sec.gov/cgi-bin/browse-edgar?action=getcompany&CIK=0000019617&type=8-K%25&dateb=&owner=include&start=40&count=40\n",
      "--- 1 ---\n",
      "https://www.sec.gov/cgi-bin/browse-edgar?action=getcompany&CIK=0000019617&type=8-K%25&dateb=&owner=include&start=80&count=40\n",
      "--- 2 ---\n",
      "https://www.sec.gov/cgi-bin/browse-edgar?action=getcompany&CIK=0000019617&type=8-K%25&dateb=&owner=include&start=120&count=40\n",
      "--- 3 ---\n",
      "https://www.sec.gov/cgi-bin/browse-edgar?action=getcompany&CIK=0000019617&type=8-K%25&dateb=&owner=include&start=160&count=40\n",
      "--- 4 ---\n",
      "https://www.sec.gov/cgi-bin/browse-edgar?action=getcompany&CIK=0000019617&type=8-K%25&dateb=&owner=include&start=200&count=40\n",
      "--- 5 ---\n",
      "https://www.sec.gov/cgi-bin/browse-edgar?action=getcompany&CIK=0000019617&type=8-K%25&dateb=&owner=include&start=240&count=40\n",
      "--- 6 ---\n",
      "https://www.sec.gov/cgi-bin/browse-edgar?action=getcompany&CIK=0000019617&type=8-K%25&dateb=&owner=include&start=280&count=40\n",
      "--- 7 ---\n",
      "https://www.sec.gov/cgi-bin/browse-edgar?action=getcompany&CIK=0000019617&type=8-K%25&dateb=&owner=include&start=320&count=40\n",
      "--- 8 ---\n",
      "https://www.sec.gov/cgi-bin/browse-edgar?action=getcompany&CIK=0000019617&type=8-K%25&dateb=&owner=include&start=360&count=40\n",
      "--- 9 ---\n"
     ]
    },
    {
     "name": "stderr",
     "output_type": "stream",
     "text": [
      "\r",
      " 53%|█████▎    | 16/30 [1:07:05<1:15:34, 323.88s/it]"
     ]
    },
    {
     "name": "stdout",
     "output_type": "stream",
     "text": [
      "Scraping CIK 63908\n",
      "--- 0 ---\n",
      "https://www.sec.gov/cgi-bin/browse-edgar?action=getcompany&CIK=0000063908&type=8-K%25&dateb=&owner=include&start=40&count=40\n",
      "--- 1 ---\n",
      "https://www.sec.gov/cgi-bin/browse-edgar?action=getcompany&CIK=0000063908&type=8-K%25&dateb=&owner=include&start=80&count=40\n",
      "--- 2 ---\n",
      "https://www.sec.gov/cgi-bin/browse-edgar?action=getcompany&CIK=0000063908&type=8-K%25&dateb=&owner=include&start=120&count=40\n",
      "--- 3 ---\n",
      "https://www.sec.gov/cgi-bin/browse-edgar?action=getcompany&CIK=0000063908&type=8-K%25&dateb=&owner=include&start=160&count=40\n",
      "--- 4 ---\n",
      "https://www.sec.gov/cgi-bin/browse-edgar?action=getcompany&CIK=0000063908&type=8-K%25&dateb=&owner=include&start=200&count=40\n",
      "--- 5 ---\n"
     ]
    },
    {
     "name": "stderr",
     "output_type": "stream",
     "text": [
      "\r",
      " 57%|█████▋    | 17/30 [1:11:39<1:06:55, 308.89s/it]"
     ]
    },
    {
     "name": "stdout",
     "output_type": "stream",
     "text": [
      "Scraping CIK 310158\n",
      "--- 0 ---\n",
      "https://www.sec.gov/cgi-bin/browse-edgar?action=getcompany&CIK=0000310158&type=8-K%25&dateb=&owner=include&start=40&count=40\n",
      "--- 1 ---\n",
      "https://www.sec.gov/cgi-bin/browse-edgar?action=getcompany&CIK=0000310158&type=8-K%25&dateb=&owner=include&start=80&count=40\n",
      "--- 2 ---\n"
     ]
    },
    {
     "name": "stderr",
     "output_type": "stream",
     "text": [
      "\r",
      " 60%|██████    | 18/30 [1:14:09<52:17, 261.43s/it]  "
     ]
    },
    {
     "name": "stdout",
     "output_type": "stream",
     "text": [
      "Scraping CIK 789019\n",
      "--- 0 ---\n",
      "https://www.sec.gov/cgi-bin/browse-edgar?action=getcompany&CIK=0000789019&type=8-K%25&dateb=&owner=include&start=40&count=40\n",
      "--- 1 ---\n",
      "https://www.sec.gov/cgi-bin/browse-edgar?action=getcompany&CIK=0000789019&type=8-K%25&dateb=&owner=include&start=80&count=40\n",
      "--- 2 ---\n"
     ]
    },
    {
     "name": "stderr",
     "output_type": "stream",
     "text": [
      "\r",
      " 63%|██████▎   | 19/30 [1:16:42<41:56, 228.80s/it]"
     ]
    },
    {
     "name": "stdout",
     "output_type": "stream",
     "text": [
      "Scraping CIK 320187\n",
      "--- 0 ---\n",
      "https://www.sec.gov/cgi-bin/browse-edgar?action=getcompany&CIK=0000320187&type=8-K%25&dateb=&owner=include&start=40&count=40\n",
      "--- 1 ---\n",
      "https://www.sec.gov/cgi-bin/browse-edgar?action=getcompany&CIK=0000320187&type=8-K%25&dateb=&owner=include&start=80&count=40\n",
      "--- 2 ---\n",
      "https://www.sec.gov/cgi-bin/browse-edgar?action=getcompany&CIK=0000320187&type=8-K%25&dateb=&owner=include&start=120&count=40\n",
      "--- 3 ---\n"
     ]
    },
    {
     "name": "stderr",
     "output_type": "stream",
     "text": [
      "\r",
      " 67%|██████▋   | 20/30 [1:19:10<34:06, 204.64s/it]"
     ]
    },
    {
     "name": "stdout",
     "output_type": "stream",
     "text": [
      "Scraping CIK 78003\n",
      "--- 0 ---\n",
      "https://www.sec.gov/cgi-bin/browse-edgar?action=getcompany&CIK=0000078003&type=8-K%25&dateb=&owner=include&start=40&count=40\n",
      "--- 1 ---\n",
      "https://www.sec.gov/cgi-bin/browse-edgar?action=getcompany&CIK=0000078003&type=8-K%25&dateb=&owner=include&start=80&count=40\n",
      "--- 2 ---\n",
      "https://www.sec.gov/cgi-bin/browse-edgar?action=getcompany&CIK=0000078003&type=8-K%25&dateb=&owner=include&start=120&count=40\n",
      "--- 3 ---\n"
     ]
    },
    {
     "name": "stderr",
     "output_type": "stream",
     "text": [
      "\r",
      " 70%|███████   | 21/30 [1:21:58<29:02, 193.56s/it]"
     ]
    },
    {
     "name": "stdout",
     "output_type": "stream",
     "text": [
      "Scraping CIK 80424\n",
      "--- 0 ---\n",
      "https://www.sec.gov/cgi-bin/browse-edgar?action=getcompany&CIK=0000080424&type=8-K%25&dateb=&owner=include&start=40&count=40\n",
      "--- 1 ---\n",
      "https://www.sec.gov/cgi-bin/browse-edgar?action=getcompany&CIK=0000080424&type=8-K%25&dateb=&owner=include&start=80&count=40\n",
      "--- 2 ---\n",
      "https://www.sec.gov/cgi-bin/browse-edgar?action=getcompany&CIK=0000080424&type=8-K%25&dateb=&owner=include&start=120&count=40\n",
      "--- 3 ---\n",
      "https://www.sec.gov/cgi-bin/browse-edgar?action=getcompany&CIK=0000080424&type=8-K%25&dateb=&owner=include&start=160&count=40\n",
      "--- 4 ---\n",
      "https://www.sec.gov/cgi-bin/browse-edgar?action=getcompany&CIK=0000080424&type=8-K%25&dateb=&owner=include&start=200&count=40\n",
      "--- 5 ---\n",
      "https://www.sec.gov/cgi-bin/browse-edgar?action=getcompany&CIK=0000080424&type=8-K%25&dateb=&owner=include&start=240&count=40\n",
      "--- 6 ---\n"
     ]
    },
    {
     "name": "stderr",
     "output_type": "stream",
     "text": [
      "\r",
      " 73%|███████▎  | 22/30 [1:27:21<30:59, 232.38s/it]"
     ]
    },
    {
     "name": "stdout",
     "output_type": "stream",
     "text": [
      "Scraping CIK 86312\n",
      "--- 0 ---\n",
      "https://www.sec.gov/cgi-bin/browse-edgar?action=getcompany&CIK=0000086312&type=8-K%25&dateb=&owner=include&start=40&count=40\n",
      "--- 1 ---\n",
      "https://www.sec.gov/cgi-bin/browse-edgar?action=getcompany&CIK=0000086312&type=8-K%25&dateb=&owner=include&start=80&count=40\n",
      "--- 2 ---\n"
     ]
    },
    {
     "name": "stderr",
     "output_type": "stream",
     "text": [
      "\r",
      " 77%|███████▋  | 23/30 [1:29:49<24:10, 207.20s/it]"
     ]
    },
    {
     "name": "stdout",
     "output_type": "stream",
     "text": [
      "Scraping CIK 731766\n",
      "--- 0 ---\n",
      "https://www.sec.gov/cgi-bin/browse-edgar?action=getcompany&CIK=0000731766&type=8-K%25&dateb=&owner=include&start=40&count=40\n",
      "--- 1 ---\n",
      "https://www.sec.gov/cgi-bin/browse-edgar?action=getcompany&CIK=0000731766&type=8-K%25&dateb=&owner=include&start=80&count=40\n",
      "--- 2 ---\n",
      "https://www.sec.gov/cgi-bin/browse-edgar?action=getcompany&CIK=0000731766&type=8-K%25&dateb=&owner=include&start=120&count=40\n",
      "--- 3 ---\n",
      "https://www.sec.gov/cgi-bin/browse-edgar?action=getcompany&CIK=0000731766&type=8-K%25&dateb=&owner=include&start=160&count=40\n",
      "--- 4 ---\n"
     ]
    },
    {
     "name": "stderr",
     "output_type": "stream",
     "text": [
      "\r",
      " 80%|████████  | 24/30 [1:33:45<21:34, 215.77s/it]"
     ]
    },
    {
     "name": "stdout",
     "output_type": "stream",
     "text": [
      "Scraping CIK 101829\n",
      "--- 0 ---\n",
      "https://www.sec.gov/cgi-bin/browse-edgar?action=getcompany&CIK=0000101829&type=8-K%25&dateb=&owner=include&start=40&count=40\n",
      "--- 1 ---\n",
      "https://www.sec.gov/cgi-bin/browse-edgar?action=getcompany&CIK=0000101829&type=8-K%25&dateb=&owner=include&start=80&count=40\n",
      "--- 2 ---\n",
      "https://www.sec.gov/cgi-bin/browse-edgar?action=getcompany&CIK=0000101829&type=8-K%25&dateb=&owner=include&start=120&count=40\n",
      "--- 3 ---\n"
     ]
    },
    {
     "name": "stderr",
     "output_type": "stream",
     "text": [
      "\r",
      " 83%|████████▎ | 25/30 [1:36:50<17:12, 206.53s/it]"
     ]
    },
    {
     "name": "stdout",
     "output_type": "stream",
     "text": [
      "Scraping CIK 732712\n",
      "--- 0 ---\n",
      "https://www.sec.gov/cgi-bin/browse-edgar?action=getcompany&CIK=0000732712&type=8-K%25&dateb=&owner=include&start=40&count=40\n",
      "--- 1 ---\n",
      "https://www.sec.gov/cgi-bin/browse-edgar?action=getcompany&CIK=0000732712&type=8-K%25&dateb=&owner=include&start=80&count=40\n",
      "--- 2 ---\n",
      "https://www.sec.gov/cgi-bin/browse-edgar?action=getcompany&CIK=0000732712&type=8-K%25&dateb=&owner=include&start=120&count=40\n",
      "--- 3 ---\n",
      "https://www.sec.gov/cgi-bin/browse-edgar?action=getcompany&CIK=0000732712&type=8-K%25&dateb=&owner=include&start=160&count=40\n",
      "--- 4 ---\n",
      "https://www.sec.gov/cgi-bin/browse-edgar?action=getcompany&CIK=0000732712&type=8-K%25&dateb=&owner=include&start=200&count=40\n",
      "--- 5 ---\n"
     ]
    },
    {
     "name": "stderr",
     "output_type": "stream",
     "text": [
      "\r",
      " 87%|████████▋ | 26/30 [1:41:56<15:45, 236.43s/it]"
     ]
    },
    {
     "name": "stdout",
     "output_type": "stream",
     "text": [
      "Scraping CIK 1403161\n",
      "--- 0 ---\n",
      "https://www.sec.gov/cgi-bin/browse-edgar?action=getcompany&CIK=0001403161&type=8-K%25&dateb=&owner=include&start=40&count=40\n",
      "--- 1 ---\n",
      "https://www.sec.gov/cgi-bin/browse-edgar?action=getcompany&CIK=0001403161&type=8-K%25&dateb=&owner=include&start=80&count=40\n",
      "--- 2 ---\n",
      "https://www.sec.gov/cgi-bin/browse-edgar?action=getcompany&CIK=0001403161&type=8-K%25&dateb=&owner=include&start=120&count=40\n",
      "--- 3 ---\n",
      "https://www.sec.gov/cgi-bin/browse-edgar?action=getcompany&CIK=0001403161&type=8-K%25&dateb=&owner=include&start=160&count=40\n",
      "--- 4 ---\n"
     ]
    },
    {
     "name": "stderr",
     "output_type": "stream",
     "text": [
      "\r",
      " 90%|█████████ | 27/30 [1:46:31<12:23, 248.00s/it]"
     ]
    },
    {
     "name": "stdout",
     "output_type": "stream",
     "text": [
      "Scraping CIK 104169\n",
      "--- 0 ---\n",
      "https://www.sec.gov/cgi-bin/browse-edgar?action=getcompany&CIK=0000104169&type=8-K%25&dateb=&owner=include&start=40&count=40\n",
      "--- 1 ---\n",
      "https://www.sec.gov/cgi-bin/browse-edgar?action=getcompany&CIK=0000104169&type=8-K%25&dateb=&owner=include&start=80&count=40\n",
      "--- 2 ---\n",
      "https://www.sec.gov/cgi-bin/browse-edgar?action=getcompany&CIK=0000104169&type=8-K%25&dateb=&owner=include&start=120&count=40\n",
      "--- 3 ---\n"
     ]
    },
    {
     "name": "stderr",
     "output_type": "stream",
     "text": [
      "\r",
      " 93%|█████████▎| 28/30 [1:51:01<08:29, 254.55s/it]"
     ]
    },
    {
     "name": "stdout",
     "output_type": "stream",
     "text": [
      "Scraping CIK 1618921\n",
      "--- 0 ---\n",
      "https://www.sec.gov/cgi-bin/browse-edgar?action=getcompany&CIK=0001618921&type=8-K%25&dateb=&owner=include&start=40&count=40\n",
      "--- 1 ---\n",
      "https://www.sec.gov/cgi-bin/browse-edgar?action=getcompany&CIK=0001618921&type=8-K%25&dateb=&owner=include&start=80&count=40\n",
      "--- 2 ---\n"
     ]
    },
    {
     "name": "stderr",
     "output_type": "stream",
     "text": [
      "\r",
      " 97%|█████████▋| 29/30 [1:53:08<03:36, 216.35s/it]"
     ]
    },
    {
     "name": "stdout",
     "output_type": "stream",
     "text": [
      "Scraping CIK 1001039\n",
      "--- 0 ---\n",
      "https://www.sec.gov/cgi-bin/browse-edgar?action=getcompany&CIK=0001001039&type=8-K%25&dateb=&owner=include&start=40&count=40\n",
      "--- 1 ---\n",
      "https://www.sec.gov/cgi-bin/browse-edgar?action=getcompany&CIK=0001001039&type=8-K%25&dateb=&owner=include&start=80&count=40\n",
      "--- 2 ---\n",
      "https://www.sec.gov/cgi-bin/browse-edgar?action=getcompany&CIK=0001001039&type=8-K%25&dateb=&owner=include&start=120&count=40\n",
      "--- 3 ---\n"
     ]
    },
    {
     "name": "stderr",
     "output_type": "stream",
     "text": [
      "100%|██████████| 30/30 [1:56:05<00:00, 232.19s/it]\n"
     ]
    }
   ],
   "source": [
    "# Run the function to scrape 8-Ks\n",
    "\n",
    "# Define parameters\n",
    "browse_url_base_8k = 'https://www.sec.gov/cgi-bin/browse-edgar?action=getcompany&CIK=%s&type=8-K'\n",
    "filing_url_base_8k = 'http://www.sec.gov/Archives/edgar/data/%s/%s-index.html'\n",
    "doc_url_base_8k = 'http://www.sec.gov/Archives/edgar/data/%s/%s/%s'\n",
    "\n",
    "# Set correct directory\n",
    "os.chdir(pathname_8k)\n",
    "\n",
    "# Initialize log file\n",
    "# (log file name = the time we initiate scraping session)\n",
    "time = strftime(\"%Y-%m-%d %Hh%Mm%Ss\", gmtime())\n",
    "log_file_name = 'log '+time+'.txt'\n",
    "with open(log_file_name, 'a') as log_file:\n",
    "    log_file.close()\n",
    "\n",
    "# Iterate over CIKs and scrape 10-Ks\n",
    "for cik in tqdm(cik_df.CIK):\n",
    "    Scrape8K(browse_url_base=browse_url_base_8k, \n",
    "          filing_url_base=filing_url_base_8k, \n",
    "          doc_url_base=doc_url_base_8k, \n",
    "          cik=cik,\n",
    "          log_file_name=log_file_name)"
   ]
  },
  {
   "cell_type": "code",
   "execution_count": 11,
   "metadata": {},
   "outputs": [],
   "source": [
    "os.chdir(\"../../Analytics/8K SEC\")"
   ]
  },
  {
   "cell_type": "code",
   "execution_count": 12,
   "metadata": {
    "scrolled": true
   },
   "outputs": [
    {
     "name": "stderr",
     "output_type": "stream",
     "text": [
      "\r",
      "  0%|          | 0/30 [00:00<?, ?it/s]"
     ]
    },
    {
     "name": "stdout",
     "output_type": "stream",
     "text": [
      "Scraping CIK 66740\n",
      "--- 0 ---\n",
      "https://www.sec.gov/cgi-bin/browse-edgar?action=getcompany&CIK=0000066740&type=8-K%25&dateb=&owner=include&start=40&count=40\n",
      "--- 1 ---\n",
      "https://www.sec.gov/cgi-bin/browse-edgar?action=getcompany&CIK=0000066740&type=8-K%25&dateb=&owner=include&start=80&count=40\n",
      "--- 2 ---\n",
      "https://www.sec.gov/cgi-bin/browse-edgar?action=getcompany&CIK=0000066740&type=8-K%25&dateb=&owner=include&start=120&count=40\n",
      "--- 3 ---\n",
      "https://www.sec.gov/cgi-bin/browse-edgar?action=getcompany&CIK=0000066740&type=8-K%25&dateb=&owner=include&start=160&count=40\n",
      "--- 4 ---\n"
     ]
    },
    {
     "name": "stderr",
     "output_type": "stream",
     "text": [
      "/Users/zhengjiesung/anaconda3/lib/python3.6/site-packages/ipykernel_launcher.py:115: SettingWithCopyWarning: \n",
      "A value is trying to be set on a copy of a slice from a DataFrame.\n",
      "Try using .loc[row_indexer,col_indexer] = value instead\n",
      "\n",
      "See the caveats in the documentation: http://pandas.pydata.org/pandas-docs/stable/user_guide/indexing.html#returning-a-view-versus-a-copy\n",
      "/Users/zhengjiesung/anaconda3/lib/python3.6/site-packages/ipykernel_launcher.py:118: SettingWithCopyWarning: \n",
      "A value is trying to be set on a copy of a slice from a DataFrame.\n",
      "Try using .loc[row_indexer,col_indexer] = value instead\n",
      "\n",
      "See the caveats in the documentation: http://pandas.pydata.org/pandas-docs/stable/user_guide/indexing.html#returning-a-view-versus-a-copy\n",
      "  3%|▎         | 1/30 [01:52<54:19, 112.40s/it]"
     ]
    },
    {
     "name": "stdout",
     "output_type": "stream",
     "text": [
      "Scraping CIK 4962\n",
      "--- 0 ---\n",
      "https://www.sec.gov/cgi-bin/browse-edgar?action=getcompany&CIK=0000004962&type=8-K%25&dateb=&owner=include&start=40&count=40\n",
      "--- 1 ---\n",
      "https://www.sec.gov/cgi-bin/browse-edgar?action=getcompany&CIK=0000004962&type=8-K%25&dateb=&owner=include&start=80&count=40\n",
      "--- 2 ---\n",
      "https://www.sec.gov/cgi-bin/browse-edgar?action=getcompany&CIK=0000004962&type=8-K%25&dateb=&owner=include&start=120&count=40\n",
      "--- 3 ---\n",
      "https://www.sec.gov/cgi-bin/browse-edgar?action=getcompany&CIK=0000004962&type=8-K%25&dateb=&owner=include&start=160&count=40\n",
      "--- 4 ---\n",
      "https://www.sec.gov/cgi-bin/browse-edgar?action=getcompany&CIK=0000004962&type=8-K%25&dateb=&owner=include&start=200&count=40\n",
      "--- 5 ---\n",
      "https://www.sec.gov/cgi-bin/browse-edgar?action=getcompany&CIK=0000004962&type=8-K%25&dateb=&owner=include&start=240&count=40\n",
      "--- 6 ---\n"
     ]
    },
    {
     "name": "stderr",
     "output_type": "stream",
     "text": [
      "\r",
      "  7%|▋         | 2/30 [04:50<1:01:40, 132.15s/it]"
     ]
    },
    {
     "name": "stdout",
     "output_type": "stream",
     "text": [
      "Scraping CIK 320193\n",
      "--- 0 ---\n",
      "https://www.sec.gov/cgi-bin/browse-edgar?action=getcompany&CIK=0000320193&type=8-K%25&dateb=&owner=include&start=40&count=40\n",
      "--- 1 ---\n",
      "https://www.sec.gov/cgi-bin/browse-edgar?action=getcompany&CIK=0000320193&type=8-K%25&dateb=&owner=include&start=80&count=40\n",
      "--- 2 ---\n"
     ]
    },
    {
     "name": "stderr",
     "output_type": "stream",
     "text": [
      "\r",
      " 10%|█         | 3/30 [05:56<50:28, 112.16s/it]  "
     ]
    },
    {
     "name": "stdout",
     "output_type": "stream",
     "text": [
      "Scraping CIK 12927\n",
      "--- 0 ---\n",
      "https://www.sec.gov/cgi-bin/browse-edgar?action=getcompany&CIK=0000012927&type=8-K%25&dateb=&owner=include&start=40&count=40\n",
      "--- 1 ---\n",
      "https://www.sec.gov/cgi-bin/browse-edgar?action=getcompany&CIK=0000012927&type=8-K%25&dateb=&owner=include&start=80&count=40\n",
      "--- 2 ---\n",
      "https://www.sec.gov/cgi-bin/browse-edgar?action=getcompany&CIK=0000012927&type=8-K%25&dateb=&owner=include&start=120&count=40\n",
      "--- 3 ---\n"
     ]
    },
    {
     "name": "stderr",
     "output_type": "stream",
     "text": [
      "\r",
      " 13%|█▎        | 4/30 [07:35<46:52, 108.17s/it]"
     ]
    },
    {
     "name": "stdout",
     "output_type": "stream",
     "text": [
      "Scraping CIK 18230\n",
      "--- 0 ---\n",
      "https://www.sec.gov/cgi-bin/browse-edgar?action=getcompany&CIK=0000018230&type=8-K%25&dateb=&owner=include&start=40&count=40\n",
      "--- 1 ---\n",
      "https://www.sec.gov/cgi-bin/browse-edgar?action=getcompany&CIK=0000018230&type=8-K%25&dateb=&owner=include&start=80&count=40\n",
      "--- 2 ---\n",
      "https://www.sec.gov/cgi-bin/browse-edgar?action=getcompany&CIK=0000018230&type=8-K%25&dateb=&owner=include&start=120&count=40\n",
      "--- 3 ---\n",
      "https://www.sec.gov/cgi-bin/browse-edgar?action=getcompany&CIK=0000018230&type=8-K%25&dateb=&owner=include&start=160&count=40\n",
      "--- 4 ---\n",
      "https://www.sec.gov/cgi-bin/browse-edgar?action=getcompany&CIK=0000018230&type=8-K%25&dateb=&owner=include&start=200&count=40\n",
      "--- 5 ---\n",
      "https://www.sec.gov/cgi-bin/browse-edgar?action=getcompany&CIK=0000018230&type=8-K%25&dateb=&owner=include&start=240&count=40\n",
      "--- 6 ---\n",
      "https://www.sec.gov/cgi-bin/browse-edgar?action=getcompany&CIK=0000018230&type=8-K%25&dateb=&owner=include&start=280&count=40\n",
      "--- 7 ---\n"
     ]
    },
    {
     "name": "stderr",
     "output_type": "stream",
     "text": [
      "\r",
      " 17%|█▋        | 5/30 [10:36<54:13, 130.14s/it]"
     ]
    },
    {
     "name": "stdout",
     "output_type": "stream",
     "text": [
      "Scraping CIK 93410\n",
      "--- 0 ---\n",
      "https://www.sec.gov/cgi-bin/browse-edgar?action=getcompany&CIK=0000093410&type=8-K%25&dateb=&owner=include&start=40&count=40\n",
      "--- 1 ---\n",
      "https://www.sec.gov/cgi-bin/browse-edgar?action=getcompany&CIK=0000093410&type=8-K%25&dateb=&owner=include&start=80&count=40\n",
      "--- 2 ---\n",
      "https://www.sec.gov/cgi-bin/browse-edgar?action=getcompany&CIK=0000093410&type=8-K%25&dateb=&owner=include&start=120&count=40\n",
      "--- 3 ---\n"
     ]
    },
    {
     "name": "stderr",
     "output_type": "stream",
     "text": [
      "\r",
      " 20%|██        | 6/30 [12:00<46:28, 116.21s/it]"
     ]
    },
    {
     "name": "stdout",
     "output_type": "stream",
     "text": [
      "Scraping CIK 858877\n",
      "--- 0 ---\n",
      "https://www.sec.gov/cgi-bin/browse-edgar?action=getcompany&CIK=0000858877&type=8-K%25&dateb=&owner=include&start=40&count=40\n",
      "--- 1 ---\n",
      "https://www.sec.gov/cgi-bin/browse-edgar?action=getcompany&CIK=0000858877&type=8-K%25&dateb=&owner=include&start=80&count=40\n",
      "--- 2 ---\n",
      "https://www.sec.gov/cgi-bin/browse-edgar?action=getcompany&CIK=0000858877&type=8-K%25&dateb=&owner=include&start=120&count=40\n",
      "--- 3 ---\n",
      "https://www.sec.gov/cgi-bin/browse-edgar?action=getcompany&CIK=0000858877&type=8-K%25&dateb=&owner=include&start=160&count=40\n",
      "--- 4 ---\n"
     ]
    },
    {
     "name": "stderr",
     "output_type": "stream",
     "text": [
      "\r",
      " 23%|██▎       | 7/30 [13:48<43:37, 113.82s/it]"
     ]
    },
    {
     "name": "stdout",
     "output_type": "stream",
     "text": [
      "Scraping CIK 21344\n",
      "--- 0 ---\n",
      "https://www.sec.gov/cgi-bin/browse-edgar?action=getcompany&CIK=0000021344&type=8-K%25&dateb=&owner=include&start=40&count=40\n",
      "--- 1 ---\n",
      "https://www.sec.gov/cgi-bin/browse-edgar?action=getcompany&CIK=0000021344&type=8-K%25&dateb=&owner=include&start=80&count=40\n",
      "--- 2 ---\n",
      "https://www.sec.gov/cgi-bin/browse-edgar?action=getcompany&CIK=0000021344&type=8-K%25&dateb=&owner=include&start=120&count=40\n",
      "--- 3 ---\n"
     ]
    },
    {
     "name": "stderr",
     "output_type": "stream",
     "text": [
      "\r",
      " 27%|██▋       | 8/30 [15:34<40:50, 111.37s/it]"
     ]
    },
    {
     "name": "stdout",
     "output_type": "stream",
     "text": [
      "Scraping CIK 1751788\n",
      "--- 0 ---\n"
     ]
    },
    {
     "name": "stderr",
     "output_type": "stream",
     "text": [
      "\r",
      " 30%|███       | 9/30 [15:47<28:40, 81.95s/it] "
     ]
    },
    {
     "name": "stdout",
     "output_type": "stream",
     "text": [
      "Scraping CIK 34088\n",
      "--- 0 ---\n",
      "https://www.sec.gov/cgi-bin/browse-edgar?action=getcompany&CIK=0000034088&type=8-K%25&dateb=&owner=include&start=40&count=40\n",
      "--- 1 ---\n",
      "https://www.sec.gov/cgi-bin/browse-edgar?action=getcompany&CIK=0000034088&type=8-K%25&dateb=&owner=include&start=80&count=40\n",
      "--- 2 ---\n"
     ]
    },
    {
     "name": "stderr",
     "output_type": "stream",
     "text": [
      "\r",
      " 33%|███▎      | 10/30 [17:07<27:10, 81.52s/it]"
     ]
    },
    {
     "name": "stdout",
     "output_type": "stream",
     "text": [
      "Scraping CIK 886982\n",
      "--- 0 ---\n",
      "https://www.sec.gov/cgi-bin/browse-edgar?action=getcompany&CIK=0000886982&type=8-K%25&dateb=&owner=include&start=40&count=40\n",
      "--- 1 ---\n",
      "https://www.sec.gov/cgi-bin/browse-edgar?action=getcompany&CIK=0000886982&type=8-K%25&dateb=&owner=include&start=80&count=40\n",
      "--- 2 ---\n",
      "https://www.sec.gov/cgi-bin/browse-edgar?action=getcompany&CIK=0000886982&type=8-K%25&dateb=&owner=include&start=120&count=40\n",
      "--- 3 ---\n",
      "https://www.sec.gov/cgi-bin/browse-edgar?action=getcompany&CIK=0000886982&type=8-K%25&dateb=&owner=include&start=160&count=40\n",
      "--- 4 ---\n",
      "https://www.sec.gov/cgi-bin/browse-edgar?action=getcompany&CIK=0000886982&type=8-K%25&dateb=&owner=include&start=200&count=40\n",
      "--- 5 ---\n",
      "https://www.sec.gov/cgi-bin/browse-edgar?action=getcompany&CIK=0000886982&type=8-K%25&dateb=&owner=include&start=240&count=40\n",
      "--- 6 ---\n",
      "https://www.sec.gov/cgi-bin/browse-edgar?action=getcompany&CIK=0000886982&type=8-K%25&dateb=&owner=include&start=280&count=40\n",
      "--- 7 ---\n",
      "https://www.sec.gov/cgi-bin/browse-edgar?action=getcompany&CIK=0000886982&type=8-K%25&dateb=&owner=include&start=320&count=40\n",
      "--- 8 ---\n"
     ]
    },
    {
     "name": "stderr",
     "output_type": "stream",
     "text": [
      "\r",
      " 37%|███▋      | 11/30 [20:50<39:12, 123.81s/it]"
     ]
    },
    {
     "name": "stdout",
     "output_type": "stream",
     "text": [
      "Scraping CIK 354950\n",
      "--- 0 ---\n",
      "https://www.sec.gov/cgi-bin/browse-edgar?action=getcompany&CIK=0000354950&type=8-K%25&dateb=&owner=include&start=40&count=40\n",
      "--- 1 ---\n",
      "https://www.sec.gov/cgi-bin/browse-edgar?action=getcompany&CIK=0000354950&type=8-K%25&dateb=&owner=include&start=80&count=40\n",
      "--- 2 ---\n"
     ]
    },
    {
     "name": "stderr",
     "output_type": "stream",
     "text": [
      "\r",
      " 40%|████      | 12/30 [21:58<32:07, 107.10s/it]"
     ]
    },
    {
     "name": "stdout",
     "output_type": "stream",
     "text": [
      "Scraping CIK 50863\n",
      "--- 0 ---\n",
      "https://www.sec.gov/cgi-bin/browse-edgar?action=getcompany&CIK=0000050863&type=8-K%25&dateb=&owner=include&start=40&count=40\n",
      "--- 1 ---\n",
      "https://www.sec.gov/cgi-bin/browse-edgar?action=getcompany&CIK=0000050863&type=8-K%25&dateb=&owner=include&start=80&count=40\n",
      "--- 2 ---\n",
      "https://www.sec.gov/cgi-bin/browse-edgar?action=getcompany&CIK=0000050863&type=8-K%25&dateb=&owner=include&start=120&count=40\n",
      "--- 3 ---\n",
      "https://www.sec.gov/cgi-bin/browse-edgar?action=getcompany&CIK=0000050863&type=8-K%25&dateb=&owner=include&start=160&count=40\n",
      "--- 4 ---\n"
     ]
    },
    {
     "name": "stderr",
     "output_type": "stream",
     "text": [
      "\r",
      " 43%|████▎     | 13/30 [24:19<33:12, 117.21s/it]"
     ]
    },
    {
     "name": "stdout",
     "output_type": "stream",
     "text": [
      "Scraping CIK 51143\n",
      "--- 0 ---\n",
      "https://www.sec.gov/cgi-bin/browse-edgar?action=getcompany&CIK=0000051143&type=8-K%25&dateb=&owner=include&start=40&count=40\n",
      "--- 1 ---\n",
      "https://www.sec.gov/cgi-bin/browse-edgar?action=getcompany&CIK=0000051143&type=8-K%25&dateb=&owner=include&start=80&count=40\n",
      "--- 2 ---\n",
      "https://www.sec.gov/cgi-bin/browse-edgar?action=getcompany&CIK=0000051143&type=8-K%25&dateb=&owner=include&start=120&count=40\n",
      "--- 3 ---\n",
      "https://www.sec.gov/cgi-bin/browse-edgar?action=getcompany&CIK=0000051143&type=8-K%25&dateb=&owner=include&start=160&count=40\n",
      "--- 4 ---\n",
      "https://www.sec.gov/cgi-bin/browse-edgar?action=getcompany&CIK=0000051143&type=8-K%25&dateb=&owner=include&start=200&count=40\n",
      "--- 5 ---\n"
     ]
    },
    {
     "name": "stderr",
     "output_type": "stream",
     "text": [
      "\r",
      " 47%|████▋     | 14/30 [26:49<33:53, 127.09s/it]"
     ]
    },
    {
     "name": "stdout",
     "output_type": "stream",
     "text": [
      "Scraping CIK 200406\n",
      "--- 0 ---\n",
      "https://www.sec.gov/cgi-bin/browse-edgar?action=getcompany&CIK=0000200406&type=8-K%25&dateb=&owner=include&start=40&count=40\n",
      "--- 1 ---\n",
      "https://www.sec.gov/cgi-bin/browse-edgar?action=getcompany&CIK=0000200406&type=8-K%25&dateb=&owner=include&start=80&count=40\n",
      "--- 2 ---\n",
      "https://www.sec.gov/cgi-bin/browse-edgar?action=getcompany&CIK=0000200406&type=8-K%25&dateb=&owner=include&start=120&count=40\n",
      "--- 3 ---\n"
     ]
    },
    {
     "name": "stderr",
     "output_type": "stream",
     "text": [
      "\r",
      " 50%|█████     | 15/30 [28:16<28:46, 115.07s/it]"
     ]
    },
    {
     "name": "stdout",
     "output_type": "stream",
     "text": [
      "Scraping CIK 19617\n",
      "--- 0 ---\n",
      "https://www.sec.gov/cgi-bin/browse-edgar?action=getcompany&CIK=0000019617&type=8-K%25&dateb=&owner=include&start=40&count=40\n",
      "--- 1 ---\n",
      "https://www.sec.gov/cgi-bin/browse-edgar?action=getcompany&CIK=0000019617&type=8-K%25&dateb=&owner=include&start=80&count=40\n",
      "--- 2 ---\n",
      "https://www.sec.gov/cgi-bin/browse-edgar?action=getcompany&CIK=0000019617&type=8-K%25&dateb=&owner=include&start=120&count=40\n",
      "--- 3 ---\n",
      "https://www.sec.gov/cgi-bin/browse-edgar?action=getcompany&CIK=0000019617&type=8-K%25&dateb=&owner=include&start=160&count=40\n",
      "--- 4 ---\n",
      "https://www.sec.gov/cgi-bin/browse-edgar?action=getcompany&CIK=0000019617&type=8-K%25&dateb=&owner=include&start=200&count=40\n",
      "--- 5 ---\n",
      "https://www.sec.gov/cgi-bin/browse-edgar?action=getcompany&CIK=0000019617&type=8-K%25&dateb=&owner=include&start=240&count=40\n",
      "--- 6 ---\n",
      "https://www.sec.gov/cgi-bin/browse-edgar?action=getcompany&CIK=0000019617&type=8-K%25&dateb=&owner=include&start=280&count=40\n",
      "--- 7 ---\n",
      "https://www.sec.gov/cgi-bin/browse-edgar?action=getcompany&CIK=0000019617&type=8-K%25&dateb=&owner=include&start=320&count=40\n",
      "--- 8 ---\n",
      "https://www.sec.gov/cgi-bin/browse-edgar?action=getcompany&CIK=0000019617&type=8-K%25&dateb=&owner=include&start=360&count=40\n",
      "--- 9 ---\n"
     ]
    },
    {
     "name": "stderr",
     "output_type": "stream",
     "text": [
      "\r",
      " 53%|█████▎    | 16/30 [32:41<37:21, 160.12s/it]"
     ]
    },
    {
     "name": "stdout",
     "output_type": "stream",
     "text": [
      "Scraping CIK 63908\n",
      "--- 0 ---\n",
      "https://www.sec.gov/cgi-bin/browse-edgar?action=getcompany&CIK=0000063908&type=8-K%25&dateb=&owner=include&start=40&count=40\n",
      "--- 1 ---\n",
      "https://www.sec.gov/cgi-bin/browse-edgar?action=getcompany&CIK=0000063908&type=8-K%25&dateb=&owner=include&start=80&count=40\n",
      "--- 2 ---\n",
      "https://www.sec.gov/cgi-bin/browse-edgar?action=getcompany&CIK=0000063908&type=8-K%25&dateb=&owner=include&start=120&count=40\n",
      "--- 3 ---\n",
      "https://www.sec.gov/cgi-bin/browse-edgar?action=getcompany&CIK=0000063908&type=8-K%25&dateb=&owner=include&start=160&count=40\n",
      "--- 4 ---\n",
      "https://www.sec.gov/cgi-bin/browse-edgar?action=getcompany&CIK=0000063908&type=8-K%25&dateb=&owner=include&start=200&count=40\n",
      "--- 5 ---\n"
     ]
    },
    {
     "name": "stderr",
     "output_type": "stream",
     "text": [
      "\r",
      " 57%|█████▋    | 17/30 [35:01<33:24, 154.17s/it]"
     ]
    },
    {
     "name": "stdout",
     "output_type": "stream",
     "text": [
      "Scraping CIK 310158\n",
      "--- 0 ---\n",
      "https://www.sec.gov/cgi-bin/browse-edgar?action=getcompany&CIK=0000310158&type=8-K%25&dateb=&owner=include&start=40&count=40\n",
      "--- 1 ---\n",
      "https://www.sec.gov/cgi-bin/browse-edgar?action=getcompany&CIK=0000310158&type=8-K%25&dateb=&owner=include&start=80&count=40\n",
      "--- 2 ---\n"
     ]
    },
    {
     "name": "stderr",
     "output_type": "stream",
     "text": [
      "\r",
      " 60%|██████    | 18/30 [36:07<25:29, 127.49s/it]"
     ]
    },
    {
     "name": "stdout",
     "output_type": "stream",
     "text": [
      "Scraping CIK 789019\n",
      "--- 0 ---\n",
      "https://www.sec.gov/cgi-bin/browse-edgar?action=getcompany&CIK=0000789019&type=8-K%25&dateb=&owner=include&start=40&count=40\n",
      "--- 1 ---\n",
      "https://www.sec.gov/cgi-bin/browse-edgar?action=getcompany&CIK=0000789019&type=8-K%25&dateb=&owner=include&start=80&count=40\n",
      "--- 2 ---\n"
     ]
    },
    {
     "name": "stderr",
     "output_type": "stream",
     "text": [
      "\r",
      " 63%|██████▎   | 19/30 [37:34<21:11, 115.57s/it]"
     ]
    },
    {
     "name": "stdout",
     "output_type": "stream",
     "text": [
      "Scraping CIK 320187\n",
      "--- 0 ---\n",
      "https://www.sec.gov/cgi-bin/browse-edgar?action=getcompany&CIK=0000320187&type=8-K%25&dateb=&owner=include&start=40&count=40\n",
      "--- 1 ---\n",
      "https://www.sec.gov/cgi-bin/browse-edgar?action=getcompany&CIK=0000320187&type=8-K%25&dateb=&owner=include&start=80&count=40\n",
      "--- 2 ---\n",
      "https://www.sec.gov/cgi-bin/browse-edgar?action=getcompany&CIK=0000320187&type=8-K%25&dateb=&owner=include&start=120&count=40\n",
      "--- 3 ---\n"
     ]
    },
    {
     "name": "stderr",
     "output_type": "stream",
     "text": [
      "\r",
      " 67%|██████▋   | 20/30 [39:09<18:13, 109.37s/it]"
     ]
    },
    {
     "name": "stdout",
     "output_type": "stream",
     "text": [
      "Scraping CIK 78003\n",
      "--- 0 ---\n",
      "https://www.sec.gov/cgi-bin/browse-edgar?action=getcompany&CIK=0000078003&type=8-K%25&dateb=&owner=include&start=40&count=40\n",
      "--- 1 ---\n",
      "https://www.sec.gov/cgi-bin/browse-edgar?action=getcompany&CIK=0000078003&type=8-K%25&dateb=&owner=include&start=80&count=40\n",
      "--- 2 ---\n",
      "https://www.sec.gov/cgi-bin/browse-edgar?action=getcompany&CIK=0000078003&type=8-K%25&dateb=&owner=include&start=120&count=40\n",
      "--- 3 ---\n"
     ]
    },
    {
     "name": "stderr",
     "output_type": "stream",
     "text": [
      "\r",
      " 70%|███████   | 21/30 [40:44<15:44, 104.93s/it]"
     ]
    },
    {
     "name": "stdout",
     "output_type": "stream",
     "text": [
      "Scraping CIK 80424\n",
      "--- 0 ---\n",
      "https://www.sec.gov/cgi-bin/browse-edgar?action=getcompany&CIK=0000080424&type=8-K%25&dateb=&owner=include&start=40&count=40\n",
      "--- 1 ---\n",
      "https://www.sec.gov/cgi-bin/browse-edgar?action=getcompany&CIK=0000080424&type=8-K%25&dateb=&owner=include&start=80&count=40\n",
      "--- 2 ---\n",
      "https://www.sec.gov/cgi-bin/browse-edgar?action=getcompany&CIK=0000080424&type=8-K%25&dateb=&owner=include&start=120&count=40\n",
      "--- 3 ---\n",
      "https://www.sec.gov/cgi-bin/browse-edgar?action=getcompany&CIK=0000080424&type=8-K%25&dateb=&owner=include&start=160&count=40\n",
      "--- 4 ---\n",
      "https://www.sec.gov/cgi-bin/browse-edgar?action=getcompany&CIK=0000080424&type=8-K%25&dateb=&owner=include&start=200&count=40\n",
      "--- 5 ---\n",
      "https://www.sec.gov/cgi-bin/browse-edgar?action=getcompany&CIK=0000080424&type=8-K%25&dateb=&owner=include&start=240&count=40\n",
      "--- 6 ---\n"
     ]
    },
    {
     "name": "stderr",
     "output_type": "stream",
     "text": [
      "\r",
      " 73%|███████▎  | 22/30 [43:39<16:46, 125.84s/it]"
     ]
    },
    {
     "name": "stdout",
     "output_type": "stream",
     "text": [
      "Scraping CIK 86312\n",
      "--- 0 ---\n",
      "https://www.sec.gov/cgi-bin/browse-edgar?action=getcompany&CIK=0000086312&type=8-K%25&dateb=&owner=include&start=40&count=40\n",
      "--- 1 ---\n",
      "https://www.sec.gov/cgi-bin/browse-edgar?action=getcompany&CIK=0000086312&type=8-K%25&dateb=&owner=include&start=80&count=40\n",
      "--- 2 ---\n"
     ]
    },
    {
     "name": "stderr",
     "output_type": "stream",
     "text": [
      "\r",
      " 77%|███████▋  | 23/30 [44:47<12:40, 108.58s/it]"
     ]
    },
    {
     "name": "stdout",
     "output_type": "stream",
     "text": [
      "Scraping CIK 731766\n",
      "--- 0 ---\n",
      "https://www.sec.gov/cgi-bin/browse-edgar?action=getcompany&CIK=0000731766&type=8-K%25&dateb=&owner=include&start=40&count=40\n",
      "--- 1 ---\n",
      "https://www.sec.gov/cgi-bin/browse-edgar?action=getcompany&CIK=0000731766&type=8-K%25&dateb=&owner=include&start=80&count=40\n",
      "--- 2 ---\n",
      "https://www.sec.gov/cgi-bin/browse-edgar?action=getcompany&CIK=0000731766&type=8-K%25&dateb=&owner=include&start=120&count=40\n",
      "--- 3 ---\n",
      "https://www.sec.gov/cgi-bin/browse-edgar?action=getcompany&CIK=0000731766&type=8-K%25&dateb=&owner=include&start=160&count=40\n",
      "--- 4 ---\n"
     ]
    },
    {
     "name": "stderr",
     "output_type": "stream",
     "text": [
      "\r",
      " 80%|████████  | 24/30 [46:58<11:32, 115.48s/it]"
     ]
    },
    {
     "name": "stdout",
     "output_type": "stream",
     "text": [
      "Scraping CIK 101829\n",
      "--- 0 ---\n",
      "https://www.sec.gov/cgi-bin/browse-edgar?action=getcompany&CIK=0000101829&type=8-K%25&dateb=&owner=include&start=40&count=40\n",
      "--- 1 ---\n",
      "https://www.sec.gov/cgi-bin/browse-edgar?action=getcompany&CIK=0000101829&type=8-K%25&dateb=&owner=include&start=80&count=40\n",
      "--- 2 ---\n",
      "https://www.sec.gov/cgi-bin/browse-edgar?action=getcompany&CIK=0000101829&type=8-K%25&dateb=&owner=include&start=120&count=40\n",
      "--- 3 ---\n"
     ]
    },
    {
     "name": "stderr",
     "output_type": "stream",
     "text": [
      "\r",
      " 83%|████████▎ | 25/30 [48:51<09:33, 114.74s/it]"
     ]
    },
    {
     "name": "stdout",
     "output_type": "stream",
     "text": [
      "Scraping CIK 732712\n",
      "--- 0 ---\n",
      "https://www.sec.gov/cgi-bin/browse-edgar?action=getcompany&CIK=0000732712&type=8-K%25&dateb=&owner=include&start=40&count=40\n",
      "--- 1 ---\n",
      "https://www.sec.gov/cgi-bin/browse-edgar?action=getcompany&CIK=0000732712&type=8-K%25&dateb=&owner=include&start=80&count=40\n",
      "--- 2 ---\n",
      "https://www.sec.gov/cgi-bin/browse-edgar?action=getcompany&CIK=0000732712&type=8-K%25&dateb=&owner=include&start=120&count=40\n",
      "--- 3 ---\n",
      "https://www.sec.gov/cgi-bin/browse-edgar?action=getcompany&CIK=0000732712&type=8-K%25&dateb=&owner=include&start=160&count=40\n",
      "--- 4 ---\n",
      "https://www.sec.gov/cgi-bin/browse-edgar?action=getcompany&CIK=0000732712&type=8-K%25&dateb=&owner=include&start=200&count=40\n",
      "--- 5 ---\n"
     ]
    },
    {
     "name": "stderr",
     "output_type": "stream",
     "text": [
      "\r",
      " 87%|████████▋ | 26/30 [51:09<08:06, 121.53s/it]"
     ]
    },
    {
     "name": "stdout",
     "output_type": "stream",
     "text": [
      "Scraping CIK 1403161\n",
      "--- 0 ---\n",
      "https://www.sec.gov/cgi-bin/browse-edgar?action=getcompany&CIK=0001403161&type=8-K%25&dateb=&owner=include&start=40&count=40\n",
      "--- 1 ---\n",
      "https://www.sec.gov/cgi-bin/browse-edgar?action=getcompany&CIK=0001403161&type=8-K%25&dateb=&owner=include&start=80&count=40\n",
      "--- 2 ---\n",
      "https://www.sec.gov/cgi-bin/browse-edgar?action=getcompany&CIK=0001403161&type=8-K%25&dateb=&owner=include&start=120&count=40\n",
      "--- 3 ---\n",
      "https://www.sec.gov/cgi-bin/browse-edgar?action=getcompany&CIK=0001403161&type=8-K%25&dateb=&owner=include&start=160&count=40\n",
      "--- 4 ---\n"
     ]
    },
    {
     "name": "stderr",
     "output_type": "stream",
     "text": [
      "\r",
      " 90%|█████████ | 27/30 [52:58<05:53, 117.73s/it]"
     ]
    },
    {
     "name": "stdout",
     "output_type": "stream",
     "text": [
      "Scraping CIK 104169\n",
      "--- 0 ---\n",
      "https://www.sec.gov/cgi-bin/browse-edgar?action=getcompany&CIK=0000104169&type=8-K%25&dateb=&owner=include&start=40&count=40\n",
      "--- 1 ---\n",
      "https://www.sec.gov/cgi-bin/browse-edgar?action=getcompany&CIK=0000104169&type=8-K%25&dateb=&owner=include&start=80&count=40\n",
      "--- 2 ---\n",
      "https://www.sec.gov/cgi-bin/browse-edgar?action=getcompany&CIK=0000104169&type=8-K%25&dateb=&owner=include&start=120&count=40\n",
      "--- 3 ---\n"
     ]
    },
    {
     "name": "stderr",
     "output_type": "stream",
     "text": [
      "\r",
      " 93%|█████████▎| 28/30 [54:07<03:26, 103.23s/it]"
     ]
    },
    {
     "name": "stdout",
     "output_type": "stream",
     "text": [
      "Scraping CIK 1618921\n",
      "--- 0 ---\n",
      "https://www.sec.gov/cgi-bin/browse-edgar?action=getcompany&CIK=0001618921&type=8-K%25&dateb=&owner=include&start=40&count=40\n",
      "--- 1 ---\n",
      "https://www.sec.gov/cgi-bin/browse-edgar?action=getcompany&CIK=0001618921&type=8-K%25&dateb=&owner=include&start=80&count=40\n",
      "--- 2 ---\n"
     ]
    },
    {
     "name": "stderr",
     "output_type": "stream",
     "text": [
      "\r",
      " 97%|█████████▋| 29/30 [54:58<01:27, 87.69s/it] "
     ]
    },
    {
     "name": "stdout",
     "output_type": "stream",
     "text": [
      "Scraping CIK 1001039\n",
      "--- 0 ---\n",
      "https://www.sec.gov/cgi-bin/browse-edgar?action=getcompany&CIK=0001001039&type=8-K%25&dateb=&owner=include&start=40&count=40\n",
      "--- 1 ---\n",
      "https://www.sec.gov/cgi-bin/browse-edgar?action=getcompany&CIK=0001001039&type=8-K%25&dateb=&owner=include&start=80&count=40\n",
      "--- 2 ---\n",
      "https://www.sec.gov/cgi-bin/browse-edgar?action=getcompany&CIK=0001001039&type=8-K%25&dateb=&owner=include&start=120&count=40\n",
      "--- 3 ---\n"
     ]
    },
    {
     "name": "stderr",
     "output_type": "stream",
     "text": [
      "100%|██████████| 30/30 [56:15<00:00, 112.51s/it]\n"
     ]
    }
   ],
   "source": [
    "# Run the function to scrape 8-K Document Tables\n",
    "\n",
    "# Define parameters\n",
    "browse_url_base_8k_doc_table = 'https://www.sec.gov/cgi-bin/browse-edgar?action=getcompany&CIK=%s&type=8-K'\n",
    "filing_url_base_8k_doc_table = 'http://www.sec.gov/Archives/edgar/data/%s/%s-index.html'\n",
    "doc_url_base_8k_doc_table = 'http://www.sec.gov/Archives/edgar/data/%s/%s/%s'\n",
    "\n",
    "# Set correct directory\n",
    "os.chdir(pathname_8k_doc_table)\n",
    "\n",
    "# Initialize log file\n",
    "# (log file name = the time we initiate scraping session)\n",
    "time = strftime(\"%Y-%m-%d %Hh%Mm%Ss\", gmtime())\n",
    "log_file_name = 'log '+time+'.txt'\n",
    "with open(log_file_name, 'a') as log_file:\n",
    "    log_file.close()\n",
    "\n",
    "# Iterate over CIKs and scrape 10-Ks\n",
    "for cik in tqdm(cik_df.CIK):\n",
    "    Scrape8K_doc_table(browse_url_base=browse_url_base_8k_doc_table, \n",
    "          filing_url_base=filing_url_base_8k_doc_table, \n",
    "          doc_url_base=doc_url_base_8k_doc_table, \n",
    "          cik=cik,\n",
    "          log_file_name=log_file_name)"
   ]
  },
  {
   "cell_type": "code",
   "execution_count": null,
   "metadata": {},
   "outputs": [],
   "source": []
  }
 ],
 "metadata": {
  "kernelspec": {
   "display_name": "Python 3",
   "language": "python",
   "name": "python3"
  },
  "language_info": {
   "codemirror_mode": {
    "name": "ipython",
    "version": 3
   },
   "file_extension": ".py",
   "mimetype": "text/x-python",
   "name": "python",
   "nbconvert_exporter": "python",
   "pygments_lexer": "ipython3",
   "version": "3.6.4"
  }
 },
 "nbformat": 4,
 "nbformat_minor": 2
}
