{
 "cells": [
  {
   "cell_type": "markdown",
   "metadata": {},
   "source": [
    "# IMPORTANT PLEASE NOTE\n",
    "__!!! THIS NOTEBOOK IS NOT EXECUTABLE LOCALLY !!!__\n",
    "\n",
    "This notebook concatenates all predictions, technical and seasonality indicators to form the dataset for the metalearner. \n",
    "It is an OFFLINE version of our notebook which is hosted on Colab. We automated the process of reading individual files from Google Drive. Thus, it is NOT SUITABLE to be ran locally.\n",
    "\n",
    "Please contact any members of the team for clarification. Thank you."
   ]
  },
  {
   "cell_type": "code",
   "execution_count": 0,
   "metadata": {
    "colab": {},
    "colab_type": "code",
    "id": "LhLoqVq27pXE"
   },
   "outputs": [],
   "source": [
    "import pandas as pd\n",
    "import numpy as np\n",
    "\n",
    "from pydrive.auth import GoogleAuth \n",
    "from pydrive.drive import GoogleDrive\n",
    "from google.colab import auth\n",
    "from oauth2client.client import GoogleCredentials"
   ]
  },
  {
   "cell_type": "code",
   "execution_count": 0,
   "metadata": {
    "colab": {},
    "colab_type": "code",
    "id": "2EnJ0-PdHrnN"
   },
   "outputs": [],
   "source": [
    "# !ls /content/drive/My\\ Drive/BT4222/Predictions/"
   ]
  },
  {
   "cell_type": "markdown",
   "metadata": {
    "colab_type": "text",
    "id": "H_yLaz6Smah0"
   },
   "source": [
    "# Load Individual Datasets"
   ]
  },
  {
   "cell_type": "code",
   "execution_count": 0,
   "metadata": {
    "colab": {},
    "colab_type": "code",
    "id": "QOf0fO71MpVy"
   },
   "outputs": [],
   "source": [
    "auth.authenticate_user()\n",
    "gauth = GoogleAuth()\n",
    "gauth.credentials = GoogleCredentials.get_application_default()\n",
    "drive = GoogleDrive(gauth)"
   ]
  },
  {
   "cell_type": "code",
   "execution_count": 0,
   "metadata": {
    "colab": {},
    "colab_type": "code",
    "id": "3z3-2JtSLaru"
   },
   "outputs": [],
   "source": [
    "def get_concatenated_datasets(source_train, source_test, id):\n",
    "    file_dir = id + \" in parents and trashed=false\"\n",
    "    #   file_list = drive.ListFile({'q': file_dir}).GetList()\n",
    "    print(\"'%s' in parents and trashed=false\" % id)\n",
    "    print(file_dir)\n",
    "    file_list = drive.ListFile({'q': \"'%s' in parents and trashed=false\" % id}).GetList()\n",
    "    for file1 in file_list:\n",
    "        print('title: %s, id: %s' % (file1['title'], file1['id']))\n",
    "        name_file = file1['title'].replace('.', '_')\n",
    "        data_downloaded = drive.CreateFile({'id': file1['id']})\n",
    "        data_downloaded.GetContentFile(name_file)\n",
    "        data = pd.read_csv(name_file)\n",
    "        print(data.columns)\n",
    "        name_ = name_file.split('_')\n",
    "        print(name_)\n",
    "        if name_[1] == 'train':\n",
    "            data['Ticker'] = name_[0]\n",
    "            data['Predictions'] = data[name_[0]]\n",
    "            del data[name_[0]]\n",
    "            #print(data.head())\n",
    "            frames = [source_train, data]\n",
    "            source_train = pd.concat(frames, sort=False)\n",
    "        if name_[1] == 'test':\n",
    "            data['Ticker'] = name_[0]\n",
    "            data['Predictions'] = data[name_[0]]\n",
    "            del data[name_[0]]\n",
    "            #print(data.head())\n",
    "            frames = [source_test, data]\n",
    "            source_test = pd.concat(frames, sort=False)\n",
    "    return source_train, source_test\n"
   ]
  },
  {
   "cell_type": "markdown",
   "metadata": {
    "colab_type": "text",
    "id": "C7i0WZLJmfsx"
   },
   "source": [
    "# Read all 5 sources"
   ]
  },
  {
   "cell_type": "code",
   "execution_count": 0,
   "metadata": {
    "colab": {
     "base_uri": "https://localhost:8080/",
     "height": 1000
    },
    "colab_type": "code",
    "id": "6vCeZU6jHtNK",
    "outputId": "941761c8-dc6e-4611-84bc-65a6de3ead42"
   },
   "outputs": [
    {
     "name": "stdout",
     "output_type": "stream",
     "text": [
      "'1SP05u1lc8T1ujaDcKJUJ1OFnvHsuK3cz' in parents and trashed=false\n",
      "1SP05u1lc8T1ujaDcKJUJ1OFnvHsuK3cz in parents and trashed=false\n",
      "title: CAT_test_8K.csv, id: 1ABGgOMhZsjVL1uAXhcmw5GiqEzYXUO0m\n",
      "Index(['Date', 'CAT'], dtype='object')\n",
      "['CAT', 'test', '8K', 'csv']\n",
      "title: MRK_test_8K.csv, id: 16nxb5l2QaGx8KMohlxbNUITcNQaX-mnh\n",
      "Index(['Date', 'MRK'], dtype='object')\n",
      "['MRK', 'test', '8K', 'csv']\n",
      "title: PFE_test_8K.csv, id: 1bF4fq-2Ztb9HzPcGXeW2_YfGfNsb2dfe\n",
      "Index(['Date', 'PFE'], dtype='object')\n",
      "['PFE', 'test', '8K', 'csv']\n",
      "title: CAT_train_8K.csv, id: 15nemJLW0f4WEMyMS2D9rrjl34tJznkKG\n",
      "Index(['Date', 'CAT'], dtype='object')\n",
      "['CAT', 'train', '8K', 'csv']\n",
      "title: JPM_train_8K.csv, id: 1Hjy_OUk-byp72F4SWhmP7lN-iPM4LA6d\n",
      "Index(['Date', 'JPM'], dtype='object')\n",
      "['JPM', 'train', '8K', 'csv']\n",
      "title: MSFT_train_8K.csv, id: 1Re_Pv9ed6D0ubF1FRCu2sPg_mVQLU01F\n",
      "Index(['Date', 'MSFT'], dtype='object')\n",
      "['MSFT', 'train', '8K', 'csv']\n",
      "title: PG_test_8K.csv, id: 11YMNTnEGZn1orjovyVy2bEWws1NrZ3SD\n",
      "Index(['Date', 'PG'], dtype='object')\n",
      "['PG', 'test', '8K', 'csv']\n",
      "title: AXP_train_8K.csv, id: 1SBOouZWdsxe7Cpy3riMb1aHaxAdQaMlG\n",
      "Index(['Date', 'AXP'], dtype='object')\n",
      "['AXP', 'train', '8K', 'csv']\n",
      "title: AAPL_train_8K.csv, id: 1JoZhJdlQbyT_PPw8rOeriJzSsMqZ4TmI\n",
      "Index(['Date', 'AAPL'], dtype='object')\n",
      "['AAPL', 'train', '8K', 'csv']\n",
      "title: MCD_train_8K.csv, id: 1piyx_5_rUywt4ijFOJm-4LPof1L287kA\n",
      "Index(['Date', 'MCD'], dtype='object')\n",
      "['MCD', 'train', '8K', 'csv']\n",
      "title: BA_test_8K.csv, id: 1RdUoUaGgIsqwa9Og4nmHWZ01muyPeK4E\n",
      "Index(['Date', 'BA'], dtype='object')\n",
      "['BA', 'test', '8K', 'csv']\n",
      "title: IBM_train_8K.csv, id: 1-TYSy0uK7vG1mX_TeyTevhYGVnJlhziY\n",
      "Index(['Date', 'IBM'], dtype='object')\n",
      "['IBM', 'train', '8K', 'csv']\n",
      "title: KO_test_8K.csv, id: 1dPBGkk_XW9kDfvrn441WXm2ZDPlhH8M_\n",
      "Index(['Date', 'KO'], dtype='object')\n",
      "['KO', 'test', '8K', 'csv']\n",
      "title: VZ_train_8K.csv, id: 1VtwmBBZ6OhrPZ98vcgIBwmQz4wmBnV_a\n",
      "Index(['Date', 'VZ'], dtype='object')\n",
      "['VZ', 'train', '8K', 'csv']\n",
      "title: CSCO_train_8K.csv, id: 1qld-pGbu-WJtkUmTkoAMW1cmuaHtbwIY\n",
      "Index(['Date', 'CSCO'], dtype='object')\n",
      "['CSCO', 'train', '8K', 'csv']\n",
      "title: HD_test_8K.csv, id: 1FDzS9LwbVVl8mY58cbEdyegpu6nhqcxK\n",
      "Index(['Date', 'HD'], dtype='object')\n",
      "['HD', 'test', '8K', 'csv']\n",
      "title: DIS_test_8K.csv, id: 1EhrPm_Dqb9k1y5Pj_6o8qWbI3ZyH2mf8\n",
      "Index(['Date', 'DIS'], dtype='object')\n",
      "['DIS', 'test', '8K', 'csv']\n",
      "title: PFE_train_8K.csv, id: 1ZzBFq_RS_baz2mqVSY94_ybxCBWYWP0R\n",
      "Index(['Date', 'PFE'], dtype='object')\n",
      "['PFE', 'train', '8K', 'csv']\n",
      "title: UTX_test_8K.csv, id: 1hSZG_kXtisJCrY-e_1Qrh63eYfTXKJvr\n",
      "Index(['Date', 'UTX'], dtype='object')\n",
      "['UTX', 'test', '8K', 'csv']\n",
      "title: WMT_train_8K.csv, id: 1ipV_wXS80QszLL_Wn2h5R19OLS1AFJte\n",
      "Index(['Date', 'WMT'], dtype='object')\n",
      "['WMT', 'train', '8K', 'csv']\n",
      "title: AXP_test_8K.csv, id: 148g4h71hOLpUuOawlny81ogSrc1cFKK4\n",
      "Index(['Date', 'AXP'], dtype='object')\n",
      "['AXP', 'test', '8K', 'csv']\n",
      "title: JNJ_test_8K.csv, id: 1IUE1bJ3olYoYcdafVQhlAmwS0GeC1RDJ\n",
      "Index(['Date', 'JNJ'], dtype='object')\n",
      "['JNJ', 'test', '8K', 'csv']\n",
      "title: TRV_test_8K.csv, id: 1kDkvWy3IoLK-n1fi-BDseZMsHTAIjTZm\n",
      "Index(['Date', 'TRV'], dtype='object')\n",
      "['TRV', 'test', '8K', 'csv']\n",
      "title: MMM_test_8K.csv, id: 15qcaWElUnEv2LLcrmwapMVfL0XbeLVoP\n",
      "Index(['Date', 'MMM'], dtype='object')\n",
      "['MMM', 'test', '8K', 'csv']\n",
      "title: GS_test_8K.csv, id: 1QhQ6azjs2VRJXV6HbWf7cgcUBPWjqfoO\n",
      "Index(['Date', 'GS'], dtype='object')\n",
      "['GS', 'test', '8K', 'csv']\n",
      "title: CSCO_test_8K.csv, id: 1Ho9PcjLtGzQaXEkZCg51D-PGi6kGXOiD\n",
      "Index(['Date', 'CSCO'], dtype='object')\n",
      "['CSCO', 'test', '8K', 'csv']\n",
      "title: KO_train_8K.csv, id: 1AVWHSG_RGClizfqbuyfUh0j3_v265EKk\n",
      "Index(['Date', 'KO'], dtype='object')\n",
      "['KO', 'train', '8K', 'csv']\n",
      "title: MMM_train_8K.csv, id: 1KKaou4q79-O5k1667cbrxcHEJi2q4Ujd\n",
      "Index(['Date', 'MMM'], dtype='object')\n",
      "['MMM', 'train', '8K', 'csv']\n",
      "title: NKE_train_8K.csv, id: 1tc5Kzdhim81ogHAu1GGjJkPQG6UtX9K6\n",
      "Index(['Date', 'NKE'], dtype='object')\n",
      "['NKE', 'train', '8K', 'csv']\n",
      "title: PG_train_8K.csv, id: 1bMKv0yxsrPiN3pc54ulo2a41V7nSXBZc\n",
      "Index(['Date', 'PG'], dtype='object')\n",
      "['PG', 'train', '8K', 'csv']\n",
      "title: V_test_8K.csv, id: 1EekD5Uo6zkHqTqB8dy3NEqqoFtESIXIz\n",
      "Index(['Date', 'V'], dtype='object')\n",
      "['V', 'test', '8K', 'csv']\n",
      "title: XOM_train_8K.csv, id: 1Y4IV4UTxXDfK6cTBdZvu0fg3hL0oyLQA\n",
      "Index(['Date', 'XOM'], dtype='object')\n",
      "['XOM', 'train', '8K', 'csv']\n",
      "title: XOM_test_8K.csv, id: 1KzxtB0LY26wg6fnG5bdKlQ4S9VBEMWJt\n",
      "Index(['Date', 'XOM'], dtype='object')\n",
      "['XOM', 'test', '8K', 'csv']\n",
      "title: DIS_train_8K.csv, id: 19zuy2AYwvDMVkgopnSlS9Ld0gwLlYbMX\n",
      "Index(['Date', 'DIS'], dtype='object')\n",
      "['DIS', 'train', '8K', 'csv']\n",
      "title: BA_train_8K.csv, id: 1Luwri18v-zV4DRdJ_K8CSRQPxVkIiXgG\n",
      "Index(['Date', 'BA'], dtype='object')\n",
      "['BA', 'train', '8K', 'csv']\n",
      "title: CVX_test_8K.csv, id: 1rfq-xdp-kZqCHMwoBygFyNHpVwmLdEmp\n",
      "Index(['Date', 'CVX'], dtype='object')\n",
      "['CVX', 'test', '8K', 'csv']\n",
      "title: V_train_8K.csv, id: 1EFAqbo_poOE3tQG0yFnwsRCGDnB9IWGk\n",
      "Index(['Date', 'V'], dtype='object')\n",
      "['V', 'train', '8K', 'csv']\n",
      "title: JPM_test_8K.csv, id: 1sHkTu8RIB5ZZJ_oGZRvy3XgK9idNZBI8\n",
      "Index(['Date', 'JPM'], dtype='object')\n",
      "['JPM', 'test', '8K', 'csv']\n",
      "title: TRV_train_8K.csv, id: 1Gt_0Yqm5VwgN3b4S-h-Li2kxnevfZhDJ\n",
      "Index(['Date', 'TRV'], dtype='object')\n",
      "['TRV', 'train', '8K', 'csv']\n",
      "title: CVX_train_8K.csv, id: 1CoxCSHOajX__IZ3kzaVxkYK-MhNMy6pm\n",
      "Index(['Date', 'CVX'], dtype='object')\n",
      "['CVX', 'train', '8K', 'csv']\n",
      "title: WMT_test_8K.csv, id: 1ZZ7KRT0r9SIiWGgJ6ZfwyJOWhpfdmxKv\n",
      "Index(['Date', 'WMT'], dtype='object')\n",
      "['WMT', 'test', '8K', 'csv']\n",
      "title: MSFT_test_8K.csv, id: 1SL5fOF_hzXhhm4cIU7zl4DL5kruulHZl\n",
      "Index(['Date', 'MSFT'], dtype='object')\n",
      "['MSFT', 'test', '8K', 'csv']\n",
      "title: MRK_train_8K.csv, id: 1-8D71Bym0w1nhnx-8adFeQ7odCiq8StN\n",
      "Index(['Date', 'MRK'], dtype='object')\n",
      "['MRK', 'train', '8K', 'csv']\n",
      "title: MCD_test_8K.csv, id: 1vSwY81ZATtAYAcieBuPzRLdZLOhP6Hn1\n",
      "Index(['Date', 'MCD'], dtype='object')\n",
      "['MCD', 'test', '8K', 'csv']\n",
      "title: JNJ_train_8K.csv, id: 1i9ScdBvynfJwAxNuApbaxmE95wyr-qcn\n",
      "Index(['Date', 'JNJ'], dtype='object')\n",
      "['JNJ', 'train', '8K', 'csv']\n",
      "title: UNH_test_8K.csv, id: 1QO_sbhGwhdPnRdlBpzMNAjoUeLotHZbg\n",
      "Index(['Date', 'UNH'], dtype='object')\n",
      "['UNH', 'test', '8K', 'csv']\n",
      "title: HD_train_8K.csv, id: 1dKAW8_N7bQ5eIWD8KQeEXObCg7flrpaI\n",
      "Index(['Date', 'HD'], dtype='object')\n",
      "['HD', 'train', '8K', 'csv']\n",
      "title: VZ_test_8K.csv, id: 1fI7WQgKNnbksbSXI_iAUM5G-fQ0ERKin\n",
      "Index(['Date', 'VZ'], dtype='object')\n",
      "['VZ', 'test', '8K', 'csv']\n",
      "title: INTC_test_8K.csv, id: 15-3ZkmTKs0duBlepE_FCWiLFfJItPksg\n",
      "Index(['Date', 'INTC'], dtype='object')\n",
      "['INTC', 'test', '8K', 'csv']\n",
      "title: NKE_test_8K.csv, id: 1puGQhxFb3emAnvph1zNLD87DflM2VpRe\n",
      "Index(['Date', 'NKE'], dtype='object')\n",
      "['NKE', 'test', '8K', 'csv']\n",
      "title: AAPL_test_8K.csv, id: 1TT8bk3oJKp9gpTaXak7WF_9WPcJy0Jk6\n",
      "Index(['Date', 'AAPL'], dtype='object')\n",
      "['AAPL', 'test', '8K', 'csv']\n",
      "title: INTC_train_8K.csv, id: 19xFAWZCXCx6BVB6k8GKvCf6Dh9TUTyu1\n",
      "Index(['Date', 'INTC'], dtype='object')\n",
      "['INTC', 'train', '8K', 'csv']\n",
      "title: UNH_train_8K.csv, id: 1jQD3DZ9nUrMGEteM7xiI_exoQfNDSda8\n",
      "Index(['Date', 'UNH'], dtype='object')\n",
      "['UNH', 'train', '8K', 'csv']\n",
      "title: IBM_test_8K.csv, id: 1A98AayQ6swrccooZceCKdHT8wcbxrVaE\n",
      "Index(['Date', 'IBM'], dtype='object')\n",
      "['IBM', 'test', '8K', 'csv']\n",
      "title: GS_train_8K.csv, id: 1QpW70rH8PhVBImsIbNb-4mlpubZzbJny\n",
      "Index(['Date', 'GS'], dtype='object')\n",
      "['GS', 'train', '8K', 'csv']\n",
      "title: UTX_train_8K.csv, id: 1iG1yJd2uqWCQJigolzLFZM7Eba154Wp1\n",
      "Index(['Date', 'UTX'], dtype='object')\n",
      "['UTX', 'train', '8K', 'csv']\n"
     ]
    }
   ],
   "source": [
    "eightk_train = pd.DataFrame()\n",
    "eightk_train['Ticker'] = ''\n",
    "eightk_train['Date'] = ''\n",
    "eightk_train['Predictions'] = ''\n",
    "eightk_test = pd.DataFrame()\n",
    "eightk_test['Ticker'] = ''\n",
    "eightk_test['Date'] = ''\n",
    "eightk_test['Predictions'] = ''\n",
    "eightk_id = '1SP05u1lc8T1ujaDcKJUJ1OFnvHsuK3cz'\n",
    "eightk_train, eightk_test = get_concatenated_datasets(eightk_train, eightk_test, eightk_id)"
   ]
  },
  {
   "cell_type": "code",
   "execution_count": 0,
   "metadata": {
    "colab": {
     "base_uri": "https://localhost:8080/",
     "height": 1000
    },
    "colab_type": "code",
    "id": "NJAUGwWaIQF3",
    "outputId": "6911a166-a074-4d23-acbd-9ca52ed5b680"
   },
   "outputs": [
    {
     "name": "stdout",
     "output_type": "stream",
     "text": [
      "'13TwWobaM-We3gawq-CgYh7Q-13LajO8h' in parents and trashed=false\n",
      "13TwWobaM-We3gawq-CgYh7Q-13LajO8h in parents and trashed=false\n",
      "title: XOM_test_10k10Q.csv, id: 1VsGy-g-TbOgRmrAmC6gaGhk_fHL4WOba\n",
      "Index(['Date', 'XOM'], dtype='object')\n",
      "['XOM', 'test', '10k10Q', 'csv']\n",
      "title: WMT_test_10k10Q.csv, id: 1GmNRc5UFH_HWmbW2E-GFkmFalmQqUD1e\n",
      "Index(['Date', 'WMT'], dtype='object')\n",
      "['WMT', 'test', '10k10Q', 'csv']\n",
      "title: WMT_train_10k10Q.csv, id: 1-jUz2INE6z1TLX2M_aUC-nENVwT7dfSW\n",
      "Index(['Date', 'WMT'], dtype='object')\n",
      "['WMT', 'train', '10k10Q', 'csv']\n",
      "title: V_train_10k10Q.csv, id: 11HajlD9Kgv4O_7db_zTPS3oRtywBIF7Z\n",
      "Index(['Date', 'V'], dtype='object')\n",
      "['V', 'train', '10k10Q', 'csv']\n",
      "title: XOM_train_10k10Q.csv, id: 1aPgpqYPmxpbLym8NV3QMIhRjZzJzBQOo\n",
      "Index(['Date', 'XOM'], dtype='object')\n",
      "['XOM', 'train', '10k10Q', 'csv']\n",
      "title: V_test_10k10Q.csv, id: 1bQ-F0f-SKzyJb9vEtrgQDdQG5Jq4wvPo\n",
      "Index(['Date', 'V'], dtype='object')\n",
      "['V', 'test', '10k10Q', 'csv']\n",
      "title: VZ_train_10k10Q.csv, id: 1pWdsMLbSqVL4M_tTaqF_8aPavVLYiXOG\n",
      "Index(['Date', 'VZ'], dtype='object')\n",
      "['VZ', 'train', '10k10Q', 'csv']\n",
      "title: UNH_train_10k10Q.csv, id: 1NKoK5xpyECKaf8iNEZ4qUXY9QLPcvy98\n",
      "Index(['Date', 'UNH'], dtype='object')\n",
      "['UNH', 'train', '10k10Q', 'csv']\n",
      "title: UNH_test_10k10Q.csv, id: 1M8AtG49noJnZX6nQCSXUmK7NHwrI_wF4\n",
      "Index(['Date', 'UNH'], dtype='object')\n",
      "['UNH', 'test', '10k10Q', 'csv']\n",
      "title: UTX_test_10k10Q.csv, id: 1fKnawVxUU5Au7EbVvCFMeTttuCsHjcWy\n",
      "Index(['Date', 'UTX'], dtype='object')\n",
      "['UTX', 'test', '10k10Q', 'csv']\n",
      "title: VZ_test_10k10Q.csv, id: 1nmVFd6fe_t-hganDJDSlHnyC6PtusJz9\n",
      "Index(['Date', 'VZ'], dtype='object')\n",
      "['VZ', 'test', '10k10Q', 'csv']\n",
      "title: PFE_test_10k10Q.csv, id: 1KbwJ738sssxjZNrq-JEUqcNBVtOgbfXg\n",
      "Index(['Date', 'PFE'], dtype='object')\n",
      "['PFE', 'test', '10k10Q', 'csv']\n",
      "title: PG_train_10k10Q.csv, id: 12dbs0Mr4AywvqfqphMjvisI6Tc5yUquS\n",
      "Index(['Date', 'PG'], dtype='object')\n",
      "['PG', 'train', '10k10Q', 'csv']\n",
      "title: PG_test_10k10Q.csv, id: 1LUcKBdwx4eRd5Tv-lXARyhDOp0ZEpH2i\n",
      "Index(['Date', 'PG'], dtype='object')\n",
      "['PG', 'test', '10k10Q', 'csv']\n",
      "title: PFE_train_10k10Q.csv, id: 1ymxMe-6PHH48p1D8wUzgTCZ_CI4xCsF4\n",
      "Index(['Date', 'PFE'], dtype='object')\n",
      "['PFE', 'train', '10k10Q', 'csv']\n",
      "title: NKE_train_10k10Q.csv, id: 1jPLj8IecqKjv6_KuINhShnxUMlTCO4Pi\n",
      "Index(['Date', 'NKE'], dtype='object')\n",
      "['NKE', 'train', '10k10Q', 'csv']\n",
      "title: UTX_train_10k10Q.csv, id: 15b-d8WNZaU-apuwo7FriX5pl64rhzvK8\n",
      "Index(['Date', 'UTX'], dtype='object')\n",
      "['UTX', 'train', '10k10Q', 'csv']\n",
      "title: NKE_test_10k10Q.csv, id: 1evs1YfhU3Adl73N9NNYw54n7jjtaQ13t\n",
      "Index(['Date', 'NKE'], dtype='object')\n",
      "['NKE', 'test', '10k10Q', 'csv']\n",
      "title: MRK_train_10k10Q.csv, id: 1COVBJo6pdgfjjmeCOl2cZKiQvdl3RI7W\n",
      "Index(['Date', 'MRK'], dtype='object')\n",
      "['MRK', 'train', '10k10Q', 'csv']\n",
      "title: MRK_test_10k10Q.csv, id: 16Va99oBUDxGMHjWxqPYQz6Y_DFsffQ40\n",
      "Index(['Date', 'MRK'], dtype='object')\n",
      "['MRK', 'test', '10k10Q', 'csv']\n",
      "title: MMM_train_10k10Q.csv, id: 1sz0AS2SmdYcIXdO1bazfR01C0exgt9Kd\n",
      "Index(['Date', 'MMM'], dtype='object')\n",
      "['MMM', 'train', '10k10Q', 'csv']\n",
      "title: MSFT_train_10k10Q.csv, id: 16z7BAYZIlNsMd89QJzc9XK8_2jRPPt6A\n",
      "Index(['Date', 'MSFT'], dtype='object')\n",
      "['MSFT', 'train', '10k10Q', 'csv']\n",
      "title: MSFT_test_10k10Q.csv, id: 1B4vvwv0nJyD_RYzNXACKPTc8FJ9SLpk0\n",
      "Index(['Date', 'MSFT'], dtype='object')\n",
      "['MSFT', 'test', '10k10Q', 'csv']\n",
      "title: MCD_test_10k10Q.csv, id: 1N12LLr5nnfhTuuvl4kZ_ICXlNwQhRZwa\n",
      "Index(['Date', 'MCD'], dtype='object')\n",
      "['MCD', 'test', '10k10Q', 'csv']\n",
      "title: KO_train_10k10Q.csv, id: 10NLeGbUJJPAq6pXmV7bNV4_dIE2KDgQy\n",
      "Index(['Date', 'KO'], dtype='object')\n",
      "['KO', 'train', '10k10Q', 'csv']\n",
      "title: KO_test_10k10Q.csv, id: 1uTmGMsYby-DD6mIwY5gtk8NbTQPv9HiC\n",
      "Index(['Date', 'KO'], dtype='object')\n",
      "['KO', 'test', '10k10Q', 'csv']\n",
      "title: MCD_train_10k10Q.csv, id: 1LFepm2Nw08A6MJrx0KpN-OI4FDLgK-pJ\n",
      "Index(['Date', 'MCD'], dtype='object')\n",
      "['MCD', 'train', '10k10Q', 'csv']\n",
      "title: MMM_test_10k10Q.csv, id: 1tUZtM5x10F2A2iUbLoC8X9PFbqTX4Bnq\n",
      "Index(['Date', 'MMM'], dtype='object')\n",
      "['MMM', 'test', '10k10Q', 'csv']\n",
      "title: JPM_train_10k10Q.csv, id: 1mZd_JfTafhLkJjhPacsX6uWhuZlDCaBL\n",
      "Index(['Date', 'JPM'], dtype='object')\n",
      "['JPM', 'train', '10k10Q', 'csv']\n",
      "title: JPM_test_10k10Q.csv, id: 1GDAVgkGCbcs5aWM2vaCTXpnVWnd5mO24\n",
      "Index(['Date', 'JPM'], dtype='object')\n",
      "['JPM', 'test', '10k10Q', 'csv']\n",
      "title: JNJ_train_10k10Q.csv, id: 1FcbswLdPX-um8tGmZhAEgAll9enSKQPS\n",
      "Index(['Date', 'JNJ'], dtype='object')\n",
      "['JNJ', 'train', '10k10Q', 'csv']\n",
      "title: JNJ_test_10k10Q.csv, id: 1-OyuOjkaKWhj5_5HdLfcqpQgg_gK-Ft7\n",
      "Index(['Date', 'JNJ'], dtype='object')\n",
      "['JNJ', 'test', '10k10Q', 'csv']\n",
      "title: INTC_train_10k10Q.csv, id: 1EqABSLHZdPuSMt20X_AaCVk5n8Uxa2Dq\n",
      "Index(['Date', 'INTC'], dtype='object')\n",
      "['INTC', 'train', '10k10Q', 'csv']\n",
      "title: HD_train_10k10Q.csv, id: 1Z2d3tROj_UMbWzDhzrY4xQTISCT9yTWO\n",
      "Index(['Date', 'HD'], dtype='object')\n",
      "['HD', 'train', '10k10Q', 'csv']\n",
      "title: HD_test_10k10Q.csv, id: 1Q7BQeo3wka2ucMjCmwXCgCSb3kGbWoLe\n",
      "Index(['Date', 'HD'], dtype='object')\n",
      "['HD', 'test', '10k10Q', 'csv']\n",
      "title: IBM_test_10k10Q.csv, id: 1Sywbsz1gYAooGR8IPAOwJzGLG7rhLfFv\n",
      "Index(['Date', 'IBM'], dtype='object')\n",
      "['IBM', 'test', '10k10Q', 'csv']\n",
      "title: IBM_train_10k10Q.csv, id: 1H4AUYXXAlou59pS-3XBTzKhrBIpKDlL6\n",
      "Index(['Date', 'IBM'], dtype='object')\n",
      "['IBM', 'train', '10k10Q', 'csv']\n",
      "title: INTC_test_10k10Q.csv, id: 1OSRkQC6CGKXogETmwcJMl9ll3AGDCf8v\n",
      "Index(['Date', 'INTC'], dtype='object')\n",
      "['INTC', 'test', '10k10Q', 'csv']\n",
      "title: GS_train_10k10Q.csv, id: 1vfOj7EInHH7_dLGSxmAWLHTpHJYYaSir\n",
      "Index(['Date', 'GS'], dtype='object')\n",
      "['GS', 'train', '10k10Q', 'csv']\n",
      "title: GS_test_10k10Q.csv, id: 1Mt-uIBZmgR83G28V-HqEOZu0NDu4-cc-\n",
      "Index(['Date', 'GS'], dtype='object')\n",
      "['GS', 'test', '10k10Q', 'csv']\n",
      "title: CVX_train_10k10Q.csv, id: 1NH0ntV6IVisWbCS_cF6BH8Gn9gXt2sYy\n",
      "Index(['Date', 'CVX'], dtype='object')\n",
      "['CVX', 'train', '10k10Q', 'csv']\n",
      "title: CAT_train_10k10Q.csv, id: 1sICCZiF15ZOCL-s4Obr3-3iuyMsl3urS\n",
      "Index(['Date', 'CAT'], dtype='object')\n",
      "['CAT', 'train', '10k10Q', 'csv']\n",
      "title: AXP_test_10k10Q.csv, id: 1YgzSX9I5tdB0F4t67HqghjqOHnvoUikS\n",
      "Index(['Date', 'AXP'], dtype='object')\n",
      "['AXP', 'test', '10k10Q', 'csv']\n",
      "title: AXP_train_10k10Q.csv, id: 1mX6dVN6TyebaqFJFzWs0uXjVD_kvPsYa\n",
      "Index(['Date', 'AXP'], dtype='object')\n",
      "['AXP', 'train', '10k10Q', 'csv']\n",
      "title: BA_train_10k10Q.csv, id: 1io9SM9zuHo60gFK07o7Hy9A44O383dQQ\n",
      "Index(['Date', 'BA'], dtype='object')\n",
      "['BA', 'train', '10k10Q', 'csv']\n",
      "title: BA_test_10k10Q.csv, id: 1W0UNd1Wg96LDZmnYtX6gNBapYC7vMn1l\n",
      "Index(['Date', 'BA'], dtype='object')\n",
      "['BA', 'test', '10k10Q', 'csv']\n",
      "title: CAT_test_10k10Q.csv, id: 19uuRkyxUFR1OIgMqc_YSK4f4gsmZVCPa\n",
      "Index(['Date', 'CAT'], dtype='object')\n",
      "['CAT', 'test', '10k10Q', 'csv']\n",
      "title: AAPL_train_10k10Q.csv, id: 1RpqIdcG7_mswCL6X8KZtRSL_KTkxDMKM\n",
      "Index(['Date', 'AAPL'], dtype='object')\n",
      "['AAPL', 'train', '10k10Q', 'csv']\n",
      "title: CSCO_test_10k10Q.csv, id: 1Jg115jhsP8luaRrK67bhCitIW3wS5OuU\n",
      "Index(['Date', 'CSCO'], dtype='object')\n",
      "['CSCO', 'test', '10k10Q', 'csv']\n",
      "title: CVX_test_10k10Q.csv, id: 1XsPYuHYi4gHghouclzzm0fGJ_x_Dljxi\n",
      "Index(['Date', 'CVX'], dtype='object')\n",
      "['CVX', 'test', '10k10Q', 'csv']\n",
      "title: CSCO_train_10k10Q.csv, id: 1HQd9n8bgvnB_3DWk7ZfyJnHCAfV6iuMT\n",
      "Index(['Date', 'CSCO'], dtype='object')\n",
      "['CSCO', 'train', '10k10Q', 'csv']\n",
      "title: AAPL_test_10k10Q.csv, id: 1HVaswF2OjLS-MVjFZ_X2Pj7KNOwiMOK4\n",
      "Index(['Date', 'AAPL'], dtype='object')\n",
      "['AAPL', 'test', '10k10Q', 'csv']\n"
     ]
    }
   ],
   "source": [
    "tenKQ_train = pd.DataFrame()\n",
    "tenKQ_train['Ticker'] = ''\n",
    "tenKQ_train['Date'] = ''\n",
    "tenKQ_train['Predictions'] = ''\n",
    "tenKQ_test = pd.DataFrame()\n",
    "tenKQ_test['Ticker'] = ''\n",
    "tenKQ_test['Date'] = ''\n",
    "tenKQ_test['Predictions'] = ''\n",
    "tenKQ_id = '13TwWobaM-We3gawq-CgYh7Q-13LajO8h'\n",
    "tenKQ_train, tenKQ_test = get_concatenated_datasets(tenKQ_train, tenKQ_test, tenKQ_id)"
   ]
  },
  {
   "cell_type": "code",
   "execution_count": 0,
   "metadata": {
    "colab": {
     "base_uri": "https://localhost:8080/",
     "height": 419
    },
    "colab_type": "code",
    "id": "NWUZcOIj1Pfg",
    "outputId": "96fdb0e3-52be-4f81-b990-69a0c205e987"
   },
   "outputs": [
    {
     "data": {
      "text/html": [
       "<div>\n",
       "<style scoped>\n",
       "    .dataframe tbody tr th:only-of-type {\n",
       "        vertical-align: middle;\n",
       "    }\n",
       "\n",
       "    .dataframe tbody tr th {\n",
       "        vertical-align: top;\n",
       "    }\n",
       "\n",
       "    .dataframe thead th {\n",
       "        text-align: right;\n",
       "    }\n",
       "</style>\n",
       "<table border=\"1\" class=\"dataframe\">\n",
       "  <thead>\n",
       "    <tr style=\"text-align: right;\">\n",
       "      <th></th>\n",
       "      <th>Ticker</th>\n",
       "      <th>Date</th>\n",
       "      <th>Predictions</th>\n",
       "    </tr>\n",
       "  </thead>\n",
       "  <tbody>\n",
       "    <tr>\n",
       "      <th>0</th>\n",
       "      <td>AAPL</td>\n",
       "      <td>2010-01-25</td>\n",
       "      <td>1.0</td>\n",
       "    </tr>\n",
       "    <tr>\n",
       "      <th>1</th>\n",
       "      <td>AAPL</td>\n",
       "      <td>2010-01-26</td>\n",
       "      <td>1.0</td>\n",
       "    </tr>\n",
       "    <tr>\n",
       "      <th>2</th>\n",
       "      <td>AAPL</td>\n",
       "      <td>2010-01-27</td>\n",
       "      <td>1.0</td>\n",
       "    </tr>\n",
       "    <tr>\n",
       "      <th>3</th>\n",
       "      <td>AAPL</td>\n",
       "      <td>2010-01-28</td>\n",
       "      <td>1.0</td>\n",
       "    </tr>\n",
       "    <tr>\n",
       "      <th>4</th>\n",
       "      <td>AAPL</td>\n",
       "      <td>2010-01-29</td>\n",
       "      <td>1.0</td>\n",
       "    </tr>\n",
       "    <tr>\n",
       "      <th>...</th>\n",
       "      <td>...</td>\n",
       "      <td>...</td>\n",
       "      <td>...</td>\n",
       "    </tr>\n",
       "    <tr>\n",
       "      <th>2065</th>\n",
       "      <td>AAPL</td>\n",
       "      <td>2017-12-25</td>\n",
       "      <td>-1.0</td>\n",
       "    </tr>\n",
       "    <tr>\n",
       "      <th>2066</th>\n",
       "      <td>AAPL</td>\n",
       "      <td>2017-12-26</td>\n",
       "      <td>-1.0</td>\n",
       "    </tr>\n",
       "    <tr>\n",
       "      <th>2067</th>\n",
       "      <td>AAPL</td>\n",
       "      <td>2017-12-27</td>\n",
       "      <td>-1.0</td>\n",
       "    </tr>\n",
       "    <tr>\n",
       "      <th>2068</th>\n",
       "      <td>AAPL</td>\n",
       "      <td>2017-12-28</td>\n",
       "      <td>-1.0</td>\n",
       "    </tr>\n",
       "    <tr>\n",
       "      <th>2069</th>\n",
       "      <td>AAPL</td>\n",
       "      <td>2017-12-29</td>\n",
       "      <td>-1.0</td>\n",
       "    </tr>\n",
       "  </tbody>\n",
       "</table>\n",
       "<p>2070 rows × 3 columns</p>\n",
       "</div>"
      ],
      "text/plain": [
       "     Ticker        Date  Predictions\n",
       "0      AAPL  2010-01-25          1.0\n",
       "1      AAPL  2010-01-26          1.0\n",
       "2      AAPL  2010-01-27          1.0\n",
       "3      AAPL  2010-01-28          1.0\n",
       "4      AAPL  2010-01-29          1.0\n",
       "...     ...         ...          ...\n",
       "2065   AAPL  2017-12-25         -1.0\n",
       "2066   AAPL  2017-12-26         -1.0\n",
       "2067   AAPL  2017-12-27         -1.0\n",
       "2068   AAPL  2017-12-28         -1.0\n",
       "2069   AAPL  2017-12-29         -1.0\n",
       "\n",
       "[2070 rows x 3 columns]"
      ]
     },
     "execution_count": 8,
     "metadata": {
      "tags": []
     },
     "output_type": "execute_result"
    }
   ],
   "source": [
    "tenKQ_train[tenKQ_train['Ticker'] == 'AAPL']"
   ]
  },
  {
   "cell_type": "code",
   "execution_count": 0,
   "metadata": {
    "colab": {
     "base_uri": "https://localhost:8080/",
     "height": 1000
    },
    "colab_type": "code",
    "id": "yysI63FxISKL",
    "outputId": "e5fd55f0-88d1-448b-d3d9-4d2a82dbf55e"
   },
   "outputs": [
    {
     "name": "stdout",
     "output_type": "stream",
     "text": [
      "'1kLvg_sdGXHeZRStP7kh5WkZFiuh-d4z9' in parents and trashed=false\n",
      "1kLvg_sdGXHeZRStP7kh5WkZFiuh-d4z9 in parents and trashed=false\n",
      "title: AAPL_train.csv, id: 1hEcjV8Q7OgD8rzX3mwIdT1tn_xNWEFDG\n",
      "Index(['Date', 'AAPL'], dtype='object')\n",
      "['AAPL', 'train', 'csv']\n",
      "title: WMT_train.csv, id: 1HV17GntGWM4BcrOTF0jGbRsJBqNctMHD\n",
      "Index(['Date', 'WMT'], dtype='object')\n",
      "['WMT', 'train', 'csv']\n",
      "title: XOM_train.csv, id: 1CdkA1YDVFVb8VN-D_bidCiQC_4DRjqWi\n",
      "Index(['Date', 'XOM'], dtype='object')\n",
      "['XOM', 'train', 'csv']\n",
      "title: AAPL_test.csv, id: 1TTIKa69xq19g1-nVb_5iGrPRtgO5jeqK\n",
      "Index(['Date', 'AAPL'], dtype='object')\n",
      "['AAPL', 'test', 'csv']\n",
      "title: AXP_test.csv, id: 1WOb7k2Em_9MwKuP-ZiWxmJrvZChDETAO\n",
      "Index(['Date', 'AXP'], dtype='object')\n",
      "['AXP', 'test', 'csv']\n",
      "title: XOM_test.csv, id: 1sgeG0BXPm3kNcrvdSa2IwVR901pCQCSz\n",
      "Index(['Date', 'XOM'], dtype='object')\n",
      "['XOM', 'test', 'csv']\n",
      "title: WMT_test.csv, id: 1ydTSHFyKDMYgzfv0nPnBlvCabVtzxDS2\n",
      "Index(['Date', 'WMT'], dtype='object')\n",
      "['WMT', 'test', 'csv']\n",
      "title: WBA_train.csv, id: 1cYSg9_Y9G3p_QDl0bF7AieRFydNFhV2g\n",
      "Index(['Date', 'WBA'], dtype='object')\n",
      "['WBA', 'train', 'csv']\n",
      "title: VZ_train.csv, id: 1sOO-_WsgS_U8eNqMimVndO_Q-FOC-BQj\n",
      "Index(['Date', 'VZ'], dtype='object')\n",
      "['VZ', 'train', 'csv']\n",
      "title: WBA_test.csv, id: 1bHWMovbVOCij_Mn6Tz4AmEqKacTa4ht3\n",
      "Index(['Date', 'WBA'], dtype='object')\n",
      "['WBA', 'test', 'csv']\n",
      "title: PG_train.csv, id: 1AcWlgL3dwxSwlLjB9Dun9c_JobTyHAwz\n",
      "Index(['Date', 'PG'], dtype='object')\n",
      "['PG', 'train', 'csv']\n",
      "title: V_train.csv, id: 1jJLScb5SWToDysHGVVUFmrboJDDoQHR9\n",
      "Index(['Date', 'V'], dtype='object')\n",
      "['V', 'train', 'csv']\n",
      "title: VZ_test.csv, id: 1upZgXVPf60w61f_E7GmG-pRweDVrsQzC\n",
      "Index(['Date', 'VZ'], dtype='object')\n",
      "['VZ', 'test', 'csv']\n",
      "title: V_test.csv, id: 1I6NISkFyMrySYIxAXXK1B9LfzZOPt8Cb\n",
      "Index(['Date', 'V'], dtype='object')\n",
      "['V', 'test', 'csv']\n",
      "title: UNH_train.csv, id: 19CzxjECJlQZPXSeiJZWF2DIyR_86547R\n",
      "Index(['Date', 'UNH'], dtype='object')\n",
      "['UNH', 'train', 'csv']\n",
      "title: UTX_train.csv, id: 1IfrBIl_AWb3DM1cJPKXX6KqNn-6RblF-\n",
      "Index(['Date', 'UTX'], dtype='object')\n",
      "['UTX', 'train', 'csv']\n",
      "title: UTX_test.csv, id: 1l57r4UGTjKyQObCyUj0jwgGW0eGE09-o\n",
      "Index(['Date', 'UTX'], dtype='object')\n",
      "['UTX', 'test', 'csv']\n",
      "title: UNH_test.csv, id: 1IU340rLz-fQ0Cprq9t6OG2BQRhBMuoVT\n",
      "Index(['Date', 'UNH'], dtype='object')\n",
      "['UNH', 'test', 'csv']\n",
      "title: PG_test.csv, id: 14eWBAojMIbniafxGe-R9G9UFTmkaHitq\n",
      "Index(['Date', 'PG'], dtype='object')\n",
      "['PG', 'test', 'csv']\n",
      "title: PFE_train.csv, id: 1SeRZknCSKmnBSCR1ommQ3YwAmUTrrnWY\n",
      "Index(['Date', 'PFE'], dtype='object')\n",
      "['PFE', 'train', 'csv']\n",
      "title: PFE_test.csv, id: 10pCQnimZd48RZfrAa9Ry7G2lEXfkrvNp\n",
      "Index(['Date', 'PFE'], dtype='object')\n",
      "['PFE', 'test', 'csv']\n",
      "title: NKE_test.csv, id: 1R_AyaWQfyS96y0eMTR2SwXjSJiW6W1Df\n",
      "Index(['Date', 'NKE'], dtype='object')\n",
      "['NKE', 'test', 'csv']\n",
      "title: NKE_train.csv, id: 1uCgk4U_d9roZBXesGFMc-CqqgTIPZpym\n",
      "Index(['Date', 'NKE'], dtype='object')\n",
      "['NKE', 'train', 'csv']\n",
      "title: MSFT_train.csv, id: 175vhDgfBGF16GqtG3_mbX83H613KdWTa\n",
      "Index(['Date', 'MSFT'], dtype='object')\n",
      "['MSFT', 'train', 'csv']\n",
      "title: MSFT_test.csv, id: 1V6Xt_wFP-UqPGvT1_ct_Epk4ivoL7JgY\n",
      "Index(['Date', 'MSFT'], dtype='object')\n",
      "['MSFT', 'test', 'csv']\n",
      "title: MMM_train.csv, id: 1nQpb5Y_eSdj1qg8JOhLdUpnHXoeKIET6\n",
      "Index(['Date', 'MMM'], dtype='object')\n",
      "['MMM', 'train', 'csv']\n",
      "title: MRK_test.csv, id: 1nriynobi2pdhyCuS_5kkDJc0ANJJziHc\n",
      "Index(['Date', 'MRK'], dtype='object')\n",
      "['MRK', 'test', 'csv']\n",
      "title: MRK_train.csv, id: 1UdaGrxVLJJpZLCHbyGUwW9NBXdaIx6tD\n",
      "Index(['Date', 'MRK'], dtype='object')\n",
      "['MRK', 'train', 'csv']\n",
      "title: MMM_test.csv, id: 1_X4teFa2kCd-K2NgDI3CU7Zt6C8n_hfV\n",
      "Index(['Date', 'MMM'], dtype='object')\n",
      "['MMM', 'test', 'csv']\n",
      "title: MCD_train.csv, id: 1YlaRoFNd6vwEvXZIsOK2EF3-vX-XrFXS\n",
      "Index(['Date', 'MCD'], dtype='object')\n",
      "['MCD', 'train', 'csv']\n",
      "title: MCD_test.csv, id: 14vL_TynkdLeGHgBug7Am7Y-rA9inGTU8\n",
      "Index(['Date', 'MCD'], dtype='object')\n",
      "['MCD', 'test', 'csv']\n",
      "title: JPM_train.csv, id: 1ZpqMn9Tk87GIQIjHQuekZqJCF8WpNXYz\n",
      "Index(['Date', 'JPM'], dtype='object')\n",
      "['JPM', 'train', 'csv']\n",
      "title: KO_train.csv, id: 1pesxtYTxgwNqEHnxvU5vbaUHCpfCcHR_\n",
      "Index(['Date', 'KO'], dtype='object')\n",
      "['KO', 'train', 'csv']\n",
      "title: KO_test.csv, id: 1CEPwTOHHcUrCDSxbQvLvc7NNHMXtHd36\n",
      "Index(['Date', 'KO'], dtype='object')\n",
      "['KO', 'test', 'csv']\n",
      "title: INTC_train.csv, id: 1t8oywoBogsEHKwwt5nvFv0JBy3nMlBos\n",
      "Index(['Date', 'INTC'], dtype='object')\n",
      "['INTC', 'train', 'csv']\n",
      "title: JPM_test.csv, id: 19esTj4yA2FQPAfWvy7vpdllXGboqe3P5\n",
      "Index(['Date', 'JPM'], dtype='object')\n",
      "['JPM', 'test', 'csv']\n",
      "title: JNJ_train.csv, id: 1AHcQ7-9WTxuvowLQFpQJNLC8E1fF_aUv\n",
      "Index(['Date', 'JNJ'], dtype='object')\n",
      "['JNJ', 'train', 'csv']\n",
      "title: JNJ_test.csv, id: 1B5oSbVyjCFIuJurRppac9_dOevk6lt4U\n",
      "Index(['Date', 'JNJ'], dtype='object')\n",
      "['JNJ', 'test', 'csv']\n",
      "title: INTC_test.csv, id: 1pfWmwbx56Ex09cZ1Ka8xPiIpzzoWceo_\n",
      "Index(['Date', 'INTC'], dtype='object')\n",
      "['INTC', 'test', 'csv']\n",
      "title: IBM_train.csv, id: 1h70Tkt3tSsOghHSHMs6OPge_Of4LN-h2\n",
      "Index(['Date', 'IBM'], dtype='object')\n",
      "['IBM', 'train', 'csv']\n",
      "title: IBM_test.csv, id: 10bQ7w_TKk1DyD2owWnDvMmPY1zccagH-\n",
      "Index(['Date', 'IBM'], dtype='object')\n",
      "['IBM', 'test', 'csv']\n",
      "title: HD_train.csv, id: 1xD4NcoL094F1E3qvlRwAbK9K6w1tvyjl\n",
      "Index(['Date', 'HD'], dtype='object')\n",
      "['HD', 'train', 'csv']\n",
      "title: HD_test.csv, id: 1rRxVahLKWF4FN8rdaIE4s8XKBX7GUlEG\n",
      "Index(['Date', 'HD'], dtype='object')\n",
      "['HD', 'test', 'csv']\n",
      "title: GS_train.csv, id: 1e7qF33xchB41MSB-7YtplAatb9v51SyH\n",
      "Index(['Date', 'GS'], dtype='object')\n",
      "['GS', 'train', 'csv']\n",
      "title: AXP_train.csv, id: 1T3rgiox9DtOavO7ptSI8jTFo3EZGTlfr\n",
      "Index(['Date', 'AXP'], dtype='object')\n",
      "['AXP', 'train', 'csv']\n",
      "title: BA_train.csv, id: 1-MbOuf9s3vQumjgW6guv-RerrIk_EUTV\n",
      "Index(['Date', 'BA'], dtype='object')\n",
      "['BA', 'train', 'csv']\n",
      "title: CSCO_test.csv, id: 1gQGbzGDw1hOkYEZbhdMiQZ5Z0OUF7iO6\n",
      "Index(['Date', 'CSCO'], dtype='object')\n",
      "['CSCO', 'test', 'csv']\n",
      "title: GS_test.csv, id: 1oUtQi7fXvTCPD9EqsDwb8fqtw2S64h0F\n",
      "Index(['Date', 'GS'], dtype='object')\n",
      "['GS', 'test', 'csv']\n",
      "title: CAT_test.csv, id: 1G6n5OgtmLdfkEMaxn_sfTBPvJ0FnTKRY\n",
      "Index(['Date', 'CAT'], dtype='object')\n",
      "['CAT', 'test', 'csv']\n",
      "title: CSCO_train.csv, id: 1R8-5ipi1grr8hU9_AZayUlqJpKediRuV\n",
      "Index(['Date', 'CSCO'], dtype='object')\n",
      "['CSCO', 'train', 'csv']\n",
      "title: CVX_train.csv, id: 1CMQ6rPhhtTo66EfwqnWfxVb7ccf-sReO\n",
      "Index(['Date', 'CVX'], dtype='object')\n",
      "['CVX', 'train', 'csv']\n",
      "title: CAT_train.csv, id: 1D4WOGtI9WYjxKH_VNh_tzcKx_xBSAQ8a\n",
      "Index(['Date', 'CAT'], dtype='object')\n",
      "['CAT', 'train', 'csv']\n",
      "title: CVX_test.csv, id: 1MPsaFyZMIp12r8a8BS6sjfPVEOKQMwuC\n",
      "Index(['Date', 'CVX'], dtype='object')\n",
      "['CVX', 'test', 'csv']\n",
      "title: BA_test.csv, id: 1-v6LV8OWshMzYJFV7TrJ8oP7VFh_8TvK\n",
      "Index(['Date', 'BA'], dtype='object')\n",
      "['BA', 'test', 'csv']\n"
     ]
    }
   ],
   "source": [
    "news_train = pd.DataFrame()\n",
    "news_train['Ticker'] = ''\n",
    "news_train['Date'] = ''\n",
    "news_train['Predictions'] = ''\n",
    "news_test = pd.DataFrame()\n",
    "news_test['Ticker'] = ''\n",
    "news_test['Date'] = ''\n",
    "news_test['Predictions'] = ''\n",
    "news_id = '1kLvg_sdGXHeZRStP7kh5WkZFiuh-d4z9' \n",
    "news_train, news_test = get_concatenated_datasets(news_train, news_test, news_id)"
   ]
  },
  {
   "cell_type": "code",
   "execution_count": 0,
   "metadata": {
    "colab": {
     "base_uri": "https://localhost:8080/",
     "height": 1000
    },
    "colab_type": "code",
    "id": "VReVsQSqITmC",
    "outputId": "ff1e5621-6a05-4a1f-d84d-1eb920850eed"
   },
   "outputs": [
    {
     "name": "stdout",
     "output_type": "stream",
     "text": [
      "'1oBrmF6lpyesdGDxOg0PW7ycnUeqr8bms' in parents and trashed=false\n",
      "1oBrmF6lpyesdGDxOg0PW7ycnUeqr8bms in parents and trashed=false\n",
      "title: test_25tickers.csv, id: 1mIE8elmcJF0fzTTWBB1lPbTuztuNu4zx\n",
      "Index(['Ticker', 'Date', 'Predictions_8k', 'Predictions_10kq',\n",
      "       'Predictions_tweets', 'Predictions_news', 'Month', 'Day_of_week',\n",
      "       'MACD', 'MACD_Hist', 'MACD_Signal', 'RSI', 'Real Lower Band',\n",
      "       'Real Middle Band', 'Real Upper Band', 'Sector', 'Label', 'SMA_label'],\n",
      "      dtype='object')\n",
      "['test', '25tickers', 'csv']\n",
      "title: AAPL_test_tweet.csv, id: 1yC3TsVWywsW63aE3Lfh1L4agoTu9QmXn\n",
      "Index(['Date', 'AAPL'], dtype='object')\n",
      "['AAPL', 'test', 'tweet', 'csv']\n",
      "title: AAPL_train_tweet.csv, id: 1Xu5uP_Xsae8bA19sRwrBQFsgzNlB5a31\n",
      "Index(['Date', 'AAPL'], dtype='object')\n",
      "['AAPL', 'train', 'tweet', 'csv']\n",
      "title: XOM_test_tweet.csv, id: 1-87RnGxgPQPF4oUk_IfXr8X6GzJWgfGq\n",
      "Index(['Date', 'XOM'], dtype='object')\n",
      "['XOM', 'test', 'tweet', 'csv']\n",
      "title: WMT_train_tweet.csv, id: 1uV6X-rTgL83-b9XRreqBZ9Lft7h1IfEi\n",
      "Index(['Date', 'WMT'], dtype='object')\n",
      "['WMT', 'train', 'tweet', 'csv']\n",
      "title: WMT_test_tweet.csv, id: 1XLkfBpI2eLFTGJJzfAim-Uoad9ilUIEe\n",
      "Index(['Date', 'WMT'], dtype='object')\n",
      "['WMT', 'test', 'tweet', 'csv']\n",
      "title: XOM_train_tweet.csv, id: 1LGReeYawIMUxS89coR9zHBDr3hArsnb2\n",
      "Index(['Date', 'XOM'], dtype='object')\n",
      "['XOM', 'train', 'tweet', 'csv']\n",
      "title: V_train_tweet.csv, id: 1HN4wStzjhEw8vnDbVT0ggXq2QH6RNdme\n",
      "Index(['Date', 'V'], dtype='object')\n",
      "['V', 'train', 'tweet', 'csv']\n",
      "title: VZ_test_tweet.csv, id: 1chMjVSD-0ecojKLRrGd__qQxiPbA-28F\n",
      "Index(['Date', 'VZ'], dtype='object')\n",
      "['VZ', 'test', 'tweet', 'csv']\n",
      "title: V_test_tweet.csv, id: 1LrVXeWU8jZw4yUlvuc8MWTYo8Nh63oOZ\n",
      "Index(['Date', 'V'], dtype='object')\n",
      "['V', 'test', 'tweet', 'csv']\n",
      "title: UTX_train_tweet.csv, id: 1b-6ykarS8JgBKZhPIWzXmL6zEg__Ib3w\n",
      "Index(['Date', 'UTX'], dtype='object')\n",
      "['UTX', 'train', 'tweet', 'csv']\n",
      "title: VZ_train_tweet.csv, id: 1oNIi3JwooZQ_1-TxIOJZDFo-0ZE_N4hO\n",
      "Index(['Date', 'VZ'], dtype='object')\n",
      "['VZ', 'train', 'tweet', 'csv']\n",
      "title: UTX_test_tweet.csv, id: 1FHLI1yn9LFfBWsaP-nPWtmint6znHX0k\n",
      "Index(['Date', 'UTX'], dtype='object')\n",
      "['UTX', 'test', 'tweet', 'csv']\n",
      "title: UNH_test_tweet.csv, id: 1JyLkwqZZtq_4-y5_WasoMwj3U9U-vsHx\n",
      "Index(['Date', 'UNH'], dtype='object')\n",
      "['UNH', 'test', 'tweet', 'csv']\n",
      "title: PG_test_tweet.csv, id: 1n_hAAXSjaSvQDkZZ-dJq7BRRGhpUqlFv\n",
      "Index(['Date', 'PG'], dtype='object')\n",
      "['PG', 'test', 'tweet', 'csv']\n",
      "title: PG_train_tweet.csv, id: 1g5NhPHM2oPDdvySblXDPlKBATGYvuCiO\n",
      "Index(['Date', 'PG'], dtype='object')\n",
      "['PG', 'train', 'tweet', 'csv']\n",
      "title: UNH_train_tweet.csv, id: 1d5c4mbv2OCrkeStAkfI_gEOHweM2XOC3\n",
      "Index(['Date', 'UNH'], dtype='object')\n",
      "['UNH', 'train', 'tweet', 'csv']\n",
      "title: PFE_train_tweet.csv, id: 1A-TPgmvA-CN8Owxq_bl0lN76dfl0MlBJ\n",
      "Index(['Date', 'PFE'], dtype='object')\n",
      "['PFE', 'train', 'tweet', 'csv']\n",
      "title: NKE_train_tweet.csv, id: 1k37ooAy81IMw5ZgVg4vOlcXZLFEmicwy\n",
      "Index(['Date', 'NKE'], dtype='object')\n",
      "['NKE', 'train', 'tweet', 'csv']\n",
      "title: PFE_test_tweet.csv, id: 1KbET2Aai6zw-QctMoe0ptmAHt_rBUH2e\n",
      "Index(['Date', 'PFE'], dtype='object')\n",
      "['PFE', 'test', 'tweet', 'csv']\n",
      "title: MSFT_train_tweet.csv, id: 1cl3ePZoaHnw8VDlwoCo5pfPPQyl2lRE0\n",
      "Index(['Date', 'MSFT'], dtype='object')\n",
      "['MSFT', 'train', 'tweet', 'csv']\n",
      "title: NKE_test_tweet.csv, id: 15s9wTMIHQXkkYAnLuwL-Aa9Bfkd0FFpr\n",
      "Index(['Date', 'NKE'], dtype='object')\n",
      "['NKE', 'test', 'tweet', 'csv']\n",
      "title: MSFT_test_tweet.csv, id: 1sXR6xwZPjRTSOMnMkIOaJtGuUL7SwVHp\n",
      "Index(['Date', 'MSFT'], dtype='object')\n",
      "['MSFT', 'test', 'tweet', 'csv']\n",
      "title: MMM_test_tweet.csv, id: 1xRIW6lr93qZ4Hjx3lBwH-UCPFaO4yMiV\n",
      "Index(['Date', 'MMM'], dtype='object')\n",
      "['MMM', 'test', 'tweet', 'csv']\n",
      "title: MRK_train_tweet.csv, id: 1pw7IdjQIiFvi5yKo33lBWuF49q8Kq9Wj\n",
      "Index(['Date', 'MRK'], dtype='object')\n",
      "['MRK', 'train', 'tweet', 'csv']\n",
      "title: MMM_train_tweet.csv, id: 1w5EK5eLdBZCT6n8wGhqnjPeMDuRzuKB9\n",
      "Index(['Date', 'MMM'], dtype='object')\n",
      "['MMM', 'train', 'tweet', 'csv']\n",
      "title: MRK_test_tweet.csv, id: 1dU4xuxBS2sxtYnyYHV8cq36iBMf89Mp7\n",
      "Index(['Date', 'MRK'], dtype='object')\n",
      "['MRK', 'test', 'tweet', 'csv']\n",
      "title: JPM_train_tweet.csv, id: 1kOLnX8OusKpMsDAoQ-Q8CH-DVBqxyBdo\n",
      "Index(['Date', 'JPM'], dtype='object')\n",
      "['JPM', 'train', 'tweet', 'csv']\n",
      "title: MCD_train_tweet.csv, id: 13_JIVa7G1swssNz0jOwCLPZy9R_qHoMH\n",
      "Index(['Date', 'MCD'], dtype='object')\n",
      "['MCD', 'train', 'tweet', 'csv']\n",
      "title: MCD_test_tweet.csv, id: 1FrF_vbudiBwmUewx7L6A6NqseA4p_lcq\n",
      "Index(['Date', 'MCD'], dtype='object')\n",
      "['MCD', 'test', 'tweet', 'csv']\n",
      "title: KO_train_tweet.csv, id: 1DMsrmnTouKYgMw-bxOSVzJF7pPY7tLzL\n",
      "Index(['Date', 'KO'], dtype='object')\n",
      "['KO', 'train', 'tweet', 'csv']\n",
      "title: KO_test_tweet.csv, id: 1R9TBr4j9RX3Icbv1TnrAQp1sytzjd7i3\n",
      "Index(['Date', 'KO'], dtype='object')\n",
      "['KO', 'test', 'tweet', 'csv']\n",
      "title: JPM_test_tweet.csv, id: 1LAGvarOKefx9kncyl1MPNXs40_6k42Wp\n",
      "Index(['Date', 'JPM'], dtype='object')\n",
      "['JPM', 'test', 'tweet', 'csv']\n",
      "title: IBM_train_tweet.csv, id: 1FoMnJm7bBXM62yAPK82-t7HOT12NzNCI\n",
      "Index(['Date', 'IBM'], dtype='object')\n",
      "['IBM', 'train', 'tweet', 'csv']\n",
      "title: JNJ_test_tweet.csv, id: 1LU62ECAC3CGj9Vlo3QW7sVb8JMrYR0MO\n",
      "Index(['Date', 'JNJ'], dtype='object')\n",
      "['JNJ', 'test', 'tweet', 'csv']\n",
      "title: JNJ_train_tweet.csv, id: 10NiD5jy10jrbmLY9x2w1IKTHQXQ42EWU\n",
      "Index(['Date', 'JNJ'], dtype='object')\n",
      "['JNJ', 'train', 'tweet', 'csv']\n",
      "title: INTC_train_tweet.csv, id: 1qi1CWOCOO--PPQIiUXLF2dw-Q1nt5EJb\n",
      "Index(['Date', 'INTC'], dtype='object')\n",
      "['INTC', 'train', 'tweet', 'csv']\n",
      "title: INTC_test_tweet.csv, id: 1vlpyphncePoWrCqf5_Q0SxZJQNm-VdUp\n",
      "Index(['Date', 'INTC'], dtype='object')\n",
      "['INTC', 'test', 'tweet', 'csv']\n",
      "title: GS_train_tweet.csv, id: 1qB-TCSV0EEGG1kMpbH-VH5nQnAyNDksA\n",
      "Index(['Date', 'GS'], dtype='object')\n",
      "['GS', 'train', 'tweet', 'csv']\n",
      "title: HD_test_tweet.csv, id: 1DbnLtTge0ahDRGVXpacG6DpNWjYJVGE0\n",
      "Index(['Date', 'HD'], dtype='object')\n",
      "['HD', 'test', 'tweet', 'csv']\n",
      "title: IBM_test_tweet.csv, id: 1bUja5IGqsyA_oN7pD3DcFZdeZ5Zg-Rk3\n",
      "Index(['Date', 'IBM'], dtype='object')\n",
      "['IBM', 'test', 'tweet', 'csv']\n",
      "title: HD_train_tweet.csv, id: 13tYUQQlder5y_bzgSysa2xwdk-rzKRTf\n",
      "Index(['Date', 'HD'], dtype='object')\n",
      "['HD', 'train', 'tweet', 'csv']\n",
      "title: GS_test_tweet.csv, id: 1Trfrm70hTIgc3Uq7Qlm5ittf02qo7jVI\n",
      "Index(['Date', 'GS'], dtype='object')\n",
      "['GS', 'test', 'tweet', 'csv']\n",
      "title: CVX_test_tweet.csv, id: 1pFpnKgspzX8omotlErJgoSoRz70T_BC6\n",
      "Index(['Date', 'CVX'], dtype='object')\n",
      "['CVX', 'test', 'tweet', 'csv']\n",
      "title: CSCO_train_tweet.csv, id: 1Npx9O7yFd0fiqPzBKlKmjQbV08oSUBuF\n",
      "Index(['Date', 'CSCO'], dtype='object')\n",
      "['CSCO', 'train', 'tweet', 'csv']\n",
      "title: BA_train_tweet.csv, id: 1CgTOPBvXDkyYDQscAX130kRSOpyNIsO2\n",
      "Index(['Date', 'BA'], dtype='object')\n",
      "['BA', 'train', 'tweet', 'csv']\n",
      "title: CVX_train_tweet.csv, id: 1LjXZigMMTANOd5JyhF8NY5ct6pZjrBXs\n",
      "Index(['Date', 'CVX'], dtype='object')\n",
      "['CVX', 'train', 'tweet', 'csv']\n",
      "title: CSCO_test_tweet.csv, id: 1xqRwOkhwjyhxJZMvlglpZM4akE5gRoGz\n",
      "Index(['Date', 'CSCO'], dtype='object')\n",
      "['CSCO', 'test', 'tweet', 'csv']\n",
      "title: AXP_train_tweet.csv, id: 1mlb41dcJqI7m_HuAUyShwcN41YOv2uQY\n",
      "Index(['Date', 'AXP'], dtype='object')\n",
      "['AXP', 'train', 'tweet', 'csv']\n",
      "title: AXP_test_tweet.csv, id: 16m35O97_Euznq9pALhLOIR53xOlZudWJ\n",
      "Index(['Date', 'AXP'], dtype='object')\n",
      "['AXP', 'test', 'tweet', 'csv']\n",
      "title: BA_test_tweet.csv, id: 1qO6SC2CGRlCEUct5_7iNFmN3Kg0RyG2E\n",
      "Index(['Date', 'BA'], dtype='object')\n",
      "['BA', 'test', 'tweet', 'csv']\n"
     ]
    }
   ],
   "source": [
    "tweets_train = pd.DataFrame()\n",
    "tweets_train['Ticker'] = ''\n",
    "tweets_train['Date'] = ''\n",
    "tweets_train['Predictions'] = ''\n",
    "tweets_test = pd.DataFrame()\n",
    "tweets_test['Ticker'] = ''\n",
    "tweets_test['Date'] = ''\n",
    "tweets_test['Predictions'] = ''\n",
    "tweet_id = '1oBrmF6lpyesdGDxOg0PW7ycnUeqr8bms'\n",
    "tweets_train, tweets_test = get_concatenated_datasets(tweets_train, tweets_test, tweet_id)"
   ]
  },
  {
   "cell_type": "code",
   "execution_count": 0,
   "metadata": {
    "colab": {},
    "colab_type": "code",
    "id": "nwONuyIKHtYT"
   },
   "outputs": [],
   "source": [
    "downloaded = drive.CreateFile({'id':'11lg8YLGNs2pfEuFfdBoh3Gh3KtnJ_X8C'}) #https://drive.google.com/file/d/11lg8YLGNs2pfEuFfdBoh3Gh3KtnJ_X8C/view?usp=sharing\n",
    "downloaded.GetContentFile('AAPL_train_AmazonReviews.csv')\n",
    "AmazonReviews_train_AAPL = pd.read_csv('AAPL_train_AmazonReviews.csv', sep=',')\n",
    "\n",
    "downloaded = drive.CreateFile({'id':'1iINn5aK-2n9GK98S_qXp7fy0YBO3qYzu'}) #https://drive.google.com/file/d/1iINn5aK-2n9GK98S_qXp7fy0YBO3qYzu/view?usp=sharing\n",
    "downloaded.GetContentFile('AAPL_test_AmazonReviews.csv')\n",
    "AmazonReviews_test_AAPL = pd.read_csv('AAPL_test_AmazonReviews.csv', sep=',') "
   ]
  },
  {
   "cell_type": "code",
   "execution_count": 0,
   "metadata": {
    "colab": {},
    "colab_type": "code",
    "id": "bjrwXjI6mz77"
   },
   "outputs": [],
   "source": [
    "AmazonReviews_train_AAPL['Ticker'] = 'AAPL'\n",
    "AmazonReviews_test_AAPL['Ticker'] = 'AAPL'\n"
   ]
  },
  {
   "cell_type": "code",
   "execution_count": 0,
   "metadata": {
    "colab": {
     "base_uri": "https://localhost:8080/",
     "height": 85
    },
    "colab_type": "code",
    "id": "XqvHjti92zfx",
    "outputId": "6e0e7a3e-43f9-4c5d-a306-fa2e66e7f6b6"
   },
   "outputs": [
    {
     "data": {
      "text/plain": [
       "array(['CAT', 'JPM', 'MSFT', 'AXP', 'AAPL', 'MCD', 'IBM', 'VZ', 'CSCO',\n",
       "       'PFE', 'WMT', 'KO', 'MMM', 'NKE', 'PG', 'XOM', 'DIS', 'BA', 'V',\n",
       "       'TRV', 'CVX', 'MRK', 'JNJ', 'HD', 'INTC', 'UNH', 'GS', 'UTX'],\n",
       "      dtype=object)"
      ]
     },
     "execution_count": 13,
     "metadata": {
      "tags": []
     },
     "output_type": "execute_result"
    }
   ],
   "source": [
    "eightk_train['Ticker'].unique()"
   ]
  },
  {
   "cell_type": "code",
   "execution_count": 0,
   "metadata": {
    "colab": {
     "base_uri": "https://localhost:8080/",
     "height": 85
    },
    "colab_type": "code",
    "id": "6ecrhG29fmaQ",
    "outputId": "020d7cf9-6c0f-4719-b01a-a5fff9519a69"
   },
   "outputs": [
    {
     "data": {
      "text/plain": [
       " 1.0    1705\n",
       "-1.0     317\n",
       " 0.0      35\n",
       "Name: Predictions, dtype: int64"
      ]
     },
     "execution_count": 14,
     "metadata": {
      "tags": []
     },
     "output_type": "execute_result"
    }
   ],
   "source": [
    "tenKQ_train[tenKQ_train['Ticker'] == \"UTX\"]['Predictions'].value_counts()"
   ]
  },
  {
   "cell_type": "markdown",
   "metadata": {
    "colab_type": "text",
    "id": "kca-QTajmVg4"
   },
   "source": [
    "# Concat all sources"
   ]
  },
  {
   "cell_type": "markdown",
   "metadata": {
    "colab_type": "text",
    "id": "ht03YdHZwV6u"
   },
   "source": [
    "### Drop 5 tickers to standardise data"
   ]
  },
  {
   "cell_type": "code",
   "execution_count": 0,
   "metadata": {
    "colab": {
     "base_uri": "https://localhost:8080/",
     "height": 153
    },
    "colab_type": "code",
    "id": "AxgY97z6mgtF",
    "outputId": "4c7f931a-6058-4629-ee3f-e9c10b851c61"
   },
   "outputs": [
    {
     "name": "stdout",
     "output_type": "stream",
     "text": [
      "eightk_train:  (50325, 3)\n",
      "tenKQ_train:  (51288, 3)\n",
      "tweets_train:  (50350, 3)\n",
      "news_train:  (52150, 3)\n",
      "eightk_test:  (12575, 3)\n",
      "tenKQ_test:  (12761, 3)\n",
      "tweets_test:  (12575, 3)\n",
      "news_test:  (13050, 3)\n"
     ]
    }
   ],
   "source": [
    "ticker_drop = [\"CAT\", \"DOW\", \"WBA\", \"TRV\", \"DIS\"]\n",
    "eightk_train = eightk_train[~eightk_train['Ticker'].isin(ticker_drop)]\n",
    "tenKQ_train = tenKQ_train[~tenKQ_train['Ticker'].isin(ticker_drop)]\n",
    "tweets_train = tweets_train[~tweets_train['Ticker'].isin(ticker_drop)]\n",
    "news_train = news_train[~news_train['Ticker'].isin(ticker_drop)]\n",
    "\n",
    "print(\"eightk_train: \", eightk_train.shape)\n",
    "print(\"tenKQ_train: \", tenKQ_train.shape)\n",
    "print(\"tweets_train: \", tweets_train.shape)\n",
    "print(\"news_train: \", news_train.shape)\n",
    "\n",
    "eightk_test = eightk_test[~eightk_test['Ticker'].isin(ticker_drop)]\n",
    "tenKQ_test = tenKQ_test[~tenKQ_test['Ticker'].isin(ticker_drop)]\n",
    "tweets_test = tweets_test[~tweets_test['Ticker'].isin(ticker_drop)]\n",
    "news_test = news_test[~news_test['Ticker'].isin(ticker_drop)]\n",
    "\n",
    "print(\"eightk_test: \", eightk_test.shape)\n",
    "print(\"tenKQ_test: \", tenKQ_test.shape)\n",
    "print(\"tweets_test: \", tweets_test.shape)\n",
    "print(\"news_test: \", news_test.shape)\n"
   ]
  },
  {
   "cell_type": "markdown",
   "metadata": {
    "colab_type": "text",
    "id": "474GUTkI5Dka"
   },
   "source": [
    "## Join 4 sources for 25 tickers (train and test sets)"
   ]
  },
  {
   "cell_type": "code",
   "execution_count": 0,
   "metadata": {
    "colab": {
     "base_uri": "https://localhost:8080/",
     "height": 136
    },
    "colab_type": "code",
    "id": "kNqmxPeIm7-6",
    "outputId": "fa1dd5bf-bdb2-468d-855c-1d5142ea5582"
   },
   "outputs": [
    {
     "name": "stdout",
     "output_type": "stream",
     "text": [
      "df_train1:  (50325, 4)\n",
      "df_train2:  (50350, 4)\n",
      "df_train:  (50325, 6)\n",
      "\n",
      "df_test1:  (12575, 4)\n",
      "df_test2:  (12575, 4)\n",
      "df_test:  (12575, 6)\n"
     ]
    }
   ],
   "source": [
    "df_train1 = eightk_train.join(tenKQ_train.set_index([\"Ticker\",\"Date\"]), how='left', on=[\"Ticker\",\"Date\"], lsuffix='_8k', rsuffix='_10kq')\n",
    "df_train1.loc[df_train1.Predictions_10kq.isnull(),'Predictions_10kq'] = 0\n",
    "df_train2 = tweets_train.join(news_train.set_index([\"Ticker\",\"Date\"]), how='left', on=[\"Ticker\",\"Date\"], lsuffix='_tweets', rsuffix='_news').drop_duplicates()\n",
    "print(\"df_train1: \", df_train1.shape)\n",
    "print(\"df_train2: \", df_train2.shape)\n",
    "\n",
    "df_train = df_train1.join(df_train2.set_index([\"Ticker\",\"Date\"]), how='inner', on=[\"Ticker\",\"Date\"])\n",
    "print(\"df_train: \", df_train.shape)\n",
    "\n",
    "print()\n",
    "df_test1 = eightk_test.join(tenKQ_test.set_index([\"Ticker\",\"Date\"]), how='left', on=[\"Ticker\",\"Date\"], lsuffix='_8k', rsuffix='_10kq')\n",
    "df_test1.loc[df_test1.Predictions_10kq.isnull(),'Predictions_10kq'] = 0\n",
    "df_test2 = tweets_test.join(news_test.set_index([\"Ticker\",\"Date\"]), how='left', on=[\"Ticker\",\"Date\"], lsuffix='_tweets', rsuffix='_news').drop_duplicates()\n",
    "print(\"df_test1: \", df_test1.shape)\n",
    "print(\"df_test2: \", df_test2.shape)\n",
    "\n",
    "df_test = df_test1.join(df_test2.set_index([\"Ticker\",\"Date\"]), how='left', on=[\"Ticker\",\"Date\"]).drop_duplicates()\n",
    "print(\"df_test: \", df_test.shape)"
   ]
  },
  {
   "cell_type": "code",
   "execution_count": 0,
   "metadata": {
    "colab": {},
    "colab_type": "code",
    "id": "jKNQiJHPG18a"
   },
   "outputs": [],
   "source": [
    "df_train['Month'] = pd.to_datetime(df_train['Date']).dt.month\n",
    "df_train['Day_of_week'] = pd.to_datetime(df_train['Date']).dt.weekday\n",
    "\n",
    "df_test['Month'] = pd.to_datetime(df_test['Date']).dt.month\n",
    "df_test['Day_of_week'] = pd.to_datetime(df_test['Date']).dt.weekday"
   ]
  },
  {
   "cell_type": "code",
   "execution_count": 0,
   "metadata": {
    "colab": {
     "base_uri": "https://localhost:8080/",
     "height": 419
    },
    "colab_type": "code",
    "id": "cfqWzMmNHJcl",
    "outputId": "a65ec419-8828-4c6c-e68d-af28fbc72d06"
   },
   "outputs": [
    {
     "data": {
      "text/html": [
       "<div>\n",
       "<style scoped>\n",
       "    .dataframe tbody tr th:only-of-type {\n",
       "        vertical-align: middle;\n",
       "    }\n",
       "\n",
       "    .dataframe tbody tr th {\n",
       "        vertical-align: top;\n",
       "    }\n",
       "\n",
       "    .dataframe thead th {\n",
       "        text-align: right;\n",
       "    }\n",
       "</style>\n",
       "<table border=\"1\" class=\"dataframe\">\n",
       "  <thead>\n",
       "    <tr style=\"text-align: right;\">\n",
       "      <th></th>\n",
       "      <th>Ticker</th>\n",
       "      <th>Date</th>\n",
       "      <th>Predictions_8k</th>\n",
       "      <th>Predictions_10kq</th>\n",
       "      <th>Predictions_tweets</th>\n",
       "      <th>Predictions_news</th>\n",
       "      <th>Month</th>\n",
       "      <th>Day_of_week</th>\n",
       "    </tr>\n",
       "  </thead>\n",
       "  <tbody>\n",
       "    <tr>\n",
       "      <th>0</th>\n",
       "      <td>JPM</td>\n",
       "      <td>2010-01-04</td>\n",
       "      <td>0</td>\n",
       "      <td>0.0</td>\n",
       "      <td>1.0</td>\n",
       "      <td>0.0</td>\n",
       "      <td>1</td>\n",
       "      <td>0</td>\n",
       "    </tr>\n",
       "    <tr>\n",
       "      <th>1</th>\n",
       "      <td>JPM</td>\n",
       "      <td>2010-01-05</td>\n",
       "      <td>0</td>\n",
       "      <td>0.0</td>\n",
       "      <td>-1.0</td>\n",
       "      <td>0.0</td>\n",
       "      <td>1</td>\n",
       "      <td>1</td>\n",
       "    </tr>\n",
       "    <tr>\n",
       "      <th>2</th>\n",
       "      <td>JPM</td>\n",
       "      <td>2010-01-06</td>\n",
       "      <td>0</td>\n",
       "      <td>0.0</td>\n",
       "      <td>1.0</td>\n",
       "      <td>0.0</td>\n",
       "      <td>1</td>\n",
       "      <td>2</td>\n",
       "    </tr>\n",
       "    <tr>\n",
       "      <th>3</th>\n",
       "      <td>JPM</td>\n",
       "      <td>2010-01-07</td>\n",
       "      <td>0</td>\n",
       "      <td>0.0</td>\n",
       "      <td>-1.0</td>\n",
       "      <td>0.0</td>\n",
       "      <td>1</td>\n",
       "      <td>3</td>\n",
       "    </tr>\n",
       "    <tr>\n",
       "      <th>4</th>\n",
       "      <td>JPM</td>\n",
       "      <td>2010-01-08</td>\n",
       "      <td>0</td>\n",
       "      <td>0.0</td>\n",
       "      <td>-1.0</td>\n",
       "      <td>0.0</td>\n",
       "      <td>1</td>\n",
       "      <td>4</td>\n",
       "    </tr>\n",
       "    <tr>\n",
       "      <th>...</th>\n",
       "      <td>...</td>\n",
       "      <td>...</td>\n",
       "      <td>...</td>\n",
       "      <td>...</td>\n",
       "      <td>...</td>\n",
       "      <td>...</td>\n",
       "      <td>...</td>\n",
       "      <td>...</td>\n",
       "    </tr>\n",
       "    <tr>\n",
       "      <th>2008</th>\n",
       "      <td>UTX</td>\n",
       "      <td>2017-12-22</td>\n",
       "      <td>0</td>\n",
       "      <td>1.0</td>\n",
       "      <td>1.0</td>\n",
       "      <td>0.0</td>\n",
       "      <td>12</td>\n",
       "      <td>4</td>\n",
       "    </tr>\n",
       "    <tr>\n",
       "      <th>2009</th>\n",
       "      <td>UTX</td>\n",
       "      <td>2017-12-26</td>\n",
       "      <td>0</td>\n",
       "      <td>1.0</td>\n",
       "      <td>1.0</td>\n",
       "      <td>0.0</td>\n",
       "      <td>12</td>\n",
       "      <td>1</td>\n",
       "    </tr>\n",
       "    <tr>\n",
       "      <th>2010</th>\n",
       "      <td>UTX</td>\n",
       "      <td>2017-12-27</td>\n",
       "      <td>0</td>\n",
       "      <td>1.0</td>\n",
       "      <td>1.0</td>\n",
       "      <td>0.0</td>\n",
       "      <td>12</td>\n",
       "      <td>2</td>\n",
       "    </tr>\n",
       "    <tr>\n",
       "      <th>2011</th>\n",
       "      <td>UTX</td>\n",
       "      <td>2017-12-28</td>\n",
       "      <td>0</td>\n",
       "      <td>1.0</td>\n",
       "      <td>1.0</td>\n",
       "      <td>0.0</td>\n",
       "      <td>12</td>\n",
       "      <td>3</td>\n",
       "    </tr>\n",
       "    <tr>\n",
       "      <th>2012</th>\n",
       "      <td>UTX</td>\n",
       "      <td>2017-12-29</td>\n",
       "      <td>0</td>\n",
       "      <td>1.0</td>\n",
       "      <td>1.0</td>\n",
       "      <td>0.0</td>\n",
       "      <td>12</td>\n",
       "      <td>4</td>\n",
       "    </tr>\n",
       "  </tbody>\n",
       "</table>\n",
       "<p>50325 rows × 8 columns</p>\n",
       "</div>"
      ],
      "text/plain": [
       "     Ticker        Date Predictions_8k  ...  Predictions_news  Month  Day_of_week\n",
       "0       JPM  2010-01-04              0  ...               0.0      1            0\n",
       "1       JPM  2010-01-05              0  ...               0.0      1            1\n",
       "2       JPM  2010-01-06              0  ...               0.0      1            2\n",
       "3       JPM  2010-01-07              0  ...               0.0      1            3\n",
       "4       JPM  2010-01-08              0  ...               0.0      1            4\n",
       "...     ...         ...            ...  ...               ...    ...          ...\n",
       "2008    UTX  2017-12-22              0  ...               0.0     12            4\n",
       "2009    UTX  2017-12-26              0  ...               0.0     12            1\n",
       "2010    UTX  2017-12-27              0  ...               0.0     12            2\n",
       "2011    UTX  2017-12-28              0  ...               0.0     12            3\n",
       "2012    UTX  2017-12-29              0  ...               0.0     12            4\n",
       "\n",
       "[50325 rows x 8 columns]"
      ]
     },
     "execution_count": 42,
     "metadata": {
      "tags": []
     },
     "output_type": "execute_result"
    }
   ],
   "source": [
    "df_train"
   ]
  },
  {
   "cell_type": "code",
   "execution_count": 0,
   "metadata": {
    "colab": {
     "base_uri": "https://localhost:8080/",
     "height": 49
    },
    "colab_type": "code",
    "id": "nKVPER1Q4qF_",
    "outputId": "d0a3b0ac-1e44-431e-e43a-9bd96e355235"
   },
   "outputs": [
    {
     "data": {
      "text/html": [
       "<div>\n",
       "<style scoped>\n",
       "    .dataframe tbody tr th:only-of-type {\n",
       "        vertical-align: middle;\n",
       "    }\n",
       "\n",
       "    .dataframe tbody tr th {\n",
       "        vertical-align: top;\n",
       "    }\n",
       "\n",
       "    .dataframe thead th {\n",
       "        text-align: right;\n",
       "    }\n",
       "</style>\n",
       "<table border=\"1\" class=\"dataframe\">\n",
       "  <thead>\n",
       "    <tr style=\"text-align: right;\">\n",
       "      <th></th>\n",
       "      <th>Ticker</th>\n",
       "      <th>Date</th>\n",
       "      <th>Predictions_tweets</th>\n",
       "      <th>Predictions_news</th>\n",
       "    </tr>\n",
       "  </thead>\n",
       "  <tbody>\n",
       "  </tbody>\n",
       "</table>\n",
       "</div>"
      ],
      "text/plain": [
       "Empty DataFrame\n",
       "Columns: [Ticker, Date, Predictions_tweets, Predictions_news]\n",
       "Index: []"
      ]
     },
     "execution_count": 43,
     "metadata": {
      "tags": []
     },
     "output_type": "execute_result"
    }
   ],
   "source": [
    "df_test2[df_test2[['Ticker','Date']].duplicated(keep=False)].sort_values(['Ticker','Date'])"
   ]
  },
  {
   "cell_type": "code",
   "execution_count": 0,
   "metadata": {
    "colab": {
     "base_uri": "https://localhost:8080/",
     "height": 49
    },
    "colab_type": "code",
    "id": "LvzZrtTf4of5",
    "outputId": "1f8cfe45-818d-46e3-e99c-31796e79692d"
   },
   "outputs": [
    {
     "data": {
      "text/html": [
       "<div>\n",
       "<style scoped>\n",
       "    .dataframe tbody tr th:only-of-type {\n",
       "        vertical-align: middle;\n",
       "    }\n",
       "\n",
       "    .dataframe tbody tr th {\n",
       "        vertical-align: top;\n",
       "    }\n",
       "\n",
       "    .dataframe thead th {\n",
       "        text-align: right;\n",
       "    }\n",
       "</style>\n",
       "<table border=\"1\" class=\"dataframe\">\n",
       "  <thead>\n",
       "    <tr style=\"text-align: right;\">\n",
       "      <th></th>\n",
       "      <th>Ticker</th>\n",
       "      <th>Date</th>\n",
       "      <th>Predictions_8k</th>\n",
       "      <th>Predictions_10kq</th>\n",
       "      <th>Predictions_tweets</th>\n",
       "      <th>Predictions_news</th>\n",
       "      <th>Month</th>\n",
       "      <th>Day_of_week</th>\n",
       "    </tr>\n",
       "  </thead>\n",
       "  <tbody>\n",
       "  </tbody>\n",
       "</table>\n",
       "</div>"
      ],
      "text/plain": [
       "Empty DataFrame\n",
       "Columns: [Ticker, Date, Predictions_8k, Predictions_10kq, Predictions_tweets, Predictions_news, Month, Day_of_week]\n",
       "Index: []"
      ]
     },
     "execution_count": 44,
     "metadata": {
      "tags": []
     },
     "output_type": "execute_result"
    }
   ],
   "source": [
    "df_test[df_test.Predictions_tweets.isnull()]"
   ]
  },
  {
   "cell_type": "code",
   "execution_count": 0,
   "metadata": {
    "colab": {},
    "colab_type": "code",
    "id": "qxuWe0en_PPI"
   },
   "outputs": [],
   "source": [
    "df_train = df_train.reset_index(drop=True)\n",
    "df_test = df_test.reset_index(drop=True)"
   ]
  },
  {
   "cell_type": "markdown",
   "metadata": {
    "colab_type": "text",
    "id": "0Q-cDKOrjBy6"
   },
   "source": [
    "# Labels"
   ]
  },
  {
   "cell_type": "code",
   "execution_count": 0,
   "metadata": {
    "colab": {},
    "colab_type": "code",
    "id": "sgNoqiNZjBJZ"
   },
   "outputs": [],
   "source": [
    "downloaded = drive.CreateFile({'id':'10ZsFp937EEKqgUGaKEcxVCSV8h81NSN6'}) #https://drive.google.com/file/d/10ZsFp937EEKqgUGaKEcxVCSV8h81NSN6/view?usp=sharing\n",
    "downloaded.GetContentFile('price_labels.csv')\n",
    "price_labels = pd.read_csv('price_labels.csv') "
   ]
  },
  {
   "cell_type": "code",
   "execution_count": 0,
   "metadata": {
    "colab": {
     "base_uri": "https://localhost:8080/",
     "height": 34
    },
    "colab_type": "code",
    "id": "emps9L_SjZwL",
    "outputId": "fbe165f6-c36e-417b-f836-20771865a073"
   },
   "outputs": [
    {
     "data": {
      "text/plain": [
       "25"
      ]
     },
     "execution_count": 23,
     "metadata": {
      "tags": []
     },
     "output_type": "execute_result"
    }
   ],
   "source": [
    "tickers = [\"MMM\", \"AXP\", \"AAPL\", \"BA\", \\\n",
    "        \"CVX\", \"CSCO\", \"KO\", \\\n",
    "        \"XOM\", \"GS\", \\\n",
    "        \"HD\", \"IBM\", \"INTC\", \"JNJ\", \\\n",
    "        \"JPM\", \"MCD\", \"MRK\", \"MSFT\",\\\n",
    "        \"NKE\", \"PFE\", \"PG\",  \\\n",
    "        \"UTX\", \"UNH\", \"VZ\", \"V\", \\\n",
    "        \"WMT\"]\n",
    "len(tickers)"
   ]
  },
  {
   "cell_type": "code",
   "execution_count": 0,
   "metadata": {
    "colab": {
     "base_uri": "https://localhost:8080/",
     "height": 867
    },
    "colab_type": "code",
    "id": "727Pe6fSjhav",
    "outputId": "3d82a708-7456-4d5a-cff9-471574069b09"
   },
   "outputs": [
    {
     "name": "stdout",
     "output_type": "stream",
     "text": [
      "Company: MMM\n",
      "Number of records: (2517, 2)\n",
      "Company: AXP\n",
      "Number of records: (2517, 2)\n",
      "Company: AAPL\n",
      "Number of records: (2517, 2)\n",
      "Company: BA\n",
      "Number of records: (2517, 2)\n",
      "Company: CVX\n",
      "Number of records: (2517, 2)\n",
      "Company: CSCO\n",
      "Number of records: (2517, 2)\n",
      "Company: KO\n",
      "Number of records: (2517, 2)\n",
      "Company: XOM\n",
      "Number of records: (2517, 2)\n",
      "Company: GS\n",
      "Number of records: (2517, 2)\n",
      "Company: HD\n",
      "Number of records: (2517, 2)\n",
      "Company: IBM\n",
      "Number of records: (2517, 2)\n",
      "Company: INTC\n",
      "Number of records: (2517, 2)\n",
      "Company: JNJ\n",
      "Number of records: (2517, 2)\n",
      "Company: JPM\n",
      "Number of records: (2517, 2)\n",
      "Company: MCD\n",
      "Number of records: (2517, 2)\n",
      "Company: MRK\n",
      "Number of records: (2517, 2)\n",
      "Company: MSFT\n",
      "Number of records: (2517, 2)\n",
      "Company: NKE\n",
      "Number of records: (2517, 2)\n",
      "Company: PFE\n",
      "Number of records: (2517, 2)\n",
      "Company: PG\n",
      "Number of records: (2517, 2)\n",
      "Company: UTX\n",
      "Number of records: (2517, 2)\n",
      "Company: UNH\n",
      "Number of records: (2517, 2)\n",
      "Company: VZ\n",
      "Number of records: (2517, 2)\n",
      "Company: V\n",
      "Number of records: (2517, 2)\n",
      "Company: WMT\n",
      "Number of records: (2517, 2)\n"
     ]
    }
   ],
   "source": [
    "labels = pd.DataFrame()\n",
    "\n",
    "for ticker in tickers:\n",
    "    print(\"Company:\", ticker)\n",
    "        \n",
    "    price_labels_xcompany = price_labels[price_labels['Ticker']==ticker][['Date', \"Adj Close\"]]\n",
    "    print(\"Number of records:\", price_labels_xcompany.shape)\n",
    "\n",
    "    price_labels_xcompany.loc[:,'Date'] = [date[:10] for date in price_labels_xcompany['Date']]\n",
    "    price_labels_xcompany.loc[:,'Ticker'] = ticker\n",
    "\n",
    "    # y data\n",
    "    price_labels_xcompany.loc[:,'hist_returns'] = np.log10(price_labels_xcompany['Adj Close']/price_labels_xcompany['Adj Close'].shift())\n",
    "    price_labels_xcompany.loc[:,'Label'] = [1 if hist_return>=0 else -1 for hist_return in price_labels_xcompany['hist_returns']]\n",
    "\n",
    "    # x data - technical indicators\n",
    "    price_labels_xcompany.loc[:,'SMA(3)'] = price_labels_xcompany.hist_returns.rolling(3).mean()\n",
    "    price_labels_xcompany.loc[:,'SMA_label'] = [1 if sma>=0 else -1 for sma in price_labels_xcompany['SMA(3)']]\n",
    "\n",
    "    labels = pd.concat([labels, price_labels_xcompany[['Ticker', 'Date', 'Label', 'SMA_label']]])"
   ]
  },
  {
   "cell_type": "code",
   "execution_count": 0,
   "metadata": {
    "colab": {},
    "colab_type": "code",
    "id": "FDZ9W2UEjBMS"
   },
   "outputs": [],
   "source": [
    "y_train = labels[(labels['Date']>='2010-01-01')&(labels['Date']<='2017-12-31')]\n",
    "y_test = labels[(labels['Date']>='2018-01-01')&(labels['Date']<='2019-12-31')]"
   ]
  },
  {
   "cell_type": "code",
   "execution_count": 0,
   "metadata": {
    "colab": {
     "base_uri": "https://localhost:8080/",
     "height": 419
    },
    "colab_type": "code",
    "id": "swsgo4L9BiP_",
    "outputId": "a9628276-cb07-40fb-cb78-363ce24c2fd0"
   },
   "outputs": [
    {
     "data": {
      "text/html": [
       "<div>\n",
       "<style scoped>\n",
       "    .dataframe tbody tr th:only-of-type {\n",
       "        vertical-align: middle;\n",
       "    }\n",
       "\n",
       "    .dataframe tbody tr th {\n",
       "        vertical-align: top;\n",
       "    }\n",
       "\n",
       "    .dataframe thead th {\n",
       "        text-align: right;\n",
       "    }\n",
       "</style>\n",
       "<table border=\"1\" class=\"dataframe\">\n",
       "  <thead>\n",
       "    <tr style=\"text-align: right;\">\n",
       "      <th></th>\n",
       "      <th>Ticker</th>\n",
       "      <th>Date</th>\n",
       "      <th>Label</th>\n",
       "      <th>SMA_label</th>\n",
       "    </tr>\n",
       "  </thead>\n",
       "  <tbody>\n",
       "    <tr>\n",
       "      <th>4531</th>\n",
       "      <td>MMM</td>\n",
       "      <td>2018-01-02</td>\n",
       "      <td>1</td>\n",
       "      <td>-1</td>\n",
       "    </tr>\n",
       "    <tr>\n",
       "      <th>4532</th>\n",
       "      <td>MMM</td>\n",
       "      <td>2018-01-03</td>\n",
       "      <td>-1</td>\n",
       "      <td>-1</td>\n",
       "    </tr>\n",
       "    <tr>\n",
       "      <th>4533</th>\n",
       "      <td>MMM</td>\n",
       "      <td>2018-01-04</td>\n",
       "      <td>1</td>\n",
       "      <td>1</td>\n",
       "    </tr>\n",
       "    <tr>\n",
       "      <th>4534</th>\n",
       "      <td>MMM</td>\n",
       "      <td>2018-01-05</td>\n",
       "      <td>1</td>\n",
       "      <td>1</td>\n",
       "    </tr>\n",
       "    <tr>\n",
       "      <th>4535</th>\n",
       "      <td>MMM</td>\n",
       "      <td>2018-01-08</td>\n",
       "      <td>-1</td>\n",
       "      <td>1</td>\n",
       "    </tr>\n",
       "    <tr>\n",
       "      <th>...</th>\n",
       "      <td>...</td>\n",
       "      <td>...</td>\n",
       "      <td>...</td>\n",
       "      <td>...</td>\n",
       "    </tr>\n",
       "    <tr>\n",
       "      <th>70670</th>\n",
       "      <td>WMT</td>\n",
       "      <td>2019-12-24</td>\n",
       "      <td>1</td>\n",
       "      <td>-1</td>\n",
       "    </tr>\n",
       "    <tr>\n",
       "      <th>70671</th>\n",
       "      <td>WMT</td>\n",
       "      <td>2019-12-26</td>\n",
       "      <td>1</td>\n",
       "      <td>-1</td>\n",
       "    </tr>\n",
       "    <tr>\n",
       "      <th>70672</th>\n",
       "      <td>WMT</td>\n",
       "      <td>2019-12-27</td>\n",
       "      <td>1</td>\n",
       "      <td>1</td>\n",
       "    </tr>\n",
       "    <tr>\n",
       "      <th>70673</th>\n",
       "      <td>WMT</td>\n",
       "      <td>2019-12-30</td>\n",
       "      <td>-1</td>\n",
       "      <td>-1</td>\n",
       "    </tr>\n",
       "    <tr>\n",
       "      <th>70674</th>\n",
       "      <td>WMT</td>\n",
       "      <td>2019-12-31</td>\n",
       "      <td>-1</td>\n",
       "      <td>-1</td>\n",
       "    </tr>\n",
       "  </tbody>\n",
       "</table>\n",
       "<p>12575 rows × 4 columns</p>\n",
       "</div>"
      ],
      "text/plain": [
       "      Ticker        Date  Label  SMA_label\n",
       "4531     MMM  2018-01-02      1         -1\n",
       "4532     MMM  2018-01-03     -1         -1\n",
       "4533     MMM  2018-01-04      1          1\n",
       "4534     MMM  2018-01-05      1          1\n",
       "4535     MMM  2018-01-08     -1          1\n",
       "...      ...         ...    ...        ...\n",
       "70670    WMT  2019-12-24      1         -1\n",
       "70671    WMT  2019-12-26      1         -1\n",
       "70672    WMT  2019-12-27      1          1\n",
       "70673    WMT  2019-12-30     -1         -1\n",
       "70674    WMT  2019-12-31     -1         -1\n",
       "\n",
       "[12575 rows x 4 columns]"
      ]
     },
     "execution_count": 26,
     "metadata": {
      "tags": []
     },
     "output_type": "execute_result"
    }
   ],
   "source": [
    "y_test"
   ]
  },
  {
   "cell_type": "code",
   "execution_count": 0,
   "metadata": {
    "colab": {},
    "colab_type": "code",
    "id": "-rA2DQlmlRML"
   },
   "outputs": [],
   "source": [
    "# y_train.to_csv('y_train.csv', index=False)\n",
    "# y_test.to_csv('y_test.csv', index=False)\n",
    "\n",
    "\n",
    "# from google.colab import files\n",
    "# files.download('y_train.csv')\n",
    "# files.download('y_test.csv')"
   ]
  },
  {
   "cell_type": "markdown",
   "metadata": {
    "colab_type": "text",
    "id": "7zb_6yM0Q6iE"
   },
   "source": [
    "# Technical Indicators"
   ]
  },
  {
   "cell_type": "markdown",
   "metadata": {
    "colab_type": "text",
    "id": "huol6vvBMuJh"
   },
   "source": [
    "## Read from csv in drive"
   ]
  },
  {
   "cell_type": "code",
   "execution_count": 0,
   "metadata": {
    "colab": {},
    "colab_type": "code",
    "id": "QnXj9wa-MukW"
   },
   "outputs": [],
   "source": [
    "downloaded = drive.CreateFile({'id':'1o7IGkjx_OzQJ3GQnjt0ybh0AT0j8DM-k'}) # https://drive.google.com/file/d/1o7IGkjx_OzQJ3GQnjt0ybh0AT0j8DM-k/view?usp=sharing\n",
    "downloaded.GetContentFile('technical_indicators_RAW.csv')\n",
    "df_tech_indicators = pd.read_csv('technical_indicators_RAW.csv') "
   ]
  },
  {
   "cell_type": "code",
   "execution_count": 0,
   "metadata": {
    "colab": {
     "base_uri": "https://localhost:8080/",
     "height": 187
    },
    "colab_type": "code",
    "id": "Eu5LYDw9OWEQ",
    "outputId": "bc679345-caf3-4e41-dbfa-3068728eb792"
   },
   "outputs": [
    {
     "data": {
      "text/plain": [
       "Ticker                     JPM\n",
       "Date                2010-01-04\n",
       "MACD                   -0.1119\n",
       "MACD_Hist               0.1928\n",
       "MACD_Signal            -0.3047\n",
       "RSI                    63.0778\n",
       "Real Lower Band         40.829\n",
       "Real Middle Band        41.745\n",
       "Real Upper Band         42.661\n",
       "Name: 0, dtype: object"
      ]
     },
     "execution_count": 38,
     "metadata": {
      "tags": []
     },
     "output_type": "execute_result"
    }
   ],
   "source": [
    "df_tech_indicators.iloc[0]"
   ]
  },
  {
   "cell_type": "markdown",
   "metadata": {
    "colab_type": "text",
    "id": "bXwPTFRLMpKq"
   },
   "source": [
    "## Rerun API for new technical indicators"
   ]
  },
  {
   "cell_type": "code",
   "execution_count": 0,
   "metadata": {
    "colab": {
     "base_uri": "https://localhost:8080/",
     "height": 275
    },
    "colab_type": "code",
    "id": "3FwlJ3aHMWJq",
    "outputId": "b7bb34fd-1bfb-46c4-d15a-55d7349a4a81"
   },
   "outputs": [
    {
     "name": "stdout",
     "output_type": "stream",
     "text": [
      "Collecting alpha_vantage\n",
      "  Downloading https://files.pythonhosted.org/packages/c9/72/c3a2a8371f94515a2f0b1203dc152cf8d82dc17baeea0c1af5a23d10eca7/alpha_vantage-2.1.3.tar.gz\n",
      "Requirement already satisfied: requests in /usr/local/lib/python3.6/dist-packages (from alpha_vantage) (2.21.0)\n",
      "Requirement already satisfied: chardet<3.1.0,>=3.0.2 in /usr/local/lib/python3.6/dist-packages (from requests->alpha_vantage) (3.0.4)\n",
      "Requirement already satisfied: certifi>=2017.4.17 in /usr/local/lib/python3.6/dist-packages (from requests->alpha_vantage) (2019.11.28)\n",
      "Requirement already satisfied: idna<2.9,>=2.5 in /usr/local/lib/python3.6/dist-packages (from requests->alpha_vantage) (2.8)\n",
      "Requirement already satisfied: urllib3<1.25,>=1.21.1 in /usr/local/lib/python3.6/dist-packages (from requests->alpha_vantage) (1.24.3)\n",
      "Building wheels for collected packages: alpha-vantage\n",
      "  Building wheel for alpha-vantage (setup.py) ... \u001b[?25l\u001b[?25hdone\n",
      "  Created wheel for alpha-vantage: filename=alpha_vantage-2.1.3-cp36-none-any.whl size=14870 sha256=0857277252f36ec513b4cf43f6b09a16ee39a3c634637ab18783854cc5be2ca4\n",
      "  Stored in directory: /root/.cache/pip/wheels/d4/75/c2/483b0a988fd965b1128c1396a0ffadfb8903bd2bb569220048\n",
      "Successfully built alpha-vantage\n",
      "Installing collected packages: alpha-vantage\n",
      "Successfully installed alpha-vantage-2.1.3\n"
     ]
    }
   ],
   "source": [
    "!pip install alpha_vantage\n",
    "from alpha_vantage.techindicators import TechIndicators\n",
    "\n",
    "ti = TechIndicators(key='C0HVAMH8LDSFTMJ6', output_format='pandas')\n",
    "# TAMW58CFBZX0BBXF\n",
    "# DBUM6SFWS3Z8QF6F\n",
    "# 2WVD9YSHMLUZCD5C\n",
    "# 85VYUKZAALLWU53L\n",
    "# 3SECITSUI1DZ9VF3\n",
    "# IRJLESHOBMAQ7JH4\n",
    "# NSS8JPEMVQS4139X\n",
    "# P69GR2BEW542764E\n",
    "# Y23Q74EDSWB09KR9\n",
    "# WQITV16O3V0PILAO\n",
    "# VTLKZWU0AMHIJLSE\n",
    "# 1E5OQN1100XEDWZ7\n",
    "# WXB247GAL1UQ3MNL\n",
    "# WHV61TLB8RN9SUOS\n",
    "# C0HVAMH8LDSFTMJ6\n",
    "\n",
    "# data, meta = ti.get_rsi(symbol=ticker, interval='daily', time_period=5, series_type='close')"
   ]
  },
  {
   "cell_type": "code",
   "execution_count": 0,
   "metadata": {
    "colab": {},
    "colab_type": "code",
    "id": "H27byvTeOGhn"
   },
   "outputs": [],
   "source": [
    "from scipy.stats import zscore\n",
    "\n",
    "#df_tech_indicators = pd.DataFrame()\n",
    "done = [\"MMM\", \"AXP\", \"AAPL\", \"BA\", \"CVX\", \"CSCO\", \"KO\", \"XOM\", \"GS\", \"HD\", \"IBM\", \"INTC\", \"JNJ\", \"JPM\", \"MCD\", \"MRK\", \"MSFT\", \"NKE\", \"PFE\", \"PG\", \"UTX\", \"UNH\", \"VZ\", \"V\", \"WMT\"]\n",
    "\n",
    "for ticker in tickers:\n",
    "    if(ticker in done): continue\n",
    "    print(\"Company:\", ticker)\n",
    "\n",
    "    rsi, meta = ti.get_rsi(symbol=ticker, interval='daily', time_period=10, series_type='close')\n",
    "    df_xcompany_rsi = rsi.reset_index()\n",
    "\n",
    "    macd, meta = ti.get_macd(symbol=ticker, interval='daily', series_type='close',\\\n",
    "                            fastperiod=12, slowperiod=26, signalperiod=9)\n",
    "    df_xcompany_macd = macd.reset_index()\n",
    "\n",
    "    bbands, meta = ti.get_bbands(symbol=ticker, interval='daily', time_period=10, series_type='close')\n",
    "    df_xcompany_bbands = bbands.reset_index()\n",
    "\n",
    "    print(df_xcompany_rsi.shape, df_xcompany_macd.shape, df_xcompany_bbands.shape)\n",
    "    df_xcompany = df_xcompany_rsi.join(df_xcompany_macd.set_index('date'), on='date', how='inner')\n",
    "    df_xcompany = df_xcompany.join(df_xcompany_bbands.set_index('date'), on='date', how='inner')\n",
    "    print(df_xcompany.shape)\n",
    "\n",
    "    df_xcompany.rename(columns={'date':'Date'}, inplace=True)\n",
    "    df_xcompany['Ticker'] = ticker\n",
    "    df_xcompany['Date'] = df_xcompany['Date'].dt.strftime('%Y-%m-%d')\n",
    "\n",
    "    # df_xcompany[[\"RSI\", \"MACD_Hist\", \"MACD_Signal\", \"MACD\", \"Real Middle Band\", \"Real Lower Band\", \"Real Upper Band\"]] = df_xcompany[[\"RSI\", \"MACD_Hist\", \"MACD_Signal\", \"MACD\", \"Real Middle Band\", \"Real Lower Band\", \"Real Upper Band\"]].apply(zscore)\n",
    "\n",
    "\n",
    "    df_tech_indicators = pd.concat([df_tech_indicators, df_xcompany])\n",
    "    "
   ]
  },
  {
   "cell_type": "code",
   "execution_count": 0,
   "metadata": {
    "colab": {},
    "colab_type": "code",
    "id": "72NwrLr27TMd"
   },
   "outputs": [],
   "source": [
    "df_tech_indicators[\"Ticker\"].value_counts()"
   ]
  },
  {
   "cell_type": "code",
   "execution_count": 0,
   "metadata": {
    "colab": {},
    "colab_type": "code",
    "id": "rJGxiaX4Il58"
   },
   "outputs": [],
   "source": [
    "# df_tech_indicators = df_tech_indicators[df_tech_indicators[\"Ticker\"] != \"MSFT\"]\n",
    "# df_tech_indicators = df_tech_indicators[df_tech_indicators[\"Ticker\"] != \"NKE\"]"
   ]
  },
  {
   "cell_type": "code",
   "execution_count": 0,
   "metadata": {
    "colab": {},
    "colab_type": "code",
    "id": "JmIuANJG7TRP"
   },
   "outputs": [],
   "source": []
  },
  {
   "cell_type": "code",
   "execution_count": 0,
   "metadata": {
    "colab": {},
    "colab_type": "code",
    "id": "LvapUZiPd0pN"
   },
   "outputs": [],
   "source": [
    "df_tech_indicators = df_tech_indicators[(df_tech_indicators['Date']>='2010-01-01')&(df_tech_indicators['Date']<='2019-12-31')]\n",
    "df_tech_indicators = df_tech_indicators.reset_index(drop=True)"
   ]
  },
  {
   "cell_type": "code",
   "execution_count": 0,
   "metadata": {
    "colab": {},
    "colab_type": "code",
    "id": "y3bQl7ODOJPL"
   },
   "outputs": [],
   "source": [
    "df_tech_indicators.shape"
   ]
  },
  {
   "cell_type": "markdown",
   "metadata": {
    "colab_type": "text",
    "id": "ZCG4xXvYsfis"
   },
   "source": [
    "# Sector each Ticker belongs to"
   ]
  },
  {
   "cell_type": "code",
   "execution_count": 0,
   "metadata": {
    "colab": {},
    "colab_type": "code",
    "id": "Je6T0rFasexA"
   },
   "outputs": [],
   "source": [
    "downloaded = drive.CreateFile({'id':'128VZNqFRlYf17EahMTWaxdVE2MLeGW_g'}) # https://drive.google.com/file/d/128VZNqFRlYf17EahMTWaxdVE2MLeGW_g/view?usp=sharing\n",
    "downloaded.GetContentFile('cik_mapper.csv')\n",
    "cik_mapper = pd.read_csv('cik_mapper.csv') "
   ]
  },
  {
   "cell_type": "code",
   "execution_count": 0,
   "metadata": {
    "colab": {},
    "colab_type": "code",
    "id": "6jygCTT7swRP"
   },
   "outputs": [],
   "source": [
    "cik_mapper = cik_mapper[['Symbol', 'GICS Sector']]\n",
    "cik_mapper.columns = ['Ticker', \"Sector\"]"
   ]
  },
  {
   "cell_type": "code",
   "execution_count": 0,
   "metadata": {
    "colab": {
     "base_uri": "https://localhost:8080/",
     "height": 419
    },
    "colab_type": "code",
    "id": "YcAvAKRGt-mV",
    "outputId": "fbd2ff11-5711-4f96-ea23-3799b160ca88"
   },
   "outputs": [
    {
     "data": {
      "text/html": [
       "<div>\n",
       "<style scoped>\n",
       "    .dataframe tbody tr th:only-of-type {\n",
       "        vertical-align: middle;\n",
       "    }\n",
       "\n",
       "    .dataframe tbody tr th {\n",
       "        vertical-align: top;\n",
       "    }\n",
       "\n",
       "    .dataframe thead th {\n",
       "        text-align: right;\n",
       "    }\n",
       "</style>\n",
       "<table border=\"1\" class=\"dataframe\">\n",
       "  <thead>\n",
       "    <tr style=\"text-align: right;\">\n",
       "      <th></th>\n",
       "      <th>Ticker</th>\n",
       "      <th>Date</th>\n",
       "      <th>Predictions_8k</th>\n",
       "      <th>Predictions_10kq</th>\n",
       "      <th>Predictions_tweets</th>\n",
       "      <th>Predictions_news</th>\n",
       "      <th>Month</th>\n",
       "      <th>Day_of_week</th>\n",
       "    </tr>\n",
       "  </thead>\n",
       "  <tbody>\n",
       "    <tr>\n",
       "      <th>0</th>\n",
       "      <td>JPM</td>\n",
       "      <td>2010-01-04</td>\n",
       "      <td>0</td>\n",
       "      <td>0.0</td>\n",
       "      <td>1.0</td>\n",
       "      <td>0.0</td>\n",
       "      <td>1</td>\n",
       "      <td>0</td>\n",
       "    </tr>\n",
       "    <tr>\n",
       "      <th>1</th>\n",
       "      <td>JPM</td>\n",
       "      <td>2010-01-05</td>\n",
       "      <td>0</td>\n",
       "      <td>0.0</td>\n",
       "      <td>-1.0</td>\n",
       "      <td>0.0</td>\n",
       "      <td>1</td>\n",
       "      <td>1</td>\n",
       "    </tr>\n",
       "    <tr>\n",
       "      <th>2</th>\n",
       "      <td>JPM</td>\n",
       "      <td>2010-01-06</td>\n",
       "      <td>0</td>\n",
       "      <td>0.0</td>\n",
       "      <td>1.0</td>\n",
       "      <td>0.0</td>\n",
       "      <td>1</td>\n",
       "      <td>2</td>\n",
       "    </tr>\n",
       "    <tr>\n",
       "      <th>3</th>\n",
       "      <td>JPM</td>\n",
       "      <td>2010-01-07</td>\n",
       "      <td>0</td>\n",
       "      <td>0.0</td>\n",
       "      <td>-1.0</td>\n",
       "      <td>0.0</td>\n",
       "      <td>1</td>\n",
       "      <td>3</td>\n",
       "    </tr>\n",
       "    <tr>\n",
       "      <th>4</th>\n",
       "      <td>JPM</td>\n",
       "      <td>2010-01-08</td>\n",
       "      <td>0</td>\n",
       "      <td>0.0</td>\n",
       "      <td>-1.0</td>\n",
       "      <td>0.0</td>\n",
       "      <td>1</td>\n",
       "      <td>4</td>\n",
       "    </tr>\n",
       "    <tr>\n",
       "      <th>...</th>\n",
       "      <td>...</td>\n",
       "      <td>...</td>\n",
       "      <td>...</td>\n",
       "      <td>...</td>\n",
       "      <td>...</td>\n",
       "      <td>...</td>\n",
       "      <td>...</td>\n",
       "      <td>...</td>\n",
       "    </tr>\n",
       "    <tr>\n",
       "      <th>50320</th>\n",
       "      <td>UTX</td>\n",
       "      <td>2017-12-22</td>\n",
       "      <td>0</td>\n",
       "      <td>1.0</td>\n",
       "      <td>1.0</td>\n",
       "      <td>0.0</td>\n",
       "      <td>12</td>\n",
       "      <td>4</td>\n",
       "    </tr>\n",
       "    <tr>\n",
       "      <th>50321</th>\n",
       "      <td>UTX</td>\n",
       "      <td>2017-12-26</td>\n",
       "      <td>0</td>\n",
       "      <td>1.0</td>\n",
       "      <td>1.0</td>\n",
       "      <td>0.0</td>\n",
       "      <td>12</td>\n",
       "      <td>1</td>\n",
       "    </tr>\n",
       "    <tr>\n",
       "      <th>50322</th>\n",
       "      <td>UTX</td>\n",
       "      <td>2017-12-27</td>\n",
       "      <td>0</td>\n",
       "      <td>1.0</td>\n",
       "      <td>1.0</td>\n",
       "      <td>0.0</td>\n",
       "      <td>12</td>\n",
       "      <td>2</td>\n",
       "    </tr>\n",
       "    <tr>\n",
       "      <th>50323</th>\n",
       "      <td>UTX</td>\n",
       "      <td>2017-12-28</td>\n",
       "      <td>0</td>\n",
       "      <td>1.0</td>\n",
       "      <td>1.0</td>\n",
       "      <td>0.0</td>\n",
       "      <td>12</td>\n",
       "      <td>3</td>\n",
       "    </tr>\n",
       "    <tr>\n",
       "      <th>50324</th>\n",
       "      <td>UTX</td>\n",
       "      <td>2017-12-29</td>\n",
       "      <td>0</td>\n",
       "      <td>1.0</td>\n",
       "      <td>1.0</td>\n",
       "      <td>0.0</td>\n",
       "      <td>12</td>\n",
       "      <td>4</td>\n",
       "    </tr>\n",
       "  </tbody>\n",
       "</table>\n",
       "<p>50325 rows × 8 columns</p>\n",
       "</div>"
      ],
      "text/plain": [
       "      Ticker        Date Predictions_8k  ...  Predictions_news  Month  Day_of_week\n",
       "0        JPM  2010-01-04              0  ...               0.0      1            0\n",
       "1        JPM  2010-01-05              0  ...               0.0      1            1\n",
       "2        JPM  2010-01-06              0  ...               0.0      1            2\n",
       "3        JPM  2010-01-07              0  ...               0.0      1            3\n",
       "4        JPM  2010-01-08              0  ...               0.0      1            4\n",
       "...      ...         ...            ...  ...               ...    ...          ...\n",
       "50320    UTX  2017-12-22              0  ...               0.0     12            4\n",
       "50321    UTX  2017-12-26              0  ...               0.0     12            1\n",
       "50322    UTX  2017-12-27              0  ...               0.0     12            2\n",
       "50323    UTX  2017-12-28              0  ...               0.0     12            3\n",
       "50324    UTX  2017-12-29              0  ...               0.0     12            4\n",
       "\n",
       "[50325 rows x 8 columns]"
      ]
     },
     "execution_count": 32,
     "metadata": {
      "tags": []
     },
     "output_type": "execute_result"
    }
   ],
   "source": [
    "df_train"
   ]
  },
  {
   "cell_type": "markdown",
   "metadata": {
    "colab_type": "text",
    "id": "5t3Zua-VQ-B2"
   },
   "source": [
    "# Join labels and tech indicators\n"
   ]
  },
  {
   "cell_type": "code",
   "execution_count": 0,
   "metadata": {
    "colab": {},
    "colab_type": "code",
    "id": "H12Z6a1MQ_6u"
   },
   "outputs": [],
   "source": [
    "df_train = df_train.join(df_tech_indicators.set_index(['Ticker', 'Date']), on=['Ticker', 'Date'], how='left')\n",
    "df_test = df_test.join(df_tech_indicators.set_index(['Ticker', 'Date']), on=['Ticker', 'Date'], how='left')"
   ]
  },
  {
   "cell_type": "code",
   "execution_count": 0,
   "metadata": {
    "colab": {},
    "colab_type": "code",
    "id": "NIKG-PNLuBgP"
   },
   "outputs": [],
   "source": [
    "df_train = df_train.join(cik_mapper.set_index(['Ticker']), on=['Ticker'], how='inner')\n",
    "df_test = df_test.join(cik_mapper.set_index(['Ticker']), on=['Ticker'], how='inner')"
   ]
  },
  {
   "cell_type": "code",
   "execution_count": 0,
   "metadata": {
    "colab": {},
    "colab_type": "code",
    "id": "VO7yUSmnRi-w"
   },
   "outputs": [],
   "source": [
    "df_train = df_train.join(y_train.set_index(['Ticker', 'Date']), on=['Ticker', 'Date'], how='left')\n",
    "df_test = df_test.join(y_test.set_index(['Ticker', 'Date']), on=['Ticker', 'Date'], how='left')"
   ]
  },
  {
   "cell_type": "code",
   "execution_count": 0,
   "metadata": {
    "colab": {
     "base_uri": "https://localhost:8080/",
     "height": 340
    },
    "colab_type": "code",
    "id": "97c2NyCSowEK",
    "outputId": "12ff05e0-dc64-445c-cd6d-e10b30b285d3"
   },
   "outputs": [
    {
     "data": {
      "text/plain": [
       "Ticker                False\n",
       "Date                  False\n",
       "Predictions_8k        False\n",
       "Predictions_10kq      False\n",
       "Predictions_tweets    False\n",
       "Predictions_news      False\n",
       "Month                 False\n",
       "Day_of_week           False\n",
       "MACD                  False\n",
       "MACD_Hist             False\n",
       "MACD_Signal           False\n",
       "RSI                   False\n",
       "Real Lower Band       False\n",
       "Real Middle Band      False\n",
       "Real Upper Band       False\n",
       "Sector                False\n",
       "Label                 False\n",
       "SMA_label             False\n",
       "dtype: bool"
      ]
     },
     "execution_count": 50,
     "metadata": {
      "tags": []
     },
     "output_type": "execute_result"
    }
   ],
   "source": [
    "df_test.isnull().any()"
   ]
  },
  {
   "cell_type": "code",
   "execution_count": 0,
   "metadata": {
    "colab": {},
    "colab_type": "code",
    "id": "8dgRvcZT_eCO"
   },
   "outputs": [],
   "source": [
    "df_train.to_csv('train_25tickers.csv', index=False)\n",
    "df_test.to_csv('test_25tickers.csv', index=False)\n",
    "\n",
    "\n",
    "from google.colab import files\n",
    "files.download('train_25tickers.csv')\n",
    "files.download('test_25tickers.csv')"
   ]
  },
  {
   "cell_type": "markdown",
   "metadata": {
    "colab_type": "text",
    "id": "KyVYBZM45JOV"
   },
   "source": [
    "## Form AAPL data with Amazon Reviews"
   ]
  },
  {
   "cell_type": "code",
   "execution_count": 0,
   "metadata": {
    "colab": {},
    "colab_type": "code",
    "id": "9_9RJwYX5R9b"
   },
   "outputs": [],
   "source": [
    "df_train_AAPL = df_train[df_train.Ticker=='AAPL']\n",
    "df_test_AAPL = df_test[df_test.Ticker=='AAPL']"
   ]
  },
  {
   "cell_type": "code",
   "execution_count": 0,
   "metadata": {
    "colab": {},
    "colab_type": "code",
    "id": "Bfss5mBHmmNu"
   },
   "outputs": [],
   "source": [
    "# col_names = ['Ticker', 'Dates', 'Predictions']\n",
    "# 'Dates', 'Predictions', 'Ticker'\n",
    "# AmazonReviews_train_AAPL = AmazonReviews_train_AAPL[col_names]\n",
    "# AmazonReviews_test_AAPL = AmazonReviews_test_AAPL[col_names]\n",
    "AmazonReviews_train_AAPL.columns = ['Date', 'Predictions_amxn', 'Ticker']\n",
    "AmazonReviews_test_AAPL.columns = ['Date', 'Predictions_amxn', 'Ticker']\n",
    "\n",
    "AmazonReviews_train_AAPL.Date = [date[:10] for date in AmazonReviews_train_AAPL.Date]\n",
    "AmazonReviews_test_AAPL.Date = [date[:10] for date in AmazonReviews_test_AAPL.Date]\n",
    "\n",
    "df_train_AAPL = df_train_AAPL.join(AmazonReviews_train_AAPL.set_index([\"Ticker\",\"Date\"]), how='left', on=[\"Ticker\",\"Date\"])\n",
    "df_test_AAPL = df_test_AAPL.join(AmazonReviews_test_AAPL.set_index([\"Ticker\",\"Date\"]), how='left', on=[\"Ticker\",\"Date\"])\n",
    "\n"
   ]
  },
  {
   "cell_type": "code",
   "execution_count": 0,
   "metadata": {
    "colab": {},
    "colab_type": "code",
    "id": "k7h1Igt1uT35"
   },
   "outputs": [],
   "source": [
    "df_train_AAPL = df_train_AAPL.reset_index(drop=True)\n",
    "df_test_AAPL = df_test_AAPL.reset_index(drop=True)"
   ]
  },
  {
   "cell_type": "code",
   "execution_count": 0,
   "metadata": {
    "colab": {},
    "colab_type": "code",
    "id": "iUmUF0zc9KQQ"
   },
   "outputs": [],
   "source": [
    "df_train_AAPL.to_csv('train_AAPL.csv', index=False)\n",
    "df_test_AAPL.to_csv('test_AAPL.csv', index=False)\n",
    "\n",
    "\n",
    "from google.colab import files\n",
    "files.download('train_AAPL.csv')\n",
    "files.download('test_AAPL.csv')"
   ]
  },
  {
   "cell_type": "code",
   "execution_count": 0,
   "metadata": {
    "colab": {},
    "colab_type": "code",
    "id": "wVRZnkXdo-q-"
   },
   "outputs": [],
   "source": []
  }
 ],
 "metadata": {
  "colab": {
   "collapsed_sections": [
    "bXwPTFRLMpKq"
   ],
   "name": "Join_Sources.ipynb",
   "provenance": []
  },
  "kernelspec": {
   "display_name": "Python 3",
   "language": "python",
   "name": "python3"
  },
  "language_info": {
   "codemirror_mode": {
    "name": "ipython",
    "version": 3
   },
   "file_extension": ".py",
   "mimetype": "text/x-python",
   "name": "python",
   "nbconvert_exporter": "python",
   "pygments_lexer": "ipython3",
   "version": "3.7.3"
  }
 },
 "nbformat": 4,
 "nbformat_minor": 1
}
