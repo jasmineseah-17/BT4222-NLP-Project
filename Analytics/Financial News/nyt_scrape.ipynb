{
 "cells": [
  {
   "cell_type": "code",
   "execution_count": 12,
   "metadata": {},
   "outputs": [],
   "source": [
    "from yanytapi import SearchAPI\n",
    "import pandas as pd"
   ]
  },
  {
   "cell_type": "markdown",
   "metadata": {},
   "source": [
    "### Test it out to see workings of API"
   ]
  },
  {
   "cell_type": "code",
   "execution_count": 13,
   "metadata": {},
   "outputs": [],
   "source": [
    "api = SearchAPI(\"0G2tWlsIwUmXphgZAiniq0fPah06ZFwU\")"
   ]
  },
  {
   "cell_type": "code",
   "execution_count": 14,
   "metadata": {},
   "outputs": [],
   "source": [
    "articles = api.search(\"Obama\", fq={\"headline\": \"Obama\",\"source\": [\"Reuters\",\"AP\",\"The New York Times\"]},\n",
    "                      begin_date=\"20170101\",\n",
    "                      end_date = \"20200101\",\n",
    "                      facet_field=[\"source\", \"day_of_week\"],\n",
    "                      facet_filter=True)"
   ]
  },
  {
   "cell_type": "code",
   "execution_count": 15,
   "metadata": {},
   "outputs": [
    {
     "data": {
      "text/plain": [
       "<yanytapi.search.Results at 0x1dd6a805a58>"
      ]
     },
     "execution_count": 15,
     "metadata": {},
     "output_type": "execute_result"
    }
   ],
   "source": [
    "articles"
   ]
  },
  {
   "cell_type": "code",
   "execution_count": 16,
   "metadata": {},
   "outputs": [
    {
     "name": "stdout",
     "output_type": "stream",
     "text": [
      "<class 'yanytapi.search.Doc'>\n",
      "2019-12-25T00:00:06+0000 In Praise of Barack Obama, Music Critic Barack Obama, Music Critic The former president’s annual year-end playlist never fails to delight. 570 930\n",
      "----------\n"
     ]
    }
   ],
   "source": [
    "for item in articles:\n",
    "    print(type(item))\n",
    "    print(item.pub_date, item.headline[\"main\"], item.headline[\"print_headline\"], item.abstract, item.meta.hits, item.word_count)\n",
    "    \n",
    "    print(\"----------\")\n",
    "    #print(len(item.abstract))\n",
    "    break"
   ]
  },
  {
   "cell_type": "code",
   "execution_count": 18,
   "metadata": {},
   "outputs": [],
   "source": [
    "#test = [[\"Obama\", item.pub_date, item.headline[\"main\"], item.headline[\"print_headline\"], item.abstract, item.meta.hits, item.word_count] for item in articles]"
   ]
  },
  {
   "cell_type": "code",
   "execution_count": 19,
   "metadata": {},
   "outputs": [],
   "source": [
    "colnames = [\"company\", \"Date\", \"main_headline\", \"print_headline\", \"absract\", \"num_hits\", \"word_count\"]\n",
    "test_df = pd.DataFrame(columns = colnames)"
   ]
  },
  {
   "cell_type": "code",
   "execution_count": 21,
   "metadata": {},
   "outputs": [],
   "source": [
    "for item in articles:\n",
    "    this_row = [\"Obama\", item.pub_date, item.headline[\"main\"], item.headline[\"print_headline\"], item.abstract, item.meta.hits, item.word_count]\n",
    "    test_df = test_df.append(pd.Series(this_row, index = colnames), ignore_index=True)"
   ]
  },
  {
   "cell_type": "code",
   "execution_count": null,
   "metadata": {},
   "outputs": [],
   "source": [
    "#test_df.append(pd.Series(test[0], index = colnames), ignore_index=True)"
   ]
  },
  {
   "cell_type": "code",
   "execution_count": null,
   "metadata": {},
   "outputs": [],
   "source": [
    "# for i in range(len(test)):\n",
    "#     test_df = test_df.append(pd.Series(test[i], index = colnames), ignore_index=True)"
   ]
  },
  {
   "cell_type": "code",
   "execution_count": 23,
   "metadata": {},
   "outputs": [
    {
     "data": {
      "text/plain": [
       "559"
      ]
     },
     "execution_count": 23,
     "metadata": {},
     "output_type": "execute_result"
    }
   ],
   "source": [
    "#len(test_df)"
   ]
  },
  {
   "cell_type": "code",
   "execution_count": null,
   "metadata": {},
   "outputs": [],
   "source": [
    "#test_df.to_csv(\"../../Raw Data/Financioal News/obama.csv\")"
   ]
  },
  {
   "cell_type": "markdown",
   "metadata": {},
   "source": [
    "### Start extraction below - will output whole df to csv"
   ]
  },
  {
   "cell_type": "code",
   "execution_count": 37,
   "metadata": {},
   "outputs": [],
   "source": [
    "search_terms = [\"Dow\",\"3M\", \"American Express\", \"Apple\", \"Boeing\", \"Caterpillar\", \"Chevron\", \"Cisco\", \"Coca Cola\", \"Walt Disney\", \n",
    "                \"DowDupont\", \"ExxonMobil\", \"General Electric\", \"Goldman Sachs\", \"The Home Depot\", \"IBM\", \"Intel\",\n",
    "               \"Johnson & Johnson\", \"JPMorgan\", \"McDonald's\", \"Merck\", \"Microsoft\", \"Nike\", \"Pfizer\", \"Procter & Gamble\",\n",
    "               \"Travelers Companies Inc\", \"United Technologies\", \"Verizon\", \"Visa\", \"Walmart\"]\n",
    "\n",
    "search_terms_dict = {\"Dow\": [\"Dow\", \"DJIA\"], \"3M\": [\"3M\", \"MMM\"], \"AmericanExpress\": [\"American Express\", \"AXP\"], \"Apple\":[\"Apple\", \"AAPL\"],\n",
    "                    \"Boeing\":[\"Boeing\", \"NYSE:BA\"], \"Caterpillar\":[\"Caterpillar\", \"CAT\"], \"Chevron\":[\"Chevron\", \"CVX\"], \"Cisco\":[\"Cisco\", \"CSCO\"],\n",
    "                    \"CocaCola\":[\"Coca Cola\", \"NYSE:KO\"], \"WaltDisney\":[\"Walt Disney\", \"NYSE:DIS\"], \"DowDuPont\":[\"DowDuPont\", \"NYSE:DD\"],\n",
    "                    \"ExxonMobil\":[\"ExxonMobil\", \"Exxon\", \"XOM\"], \"GeneralElectric\":[\"General Electric\", \"GE\"], \"GoldmanSachs\":[\"Goldman Sachs\", \"GS\"],\n",
    "                    \"HomeDepot\": [\"Home Depot\", \"NYSE:HD\"], \"IBM\": [\"IBM\"], \"Intel\":[\"Intel\", \"INTC\"], \"Johnson\":[\"Johnson\", \"JnJ\"],\n",
    "                    \"JPM\": [\"JPM\", \"JP Morgan\", \"JPMorgan\"], \"McD\": [\"McDonald's\", \"MCD\"], \"Merck\":[\"Merck\"], \"Microsoft\":[\"Microsoft\", \"MSFT\"],\n",
    "                    \"Nike\":[\"Nike\"], \"Pfizer\":[\"Pfizer\"], \"ProcterGamble\":[\"PnG\", \"Procter\"], \"TravelersCo\": [\"Travelers Companies\", \"Travelers Co\"],\n",
    "                    \"UnitedTech\":[\"United Technologies\", \"UTX\"], \"UnitedHealth\":[\"UnitedHealth\"], \"Verizon\":[\"Verizon\"], \"Visa\":[\"Visa\"],\n",
    "                    \"WalMart\": [\"WalMart\", \"Wal-Mart\"]}"
   ]
  },
  {
   "cell_type": "code",
   "execution_count": 38,
   "metadata": {},
   "outputs": [
    {
     "name": "stdout",
     "output_type": "stream",
     "text": [
      "Dow :  ['Dow', 'DJIA']\n",
      "3M :  ['3M', 'MMM']\n",
      "AmericanExpress :  ['American Express', 'AXP']\n",
      "Apple :  ['Apple', 'AAPL']\n",
      "Boeing :  ['Boeing', 'NYSE:BA']\n",
      "Caterpillar :  ['Caterpillar', 'CAT']\n",
      "Chevron :  ['Chevron', 'CVX']\n",
      "Cisco :  ['Cisco', 'CSCO']\n",
      "CocaCola :  ['Coca Cola', 'NYSE:KO']\n",
      "WaltDisney :  ['Walt Disney', 'NYSE:DIS']\n",
      "DowDuPont :  ['DowDuPont', 'NYSE:DD']\n",
      "ExxonMobil :  ['ExxonMobil', 'Exxon', 'XOM']\n",
      "GeneralElectric :  ['General Electric', 'GE']\n",
      "GoldmanSachs :  ['Goldman Sachs', 'GS']\n",
      "HomeDepot :  ['Home Depot', 'NYSE:HD']\n",
      "IBM :  ['IBM']\n",
      "Intel :  ['Intel', 'INTC']\n",
      "Johnson :  ['Johnson', 'JnJ']\n",
      "JPM :  ['JPM', 'JP Morgan', 'JPMorgan']\n",
      "McD :  [\"McDonald's\", 'MCD']\n",
      "Merck :  ['Merck']\n",
      "Microsoft :  ['Microsoft', 'MSFT']\n",
      "Nike :  ['Nike']\n",
      "Pfizer :  ['Pfizer']\n",
      "ProcterGamble :  ['PnG', 'Procter']\n",
      "TravelersCo :  ['Travelers Companies', 'Travelers Co']\n",
      "UnitedTech :  ['United Technologies', 'UTX']\n",
      "UnitedHealth :  ['UnitedHealth']\n",
      "Verizon :  ['Verizon']\n",
      "Visa :  ['Visa']\n",
      "WalMart :  ['WalMart', 'Wal-Mart']\n"
     ]
    }
   ],
   "source": [
    "for k, v in search_terms_dict.items():\n",
    "    print(k, \": \", v)"
   ]
  },
  {
   "cell_type": "code",
   "execution_count": 48,
   "metadata": {},
   "outputs": [],
   "source": [
    "colnames = [\"company\", \"Date\", \"main_headline\", \"absract\", \"num_hits\", \"word_count\"]\n"
   ]
  },
  {
   "cell_type": "code",
   "execution_count": 49,
   "metadata": {},
   "outputs": [
    {
     "name": "stdout",
     "output_type": "stream",
     "text": [
      "WalMart\n"
     ]
    }
   ],
   "source": [
    "## loop through all the key-value pairs and store each company data in seperate csv\n",
    "for company_name, keywords in search_terms_dict.items():\n",
    "    if company_name in finished: continue\n",
    "    print(company_name)\n",
    "    this_df = pd.DataFrame(columns = colnames)\n",
    "    \n",
    "    for keyword in keywords:\n",
    "        articles = api.search(keyword, fq={\"headline\": keyword,\"source\": [\"Reuters\",\"The New York Times\"]},\n",
    "                      begin_date=\"20100101\",\n",
    "                      end_date = \"20200101\",\n",
    "                      facet_field=[\"source\", \"day_of_week\"],\n",
    "                      facet_filter=True)\n",
    "        \n",
    "        \n",
    "        for item in articles:\n",
    "            this_row = [company_name, item.pub_date, item.headline[\"main\"], item.abstract, item.meta.hits, item.word_count]\n",
    "            this_df = this_df.append(pd.Series(this_row, index = colnames), ignore_index=True)\n",
    "    \n",
    "        file_path = \"../../Raw Data/Financial News\" + company_name + \".csv\"\n",
    "        this_df.to_csv(file_path)"
   ]
  },
  {
   "cell_type": "code",
   "execution_count": 47,
   "metadata": {},
   "outputs": [],
   "source": [
    "finished = [\"Dow\", \"3M\", \"AmericanExpress\", \"Apple\", \"Boeing\", \"Caterpillar\", \"Chevron\", \"Cisco\", \"CocaCola\", \"WaltDisney\",\n",
    "           \"DowDuPont\", \"ExxonMobil\", \"GeneralElectric\", \"GoldmanSachs\", \"HomeDepot\", \"IBM\", \"Intel\", \"JPM\", \"McD\", \"Merck\",\n",
    "           \"Microsoft\", \"Nike\", \"Pfizer\", \"Johnson\", \"ProcterGamble\", \"TravelersCo\", \"UnitedTech\", \"UnitedHealth\", \"Verizon\", \n",
    "           \"Visa\"]"
   ]
  },
  {
   "cell_type": "code",
   "execution_count": null,
   "metadata": {},
   "outputs": [],
   "source": []
  }
 ],
 "metadata": {
  "kernelspec": {
   "display_name": "Python 3",
   "language": "python",
   "name": "python3"
  },
  "language_info": {
   "codemirror_mode": {
    "name": "ipython",
    "version": 3
   },
   "file_extension": ".py",
   "mimetype": "text/x-python",
   "name": "python",
   "nbconvert_exporter": "python",
   "pygments_lexer": "ipython3",
   "version": "3.6.6"
  }
 },
 "nbformat": 4,
 "nbformat_minor": 2
}
